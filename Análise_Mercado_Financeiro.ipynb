{
 "cells": [
  {
   "cell_type": "code",
   "execution_count": 23,
   "metadata": {},
   "outputs": [
    {
     "data": {
      "text/html": [
       "        <script type=\"text/javascript\">\n",
       "        window.PlotlyConfig = {MathJaxConfig: 'local'};\n",
       "        if (window.MathJax) {MathJax.Hub.Config({SVG: {font: \"STIX-Web\"}});}\n",
       "        if (typeof require !== 'undefined') {\n",
       "        require.undef(\"plotly\");\n",
       "        requirejs.config({\n",
       "            paths: {\n",
       "                'plotly': ['https://cdn.plot.ly/plotly-2.6.3.min']\n",
       "            }\n",
       "        });\n",
       "        require(['plotly'], function(Plotly) {\n",
       "            window._Plotly = Plotly;\n",
       "        });\n",
       "        }\n",
       "        </script>\n",
       "        "
      ]
     },
     "metadata": {},
     "output_type": "display_data"
    },
    {
     "data": {
      "text/html": [
       "        <script type=\"text/javascript\">\n",
       "        window.PlotlyConfig = {MathJaxConfig: 'local'};\n",
       "        if (window.MathJax) {MathJax.Hub.Config({SVG: {font: \"STIX-Web\"}});}\n",
       "        if (typeof require !== 'undefined') {\n",
       "        require.undef(\"plotly\");\n",
       "        requirejs.config({\n",
       "            paths: {\n",
       "                'plotly': ['https://cdn.plot.ly/plotly-2.6.3.min']\n",
       "            }\n",
       "        });\n",
       "        require(['plotly'], function(Plotly) {\n",
       "            window._Plotly = Plotly;\n",
       "        });\n",
       "        }\n",
       "        </script>\n",
       "        "
      ]
     },
     "metadata": {},
     "output_type": "display_data"
    }
   ],
   "source": [
    "import pandas as pd\n",
    "import numpy as np\n",
    "import chart_studio.plotly as py\n",
    "import cufflinks as cf\n",
    "import seaborn as sns\n",
    "import plotly.express as px\n",
    "%matplotlib inline\n",
    "import plotly.graph_objects as go\n",
    "\n",
    "from plotly.offline import download_plotlyjs, init_notebook_mode, plot, iplot\n",
    "init_notebook_mode(connected=True)\n",
    "cf.go_offline()"
   ]
  },
  {
   "cell_type": "markdown",
   "metadata": {},
   "source": [
    "## Limpando Tabela"
   ]
  },
  {
   "cell_type": "code",
   "execution_count": 24,
   "metadata": {},
   "outputs": [],
   "source": [
    "sheet_df_dictonary = pd.read_excel('Edicao_03_RaioX_-_Base_de_Dados.xlsx', sheet_name=['Rótulo'], skiprows=0)\n",
    "Rótulo = sheet_df_dictonary['Rótulo']\n",
    "\n",
    "# Deleted columns p14a, p14b, p14c, p14d, p14e, p14f, p14g, p14h, xp14, p15a, p15b, p15c, p15d, p15e, p15f, p15g, xp15, p38a, p38b, p38c, p38d, p38e, p38f, p38g, p38h, p38i, xp38, p18a, p18b, p18c, p18d, p18e, p18f, p18g, p18h, p18i, p18j, p18k, p18l, xp18, p39, p41a, p41b, p41c, BLOCO IV – BIG THREE, p20, p21, p22, BLOCO V - NÃO INVESTIDORES, p23a, p23b, p23c, p23d, p23e, p23f, p23g, p23h, xp23, p24a, p24b, p24c, p24d, p24e, p24f, p24g, p24h, xp24, p25, p40a, p40b, p40c, p40d, p40e, p40f, p40g, p40h, xp40, p26a, p26b, p26c, p26d, p26e, p26f, p26g, p26h, p26i, p26j, p26k, p26l, p26m, xp26, pea, xpea, p27, p28a, p28b, p28c, p28d, p29a, p29b, p29c, p29d, p29e, p29f, p29g, p29h, xp29, p30, p31, p29aa, p29ab, p29ac, p29ad, p29ae, p29af, p29ag, xp29a, p30a, p31a, BLOCO VII - PERFIL, p33, estcivil, nfilhos, idaa, idab, idac, idad, idae, idaf, idag, idah, idai, idaj, carro, empreg, maqlav, dvd, banhe, gelad, freezer, comput, lavlou, microon, motocic, secadora, agua, rua, escolac, escola, renda, rendaf, CODIGO, ponto, grade, ciente, classe2, rclasse2, PORTE, Meso, micro, METROP, REGIAO, PESOE from Rótulo\n",
    "Rótulo.drop(['p14a', 'p14b', 'p14c', 'p14d', 'p14e', 'p14f', 'p14g', 'p14h', 'xp14', 'p15a', 'p15b', 'p15c', 'p15d', 'p15e', 'p15f', 'p15g', 'xp15', 'p38b', 'p38c', 'p38d', 'p38e', 'p38f', 'p38g', 'p38h', 'p38i', 'xp38', 'p18a', 'p18b', 'p18c', 'p18d', 'p18e', 'p18f', 'p18g', 'p18h', 'p18i', 'p18j', 'p18k', 'p18l', 'xp18', 'p41a', 'p41b', 'p41c', 'BLOCO IV – BIG THREE', 'p20', 'p21', 'p22', 'BLOCO V - NÃO INVESTIDORES', 'p23a', 'p23b', 'p23c', 'p23d', 'p23e', 'p23f', 'p23g', 'p23h', 'xp23', 'p24b', 'p24c', 'p24d', 'p24e', 'p24f', 'p24g', 'p24h', 'xp24', 'p25', 'p40a', 'p40b', 'p40c', 'p40d', 'p40e', 'p40f', 'p40g', 'p40h', 'xp40', 'p26a', 'p26b', 'p26c', 'p26d', 'p26e', 'p26f', 'p26g', 'p26h', 'p26i', 'p26j', 'p26k', 'p26l', 'p26m', 'xp26', 'pea', 'xpea', 'p27', 'p28a', 'p28b', 'p28c', 'p28d', 'p29a', 'p29b', 'p29c', 'p29d', 'p29e', 'p29f', 'p29g', 'p29h', 'xp29', 'p30', 'p31', 'p29aa', 'p29ab', 'p29ac', 'p29ad', 'p29ae', 'p29af', 'p29ag', 'xp29a', 'p30a', 'p31a', 'BLOCO VII - PERFIL', 'p33', 'estcivil', 'nfilhos', 'idaa', 'idab', 'idac', 'idad', 'idae', 'idaf', 'idag', 'idah', 'idai', 'idaj', 'carro', 'empreg', 'maqlav', 'dvd', 'banhe', 'gelad', 'freezer', 'comput', 'lavlou', 'microon', 'motocic', 'secadora', 'agua', 'rua', 'escolac', 'escola', 'renda', 'rendaf', 'CODIGO', 'ponto', 'grade', 'ciente', 'classe2', 'rclasse2', 'PORTE', 'Meso', 'micro', 'METROP', 'REGIAO', 'PESOE'], axis=1, inplace=True)\n",
    "\n",
    "# Deleted columns p11a, p11b, p11c, p11d, p11e, p11f, p11g, p11h, p11i, p11j, p11k, p11l, p11m, p11n, p11o, p11p, p11q, sorteio, p36a, p36b, p36c, p36d, p36e, p36f, p36g, p36h, xp36a, xp36b, p37, BLOCO III - INVESTIDORES from Rótulo\n",
    "Rótulo.drop(['p11a', 'p11b', 'p11c', 'p11d', 'p11e', 'p11f', 'p11g', 'p11h', 'p11i', 'p11j', 'p11k', 'p11l', 'p11m', 'p11n', 'p11o', 'p11p', 'p11q', 'sorteio', 'p36a', 'p36b', 'p36c', 'p36d', 'p36e', 'p36f', 'p36g', 'p36h', 'xp36a', 'xp36b', 'p37', 'BLOCO III - INVESTIDORES'], axis=1, inplace=True)\n",
    "\n",
    "# Deleted columns vstart, vend, HORAINI, HORAFIM, DUR from Rótulo\n",
    "Rótulo.drop(['vstart', 'vend', 'HORAINI', 'HORAFIM', 'DUR'], axis=1, inplace=True)\n",
    "\n",
    "# Deleted columns nquest, pf1, pf2a, pf2b, pf2c from Rótulo\n",
    "Rótulo.drop(['nquest', 'pf1', 'pf2a', 'pf2b', 'pf2c'], axis=1, inplace=True)\n",
    "\n",
    "# Deleted column BLOCO II – O BRASILEIRO E O DINHEIRO from Rótulo\n",
    "Rótulo.drop(['BLOCO II – O BRASILEIRO E O DINHEIRO'], axis=1, inplace=True)\n",
    "\n",
    "# Deleted columns p1a, p1b, p1c, p1d, p1e, p1f, p1g, p1h, xp1, p2a, p2b, p2c, p2d, p2e, p2f, p2g, p2h, p2i, p2j, p2k, xp2, p3a, p3b, p3c, p3d, p3e, p3f, p3g, p3h, p3i, p3j, p3k, xp3, p34, p5, xp5, p6, xp6, p7a, p7b, p7c, p7d, p7e, p7f, p7g, p7h, p7i, p7j, p7k, p7l, p7m, xp7outa, xp7outb, xp7outc, xp7outd, xp7oute, p8a, p8b, p8c, p8d, p8e, p8f, p8g, p8h, p8i, p8j, p8k from Rótulo\n",
    "Rótulo.drop(['p1a', 'p1b', 'p1c', 'p1d', 'p1e', 'p1f', 'p1g', 'p1h', 'xp1', 'p2a', 'p2b', 'p2c', 'p2d', 'p2e', 'p2f', 'p2g', 'p2h', 'p2i', 'p2j', 'p2k', 'xp2', 'p3a', 'p3b', 'p3c', 'p3d', 'p3e', 'p3f', 'p3g', 'p3h', 'p3i', 'p3j', 'p3k', 'xp3', 'p34', 'p5', 'xp5', 'p6', 'xp6', 'p7a', 'p7b', 'p7c', 'p7d', 'p7e', 'p7f', 'p7g', 'p7h', 'p7i', 'p7j', 'p7k', 'p7l', 'p7m', 'xp7outa', 'xp7outb', 'xp7outc', 'xp7outd', 'xp7oute', 'p8a', 'p8b', 'p8c', 'p8d', 'p8e', 'p8f', 'p8g', 'p8h', 'p8i', 'p8j', 'p8k'], axis=1, inplace=True)\n",
    "\n",
    "# Renamed pesq to ID entrevistado in Rótulo\n",
    "Rótulo.rename(columns={'pesq': 'ID entrevistado'}, inplace=True)\n",
    "\n",
    "# Renamed idade1 to Idade in Rótulo\n",
    "Rótulo.rename(columns={'idade1': 'Idade'}, inplace=True)\n",
    "\n",
    "# Renamed idade to Faixa Etária in Rótulo\n",
    "Rótulo.rename(columns={'idade': 'Faixa Etária'}, inplace=True)\n",
    "\n",
    "# Renamed sexo to Sexo in Rótulo\n",
    "Rótulo.rename(columns={'sexo': 'Sexo'}, inplace=True)\n",
    "\n",
    "# Renamed p1 to Fez Investimento in Rótulo\n",
    "Rótulo.rename(columns={'p1': 'Fez Investimento'}, inplace=True)\n",
    "\n",
    "# Renamed p9a to Aplica em quais investimentos in Rótulo\n",
    "Rótulo.rename(columns={'p9a': 'Aplica em quais investimentos'}, inplace=True)\n",
    "\n",
    "# Filtered UF in Rótulo\n",
    "# Rótulo = Rótulo[Rótulo['UF'].str.contains('MA', na=False)]\n",
    "\n",
    "# Deleted columns p9c, p9d, p9e, p9f, p9g, p9h, p9i, p9j, p9k, p9l, p9m, p9n, p9o, p9p, p9q from Rótulo\n",
    "Rótulo.drop(['p9c', 'p9d', 'p9e', 'p9f', 'p9g', 'p9h', 'p9i', 'p9j', 'p9k', 'p9l', 'p9m', 'p9n', 'p9o', 'p9p', 'p9q'], axis=1, inplace=True)\n",
    "\n",
    "# Renamed p9b to Outro investimento in Rótulo\n",
    "Rótulo.rename(columns={'p9b': 'Outro investimento'}, inplace=True)\n",
    "\n",
    "# Renamed p10anoa to Anos investindo na Poupança in Rótulo\n",
    "Rótulo.rename(columns={'p10anoa': 'Anos investindo na Poupança'}, inplace=True)\n",
    "\n",
    "# Renamed p10anoi to Anos investindo na Compra e Venda de imóveis in Rótulo\n",
    "Rótulo.rename(columns={'p10anoi': 'Anos investindo na Compra e Venda de imóveis'}, inplace=True)\n",
    "\n",
    "# Renamed p10anol to Outras Respostas in Rótulo\n",
    "Rótulo.rename(columns={'p10anol': 'Outras Respostas'}, inplace=True)\n",
    "\n",
    "# Deleted columns p10mesl, p10anom, p10mesm, p10anon, p10mesn, p10anoo, p10meso, p10anop, p10mesp from Rótulo\n",
    "Rótulo.drop(['p10mesl', 'p10anom', 'p10mesm', 'p10anon', 'p10mesn', 'p10anoo', 'p10meso', 'p10anop', 'p10mesp'], axis=1, inplace=True)\n",
    "\n",
    "# Deleted columns p10mesi, p10anoj, p10mesj, p10anok, p10mesk from Rótulo\n",
    "Rótulo.drop(['p10mesi', 'p10anoj', 'p10mesj', 'p10anok', 'p10mesk'], axis=1, inplace=True)\n",
    "\n",
    "# Deleted columns p10mesa, p10anob, p10mesb, p10anoc, p10mesc, p10anod, p10mesd, p10anoe, p10mese, p10anof, p10mesf, p10anog, p10mesg, p10anoh, p10mesh from Rótulo\n",
    "Rótulo.drop(['p10mesa', 'p10anob', 'p10mesb', 'p10anoc', 'p10mesc', 'p10anod', 'p10mesd', 'p10anoe', 'p10mese', 'p10anof', 'p10mesf', 'p10anog', 'p10mesg', 'p10anoh', 'p10mesh'], axis=1, inplace=True)\n",
    "\n",
    "# Set column p1 at index 712 in Rótulo to Sim\n",
    "Rótulo.at[712, 'Fez Investimento'] = \"Sim\"\n",
    "\n",
    "# Renamed p13a to Principal motivo que levou a escolher o tipo de investimento in Rótulo\n",
    "Rótulo.rename(columns={'p13a': 'Principal Motivo'}, inplace=True)\n",
    "\n",
    "# Renamed p13b to Terceiro Motivo in Rótulo\n",
    "Rótulo.rename(columns={'p13b': 'Segundo Motivo'}, inplace=True)\n",
    "\n",
    "# Renamed p13c to Terceiro Motivo in Rótulo\n",
    "Rótulo.rename(columns={'p13c': 'Terceiro Motivo'}, inplace=True)\n",
    "\n",
    "# Renamed p38a to Meio para realização de aplicação financeira in Rótulo\n",
    "Rótulo.rename(columns={'p38a': 'Meio para realização de aplicação financeira'}, inplace=True)\n",
    "\n",
    "# Renamed p24a to Motivo principal para não investimento in Rótulo\n",
    "Rótulo.rename(columns={'p24a': 'Motivo principal para não investimento'}, inplace=True)\n",
    "\n",
    "# Set column p13b at index 712 in Rótulo to None\n",
    "Rótulo.at[712, 'Segundo Motivo'] = None\n",
    "\n",
    "# Set column Terceiro Motivo at index 712 in Rótulo to None\n",
    "Rótulo.at[712, 'Terceiro Motivo'] = None\n",
    "\n",
    "Rótulo.drop(0, inplace=True)\n",
    "Rótulo['Idade'] = pd.to_numeric(Rótulo['Idade'])\n",
    "# Filtered idade1 in Rótulo\n",
    "Rótulo = Rótulo[(Rótulo['Idade'] >= 18) & (Rótulo['Idade'] <= 35)]\n"
   ]
  },
  {
   "cell_type": "code",
   "execution_count": 25,
   "metadata": {},
   "outputs": [
    {
     "data": {
      "text/plain": [
       "1345"
      ]
     },
     "execution_count": 25,
     "metadata": {},
     "output_type": "execute_result"
    }
   ],
   "source": [
    "len(Rótulo)"
   ]
  },
  {
   "cell_type": "markdown",
   "metadata": {},
   "source": [
    "### Redefinindo Index"
   ]
  },
  {
   "cell_type": "code",
   "execution_count": 26,
   "metadata": {},
   "outputs": [
    {
     "data": {
      "text/html": [
       "<div>\n",
       "<style scoped>\n",
       "    .dataframe tbody tr th:only-of-type {\n",
       "        vertical-align: middle;\n",
       "    }\n",
       "\n",
       "    .dataframe tbody tr th {\n",
       "        vertical-align: top;\n",
       "    }\n",
       "\n",
       "    .dataframe thead th {\n",
       "        text-align: right;\n",
       "    }\n",
       "</style>\n",
       "<table border=\"1\" class=\"dataframe\">\n",
       "  <thead>\n",
       "    <tr style=\"text-align: right;\">\n",
       "      <th></th>\n",
       "      <th>ID entrevistado</th>\n",
       "      <th>UF</th>\n",
       "      <th>Idade</th>\n",
       "      <th>Faixa Etária</th>\n",
       "      <th>Sexo</th>\n",
       "      <th>Fez Investimento</th>\n",
       "      <th>Aplica em quais investimentos</th>\n",
       "      <th>Outro investimento</th>\n",
       "      <th>Anos investindo na Poupança</th>\n",
       "      <th>Anos investindo na Compra e Venda de imóveis</th>\n",
       "      <th>Outras Respostas</th>\n",
       "      <th>Principal Motivo</th>\n",
       "      <th>Segundo Motivo</th>\n",
       "      <th>Terceiro Motivo</th>\n",
       "      <th>Meio para realização de aplicação financeira</th>\n",
       "      <th>p39</th>\n",
       "      <th>Motivo principal para não investimento</th>\n",
       "      <th>BLOCO VI - APOSENTADORIA\\n\\nPARA ENTREVISTADOS QUE NÃO SÃO APOSENTADOS - PEA≠12</th>\n",
       "      <th>BLOCO VI - APOSENTADORIA\\n\\nPARA ENTREVISTADOS QUE SÃO APOSENTADOS – PEA=12</th>\n",
       "    </tr>\n",
       "  </thead>\n",
       "  <tbody>\n",
       "    <tr>\n",
       "      <th>0</th>\n",
       "      <td>MG9835</td>\n",
       "      <td>MG</td>\n",
       "      <td>27</td>\n",
       "      <td>25 a 34 anos</td>\n",
       "      <td>Feminino</td>\n",
       "      <td>Sim</td>\n",
       "      <td>Caderneta de poupança</td>\n",
       "      <td>NaN</td>\n",
       "      <td>1</td>\n",
       "      <td>NaN</td>\n",
       "      <td>NaN</td>\n",
       "      <td>A segurança da aplicação</td>\n",
       "      <td>As taxas para a realização da aplicação/ A inc...</td>\n",
       "      <td>O retorno da aplicação</td>\n",
       "      <td>Pessoalmente no banco</td>\n",
       "      <td>6</td>\n",
       "      <td>NaN</td>\n",
       "      <td>NaN</td>\n",
       "      <td>NaN</td>\n",
       "    </tr>\n",
       "    <tr>\n",
       "      <th>1</th>\n",
       "      <td>MG10116</td>\n",
       "      <td>MG</td>\n",
       "      <td>23</td>\n",
       "      <td>16 a 24 anos</td>\n",
       "      <td>Masculino</td>\n",
       "      <td>Não</td>\n",
       "      <td>Não conhece nenhum tipo de investimento/ Não u...</td>\n",
       "      <td>NaN</td>\n",
       "      <td>NaN</td>\n",
       "      <td>NaN</td>\n",
       "      <td>NaN</td>\n",
       "      <td>NaN</td>\n",
       "      <td>NaN</td>\n",
       "      <td>NaN</td>\n",
       "      <td>NaN</td>\n",
       "      <td>NaN</td>\n",
       "      <td>Falta de dinheiro/ salário baixo/ sem condiçõe...</td>\n",
       "      <td>NaN</td>\n",
       "      <td>NaN</td>\n",
       "    </tr>\n",
       "  </tbody>\n",
       "</table>\n",
       "</div>"
      ],
      "text/plain": [
       "  ID entrevistado  UF  Idade  Faixa Etária       Sexo Fez Investimento  \\\n",
       "0          MG9835  MG     27  25 a 34 anos   Feminino              Sim   \n",
       "1         MG10116  MG     23  16 a 24 anos  Masculino              Não   \n",
       "\n",
       "                       Aplica em quais investimentos Outro investimento  \\\n",
       "0                              Caderneta de poupança                NaN   \n",
       "1  Não conhece nenhum tipo de investimento/ Não u...                NaN   \n",
       "\n",
       "  Anos investindo na Poupança  Anos investindo na Compra e Venda de imóveis  \\\n",
       "0                           1                                           NaN   \n",
       "1                         NaN                                           NaN   \n",
       "\n",
       "   Outras Respostas          Principal Motivo  \\\n",
       "0               NaN  A segurança da aplicação   \n",
       "1               NaN                       NaN   \n",
       "\n",
       "                                      Segundo Motivo         Terceiro Motivo  \\\n",
       "0  As taxas para a realização da aplicação/ A inc...  O retorno da aplicação   \n",
       "1                                                NaN                     NaN   \n",
       "\n",
       "  Meio para realização de aplicação financeira  p39  \\\n",
       "0                        Pessoalmente no banco    6   \n",
       "1                                          NaN  NaN   \n",
       "\n",
       "              Motivo principal para não investimento  \\\n",
       "0                                                NaN   \n",
       "1  Falta de dinheiro/ salário baixo/ sem condiçõe...   \n",
       "\n",
       "   BLOCO VI - APOSENTADORIA\\n\\nPARA ENTREVISTADOS QUE NÃO SÃO APOSENTADOS - PEA≠12  \\\n",
       "0                                                NaN                                 \n",
       "1                                                NaN                                 \n",
       "\n",
       "   BLOCO VI - APOSENTADORIA\\n\\nPARA ENTREVISTADOS QUE SÃO APOSENTADOS – PEA=12  \n",
       "0                                                NaN                            \n",
       "1                                                NaN                            "
      ]
     },
     "execution_count": 26,
     "metadata": {},
     "output_type": "execute_result"
    }
   ],
   "source": [
    "linhas = Rótulo.shape[0]\n",
    "Rótulo.index = range(linhas)\n",
    "Rótulo.head(2)"
   ]
  },
  {
   "cell_type": "code",
   "execution_count": 27,
   "metadata": {},
   "outputs": [
    {
     "data": {
      "application/vnd.plotly.v1+json": {
       "config": {
        "plotlyServerURL": "https://plot.ly"
       },
       "data": [
        {
         "customdata": [
          [
           "Sim"
          ],
          [
           "Não"
          ],
          [
           "Não"
          ],
          [
           "Não"
          ],
          [
           "Sim"
          ],
          [
           "Sim"
          ],
          [
           "Não"
          ],
          [
           "Não"
          ],
          [
           "Não"
          ],
          [
           "Sim"
          ],
          [
           "Não"
          ],
          [
           "Sim"
          ],
          [
           "Não"
          ],
          [
           "Não"
          ],
          [
           "Não"
          ],
          [
           "Sim"
          ],
          [
           "Não"
          ],
          [
           "Sim"
          ],
          [
           "Não"
          ],
          [
           "Sim"
          ],
          [
           "Não"
          ],
          [
           "Não"
          ],
          [
           "Não"
          ],
          [
           "Não"
          ],
          [
           "Não"
          ],
          [
           "Sim"
          ],
          [
           "Sim"
          ],
          [
           "Não"
          ],
          [
           "Sim"
          ],
          [
           "Não"
          ],
          [
           "Não"
          ],
          [
           "Não"
          ],
          [
           "Sim"
          ],
          [
           "Sim"
          ],
          [
           "Não"
          ],
          [
           "Não"
          ],
          [
           "Não"
          ],
          [
           "Sim"
          ],
          [
           "Sim"
          ],
          [
           "Sim"
          ],
          [
           "Sim"
          ],
          [
           "Não"
          ],
          [
           "Não"
          ],
          [
           "Não"
          ],
          [
           "Não"
          ],
          [
           "Não"
          ],
          [
           "Não"
          ],
          [
           "Sim"
          ],
          [
           "Não"
          ],
          [
           "Não"
          ],
          [
           "Não"
          ],
          [
           "Não"
          ],
          [
           "Não"
          ],
          [
           "Sim"
          ],
          [
           "Não"
          ],
          [
           "Sim"
          ],
          [
           "Sim"
          ],
          [
           "Sim"
          ],
          [
           "Não"
          ],
          [
           "Sim"
          ],
          [
           "Sim"
          ],
          [
           "Sim"
          ],
          [
           "Não"
          ],
          [
           "Sim"
          ],
          [
           "Sim"
          ],
          [
           "Não"
          ],
          [
           "Não"
          ],
          [
           "Sim"
          ],
          [
           "Não"
          ],
          [
           "Não"
          ],
          [
           "Não"
          ],
          [
           "Não"
          ],
          [
           "Não"
          ],
          [
           "Não"
          ],
          [
           "Não"
          ],
          [
           "Não"
          ],
          [
           "Sim"
          ],
          [
           "Não"
          ],
          [
           "Não"
          ],
          [
           "Sim"
          ],
          [
           "Não"
          ],
          [
           "Não"
          ],
          [
           "Não"
          ],
          [
           "Sim"
          ],
          [
           "Sim"
          ],
          [
           "Não"
          ],
          [
           "Não"
          ],
          [
           "Sim"
          ],
          [
           "Sim"
          ],
          [
           "Sim"
          ],
          [
           "Sim"
          ],
          [
           "Não"
          ],
          [
           "Não"
          ],
          [
           "Não"
          ],
          [
           "Não"
          ],
          [
           "Sim"
          ],
          [
           "Não"
          ],
          [
           "Sim"
          ],
          [
           "Sim"
          ],
          [
           "Não"
          ],
          [
           "Não"
          ],
          [
           "Não"
          ],
          [
           "Não"
          ],
          [
           "Não"
          ],
          [
           "Não"
          ],
          [
           "Não"
          ],
          [
           "Não"
          ],
          [
           "Sim"
          ],
          [
           "Não"
          ],
          [
           "Não"
          ],
          [
           "Não"
          ],
          [
           "Não"
          ],
          [
           "Sim"
          ],
          [
           "Não"
          ],
          [
           "Não"
          ],
          [
           "Não"
          ],
          [
           "Não"
          ],
          [
           "Não"
          ],
          [
           "Não"
          ],
          [
           "Não"
          ],
          [
           "Não"
          ],
          [
           "Não"
          ],
          [
           "Sim"
          ],
          [
           "Não"
          ],
          [
           "Não"
          ],
          [
           "Não"
          ],
          [
           "Não"
          ],
          [
           "Não"
          ],
          [
           "Não"
          ],
          [
           "Não"
          ],
          [
           "Sim"
          ],
          [
           "Sim"
          ],
          [
           "Não"
          ],
          [
           "Sim"
          ],
          [
           "Sim"
          ],
          [
           "Sim"
          ],
          [
           "Sim"
          ],
          [
           "Não"
          ],
          [
           "Não"
          ],
          [
           "Sim"
          ],
          [
           "Não"
          ],
          [
           "Sim"
          ],
          [
           "Sim"
          ],
          [
           "Não"
          ],
          [
           "Não"
          ],
          [
           "Sim"
          ],
          [
           "Não"
          ],
          [
           "Sim"
          ],
          [
           "Sim"
          ],
          [
           "Sim"
          ],
          [
           "Não"
          ],
          [
           "Não"
          ],
          [
           "Sim"
          ],
          [
           "Não"
          ],
          [
           "Sim"
          ],
          [
           "Sim"
          ],
          [
           "Não"
          ],
          [
           "Não"
          ],
          [
           "Não"
          ],
          [
           "Não"
          ],
          [
           "Não"
          ],
          [
           "Não"
          ],
          [
           "Sim"
          ],
          [
           "Não"
          ],
          [
           "Não"
          ],
          [
           "Não"
          ],
          [
           "Sim"
          ],
          [
           "Sim"
          ],
          [
           "Não"
          ],
          [
           "Não"
          ],
          [
           "Sim"
          ],
          [
           "Não"
          ],
          [
           "Não"
          ],
          [
           "Sim"
          ],
          [
           "Sim"
          ],
          [
           "Não"
          ],
          [
           "Não"
          ],
          [
           "Não"
          ],
          [
           "Sim"
          ],
          [
           "Não"
          ],
          [
           "Não"
          ],
          [
           "Sim"
          ],
          [
           "Não"
          ],
          [
           "Sim"
          ],
          [
           "Não"
          ],
          [
           "Não"
          ],
          [
           "Não"
          ],
          [
           "Não"
          ],
          [
           "Não"
          ],
          [
           "Não"
          ],
          [
           "Não"
          ],
          [
           "Não"
          ],
          [
           "Não"
          ],
          [
           "Não"
          ],
          [
           "Não"
          ],
          [
           "Sim"
          ],
          [
           "Sim"
          ],
          [
           "Não"
          ],
          [
           "Sim"
          ],
          [
           "Não"
          ],
          [
           "Não"
          ],
          [
           "Sim"
          ],
          [
           "Não"
          ],
          [
           "Sim"
          ],
          [
           "Sim"
          ],
          [
           "Não"
          ],
          [
           "Sim"
          ],
          [
           "Não"
          ],
          [
           "Não"
          ],
          [
           "Sim"
          ],
          [
           "Sim"
          ],
          [
           "Não"
          ],
          [
           "Não"
          ],
          [
           "Não"
          ],
          [
           "Sim"
          ],
          [
           "Sim"
          ],
          [
           "Não"
          ],
          [
           "Sim"
          ],
          [
           "Não"
          ],
          [
           "Sim"
          ],
          [
           "Não"
          ],
          [
           "Não"
          ],
          [
           "Não"
          ],
          [
           "Não"
          ],
          [
           "Não"
          ],
          [
           "Não"
          ],
          [
           "Não"
          ],
          [
           "Não"
          ],
          [
           "Sim"
          ],
          [
           "Não"
          ],
          [
           "Não"
          ],
          [
           "Não"
          ],
          [
           "Não"
          ],
          [
           "Não"
          ],
          [
           "Não"
          ],
          [
           "Sim"
          ],
          [
           "Não"
          ],
          [
           "Não"
          ],
          [
           "Não"
          ],
          [
           "Sim"
          ],
          [
           "Não"
          ],
          [
           "Sim"
          ],
          [
           "Sim"
          ],
          [
           "Não"
          ],
          [
           "Não"
          ],
          [
           "Não"
          ],
          [
           "Não"
          ],
          [
           "Não"
          ],
          [
           "Sim"
          ],
          [
           "Sim"
          ],
          [
           "Não"
          ],
          [
           "Sim"
          ],
          [
           "Sim"
          ],
          [
           "Não"
          ],
          [
           "Não"
          ],
          [
           "Sim"
          ],
          [
           "Sim"
          ],
          [
           "Sim"
          ],
          [
           "Não"
          ],
          [
           "Não"
          ],
          [
           "Não"
          ],
          [
           "Não"
          ],
          [
           "Sim"
          ],
          [
           "Não"
          ],
          [
           "Não"
          ],
          [
           "Não"
          ],
          [
           "Sim"
          ],
          [
           "Não"
          ],
          [
           "Não"
          ],
          [
           "Não"
          ],
          [
           "Sim"
          ],
          [
           "Sim"
          ],
          [
           "Não"
          ],
          [
           "Sim"
          ],
          [
           "Não"
          ],
          [
           "Não"
          ],
          [
           "Não"
          ],
          [
           "Sim"
          ],
          [
           "Sim"
          ],
          [
           "Não"
          ],
          [
           "Sim"
          ],
          [
           "Sim"
          ],
          [
           "Não"
          ],
          [
           "Não"
          ],
          [
           "Sim"
          ],
          [
           "Sim"
          ],
          [
           "Não"
          ],
          [
           "Não"
          ],
          [
           "Não"
          ],
          [
           "Sim"
          ],
          [
           "Não"
          ],
          [
           "Não"
          ],
          [
           "Não"
          ],
          [
           "Não"
          ],
          [
           "Não"
          ],
          [
           "Sim"
          ],
          [
           "Não"
          ],
          [
           "Não"
          ],
          [
           "Não"
          ],
          [
           "Não"
          ],
          [
           "Não"
          ],
          [
           "Sim"
          ],
          [
           "Não"
          ],
          [
           "Não"
          ],
          [
           "Não"
          ],
          [
           "Não"
          ],
          [
           "Sim"
          ],
          [
           "Não"
          ],
          [
           "Não"
          ],
          [
           "Sim"
          ],
          [
           "Não"
          ],
          [
           "Sim"
          ],
          [
           "Sim"
          ],
          [
           "Não"
          ],
          [
           "Não"
          ],
          [
           "Não"
          ],
          [
           "Sim"
          ],
          [
           "Sim"
          ],
          [
           "Sim"
          ],
          [
           "Não"
          ],
          [
           "Não"
          ],
          [
           "Não"
          ],
          [
           "Sim"
          ],
          [
           "Sim"
          ],
          [
           "Não"
          ],
          [
           "Não"
          ],
          [
           "Não"
          ],
          [
           "Não"
          ],
          [
           "Sim"
          ],
          [
           "Sim"
          ],
          [
           "Sim"
          ],
          [
           "Não"
          ],
          [
           "Sim"
          ],
          [
           "Não"
          ],
          [
           "Não"
          ],
          [
           "Não"
          ],
          [
           "Sim"
          ],
          [
           "Não"
          ],
          [
           "Não"
          ],
          [
           "Sim"
          ],
          [
           "Não"
          ],
          [
           "Não"
          ],
          [
           "Não"
          ],
          [
           "Não"
          ],
          [
           "Não"
          ],
          [
           "Sim"
          ],
          [
           "Sim"
          ],
          [
           "Sim"
          ],
          [
           "Não"
          ],
          [
           "Não"
          ],
          [
           "Não"
          ],
          [
           "Sim"
          ],
          [
           "Não"
          ],
          [
           "Não"
          ],
          [
           "Não"
          ],
          [
           "Não"
          ],
          [
           "Não"
          ],
          [
           "Não"
          ],
          [
           "Não"
          ],
          [
           "Não"
          ],
          [
           "Não"
          ],
          [
           "Não"
          ],
          [
           "Não"
          ],
          [
           "Não"
          ],
          [
           "Não"
          ],
          [
           "Sim"
          ],
          [
           "Sim"
          ],
          [
           "Não"
          ],
          [
           "Não"
          ],
          [
           "Não"
          ],
          [
           "Não"
          ],
          [
           "Sim"
          ],
          [
           "Não"
          ],
          [
           "Não"
          ],
          [
           "Não"
          ],
          [
           "Sim"
          ],
          [
           "Sim"
          ],
          [
           "Sim"
          ],
          [
           "Não"
          ],
          [
           "Não"
          ],
          [
           "Não"
          ],
          [
           "Sim"
          ],
          [
           "Sim"
          ],
          [
           "Não"
          ],
          [
           "Não"
          ],
          [
           "Não"
          ],
          [
           "Sim"
          ],
          [
           "Não"
          ],
          [
           "Não"
          ],
          [
           "Não"
          ],
          [
           "Não"
          ],
          [
           "Não"
          ],
          [
           "Não"
          ],
          [
           "Não"
          ],
          [
           "Não"
          ],
          [
           "Não"
          ],
          [
           "Não"
          ],
          [
           "Sim"
          ],
          [
           "Não"
          ],
          [
           "Não"
          ],
          [
           "Não"
          ],
          [
           "Não"
          ],
          [
           "Não"
          ],
          [
           "Não"
          ],
          [
           "Não"
          ],
          [
           "Não"
          ],
          [
           "Não"
          ],
          [
           "Não"
          ],
          [
           "Não"
          ],
          [
           "Não"
          ],
          [
           "Não"
          ],
          [
           "Sim"
          ],
          [
           "Não"
          ],
          [
           "Não"
          ],
          [
           "Sim"
          ],
          [
           "Não"
          ],
          [
           "Não"
          ],
          [
           "Não"
          ],
          [
           "Não"
          ],
          [
           "Sim"
          ],
          [
           "Não"
          ],
          [
           "Sim"
          ],
          [
           "Não"
          ],
          [
           "Não"
          ],
          [
           "Não"
          ],
          [
           "Não"
          ],
          [
           "Não"
          ],
          [
           "Não"
          ],
          [
           "Não"
          ],
          [
           "Não"
          ],
          [
           "Não"
          ],
          [
           "Não"
          ],
          [
           "Não"
          ],
          [
           "Sim"
          ],
          [
           "Não"
          ],
          [
           "Sim"
          ],
          [
           "Sim"
          ],
          [
           "Sim"
          ],
          [
           "Sim"
          ],
          [
           "Não"
          ],
          [
           "Sim"
          ],
          [
           "Não"
          ],
          [
           "Não"
          ],
          [
           "Sim"
          ],
          [
           "Não"
          ],
          [
           "Não"
          ],
          [
           "Não"
          ],
          [
           "Não"
          ],
          [
           "Não"
          ],
          [
           "Sim"
          ],
          [
           "Não"
          ],
          [
           "Não"
          ],
          [
           "Sim"
          ],
          [
           "Não"
          ],
          [
           "Não"
          ],
          [
           "Não"
          ],
          [
           "Não"
          ],
          [
           "Não"
          ],
          [
           "Não"
          ],
          [
           "Sim"
          ],
          [
           "Não"
          ],
          [
           "Sim"
          ],
          [
           "Não"
          ],
          [
           "Não"
          ],
          [
           "Não"
          ],
          [
           "Sim"
          ],
          [
           "Não"
          ],
          [
           "Não"
          ],
          [
           "Não"
          ],
          [
           "Não"
          ],
          [
           "Não"
          ],
          [
           "Não"
          ],
          [
           "Não"
          ],
          [
           "Não"
          ],
          [
           "Não"
          ],
          [
           "Não"
          ],
          [
           "Não"
          ],
          [
           "Sim"
          ],
          [
           "Não"
          ],
          [
           "Não"
          ],
          [
           "Sim"
          ],
          [
           "Sim"
          ],
          [
           "Sim"
          ],
          [
           "Sim"
          ],
          [
           "Não"
          ],
          [
           "Não"
          ],
          [
           "Não"
          ],
          [
           "Não"
          ],
          [
           "Não"
          ],
          [
           "Não"
          ],
          [
           "Não"
          ],
          [
           "Não"
          ],
          [
           "Não"
          ],
          [
           "Não"
          ],
          [
           "Sim"
          ],
          [
           "Não"
          ],
          [
           "Sim"
          ],
          [
           "Não"
          ],
          [
           "Sim"
          ],
          [
           "Não"
          ],
          [
           "Não"
          ],
          [
           "Não"
          ],
          [
           "Não"
          ],
          [
           "Não"
          ],
          [
           "Não"
          ],
          [
           "Sim"
          ],
          [
           "Sim"
          ],
          [
           "Não"
          ],
          [
           "Não"
          ],
          [
           "Não"
          ],
          [
           "Não"
          ],
          [
           "Não"
          ],
          [
           "Não"
          ],
          [
           "Não"
          ],
          [
           "Não"
          ],
          [
           "Não"
          ],
          [
           "Não"
          ],
          [
           "Não"
          ],
          [
           "Sim"
          ],
          [
           "Não"
          ],
          [
           "Não"
          ],
          [
           "Não"
          ],
          [
           "Não"
          ],
          [
           "Não"
          ],
          [
           "Não"
          ],
          [
           "Não"
          ],
          [
           "Não"
          ],
          [
           "Não"
          ],
          [
           "Não"
          ],
          [
           "Não"
          ],
          [
           "Não"
          ],
          [
           "Sim"
          ],
          [
           "Não"
          ],
          [
           "Não"
          ],
          [
           "Não"
          ],
          [
           "Não"
          ],
          [
           "Não"
          ],
          [
           "Sim"
          ],
          [
           "Não"
          ],
          [
           "Sim"
          ],
          [
           "Não"
          ],
          [
           "Sim"
          ],
          [
           "Não"
          ],
          [
           "Sim"
          ],
          [
           "Não"
          ],
          [
           "Sim"
          ],
          [
           "Não"
          ],
          [
           "Não"
          ],
          [
           "Não"
          ],
          [
           "Não"
          ],
          [
           "Não"
          ],
          [
           "Sim"
          ],
          [
           "Não"
          ],
          [
           "Sim"
          ],
          [
           "Não"
          ],
          [
           "Não"
          ],
          [
           "Não"
          ],
          [
           "Sim"
          ],
          [
           "Não"
          ],
          [
           "Sim"
          ],
          [
           "Sim"
          ],
          [
           "Sim"
          ],
          [
           "Não"
          ],
          [
           "Não"
          ],
          [
           "Sim"
          ],
          [
           "Não"
          ],
          [
           "Não"
          ],
          [
           "Sim"
          ],
          [
           "Sim"
          ],
          [
           "Não"
          ],
          [
           "Sim"
          ],
          [
           "Não"
          ],
          [
           "Não"
          ],
          [
           "Não"
          ],
          [
           "Não"
          ],
          [
           "Sim"
          ],
          [
           "Não"
          ],
          [
           "Não"
          ],
          [
           "Não"
          ],
          [
           "Não"
          ],
          [
           "Sim"
          ],
          [
           "Não"
          ],
          [
           "Sim"
          ],
          [
           "Sim"
          ],
          [
           "Sim"
          ],
          [
           "Não"
          ],
          [
           "Sim"
          ],
          [
           "Não"
          ],
          [
           "Não"
          ],
          [
           "Não"
          ],
          [
           "Não"
          ],
          [
           "Sim"
          ],
          [
           "Não"
          ],
          [
           "Sim"
          ],
          [
           "Sim"
          ],
          [
           "Não"
          ],
          [
           "Sim"
          ],
          [
           "Não"
          ],
          [
           "Não"
          ],
          [
           "Não"
          ],
          [
           "Não"
          ],
          [
           "Sim"
          ],
          [
           "Não"
          ],
          [
           "Sim"
          ],
          [
           "Não"
          ],
          [
           "Não"
          ],
          [
           "Não"
          ],
          [
           "Não"
          ],
          [
           "Sim"
          ],
          [
           "Não"
          ],
          [
           "Sim"
          ],
          [
           "Não"
          ],
          [
           "Não"
          ],
          [
           "Sim"
          ],
          [
           "Sim"
          ],
          [
           "Sim"
          ],
          [
           "Não"
          ],
          [
           "Sim"
          ],
          [
           "Não"
          ],
          [
           "Não"
          ],
          [
           "Não"
          ],
          [
           "Não"
          ],
          [
           "Não"
          ],
          [
           "Sim"
          ],
          [
           "Não"
          ],
          [
           "Sim"
          ],
          [
           "Não"
          ],
          [
           "Sim"
          ],
          [
           "Não"
          ],
          [
           "Não"
          ],
          [
           "Sim"
          ],
          [
           "Não"
          ],
          [
           "Não"
          ],
          [
           "Sim"
          ],
          [
           "Sim"
          ],
          [
           "Não"
          ],
          [
           "Não"
          ],
          [
           "Sim"
          ],
          [
           "Não"
          ],
          [
           "Não"
          ],
          [
           "Não"
          ],
          [
           "Não"
          ],
          [
           "Não"
          ],
          [
           "Não"
          ],
          [
           "Não"
          ],
          [
           "Não"
          ],
          [
           "Não"
          ],
          [
           "Não"
          ],
          [
           "Sim"
          ],
          [
           "Sim"
          ],
          [
           "Não"
          ],
          [
           "Não"
          ],
          [
           "Não"
          ],
          [
           "Não"
          ],
          [
           "Não"
          ],
          [
           "Não"
          ],
          [
           "Sim"
          ],
          [
           "Não"
          ],
          [
           "Não"
          ],
          [
           "Não"
          ],
          [
           "Não"
          ],
          [
           "Sim"
          ],
          [
           "Não"
          ],
          [
           "Não"
          ],
          [
           "Sim"
          ],
          [
           "Não"
          ],
          [
           "Não"
          ],
          [
           "Não"
          ],
          [
           "Não"
          ],
          [
           "Não"
          ],
          [
           "Sim"
          ],
          [
           "Sim"
          ],
          [
           "Não"
          ],
          [
           "Não"
          ],
          [
           "Não"
          ],
          [
           "Não"
          ],
          [
           "Não"
          ],
          [
           "Não"
          ],
          [
           "Não"
          ],
          [
           "Sim"
          ],
          [
           "Não"
          ],
          [
           "Sim"
          ],
          [
           "Não"
          ],
          [
           "Não"
          ],
          [
           "Não"
          ],
          [
           "Não"
          ],
          [
           "Não"
          ],
          [
           "Sim"
          ],
          [
           "Sim"
          ],
          [
           "Não"
          ],
          [
           "Não"
          ],
          [
           "Não"
          ],
          [
           "Sim"
          ],
          [
           "Sim"
          ],
          [
           "Sim"
          ],
          [
           "Sim"
          ],
          [
           "Não"
          ],
          [
           "Não"
          ],
          [
           "Não"
          ],
          [
           "Não"
          ],
          [
           "Não"
          ],
          [
           "Não"
          ],
          [
           "Não"
          ],
          [
           "Não"
          ],
          [
           "Não"
          ],
          [
           "Não"
          ],
          [
           "Não"
          ],
          [
           "Não"
          ],
          [
           "Não"
          ],
          [
           "Não"
          ],
          [
           "Sim"
          ],
          [
           "Não"
          ],
          [
           "Não"
          ],
          [
           "Não"
          ],
          [
           "Sim"
          ],
          [
           "Sim"
          ],
          [
           "Sim"
          ],
          [
           "Não"
          ],
          [
           "Sim"
          ],
          [
           "Sim"
          ],
          [
           "Sim"
          ],
          [
           "Não"
          ],
          [
           "Não"
          ],
          [
           "Não"
          ],
          [
           "Sim"
          ],
          [
           "Não"
          ],
          [
           "Não"
          ],
          [
           "Não"
          ],
          [
           "Não"
          ],
          [
           "Não"
          ],
          [
           "Não"
          ],
          [
           "Não"
          ],
          [
           "Não"
          ],
          [
           "Não"
          ],
          [
           "Não"
          ],
          [
           "Não"
          ],
          [
           "Sim"
          ],
          [
           "Não"
          ],
          [
           "Não"
          ],
          [
           "Não"
          ],
          [
           "Não"
          ],
          [
           "Não"
          ],
          [
           "Não"
          ],
          [
           "Sim"
          ],
          [
           "Não"
          ],
          [
           "Sim"
          ],
          [
           "Sim"
          ],
          [
           "Não"
          ],
          [
           "Não"
          ],
          [
           "Não"
          ],
          [
           "Não"
          ],
          [
           "Sim"
          ],
          [
           "Não"
          ],
          [
           "Não"
          ],
          [
           "Sim"
          ],
          [
           "Não"
          ],
          [
           "Não"
          ],
          [
           "Não"
          ],
          [
           "Sim"
          ],
          [
           "Sim"
          ],
          [
           "Não"
          ],
          [
           "Não"
          ],
          [
           "Sim"
          ],
          [
           "Sim"
          ],
          [
           "Não"
          ],
          [
           "Sim"
          ],
          [
           "Não"
          ],
          [
           "Não"
          ],
          [
           "Não"
          ],
          [
           "Não"
          ],
          [
           "Sim"
          ],
          [
           "Não"
          ],
          [
           "Não"
          ],
          [
           "Não"
          ],
          [
           "Não"
          ],
          [
           "Sim"
          ],
          [
           "Não"
          ],
          [
           "Sim"
          ],
          [
           "Não"
          ],
          [
           "Não"
          ],
          [
           "Não"
          ],
          [
           "Sim"
          ],
          [
           "Não"
          ],
          [
           "Não"
          ],
          [
           "Sim"
          ],
          [
           "Não"
          ],
          [
           "Não"
          ],
          [
           "Não"
          ],
          [
           "Sim"
          ],
          [
           "Sim"
          ],
          [
           "Não"
          ],
          [
           "Sim"
          ],
          [
           "Sim"
          ],
          [
           "Não"
          ],
          [
           "Sim"
          ],
          [
           "Não"
          ],
          [
           "Sim"
          ],
          [
           "Sim"
          ],
          [
           "Não"
          ],
          [
           "Não"
          ],
          [
           "Sim"
          ],
          [
           "Não"
          ],
          [
           "Não"
          ],
          [
           "Sim"
          ],
          [
           "Sim"
          ],
          [
           "Não"
          ],
          [
           "Sim"
          ],
          [
           "Não"
          ],
          [
           "Sim"
          ],
          [
           "Não"
          ],
          [
           "Sim"
          ],
          [
           "Sim"
          ],
          [
           "Sim"
          ],
          [
           "Não"
          ],
          [
           "Não"
          ],
          [
           "Sim"
          ],
          [
           "Não"
          ],
          [
           "Não"
          ],
          [
           "Não"
          ],
          [
           "Não"
          ],
          [
           "Não"
          ],
          [
           "Sim"
          ],
          [
           "Não"
          ],
          [
           "Não"
          ],
          [
           "Não"
          ],
          [
           "Sim"
          ],
          [
           "Sim"
          ],
          [
           "Não"
          ],
          [
           "Não"
          ],
          [
           "Sim"
          ],
          [
           "Sim"
          ],
          [
           "Sim"
          ],
          [
           "Não"
          ],
          [
           "Sim"
          ],
          [
           "Não"
          ],
          [
           "Sim"
          ],
          [
           "Sim"
          ],
          [
           "Não"
          ],
          [
           "Sim"
          ],
          [
           "Sim"
          ],
          [
           "Sim"
          ],
          [
           "Não"
          ],
          [
           "Não"
          ],
          [
           "Não"
          ],
          [
           "Não"
          ],
          [
           "Não"
          ],
          [
           "Não"
          ],
          [
           "Sim"
          ],
          [
           "Sim"
          ],
          [
           "Não"
          ],
          [
           "Não"
          ],
          [
           "Não"
          ],
          [
           "Não"
          ],
          [
           "Não"
          ],
          [
           "Não"
          ],
          [
           "Não"
          ],
          [
           "Sim"
          ],
          [
           "Sim"
          ],
          [
           "Não"
          ],
          [
           "Não"
          ],
          [
           "Sim"
          ],
          [
           "Não"
          ],
          [
           "Sim"
          ],
          [
           "Sim"
          ],
          [
           "Não"
          ],
          [
           "Não"
          ],
          [
           "Não"
          ],
          [
           "Não"
          ],
          [
           "Não"
          ],
          [
           "Não"
          ],
          [
           "Não"
          ],
          [
           "Não"
          ],
          [
           "Não"
          ],
          [
           "Não"
          ],
          [
           "Sim"
          ],
          [
           "Sim"
          ],
          [
           "Sim"
          ],
          [
           "Não"
          ],
          [
           "Sim"
          ],
          [
           "Não"
          ],
          [
           "Não"
          ],
          [
           "Não"
          ],
          [
           "Não"
          ],
          [
           "Sim"
          ],
          [
           "Sim"
          ],
          [
           "Não"
          ],
          [
           "Sim"
          ],
          [
           "Sim"
          ],
          [
           "Não"
          ],
          [
           "Não"
          ],
          [
           "Sim"
          ],
          [
           "Não"
          ],
          [
           "Sim"
          ],
          [
           "Não"
          ],
          [
           "Não"
          ],
          [
           "Sim"
          ],
          [
           "Não"
          ],
          [
           "Não"
          ],
          [
           "Sim"
          ],
          [
           "Não"
          ],
          [
           "Não"
          ],
          [
           "Não"
          ],
          [
           "Não"
          ],
          [
           "Não"
          ],
          [
           "Sim"
          ],
          [
           "Não"
          ],
          [
           "Sim"
          ],
          [
           "Não"
          ],
          [
           "Não"
          ],
          [
           "Não"
          ],
          [
           "Não"
          ],
          [
           "Não"
          ],
          [
           "Sim"
          ],
          [
           "Não"
          ],
          [
           "Não"
          ],
          [
           "Não"
          ],
          [
           "Não"
          ],
          [
           "Não"
          ],
          [
           "Não"
          ],
          [
           "Não"
          ],
          [
           "Não"
          ],
          [
           "Não"
          ],
          [
           "Sim"
          ],
          [
           "Sim"
          ],
          [
           "Sim"
          ],
          [
           "Não"
          ],
          [
           "Sim"
          ],
          [
           "Não"
          ],
          [
           "Não"
          ],
          [
           "Sim"
          ],
          [
           "Não"
          ],
          [
           "Não"
          ],
          [
           "Sim"
          ],
          [
           "Sim"
          ],
          [
           "Sim"
          ],
          [
           "Sim"
          ],
          [
           "Sim"
          ],
          [
           "Não"
          ],
          [
           "Não"
          ],
          [
           "Sim"
          ],
          [
           "Não"
          ],
          [
           "Não"
          ],
          [
           "Sim"
          ],
          [
           "Não"
          ],
          [
           "Não"
          ],
          [
           "Não"
          ],
          [
           "Não"
          ],
          [
           "Não"
          ],
          [
           "Não"
          ],
          [
           "Não"
          ],
          [
           "Não"
          ],
          [
           "Sim"
          ],
          [
           "Sim"
          ],
          [
           "Não"
          ],
          [
           "Sim"
          ],
          [
           "Não"
          ],
          [
           "Não"
          ],
          [
           "Não"
          ],
          [
           "Não"
          ],
          [
           "Não"
          ],
          [
           "Sim"
          ],
          [
           "Não"
          ],
          [
           "Não"
          ],
          [
           "Não"
          ],
          [
           "Não"
          ],
          [
           "Não"
          ],
          [
           "Não"
          ],
          [
           "Não"
          ],
          [
           "Sim"
          ],
          [
           "Sim"
          ],
          [
           "Não"
          ],
          [
           "Sim"
          ],
          [
           "Não"
          ],
          [
           "Sim"
          ],
          [
           "Sim"
          ],
          [
           "Não"
          ],
          [
           "Não"
          ],
          [
           "Não"
          ],
          [
           "Sim"
          ],
          [
           "Sim"
          ],
          [
           "Não"
          ],
          [
           "Sim"
          ],
          [
           "Não"
          ],
          [
           "Não"
          ],
          [
           "Sim"
          ],
          [
           "Sim"
          ],
          [
           "Sim"
          ],
          [
           "Não"
          ],
          [
           "Não"
          ],
          [
           "Não"
          ],
          [
           "Não"
          ],
          [
           "Não"
          ],
          [
           "Sim"
          ],
          [
           "Sim"
          ],
          [
           "Sim"
          ],
          [
           "Não"
          ],
          [
           "Sim"
          ],
          [
           "Não"
          ],
          [
           "Sim"
          ],
          [
           "Sim"
          ],
          [
           "Não"
          ],
          [
           "Não"
          ],
          [
           "Sim"
          ],
          [
           "Sim"
          ],
          [
           "Não"
          ],
          [
           "Não"
          ],
          [
           "Não"
          ],
          [
           "Sim"
          ],
          [
           "Sim"
          ],
          [
           "Não"
          ],
          [
           "Não"
          ],
          [
           "Não"
          ],
          [
           "Não"
          ],
          [
           "Sim"
          ],
          [
           "Não"
          ],
          [
           "Não"
          ],
          [
           "Não"
          ],
          [
           "Não"
          ],
          [
           "Não"
          ],
          [
           "Sim"
          ],
          [
           "Sim"
          ],
          [
           "Não"
          ],
          [
           "Sim"
          ],
          [
           "Não"
          ],
          [
           "Sim"
          ],
          [
           "Não"
          ],
          [
           "Não"
          ],
          [
           "Sim"
          ],
          [
           "Sim"
          ],
          [
           "Não"
          ],
          [
           "Não"
          ],
          [
           "Não"
          ],
          [
           "Não"
          ],
          [
           "Não"
          ],
          [
           "Não"
          ],
          [
           "Não"
          ],
          [
           "Sim"
          ],
          [
           "Não"
          ],
          [
           "Não"
          ],
          [
           "Não"
          ],
          [
           "Não"
          ],
          [
           "Sim"
          ],
          [
           "Não"
          ],
          [
           "Não"
          ],
          [
           "Não"
          ],
          [
           "Não"
          ],
          [
           "Não"
          ],
          [
           "Não"
          ],
          [
           "Não"
          ],
          [
           "Não"
          ],
          [
           "Não"
          ],
          [
           "Não"
          ],
          [
           "Não"
          ],
          [
           "Não"
          ],
          [
           "Não"
          ],
          [
           "Não"
          ],
          [
           "Sim"
          ],
          [
           "Não"
          ],
          [
           "Sim"
          ],
          [
           "Não"
          ],
          [
           "Não"
          ],
          [
           "Não"
          ],
          [
           "Não"
          ],
          [
           "Sim"
          ],
          [
           "Não"
          ],
          [
           "Não"
          ],
          [
           "Não"
          ],
          [
           "Sim"
          ],
          [
           "Sim"
          ],
          [
           "Não"
          ],
          [
           "Sim"
          ],
          [
           "Não"
          ],
          [
           "Não"
          ],
          [
           "Não"
          ],
          [
           "Sim"
          ],
          [
           "Não"
          ],
          [
           "Não"
          ],
          [
           "Não"
          ],
          [
           "Não"
          ],
          [
           "Sim"
          ],
          [
           "Sim"
          ],
          [
           "Não"
          ],
          [
           "Sim"
          ],
          [
           "Sim"
          ],
          [
           "Sim"
          ],
          [
           "Sim"
          ],
          [
           "Não"
          ],
          [
           "Não"
          ],
          [
           "Sim"
          ],
          [
           "Sim"
          ],
          [
           "Não"
          ],
          [
           "Sim"
          ],
          [
           "Não"
          ],
          [
           "Não"
          ],
          [
           "Não"
          ],
          [
           "Não"
          ],
          [
           "Não"
          ],
          [
           "Não"
          ],
          [
           "Não"
          ],
          [
           "Não"
          ],
          [
           "Sim"
          ],
          [
           "Não"
          ],
          [
           "Não"
          ],
          [
           "Não"
          ],
          [
           "Não"
          ],
          [
           "Não"
          ],
          [
           "Não"
          ],
          [
           "Não"
          ],
          [
           "Não"
          ],
          [
           "Sim"
          ],
          [
           "Não"
          ],
          [
           "Não"
          ],
          [
           "Sim"
          ],
          [
           "Não"
          ],
          [
           "Não"
          ],
          [
           "Sim"
          ],
          [
           "Não"
          ],
          [
           "Sim"
          ],
          [
           "Não"
          ],
          [
           "Não"
          ],
          [
           "Não"
          ],
          [
           "Não"
          ],
          [
           "Não"
          ],
          [
           "Não"
          ],
          [
           "Não"
          ],
          [
           "Não"
          ],
          [
           "Não"
          ],
          [
           "Não"
          ],
          [
           "Não"
          ],
          [
           "Sim"
          ],
          [
           "Sim"
          ],
          [
           "Sim"
          ],
          [
           "Sim"
          ],
          [
           "Não"
          ],
          [
           "Sim"
          ],
          [
           "Não"
          ],
          [
           "Não"
          ],
          [
           "Não"
          ],
          [
           "Não"
          ],
          [
           "Não"
          ],
          [
           "Não"
          ],
          [
           "Não"
          ],
          [
           "Sim"
          ],
          [
           "Sim"
          ],
          [
           "Sim"
          ],
          [
           "Não"
          ],
          [
           "Não"
          ],
          [
           "Não"
          ],
          [
           "Não"
          ],
          [
           "Sim"
          ],
          [
           "Não"
          ],
          [
           "Não"
          ],
          [
           "Não"
          ],
          [
           "Não"
          ],
          [
           "Não"
          ],
          [
           "Não"
          ],
          [
           "Não"
          ],
          [
           "Não"
          ],
          [
           "Não"
          ],
          [
           "Não"
          ],
          [
           "Não"
          ],
          [
           "Não"
          ],
          [
           "Não"
          ],
          [
           "Sim"
          ],
          [
           "Não"
          ],
          [
           "Não"
          ],
          [
           "Não"
          ],
          [
           "Não"
          ],
          [
           "Não"
          ],
          [
           "Sim"
          ],
          [
           "Sim"
          ],
          [
           "Não"
          ],
          [
           "Sim"
          ],
          [
           "Não"
          ],
          [
           "Sim"
          ],
          [
           "Não"
          ],
          [
           "Sim"
          ],
          [
           "Não"
          ],
          [
           "Não"
          ],
          [
           "Não"
          ],
          [
           "Não"
          ],
          [
           "Não"
          ],
          [
           "Não"
          ],
          [
           "Não"
          ],
          [
           "Não"
          ],
          [
           "Sim"
          ],
          [
           "Sim"
          ],
          [
           "Sim"
          ],
          [
           "Sim"
          ],
          [
           "Não"
          ],
          [
           "Sim"
          ],
          [
           "Não"
          ],
          [
           "Sim"
          ],
          [
           "Não"
          ],
          [
           "Não"
          ],
          [
           "Não"
          ],
          [
           "Não"
          ],
          [
           "Não"
          ],
          [
           "Sim"
          ],
          [
           "Não"
          ],
          [
           "Sim"
          ],
          [
           "Sim"
          ],
          [
           "Sim"
          ],
          [
           "Sim"
          ],
          [
           "Não"
          ],
          [
           "Não"
          ],
          [
           "Não"
          ],
          [
           "Não"
          ],
          [
           "Não"
          ],
          [
           "Não"
          ],
          [
           "Sim"
          ],
          [
           "Sim"
          ],
          [
           "Não"
          ],
          [
           "Não"
          ],
          [
           "Sim"
          ],
          [
           "Sim"
          ],
          [
           "Não"
          ],
          [
           "Sim"
          ],
          [
           "Sim"
          ],
          [
           "Não"
          ],
          [
           "Não"
          ],
          [
           "Sim"
          ],
          [
           "Não"
          ],
          [
           "Não"
          ],
          [
           "Não"
          ],
          [
           "Não"
          ],
          [
           "Não"
          ],
          [
           "Não"
          ],
          [
           "Não"
          ],
          [
           "Não"
          ],
          [
           "Sim"
          ],
          [
           "Não"
          ],
          [
           "Sim"
          ],
          [
           "Sim"
          ],
          [
           "Não"
          ],
          [
           "Não"
          ],
          [
           "Não"
          ],
          [
           "Não"
          ],
          [
           "Não"
          ],
          [
           "Não"
          ],
          [
           "Não"
          ],
          [
           "Sim"
          ],
          [
           "Não"
          ],
          [
           "Sim"
          ],
          [
           "Não"
          ],
          [
           "Não"
          ],
          [
           "Não"
          ],
          [
           "Sim"
          ],
          [
           "Sim"
          ],
          [
           "Não"
          ],
          [
           "Não"
          ],
          [
           "Sim"
          ],
          [
           "Não"
          ],
          [
           "Não"
          ],
          [
           "Sim"
          ],
          [
           "Não"
          ],
          [
           "Não"
          ],
          [
           "Não"
          ],
          [
           "Não"
          ],
          [
           "Não"
          ],
          [
           "Sim"
          ],
          [
           "Não"
          ],
          [
           "Não"
          ],
          [
           "Não"
          ],
          [
           "Não"
          ],
          [
           "Não"
          ],
          [
           "Sim"
          ],
          [
           "Não"
          ],
          [
           "Não"
          ],
          [
           "Sim"
          ],
          [
           "Sim"
          ],
          [
           "Sim"
          ],
          [
           "Não"
          ],
          [
           "Sim"
          ],
          [
           "Não"
          ],
          [
           "Sim"
          ],
          [
           "Não"
          ],
          [
           "Sim"
          ],
          [
           "Não"
          ],
          [
           "Não"
          ],
          [
           "Sim"
          ],
          [
           "Não"
          ],
          [
           "Sim"
          ],
          [
           "Sim"
          ],
          [
           "Sim"
          ],
          [
           "Não"
          ],
          [
           "Não"
          ],
          [
           "Sim"
          ],
          [
           "Não"
          ],
          [
           "Sim"
          ],
          [
           "Sim"
          ],
          [
           "Não"
          ],
          [
           "Sim"
          ],
          [
           "Não"
          ],
          [
           "Não"
          ],
          [
           "Não"
          ],
          [
           "Sim"
          ],
          [
           "Sim"
          ],
          [
           "Não"
          ],
          [
           "Não"
          ],
          [
           "Não"
          ],
          [
           "Não"
          ],
          [
           "Não"
          ],
          [
           "Sim"
          ],
          [
           "Não"
          ],
          [
           "Sim"
          ],
          [
           "Não"
          ],
          [
           "Não"
          ],
          [
           "Não"
          ],
          [
           "Não"
          ],
          [
           "Sim"
          ],
          [
           "Não"
          ],
          [
           "Sim"
          ],
          [
           "Não"
          ],
          [
           "Sim"
          ],
          [
           "Não"
          ],
          [
           "Sim"
          ],
          [
           "Não"
          ],
          [
           "Sim"
          ],
          [
           "Não"
          ],
          [
           "Sim"
          ],
          [
           "Sim"
          ],
          [
           "Sim"
          ],
          [
           "Não"
          ],
          [
           "Não"
          ],
          [
           "Sim"
          ],
          [
           "Não"
          ],
          [
           "Não"
          ],
          [
           "Não"
          ],
          [
           "Sim"
          ],
          [
           "Não"
          ],
          [
           "Não"
          ],
          [
           "Sim"
          ],
          [
           "Não"
          ],
          [
           "Não"
          ],
          [
           "Não"
          ],
          [
           "Não"
          ],
          [
           "Não"
          ],
          [
           "Sim"
          ],
          [
           "Sim"
          ],
          [
           "Sim"
          ],
          [
           "Sim"
          ],
          [
           "Sim"
          ],
          [
           "Sim"
          ],
          [
           "Não"
          ]
         ],
         "domain": {
          "x": [
           0,
           1
          ],
          "y": [
           0,
           1
          ]
         },
         "hovertemplate": "Fez Investimento=%{customdata[0]}<extra></extra>",
         "labels": [
          "Sim",
          "Não",
          "Não",
          "Não",
          "Sim",
          "Sim",
          "Não",
          "Não",
          "Não",
          "Sim",
          "Não",
          "Sim",
          "Não",
          "Não",
          "Não",
          "Sim",
          "Não",
          "Sim",
          "Não",
          "Sim",
          "Não",
          "Não",
          "Não",
          "Não",
          "Não",
          "Sim",
          "Sim",
          "Não",
          "Sim",
          "Não",
          "Não",
          "Não",
          "Sim",
          "Sim",
          "Não",
          "Não",
          "Não",
          "Sim",
          "Sim",
          "Sim",
          "Sim",
          "Não",
          "Não",
          "Não",
          "Não",
          "Não",
          "Não",
          "Sim",
          "Não",
          "Não",
          "Não",
          "Não",
          "Não",
          "Sim",
          "Não",
          "Sim",
          "Sim",
          "Sim",
          "Não",
          "Sim",
          "Sim",
          "Sim",
          "Não",
          "Sim",
          "Sim",
          "Não",
          "Não",
          "Sim",
          "Não",
          "Não",
          "Não",
          "Não",
          "Não",
          "Não",
          "Não",
          "Não",
          "Sim",
          "Não",
          "Não",
          "Sim",
          "Não",
          "Não",
          "Não",
          "Sim",
          "Sim",
          "Não",
          "Não",
          "Sim",
          "Sim",
          "Sim",
          "Sim",
          "Não",
          "Não",
          "Não",
          "Não",
          "Sim",
          "Não",
          "Sim",
          "Sim",
          "Não",
          "Não",
          "Não",
          "Não",
          "Não",
          "Não",
          "Não",
          "Não",
          "Sim",
          "Não",
          "Não",
          "Não",
          "Não",
          "Sim",
          "Não",
          "Não",
          "Não",
          "Não",
          "Não",
          "Não",
          "Não",
          "Não",
          "Não",
          "Sim",
          "Não",
          "Não",
          "Não",
          "Não",
          "Não",
          "Não",
          "Não",
          "Sim",
          "Sim",
          "Não",
          "Sim",
          "Sim",
          "Sim",
          "Sim",
          "Não",
          "Não",
          "Sim",
          "Não",
          "Sim",
          "Sim",
          "Não",
          "Não",
          "Sim",
          "Não",
          "Sim",
          "Sim",
          "Sim",
          "Não",
          "Não",
          "Sim",
          "Não",
          "Sim",
          "Sim",
          "Não",
          "Não",
          "Não",
          "Não",
          "Não",
          "Não",
          "Sim",
          "Não",
          "Não",
          "Não",
          "Sim",
          "Sim",
          "Não",
          "Não",
          "Sim",
          "Não",
          "Não",
          "Sim",
          "Sim",
          "Não",
          "Não",
          "Não",
          "Sim",
          "Não",
          "Não",
          "Sim",
          "Não",
          "Sim",
          "Não",
          "Não",
          "Não",
          "Não",
          "Não",
          "Não",
          "Não",
          "Não",
          "Não",
          "Não",
          "Não",
          "Sim",
          "Sim",
          "Não",
          "Sim",
          "Não",
          "Não",
          "Sim",
          "Não",
          "Sim",
          "Sim",
          "Não",
          "Sim",
          "Não",
          "Não",
          "Sim",
          "Sim",
          "Não",
          "Não",
          "Não",
          "Sim",
          "Sim",
          "Não",
          "Sim",
          "Não",
          "Sim",
          "Não",
          "Não",
          "Não",
          "Não",
          "Não",
          "Não",
          "Não",
          "Não",
          "Sim",
          "Não",
          "Não",
          "Não",
          "Não",
          "Não",
          "Não",
          "Sim",
          "Não",
          "Não",
          "Não",
          "Sim",
          "Não",
          "Sim",
          "Sim",
          "Não",
          "Não",
          "Não",
          "Não",
          "Não",
          "Sim",
          "Sim",
          "Não",
          "Sim",
          "Sim",
          "Não",
          "Não",
          "Sim",
          "Sim",
          "Sim",
          "Não",
          "Não",
          "Não",
          "Não",
          "Sim",
          "Não",
          "Não",
          "Não",
          "Sim",
          "Não",
          "Não",
          "Não",
          "Sim",
          "Sim",
          "Não",
          "Sim",
          "Não",
          "Não",
          "Não",
          "Sim",
          "Sim",
          "Não",
          "Sim",
          "Sim",
          "Não",
          "Não",
          "Sim",
          "Sim",
          "Não",
          "Não",
          "Não",
          "Sim",
          "Não",
          "Não",
          "Não",
          "Não",
          "Não",
          "Sim",
          "Não",
          "Não",
          "Não",
          "Não",
          "Não",
          "Sim",
          "Não",
          "Não",
          "Não",
          "Não",
          "Sim",
          "Não",
          "Não",
          "Sim",
          "Não",
          "Sim",
          "Sim",
          "Não",
          "Não",
          "Não",
          "Sim",
          "Sim",
          "Sim",
          "Não",
          "Não",
          "Não",
          "Sim",
          "Sim",
          "Não",
          "Não",
          "Não",
          "Não",
          "Sim",
          "Sim",
          "Sim",
          "Não",
          "Sim",
          "Não",
          "Não",
          "Não",
          "Sim",
          "Não",
          "Não",
          "Sim",
          "Não",
          "Não",
          "Não",
          "Não",
          "Não",
          "Sim",
          "Sim",
          "Sim",
          "Não",
          "Não",
          "Não",
          "Sim",
          "Não",
          "Não",
          "Não",
          "Não",
          "Não",
          "Não",
          "Não",
          "Não",
          "Não",
          "Não",
          "Não",
          "Não",
          "Não",
          "Sim",
          "Sim",
          "Não",
          "Não",
          "Não",
          "Não",
          "Sim",
          "Não",
          "Não",
          "Não",
          "Sim",
          "Sim",
          "Sim",
          "Não",
          "Não",
          "Não",
          "Sim",
          "Sim",
          "Não",
          "Não",
          "Não",
          "Sim",
          "Não",
          "Não",
          "Não",
          "Não",
          "Não",
          "Não",
          "Não",
          "Não",
          "Não",
          "Não",
          "Sim",
          "Não",
          "Não",
          "Não",
          "Não",
          "Não",
          "Não",
          "Não",
          "Não",
          "Não",
          "Não",
          "Não",
          "Não",
          "Não",
          "Sim",
          "Não",
          "Não",
          "Sim",
          "Não",
          "Não",
          "Não",
          "Não",
          "Sim",
          "Não",
          "Sim",
          "Não",
          "Não",
          "Não",
          "Não",
          "Não",
          "Não",
          "Não",
          "Não",
          "Não",
          "Não",
          "Não",
          "Sim",
          "Não",
          "Sim",
          "Sim",
          "Sim",
          "Sim",
          "Não",
          "Sim",
          "Não",
          "Não",
          "Sim",
          "Não",
          "Não",
          "Não",
          "Não",
          "Não",
          "Sim",
          "Não",
          "Não",
          "Sim",
          "Não",
          "Não",
          "Não",
          "Não",
          "Não",
          "Não",
          "Sim",
          "Não",
          "Sim",
          "Não",
          "Não",
          "Não",
          "Sim",
          "Não",
          "Não",
          "Não",
          "Não",
          "Não",
          "Não",
          "Não",
          "Não",
          "Não",
          "Não",
          "Não",
          "Sim",
          "Não",
          "Não",
          "Sim",
          "Sim",
          "Sim",
          "Sim",
          "Não",
          "Não",
          "Não",
          "Não",
          "Não",
          "Não",
          "Não",
          "Não",
          "Não",
          "Não",
          "Sim",
          "Não",
          "Sim",
          "Não",
          "Sim",
          "Não",
          "Não",
          "Não",
          "Não",
          "Não",
          "Não",
          "Sim",
          "Sim",
          "Não",
          "Não",
          "Não",
          "Não",
          "Não",
          "Não",
          "Não",
          "Não",
          "Não",
          "Não",
          "Não",
          "Sim",
          "Não",
          "Não",
          "Não",
          "Não",
          "Não",
          "Não",
          "Não",
          "Não",
          "Não",
          "Não",
          "Não",
          "Não",
          "Sim",
          "Não",
          "Não",
          "Não",
          "Não",
          "Não",
          "Sim",
          "Não",
          "Sim",
          "Não",
          "Sim",
          "Não",
          "Sim",
          "Não",
          "Sim",
          "Não",
          "Não",
          "Não",
          "Não",
          "Não",
          "Sim",
          "Não",
          "Sim",
          "Não",
          "Não",
          "Não",
          "Sim",
          "Não",
          "Sim",
          "Sim",
          "Sim",
          "Não",
          "Não",
          "Sim",
          "Não",
          "Não",
          "Sim",
          "Sim",
          "Não",
          "Sim",
          "Não",
          "Não",
          "Não",
          "Não",
          "Sim",
          "Não",
          "Não",
          "Não",
          "Não",
          "Sim",
          "Não",
          "Sim",
          "Sim",
          "Sim",
          "Não",
          "Sim",
          "Não",
          "Não",
          "Não",
          "Não",
          "Sim",
          "Não",
          "Sim",
          "Sim",
          "Não",
          "Sim",
          "Não",
          "Não",
          "Não",
          "Não",
          "Sim",
          "Não",
          "Sim",
          "Não",
          "Não",
          "Não",
          "Não",
          "Sim",
          "Não",
          "Sim",
          "Não",
          "Não",
          "Sim",
          "Sim",
          "Sim",
          "Não",
          "Sim",
          "Não",
          "Não",
          "Não",
          "Não",
          "Não",
          "Sim",
          "Não",
          "Sim",
          "Não",
          "Sim",
          "Não",
          "Não",
          "Sim",
          "Não",
          "Não",
          "Sim",
          "Sim",
          "Não",
          "Não",
          "Sim",
          "Não",
          "Não",
          "Não",
          "Não",
          "Não",
          "Não",
          "Não",
          "Não",
          "Não",
          "Não",
          "Sim",
          "Sim",
          "Não",
          "Não",
          "Não",
          "Não",
          "Não",
          "Não",
          "Sim",
          "Não",
          "Não",
          "Não",
          "Não",
          "Sim",
          "Não",
          "Não",
          "Sim",
          "Não",
          "Não",
          "Não",
          "Não",
          "Não",
          "Sim",
          "Sim",
          "Não",
          "Não",
          "Não",
          "Não",
          "Não",
          "Não",
          "Não",
          "Sim",
          "Não",
          "Sim",
          "Não",
          "Não",
          "Não",
          "Não",
          "Não",
          "Sim",
          "Sim",
          "Não",
          "Não",
          "Não",
          "Sim",
          "Sim",
          "Sim",
          "Sim",
          "Não",
          "Não",
          "Não",
          "Não",
          "Não",
          "Não",
          "Não",
          "Não",
          "Não",
          "Não",
          "Não",
          "Não",
          "Não",
          "Não",
          "Sim",
          "Não",
          "Não",
          "Não",
          "Sim",
          "Sim",
          "Sim",
          "Não",
          "Sim",
          "Sim",
          "Sim",
          "Não",
          "Não",
          "Não",
          "Sim",
          "Não",
          "Não",
          "Não",
          "Não",
          "Não",
          "Não",
          "Não",
          "Não",
          "Não",
          "Não",
          "Não",
          "Sim",
          "Não",
          "Não",
          "Não",
          "Não",
          "Não",
          "Não",
          "Sim",
          "Não",
          "Sim",
          "Sim",
          "Não",
          "Não",
          "Não",
          "Não",
          "Sim",
          "Não",
          "Não",
          "Sim",
          "Não",
          "Não",
          "Não",
          "Sim",
          "Sim",
          "Não",
          "Não",
          "Sim",
          "Sim",
          "Não",
          "Sim",
          "Não",
          "Não",
          "Não",
          "Não",
          "Sim",
          "Não",
          "Não",
          "Não",
          "Não",
          "Sim",
          "Não",
          "Sim",
          "Não",
          "Não",
          "Não",
          "Sim",
          "Não",
          "Não",
          "Sim",
          "Não",
          "Não",
          "Não",
          "Sim",
          "Sim",
          "Não",
          "Sim",
          "Sim",
          "Não",
          "Sim",
          "Não",
          "Sim",
          "Sim",
          "Não",
          "Não",
          "Sim",
          "Não",
          "Não",
          "Sim",
          "Sim",
          "Não",
          "Sim",
          "Não",
          "Sim",
          "Não",
          "Sim",
          "Sim",
          "Sim",
          "Não",
          "Não",
          "Sim",
          "Não",
          "Não",
          "Não",
          "Não",
          "Não",
          "Sim",
          "Não",
          "Não",
          "Não",
          "Sim",
          "Sim",
          "Não",
          "Não",
          "Sim",
          "Sim",
          "Sim",
          "Não",
          "Sim",
          "Não",
          "Sim",
          "Sim",
          "Não",
          "Sim",
          "Sim",
          "Sim",
          "Não",
          "Não",
          "Não",
          "Não",
          "Não",
          "Não",
          "Sim",
          "Sim",
          "Não",
          "Não",
          "Não",
          "Não",
          "Não",
          "Não",
          "Não",
          "Sim",
          "Sim",
          "Não",
          "Não",
          "Sim",
          "Não",
          "Sim",
          "Sim",
          "Não",
          "Não",
          "Não",
          "Não",
          "Não",
          "Não",
          "Não",
          "Não",
          "Não",
          "Não",
          "Sim",
          "Sim",
          "Sim",
          "Não",
          "Sim",
          "Não",
          "Não",
          "Não",
          "Não",
          "Sim",
          "Sim",
          "Não",
          "Sim",
          "Sim",
          "Não",
          "Não",
          "Sim",
          "Não",
          "Sim",
          "Não",
          "Não",
          "Sim",
          "Não",
          "Não",
          "Sim",
          "Não",
          "Não",
          "Não",
          "Não",
          "Não",
          "Sim",
          "Não",
          "Sim",
          "Não",
          "Não",
          "Não",
          "Não",
          "Não",
          "Sim",
          "Não",
          "Não",
          "Não",
          "Não",
          "Não",
          "Não",
          "Não",
          "Não",
          "Não",
          "Sim",
          "Sim",
          "Sim",
          "Não",
          "Sim",
          "Não",
          "Não",
          "Sim",
          "Não",
          "Não",
          "Sim",
          "Sim",
          "Sim",
          "Sim",
          "Sim",
          "Não",
          "Não",
          "Sim",
          "Não",
          "Não",
          "Sim",
          "Não",
          "Não",
          "Não",
          "Não",
          "Não",
          "Não",
          "Não",
          "Não",
          "Sim",
          "Sim",
          "Não",
          "Sim",
          "Não",
          "Não",
          "Não",
          "Não",
          "Não",
          "Sim",
          "Não",
          "Não",
          "Não",
          "Não",
          "Não",
          "Não",
          "Não",
          "Sim",
          "Sim",
          "Não",
          "Sim",
          "Não",
          "Sim",
          "Sim",
          "Não",
          "Não",
          "Não",
          "Sim",
          "Sim",
          "Não",
          "Sim",
          "Não",
          "Não",
          "Sim",
          "Sim",
          "Sim",
          "Não",
          "Não",
          "Não",
          "Não",
          "Não",
          "Sim",
          "Sim",
          "Sim",
          "Não",
          "Sim",
          "Não",
          "Sim",
          "Sim",
          "Não",
          "Não",
          "Sim",
          "Sim",
          "Não",
          "Não",
          "Não",
          "Sim",
          "Sim",
          "Não",
          "Não",
          "Não",
          "Não",
          "Sim",
          "Não",
          "Não",
          "Não",
          "Não",
          "Não",
          "Sim",
          "Sim",
          "Não",
          "Sim",
          "Não",
          "Sim",
          "Não",
          "Não",
          "Sim",
          "Sim",
          "Não",
          "Não",
          "Não",
          "Não",
          "Não",
          "Não",
          "Não",
          "Sim",
          "Não",
          "Não",
          "Não",
          "Não",
          "Sim",
          "Não",
          "Não",
          "Não",
          "Não",
          "Não",
          "Não",
          "Não",
          "Não",
          "Não",
          "Não",
          "Não",
          "Não",
          "Não",
          "Não",
          "Sim",
          "Não",
          "Sim",
          "Não",
          "Não",
          "Não",
          "Não",
          "Sim",
          "Não",
          "Não",
          "Não",
          "Sim",
          "Sim",
          "Não",
          "Sim",
          "Não",
          "Não",
          "Não",
          "Sim",
          "Não",
          "Não",
          "Não",
          "Não",
          "Sim",
          "Sim",
          "Não",
          "Sim",
          "Sim",
          "Sim",
          "Sim",
          "Não",
          "Não",
          "Sim",
          "Sim",
          "Não",
          "Sim",
          "Não",
          "Não",
          "Não",
          "Não",
          "Não",
          "Não",
          "Não",
          "Não",
          "Sim",
          "Não",
          "Não",
          "Não",
          "Não",
          "Não",
          "Não",
          "Não",
          "Não",
          "Sim",
          "Não",
          "Não",
          "Sim",
          "Não",
          "Não",
          "Sim",
          "Não",
          "Sim",
          "Não",
          "Não",
          "Não",
          "Não",
          "Não",
          "Não",
          "Não",
          "Não",
          "Não",
          "Não",
          "Não",
          "Sim",
          "Sim",
          "Sim",
          "Sim",
          "Não",
          "Sim",
          "Não",
          "Não",
          "Não",
          "Não",
          "Não",
          "Não",
          "Não",
          "Sim",
          "Sim",
          "Sim",
          "Não",
          "Não",
          "Não",
          "Não",
          "Sim",
          "Não",
          "Não",
          "Não",
          "Não",
          "Não",
          "Não",
          "Não",
          "Não",
          "Não",
          "Não",
          "Não",
          "Não",
          "Não",
          "Sim",
          "Não",
          "Não",
          "Não",
          "Não",
          "Não",
          "Sim",
          "Sim",
          "Não",
          "Sim",
          "Não",
          "Sim",
          "Não",
          "Sim",
          "Não",
          "Não",
          "Não",
          "Não",
          "Não",
          "Não",
          "Não",
          "Não",
          "Sim",
          "Sim",
          "Sim",
          "Sim",
          "Não",
          "Sim",
          "Não",
          "Sim",
          "Não",
          "Não",
          "Não",
          "Não",
          "Não",
          "Sim",
          "Não",
          "Sim",
          "Sim",
          "Sim",
          "Sim",
          "Não",
          "Não",
          "Não",
          "Não",
          "Não",
          "Não",
          "Sim",
          "Sim",
          "Não",
          "Não",
          "Sim",
          "Sim",
          "Não",
          "Sim",
          "Sim",
          "Não",
          "Não",
          "Sim",
          "Não",
          "Não",
          "Não",
          "Não",
          "Não",
          "Não",
          "Não",
          "Não",
          "Sim",
          "Não",
          "Sim",
          "Sim",
          "Não",
          "Não",
          "Não",
          "Não",
          "Não",
          "Não",
          "Não",
          "Sim",
          "Não",
          "Sim",
          "Não",
          "Não",
          "Não",
          "Sim",
          "Sim",
          "Não",
          "Não",
          "Sim",
          "Não",
          "Não",
          "Sim",
          "Não",
          "Não",
          "Não",
          "Não",
          "Não",
          "Sim",
          "Não",
          "Não",
          "Não",
          "Não",
          "Não",
          "Sim",
          "Não",
          "Não",
          "Sim",
          "Sim",
          "Sim",
          "Não",
          "Sim",
          "Não",
          "Sim",
          "Não",
          "Sim",
          "Não",
          "Não",
          "Sim",
          "Não",
          "Sim",
          "Sim",
          "Sim",
          "Não",
          "Não",
          "Sim",
          "Não",
          "Sim",
          "Sim",
          "Não",
          "Sim",
          "Não",
          "Não",
          "Não",
          "Sim",
          "Sim",
          "Não",
          "Não",
          "Não",
          "Não",
          "Não",
          "Sim",
          "Não",
          "Sim",
          "Não",
          "Não",
          "Não",
          "Não",
          "Sim",
          "Não",
          "Sim",
          "Não",
          "Sim",
          "Não",
          "Sim",
          "Não",
          "Sim",
          "Não",
          "Sim",
          "Sim",
          "Sim",
          "Não",
          "Não",
          "Sim",
          "Não",
          "Não",
          "Não",
          "Sim",
          "Não",
          "Não",
          "Sim",
          "Não",
          "Não",
          "Não",
          "Não",
          "Não",
          "Sim",
          "Sim",
          "Sim",
          "Sim",
          "Sim",
          "Sim",
          "Não"
         ],
         "legendgroup": "",
         "marker": {
          "colors": [
           "#150035",
           "#5E96EC",
           "#5E96EC",
           "#5E96EC",
           "#150035",
           "#150035",
           "#5E96EC",
           "#5E96EC",
           "#5E96EC",
           "#150035",
           "#5E96EC",
           "#150035",
           "#5E96EC",
           "#5E96EC",
           "#5E96EC",
           "#150035",
           "#5E96EC",
           "#150035",
           "#5E96EC",
           "#150035",
           "#5E96EC",
           "#5E96EC",
           "#5E96EC",
           "#5E96EC",
           "#5E96EC",
           "#150035",
           "#150035",
           "#5E96EC",
           "#150035",
           "#5E96EC",
           "#5E96EC",
           "#5E96EC",
           "#150035",
           "#150035",
           "#5E96EC",
           "#5E96EC",
           "#5E96EC",
           "#150035",
           "#150035",
           "#150035",
           "#150035",
           "#5E96EC",
           "#5E96EC",
           "#5E96EC",
           "#5E96EC",
           "#5E96EC",
           "#5E96EC",
           "#150035",
           "#5E96EC",
           "#5E96EC",
           "#5E96EC",
           "#5E96EC",
           "#5E96EC",
           "#150035",
           "#5E96EC",
           "#150035",
           "#150035",
           "#150035",
           "#5E96EC",
           "#150035",
           "#150035",
           "#150035",
           "#5E96EC",
           "#150035",
           "#150035",
           "#5E96EC",
           "#5E96EC",
           "#150035",
           "#5E96EC",
           "#5E96EC",
           "#5E96EC",
           "#5E96EC",
           "#5E96EC",
           "#5E96EC",
           "#5E96EC",
           "#5E96EC",
           "#150035",
           "#5E96EC",
           "#5E96EC",
           "#150035",
           "#5E96EC",
           "#5E96EC",
           "#5E96EC",
           "#150035",
           "#150035",
           "#5E96EC",
           "#5E96EC",
           "#150035",
           "#150035",
           "#150035",
           "#150035",
           "#5E96EC",
           "#5E96EC",
           "#5E96EC",
           "#5E96EC",
           "#150035",
           "#5E96EC",
           "#150035",
           "#150035",
           "#5E96EC",
           "#5E96EC",
           "#5E96EC",
           "#5E96EC",
           "#5E96EC",
           "#5E96EC",
           "#5E96EC",
           "#5E96EC",
           "#150035",
           "#5E96EC",
           "#5E96EC",
           "#5E96EC",
           "#5E96EC",
           "#150035",
           "#5E96EC",
           "#5E96EC",
           "#5E96EC",
           "#5E96EC",
           "#5E96EC",
           "#5E96EC",
           "#5E96EC",
           "#5E96EC",
           "#5E96EC",
           "#150035",
           "#5E96EC",
           "#5E96EC",
           "#5E96EC",
           "#5E96EC",
           "#5E96EC",
           "#5E96EC",
           "#5E96EC",
           "#150035",
           "#150035",
           "#5E96EC",
           "#150035",
           "#150035",
           "#150035",
           "#150035",
           "#5E96EC",
           "#5E96EC",
           "#150035",
           "#5E96EC",
           "#150035",
           "#150035",
           "#5E96EC",
           "#5E96EC",
           "#150035",
           "#5E96EC",
           "#150035",
           "#150035",
           "#150035",
           "#5E96EC",
           "#5E96EC",
           "#150035",
           "#5E96EC",
           "#150035",
           "#150035",
           "#5E96EC",
           "#5E96EC",
           "#5E96EC",
           "#5E96EC",
           "#5E96EC",
           "#5E96EC",
           "#150035",
           "#5E96EC",
           "#5E96EC",
           "#5E96EC",
           "#150035",
           "#150035",
           "#5E96EC",
           "#5E96EC",
           "#150035",
           "#5E96EC",
           "#5E96EC",
           "#150035",
           "#150035",
           "#5E96EC",
           "#5E96EC",
           "#5E96EC",
           "#150035",
           "#5E96EC",
           "#5E96EC",
           "#150035",
           "#5E96EC",
           "#150035",
           "#5E96EC",
           "#5E96EC",
           "#5E96EC",
           "#5E96EC",
           "#5E96EC",
           "#5E96EC",
           "#5E96EC",
           "#5E96EC",
           "#5E96EC",
           "#5E96EC",
           "#5E96EC",
           "#150035",
           "#150035",
           "#5E96EC",
           "#150035",
           "#5E96EC",
           "#5E96EC",
           "#150035",
           "#5E96EC",
           "#150035",
           "#150035",
           "#5E96EC",
           "#150035",
           "#5E96EC",
           "#5E96EC",
           "#150035",
           "#150035",
           "#5E96EC",
           "#5E96EC",
           "#5E96EC",
           "#150035",
           "#150035",
           "#5E96EC",
           "#150035",
           "#5E96EC",
           "#150035",
           "#5E96EC",
           "#5E96EC",
           "#5E96EC",
           "#5E96EC",
           "#5E96EC",
           "#5E96EC",
           "#5E96EC",
           "#5E96EC",
           "#150035",
           "#5E96EC",
           "#5E96EC",
           "#5E96EC",
           "#5E96EC",
           "#5E96EC",
           "#5E96EC",
           "#150035",
           "#5E96EC",
           "#5E96EC",
           "#5E96EC",
           "#150035",
           "#5E96EC",
           "#150035",
           "#150035",
           "#5E96EC",
           "#5E96EC",
           "#5E96EC",
           "#5E96EC",
           "#5E96EC",
           "#150035",
           "#150035",
           "#5E96EC",
           "#150035",
           "#150035",
           "#5E96EC",
           "#5E96EC",
           "#150035",
           "#150035",
           "#150035",
           "#5E96EC",
           "#5E96EC",
           "#5E96EC",
           "#5E96EC",
           "#150035",
           "#5E96EC",
           "#5E96EC",
           "#5E96EC",
           "#150035",
           "#5E96EC",
           "#5E96EC",
           "#5E96EC",
           "#150035",
           "#150035",
           "#5E96EC",
           "#150035",
           "#5E96EC",
           "#5E96EC",
           "#5E96EC",
           "#150035",
           "#150035",
           "#5E96EC",
           "#150035",
           "#150035",
           "#5E96EC",
           "#5E96EC",
           "#150035",
           "#150035",
           "#5E96EC",
           "#5E96EC",
           "#5E96EC",
           "#150035",
           "#5E96EC",
           "#5E96EC",
           "#5E96EC",
           "#5E96EC",
           "#5E96EC",
           "#150035",
           "#5E96EC",
           "#5E96EC",
           "#5E96EC",
           "#5E96EC",
           "#5E96EC",
           "#150035",
           "#5E96EC",
           "#5E96EC",
           "#5E96EC",
           "#5E96EC",
           "#150035",
           "#5E96EC",
           "#5E96EC",
           "#150035",
           "#5E96EC",
           "#150035",
           "#150035",
           "#5E96EC",
           "#5E96EC",
           "#5E96EC",
           "#150035",
           "#150035",
           "#150035",
           "#5E96EC",
           "#5E96EC",
           "#5E96EC",
           "#150035",
           "#150035",
           "#5E96EC",
           "#5E96EC",
           "#5E96EC",
           "#5E96EC",
           "#150035",
           "#150035",
           "#150035",
           "#5E96EC",
           "#150035",
           "#5E96EC",
           "#5E96EC",
           "#5E96EC",
           "#150035",
           "#5E96EC",
           "#5E96EC",
           "#150035",
           "#5E96EC",
           "#5E96EC",
           "#5E96EC",
           "#5E96EC",
           "#5E96EC",
           "#150035",
           "#150035",
           "#150035",
           "#5E96EC",
           "#5E96EC",
           "#5E96EC",
           "#150035",
           "#5E96EC",
           "#5E96EC",
           "#5E96EC",
           "#5E96EC",
           "#5E96EC",
           "#5E96EC",
           "#5E96EC",
           "#5E96EC",
           "#5E96EC",
           "#5E96EC",
           "#5E96EC",
           "#5E96EC",
           "#5E96EC",
           "#150035",
           "#150035",
           "#5E96EC",
           "#5E96EC",
           "#5E96EC",
           "#5E96EC",
           "#150035",
           "#5E96EC",
           "#5E96EC",
           "#5E96EC",
           "#150035",
           "#150035",
           "#150035",
           "#5E96EC",
           "#5E96EC",
           "#5E96EC",
           "#150035",
           "#150035",
           "#5E96EC",
           "#5E96EC",
           "#5E96EC",
           "#150035",
           "#5E96EC",
           "#5E96EC",
           "#5E96EC",
           "#5E96EC",
           "#5E96EC",
           "#5E96EC",
           "#5E96EC",
           "#5E96EC",
           "#5E96EC",
           "#5E96EC",
           "#150035",
           "#5E96EC",
           "#5E96EC",
           "#5E96EC",
           "#5E96EC",
           "#5E96EC",
           "#5E96EC",
           "#5E96EC",
           "#5E96EC",
           "#5E96EC",
           "#5E96EC",
           "#5E96EC",
           "#5E96EC",
           "#5E96EC",
           "#150035",
           "#5E96EC",
           "#5E96EC",
           "#150035",
           "#5E96EC",
           "#5E96EC",
           "#5E96EC",
           "#5E96EC",
           "#150035",
           "#5E96EC",
           "#150035",
           "#5E96EC",
           "#5E96EC",
           "#5E96EC",
           "#5E96EC",
           "#5E96EC",
           "#5E96EC",
           "#5E96EC",
           "#5E96EC",
           "#5E96EC",
           "#5E96EC",
           "#5E96EC",
           "#150035",
           "#5E96EC",
           "#150035",
           "#150035",
           "#150035",
           "#150035",
           "#5E96EC",
           "#150035",
           "#5E96EC",
           "#5E96EC",
           "#150035",
           "#5E96EC",
           "#5E96EC",
           "#5E96EC",
           "#5E96EC",
           "#5E96EC",
           "#150035",
           "#5E96EC",
           "#5E96EC",
           "#150035",
           "#5E96EC",
           "#5E96EC",
           "#5E96EC",
           "#5E96EC",
           "#5E96EC",
           "#5E96EC",
           "#150035",
           "#5E96EC",
           "#150035",
           "#5E96EC",
           "#5E96EC",
           "#5E96EC",
           "#150035",
           "#5E96EC",
           "#5E96EC",
           "#5E96EC",
           "#5E96EC",
           "#5E96EC",
           "#5E96EC",
           "#5E96EC",
           "#5E96EC",
           "#5E96EC",
           "#5E96EC",
           "#5E96EC",
           "#150035",
           "#5E96EC",
           "#5E96EC",
           "#150035",
           "#150035",
           "#150035",
           "#150035",
           "#5E96EC",
           "#5E96EC",
           "#5E96EC",
           "#5E96EC",
           "#5E96EC",
           "#5E96EC",
           "#5E96EC",
           "#5E96EC",
           "#5E96EC",
           "#5E96EC",
           "#150035",
           "#5E96EC",
           "#150035",
           "#5E96EC",
           "#150035",
           "#5E96EC",
           "#5E96EC",
           "#5E96EC",
           "#5E96EC",
           "#5E96EC",
           "#5E96EC",
           "#150035",
           "#150035",
           "#5E96EC",
           "#5E96EC",
           "#5E96EC",
           "#5E96EC",
           "#5E96EC",
           "#5E96EC",
           "#5E96EC",
           "#5E96EC",
           "#5E96EC",
           "#5E96EC",
           "#5E96EC",
           "#150035",
           "#5E96EC",
           "#5E96EC",
           "#5E96EC",
           "#5E96EC",
           "#5E96EC",
           "#5E96EC",
           "#5E96EC",
           "#5E96EC",
           "#5E96EC",
           "#5E96EC",
           "#5E96EC",
           "#5E96EC",
           "#150035",
           "#5E96EC",
           "#5E96EC",
           "#5E96EC",
           "#5E96EC",
           "#5E96EC",
           "#150035",
           "#5E96EC",
           "#150035",
           "#5E96EC",
           "#150035",
           "#5E96EC",
           "#150035",
           "#5E96EC",
           "#150035",
           "#5E96EC",
           "#5E96EC",
           "#5E96EC",
           "#5E96EC",
           "#5E96EC",
           "#150035",
           "#5E96EC",
           "#150035",
           "#5E96EC",
           "#5E96EC",
           "#5E96EC",
           "#150035",
           "#5E96EC",
           "#150035",
           "#150035",
           "#150035",
           "#5E96EC",
           "#5E96EC",
           "#150035",
           "#5E96EC",
           "#5E96EC",
           "#150035",
           "#150035",
           "#5E96EC",
           "#150035",
           "#5E96EC",
           "#5E96EC",
           "#5E96EC",
           "#5E96EC",
           "#150035",
           "#5E96EC",
           "#5E96EC",
           "#5E96EC",
           "#5E96EC",
           "#150035",
           "#5E96EC",
           "#150035",
           "#150035",
           "#150035",
           "#5E96EC",
           "#150035",
           "#5E96EC",
           "#5E96EC",
           "#5E96EC",
           "#5E96EC",
           "#150035",
           "#5E96EC",
           "#150035",
           "#150035",
           "#5E96EC",
           "#150035",
           "#5E96EC",
           "#5E96EC",
           "#5E96EC",
           "#5E96EC",
           "#150035",
           "#5E96EC",
           "#150035",
           "#5E96EC",
           "#5E96EC",
           "#5E96EC",
           "#5E96EC",
           "#150035",
           "#5E96EC",
           "#150035",
           "#5E96EC",
           "#5E96EC",
           "#150035",
           "#150035",
           "#150035",
           "#5E96EC",
           "#150035",
           "#5E96EC",
           "#5E96EC",
           "#5E96EC",
           "#5E96EC",
           "#5E96EC",
           "#150035",
           "#5E96EC",
           "#150035",
           "#5E96EC",
           "#150035",
           "#5E96EC",
           "#5E96EC",
           "#150035",
           "#5E96EC",
           "#5E96EC",
           "#150035",
           "#150035",
           "#5E96EC",
           "#5E96EC",
           "#150035",
           "#5E96EC",
           "#5E96EC",
           "#5E96EC",
           "#5E96EC",
           "#5E96EC",
           "#5E96EC",
           "#5E96EC",
           "#5E96EC",
           "#5E96EC",
           "#5E96EC",
           "#150035",
           "#150035",
           "#5E96EC",
           "#5E96EC",
           "#5E96EC",
           "#5E96EC",
           "#5E96EC",
           "#5E96EC",
           "#150035",
           "#5E96EC",
           "#5E96EC",
           "#5E96EC",
           "#5E96EC",
           "#150035",
           "#5E96EC",
           "#5E96EC",
           "#150035",
           "#5E96EC",
           "#5E96EC",
           "#5E96EC",
           "#5E96EC",
           "#5E96EC",
           "#150035",
           "#150035",
           "#5E96EC",
           "#5E96EC",
           "#5E96EC",
           "#5E96EC",
           "#5E96EC",
           "#5E96EC",
           "#5E96EC",
           "#150035",
           "#5E96EC",
           "#150035",
           "#5E96EC",
           "#5E96EC",
           "#5E96EC",
           "#5E96EC",
           "#5E96EC",
           "#150035",
           "#150035",
           "#5E96EC",
           "#5E96EC",
           "#5E96EC",
           "#150035",
           "#150035",
           "#150035",
           "#150035",
           "#5E96EC",
           "#5E96EC",
           "#5E96EC",
           "#5E96EC",
           "#5E96EC",
           "#5E96EC",
           "#5E96EC",
           "#5E96EC",
           "#5E96EC",
           "#5E96EC",
           "#5E96EC",
           "#5E96EC",
           "#5E96EC",
           "#5E96EC",
           "#150035",
           "#5E96EC",
           "#5E96EC",
           "#5E96EC",
           "#150035",
           "#150035",
           "#150035",
           "#5E96EC",
           "#150035",
           "#150035",
           "#150035",
           "#5E96EC",
           "#5E96EC",
           "#5E96EC",
           "#150035",
           "#5E96EC",
           "#5E96EC",
           "#5E96EC",
           "#5E96EC",
           "#5E96EC",
           "#5E96EC",
           "#5E96EC",
           "#5E96EC",
           "#5E96EC",
           "#5E96EC",
           "#5E96EC",
           "#150035",
           "#5E96EC",
           "#5E96EC",
           "#5E96EC",
           "#5E96EC",
           "#5E96EC",
           "#5E96EC",
           "#150035",
           "#5E96EC",
           "#150035",
           "#150035",
           "#5E96EC",
           "#5E96EC",
           "#5E96EC",
           "#5E96EC",
           "#150035",
           "#5E96EC",
           "#5E96EC",
           "#150035",
           "#5E96EC",
           "#5E96EC",
           "#5E96EC",
           "#150035",
           "#150035",
           "#5E96EC",
           "#5E96EC",
           "#150035",
           "#150035",
           "#5E96EC",
           "#150035",
           "#5E96EC",
           "#5E96EC",
           "#5E96EC",
           "#5E96EC",
           "#150035",
           "#5E96EC",
           "#5E96EC",
           "#5E96EC",
           "#5E96EC",
           "#150035",
           "#5E96EC",
           "#150035",
           "#5E96EC",
           "#5E96EC",
           "#5E96EC",
           "#150035",
           "#5E96EC",
           "#5E96EC",
           "#150035",
           "#5E96EC",
           "#5E96EC",
           "#5E96EC",
           "#150035",
           "#150035",
           "#5E96EC",
           "#150035",
           "#150035",
           "#5E96EC",
           "#150035",
           "#5E96EC",
           "#150035",
           "#150035",
           "#5E96EC",
           "#5E96EC",
           "#150035",
           "#5E96EC",
           "#5E96EC",
           "#150035",
           "#150035",
           "#5E96EC",
           "#150035",
           "#5E96EC",
           "#150035",
           "#5E96EC",
           "#150035",
           "#150035",
           "#150035",
           "#5E96EC",
           "#5E96EC",
           "#150035",
           "#5E96EC",
           "#5E96EC",
           "#5E96EC",
           "#5E96EC",
           "#5E96EC",
           "#150035",
           "#5E96EC",
           "#5E96EC",
           "#5E96EC",
           "#150035",
           "#150035",
           "#5E96EC",
           "#5E96EC",
           "#150035",
           "#150035",
           "#150035",
           "#5E96EC",
           "#150035",
           "#5E96EC",
           "#150035",
           "#150035",
           "#5E96EC",
           "#150035",
           "#150035",
           "#150035",
           "#5E96EC",
           "#5E96EC",
           "#5E96EC",
           "#5E96EC",
           "#5E96EC",
           "#5E96EC",
           "#150035",
           "#150035",
           "#5E96EC",
           "#5E96EC",
           "#5E96EC",
           "#5E96EC",
           "#5E96EC",
           "#5E96EC",
           "#5E96EC",
           "#150035",
           "#150035",
           "#5E96EC",
           "#5E96EC",
           "#150035",
           "#5E96EC",
           "#150035",
           "#150035",
           "#5E96EC",
           "#5E96EC",
           "#5E96EC",
           "#5E96EC",
           "#5E96EC",
           "#5E96EC",
           "#5E96EC",
           "#5E96EC",
           "#5E96EC",
           "#5E96EC",
           "#150035",
           "#150035",
           "#150035",
           "#5E96EC",
           "#150035",
           "#5E96EC",
           "#5E96EC",
           "#5E96EC",
           "#5E96EC",
           "#150035",
           "#150035",
           "#5E96EC",
           "#150035",
           "#150035",
           "#5E96EC",
           "#5E96EC",
           "#150035",
           "#5E96EC",
           "#150035",
           "#5E96EC",
           "#5E96EC",
           "#150035",
           "#5E96EC",
           "#5E96EC",
           "#150035",
           "#5E96EC",
           "#5E96EC",
           "#5E96EC",
           "#5E96EC",
           "#5E96EC",
           "#150035",
           "#5E96EC",
           "#150035",
           "#5E96EC",
           "#5E96EC",
           "#5E96EC",
           "#5E96EC",
           "#5E96EC",
           "#150035",
           "#5E96EC",
           "#5E96EC",
           "#5E96EC",
           "#5E96EC",
           "#5E96EC",
           "#5E96EC",
           "#5E96EC",
           "#5E96EC",
           "#5E96EC",
           "#150035",
           "#150035",
           "#150035",
           "#5E96EC",
           "#150035",
           "#5E96EC",
           "#5E96EC",
           "#150035",
           "#5E96EC",
           "#5E96EC",
           "#150035",
           "#150035",
           "#150035",
           "#150035",
           "#150035",
           "#5E96EC",
           "#5E96EC",
           "#150035",
           "#5E96EC",
           "#5E96EC",
           "#150035",
           "#5E96EC",
           "#5E96EC",
           "#5E96EC",
           "#5E96EC",
           "#5E96EC",
           "#5E96EC",
           "#5E96EC",
           "#5E96EC",
           "#150035",
           "#150035",
           "#5E96EC",
           "#150035",
           "#5E96EC",
           "#5E96EC",
           "#5E96EC",
           "#5E96EC",
           "#5E96EC",
           "#150035",
           "#5E96EC",
           "#5E96EC",
           "#5E96EC",
           "#5E96EC",
           "#5E96EC",
           "#5E96EC",
           "#5E96EC",
           "#150035",
           "#150035",
           "#5E96EC",
           "#150035",
           "#5E96EC",
           "#150035",
           "#150035",
           "#5E96EC",
           "#5E96EC",
           "#5E96EC",
           "#150035",
           "#150035",
           "#5E96EC",
           "#150035",
           "#5E96EC",
           "#5E96EC",
           "#150035",
           "#150035",
           "#150035",
           "#5E96EC",
           "#5E96EC",
           "#5E96EC",
           "#5E96EC",
           "#5E96EC",
           "#150035",
           "#150035",
           "#150035",
           "#5E96EC",
           "#150035",
           "#5E96EC",
           "#150035",
           "#150035",
           "#5E96EC",
           "#5E96EC",
           "#150035",
           "#150035",
           "#5E96EC",
           "#5E96EC",
           "#5E96EC",
           "#150035",
           "#150035",
           "#5E96EC",
           "#5E96EC",
           "#5E96EC",
           "#5E96EC",
           "#150035",
           "#5E96EC",
           "#5E96EC",
           "#5E96EC",
           "#5E96EC",
           "#5E96EC",
           "#150035",
           "#150035",
           "#5E96EC",
           "#150035",
           "#5E96EC",
           "#150035",
           "#5E96EC",
           "#5E96EC",
           "#150035",
           "#150035",
           "#5E96EC",
           "#5E96EC",
           "#5E96EC",
           "#5E96EC",
           "#5E96EC",
           "#5E96EC",
           "#5E96EC",
           "#150035",
           "#5E96EC",
           "#5E96EC",
           "#5E96EC",
           "#5E96EC",
           "#150035",
           "#5E96EC",
           "#5E96EC",
           "#5E96EC",
           "#5E96EC",
           "#5E96EC",
           "#5E96EC",
           "#5E96EC",
           "#5E96EC",
           "#5E96EC",
           "#5E96EC",
           "#5E96EC",
           "#5E96EC",
           "#5E96EC",
           "#5E96EC",
           "#150035",
           "#5E96EC",
           "#150035",
           "#5E96EC",
           "#5E96EC",
           "#5E96EC",
           "#5E96EC",
           "#150035",
           "#5E96EC",
           "#5E96EC",
           "#5E96EC",
           "#150035",
           "#150035",
           "#5E96EC",
           "#150035",
           "#5E96EC",
           "#5E96EC",
           "#5E96EC",
           "#150035",
           "#5E96EC",
           "#5E96EC",
           "#5E96EC",
           "#5E96EC",
           "#150035",
           "#150035",
           "#5E96EC",
           "#150035",
           "#150035",
           "#150035",
           "#150035",
           "#5E96EC",
           "#5E96EC",
           "#150035",
           "#150035",
           "#5E96EC",
           "#150035",
           "#5E96EC",
           "#5E96EC",
           "#5E96EC",
           "#5E96EC",
           "#5E96EC",
           "#5E96EC",
           "#5E96EC",
           "#5E96EC",
           "#150035",
           "#5E96EC",
           "#5E96EC",
           "#5E96EC",
           "#5E96EC",
           "#5E96EC",
           "#5E96EC",
           "#5E96EC",
           "#5E96EC",
           "#150035",
           "#5E96EC",
           "#5E96EC",
           "#150035",
           "#5E96EC",
           "#5E96EC",
           "#150035",
           "#5E96EC",
           "#150035",
           "#5E96EC",
           "#5E96EC",
           "#5E96EC",
           "#5E96EC",
           "#5E96EC",
           "#5E96EC",
           "#5E96EC",
           "#5E96EC",
           "#5E96EC",
           "#5E96EC",
           "#5E96EC",
           "#150035",
           "#150035",
           "#150035",
           "#150035",
           "#5E96EC",
           "#150035",
           "#5E96EC",
           "#5E96EC",
           "#5E96EC",
           "#5E96EC",
           "#5E96EC",
           "#5E96EC",
           "#5E96EC",
           "#150035",
           "#150035",
           "#150035",
           "#5E96EC",
           "#5E96EC",
           "#5E96EC",
           "#5E96EC",
           "#150035",
           "#5E96EC",
           "#5E96EC",
           "#5E96EC",
           "#5E96EC",
           "#5E96EC",
           "#5E96EC",
           "#5E96EC",
           "#5E96EC",
           "#5E96EC",
           "#5E96EC",
           "#5E96EC",
           "#5E96EC",
           "#5E96EC",
           "#150035",
           "#5E96EC",
           "#5E96EC",
           "#5E96EC",
           "#5E96EC",
           "#5E96EC",
           "#150035",
           "#150035",
           "#5E96EC",
           "#150035",
           "#5E96EC",
           "#150035",
           "#5E96EC",
           "#150035",
           "#5E96EC",
           "#5E96EC",
           "#5E96EC",
           "#5E96EC",
           "#5E96EC",
           "#5E96EC",
           "#5E96EC",
           "#5E96EC",
           "#150035",
           "#150035",
           "#150035",
           "#150035",
           "#5E96EC",
           "#150035",
           "#5E96EC",
           "#150035",
           "#5E96EC",
           "#5E96EC",
           "#5E96EC",
           "#5E96EC",
           "#5E96EC",
           "#150035",
           "#5E96EC",
           "#150035",
           "#150035",
           "#150035",
           "#150035",
           "#5E96EC",
           "#5E96EC",
           "#5E96EC",
           "#5E96EC",
           "#5E96EC",
           "#5E96EC",
           "#150035",
           "#150035",
           "#5E96EC",
           "#5E96EC",
           "#150035",
           "#150035",
           "#5E96EC",
           "#150035",
           "#150035",
           "#5E96EC",
           "#5E96EC",
           "#150035",
           "#5E96EC",
           "#5E96EC",
           "#5E96EC",
           "#5E96EC",
           "#5E96EC",
           "#5E96EC",
           "#5E96EC",
           "#5E96EC",
           "#150035",
           "#5E96EC",
           "#150035",
           "#150035",
           "#5E96EC",
           "#5E96EC",
           "#5E96EC",
           "#5E96EC",
           "#5E96EC",
           "#5E96EC",
           "#5E96EC",
           "#150035",
           "#5E96EC",
           "#150035",
           "#5E96EC",
           "#5E96EC",
           "#5E96EC",
           "#150035",
           "#150035",
           "#5E96EC",
           "#5E96EC",
           "#150035",
           "#5E96EC",
           "#5E96EC",
           "#150035",
           "#5E96EC",
           "#5E96EC",
           "#5E96EC",
           "#5E96EC",
           "#5E96EC",
           "#150035",
           "#5E96EC",
           "#5E96EC",
           "#5E96EC",
           "#5E96EC",
           "#5E96EC",
           "#150035",
           "#5E96EC",
           "#5E96EC",
           "#150035",
           "#150035",
           "#150035",
           "#5E96EC",
           "#150035",
           "#5E96EC",
           "#150035",
           "#5E96EC",
           "#150035",
           "#5E96EC",
           "#5E96EC",
           "#150035",
           "#5E96EC",
           "#150035",
           "#150035",
           "#150035",
           "#5E96EC",
           "#5E96EC",
           "#150035",
           "#5E96EC",
           "#150035",
           "#150035",
           "#5E96EC",
           "#150035",
           "#5E96EC",
           "#5E96EC",
           "#5E96EC",
           "#150035",
           "#150035",
           "#5E96EC",
           "#5E96EC",
           "#5E96EC",
           "#5E96EC",
           "#5E96EC",
           "#150035",
           "#5E96EC",
           "#150035",
           "#5E96EC",
           "#5E96EC",
           "#5E96EC",
           "#5E96EC",
           "#150035",
           "#5E96EC",
           "#150035",
           "#5E96EC",
           "#150035",
           "#5E96EC",
           "#150035",
           "#5E96EC",
           "#150035",
           "#5E96EC",
           "#150035",
           "#150035",
           "#150035",
           "#5E96EC",
           "#5E96EC",
           "#150035",
           "#5E96EC",
           "#5E96EC",
           "#5E96EC",
           "#150035",
           "#5E96EC",
           "#5E96EC",
           "#150035",
           "#5E96EC",
           "#5E96EC",
           "#5E96EC",
           "#5E96EC",
           "#5E96EC",
           "#150035",
           "#150035",
           "#150035",
           "#150035",
           "#150035",
           "#150035",
           "#5E96EC"
          ]
         },
         "name": "",
         "showlegend": true,
         "type": "pie"
        }
       ],
       "layout": {
        "legend": {
         "tracegroupgap": 0
        },
        "template": {
         "data": {
          "bar": [
           {
            "error_x": {
             "color": "#2a3f5f"
            },
            "error_y": {
             "color": "#2a3f5f"
            },
            "marker": {
             "line": {
              "color": "#E5ECF6",
              "width": 0.5
             },
             "pattern": {
              "fillmode": "overlay",
              "size": 10,
              "solidity": 0.2
             }
            },
            "type": "bar"
           }
          ],
          "barpolar": [
           {
            "marker": {
             "line": {
              "color": "#E5ECF6",
              "width": 0.5
             },
             "pattern": {
              "fillmode": "overlay",
              "size": 10,
              "solidity": 0.2
             }
            },
            "type": "barpolar"
           }
          ],
          "carpet": [
           {
            "aaxis": {
             "endlinecolor": "#2a3f5f",
             "gridcolor": "white",
             "linecolor": "white",
             "minorgridcolor": "white",
             "startlinecolor": "#2a3f5f"
            },
            "baxis": {
             "endlinecolor": "#2a3f5f",
             "gridcolor": "white",
             "linecolor": "white",
             "minorgridcolor": "white",
             "startlinecolor": "#2a3f5f"
            },
            "type": "carpet"
           }
          ],
          "choropleth": [
           {
            "colorbar": {
             "outlinewidth": 0,
             "ticks": ""
            },
            "type": "choropleth"
           }
          ],
          "contour": [
           {
            "colorbar": {
             "outlinewidth": 0,
             "ticks": ""
            },
            "colorscale": [
             [
              0,
              "#0d0887"
             ],
             [
              0.1111111111111111,
              "#46039f"
             ],
             [
              0.2222222222222222,
              "#7201a8"
             ],
             [
              0.3333333333333333,
              "#9c179e"
             ],
             [
              0.4444444444444444,
              "#bd3786"
             ],
             [
              0.5555555555555556,
              "#d8576b"
             ],
             [
              0.6666666666666666,
              "#ed7953"
             ],
             [
              0.7777777777777778,
              "#fb9f3a"
             ],
             [
              0.8888888888888888,
              "#fdca26"
             ],
             [
              1,
              "#f0f921"
             ]
            ],
            "type": "contour"
           }
          ],
          "contourcarpet": [
           {
            "colorbar": {
             "outlinewidth": 0,
             "ticks": ""
            },
            "type": "contourcarpet"
           }
          ],
          "heatmap": [
           {
            "colorbar": {
             "outlinewidth": 0,
             "ticks": ""
            },
            "colorscale": [
             [
              0,
              "#0d0887"
             ],
             [
              0.1111111111111111,
              "#46039f"
             ],
             [
              0.2222222222222222,
              "#7201a8"
             ],
             [
              0.3333333333333333,
              "#9c179e"
             ],
             [
              0.4444444444444444,
              "#bd3786"
             ],
             [
              0.5555555555555556,
              "#d8576b"
             ],
             [
              0.6666666666666666,
              "#ed7953"
             ],
             [
              0.7777777777777778,
              "#fb9f3a"
             ],
             [
              0.8888888888888888,
              "#fdca26"
             ],
             [
              1,
              "#f0f921"
             ]
            ],
            "type": "heatmap"
           }
          ],
          "heatmapgl": [
           {
            "colorbar": {
             "outlinewidth": 0,
             "ticks": ""
            },
            "colorscale": [
             [
              0,
              "#0d0887"
             ],
             [
              0.1111111111111111,
              "#46039f"
             ],
             [
              0.2222222222222222,
              "#7201a8"
             ],
             [
              0.3333333333333333,
              "#9c179e"
             ],
             [
              0.4444444444444444,
              "#bd3786"
             ],
             [
              0.5555555555555556,
              "#d8576b"
             ],
             [
              0.6666666666666666,
              "#ed7953"
             ],
             [
              0.7777777777777778,
              "#fb9f3a"
             ],
             [
              0.8888888888888888,
              "#fdca26"
             ],
             [
              1,
              "#f0f921"
             ]
            ],
            "type": "heatmapgl"
           }
          ],
          "histogram": [
           {
            "marker": {
             "pattern": {
              "fillmode": "overlay",
              "size": 10,
              "solidity": 0.2
             }
            },
            "type": "histogram"
           }
          ],
          "histogram2d": [
           {
            "colorbar": {
             "outlinewidth": 0,
             "ticks": ""
            },
            "colorscale": [
             [
              0,
              "#0d0887"
             ],
             [
              0.1111111111111111,
              "#46039f"
             ],
             [
              0.2222222222222222,
              "#7201a8"
             ],
             [
              0.3333333333333333,
              "#9c179e"
             ],
             [
              0.4444444444444444,
              "#bd3786"
             ],
             [
              0.5555555555555556,
              "#d8576b"
             ],
             [
              0.6666666666666666,
              "#ed7953"
             ],
             [
              0.7777777777777778,
              "#fb9f3a"
             ],
             [
              0.8888888888888888,
              "#fdca26"
             ],
             [
              1,
              "#f0f921"
             ]
            ],
            "type": "histogram2d"
           }
          ],
          "histogram2dcontour": [
           {
            "colorbar": {
             "outlinewidth": 0,
             "ticks": ""
            },
            "colorscale": [
             [
              0,
              "#0d0887"
             ],
             [
              0.1111111111111111,
              "#46039f"
             ],
             [
              0.2222222222222222,
              "#7201a8"
             ],
             [
              0.3333333333333333,
              "#9c179e"
             ],
             [
              0.4444444444444444,
              "#bd3786"
             ],
             [
              0.5555555555555556,
              "#d8576b"
             ],
             [
              0.6666666666666666,
              "#ed7953"
             ],
             [
              0.7777777777777778,
              "#fb9f3a"
             ],
             [
              0.8888888888888888,
              "#fdca26"
             ],
             [
              1,
              "#f0f921"
             ]
            ],
            "type": "histogram2dcontour"
           }
          ],
          "mesh3d": [
           {
            "colorbar": {
             "outlinewidth": 0,
             "ticks": ""
            },
            "type": "mesh3d"
           }
          ],
          "parcoords": [
           {
            "line": {
             "colorbar": {
              "outlinewidth": 0,
              "ticks": ""
             }
            },
            "type": "parcoords"
           }
          ],
          "pie": [
           {
            "automargin": true,
            "type": "pie"
           }
          ],
          "scatter": [
           {
            "marker": {
             "colorbar": {
              "outlinewidth": 0,
              "ticks": ""
             }
            },
            "type": "scatter"
           }
          ],
          "scatter3d": [
           {
            "line": {
             "colorbar": {
              "outlinewidth": 0,
              "ticks": ""
             }
            },
            "marker": {
             "colorbar": {
              "outlinewidth": 0,
              "ticks": ""
             }
            },
            "type": "scatter3d"
           }
          ],
          "scattercarpet": [
           {
            "marker": {
             "colorbar": {
              "outlinewidth": 0,
              "ticks": ""
             }
            },
            "type": "scattercarpet"
           }
          ],
          "scattergeo": [
           {
            "marker": {
             "colorbar": {
              "outlinewidth": 0,
              "ticks": ""
             }
            },
            "type": "scattergeo"
           }
          ],
          "scattergl": [
           {
            "marker": {
             "colorbar": {
              "outlinewidth": 0,
              "ticks": ""
             }
            },
            "type": "scattergl"
           }
          ],
          "scattermapbox": [
           {
            "marker": {
             "colorbar": {
              "outlinewidth": 0,
              "ticks": ""
             }
            },
            "type": "scattermapbox"
           }
          ],
          "scatterpolar": [
           {
            "marker": {
             "colorbar": {
              "outlinewidth": 0,
              "ticks": ""
             }
            },
            "type": "scatterpolar"
           }
          ],
          "scatterpolargl": [
           {
            "marker": {
             "colorbar": {
              "outlinewidth": 0,
              "ticks": ""
             }
            },
            "type": "scatterpolargl"
           }
          ],
          "scatterternary": [
           {
            "marker": {
             "colorbar": {
              "outlinewidth": 0,
              "ticks": ""
             }
            },
            "type": "scatterternary"
           }
          ],
          "surface": [
           {
            "colorbar": {
             "outlinewidth": 0,
             "ticks": ""
            },
            "colorscale": [
             [
              0,
              "#0d0887"
             ],
             [
              0.1111111111111111,
              "#46039f"
             ],
             [
              0.2222222222222222,
              "#7201a8"
             ],
             [
              0.3333333333333333,
              "#9c179e"
             ],
             [
              0.4444444444444444,
              "#bd3786"
             ],
             [
              0.5555555555555556,
              "#d8576b"
             ],
             [
              0.6666666666666666,
              "#ed7953"
             ],
             [
              0.7777777777777778,
              "#fb9f3a"
             ],
             [
              0.8888888888888888,
              "#fdca26"
             ],
             [
              1,
              "#f0f921"
             ]
            ],
            "type": "surface"
           }
          ],
          "table": [
           {
            "cells": {
             "fill": {
              "color": "#EBF0F8"
             },
             "line": {
              "color": "white"
             }
            },
            "header": {
             "fill": {
              "color": "#C8D4E3"
             },
             "line": {
              "color": "white"
             }
            },
            "type": "table"
           }
          ]
         },
         "layout": {
          "annotationdefaults": {
           "arrowcolor": "#2a3f5f",
           "arrowhead": 0,
           "arrowwidth": 1
          },
          "autotypenumbers": "strict",
          "coloraxis": {
           "colorbar": {
            "outlinewidth": 0,
            "ticks": ""
           }
          },
          "colorscale": {
           "diverging": [
            [
             0,
             "#8e0152"
            ],
            [
             0.1,
             "#c51b7d"
            ],
            [
             0.2,
             "#de77ae"
            ],
            [
             0.3,
             "#f1b6da"
            ],
            [
             0.4,
             "#fde0ef"
            ],
            [
             0.5,
             "#f7f7f7"
            ],
            [
             0.6,
             "#e6f5d0"
            ],
            [
             0.7,
             "#b8e186"
            ],
            [
             0.8,
             "#7fbc41"
            ],
            [
             0.9,
             "#4d9221"
            ],
            [
             1,
             "#276419"
            ]
           ],
           "sequential": [
            [
             0,
             "#0d0887"
            ],
            [
             0.1111111111111111,
             "#46039f"
            ],
            [
             0.2222222222222222,
             "#7201a8"
            ],
            [
             0.3333333333333333,
             "#9c179e"
            ],
            [
             0.4444444444444444,
             "#bd3786"
            ],
            [
             0.5555555555555556,
             "#d8576b"
            ],
            [
             0.6666666666666666,
             "#ed7953"
            ],
            [
             0.7777777777777778,
             "#fb9f3a"
            ],
            [
             0.8888888888888888,
             "#fdca26"
            ],
            [
             1,
             "#f0f921"
            ]
           ],
           "sequentialminus": [
            [
             0,
             "#0d0887"
            ],
            [
             0.1111111111111111,
             "#46039f"
            ],
            [
             0.2222222222222222,
             "#7201a8"
            ],
            [
             0.3333333333333333,
             "#9c179e"
            ],
            [
             0.4444444444444444,
             "#bd3786"
            ],
            [
             0.5555555555555556,
             "#d8576b"
            ],
            [
             0.6666666666666666,
             "#ed7953"
            ],
            [
             0.7777777777777778,
             "#fb9f3a"
            ],
            [
             0.8888888888888888,
             "#fdca26"
            ],
            [
             1,
             "#f0f921"
            ]
           ]
          },
          "colorway": [
           "#636efa",
           "#EF553B",
           "#00cc96",
           "#ab63fa",
           "#FFA15A",
           "#19d3f3",
           "#FF6692",
           "#B6E880",
           "#FF97FF",
           "#FECB52"
          ],
          "font": {
           "color": "#2a3f5f"
          },
          "geo": {
           "bgcolor": "white",
           "lakecolor": "white",
           "landcolor": "#E5ECF6",
           "showlakes": true,
           "showland": true,
           "subunitcolor": "white"
          },
          "hoverlabel": {
           "align": "left"
          },
          "hovermode": "closest",
          "mapbox": {
           "style": "light"
          },
          "paper_bgcolor": "white",
          "plot_bgcolor": "#E5ECF6",
          "polar": {
           "angularaxis": {
            "gridcolor": "white",
            "linecolor": "white",
            "ticks": ""
           },
           "bgcolor": "#E5ECF6",
           "radialaxis": {
            "gridcolor": "white",
            "linecolor": "white",
            "ticks": ""
           }
          },
          "scene": {
           "xaxis": {
            "backgroundcolor": "#E5ECF6",
            "gridcolor": "white",
            "gridwidth": 2,
            "linecolor": "white",
            "showbackground": true,
            "ticks": "",
            "zerolinecolor": "white"
           },
           "yaxis": {
            "backgroundcolor": "#E5ECF6",
            "gridcolor": "white",
            "gridwidth": 2,
            "linecolor": "white",
            "showbackground": true,
            "ticks": "",
            "zerolinecolor": "white"
           },
           "zaxis": {
            "backgroundcolor": "#E5ECF6",
            "gridcolor": "white",
            "gridwidth": 2,
            "linecolor": "white",
            "showbackground": true,
            "ticks": "",
            "zerolinecolor": "white"
           }
          },
          "shapedefaults": {
           "line": {
            "color": "#2a3f5f"
           }
          },
          "ternary": {
           "aaxis": {
            "gridcolor": "white",
            "linecolor": "white",
            "ticks": ""
           },
           "baxis": {
            "gridcolor": "white",
            "linecolor": "white",
            "ticks": ""
           },
           "bgcolor": "#E5ECF6",
           "caxis": {
            "gridcolor": "white",
            "linecolor": "white",
            "ticks": ""
           }
          },
          "title": {
           "x": 0.05
          },
          "xaxis": {
           "automargin": true,
           "gridcolor": "white",
           "linecolor": "white",
           "ticks": "",
           "title": {
            "standoff": 15
           },
           "zerolinecolor": "white",
           "zerolinewidth": 2
          },
          "yaxis": {
           "automargin": true,
           "gridcolor": "white",
           "linecolor": "white",
           "ticks": "",
           "title": {
            "standoff": 15
           },
           "zerolinecolor": "white",
           "zerolinewidth": 2
          }
         }
        },
        "title": {
         "text": "Jovens de 18 a 35 anos, quando perguntados se fizeram Investimento"
        }
       }
      },
      "text/html": [
       "<div>                            <div id=\"b33e9118-ea2e-4474-969e-e03ad977fa9c\" class=\"plotly-graph-div\" style=\"height:525px; width:100%;\"></div>            <script type=\"text/javascript\">                require([\"plotly\"], function(Plotly) {                    window.PLOTLYENV=window.PLOTLYENV || {};                                    if (document.getElementById(\"b33e9118-ea2e-4474-969e-e03ad977fa9c\")) {                    Plotly.newPlot(                        \"b33e9118-ea2e-4474-969e-e03ad977fa9c\",                        [{\"customdata\":[[\"Sim\"],[\"N\\u00e3o\"],[\"N\\u00e3o\"],[\"N\\u00e3o\"],[\"Sim\"],[\"Sim\"],[\"N\\u00e3o\"],[\"N\\u00e3o\"],[\"N\\u00e3o\"],[\"Sim\"],[\"N\\u00e3o\"],[\"Sim\"],[\"N\\u00e3o\"],[\"N\\u00e3o\"],[\"N\\u00e3o\"],[\"Sim\"],[\"N\\u00e3o\"],[\"Sim\"],[\"N\\u00e3o\"],[\"Sim\"],[\"N\\u00e3o\"],[\"N\\u00e3o\"],[\"N\\u00e3o\"],[\"N\\u00e3o\"],[\"N\\u00e3o\"],[\"Sim\"],[\"Sim\"],[\"N\\u00e3o\"],[\"Sim\"],[\"N\\u00e3o\"],[\"N\\u00e3o\"],[\"N\\u00e3o\"],[\"Sim\"],[\"Sim\"],[\"N\\u00e3o\"],[\"N\\u00e3o\"],[\"N\\u00e3o\"],[\"Sim\"],[\"Sim\"],[\"Sim\"],[\"Sim\"],[\"N\\u00e3o\"],[\"N\\u00e3o\"],[\"N\\u00e3o\"],[\"N\\u00e3o\"],[\"N\\u00e3o\"],[\"N\\u00e3o\"],[\"Sim\"],[\"N\\u00e3o\"],[\"N\\u00e3o\"],[\"N\\u00e3o\"],[\"N\\u00e3o\"],[\"N\\u00e3o\"],[\"Sim\"],[\"N\\u00e3o\"],[\"Sim\"],[\"Sim\"],[\"Sim\"],[\"N\\u00e3o\"],[\"Sim\"],[\"Sim\"],[\"Sim\"],[\"N\\u00e3o\"],[\"Sim\"],[\"Sim\"],[\"N\\u00e3o\"],[\"N\\u00e3o\"],[\"Sim\"],[\"N\\u00e3o\"],[\"N\\u00e3o\"],[\"N\\u00e3o\"],[\"N\\u00e3o\"],[\"N\\u00e3o\"],[\"N\\u00e3o\"],[\"N\\u00e3o\"],[\"N\\u00e3o\"],[\"Sim\"],[\"N\\u00e3o\"],[\"N\\u00e3o\"],[\"Sim\"],[\"N\\u00e3o\"],[\"N\\u00e3o\"],[\"N\\u00e3o\"],[\"Sim\"],[\"Sim\"],[\"N\\u00e3o\"],[\"N\\u00e3o\"],[\"Sim\"],[\"Sim\"],[\"Sim\"],[\"Sim\"],[\"N\\u00e3o\"],[\"N\\u00e3o\"],[\"N\\u00e3o\"],[\"N\\u00e3o\"],[\"Sim\"],[\"N\\u00e3o\"],[\"Sim\"],[\"Sim\"],[\"N\\u00e3o\"],[\"N\\u00e3o\"],[\"N\\u00e3o\"],[\"N\\u00e3o\"],[\"N\\u00e3o\"],[\"N\\u00e3o\"],[\"N\\u00e3o\"],[\"N\\u00e3o\"],[\"Sim\"],[\"N\\u00e3o\"],[\"N\\u00e3o\"],[\"N\\u00e3o\"],[\"N\\u00e3o\"],[\"Sim\"],[\"N\\u00e3o\"],[\"N\\u00e3o\"],[\"N\\u00e3o\"],[\"N\\u00e3o\"],[\"N\\u00e3o\"],[\"N\\u00e3o\"],[\"N\\u00e3o\"],[\"N\\u00e3o\"],[\"N\\u00e3o\"],[\"Sim\"],[\"N\\u00e3o\"],[\"N\\u00e3o\"],[\"N\\u00e3o\"],[\"N\\u00e3o\"],[\"N\\u00e3o\"],[\"N\\u00e3o\"],[\"N\\u00e3o\"],[\"Sim\"],[\"Sim\"],[\"N\\u00e3o\"],[\"Sim\"],[\"Sim\"],[\"Sim\"],[\"Sim\"],[\"N\\u00e3o\"],[\"N\\u00e3o\"],[\"Sim\"],[\"N\\u00e3o\"],[\"Sim\"],[\"Sim\"],[\"N\\u00e3o\"],[\"N\\u00e3o\"],[\"Sim\"],[\"N\\u00e3o\"],[\"Sim\"],[\"Sim\"],[\"Sim\"],[\"N\\u00e3o\"],[\"N\\u00e3o\"],[\"Sim\"],[\"N\\u00e3o\"],[\"Sim\"],[\"Sim\"],[\"N\\u00e3o\"],[\"N\\u00e3o\"],[\"N\\u00e3o\"],[\"N\\u00e3o\"],[\"N\\u00e3o\"],[\"N\\u00e3o\"],[\"Sim\"],[\"N\\u00e3o\"],[\"N\\u00e3o\"],[\"N\\u00e3o\"],[\"Sim\"],[\"Sim\"],[\"N\\u00e3o\"],[\"N\\u00e3o\"],[\"Sim\"],[\"N\\u00e3o\"],[\"N\\u00e3o\"],[\"Sim\"],[\"Sim\"],[\"N\\u00e3o\"],[\"N\\u00e3o\"],[\"N\\u00e3o\"],[\"Sim\"],[\"N\\u00e3o\"],[\"N\\u00e3o\"],[\"Sim\"],[\"N\\u00e3o\"],[\"Sim\"],[\"N\\u00e3o\"],[\"N\\u00e3o\"],[\"N\\u00e3o\"],[\"N\\u00e3o\"],[\"N\\u00e3o\"],[\"N\\u00e3o\"],[\"N\\u00e3o\"],[\"N\\u00e3o\"],[\"N\\u00e3o\"],[\"N\\u00e3o\"],[\"N\\u00e3o\"],[\"Sim\"],[\"Sim\"],[\"N\\u00e3o\"],[\"Sim\"],[\"N\\u00e3o\"],[\"N\\u00e3o\"],[\"Sim\"],[\"N\\u00e3o\"],[\"Sim\"],[\"Sim\"],[\"N\\u00e3o\"],[\"Sim\"],[\"N\\u00e3o\"],[\"N\\u00e3o\"],[\"Sim\"],[\"Sim\"],[\"N\\u00e3o\"],[\"N\\u00e3o\"],[\"N\\u00e3o\"],[\"Sim\"],[\"Sim\"],[\"N\\u00e3o\"],[\"Sim\"],[\"N\\u00e3o\"],[\"Sim\"],[\"N\\u00e3o\"],[\"N\\u00e3o\"],[\"N\\u00e3o\"],[\"N\\u00e3o\"],[\"N\\u00e3o\"],[\"N\\u00e3o\"],[\"N\\u00e3o\"],[\"N\\u00e3o\"],[\"Sim\"],[\"N\\u00e3o\"],[\"N\\u00e3o\"],[\"N\\u00e3o\"],[\"N\\u00e3o\"],[\"N\\u00e3o\"],[\"N\\u00e3o\"],[\"Sim\"],[\"N\\u00e3o\"],[\"N\\u00e3o\"],[\"N\\u00e3o\"],[\"Sim\"],[\"N\\u00e3o\"],[\"Sim\"],[\"Sim\"],[\"N\\u00e3o\"],[\"N\\u00e3o\"],[\"N\\u00e3o\"],[\"N\\u00e3o\"],[\"N\\u00e3o\"],[\"Sim\"],[\"Sim\"],[\"N\\u00e3o\"],[\"Sim\"],[\"Sim\"],[\"N\\u00e3o\"],[\"N\\u00e3o\"],[\"Sim\"],[\"Sim\"],[\"Sim\"],[\"N\\u00e3o\"],[\"N\\u00e3o\"],[\"N\\u00e3o\"],[\"N\\u00e3o\"],[\"Sim\"],[\"N\\u00e3o\"],[\"N\\u00e3o\"],[\"N\\u00e3o\"],[\"Sim\"],[\"N\\u00e3o\"],[\"N\\u00e3o\"],[\"N\\u00e3o\"],[\"Sim\"],[\"Sim\"],[\"N\\u00e3o\"],[\"Sim\"],[\"N\\u00e3o\"],[\"N\\u00e3o\"],[\"N\\u00e3o\"],[\"Sim\"],[\"Sim\"],[\"N\\u00e3o\"],[\"Sim\"],[\"Sim\"],[\"N\\u00e3o\"],[\"N\\u00e3o\"],[\"Sim\"],[\"Sim\"],[\"N\\u00e3o\"],[\"N\\u00e3o\"],[\"N\\u00e3o\"],[\"Sim\"],[\"N\\u00e3o\"],[\"N\\u00e3o\"],[\"N\\u00e3o\"],[\"N\\u00e3o\"],[\"N\\u00e3o\"],[\"Sim\"],[\"N\\u00e3o\"],[\"N\\u00e3o\"],[\"N\\u00e3o\"],[\"N\\u00e3o\"],[\"N\\u00e3o\"],[\"Sim\"],[\"N\\u00e3o\"],[\"N\\u00e3o\"],[\"N\\u00e3o\"],[\"N\\u00e3o\"],[\"Sim\"],[\"N\\u00e3o\"],[\"N\\u00e3o\"],[\"Sim\"],[\"N\\u00e3o\"],[\"Sim\"],[\"Sim\"],[\"N\\u00e3o\"],[\"N\\u00e3o\"],[\"N\\u00e3o\"],[\"Sim\"],[\"Sim\"],[\"Sim\"],[\"N\\u00e3o\"],[\"N\\u00e3o\"],[\"N\\u00e3o\"],[\"Sim\"],[\"Sim\"],[\"N\\u00e3o\"],[\"N\\u00e3o\"],[\"N\\u00e3o\"],[\"N\\u00e3o\"],[\"Sim\"],[\"Sim\"],[\"Sim\"],[\"N\\u00e3o\"],[\"Sim\"],[\"N\\u00e3o\"],[\"N\\u00e3o\"],[\"N\\u00e3o\"],[\"Sim\"],[\"N\\u00e3o\"],[\"N\\u00e3o\"],[\"Sim\"],[\"N\\u00e3o\"],[\"N\\u00e3o\"],[\"N\\u00e3o\"],[\"N\\u00e3o\"],[\"N\\u00e3o\"],[\"Sim\"],[\"Sim\"],[\"Sim\"],[\"N\\u00e3o\"],[\"N\\u00e3o\"],[\"N\\u00e3o\"],[\"Sim\"],[\"N\\u00e3o\"],[\"N\\u00e3o\"],[\"N\\u00e3o\"],[\"N\\u00e3o\"],[\"N\\u00e3o\"],[\"N\\u00e3o\"],[\"N\\u00e3o\"],[\"N\\u00e3o\"],[\"N\\u00e3o\"],[\"N\\u00e3o\"],[\"N\\u00e3o\"],[\"N\\u00e3o\"],[\"N\\u00e3o\"],[\"Sim\"],[\"Sim\"],[\"N\\u00e3o\"],[\"N\\u00e3o\"],[\"N\\u00e3o\"],[\"N\\u00e3o\"],[\"Sim\"],[\"N\\u00e3o\"],[\"N\\u00e3o\"],[\"N\\u00e3o\"],[\"Sim\"],[\"Sim\"],[\"Sim\"],[\"N\\u00e3o\"],[\"N\\u00e3o\"],[\"N\\u00e3o\"],[\"Sim\"],[\"Sim\"],[\"N\\u00e3o\"],[\"N\\u00e3o\"],[\"N\\u00e3o\"],[\"Sim\"],[\"N\\u00e3o\"],[\"N\\u00e3o\"],[\"N\\u00e3o\"],[\"N\\u00e3o\"],[\"N\\u00e3o\"],[\"N\\u00e3o\"],[\"N\\u00e3o\"],[\"N\\u00e3o\"],[\"N\\u00e3o\"],[\"N\\u00e3o\"],[\"Sim\"],[\"N\\u00e3o\"],[\"N\\u00e3o\"],[\"N\\u00e3o\"],[\"N\\u00e3o\"],[\"N\\u00e3o\"],[\"N\\u00e3o\"],[\"N\\u00e3o\"],[\"N\\u00e3o\"],[\"N\\u00e3o\"],[\"N\\u00e3o\"],[\"N\\u00e3o\"],[\"N\\u00e3o\"],[\"N\\u00e3o\"],[\"Sim\"],[\"N\\u00e3o\"],[\"N\\u00e3o\"],[\"Sim\"],[\"N\\u00e3o\"],[\"N\\u00e3o\"],[\"N\\u00e3o\"],[\"N\\u00e3o\"],[\"Sim\"],[\"N\\u00e3o\"],[\"Sim\"],[\"N\\u00e3o\"],[\"N\\u00e3o\"],[\"N\\u00e3o\"],[\"N\\u00e3o\"],[\"N\\u00e3o\"],[\"N\\u00e3o\"],[\"N\\u00e3o\"],[\"N\\u00e3o\"],[\"N\\u00e3o\"],[\"N\\u00e3o\"],[\"N\\u00e3o\"],[\"Sim\"],[\"N\\u00e3o\"],[\"Sim\"],[\"Sim\"],[\"Sim\"],[\"Sim\"],[\"N\\u00e3o\"],[\"Sim\"],[\"N\\u00e3o\"],[\"N\\u00e3o\"],[\"Sim\"],[\"N\\u00e3o\"],[\"N\\u00e3o\"],[\"N\\u00e3o\"],[\"N\\u00e3o\"],[\"N\\u00e3o\"],[\"Sim\"],[\"N\\u00e3o\"],[\"N\\u00e3o\"],[\"Sim\"],[\"N\\u00e3o\"],[\"N\\u00e3o\"],[\"N\\u00e3o\"],[\"N\\u00e3o\"],[\"N\\u00e3o\"],[\"N\\u00e3o\"],[\"Sim\"],[\"N\\u00e3o\"],[\"Sim\"],[\"N\\u00e3o\"],[\"N\\u00e3o\"],[\"N\\u00e3o\"],[\"Sim\"],[\"N\\u00e3o\"],[\"N\\u00e3o\"],[\"N\\u00e3o\"],[\"N\\u00e3o\"],[\"N\\u00e3o\"],[\"N\\u00e3o\"],[\"N\\u00e3o\"],[\"N\\u00e3o\"],[\"N\\u00e3o\"],[\"N\\u00e3o\"],[\"N\\u00e3o\"],[\"Sim\"],[\"N\\u00e3o\"],[\"N\\u00e3o\"],[\"Sim\"],[\"Sim\"],[\"Sim\"],[\"Sim\"],[\"N\\u00e3o\"],[\"N\\u00e3o\"],[\"N\\u00e3o\"],[\"N\\u00e3o\"],[\"N\\u00e3o\"],[\"N\\u00e3o\"],[\"N\\u00e3o\"],[\"N\\u00e3o\"],[\"N\\u00e3o\"],[\"N\\u00e3o\"],[\"Sim\"],[\"N\\u00e3o\"],[\"Sim\"],[\"N\\u00e3o\"],[\"Sim\"],[\"N\\u00e3o\"],[\"N\\u00e3o\"],[\"N\\u00e3o\"],[\"N\\u00e3o\"],[\"N\\u00e3o\"],[\"N\\u00e3o\"],[\"Sim\"],[\"Sim\"],[\"N\\u00e3o\"],[\"N\\u00e3o\"],[\"N\\u00e3o\"],[\"N\\u00e3o\"],[\"N\\u00e3o\"],[\"N\\u00e3o\"],[\"N\\u00e3o\"],[\"N\\u00e3o\"],[\"N\\u00e3o\"],[\"N\\u00e3o\"],[\"N\\u00e3o\"],[\"Sim\"],[\"N\\u00e3o\"],[\"N\\u00e3o\"],[\"N\\u00e3o\"],[\"N\\u00e3o\"],[\"N\\u00e3o\"],[\"N\\u00e3o\"],[\"N\\u00e3o\"],[\"N\\u00e3o\"],[\"N\\u00e3o\"],[\"N\\u00e3o\"],[\"N\\u00e3o\"],[\"N\\u00e3o\"],[\"Sim\"],[\"N\\u00e3o\"],[\"N\\u00e3o\"],[\"N\\u00e3o\"],[\"N\\u00e3o\"],[\"N\\u00e3o\"],[\"Sim\"],[\"N\\u00e3o\"],[\"Sim\"],[\"N\\u00e3o\"],[\"Sim\"],[\"N\\u00e3o\"],[\"Sim\"],[\"N\\u00e3o\"],[\"Sim\"],[\"N\\u00e3o\"],[\"N\\u00e3o\"],[\"N\\u00e3o\"],[\"N\\u00e3o\"],[\"N\\u00e3o\"],[\"Sim\"],[\"N\\u00e3o\"],[\"Sim\"],[\"N\\u00e3o\"],[\"N\\u00e3o\"],[\"N\\u00e3o\"],[\"Sim\"],[\"N\\u00e3o\"],[\"Sim\"],[\"Sim\"],[\"Sim\"],[\"N\\u00e3o\"],[\"N\\u00e3o\"],[\"Sim\"],[\"N\\u00e3o\"],[\"N\\u00e3o\"],[\"Sim\"],[\"Sim\"],[\"N\\u00e3o\"],[\"Sim\"],[\"N\\u00e3o\"],[\"N\\u00e3o\"],[\"N\\u00e3o\"],[\"N\\u00e3o\"],[\"Sim\"],[\"N\\u00e3o\"],[\"N\\u00e3o\"],[\"N\\u00e3o\"],[\"N\\u00e3o\"],[\"Sim\"],[\"N\\u00e3o\"],[\"Sim\"],[\"Sim\"],[\"Sim\"],[\"N\\u00e3o\"],[\"Sim\"],[\"N\\u00e3o\"],[\"N\\u00e3o\"],[\"N\\u00e3o\"],[\"N\\u00e3o\"],[\"Sim\"],[\"N\\u00e3o\"],[\"Sim\"],[\"Sim\"],[\"N\\u00e3o\"],[\"Sim\"],[\"N\\u00e3o\"],[\"N\\u00e3o\"],[\"N\\u00e3o\"],[\"N\\u00e3o\"],[\"Sim\"],[\"N\\u00e3o\"],[\"Sim\"],[\"N\\u00e3o\"],[\"N\\u00e3o\"],[\"N\\u00e3o\"],[\"N\\u00e3o\"],[\"Sim\"],[\"N\\u00e3o\"],[\"Sim\"],[\"N\\u00e3o\"],[\"N\\u00e3o\"],[\"Sim\"],[\"Sim\"],[\"Sim\"],[\"N\\u00e3o\"],[\"Sim\"],[\"N\\u00e3o\"],[\"N\\u00e3o\"],[\"N\\u00e3o\"],[\"N\\u00e3o\"],[\"N\\u00e3o\"],[\"Sim\"],[\"N\\u00e3o\"],[\"Sim\"],[\"N\\u00e3o\"],[\"Sim\"],[\"N\\u00e3o\"],[\"N\\u00e3o\"],[\"Sim\"],[\"N\\u00e3o\"],[\"N\\u00e3o\"],[\"Sim\"],[\"Sim\"],[\"N\\u00e3o\"],[\"N\\u00e3o\"],[\"Sim\"],[\"N\\u00e3o\"],[\"N\\u00e3o\"],[\"N\\u00e3o\"],[\"N\\u00e3o\"],[\"N\\u00e3o\"],[\"N\\u00e3o\"],[\"N\\u00e3o\"],[\"N\\u00e3o\"],[\"N\\u00e3o\"],[\"N\\u00e3o\"],[\"Sim\"],[\"Sim\"],[\"N\\u00e3o\"],[\"N\\u00e3o\"],[\"N\\u00e3o\"],[\"N\\u00e3o\"],[\"N\\u00e3o\"],[\"N\\u00e3o\"],[\"Sim\"],[\"N\\u00e3o\"],[\"N\\u00e3o\"],[\"N\\u00e3o\"],[\"N\\u00e3o\"],[\"Sim\"],[\"N\\u00e3o\"],[\"N\\u00e3o\"],[\"Sim\"],[\"N\\u00e3o\"],[\"N\\u00e3o\"],[\"N\\u00e3o\"],[\"N\\u00e3o\"],[\"N\\u00e3o\"],[\"Sim\"],[\"Sim\"],[\"N\\u00e3o\"],[\"N\\u00e3o\"],[\"N\\u00e3o\"],[\"N\\u00e3o\"],[\"N\\u00e3o\"],[\"N\\u00e3o\"],[\"N\\u00e3o\"],[\"Sim\"],[\"N\\u00e3o\"],[\"Sim\"],[\"N\\u00e3o\"],[\"N\\u00e3o\"],[\"N\\u00e3o\"],[\"N\\u00e3o\"],[\"N\\u00e3o\"],[\"Sim\"],[\"Sim\"],[\"N\\u00e3o\"],[\"N\\u00e3o\"],[\"N\\u00e3o\"],[\"Sim\"],[\"Sim\"],[\"Sim\"],[\"Sim\"],[\"N\\u00e3o\"],[\"N\\u00e3o\"],[\"N\\u00e3o\"],[\"N\\u00e3o\"],[\"N\\u00e3o\"],[\"N\\u00e3o\"],[\"N\\u00e3o\"],[\"N\\u00e3o\"],[\"N\\u00e3o\"],[\"N\\u00e3o\"],[\"N\\u00e3o\"],[\"N\\u00e3o\"],[\"N\\u00e3o\"],[\"N\\u00e3o\"],[\"Sim\"],[\"N\\u00e3o\"],[\"N\\u00e3o\"],[\"N\\u00e3o\"],[\"Sim\"],[\"Sim\"],[\"Sim\"],[\"N\\u00e3o\"],[\"Sim\"],[\"Sim\"],[\"Sim\"],[\"N\\u00e3o\"],[\"N\\u00e3o\"],[\"N\\u00e3o\"],[\"Sim\"],[\"N\\u00e3o\"],[\"N\\u00e3o\"],[\"N\\u00e3o\"],[\"N\\u00e3o\"],[\"N\\u00e3o\"],[\"N\\u00e3o\"],[\"N\\u00e3o\"],[\"N\\u00e3o\"],[\"N\\u00e3o\"],[\"N\\u00e3o\"],[\"N\\u00e3o\"],[\"Sim\"],[\"N\\u00e3o\"],[\"N\\u00e3o\"],[\"N\\u00e3o\"],[\"N\\u00e3o\"],[\"N\\u00e3o\"],[\"N\\u00e3o\"],[\"Sim\"],[\"N\\u00e3o\"],[\"Sim\"],[\"Sim\"],[\"N\\u00e3o\"],[\"N\\u00e3o\"],[\"N\\u00e3o\"],[\"N\\u00e3o\"],[\"Sim\"],[\"N\\u00e3o\"],[\"N\\u00e3o\"],[\"Sim\"],[\"N\\u00e3o\"],[\"N\\u00e3o\"],[\"N\\u00e3o\"],[\"Sim\"],[\"Sim\"],[\"N\\u00e3o\"],[\"N\\u00e3o\"],[\"Sim\"],[\"Sim\"],[\"N\\u00e3o\"],[\"Sim\"],[\"N\\u00e3o\"],[\"N\\u00e3o\"],[\"N\\u00e3o\"],[\"N\\u00e3o\"],[\"Sim\"],[\"N\\u00e3o\"],[\"N\\u00e3o\"],[\"N\\u00e3o\"],[\"N\\u00e3o\"],[\"Sim\"],[\"N\\u00e3o\"],[\"Sim\"],[\"N\\u00e3o\"],[\"N\\u00e3o\"],[\"N\\u00e3o\"],[\"Sim\"],[\"N\\u00e3o\"],[\"N\\u00e3o\"],[\"Sim\"],[\"N\\u00e3o\"],[\"N\\u00e3o\"],[\"N\\u00e3o\"],[\"Sim\"],[\"Sim\"],[\"N\\u00e3o\"],[\"Sim\"],[\"Sim\"],[\"N\\u00e3o\"],[\"Sim\"],[\"N\\u00e3o\"],[\"Sim\"],[\"Sim\"],[\"N\\u00e3o\"],[\"N\\u00e3o\"],[\"Sim\"],[\"N\\u00e3o\"],[\"N\\u00e3o\"],[\"Sim\"],[\"Sim\"],[\"N\\u00e3o\"],[\"Sim\"],[\"N\\u00e3o\"],[\"Sim\"],[\"N\\u00e3o\"],[\"Sim\"],[\"Sim\"],[\"Sim\"],[\"N\\u00e3o\"],[\"N\\u00e3o\"],[\"Sim\"],[\"N\\u00e3o\"],[\"N\\u00e3o\"],[\"N\\u00e3o\"],[\"N\\u00e3o\"],[\"N\\u00e3o\"],[\"Sim\"],[\"N\\u00e3o\"],[\"N\\u00e3o\"],[\"N\\u00e3o\"],[\"Sim\"],[\"Sim\"],[\"N\\u00e3o\"],[\"N\\u00e3o\"],[\"Sim\"],[\"Sim\"],[\"Sim\"],[\"N\\u00e3o\"],[\"Sim\"],[\"N\\u00e3o\"],[\"Sim\"],[\"Sim\"],[\"N\\u00e3o\"],[\"Sim\"],[\"Sim\"],[\"Sim\"],[\"N\\u00e3o\"],[\"N\\u00e3o\"],[\"N\\u00e3o\"],[\"N\\u00e3o\"],[\"N\\u00e3o\"],[\"N\\u00e3o\"],[\"Sim\"],[\"Sim\"],[\"N\\u00e3o\"],[\"N\\u00e3o\"],[\"N\\u00e3o\"],[\"N\\u00e3o\"],[\"N\\u00e3o\"],[\"N\\u00e3o\"],[\"N\\u00e3o\"],[\"Sim\"],[\"Sim\"],[\"N\\u00e3o\"],[\"N\\u00e3o\"],[\"Sim\"],[\"N\\u00e3o\"],[\"Sim\"],[\"Sim\"],[\"N\\u00e3o\"],[\"N\\u00e3o\"],[\"N\\u00e3o\"],[\"N\\u00e3o\"],[\"N\\u00e3o\"],[\"N\\u00e3o\"],[\"N\\u00e3o\"],[\"N\\u00e3o\"],[\"N\\u00e3o\"],[\"N\\u00e3o\"],[\"Sim\"],[\"Sim\"],[\"Sim\"],[\"N\\u00e3o\"],[\"Sim\"],[\"N\\u00e3o\"],[\"N\\u00e3o\"],[\"N\\u00e3o\"],[\"N\\u00e3o\"],[\"Sim\"],[\"Sim\"],[\"N\\u00e3o\"],[\"Sim\"],[\"Sim\"],[\"N\\u00e3o\"],[\"N\\u00e3o\"],[\"Sim\"],[\"N\\u00e3o\"],[\"Sim\"],[\"N\\u00e3o\"],[\"N\\u00e3o\"],[\"Sim\"],[\"N\\u00e3o\"],[\"N\\u00e3o\"],[\"Sim\"],[\"N\\u00e3o\"],[\"N\\u00e3o\"],[\"N\\u00e3o\"],[\"N\\u00e3o\"],[\"N\\u00e3o\"],[\"Sim\"],[\"N\\u00e3o\"],[\"Sim\"],[\"N\\u00e3o\"],[\"N\\u00e3o\"],[\"N\\u00e3o\"],[\"N\\u00e3o\"],[\"N\\u00e3o\"],[\"Sim\"],[\"N\\u00e3o\"],[\"N\\u00e3o\"],[\"N\\u00e3o\"],[\"N\\u00e3o\"],[\"N\\u00e3o\"],[\"N\\u00e3o\"],[\"N\\u00e3o\"],[\"N\\u00e3o\"],[\"N\\u00e3o\"],[\"Sim\"],[\"Sim\"],[\"Sim\"],[\"N\\u00e3o\"],[\"Sim\"],[\"N\\u00e3o\"],[\"N\\u00e3o\"],[\"Sim\"],[\"N\\u00e3o\"],[\"N\\u00e3o\"],[\"Sim\"],[\"Sim\"],[\"Sim\"],[\"Sim\"],[\"Sim\"],[\"N\\u00e3o\"],[\"N\\u00e3o\"],[\"Sim\"],[\"N\\u00e3o\"],[\"N\\u00e3o\"],[\"Sim\"],[\"N\\u00e3o\"],[\"N\\u00e3o\"],[\"N\\u00e3o\"],[\"N\\u00e3o\"],[\"N\\u00e3o\"],[\"N\\u00e3o\"],[\"N\\u00e3o\"],[\"N\\u00e3o\"],[\"Sim\"],[\"Sim\"],[\"N\\u00e3o\"],[\"Sim\"],[\"N\\u00e3o\"],[\"N\\u00e3o\"],[\"N\\u00e3o\"],[\"N\\u00e3o\"],[\"N\\u00e3o\"],[\"Sim\"],[\"N\\u00e3o\"],[\"N\\u00e3o\"],[\"N\\u00e3o\"],[\"N\\u00e3o\"],[\"N\\u00e3o\"],[\"N\\u00e3o\"],[\"N\\u00e3o\"],[\"Sim\"],[\"Sim\"],[\"N\\u00e3o\"],[\"Sim\"],[\"N\\u00e3o\"],[\"Sim\"],[\"Sim\"],[\"N\\u00e3o\"],[\"N\\u00e3o\"],[\"N\\u00e3o\"],[\"Sim\"],[\"Sim\"],[\"N\\u00e3o\"],[\"Sim\"],[\"N\\u00e3o\"],[\"N\\u00e3o\"],[\"Sim\"],[\"Sim\"],[\"Sim\"],[\"N\\u00e3o\"],[\"N\\u00e3o\"],[\"N\\u00e3o\"],[\"N\\u00e3o\"],[\"N\\u00e3o\"],[\"Sim\"],[\"Sim\"],[\"Sim\"],[\"N\\u00e3o\"],[\"Sim\"],[\"N\\u00e3o\"],[\"Sim\"],[\"Sim\"],[\"N\\u00e3o\"],[\"N\\u00e3o\"],[\"Sim\"],[\"Sim\"],[\"N\\u00e3o\"],[\"N\\u00e3o\"],[\"N\\u00e3o\"],[\"Sim\"],[\"Sim\"],[\"N\\u00e3o\"],[\"N\\u00e3o\"],[\"N\\u00e3o\"],[\"N\\u00e3o\"],[\"Sim\"],[\"N\\u00e3o\"],[\"N\\u00e3o\"],[\"N\\u00e3o\"],[\"N\\u00e3o\"],[\"N\\u00e3o\"],[\"Sim\"],[\"Sim\"],[\"N\\u00e3o\"],[\"Sim\"],[\"N\\u00e3o\"],[\"Sim\"],[\"N\\u00e3o\"],[\"N\\u00e3o\"],[\"Sim\"],[\"Sim\"],[\"N\\u00e3o\"],[\"N\\u00e3o\"],[\"N\\u00e3o\"],[\"N\\u00e3o\"],[\"N\\u00e3o\"],[\"N\\u00e3o\"],[\"N\\u00e3o\"],[\"Sim\"],[\"N\\u00e3o\"],[\"N\\u00e3o\"],[\"N\\u00e3o\"],[\"N\\u00e3o\"],[\"Sim\"],[\"N\\u00e3o\"],[\"N\\u00e3o\"],[\"N\\u00e3o\"],[\"N\\u00e3o\"],[\"N\\u00e3o\"],[\"N\\u00e3o\"],[\"N\\u00e3o\"],[\"N\\u00e3o\"],[\"N\\u00e3o\"],[\"N\\u00e3o\"],[\"N\\u00e3o\"],[\"N\\u00e3o\"],[\"N\\u00e3o\"],[\"N\\u00e3o\"],[\"Sim\"],[\"N\\u00e3o\"],[\"Sim\"],[\"N\\u00e3o\"],[\"N\\u00e3o\"],[\"N\\u00e3o\"],[\"N\\u00e3o\"],[\"Sim\"],[\"N\\u00e3o\"],[\"N\\u00e3o\"],[\"N\\u00e3o\"],[\"Sim\"],[\"Sim\"],[\"N\\u00e3o\"],[\"Sim\"],[\"N\\u00e3o\"],[\"N\\u00e3o\"],[\"N\\u00e3o\"],[\"Sim\"],[\"N\\u00e3o\"],[\"N\\u00e3o\"],[\"N\\u00e3o\"],[\"N\\u00e3o\"],[\"Sim\"],[\"Sim\"],[\"N\\u00e3o\"],[\"Sim\"],[\"Sim\"],[\"Sim\"],[\"Sim\"],[\"N\\u00e3o\"],[\"N\\u00e3o\"],[\"Sim\"],[\"Sim\"],[\"N\\u00e3o\"],[\"Sim\"],[\"N\\u00e3o\"],[\"N\\u00e3o\"],[\"N\\u00e3o\"],[\"N\\u00e3o\"],[\"N\\u00e3o\"],[\"N\\u00e3o\"],[\"N\\u00e3o\"],[\"N\\u00e3o\"],[\"Sim\"],[\"N\\u00e3o\"],[\"N\\u00e3o\"],[\"N\\u00e3o\"],[\"N\\u00e3o\"],[\"N\\u00e3o\"],[\"N\\u00e3o\"],[\"N\\u00e3o\"],[\"N\\u00e3o\"],[\"Sim\"],[\"N\\u00e3o\"],[\"N\\u00e3o\"],[\"Sim\"],[\"N\\u00e3o\"],[\"N\\u00e3o\"],[\"Sim\"],[\"N\\u00e3o\"],[\"Sim\"],[\"N\\u00e3o\"],[\"N\\u00e3o\"],[\"N\\u00e3o\"],[\"N\\u00e3o\"],[\"N\\u00e3o\"],[\"N\\u00e3o\"],[\"N\\u00e3o\"],[\"N\\u00e3o\"],[\"N\\u00e3o\"],[\"N\\u00e3o\"],[\"N\\u00e3o\"],[\"Sim\"],[\"Sim\"],[\"Sim\"],[\"Sim\"],[\"N\\u00e3o\"],[\"Sim\"],[\"N\\u00e3o\"],[\"N\\u00e3o\"],[\"N\\u00e3o\"],[\"N\\u00e3o\"],[\"N\\u00e3o\"],[\"N\\u00e3o\"],[\"N\\u00e3o\"],[\"Sim\"],[\"Sim\"],[\"Sim\"],[\"N\\u00e3o\"],[\"N\\u00e3o\"],[\"N\\u00e3o\"],[\"N\\u00e3o\"],[\"Sim\"],[\"N\\u00e3o\"],[\"N\\u00e3o\"],[\"N\\u00e3o\"],[\"N\\u00e3o\"],[\"N\\u00e3o\"],[\"N\\u00e3o\"],[\"N\\u00e3o\"],[\"N\\u00e3o\"],[\"N\\u00e3o\"],[\"N\\u00e3o\"],[\"N\\u00e3o\"],[\"N\\u00e3o\"],[\"N\\u00e3o\"],[\"Sim\"],[\"N\\u00e3o\"],[\"N\\u00e3o\"],[\"N\\u00e3o\"],[\"N\\u00e3o\"],[\"N\\u00e3o\"],[\"Sim\"],[\"Sim\"],[\"N\\u00e3o\"],[\"Sim\"],[\"N\\u00e3o\"],[\"Sim\"],[\"N\\u00e3o\"],[\"Sim\"],[\"N\\u00e3o\"],[\"N\\u00e3o\"],[\"N\\u00e3o\"],[\"N\\u00e3o\"],[\"N\\u00e3o\"],[\"N\\u00e3o\"],[\"N\\u00e3o\"],[\"N\\u00e3o\"],[\"Sim\"],[\"Sim\"],[\"Sim\"],[\"Sim\"],[\"N\\u00e3o\"],[\"Sim\"],[\"N\\u00e3o\"],[\"Sim\"],[\"N\\u00e3o\"],[\"N\\u00e3o\"],[\"N\\u00e3o\"],[\"N\\u00e3o\"],[\"N\\u00e3o\"],[\"Sim\"],[\"N\\u00e3o\"],[\"Sim\"],[\"Sim\"],[\"Sim\"],[\"Sim\"],[\"N\\u00e3o\"],[\"N\\u00e3o\"],[\"N\\u00e3o\"],[\"N\\u00e3o\"],[\"N\\u00e3o\"],[\"N\\u00e3o\"],[\"Sim\"],[\"Sim\"],[\"N\\u00e3o\"],[\"N\\u00e3o\"],[\"Sim\"],[\"Sim\"],[\"N\\u00e3o\"],[\"Sim\"],[\"Sim\"],[\"N\\u00e3o\"],[\"N\\u00e3o\"],[\"Sim\"],[\"N\\u00e3o\"],[\"N\\u00e3o\"],[\"N\\u00e3o\"],[\"N\\u00e3o\"],[\"N\\u00e3o\"],[\"N\\u00e3o\"],[\"N\\u00e3o\"],[\"N\\u00e3o\"],[\"Sim\"],[\"N\\u00e3o\"],[\"Sim\"],[\"Sim\"],[\"N\\u00e3o\"],[\"N\\u00e3o\"],[\"N\\u00e3o\"],[\"N\\u00e3o\"],[\"N\\u00e3o\"],[\"N\\u00e3o\"],[\"N\\u00e3o\"],[\"Sim\"],[\"N\\u00e3o\"],[\"Sim\"],[\"N\\u00e3o\"],[\"N\\u00e3o\"],[\"N\\u00e3o\"],[\"Sim\"],[\"Sim\"],[\"N\\u00e3o\"],[\"N\\u00e3o\"],[\"Sim\"],[\"N\\u00e3o\"],[\"N\\u00e3o\"],[\"Sim\"],[\"N\\u00e3o\"],[\"N\\u00e3o\"],[\"N\\u00e3o\"],[\"N\\u00e3o\"],[\"N\\u00e3o\"],[\"Sim\"],[\"N\\u00e3o\"],[\"N\\u00e3o\"],[\"N\\u00e3o\"],[\"N\\u00e3o\"],[\"N\\u00e3o\"],[\"Sim\"],[\"N\\u00e3o\"],[\"N\\u00e3o\"],[\"Sim\"],[\"Sim\"],[\"Sim\"],[\"N\\u00e3o\"],[\"Sim\"],[\"N\\u00e3o\"],[\"Sim\"],[\"N\\u00e3o\"],[\"Sim\"],[\"N\\u00e3o\"],[\"N\\u00e3o\"],[\"Sim\"],[\"N\\u00e3o\"],[\"Sim\"],[\"Sim\"],[\"Sim\"],[\"N\\u00e3o\"],[\"N\\u00e3o\"],[\"Sim\"],[\"N\\u00e3o\"],[\"Sim\"],[\"Sim\"],[\"N\\u00e3o\"],[\"Sim\"],[\"N\\u00e3o\"],[\"N\\u00e3o\"],[\"N\\u00e3o\"],[\"Sim\"],[\"Sim\"],[\"N\\u00e3o\"],[\"N\\u00e3o\"],[\"N\\u00e3o\"],[\"N\\u00e3o\"],[\"N\\u00e3o\"],[\"Sim\"],[\"N\\u00e3o\"],[\"Sim\"],[\"N\\u00e3o\"],[\"N\\u00e3o\"],[\"N\\u00e3o\"],[\"N\\u00e3o\"],[\"Sim\"],[\"N\\u00e3o\"],[\"Sim\"],[\"N\\u00e3o\"],[\"Sim\"],[\"N\\u00e3o\"],[\"Sim\"],[\"N\\u00e3o\"],[\"Sim\"],[\"N\\u00e3o\"],[\"Sim\"],[\"Sim\"],[\"Sim\"],[\"N\\u00e3o\"],[\"N\\u00e3o\"],[\"Sim\"],[\"N\\u00e3o\"],[\"N\\u00e3o\"],[\"N\\u00e3o\"],[\"Sim\"],[\"N\\u00e3o\"],[\"N\\u00e3o\"],[\"Sim\"],[\"N\\u00e3o\"],[\"N\\u00e3o\"],[\"N\\u00e3o\"],[\"N\\u00e3o\"],[\"N\\u00e3o\"],[\"Sim\"],[\"Sim\"],[\"Sim\"],[\"Sim\"],[\"Sim\"],[\"Sim\"],[\"N\\u00e3o\"]],\"domain\":{\"x\":[0.0,1.0],\"y\":[0.0,1.0]},\"hovertemplate\":\"Fez Investimento=%{customdata[0]}<extra></extra>\",\"labels\":[\"Sim\",\"N\\u00e3o\",\"N\\u00e3o\",\"N\\u00e3o\",\"Sim\",\"Sim\",\"N\\u00e3o\",\"N\\u00e3o\",\"N\\u00e3o\",\"Sim\",\"N\\u00e3o\",\"Sim\",\"N\\u00e3o\",\"N\\u00e3o\",\"N\\u00e3o\",\"Sim\",\"N\\u00e3o\",\"Sim\",\"N\\u00e3o\",\"Sim\",\"N\\u00e3o\",\"N\\u00e3o\",\"N\\u00e3o\",\"N\\u00e3o\",\"N\\u00e3o\",\"Sim\",\"Sim\",\"N\\u00e3o\",\"Sim\",\"N\\u00e3o\",\"N\\u00e3o\",\"N\\u00e3o\",\"Sim\",\"Sim\",\"N\\u00e3o\",\"N\\u00e3o\",\"N\\u00e3o\",\"Sim\",\"Sim\",\"Sim\",\"Sim\",\"N\\u00e3o\",\"N\\u00e3o\",\"N\\u00e3o\",\"N\\u00e3o\",\"N\\u00e3o\",\"N\\u00e3o\",\"Sim\",\"N\\u00e3o\",\"N\\u00e3o\",\"N\\u00e3o\",\"N\\u00e3o\",\"N\\u00e3o\",\"Sim\",\"N\\u00e3o\",\"Sim\",\"Sim\",\"Sim\",\"N\\u00e3o\",\"Sim\",\"Sim\",\"Sim\",\"N\\u00e3o\",\"Sim\",\"Sim\",\"N\\u00e3o\",\"N\\u00e3o\",\"Sim\",\"N\\u00e3o\",\"N\\u00e3o\",\"N\\u00e3o\",\"N\\u00e3o\",\"N\\u00e3o\",\"N\\u00e3o\",\"N\\u00e3o\",\"N\\u00e3o\",\"Sim\",\"N\\u00e3o\",\"N\\u00e3o\",\"Sim\",\"N\\u00e3o\",\"N\\u00e3o\",\"N\\u00e3o\",\"Sim\",\"Sim\",\"N\\u00e3o\",\"N\\u00e3o\",\"Sim\",\"Sim\",\"Sim\",\"Sim\",\"N\\u00e3o\",\"N\\u00e3o\",\"N\\u00e3o\",\"N\\u00e3o\",\"Sim\",\"N\\u00e3o\",\"Sim\",\"Sim\",\"N\\u00e3o\",\"N\\u00e3o\",\"N\\u00e3o\",\"N\\u00e3o\",\"N\\u00e3o\",\"N\\u00e3o\",\"N\\u00e3o\",\"N\\u00e3o\",\"Sim\",\"N\\u00e3o\",\"N\\u00e3o\",\"N\\u00e3o\",\"N\\u00e3o\",\"Sim\",\"N\\u00e3o\",\"N\\u00e3o\",\"N\\u00e3o\",\"N\\u00e3o\",\"N\\u00e3o\",\"N\\u00e3o\",\"N\\u00e3o\",\"N\\u00e3o\",\"N\\u00e3o\",\"Sim\",\"N\\u00e3o\",\"N\\u00e3o\",\"N\\u00e3o\",\"N\\u00e3o\",\"N\\u00e3o\",\"N\\u00e3o\",\"N\\u00e3o\",\"Sim\",\"Sim\",\"N\\u00e3o\",\"Sim\",\"Sim\",\"Sim\",\"Sim\",\"N\\u00e3o\",\"N\\u00e3o\",\"Sim\",\"N\\u00e3o\",\"Sim\",\"Sim\",\"N\\u00e3o\",\"N\\u00e3o\",\"Sim\",\"N\\u00e3o\",\"Sim\",\"Sim\",\"Sim\",\"N\\u00e3o\",\"N\\u00e3o\",\"Sim\",\"N\\u00e3o\",\"Sim\",\"Sim\",\"N\\u00e3o\",\"N\\u00e3o\",\"N\\u00e3o\",\"N\\u00e3o\",\"N\\u00e3o\",\"N\\u00e3o\",\"Sim\",\"N\\u00e3o\",\"N\\u00e3o\",\"N\\u00e3o\",\"Sim\",\"Sim\",\"N\\u00e3o\",\"N\\u00e3o\",\"Sim\",\"N\\u00e3o\",\"N\\u00e3o\",\"Sim\",\"Sim\",\"N\\u00e3o\",\"N\\u00e3o\",\"N\\u00e3o\",\"Sim\",\"N\\u00e3o\",\"N\\u00e3o\",\"Sim\",\"N\\u00e3o\",\"Sim\",\"N\\u00e3o\",\"N\\u00e3o\",\"N\\u00e3o\",\"N\\u00e3o\",\"N\\u00e3o\",\"N\\u00e3o\",\"N\\u00e3o\",\"N\\u00e3o\",\"N\\u00e3o\",\"N\\u00e3o\",\"N\\u00e3o\",\"Sim\",\"Sim\",\"N\\u00e3o\",\"Sim\",\"N\\u00e3o\",\"N\\u00e3o\",\"Sim\",\"N\\u00e3o\",\"Sim\",\"Sim\",\"N\\u00e3o\",\"Sim\",\"N\\u00e3o\",\"N\\u00e3o\",\"Sim\",\"Sim\",\"N\\u00e3o\",\"N\\u00e3o\",\"N\\u00e3o\",\"Sim\",\"Sim\",\"N\\u00e3o\",\"Sim\",\"N\\u00e3o\",\"Sim\",\"N\\u00e3o\",\"N\\u00e3o\",\"N\\u00e3o\",\"N\\u00e3o\",\"N\\u00e3o\",\"N\\u00e3o\",\"N\\u00e3o\",\"N\\u00e3o\",\"Sim\",\"N\\u00e3o\",\"N\\u00e3o\",\"N\\u00e3o\",\"N\\u00e3o\",\"N\\u00e3o\",\"N\\u00e3o\",\"Sim\",\"N\\u00e3o\",\"N\\u00e3o\",\"N\\u00e3o\",\"Sim\",\"N\\u00e3o\",\"Sim\",\"Sim\",\"N\\u00e3o\",\"N\\u00e3o\",\"N\\u00e3o\",\"N\\u00e3o\",\"N\\u00e3o\",\"Sim\",\"Sim\",\"N\\u00e3o\",\"Sim\",\"Sim\",\"N\\u00e3o\",\"N\\u00e3o\",\"Sim\",\"Sim\",\"Sim\",\"N\\u00e3o\",\"N\\u00e3o\",\"N\\u00e3o\",\"N\\u00e3o\",\"Sim\",\"N\\u00e3o\",\"N\\u00e3o\",\"N\\u00e3o\",\"Sim\",\"N\\u00e3o\",\"N\\u00e3o\",\"N\\u00e3o\",\"Sim\",\"Sim\",\"N\\u00e3o\",\"Sim\",\"N\\u00e3o\",\"N\\u00e3o\",\"N\\u00e3o\",\"Sim\",\"Sim\",\"N\\u00e3o\",\"Sim\",\"Sim\",\"N\\u00e3o\",\"N\\u00e3o\",\"Sim\",\"Sim\",\"N\\u00e3o\",\"N\\u00e3o\",\"N\\u00e3o\",\"Sim\",\"N\\u00e3o\",\"N\\u00e3o\",\"N\\u00e3o\",\"N\\u00e3o\",\"N\\u00e3o\",\"Sim\",\"N\\u00e3o\",\"N\\u00e3o\",\"N\\u00e3o\",\"N\\u00e3o\",\"N\\u00e3o\",\"Sim\",\"N\\u00e3o\",\"N\\u00e3o\",\"N\\u00e3o\",\"N\\u00e3o\",\"Sim\",\"N\\u00e3o\",\"N\\u00e3o\",\"Sim\",\"N\\u00e3o\",\"Sim\",\"Sim\",\"N\\u00e3o\",\"N\\u00e3o\",\"N\\u00e3o\",\"Sim\",\"Sim\",\"Sim\",\"N\\u00e3o\",\"N\\u00e3o\",\"N\\u00e3o\",\"Sim\",\"Sim\",\"N\\u00e3o\",\"N\\u00e3o\",\"N\\u00e3o\",\"N\\u00e3o\",\"Sim\",\"Sim\",\"Sim\",\"N\\u00e3o\",\"Sim\",\"N\\u00e3o\",\"N\\u00e3o\",\"N\\u00e3o\",\"Sim\",\"N\\u00e3o\",\"N\\u00e3o\",\"Sim\",\"N\\u00e3o\",\"N\\u00e3o\",\"N\\u00e3o\",\"N\\u00e3o\",\"N\\u00e3o\",\"Sim\",\"Sim\",\"Sim\",\"N\\u00e3o\",\"N\\u00e3o\",\"N\\u00e3o\",\"Sim\",\"N\\u00e3o\",\"N\\u00e3o\",\"N\\u00e3o\",\"N\\u00e3o\",\"N\\u00e3o\",\"N\\u00e3o\",\"N\\u00e3o\",\"N\\u00e3o\",\"N\\u00e3o\",\"N\\u00e3o\",\"N\\u00e3o\",\"N\\u00e3o\",\"N\\u00e3o\",\"Sim\",\"Sim\",\"N\\u00e3o\",\"N\\u00e3o\",\"N\\u00e3o\",\"N\\u00e3o\",\"Sim\",\"N\\u00e3o\",\"N\\u00e3o\",\"N\\u00e3o\",\"Sim\",\"Sim\",\"Sim\",\"N\\u00e3o\",\"N\\u00e3o\",\"N\\u00e3o\",\"Sim\",\"Sim\",\"N\\u00e3o\",\"N\\u00e3o\",\"N\\u00e3o\",\"Sim\",\"N\\u00e3o\",\"N\\u00e3o\",\"N\\u00e3o\",\"N\\u00e3o\",\"N\\u00e3o\",\"N\\u00e3o\",\"N\\u00e3o\",\"N\\u00e3o\",\"N\\u00e3o\",\"N\\u00e3o\",\"Sim\",\"N\\u00e3o\",\"N\\u00e3o\",\"N\\u00e3o\",\"N\\u00e3o\",\"N\\u00e3o\",\"N\\u00e3o\",\"N\\u00e3o\",\"N\\u00e3o\",\"N\\u00e3o\",\"N\\u00e3o\",\"N\\u00e3o\",\"N\\u00e3o\",\"N\\u00e3o\",\"Sim\",\"N\\u00e3o\",\"N\\u00e3o\",\"Sim\",\"N\\u00e3o\",\"N\\u00e3o\",\"N\\u00e3o\",\"N\\u00e3o\",\"Sim\",\"N\\u00e3o\",\"Sim\",\"N\\u00e3o\",\"N\\u00e3o\",\"N\\u00e3o\",\"N\\u00e3o\",\"N\\u00e3o\",\"N\\u00e3o\",\"N\\u00e3o\",\"N\\u00e3o\",\"N\\u00e3o\",\"N\\u00e3o\",\"N\\u00e3o\",\"Sim\",\"N\\u00e3o\",\"Sim\",\"Sim\",\"Sim\",\"Sim\",\"N\\u00e3o\",\"Sim\",\"N\\u00e3o\",\"N\\u00e3o\",\"Sim\",\"N\\u00e3o\",\"N\\u00e3o\",\"N\\u00e3o\",\"N\\u00e3o\",\"N\\u00e3o\",\"Sim\",\"N\\u00e3o\",\"N\\u00e3o\",\"Sim\",\"N\\u00e3o\",\"N\\u00e3o\",\"N\\u00e3o\",\"N\\u00e3o\",\"N\\u00e3o\",\"N\\u00e3o\",\"Sim\",\"N\\u00e3o\",\"Sim\",\"N\\u00e3o\",\"N\\u00e3o\",\"N\\u00e3o\",\"Sim\",\"N\\u00e3o\",\"N\\u00e3o\",\"N\\u00e3o\",\"N\\u00e3o\",\"N\\u00e3o\",\"N\\u00e3o\",\"N\\u00e3o\",\"N\\u00e3o\",\"N\\u00e3o\",\"N\\u00e3o\",\"N\\u00e3o\",\"Sim\",\"N\\u00e3o\",\"N\\u00e3o\",\"Sim\",\"Sim\",\"Sim\",\"Sim\",\"N\\u00e3o\",\"N\\u00e3o\",\"N\\u00e3o\",\"N\\u00e3o\",\"N\\u00e3o\",\"N\\u00e3o\",\"N\\u00e3o\",\"N\\u00e3o\",\"N\\u00e3o\",\"N\\u00e3o\",\"Sim\",\"N\\u00e3o\",\"Sim\",\"N\\u00e3o\",\"Sim\",\"N\\u00e3o\",\"N\\u00e3o\",\"N\\u00e3o\",\"N\\u00e3o\",\"N\\u00e3o\",\"N\\u00e3o\",\"Sim\",\"Sim\",\"N\\u00e3o\",\"N\\u00e3o\",\"N\\u00e3o\",\"N\\u00e3o\",\"N\\u00e3o\",\"N\\u00e3o\",\"N\\u00e3o\",\"N\\u00e3o\",\"N\\u00e3o\",\"N\\u00e3o\",\"N\\u00e3o\",\"Sim\",\"N\\u00e3o\",\"N\\u00e3o\",\"N\\u00e3o\",\"N\\u00e3o\",\"N\\u00e3o\",\"N\\u00e3o\",\"N\\u00e3o\",\"N\\u00e3o\",\"N\\u00e3o\",\"N\\u00e3o\",\"N\\u00e3o\",\"N\\u00e3o\",\"Sim\",\"N\\u00e3o\",\"N\\u00e3o\",\"N\\u00e3o\",\"N\\u00e3o\",\"N\\u00e3o\",\"Sim\",\"N\\u00e3o\",\"Sim\",\"N\\u00e3o\",\"Sim\",\"N\\u00e3o\",\"Sim\",\"N\\u00e3o\",\"Sim\",\"N\\u00e3o\",\"N\\u00e3o\",\"N\\u00e3o\",\"N\\u00e3o\",\"N\\u00e3o\",\"Sim\",\"N\\u00e3o\",\"Sim\",\"N\\u00e3o\",\"N\\u00e3o\",\"N\\u00e3o\",\"Sim\",\"N\\u00e3o\",\"Sim\",\"Sim\",\"Sim\",\"N\\u00e3o\",\"N\\u00e3o\",\"Sim\",\"N\\u00e3o\",\"N\\u00e3o\",\"Sim\",\"Sim\",\"N\\u00e3o\",\"Sim\",\"N\\u00e3o\",\"N\\u00e3o\",\"N\\u00e3o\",\"N\\u00e3o\",\"Sim\",\"N\\u00e3o\",\"N\\u00e3o\",\"N\\u00e3o\",\"N\\u00e3o\",\"Sim\",\"N\\u00e3o\",\"Sim\",\"Sim\",\"Sim\",\"N\\u00e3o\",\"Sim\",\"N\\u00e3o\",\"N\\u00e3o\",\"N\\u00e3o\",\"N\\u00e3o\",\"Sim\",\"N\\u00e3o\",\"Sim\",\"Sim\",\"N\\u00e3o\",\"Sim\",\"N\\u00e3o\",\"N\\u00e3o\",\"N\\u00e3o\",\"N\\u00e3o\",\"Sim\",\"N\\u00e3o\",\"Sim\",\"N\\u00e3o\",\"N\\u00e3o\",\"N\\u00e3o\",\"N\\u00e3o\",\"Sim\",\"N\\u00e3o\",\"Sim\",\"N\\u00e3o\",\"N\\u00e3o\",\"Sim\",\"Sim\",\"Sim\",\"N\\u00e3o\",\"Sim\",\"N\\u00e3o\",\"N\\u00e3o\",\"N\\u00e3o\",\"N\\u00e3o\",\"N\\u00e3o\",\"Sim\",\"N\\u00e3o\",\"Sim\",\"N\\u00e3o\",\"Sim\",\"N\\u00e3o\",\"N\\u00e3o\",\"Sim\",\"N\\u00e3o\",\"N\\u00e3o\",\"Sim\",\"Sim\",\"N\\u00e3o\",\"N\\u00e3o\",\"Sim\",\"N\\u00e3o\",\"N\\u00e3o\",\"N\\u00e3o\",\"N\\u00e3o\",\"N\\u00e3o\",\"N\\u00e3o\",\"N\\u00e3o\",\"N\\u00e3o\",\"N\\u00e3o\",\"N\\u00e3o\",\"Sim\",\"Sim\",\"N\\u00e3o\",\"N\\u00e3o\",\"N\\u00e3o\",\"N\\u00e3o\",\"N\\u00e3o\",\"N\\u00e3o\",\"Sim\",\"N\\u00e3o\",\"N\\u00e3o\",\"N\\u00e3o\",\"N\\u00e3o\",\"Sim\",\"N\\u00e3o\",\"N\\u00e3o\",\"Sim\",\"N\\u00e3o\",\"N\\u00e3o\",\"N\\u00e3o\",\"N\\u00e3o\",\"N\\u00e3o\",\"Sim\",\"Sim\",\"N\\u00e3o\",\"N\\u00e3o\",\"N\\u00e3o\",\"N\\u00e3o\",\"N\\u00e3o\",\"N\\u00e3o\",\"N\\u00e3o\",\"Sim\",\"N\\u00e3o\",\"Sim\",\"N\\u00e3o\",\"N\\u00e3o\",\"N\\u00e3o\",\"N\\u00e3o\",\"N\\u00e3o\",\"Sim\",\"Sim\",\"N\\u00e3o\",\"N\\u00e3o\",\"N\\u00e3o\",\"Sim\",\"Sim\",\"Sim\",\"Sim\",\"N\\u00e3o\",\"N\\u00e3o\",\"N\\u00e3o\",\"N\\u00e3o\",\"N\\u00e3o\",\"N\\u00e3o\",\"N\\u00e3o\",\"N\\u00e3o\",\"N\\u00e3o\",\"N\\u00e3o\",\"N\\u00e3o\",\"N\\u00e3o\",\"N\\u00e3o\",\"N\\u00e3o\",\"Sim\",\"N\\u00e3o\",\"N\\u00e3o\",\"N\\u00e3o\",\"Sim\",\"Sim\",\"Sim\",\"N\\u00e3o\",\"Sim\",\"Sim\",\"Sim\",\"N\\u00e3o\",\"N\\u00e3o\",\"N\\u00e3o\",\"Sim\",\"N\\u00e3o\",\"N\\u00e3o\",\"N\\u00e3o\",\"N\\u00e3o\",\"N\\u00e3o\",\"N\\u00e3o\",\"N\\u00e3o\",\"N\\u00e3o\",\"N\\u00e3o\",\"N\\u00e3o\",\"N\\u00e3o\",\"Sim\",\"N\\u00e3o\",\"N\\u00e3o\",\"N\\u00e3o\",\"N\\u00e3o\",\"N\\u00e3o\",\"N\\u00e3o\",\"Sim\",\"N\\u00e3o\",\"Sim\",\"Sim\",\"N\\u00e3o\",\"N\\u00e3o\",\"N\\u00e3o\",\"N\\u00e3o\",\"Sim\",\"N\\u00e3o\",\"N\\u00e3o\",\"Sim\",\"N\\u00e3o\",\"N\\u00e3o\",\"N\\u00e3o\",\"Sim\",\"Sim\",\"N\\u00e3o\",\"N\\u00e3o\",\"Sim\",\"Sim\",\"N\\u00e3o\",\"Sim\",\"N\\u00e3o\",\"N\\u00e3o\",\"N\\u00e3o\",\"N\\u00e3o\",\"Sim\",\"N\\u00e3o\",\"N\\u00e3o\",\"N\\u00e3o\",\"N\\u00e3o\",\"Sim\",\"N\\u00e3o\",\"Sim\",\"N\\u00e3o\",\"N\\u00e3o\",\"N\\u00e3o\",\"Sim\",\"N\\u00e3o\",\"N\\u00e3o\",\"Sim\",\"N\\u00e3o\",\"N\\u00e3o\",\"N\\u00e3o\",\"Sim\",\"Sim\",\"N\\u00e3o\",\"Sim\",\"Sim\",\"N\\u00e3o\",\"Sim\",\"N\\u00e3o\",\"Sim\",\"Sim\",\"N\\u00e3o\",\"N\\u00e3o\",\"Sim\",\"N\\u00e3o\",\"N\\u00e3o\",\"Sim\",\"Sim\",\"N\\u00e3o\",\"Sim\",\"N\\u00e3o\",\"Sim\",\"N\\u00e3o\",\"Sim\",\"Sim\",\"Sim\",\"N\\u00e3o\",\"N\\u00e3o\",\"Sim\",\"N\\u00e3o\",\"N\\u00e3o\",\"N\\u00e3o\",\"N\\u00e3o\",\"N\\u00e3o\",\"Sim\",\"N\\u00e3o\",\"N\\u00e3o\",\"N\\u00e3o\",\"Sim\",\"Sim\",\"N\\u00e3o\",\"N\\u00e3o\",\"Sim\",\"Sim\",\"Sim\",\"N\\u00e3o\",\"Sim\",\"N\\u00e3o\",\"Sim\",\"Sim\",\"N\\u00e3o\",\"Sim\",\"Sim\",\"Sim\",\"N\\u00e3o\",\"N\\u00e3o\",\"N\\u00e3o\",\"N\\u00e3o\",\"N\\u00e3o\",\"N\\u00e3o\",\"Sim\",\"Sim\",\"N\\u00e3o\",\"N\\u00e3o\",\"N\\u00e3o\",\"N\\u00e3o\",\"N\\u00e3o\",\"N\\u00e3o\",\"N\\u00e3o\",\"Sim\",\"Sim\",\"N\\u00e3o\",\"N\\u00e3o\",\"Sim\",\"N\\u00e3o\",\"Sim\",\"Sim\",\"N\\u00e3o\",\"N\\u00e3o\",\"N\\u00e3o\",\"N\\u00e3o\",\"N\\u00e3o\",\"N\\u00e3o\",\"N\\u00e3o\",\"N\\u00e3o\",\"N\\u00e3o\",\"N\\u00e3o\",\"Sim\",\"Sim\",\"Sim\",\"N\\u00e3o\",\"Sim\",\"N\\u00e3o\",\"N\\u00e3o\",\"N\\u00e3o\",\"N\\u00e3o\",\"Sim\",\"Sim\",\"N\\u00e3o\",\"Sim\",\"Sim\",\"N\\u00e3o\",\"N\\u00e3o\",\"Sim\",\"N\\u00e3o\",\"Sim\",\"N\\u00e3o\",\"N\\u00e3o\",\"Sim\",\"N\\u00e3o\",\"N\\u00e3o\",\"Sim\",\"N\\u00e3o\",\"N\\u00e3o\",\"N\\u00e3o\",\"N\\u00e3o\",\"N\\u00e3o\",\"Sim\",\"N\\u00e3o\",\"Sim\",\"N\\u00e3o\",\"N\\u00e3o\",\"N\\u00e3o\",\"N\\u00e3o\",\"N\\u00e3o\",\"Sim\",\"N\\u00e3o\",\"N\\u00e3o\",\"N\\u00e3o\",\"N\\u00e3o\",\"N\\u00e3o\",\"N\\u00e3o\",\"N\\u00e3o\",\"N\\u00e3o\",\"N\\u00e3o\",\"Sim\",\"Sim\",\"Sim\",\"N\\u00e3o\",\"Sim\",\"N\\u00e3o\",\"N\\u00e3o\",\"Sim\",\"N\\u00e3o\",\"N\\u00e3o\",\"Sim\",\"Sim\",\"Sim\",\"Sim\",\"Sim\",\"N\\u00e3o\",\"N\\u00e3o\",\"Sim\",\"N\\u00e3o\",\"N\\u00e3o\",\"Sim\",\"N\\u00e3o\",\"N\\u00e3o\",\"N\\u00e3o\",\"N\\u00e3o\",\"N\\u00e3o\",\"N\\u00e3o\",\"N\\u00e3o\",\"N\\u00e3o\",\"Sim\",\"Sim\",\"N\\u00e3o\",\"Sim\",\"N\\u00e3o\",\"N\\u00e3o\",\"N\\u00e3o\",\"N\\u00e3o\",\"N\\u00e3o\",\"Sim\",\"N\\u00e3o\",\"N\\u00e3o\",\"N\\u00e3o\",\"N\\u00e3o\",\"N\\u00e3o\",\"N\\u00e3o\",\"N\\u00e3o\",\"Sim\",\"Sim\",\"N\\u00e3o\",\"Sim\",\"N\\u00e3o\",\"Sim\",\"Sim\",\"N\\u00e3o\",\"N\\u00e3o\",\"N\\u00e3o\",\"Sim\",\"Sim\",\"N\\u00e3o\",\"Sim\",\"N\\u00e3o\",\"N\\u00e3o\",\"Sim\",\"Sim\",\"Sim\",\"N\\u00e3o\",\"N\\u00e3o\",\"N\\u00e3o\",\"N\\u00e3o\",\"N\\u00e3o\",\"Sim\",\"Sim\",\"Sim\",\"N\\u00e3o\",\"Sim\",\"N\\u00e3o\",\"Sim\",\"Sim\",\"N\\u00e3o\",\"N\\u00e3o\",\"Sim\",\"Sim\",\"N\\u00e3o\",\"N\\u00e3o\",\"N\\u00e3o\",\"Sim\",\"Sim\",\"N\\u00e3o\",\"N\\u00e3o\",\"N\\u00e3o\",\"N\\u00e3o\",\"Sim\",\"N\\u00e3o\",\"N\\u00e3o\",\"N\\u00e3o\",\"N\\u00e3o\",\"N\\u00e3o\",\"Sim\",\"Sim\",\"N\\u00e3o\",\"Sim\",\"N\\u00e3o\",\"Sim\",\"N\\u00e3o\",\"N\\u00e3o\",\"Sim\",\"Sim\",\"N\\u00e3o\",\"N\\u00e3o\",\"N\\u00e3o\",\"N\\u00e3o\",\"N\\u00e3o\",\"N\\u00e3o\",\"N\\u00e3o\",\"Sim\",\"N\\u00e3o\",\"N\\u00e3o\",\"N\\u00e3o\",\"N\\u00e3o\",\"Sim\",\"N\\u00e3o\",\"N\\u00e3o\",\"N\\u00e3o\",\"N\\u00e3o\",\"N\\u00e3o\",\"N\\u00e3o\",\"N\\u00e3o\",\"N\\u00e3o\",\"N\\u00e3o\",\"N\\u00e3o\",\"N\\u00e3o\",\"N\\u00e3o\",\"N\\u00e3o\",\"N\\u00e3o\",\"Sim\",\"N\\u00e3o\",\"Sim\",\"N\\u00e3o\",\"N\\u00e3o\",\"N\\u00e3o\",\"N\\u00e3o\",\"Sim\",\"N\\u00e3o\",\"N\\u00e3o\",\"N\\u00e3o\",\"Sim\",\"Sim\",\"N\\u00e3o\",\"Sim\",\"N\\u00e3o\",\"N\\u00e3o\",\"N\\u00e3o\",\"Sim\",\"N\\u00e3o\",\"N\\u00e3o\",\"N\\u00e3o\",\"N\\u00e3o\",\"Sim\",\"Sim\",\"N\\u00e3o\",\"Sim\",\"Sim\",\"Sim\",\"Sim\",\"N\\u00e3o\",\"N\\u00e3o\",\"Sim\",\"Sim\",\"N\\u00e3o\",\"Sim\",\"N\\u00e3o\",\"N\\u00e3o\",\"N\\u00e3o\",\"N\\u00e3o\",\"N\\u00e3o\",\"N\\u00e3o\",\"N\\u00e3o\",\"N\\u00e3o\",\"Sim\",\"N\\u00e3o\",\"N\\u00e3o\",\"N\\u00e3o\",\"N\\u00e3o\",\"N\\u00e3o\",\"N\\u00e3o\",\"N\\u00e3o\",\"N\\u00e3o\",\"Sim\",\"N\\u00e3o\",\"N\\u00e3o\",\"Sim\",\"N\\u00e3o\",\"N\\u00e3o\",\"Sim\",\"N\\u00e3o\",\"Sim\",\"N\\u00e3o\",\"N\\u00e3o\",\"N\\u00e3o\",\"N\\u00e3o\",\"N\\u00e3o\",\"N\\u00e3o\",\"N\\u00e3o\",\"N\\u00e3o\",\"N\\u00e3o\",\"N\\u00e3o\",\"N\\u00e3o\",\"Sim\",\"Sim\",\"Sim\",\"Sim\",\"N\\u00e3o\",\"Sim\",\"N\\u00e3o\",\"N\\u00e3o\",\"N\\u00e3o\",\"N\\u00e3o\",\"N\\u00e3o\",\"N\\u00e3o\",\"N\\u00e3o\",\"Sim\",\"Sim\",\"Sim\",\"N\\u00e3o\",\"N\\u00e3o\",\"N\\u00e3o\",\"N\\u00e3o\",\"Sim\",\"N\\u00e3o\",\"N\\u00e3o\",\"N\\u00e3o\",\"N\\u00e3o\",\"N\\u00e3o\",\"N\\u00e3o\",\"N\\u00e3o\",\"N\\u00e3o\",\"N\\u00e3o\",\"N\\u00e3o\",\"N\\u00e3o\",\"N\\u00e3o\",\"N\\u00e3o\",\"Sim\",\"N\\u00e3o\",\"N\\u00e3o\",\"N\\u00e3o\",\"N\\u00e3o\",\"N\\u00e3o\",\"Sim\",\"Sim\",\"N\\u00e3o\",\"Sim\",\"N\\u00e3o\",\"Sim\",\"N\\u00e3o\",\"Sim\",\"N\\u00e3o\",\"N\\u00e3o\",\"N\\u00e3o\",\"N\\u00e3o\",\"N\\u00e3o\",\"N\\u00e3o\",\"N\\u00e3o\",\"N\\u00e3o\",\"Sim\",\"Sim\",\"Sim\",\"Sim\",\"N\\u00e3o\",\"Sim\",\"N\\u00e3o\",\"Sim\",\"N\\u00e3o\",\"N\\u00e3o\",\"N\\u00e3o\",\"N\\u00e3o\",\"N\\u00e3o\",\"Sim\",\"N\\u00e3o\",\"Sim\",\"Sim\",\"Sim\",\"Sim\",\"N\\u00e3o\",\"N\\u00e3o\",\"N\\u00e3o\",\"N\\u00e3o\",\"N\\u00e3o\",\"N\\u00e3o\",\"Sim\",\"Sim\",\"N\\u00e3o\",\"N\\u00e3o\",\"Sim\",\"Sim\",\"N\\u00e3o\",\"Sim\",\"Sim\",\"N\\u00e3o\",\"N\\u00e3o\",\"Sim\",\"N\\u00e3o\",\"N\\u00e3o\",\"N\\u00e3o\",\"N\\u00e3o\",\"N\\u00e3o\",\"N\\u00e3o\",\"N\\u00e3o\",\"N\\u00e3o\",\"Sim\",\"N\\u00e3o\",\"Sim\",\"Sim\",\"N\\u00e3o\",\"N\\u00e3o\",\"N\\u00e3o\",\"N\\u00e3o\",\"N\\u00e3o\",\"N\\u00e3o\",\"N\\u00e3o\",\"Sim\",\"N\\u00e3o\",\"Sim\",\"N\\u00e3o\",\"N\\u00e3o\",\"N\\u00e3o\",\"Sim\",\"Sim\",\"N\\u00e3o\",\"N\\u00e3o\",\"Sim\",\"N\\u00e3o\",\"N\\u00e3o\",\"Sim\",\"N\\u00e3o\",\"N\\u00e3o\",\"N\\u00e3o\",\"N\\u00e3o\",\"N\\u00e3o\",\"Sim\",\"N\\u00e3o\",\"N\\u00e3o\",\"N\\u00e3o\",\"N\\u00e3o\",\"N\\u00e3o\",\"Sim\",\"N\\u00e3o\",\"N\\u00e3o\",\"Sim\",\"Sim\",\"Sim\",\"N\\u00e3o\",\"Sim\",\"N\\u00e3o\",\"Sim\",\"N\\u00e3o\",\"Sim\",\"N\\u00e3o\",\"N\\u00e3o\",\"Sim\",\"N\\u00e3o\",\"Sim\",\"Sim\",\"Sim\",\"N\\u00e3o\",\"N\\u00e3o\",\"Sim\",\"N\\u00e3o\",\"Sim\",\"Sim\",\"N\\u00e3o\",\"Sim\",\"N\\u00e3o\",\"N\\u00e3o\",\"N\\u00e3o\",\"Sim\",\"Sim\",\"N\\u00e3o\",\"N\\u00e3o\",\"N\\u00e3o\",\"N\\u00e3o\",\"N\\u00e3o\",\"Sim\",\"N\\u00e3o\",\"Sim\",\"N\\u00e3o\",\"N\\u00e3o\",\"N\\u00e3o\",\"N\\u00e3o\",\"Sim\",\"N\\u00e3o\",\"Sim\",\"N\\u00e3o\",\"Sim\",\"N\\u00e3o\",\"Sim\",\"N\\u00e3o\",\"Sim\",\"N\\u00e3o\",\"Sim\",\"Sim\",\"Sim\",\"N\\u00e3o\",\"N\\u00e3o\",\"Sim\",\"N\\u00e3o\",\"N\\u00e3o\",\"N\\u00e3o\",\"Sim\",\"N\\u00e3o\",\"N\\u00e3o\",\"Sim\",\"N\\u00e3o\",\"N\\u00e3o\",\"N\\u00e3o\",\"N\\u00e3o\",\"N\\u00e3o\",\"Sim\",\"Sim\",\"Sim\",\"Sim\",\"Sim\",\"Sim\",\"N\\u00e3o\"],\"legendgroup\":\"\",\"marker\":{\"colors\":[\"#150035\",\"#5E96EC\",\"#5E96EC\",\"#5E96EC\",\"#150035\",\"#150035\",\"#5E96EC\",\"#5E96EC\",\"#5E96EC\",\"#150035\",\"#5E96EC\",\"#150035\",\"#5E96EC\",\"#5E96EC\",\"#5E96EC\",\"#150035\",\"#5E96EC\",\"#150035\",\"#5E96EC\",\"#150035\",\"#5E96EC\",\"#5E96EC\",\"#5E96EC\",\"#5E96EC\",\"#5E96EC\",\"#150035\",\"#150035\",\"#5E96EC\",\"#150035\",\"#5E96EC\",\"#5E96EC\",\"#5E96EC\",\"#150035\",\"#150035\",\"#5E96EC\",\"#5E96EC\",\"#5E96EC\",\"#150035\",\"#150035\",\"#150035\",\"#150035\",\"#5E96EC\",\"#5E96EC\",\"#5E96EC\",\"#5E96EC\",\"#5E96EC\",\"#5E96EC\",\"#150035\",\"#5E96EC\",\"#5E96EC\",\"#5E96EC\",\"#5E96EC\",\"#5E96EC\",\"#150035\",\"#5E96EC\",\"#150035\",\"#150035\",\"#150035\",\"#5E96EC\",\"#150035\",\"#150035\",\"#150035\",\"#5E96EC\",\"#150035\",\"#150035\",\"#5E96EC\",\"#5E96EC\",\"#150035\",\"#5E96EC\",\"#5E96EC\",\"#5E96EC\",\"#5E96EC\",\"#5E96EC\",\"#5E96EC\",\"#5E96EC\",\"#5E96EC\",\"#150035\",\"#5E96EC\",\"#5E96EC\",\"#150035\",\"#5E96EC\",\"#5E96EC\",\"#5E96EC\",\"#150035\",\"#150035\",\"#5E96EC\",\"#5E96EC\",\"#150035\",\"#150035\",\"#150035\",\"#150035\",\"#5E96EC\",\"#5E96EC\",\"#5E96EC\",\"#5E96EC\",\"#150035\",\"#5E96EC\",\"#150035\",\"#150035\",\"#5E96EC\",\"#5E96EC\",\"#5E96EC\",\"#5E96EC\",\"#5E96EC\",\"#5E96EC\",\"#5E96EC\",\"#5E96EC\",\"#150035\",\"#5E96EC\",\"#5E96EC\",\"#5E96EC\",\"#5E96EC\",\"#150035\",\"#5E96EC\",\"#5E96EC\",\"#5E96EC\",\"#5E96EC\",\"#5E96EC\",\"#5E96EC\",\"#5E96EC\",\"#5E96EC\",\"#5E96EC\",\"#150035\",\"#5E96EC\",\"#5E96EC\",\"#5E96EC\",\"#5E96EC\",\"#5E96EC\",\"#5E96EC\",\"#5E96EC\",\"#150035\",\"#150035\",\"#5E96EC\",\"#150035\",\"#150035\",\"#150035\",\"#150035\",\"#5E96EC\",\"#5E96EC\",\"#150035\",\"#5E96EC\",\"#150035\",\"#150035\",\"#5E96EC\",\"#5E96EC\",\"#150035\",\"#5E96EC\",\"#150035\",\"#150035\",\"#150035\",\"#5E96EC\",\"#5E96EC\",\"#150035\",\"#5E96EC\",\"#150035\",\"#150035\",\"#5E96EC\",\"#5E96EC\",\"#5E96EC\",\"#5E96EC\",\"#5E96EC\",\"#5E96EC\",\"#150035\",\"#5E96EC\",\"#5E96EC\",\"#5E96EC\",\"#150035\",\"#150035\",\"#5E96EC\",\"#5E96EC\",\"#150035\",\"#5E96EC\",\"#5E96EC\",\"#150035\",\"#150035\",\"#5E96EC\",\"#5E96EC\",\"#5E96EC\",\"#150035\",\"#5E96EC\",\"#5E96EC\",\"#150035\",\"#5E96EC\",\"#150035\",\"#5E96EC\",\"#5E96EC\",\"#5E96EC\",\"#5E96EC\",\"#5E96EC\",\"#5E96EC\",\"#5E96EC\",\"#5E96EC\",\"#5E96EC\",\"#5E96EC\",\"#5E96EC\",\"#150035\",\"#150035\",\"#5E96EC\",\"#150035\",\"#5E96EC\",\"#5E96EC\",\"#150035\",\"#5E96EC\",\"#150035\",\"#150035\",\"#5E96EC\",\"#150035\",\"#5E96EC\",\"#5E96EC\",\"#150035\",\"#150035\",\"#5E96EC\",\"#5E96EC\",\"#5E96EC\",\"#150035\",\"#150035\",\"#5E96EC\",\"#150035\",\"#5E96EC\",\"#150035\",\"#5E96EC\",\"#5E96EC\",\"#5E96EC\",\"#5E96EC\",\"#5E96EC\",\"#5E96EC\",\"#5E96EC\",\"#5E96EC\",\"#150035\",\"#5E96EC\",\"#5E96EC\",\"#5E96EC\",\"#5E96EC\",\"#5E96EC\",\"#5E96EC\",\"#150035\",\"#5E96EC\",\"#5E96EC\",\"#5E96EC\",\"#150035\",\"#5E96EC\",\"#150035\",\"#150035\",\"#5E96EC\",\"#5E96EC\",\"#5E96EC\",\"#5E96EC\",\"#5E96EC\",\"#150035\",\"#150035\",\"#5E96EC\",\"#150035\",\"#150035\",\"#5E96EC\",\"#5E96EC\",\"#150035\",\"#150035\",\"#150035\",\"#5E96EC\",\"#5E96EC\",\"#5E96EC\",\"#5E96EC\",\"#150035\",\"#5E96EC\",\"#5E96EC\",\"#5E96EC\",\"#150035\",\"#5E96EC\",\"#5E96EC\",\"#5E96EC\",\"#150035\",\"#150035\",\"#5E96EC\",\"#150035\",\"#5E96EC\",\"#5E96EC\",\"#5E96EC\",\"#150035\",\"#150035\",\"#5E96EC\",\"#150035\",\"#150035\",\"#5E96EC\",\"#5E96EC\",\"#150035\",\"#150035\",\"#5E96EC\",\"#5E96EC\",\"#5E96EC\",\"#150035\",\"#5E96EC\",\"#5E96EC\",\"#5E96EC\",\"#5E96EC\",\"#5E96EC\",\"#150035\",\"#5E96EC\",\"#5E96EC\",\"#5E96EC\",\"#5E96EC\",\"#5E96EC\",\"#150035\",\"#5E96EC\",\"#5E96EC\",\"#5E96EC\",\"#5E96EC\",\"#150035\",\"#5E96EC\",\"#5E96EC\",\"#150035\",\"#5E96EC\",\"#150035\",\"#150035\",\"#5E96EC\",\"#5E96EC\",\"#5E96EC\",\"#150035\",\"#150035\",\"#150035\",\"#5E96EC\",\"#5E96EC\",\"#5E96EC\",\"#150035\",\"#150035\",\"#5E96EC\",\"#5E96EC\",\"#5E96EC\",\"#5E96EC\",\"#150035\",\"#150035\",\"#150035\",\"#5E96EC\",\"#150035\",\"#5E96EC\",\"#5E96EC\",\"#5E96EC\",\"#150035\",\"#5E96EC\",\"#5E96EC\",\"#150035\",\"#5E96EC\",\"#5E96EC\",\"#5E96EC\",\"#5E96EC\",\"#5E96EC\",\"#150035\",\"#150035\",\"#150035\",\"#5E96EC\",\"#5E96EC\",\"#5E96EC\",\"#150035\",\"#5E96EC\",\"#5E96EC\",\"#5E96EC\",\"#5E96EC\",\"#5E96EC\",\"#5E96EC\",\"#5E96EC\",\"#5E96EC\",\"#5E96EC\",\"#5E96EC\",\"#5E96EC\",\"#5E96EC\",\"#5E96EC\",\"#150035\",\"#150035\",\"#5E96EC\",\"#5E96EC\",\"#5E96EC\",\"#5E96EC\",\"#150035\",\"#5E96EC\",\"#5E96EC\",\"#5E96EC\",\"#150035\",\"#150035\",\"#150035\",\"#5E96EC\",\"#5E96EC\",\"#5E96EC\",\"#150035\",\"#150035\",\"#5E96EC\",\"#5E96EC\",\"#5E96EC\",\"#150035\",\"#5E96EC\",\"#5E96EC\",\"#5E96EC\",\"#5E96EC\",\"#5E96EC\",\"#5E96EC\",\"#5E96EC\",\"#5E96EC\",\"#5E96EC\",\"#5E96EC\",\"#150035\",\"#5E96EC\",\"#5E96EC\",\"#5E96EC\",\"#5E96EC\",\"#5E96EC\",\"#5E96EC\",\"#5E96EC\",\"#5E96EC\",\"#5E96EC\",\"#5E96EC\",\"#5E96EC\",\"#5E96EC\",\"#5E96EC\",\"#150035\",\"#5E96EC\",\"#5E96EC\",\"#150035\",\"#5E96EC\",\"#5E96EC\",\"#5E96EC\",\"#5E96EC\",\"#150035\",\"#5E96EC\",\"#150035\",\"#5E96EC\",\"#5E96EC\",\"#5E96EC\",\"#5E96EC\",\"#5E96EC\",\"#5E96EC\",\"#5E96EC\",\"#5E96EC\",\"#5E96EC\",\"#5E96EC\",\"#5E96EC\",\"#150035\",\"#5E96EC\",\"#150035\",\"#150035\",\"#150035\",\"#150035\",\"#5E96EC\",\"#150035\",\"#5E96EC\",\"#5E96EC\",\"#150035\",\"#5E96EC\",\"#5E96EC\",\"#5E96EC\",\"#5E96EC\",\"#5E96EC\",\"#150035\",\"#5E96EC\",\"#5E96EC\",\"#150035\",\"#5E96EC\",\"#5E96EC\",\"#5E96EC\",\"#5E96EC\",\"#5E96EC\",\"#5E96EC\",\"#150035\",\"#5E96EC\",\"#150035\",\"#5E96EC\",\"#5E96EC\",\"#5E96EC\",\"#150035\",\"#5E96EC\",\"#5E96EC\",\"#5E96EC\",\"#5E96EC\",\"#5E96EC\",\"#5E96EC\",\"#5E96EC\",\"#5E96EC\",\"#5E96EC\",\"#5E96EC\",\"#5E96EC\",\"#150035\",\"#5E96EC\",\"#5E96EC\",\"#150035\",\"#150035\",\"#150035\",\"#150035\",\"#5E96EC\",\"#5E96EC\",\"#5E96EC\",\"#5E96EC\",\"#5E96EC\",\"#5E96EC\",\"#5E96EC\",\"#5E96EC\",\"#5E96EC\",\"#5E96EC\",\"#150035\",\"#5E96EC\",\"#150035\",\"#5E96EC\",\"#150035\",\"#5E96EC\",\"#5E96EC\",\"#5E96EC\",\"#5E96EC\",\"#5E96EC\",\"#5E96EC\",\"#150035\",\"#150035\",\"#5E96EC\",\"#5E96EC\",\"#5E96EC\",\"#5E96EC\",\"#5E96EC\",\"#5E96EC\",\"#5E96EC\",\"#5E96EC\",\"#5E96EC\",\"#5E96EC\",\"#5E96EC\",\"#150035\",\"#5E96EC\",\"#5E96EC\",\"#5E96EC\",\"#5E96EC\",\"#5E96EC\",\"#5E96EC\",\"#5E96EC\",\"#5E96EC\",\"#5E96EC\",\"#5E96EC\",\"#5E96EC\",\"#5E96EC\",\"#150035\",\"#5E96EC\",\"#5E96EC\",\"#5E96EC\",\"#5E96EC\",\"#5E96EC\",\"#150035\",\"#5E96EC\",\"#150035\",\"#5E96EC\",\"#150035\",\"#5E96EC\",\"#150035\",\"#5E96EC\",\"#150035\",\"#5E96EC\",\"#5E96EC\",\"#5E96EC\",\"#5E96EC\",\"#5E96EC\",\"#150035\",\"#5E96EC\",\"#150035\",\"#5E96EC\",\"#5E96EC\",\"#5E96EC\",\"#150035\",\"#5E96EC\",\"#150035\",\"#150035\",\"#150035\",\"#5E96EC\",\"#5E96EC\",\"#150035\",\"#5E96EC\",\"#5E96EC\",\"#150035\",\"#150035\",\"#5E96EC\",\"#150035\",\"#5E96EC\",\"#5E96EC\",\"#5E96EC\",\"#5E96EC\",\"#150035\",\"#5E96EC\",\"#5E96EC\",\"#5E96EC\",\"#5E96EC\",\"#150035\",\"#5E96EC\",\"#150035\",\"#150035\",\"#150035\",\"#5E96EC\",\"#150035\",\"#5E96EC\",\"#5E96EC\",\"#5E96EC\",\"#5E96EC\",\"#150035\",\"#5E96EC\",\"#150035\",\"#150035\",\"#5E96EC\",\"#150035\",\"#5E96EC\",\"#5E96EC\",\"#5E96EC\",\"#5E96EC\",\"#150035\",\"#5E96EC\",\"#150035\",\"#5E96EC\",\"#5E96EC\",\"#5E96EC\",\"#5E96EC\",\"#150035\",\"#5E96EC\",\"#150035\",\"#5E96EC\",\"#5E96EC\",\"#150035\",\"#150035\",\"#150035\",\"#5E96EC\",\"#150035\",\"#5E96EC\",\"#5E96EC\",\"#5E96EC\",\"#5E96EC\",\"#5E96EC\",\"#150035\",\"#5E96EC\",\"#150035\",\"#5E96EC\",\"#150035\",\"#5E96EC\",\"#5E96EC\",\"#150035\",\"#5E96EC\",\"#5E96EC\",\"#150035\",\"#150035\",\"#5E96EC\",\"#5E96EC\",\"#150035\",\"#5E96EC\",\"#5E96EC\",\"#5E96EC\",\"#5E96EC\",\"#5E96EC\",\"#5E96EC\",\"#5E96EC\",\"#5E96EC\",\"#5E96EC\",\"#5E96EC\",\"#150035\",\"#150035\",\"#5E96EC\",\"#5E96EC\",\"#5E96EC\",\"#5E96EC\",\"#5E96EC\",\"#5E96EC\",\"#150035\",\"#5E96EC\",\"#5E96EC\",\"#5E96EC\",\"#5E96EC\",\"#150035\",\"#5E96EC\",\"#5E96EC\",\"#150035\",\"#5E96EC\",\"#5E96EC\",\"#5E96EC\",\"#5E96EC\",\"#5E96EC\",\"#150035\",\"#150035\",\"#5E96EC\",\"#5E96EC\",\"#5E96EC\",\"#5E96EC\",\"#5E96EC\",\"#5E96EC\",\"#5E96EC\",\"#150035\",\"#5E96EC\",\"#150035\",\"#5E96EC\",\"#5E96EC\",\"#5E96EC\",\"#5E96EC\",\"#5E96EC\",\"#150035\",\"#150035\",\"#5E96EC\",\"#5E96EC\",\"#5E96EC\",\"#150035\",\"#150035\",\"#150035\",\"#150035\",\"#5E96EC\",\"#5E96EC\",\"#5E96EC\",\"#5E96EC\",\"#5E96EC\",\"#5E96EC\",\"#5E96EC\",\"#5E96EC\",\"#5E96EC\",\"#5E96EC\",\"#5E96EC\",\"#5E96EC\",\"#5E96EC\",\"#5E96EC\",\"#150035\",\"#5E96EC\",\"#5E96EC\",\"#5E96EC\",\"#150035\",\"#150035\",\"#150035\",\"#5E96EC\",\"#150035\",\"#150035\",\"#150035\",\"#5E96EC\",\"#5E96EC\",\"#5E96EC\",\"#150035\",\"#5E96EC\",\"#5E96EC\",\"#5E96EC\",\"#5E96EC\",\"#5E96EC\",\"#5E96EC\",\"#5E96EC\",\"#5E96EC\",\"#5E96EC\",\"#5E96EC\",\"#5E96EC\",\"#150035\",\"#5E96EC\",\"#5E96EC\",\"#5E96EC\",\"#5E96EC\",\"#5E96EC\",\"#5E96EC\",\"#150035\",\"#5E96EC\",\"#150035\",\"#150035\",\"#5E96EC\",\"#5E96EC\",\"#5E96EC\",\"#5E96EC\",\"#150035\",\"#5E96EC\",\"#5E96EC\",\"#150035\",\"#5E96EC\",\"#5E96EC\",\"#5E96EC\",\"#150035\",\"#150035\",\"#5E96EC\",\"#5E96EC\",\"#150035\",\"#150035\",\"#5E96EC\",\"#150035\",\"#5E96EC\",\"#5E96EC\",\"#5E96EC\",\"#5E96EC\",\"#150035\",\"#5E96EC\",\"#5E96EC\",\"#5E96EC\",\"#5E96EC\",\"#150035\",\"#5E96EC\",\"#150035\",\"#5E96EC\",\"#5E96EC\",\"#5E96EC\",\"#150035\",\"#5E96EC\",\"#5E96EC\",\"#150035\",\"#5E96EC\",\"#5E96EC\",\"#5E96EC\",\"#150035\",\"#150035\",\"#5E96EC\",\"#150035\",\"#150035\",\"#5E96EC\",\"#150035\",\"#5E96EC\",\"#150035\",\"#150035\",\"#5E96EC\",\"#5E96EC\",\"#150035\",\"#5E96EC\",\"#5E96EC\",\"#150035\",\"#150035\",\"#5E96EC\",\"#150035\",\"#5E96EC\",\"#150035\",\"#5E96EC\",\"#150035\",\"#150035\",\"#150035\",\"#5E96EC\",\"#5E96EC\",\"#150035\",\"#5E96EC\",\"#5E96EC\",\"#5E96EC\",\"#5E96EC\",\"#5E96EC\",\"#150035\",\"#5E96EC\",\"#5E96EC\",\"#5E96EC\",\"#150035\",\"#150035\",\"#5E96EC\",\"#5E96EC\",\"#150035\",\"#150035\",\"#150035\",\"#5E96EC\",\"#150035\",\"#5E96EC\",\"#150035\",\"#150035\",\"#5E96EC\",\"#150035\",\"#150035\",\"#150035\",\"#5E96EC\",\"#5E96EC\",\"#5E96EC\",\"#5E96EC\",\"#5E96EC\",\"#5E96EC\",\"#150035\",\"#150035\",\"#5E96EC\",\"#5E96EC\",\"#5E96EC\",\"#5E96EC\",\"#5E96EC\",\"#5E96EC\",\"#5E96EC\",\"#150035\",\"#150035\",\"#5E96EC\",\"#5E96EC\",\"#150035\",\"#5E96EC\",\"#150035\",\"#150035\",\"#5E96EC\",\"#5E96EC\",\"#5E96EC\",\"#5E96EC\",\"#5E96EC\",\"#5E96EC\",\"#5E96EC\",\"#5E96EC\",\"#5E96EC\",\"#5E96EC\",\"#150035\",\"#150035\",\"#150035\",\"#5E96EC\",\"#150035\",\"#5E96EC\",\"#5E96EC\",\"#5E96EC\",\"#5E96EC\",\"#150035\",\"#150035\",\"#5E96EC\",\"#150035\",\"#150035\",\"#5E96EC\",\"#5E96EC\",\"#150035\",\"#5E96EC\",\"#150035\",\"#5E96EC\",\"#5E96EC\",\"#150035\",\"#5E96EC\",\"#5E96EC\",\"#150035\",\"#5E96EC\",\"#5E96EC\",\"#5E96EC\",\"#5E96EC\",\"#5E96EC\",\"#150035\",\"#5E96EC\",\"#150035\",\"#5E96EC\",\"#5E96EC\",\"#5E96EC\",\"#5E96EC\",\"#5E96EC\",\"#150035\",\"#5E96EC\",\"#5E96EC\",\"#5E96EC\",\"#5E96EC\",\"#5E96EC\",\"#5E96EC\",\"#5E96EC\",\"#5E96EC\",\"#5E96EC\",\"#150035\",\"#150035\",\"#150035\",\"#5E96EC\",\"#150035\",\"#5E96EC\",\"#5E96EC\",\"#150035\",\"#5E96EC\",\"#5E96EC\",\"#150035\",\"#150035\",\"#150035\",\"#150035\",\"#150035\",\"#5E96EC\",\"#5E96EC\",\"#150035\",\"#5E96EC\",\"#5E96EC\",\"#150035\",\"#5E96EC\",\"#5E96EC\",\"#5E96EC\",\"#5E96EC\",\"#5E96EC\",\"#5E96EC\",\"#5E96EC\",\"#5E96EC\",\"#150035\",\"#150035\",\"#5E96EC\",\"#150035\",\"#5E96EC\",\"#5E96EC\",\"#5E96EC\",\"#5E96EC\",\"#5E96EC\",\"#150035\",\"#5E96EC\",\"#5E96EC\",\"#5E96EC\",\"#5E96EC\",\"#5E96EC\",\"#5E96EC\",\"#5E96EC\",\"#150035\",\"#150035\",\"#5E96EC\",\"#150035\",\"#5E96EC\",\"#150035\",\"#150035\",\"#5E96EC\",\"#5E96EC\",\"#5E96EC\",\"#150035\",\"#150035\",\"#5E96EC\",\"#150035\",\"#5E96EC\",\"#5E96EC\",\"#150035\",\"#150035\",\"#150035\",\"#5E96EC\",\"#5E96EC\",\"#5E96EC\",\"#5E96EC\",\"#5E96EC\",\"#150035\",\"#150035\",\"#150035\",\"#5E96EC\",\"#150035\",\"#5E96EC\",\"#150035\",\"#150035\",\"#5E96EC\",\"#5E96EC\",\"#150035\",\"#150035\",\"#5E96EC\",\"#5E96EC\",\"#5E96EC\",\"#150035\",\"#150035\",\"#5E96EC\",\"#5E96EC\",\"#5E96EC\",\"#5E96EC\",\"#150035\",\"#5E96EC\",\"#5E96EC\",\"#5E96EC\",\"#5E96EC\",\"#5E96EC\",\"#150035\",\"#150035\",\"#5E96EC\",\"#150035\",\"#5E96EC\",\"#150035\",\"#5E96EC\",\"#5E96EC\",\"#150035\",\"#150035\",\"#5E96EC\",\"#5E96EC\",\"#5E96EC\",\"#5E96EC\",\"#5E96EC\",\"#5E96EC\",\"#5E96EC\",\"#150035\",\"#5E96EC\",\"#5E96EC\",\"#5E96EC\",\"#5E96EC\",\"#150035\",\"#5E96EC\",\"#5E96EC\",\"#5E96EC\",\"#5E96EC\",\"#5E96EC\",\"#5E96EC\",\"#5E96EC\",\"#5E96EC\",\"#5E96EC\",\"#5E96EC\",\"#5E96EC\",\"#5E96EC\",\"#5E96EC\",\"#5E96EC\",\"#150035\",\"#5E96EC\",\"#150035\",\"#5E96EC\",\"#5E96EC\",\"#5E96EC\",\"#5E96EC\",\"#150035\",\"#5E96EC\",\"#5E96EC\",\"#5E96EC\",\"#150035\",\"#150035\",\"#5E96EC\",\"#150035\",\"#5E96EC\",\"#5E96EC\",\"#5E96EC\",\"#150035\",\"#5E96EC\",\"#5E96EC\",\"#5E96EC\",\"#5E96EC\",\"#150035\",\"#150035\",\"#5E96EC\",\"#150035\",\"#150035\",\"#150035\",\"#150035\",\"#5E96EC\",\"#5E96EC\",\"#150035\",\"#150035\",\"#5E96EC\",\"#150035\",\"#5E96EC\",\"#5E96EC\",\"#5E96EC\",\"#5E96EC\",\"#5E96EC\",\"#5E96EC\",\"#5E96EC\",\"#5E96EC\",\"#150035\",\"#5E96EC\",\"#5E96EC\",\"#5E96EC\",\"#5E96EC\",\"#5E96EC\",\"#5E96EC\",\"#5E96EC\",\"#5E96EC\",\"#150035\",\"#5E96EC\",\"#5E96EC\",\"#150035\",\"#5E96EC\",\"#5E96EC\",\"#150035\",\"#5E96EC\",\"#150035\",\"#5E96EC\",\"#5E96EC\",\"#5E96EC\",\"#5E96EC\",\"#5E96EC\",\"#5E96EC\",\"#5E96EC\",\"#5E96EC\",\"#5E96EC\",\"#5E96EC\",\"#5E96EC\",\"#150035\",\"#150035\",\"#150035\",\"#150035\",\"#5E96EC\",\"#150035\",\"#5E96EC\",\"#5E96EC\",\"#5E96EC\",\"#5E96EC\",\"#5E96EC\",\"#5E96EC\",\"#5E96EC\",\"#150035\",\"#150035\",\"#150035\",\"#5E96EC\",\"#5E96EC\",\"#5E96EC\",\"#5E96EC\",\"#150035\",\"#5E96EC\",\"#5E96EC\",\"#5E96EC\",\"#5E96EC\",\"#5E96EC\",\"#5E96EC\",\"#5E96EC\",\"#5E96EC\",\"#5E96EC\",\"#5E96EC\",\"#5E96EC\",\"#5E96EC\",\"#5E96EC\",\"#150035\",\"#5E96EC\",\"#5E96EC\",\"#5E96EC\",\"#5E96EC\",\"#5E96EC\",\"#150035\",\"#150035\",\"#5E96EC\",\"#150035\",\"#5E96EC\",\"#150035\",\"#5E96EC\",\"#150035\",\"#5E96EC\",\"#5E96EC\",\"#5E96EC\",\"#5E96EC\",\"#5E96EC\",\"#5E96EC\",\"#5E96EC\",\"#5E96EC\",\"#150035\",\"#150035\",\"#150035\",\"#150035\",\"#5E96EC\",\"#150035\",\"#5E96EC\",\"#150035\",\"#5E96EC\",\"#5E96EC\",\"#5E96EC\",\"#5E96EC\",\"#5E96EC\",\"#150035\",\"#5E96EC\",\"#150035\",\"#150035\",\"#150035\",\"#150035\",\"#5E96EC\",\"#5E96EC\",\"#5E96EC\",\"#5E96EC\",\"#5E96EC\",\"#5E96EC\",\"#150035\",\"#150035\",\"#5E96EC\",\"#5E96EC\",\"#150035\",\"#150035\",\"#5E96EC\",\"#150035\",\"#150035\",\"#5E96EC\",\"#5E96EC\",\"#150035\",\"#5E96EC\",\"#5E96EC\",\"#5E96EC\",\"#5E96EC\",\"#5E96EC\",\"#5E96EC\",\"#5E96EC\",\"#5E96EC\",\"#150035\",\"#5E96EC\",\"#150035\",\"#150035\",\"#5E96EC\",\"#5E96EC\",\"#5E96EC\",\"#5E96EC\",\"#5E96EC\",\"#5E96EC\",\"#5E96EC\",\"#150035\",\"#5E96EC\",\"#150035\",\"#5E96EC\",\"#5E96EC\",\"#5E96EC\",\"#150035\",\"#150035\",\"#5E96EC\",\"#5E96EC\",\"#150035\",\"#5E96EC\",\"#5E96EC\",\"#150035\",\"#5E96EC\",\"#5E96EC\",\"#5E96EC\",\"#5E96EC\",\"#5E96EC\",\"#150035\",\"#5E96EC\",\"#5E96EC\",\"#5E96EC\",\"#5E96EC\",\"#5E96EC\",\"#150035\",\"#5E96EC\",\"#5E96EC\",\"#150035\",\"#150035\",\"#150035\",\"#5E96EC\",\"#150035\",\"#5E96EC\",\"#150035\",\"#5E96EC\",\"#150035\",\"#5E96EC\",\"#5E96EC\",\"#150035\",\"#5E96EC\",\"#150035\",\"#150035\",\"#150035\",\"#5E96EC\",\"#5E96EC\",\"#150035\",\"#5E96EC\",\"#150035\",\"#150035\",\"#5E96EC\",\"#150035\",\"#5E96EC\",\"#5E96EC\",\"#5E96EC\",\"#150035\",\"#150035\",\"#5E96EC\",\"#5E96EC\",\"#5E96EC\",\"#5E96EC\",\"#5E96EC\",\"#150035\",\"#5E96EC\",\"#150035\",\"#5E96EC\",\"#5E96EC\",\"#5E96EC\",\"#5E96EC\",\"#150035\",\"#5E96EC\",\"#150035\",\"#5E96EC\",\"#150035\",\"#5E96EC\",\"#150035\",\"#5E96EC\",\"#150035\",\"#5E96EC\",\"#150035\",\"#150035\",\"#150035\",\"#5E96EC\",\"#5E96EC\",\"#150035\",\"#5E96EC\",\"#5E96EC\",\"#5E96EC\",\"#150035\",\"#5E96EC\",\"#5E96EC\",\"#150035\",\"#5E96EC\",\"#5E96EC\",\"#5E96EC\",\"#5E96EC\",\"#5E96EC\",\"#150035\",\"#150035\",\"#150035\",\"#150035\",\"#150035\",\"#150035\",\"#5E96EC\"]},\"name\":\"\",\"showlegend\":true,\"type\":\"pie\"}],                        {\"template\":{\"data\":{\"bar\":[{\"error_x\":{\"color\":\"#2a3f5f\"},\"error_y\":{\"color\":\"#2a3f5f\"},\"marker\":{\"line\":{\"color\":\"#E5ECF6\",\"width\":0.5},\"pattern\":{\"fillmode\":\"overlay\",\"size\":10,\"solidity\":0.2}},\"type\":\"bar\"}],\"barpolar\":[{\"marker\":{\"line\":{\"color\":\"#E5ECF6\",\"width\":0.5},\"pattern\":{\"fillmode\":\"overlay\",\"size\":10,\"solidity\":0.2}},\"type\":\"barpolar\"}],\"carpet\":[{\"aaxis\":{\"endlinecolor\":\"#2a3f5f\",\"gridcolor\":\"white\",\"linecolor\":\"white\",\"minorgridcolor\":\"white\",\"startlinecolor\":\"#2a3f5f\"},\"baxis\":{\"endlinecolor\":\"#2a3f5f\",\"gridcolor\":\"white\",\"linecolor\":\"white\",\"minorgridcolor\":\"white\",\"startlinecolor\":\"#2a3f5f\"},\"type\":\"carpet\"}],\"choropleth\":[{\"colorbar\":{\"outlinewidth\":0,\"ticks\":\"\"},\"type\":\"choropleth\"}],\"contour\":[{\"colorbar\":{\"outlinewidth\":0,\"ticks\":\"\"},\"colorscale\":[[0.0,\"#0d0887\"],[0.1111111111111111,\"#46039f\"],[0.2222222222222222,\"#7201a8\"],[0.3333333333333333,\"#9c179e\"],[0.4444444444444444,\"#bd3786\"],[0.5555555555555556,\"#d8576b\"],[0.6666666666666666,\"#ed7953\"],[0.7777777777777778,\"#fb9f3a\"],[0.8888888888888888,\"#fdca26\"],[1.0,\"#f0f921\"]],\"type\":\"contour\"}],\"contourcarpet\":[{\"colorbar\":{\"outlinewidth\":0,\"ticks\":\"\"},\"type\":\"contourcarpet\"}],\"heatmap\":[{\"colorbar\":{\"outlinewidth\":0,\"ticks\":\"\"},\"colorscale\":[[0.0,\"#0d0887\"],[0.1111111111111111,\"#46039f\"],[0.2222222222222222,\"#7201a8\"],[0.3333333333333333,\"#9c179e\"],[0.4444444444444444,\"#bd3786\"],[0.5555555555555556,\"#d8576b\"],[0.6666666666666666,\"#ed7953\"],[0.7777777777777778,\"#fb9f3a\"],[0.8888888888888888,\"#fdca26\"],[1.0,\"#f0f921\"]],\"type\":\"heatmap\"}],\"heatmapgl\":[{\"colorbar\":{\"outlinewidth\":0,\"ticks\":\"\"},\"colorscale\":[[0.0,\"#0d0887\"],[0.1111111111111111,\"#46039f\"],[0.2222222222222222,\"#7201a8\"],[0.3333333333333333,\"#9c179e\"],[0.4444444444444444,\"#bd3786\"],[0.5555555555555556,\"#d8576b\"],[0.6666666666666666,\"#ed7953\"],[0.7777777777777778,\"#fb9f3a\"],[0.8888888888888888,\"#fdca26\"],[1.0,\"#f0f921\"]],\"type\":\"heatmapgl\"}],\"histogram\":[{\"marker\":{\"pattern\":{\"fillmode\":\"overlay\",\"size\":10,\"solidity\":0.2}},\"type\":\"histogram\"}],\"histogram2d\":[{\"colorbar\":{\"outlinewidth\":0,\"ticks\":\"\"},\"colorscale\":[[0.0,\"#0d0887\"],[0.1111111111111111,\"#46039f\"],[0.2222222222222222,\"#7201a8\"],[0.3333333333333333,\"#9c179e\"],[0.4444444444444444,\"#bd3786\"],[0.5555555555555556,\"#d8576b\"],[0.6666666666666666,\"#ed7953\"],[0.7777777777777778,\"#fb9f3a\"],[0.8888888888888888,\"#fdca26\"],[1.0,\"#f0f921\"]],\"type\":\"histogram2d\"}],\"histogram2dcontour\":[{\"colorbar\":{\"outlinewidth\":0,\"ticks\":\"\"},\"colorscale\":[[0.0,\"#0d0887\"],[0.1111111111111111,\"#46039f\"],[0.2222222222222222,\"#7201a8\"],[0.3333333333333333,\"#9c179e\"],[0.4444444444444444,\"#bd3786\"],[0.5555555555555556,\"#d8576b\"],[0.6666666666666666,\"#ed7953\"],[0.7777777777777778,\"#fb9f3a\"],[0.8888888888888888,\"#fdca26\"],[1.0,\"#f0f921\"]],\"type\":\"histogram2dcontour\"}],\"mesh3d\":[{\"colorbar\":{\"outlinewidth\":0,\"ticks\":\"\"},\"type\":\"mesh3d\"}],\"parcoords\":[{\"line\":{\"colorbar\":{\"outlinewidth\":0,\"ticks\":\"\"}},\"type\":\"parcoords\"}],\"pie\":[{\"automargin\":true,\"type\":\"pie\"}],\"scatter\":[{\"marker\":{\"colorbar\":{\"outlinewidth\":0,\"ticks\":\"\"}},\"type\":\"scatter\"}],\"scatter3d\":[{\"line\":{\"colorbar\":{\"outlinewidth\":0,\"ticks\":\"\"}},\"marker\":{\"colorbar\":{\"outlinewidth\":0,\"ticks\":\"\"}},\"type\":\"scatter3d\"}],\"scattercarpet\":[{\"marker\":{\"colorbar\":{\"outlinewidth\":0,\"ticks\":\"\"}},\"type\":\"scattercarpet\"}],\"scattergeo\":[{\"marker\":{\"colorbar\":{\"outlinewidth\":0,\"ticks\":\"\"}},\"type\":\"scattergeo\"}],\"scattergl\":[{\"marker\":{\"colorbar\":{\"outlinewidth\":0,\"ticks\":\"\"}},\"type\":\"scattergl\"}],\"scattermapbox\":[{\"marker\":{\"colorbar\":{\"outlinewidth\":0,\"ticks\":\"\"}},\"type\":\"scattermapbox\"}],\"scatterpolar\":[{\"marker\":{\"colorbar\":{\"outlinewidth\":0,\"ticks\":\"\"}},\"type\":\"scatterpolar\"}],\"scatterpolargl\":[{\"marker\":{\"colorbar\":{\"outlinewidth\":0,\"ticks\":\"\"}},\"type\":\"scatterpolargl\"}],\"scatterternary\":[{\"marker\":{\"colorbar\":{\"outlinewidth\":0,\"ticks\":\"\"}},\"type\":\"scatterternary\"}],\"surface\":[{\"colorbar\":{\"outlinewidth\":0,\"ticks\":\"\"},\"colorscale\":[[0.0,\"#0d0887\"],[0.1111111111111111,\"#46039f\"],[0.2222222222222222,\"#7201a8\"],[0.3333333333333333,\"#9c179e\"],[0.4444444444444444,\"#bd3786\"],[0.5555555555555556,\"#d8576b\"],[0.6666666666666666,\"#ed7953\"],[0.7777777777777778,\"#fb9f3a\"],[0.8888888888888888,\"#fdca26\"],[1.0,\"#f0f921\"]],\"type\":\"surface\"}],\"table\":[{\"cells\":{\"fill\":{\"color\":\"#EBF0F8\"},\"line\":{\"color\":\"white\"}},\"header\":{\"fill\":{\"color\":\"#C8D4E3\"},\"line\":{\"color\":\"white\"}},\"type\":\"table\"}]},\"layout\":{\"annotationdefaults\":{\"arrowcolor\":\"#2a3f5f\",\"arrowhead\":0,\"arrowwidth\":1},\"autotypenumbers\":\"strict\",\"coloraxis\":{\"colorbar\":{\"outlinewidth\":0,\"ticks\":\"\"}},\"colorscale\":{\"diverging\":[[0,\"#8e0152\"],[0.1,\"#c51b7d\"],[0.2,\"#de77ae\"],[0.3,\"#f1b6da\"],[0.4,\"#fde0ef\"],[0.5,\"#f7f7f7\"],[0.6,\"#e6f5d0\"],[0.7,\"#b8e186\"],[0.8,\"#7fbc41\"],[0.9,\"#4d9221\"],[1,\"#276419\"]],\"sequential\":[[0.0,\"#0d0887\"],[0.1111111111111111,\"#46039f\"],[0.2222222222222222,\"#7201a8\"],[0.3333333333333333,\"#9c179e\"],[0.4444444444444444,\"#bd3786\"],[0.5555555555555556,\"#d8576b\"],[0.6666666666666666,\"#ed7953\"],[0.7777777777777778,\"#fb9f3a\"],[0.8888888888888888,\"#fdca26\"],[1.0,\"#f0f921\"]],\"sequentialminus\":[[0.0,\"#0d0887\"],[0.1111111111111111,\"#46039f\"],[0.2222222222222222,\"#7201a8\"],[0.3333333333333333,\"#9c179e\"],[0.4444444444444444,\"#bd3786\"],[0.5555555555555556,\"#d8576b\"],[0.6666666666666666,\"#ed7953\"],[0.7777777777777778,\"#fb9f3a\"],[0.8888888888888888,\"#fdca26\"],[1.0,\"#f0f921\"]]},\"colorway\":[\"#636efa\",\"#EF553B\",\"#00cc96\",\"#ab63fa\",\"#FFA15A\",\"#19d3f3\",\"#FF6692\",\"#B6E880\",\"#FF97FF\",\"#FECB52\"],\"font\":{\"color\":\"#2a3f5f\"},\"geo\":{\"bgcolor\":\"white\",\"lakecolor\":\"white\",\"landcolor\":\"#E5ECF6\",\"showlakes\":true,\"showland\":true,\"subunitcolor\":\"white\"},\"hoverlabel\":{\"align\":\"left\"},\"hovermode\":\"closest\",\"mapbox\":{\"style\":\"light\"},\"paper_bgcolor\":\"white\",\"plot_bgcolor\":\"#E5ECF6\",\"polar\":{\"angularaxis\":{\"gridcolor\":\"white\",\"linecolor\":\"white\",\"ticks\":\"\"},\"bgcolor\":\"#E5ECF6\",\"radialaxis\":{\"gridcolor\":\"white\",\"linecolor\":\"white\",\"ticks\":\"\"}},\"scene\":{\"xaxis\":{\"backgroundcolor\":\"#E5ECF6\",\"gridcolor\":\"white\",\"gridwidth\":2,\"linecolor\":\"white\",\"showbackground\":true,\"ticks\":\"\",\"zerolinecolor\":\"white\"},\"yaxis\":{\"backgroundcolor\":\"#E5ECF6\",\"gridcolor\":\"white\",\"gridwidth\":2,\"linecolor\":\"white\",\"showbackground\":true,\"ticks\":\"\",\"zerolinecolor\":\"white\"},\"zaxis\":{\"backgroundcolor\":\"#E5ECF6\",\"gridcolor\":\"white\",\"gridwidth\":2,\"linecolor\":\"white\",\"showbackground\":true,\"ticks\":\"\",\"zerolinecolor\":\"white\"}},\"shapedefaults\":{\"line\":{\"color\":\"#2a3f5f\"}},\"ternary\":{\"aaxis\":{\"gridcolor\":\"white\",\"linecolor\":\"white\",\"ticks\":\"\"},\"baxis\":{\"gridcolor\":\"white\",\"linecolor\":\"white\",\"ticks\":\"\"},\"bgcolor\":\"#E5ECF6\",\"caxis\":{\"gridcolor\":\"white\",\"linecolor\":\"white\",\"ticks\":\"\"}},\"title\":{\"x\":0.05},\"xaxis\":{\"automargin\":true,\"gridcolor\":\"white\",\"linecolor\":\"white\",\"ticks\":\"\",\"title\":{\"standoff\":15},\"zerolinecolor\":\"white\",\"zerolinewidth\":2},\"yaxis\":{\"automargin\":true,\"gridcolor\":\"white\",\"linecolor\":\"white\",\"ticks\":\"\",\"title\":{\"standoff\":15},\"zerolinecolor\":\"white\",\"zerolinewidth\":2}}},\"legend\":{\"tracegroupgap\":0},\"title\":{\"text\":\"Jovens de 18 a 35 anos, quando perguntados se fizeram Investimento\"}},                        {\"responsive\": true}                    ).then(function(){\n",
       "                            \n",
       "var gd = document.getElementById('b33e9118-ea2e-4474-969e-e03ad977fa9c');\n",
       "var x = new MutationObserver(function (mutations, observer) {{\n",
       "        var display = window.getComputedStyle(gd).display;\n",
       "        if (!display || display === 'none') {{\n",
       "            console.log([gd, 'removed!']);\n",
       "            Plotly.purge(gd);\n",
       "            observer.disconnect();\n",
       "        }}\n",
       "}});\n",
       "\n",
       "// Listen for the removal of the full notebook cells\n",
       "var notebookContainer = gd.closest('#notebook-container');\n",
       "if (notebookContainer) {{\n",
       "    x.observe(notebookContainer, {childList: true});\n",
       "}}\n",
       "\n",
       "// Listen for the clearing of the current output cell\n",
       "var outputEl = gd.closest('.output');\n",
       "if (outputEl) {{\n",
       "    x.observe(outputEl, {childList: true});\n",
       "}}\n",
       "\n",
       "                        })                };                });            </script>        </div>"
      ]
     },
     "metadata": {},
     "output_type": "display_data"
    }
   ],
   "source": [
    "fig = px.pie(Rótulo, names='Fez Investimento', title='Jovens de 18 a 35 anos, quando perguntados se fizeram Investimento', \n",
    "             color='Fez Investimento', \n",
    "             color_discrete_map={'Sim':'#150035', \n",
    "                                 'Não':'#5E96EC'})\n",
    "fig.show()"
   ]
  },
  {
   "cell_type": "markdown",
   "metadata": {},
   "source": [
    "## Fez investimento"
   ]
  },
  {
   "cell_type": "code",
   "execution_count": 28,
   "metadata": {},
   "outputs": [
    {
     "data": {
      "text/html": [
       "<div>\n",
       "<style scoped>\n",
       "    .dataframe tbody tr th:only-of-type {\n",
       "        vertical-align: middle;\n",
       "    }\n",
       "\n",
       "    .dataframe tbody tr th {\n",
       "        vertical-align: top;\n",
       "    }\n",
       "\n",
       "    .dataframe thead th {\n",
       "        text-align: right;\n",
       "    }\n",
       "</style>\n",
       "<table border=\"1\" class=\"dataframe\">\n",
       "  <thead>\n",
       "    <tr style=\"text-align: right;\">\n",
       "      <th></th>\n",
       "      <th>ID entrevistado</th>\n",
       "      <th>UF</th>\n",
       "      <th>Idade</th>\n",
       "      <th>Faixa Etária</th>\n",
       "      <th>Sexo</th>\n",
       "      <th>Fez Investimento</th>\n",
       "      <th>Aplica em quais investimentos</th>\n",
       "      <th>Outro investimento</th>\n",
       "      <th>Anos investindo na Poupança</th>\n",
       "      <th>Anos investindo na Compra e Venda de imóveis</th>\n",
       "      <th>Outras Respostas</th>\n",
       "      <th>Principal Motivo</th>\n",
       "      <th>Segundo Motivo</th>\n",
       "      <th>Terceiro Motivo</th>\n",
       "      <th>Meio para realização de aplicação financeira</th>\n",
       "      <th>p39</th>\n",
       "      <th>Motivo principal para não investimento</th>\n",
       "      <th>BLOCO VI - APOSENTADORIA\\n\\nPARA ENTREVISTADOS QUE NÃO SÃO APOSENTADOS - PEA≠12</th>\n",
       "      <th>BLOCO VI - APOSENTADORIA\\n\\nPARA ENTREVISTADOS QUE SÃO APOSENTADOS – PEA=12</th>\n",
       "    </tr>\n",
       "  </thead>\n",
       "  <tbody>\n",
       "    <tr>\n",
       "      <th>0</th>\n",
       "      <td>MG9835</td>\n",
       "      <td>MG</td>\n",
       "      <td>27</td>\n",
       "      <td>25 a 34 anos</td>\n",
       "      <td>Feminino</td>\n",
       "      <td>Sim</td>\n",
       "      <td>Caderneta de poupança</td>\n",
       "      <td>NaN</td>\n",
       "      <td>1</td>\n",
       "      <td>NaN</td>\n",
       "      <td>NaN</td>\n",
       "      <td>A segurança da aplicação</td>\n",
       "      <td>As taxas para a realização da aplicação/ A inc...</td>\n",
       "      <td>O retorno da aplicação</td>\n",
       "      <td>Pessoalmente no banco</td>\n",
       "      <td>6</td>\n",
       "      <td>NaN</td>\n",
       "      <td>NaN</td>\n",
       "      <td>NaN</td>\n",
       "    </tr>\n",
       "    <tr>\n",
       "      <th>1</th>\n",
       "      <td>PE9316</td>\n",
       "      <td>PE</td>\n",
       "      <td>21</td>\n",
       "      <td>16 a 24 anos</td>\n",
       "      <td>Masculino</td>\n",
       "      <td>Sim</td>\n",
       "      <td>Não conhece nenhum tipo de investimento/ Não u...</td>\n",
       "      <td>NaN</td>\n",
       "      <td>NaN</td>\n",
       "      <td>NaN</td>\n",
       "      <td>NaN</td>\n",
       "      <td>NaN</td>\n",
       "      <td>NaN</td>\n",
       "      <td>NaN</td>\n",
       "      <td>NaN</td>\n",
       "      <td>NaN</td>\n",
       "      <td>Falta de dinheiro/ salário baixo/ sem condiçõe...</td>\n",
       "      <td>NaN</td>\n",
       "      <td>NaN</td>\n",
       "    </tr>\n",
       "    <tr>\n",
       "      <th>2</th>\n",
       "      <td>RJ9861</td>\n",
       "      <td>RJ</td>\n",
       "      <td>34</td>\n",
       "      <td>25 a 34 anos</td>\n",
       "      <td>Masculino</td>\n",
       "      <td>Sim</td>\n",
       "      <td>Ações na bolsa de valores</td>\n",
       "      <td>NaN</td>\n",
       "      <td>NaN</td>\n",
       "      <td>NaN</td>\n",
       "      <td>NaN</td>\n",
       "      <td>O retorno da aplicação</td>\n",
       "      <td>A liquidez do produto, ou seja, se poderá resg...</td>\n",
       "      <td>As taxas para a realização da aplicação/ A inc...</td>\n",
       "      <td>No aplicativo da corretora de investimento</td>\n",
       "      <td>9</td>\n",
       "      <td>NaN</td>\n",
       "      <td>NaN</td>\n",
       "      <td>NaN</td>\n",
       "    </tr>\n",
       "    <tr>\n",
       "      <th>3</th>\n",
       "      <td>RJ9861</td>\n",
       "      <td>RJ</td>\n",
       "      <td>23</td>\n",
       "      <td>16 a 24 anos</td>\n",
       "      <td>Masculino</td>\n",
       "      <td>Sim</td>\n",
       "      <td>Caderneta de poupança</td>\n",
       "      <td>Títulos públicos via tesouro direto (pré-fixad...</td>\n",
       "      <td>1</td>\n",
       "      <td>NaN</td>\n",
       "      <td>NaN</td>\n",
       "      <td>A liquidez do produto, ou seja, se poderá resg...</td>\n",
       "      <td>A segurança da aplicação</td>\n",
       "      <td>O retorno da aplicação</td>\n",
       "      <td>No aplicativo do banco</td>\n",
       "      <td>10</td>\n",
       "      <td>NaN</td>\n",
       "      <td>NaN</td>\n",
       "      <td>NaN</td>\n",
       "    </tr>\n",
       "    <tr>\n",
       "      <th>4</th>\n",
       "      <td>MG10144</td>\n",
       "      <td>MG</td>\n",
       "      <td>31</td>\n",
       "      <td>25 a 34 anos</td>\n",
       "      <td>Masculino</td>\n",
       "      <td>Sim</td>\n",
       "      <td>Caderneta de poupança</td>\n",
       "      <td>Títulos públicos via tesouro direto (pré-fixad...</td>\n",
       "      <td>4</td>\n",
       "      <td>NaN</td>\n",
       "      <td>NaN</td>\n",
       "      <td>A segurança da aplicação</td>\n",
       "      <td>O retorno da aplicação</td>\n",
       "      <td>As taxas para a realização da aplicação/ A inc...</td>\n",
       "      <td>No aplicativo do banco</td>\n",
       "      <td>7</td>\n",
       "      <td>NaN</td>\n",
       "      <td>NaN</td>\n",
       "      <td>NaN</td>\n",
       "    </tr>\n",
       "  </tbody>\n",
       "</table>\n",
       "</div>"
      ],
      "text/plain": [
       "  ID entrevistado  UF  Idade  Faixa Etária       Sexo Fez Investimento  \\\n",
       "0          MG9835  MG     27  25 a 34 anos   Feminino              Sim   \n",
       "1          PE9316  PE     21  16 a 24 anos  Masculino              Sim   \n",
       "2          RJ9861  RJ     34  25 a 34 anos  Masculino              Sim   \n",
       "3          RJ9861  RJ     23  16 a 24 anos  Masculino              Sim   \n",
       "4         MG10144  MG     31  25 a 34 anos  Masculino              Sim   \n",
       "\n",
       "                       Aplica em quais investimentos  \\\n",
       "0                              Caderneta de poupança   \n",
       "1  Não conhece nenhum tipo de investimento/ Não u...   \n",
       "2                          Ações na bolsa de valores   \n",
       "3                              Caderneta de poupança   \n",
       "4                              Caderneta de poupança   \n",
       "\n",
       "                                  Outro investimento  \\\n",
       "0                                                NaN   \n",
       "1                                                NaN   \n",
       "2                                                NaN   \n",
       "3  Títulos públicos via tesouro direto (pré-fixad...   \n",
       "4  Títulos públicos via tesouro direto (pré-fixad...   \n",
       "\n",
       "  Anos investindo na Poupança  Anos investindo na Compra e Venda de imóveis  \\\n",
       "0                           1                                           NaN   \n",
       "1                         NaN                                           NaN   \n",
       "2                         NaN                                           NaN   \n",
       "3                           1                                           NaN   \n",
       "4                           4                                           NaN   \n",
       "\n",
       "   Outras Respostas                                   Principal Motivo  \\\n",
       "0               NaN                           A segurança da aplicação   \n",
       "1               NaN                                                NaN   \n",
       "2               NaN                             O retorno da aplicação   \n",
       "3               NaN  A liquidez do produto, ou seja, se poderá resg...   \n",
       "4               NaN                           A segurança da aplicação   \n",
       "\n",
       "                                      Segundo Motivo  \\\n",
       "0  As taxas para a realização da aplicação/ A inc...   \n",
       "1                                                NaN   \n",
       "2  A liquidez do produto, ou seja, se poderá resg...   \n",
       "3                           A segurança da aplicação   \n",
       "4                             O retorno da aplicação   \n",
       "\n",
       "                                     Terceiro Motivo  \\\n",
       "0                             O retorno da aplicação   \n",
       "1                                                NaN   \n",
       "2  As taxas para a realização da aplicação/ A inc...   \n",
       "3                             O retorno da aplicação   \n",
       "4  As taxas para a realização da aplicação/ A inc...   \n",
       "\n",
       "  Meio para realização de aplicação financeira  p39  \\\n",
       "0                        Pessoalmente no banco    6   \n",
       "1                                          NaN  NaN   \n",
       "2   No aplicativo da corretora de investimento    9   \n",
       "3                       No aplicativo do banco   10   \n",
       "4                       No aplicativo do banco    7   \n",
       "\n",
       "              Motivo principal para não investimento  \\\n",
       "0                                                NaN   \n",
       "1  Falta de dinheiro/ salário baixo/ sem condiçõe...   \n",
       "2                                                NaN   \n",
       "3                                                NaN   \n",
       "4                                                NaN   \n",
       "\n",
       "   BLOCO VI - APOSENTADORIA\\n\\nPARA ENTREVISTADOS QUE NÃO SÃO APOSENTADOS - PEA≠12  \\\n",
       "0                                                NaN                                 \n",
       "1                                                NaN                                 \n",
       "2                                                NaN                                 \n",
       "3                                                NaN                                 \n",
       "4                                                NaN                                 \n",
       "\n",
       "   BLOCO VI - APOSENTADORIA\\n\\nPARA ENTREVISTADOS QUE SÃO APOSENTADOS – PEA=12  \n",
       "0                                                NaN                            \n",
       "1                                                NaN                            \n",
       "2                                                NaN                            \n",
       "3                                                NaN                            \n",
       "4                                                NaN                            "
      ]
     },
     "execution_count": 28,
     "metadata": {},
     "output_type": "execute_result"
    }
   ],
   "source": [
    "Fez_investimento = Rótulo[Rótulo['Fez Investimento'].str.contains('Sim', na=False)]\n",
    "linhas = Fez_investimento.shape[0]\n",
    "Fez_investimento.index = range(linhas)\n",
    "Fez_investimento.head()"
   ]
  },
  {
   "cell_type": "code",
   "execution_count": 29,
   "metadata": {},
   "outputs": [],
   "source": [
    "tipos_investimento = Fez_investimento[['Aplica em quais investimentos','Outro investimento']]"
   ]
  },
  {
   "cell_type": "code",
   "execution_count": 30,
   "metadata": {},
   "outputs": [
    {
     "data": {
      "text/html": [
       "<div>\n",
       "<style scoped>\n",
       "    .dataframe tbody tr th:only-of-type {\n",
       "        vertical-align: middle;\n",
       "    }\n",
       "\n",
       "    .dataframe tbody tr th {\n",
       "        vertical-align: top;\n",
       "    }\n",
       "\n",
       "    .dataframe thead th {\n",
       "        text-align: right;\n",
       "    }\n",
       "</style>\n",
       "<table border=\"1\" class=\"dataframe\">\n",
       "  <thead>\n",
       "    <tr style=\"text-align: right;\">\n",
       "      <th></th>\n",
       "      <th>Aplica em quais investimentos</th>\n",
       "      <th>Outro investimento</th>\n",
       "    </tr>\n",
       "  </thead>\n",
       "  <tbody>\n",
       "    <tr>\n",
       "      <th>0</th>\n",
       "      <td>Caderneta de poupança</td>\n",
       "      <td>Outras respostas</td>\n",
       "    </tr>\n",
       "    <tr>\n",
       "      <th>1</th>\n",
       "      <td>Não conhece nenhum tipo de investimento/ Não u...</td>\n",
       "      <td>Outras respostas</td>\n",
       "    </tr>\n",
       "    <tr>\n",
       "      <th>2</th>\n",
       "      <td>Outras respostas</td>\n",
       "      <td>Outras respostas</td>\n",
       "    </tr>\n",
       "    <tr>\n",
       "      <th>3</th>\n",
       "      <td>Caderneta de poupança</td>\n",
       "      <td>Títulos públicos via tesouro direto (pré-fixad...</td>\n",
       "    </tr>\n",
       "    <tr>\n",
       "      <th>4</th>\n",
       "      <td>Caderneta de poupança</td>\n",
       "      <td>Títulos públicos via tesouro direto (pré-fixad...</td>\n",
       "    </tr>\n",
       "    <tr>\n",
       "      <th>5</th>\n",
       "      <td>Caderneta de poupança</td>\n",
       "      <td>Outras respostas</td>\n",
       "    </tr>\n",
       "    <tr>\n",
       "      <th>6</th>\n",
       "      <td>Outras respostas</td>\n",
       "      <td>Outras respostas</td>\n",
       "    </tr>\n",
       "    <tr>\n",
       "      <th>7</th>\n",
       "      <td>Outras respostas</td>\n",
       "      <td>Outras respostas</td>\n",
       "    </tr>\n",
       "    <tr>\n",
       "      <th>8</th>\n",
       "      <td>Outras respostas</td>\n",
       "      <td>Outras respostas</td>\n",
       "    </tr>\n",
       "    <tr>\n",
       "      <th>9</th>\n",
       "      <td>Outras respostas</td>\n",
       "      <td>Outras respostas</td>\n",
       "    </tr>\n",
       "    <tr>\n",
       "      <th>10</th>\n",
       "      <td>Caderneta de poupança</td>\n",
       "      <td>Títulos privados, como Debêntures, CDB, LCI, L...</td>\n",
       "    </tr>\n",
       "    <tr>\n",
       "      <th>11</th>\n",
       "      <td>Caderneta de poupança</td>\n",
       "      <td>Outras respostas</td>\n",
       "    </tr>\n",
       "    <tr>\n",
       "      <th>12</th>\n",
       "      <td>Caderneta de poupança</td>\n",
       "      <td>Outras respostas</td>\n",
       "    </tr>\n",
       "    <tr>\n",
       "      <th>13</th>\n",
       "      <td>Caderneta de poupança</td>\n",
       "      <td>Compra e venda de imóveis</td>\n",
       "    </tr>\n",
       "    <tr>\n",
       "      <th>14</th>\n",
       "      <td>Caderneta de poupança</td>\n",
       "      <td>Outras respostas</td>\n",
       "    </tr>\n",
       "    <tr>\n",
       "      <th>15</th>\n",
       "      <td>Caderneta de poupança</td>\n",
       "      <td>Outras respostas</td>\n",
       "    </tr>\n",
       "    <tr>\n",
       "      <th>16</th>\n",
       "      <td>Outras respostas</td>\n",
       "      <td>Outras respostas</td>\n",
       "    </tr>\n",
       "    <tr>\n",
       "      <th>17</th>\n",
       "      <td>Outras respostas</td>\n",
       "      <td>Outras respostas</td>\n",
       "    </tr>\n",
       "    <tr>\n",
       "      <th>18</th>\n",
       "      <td>Outras respostas</td>\n",
       "      <td>Outras respostas</td>\n",
       "    </tr>\n",
       "    <tr>\n",
       "      <th>19</th>\n",
       "      <td>Outras respostas</td>\n",
       "      <td>Outras respostas</td>\n",
       "    </tr>\n",
       "    <tr>\n",
       "      <th>20</th>\n",
       "      <td>Não conhece nenhum tipo de investimento/ Não u...</td>\n",
       "      <td>Outras respostas</td>\n",
       "    </tr>\n",
       "    <tr>\n",
       "      <th>21</th>\n",
       "      <td>Não conhece nenhum tipo de investimento/ Não u...</td>\n",
       "      <td>Outras respostas</td>\n",
       "    </tr>\n",
       "    <tr>\n",
       "      <th>22</th>\n",
       "      <td>Não conhece nenhum tipo de investimento/ Não u...</td>\n",
       "      <td>Outras respostas</td>\n",
       "    </tr>\n",
       "    <tr>\n",
       "      <th>23</th>\n",
       "      <td>Outras respostas</td>\n",
       "      <td>Outras respostas</td>\n",
       "    </tr>\n",
       "    <tr>\n",
       "      <th>24</th>\n",
       "      <td>Não conhece nenhum tipo de investimento/ Não u...</td>\n",
       "      <td>Outras respostas</td>\n",
       "    </tr>\n",
       "    <tr>\n",
       "      <th>25</th>\n",
       "      <td>Outras respostas</td>\n",
       "      <td>Outras respostas</td>\n",
       "    </tr>\n",
       "    <tr>\n",
       "      <th>26</th>\n",
       "      <td>Outras respostas</td>\n",
       "      <td>Outras respostas</td>\n",
       "    </tr>\n",
       "    <tr>\n",
       "      <th>27</th>\n",
       "      <td>Caderneta de poupança</td>\n",
       "      <td>Outras respostas</td>\n",
       "    </tr>\n",
       "    <tr>\n",
       "      <th>28</th>\n",
       "      <td>Não conhece nenhum tipo de investimento/ Não u...</td>\n",
       "      <td>Outras respostas</td>\n",
       "    </tr>\n",
       "    <tr>\n",
       "      <th>29</th>\n",
       "      <td>Outras respostas</td>\n",
       "      <td>Outras respostas</td>\n",
       "    </tr>\n",
       "  </tbody>\n",
       "</table>\n",
       "</div>"
      ],
      "text/plain": [
       "                        Aplica em quais investimentos  \\\n",
       "0                               Caderneta de poupança   \n",
       "1   Não conhece nenhum tipo de investimento/ Não u...   \n",
       "2                                    Outras respostas   \n",
       "3                               Caderneta de poupança   \n",
       "4                               Caderneta de poupança   \n",
       "5                               Caderneta de poupança   \n",
       "6                                    Outras respostas   \n",
       "7                                    Outras respostas   \n",
       "8                                    Outras respostas   \n",
       "9                                    Outras respostas   \n",
       "10                              Caderneta de poupança   \n",
       "11                              Caderneta de poupança   \n",
       "12                              Caderneta de poupança   \n",
       "13                              Caderneta de poupança   \n",
       "14                              Caderneta de poupança   \n",
       "15                              Caderneta de poupança   \n",
       "16                                   Outras respostas   \n",
       "17                                   Outras respostas   \n",
       "18                                   Outras respostas   \n",
       "19                                   Outras respostas   \n",
       "20  Não conhece nenhum tipo de investimento/ Não u...   \n",
       "21  Não conhece nenhum tipo de investimento/ Não u...   \n",
       "22  Não conhece nenhum tipo de investimento/ Não u...   \n",
       "23                                   Outras respostas   \n",
       "24  Não conhece nenhum tipo de investimento/ Não u...   \n",
       "25                                   Outras respostas   \n",
       "26                                   Outras respostas   \n",
       "27                              Caderneta de poupança   \n",
       "28  Não conhece nenhum tipo de investimento/ Não u...   \n",
       "29                                   Outras respostas   \n",
       "\n",
       "                                   Outro investimento  \n",
       "0                                    Outras respostas  \n",
       "1                                    Outras respostas  \n",
       "2                                    Outras respostas  \n",
       "3   Títulos públicos via tesouro direto (pré-fixad...  \n",
       "4   Títulos públicos via tesouro direto (pré-fixad...  \n",
       "5                                    Outras respostas  \n",
       "6                                    Outras respostas  \n",
       "7                                    Outras respostas  \n",
       "8                                    Outras respostas  \n",
       "9                                    Outras respostas  \n",
       "10  Títulos privados, como Debêntures, CDB, LCI, L...  \n",
       "11                                   Outras respostas  \n",
       "12                                   Outras respostas  \n",
       "13                          Compra e venda de imóveis  \n",
       "14                                   Outras respostas  \n",
       "15                                   Outras respostas  \n",
       "16                                   Outras respostas  \n",
       "17                                   Outras respostas  \n",
       "18                                   Outras respostas  \n",
       "19                                   Outras respostas  \n",
       "20                                   Outras respostas  \n",
       "21                                   Outras respostas  \n",
       "22                                   Outras respostas  \n",
       "23                                   Outras respostas  \n",
       "24                                   Outras respostas  \n",
       "25                                   Outras respostas  \n",
       "26                                   Outras respostas  \n",
       "27                                   Outras respostas  \n",
       "28                                   Outras respostas  \n",
       "29                                   Outras respostas  "
      ]
     },
     "execution_count": 30,
     "metadata": {},
     "output_type": "execute_result"
    }
   ],
   "source": [
    "tipos_investimento.fillna('Outras respostas', inplace = True)\n",
    "outras_respostas_investimento = ['Plano de previdência privada', 'Em casa/ no colchão', 'Abrir próprio negócio', 'Compra e venda de produtos (roupas/ alimentos)', 'Aplicação/ banco / investimento/ título espec.', 'Agronegócio (compra e venda de gados)', 'Moedas estrangeiras', 'Fundos de investimentos, como Renda Fixa, Multimercado, Fundo cambial, Fundos de ações, etc.', 'Títulos públicos via tesouro direto (pré-fixados, pós-fixados e de inflação).', 'Compra e venda de imóveis', 'Títulos privados, como Debêntures, CDB, LCI, LCA, LC, Certificados de Operações estruturadas (COE), etc.', 'Moedas digitais', 'Ações na bolsa de valores']\n",
    "selecao_1 = tipos_investimento['Aplica em quais investimentos'].isin(outras_respostas_investimento)\n",
    "tipos_investimento[tipos_investimento['Aplica em quais investimentos'].isin(outras_respostas_investimento)]\n",
    "tipos_investimento[selecao_1] = 'Outras respostas'\n",
    "tipos_investimento.head(30)"
   ]
  },
  {
   "cell_type": "code",
   "execution_count": 31,
   "metadata": {},
   "outputs": [
    {
     "data": {
      "application/vnd.plotly.v1+json": {
       "config": {
        "plotlyServerURL": "https://plot.ly"
       },
       "data": [
        {
         "customdata": [
          [
           "Caderneta de poupança"
          ],
          [
           "Não conhece nenhum tipo de investimento/ Não utiliza nenhum/ Não pretende continuar investindo"
          ],
          [
           "Outras respostas"
          ],
          [
           "Caderneta de poupança"
          ],
          [
           "Caderneta de poupança"
          ],
          [
           "Caderneta de poupança"
          ],
          [
           "Outras respostas"
          ],
          [
           "Outras respostas"
          ],
          [
           "Outras respostas"
          ],
          [
           "Outras respostas"
          ],
          [
           "Caderneta de poupança"
          ],
          [
           "Caderneta de poupança"
          ],
          [
           "Caderneta de poupança"
          ],
          [
           "Caderneta de poupança"
          ],
          [
           "Caderneta de poupança"
          ],
          [
           "Caderneta de poupança"
          ],
          [
           "Outras respostas"
          ],
          [
           "Outras respostas"
          ],
          [
           "Outras respostas"
          ],
          [
           "Outras respostas"
          ],
          [
           "Não conhece nenhum tipo de investimento/ Não utiliza nenhum/ Não pretende continuar investindo"
          ],
          [
           "Não conhece nenhum tipo de investimento/ Não utiliza nenhum/ Não pretende continuar investindo"
          ],
          [
           "Não conhece nenhum tipo de investimento/ Não utiliza nenhum/ Não pretende continuar investindo"
          ],
          [
           "Outras respostas"
          ],
          [
           "Não conhece nenhum tipo de investimento/ Não utiliza nenhum/ Não pretende continuar investindo"
          ],
          [
           "Outras respostas"
          ],
          [
           "Outras respostas"
          ],
          [
           "Caderneta de poupança"
          ],
          [
           "Não conhece nenhum tipo de investimento/ Não utiliza nenhum/ Não pretende continuar investindo"
          ],
          [
           "Outras respostas"
          ],
          [
           "Caderneta de poupança"
          ],
          [
           "Outras respostas"
          ],
          [
           "Não conhece nenhum tipo de investimento/ Não utiliza nenhum/ Não pretende continuar investindo"
          ],
          [
           "Não conhece nenhum tipo de investimento/ Não utiliza nenhum/ Não pretende continuar investindo"
          ],
          [
           "Caderneta de poupança"
          ],
          [
           "Caderneta de poupança"
          ],
          [
           "Outras respostas"
          ],
          [
           "Caderneta de poupança"
          ],
          [
           "Caderneta de poupança"
          ],
          [
           "Caderneta de poupança"
          ],
          [
           "Caderneta de poupança"
          ],
          [
           "Caderneta de poupança"
          ],
          [
           "Não conhece nenhum tipo de investimento/ Não utiliza nenhum/ Não pretende continuar investindo"
          ],
          [
           "Não conhece nenhum tipo de investimento/ Não utiliza nenhum/ Não pretende continuar investindo"
          ],
          [
           "Não conhece nenhum tipo de investimento/ Não utiliza nenhum/ Não pretende continuar investindo"
          ],
          [
           "Caderneta de poupança"
          ],
          [
           "Caderneta de poupança"
          ],
          [
           "Não conhece nenhum tipo de investimento/ Não utiliza nenhum/ Não pretende continuar investindo"
          ],
          [
           "Outras respostas"
          ],
          [
           "Não conhece nenhum tipo de investimento/ Não utiliza nenhum/ Não pretende continuar investindo"
          ],
          [
           "Caderneta de poupança"
          ],
          [
           "Outras respostas"
          ],
          [
           "Não conhece nenhum tipo de investimento/ Não utiliza nenhum/ Não pretende continuar investindo"
          ],
          [
           "Outras respostas"
          ],
          [
           "Não conhece nenhum tipo de investimento/ Não utiliza nenhum/ Não pretende continuar investindo"
          ],
          [
           "Não conhece nenhum tipo de investimento/ Não utiliza nenhum/ Não pretende continuar investindo"
          ],
          [
           "Outras respostas"
          ],
          [
           "Caderneta de poupança"
          ],
          [
           "Caderneta de poupança"
          ],
          [
           "Não conhece nenhum tipo de investimento/ Não utiliza nenhum/ Não pretende continuar investindo"
          ],
          [
           "Outras respostas"
          ],
          [
           "Não conhece nenhum tipo de investimento/ Não utiliza nenhum/ Não pretende continuar investindo"
          ],
          [
           "Outras respostas"
          ],
          [
           "Não conhece nenhum tipo de investimento/ Não utiliza nenhum/ Não pretende continuar investindo"
          ],
          [
           "Outras respostas"
          ],
          [
           "Não conhece nenhum tipo de investimento/ Não utiliza nenhum/ Não pretende continuar investindo"
          ],
          [
           "Caderneta de poupança"
          ],
          [
           "Não conhece nenhum tipo de investimento/ Não utiliza nenhum/ Não pretende continuar investindo"
          ],
          [
           "Outras respostas"
          ],
          [
           "Não conhece nenhum tipo de investimento/ Não utiliza nenhum/ Não pretende continuar investindo"
          ],
          [
           "Caderneta de poupança"
          ],
          [
           "Não conhece nenhum tipo de investimento/ Não utiliza nenhum/ Não pretende continuar investindo"
          ],
          [
           "Não conhece nenhum tipo de investimento/ Não utiliza nenhum/ Não pretende continuar investindo"
          ],
          [
           "Não conhece nenhum tipo de investimento/ Não utiliza nenhum/ Não pretende continuar investindo"
          ],
          [
           "Não conhece nenhum tipo de investimento/ Não utiliza nenhum/ Não pretende continuar investindo"
          ],
          [
           "Caderneta de poupança"
          ],
          [
           "Não conhece nenhum tipo de investimento/ Não utiliza nenhum/ Não pretende continuar investindo"
          ],
          [
           "Caderneta de poupança"
          ],
          [
           "Não conhece nenhum tipo de investimento/ Não utiliza nenhum/ Não pretende continuar investindo"
          ],
          [
           "Não conhece nenhum tipo de investimento/ Não utiliza nenhum/ Não pretende continuar investindo"
          ],
          [
           "Não conhece nenhum tipo de investimento/ Não utiliza nenhum/ Não pretende continuar investindo"
          ],
          [
           "Outras respostas"
          ],
          [
           "Outras respostas"
          ],
          [
           "Outras respostas"
          ],
          [
           "Outras respostas"
          ],
          [
           "Caderneta de poupança"
          ],
          [
           "Não conhece nenhum tipo de investimento/ Não utiliza nenhum/ Não pretende continuar investindo"
          ],
          [
           "Caderneta de poupança"
          ],
          [
           "Não conhece nenhum tipo de investimento/ Não utiliza nenhum/ Não pretende continuar investindo"
          ],
          [
           "Caderneta de poupança"
          ],
          [
           "Caderneta de poupança"
          ],
          [
           "Não conhece nenhum tipo de investimento/ Não utiliza nenhum/ Não pretende continuar investindo"
          ],
          [
           "Caderneta de poupança"
          ],
          [
           "Caderneta de poupança"
          ],
          [
           "Caderneta de poupança"
          ],
          [
           "Não conhece nenhum tipo de investimento/ Não utiliza nenhum/ Não pretende continuar investindo"
          ],
          [
           "Outras respostas"
          ],
          [
           "Caderneta de poupança"
          ],
          [
           "Não conhece nenhum tipo de investimento/ Não utiliza nenhum/ Não pretende continuar investindo"
          ],
          [
           "Caderneta de poupança"
          ],
          [
           "Caderneta de poupança"
          ],
          [
           "Caderneta de poupança"
          ],
          [
           "Outras respostas"
          ],
          [
           "Caderneta de poupança"
          ],
          [
           "Não conhece nenhum tipo de investimento/ Não utiliza nenhum/ Não pretende continuar investindo"
          ],
          [
           "Caderneta de poupança"
          ],
          [
           "Caderneta de poupança"
          ],
          [
           "Outras respostas"
          ],
          [
           "Outras respostas"
          ],
          [
           "Caderneta de poupança"
          ],
          [
           "Outras respostas"
          ],
          [
           "Não conhece nenhum tipo de investimento/ Não utiliza nenhum/ Não pretende continuar investindo"
          ],
          [
           "Não conhece nenhum tipo de investimento/ Não utiliza nenhum/ Não pretende continuar investindo"
          ],
          [
           "Não conhece nenhum tipo de investimento/ Não utiliza nenhum/ Não pretende continuar investindo"
          ],
          [
           "Outras respostas"
          ],
          [
           "Caderneta de poupança"
          ],
          [
           "Não conhece nenhum tipo de investimento/ Não utiliza nenhum/ Não pretende continuar investindo"
          ],
          [
           "Não conhece nenhum tipo de investimento/ Não utiliza nenhum/ Não pretende continuar investindo"
          ],
          [
           "Não conhece nenhum tipo de investimento/ Não utiliza nenhum/ Não pretende continuar investindo"
          ],
          [
           "Outras respostas"
          ],
          [
           "Caderneta de poupança"
          ],
          [
           "Não conhece nenhum tipo de investimento/ Não utiliza nenhum/ Não pretende continuar investindo"
          ],
          [
           "Não conhece nenhum tipo de investimento/ Não utiliza nenhum/ Não pretende continuar investindo"
          ],
          [
           "Não conhece nenhum tipo de investimento/ Não utiliza nenhum/ Não pretende continuar investindo"
          ],
          [
           "Não conhece nenhum tipo de investimento/ Não utiliza nenhum/ Não pretende continuar investindo"
          ],
          [
           "Não conhece nenhum tipo de investimento/ Não utiliza nenhum/ Não pretende continuar investindo"
          ],
          [
           "Caderneta de poupança"
          ],
          [
           "Não conhece nenhum tipo de investimento/ Não utiliza nenhum/ Não pretende continuar investindo"
          ],
          [
           "Não conhece nenhum tipo de investimento/ Não utiliza nenhum/ Não pretende continuar investindo"
          ],
          [
           "Não conhece nenhum tipo de investimento/ Não utiliza nenhum/ Não pretende continuar investindo"
          ],
          [
           "Caderneta de poupança"
          ],
          [
           "Caderneta de poupança"
          ],
          [
           "Outras respostas"
          ],
          [
           "Outras respostas"
          ],
          [
           "Outras respostas"
          ],
          [
           "Não conhece nenhum tipo de investimento/ Não utiliza nenhum/ Não pretende continuar investindo"
          ],
          [
           "Não conhece nenhum tipo de investimento/ Não utiliza nenhum/ Não pretende continuar investindo"
          ],
          [
           "Outras respostas"
          ],
          [
           "Caderneta de poupança"
          ],
          [
           "Outras respostas"
          ],
          [
           "Não conhece nenhum tipo de investimento/ Não utiliza nenhum/ Não pretende continuar investindo"
          ],
          [
           "Outras respostas"
          ],
          [
           "Outras respostas"
          ],
          [
           "Caderneta de poupança"
          ],
          [
           "Outras respostas"
          ],
          [
           "Outras respostas"
          ],
          [
           "Caderneta de poupança"
          ],
          [
           "Caderneta de poupança"
          ],
          [
           "Caderneta de poupança"
          ],
          [
           "Outras respostas"
          ],
          [
           "Outras respostas"
          ],
          [
           "Caderneta de poupança"
          ],
          [
           "Outras respostas"
          ],
          [
           "Não conhece nenhum tipo de investimento/ Não utiliza nenhum/ Não pretende continuar investindo"
          ],
          [
           "Outras respostas"
          ],
          [
           "Caderneta de poupança"
          ],
          [
           "Caderneta de poupança"
          ],
          [
           "Caderneta de poupança"
          ],
          [
           "Caderneta de poupança"
          ],
          [
           "Não conhece nenhum tipo de investimento/ Não utiliza nenhum/ Não pretende continuar investindo"
          ],
          [
           "Não conhece nenhum tipo de investimento/ Não utiliza nenhum/ Não pretende continuar investindo"
          ],
          [
           "Não conhece nenhum tipo de investimento/ Não utiliza nenhum/ Não pretende continuar investindo"
          ],
          [
           "Não conhece nenhum tipo de investimento/ Não utiliza nenhum/ Não pretende continuar investindo"
          ],
          [
           "Caderneta de poupança"
          ],
          [
           "Não conhece nenhum tipo de investimento/ Não utiliza nenhum/ Não pretende continuar investindo"
          ],
          [
           "Outras respostas"
          ],
          [
           "Não conhece nenhum tipo de investimento/ Não utiliza nenhum/ Não pretende continuar investindo"
          ],
          [
           "Não conhece nenhum tipo de investimento/ Não utiliza nenhum/ Não pretende continuar investindo"
          ],
          [
           "Caderneta de poupança"
          ],
          [
           "Outras respostas"
          ],
          [
           "Outras respostas"
          ],
          [
           "Caderneta de poupança"
          ],
          [
           "Caderneta de poupança"
          ],
          [
           "Caderneta de poupança"
          ],
          [
           "Outras respostas"
          ],
          [
           "Caderneta de poupança"
          ],
          [
           "Caderneta de poupança"
          ],
          [
           "Caderneta de poupança"
          ],
          [
           "Caderneta de poupança"
          ],
          [
           "Caderneta de poupança"
          ],
          [
           "Outras respostas"
          ],
          [
           "Outras respostas"
          ],
          [
           "Não conhece nenhum tipo de investimento/ Não utiliza nenhum/ Não pretende continuar investindo"
          ],
          [
           "Outras respostas"
          ],
          [
           "Caderneta de poupança"
          ],
          [
           "Outras respostas"
          ],
          [
           "Não conhece nenhum tipo de investimento/ Não utiliza nenhum/ Não pretende continuar investindo"
          ],
          [
           "Não conhece nenhum tipo de investimento/ Não utiliza nenhum/ Não pretende continuar investindo"
          ],
          [
           "Caderneta de poupança"
          ],
          [
           "Caderneta de poupança"
          ],
          [
           "Caderneta de poupança"
          ],
          [
           "Não conhece nenhum tipo de investimento/ Não utiliza nenhum/ Não pretende continuar investindo"
          ],
          [
           "Caderneta de poupança"
          ],
          [
           "Caderneta de poupança"
          ],
          [
           "Caderneta de poupança"
          ],
          [
           "Caderneta de poupança"
          ],
          [
           "Caderneta de poupança"
          ],
          [
           "Caderneta de poupança"
          ],
          [
           "Caderneta de poupança"
          ],
          [
           "Não conhece nenhum tipo de investimento/ Não utiliza nenhum/ Não pretende continuar investindo"
          ],
          [
           "Caderneta de poupança"
          ],
          [
           "Não conhece nenhum tipo de investimento/ Não utiliza nenhum/ Não pretende continuar investindo"
          ],
          [
           "Não conhece nenhum tipo de investimento/ Não utiliza nenhum/ Não pretende continuar investindo"
          ],
          [
           "Não conhece nenhum tipo de investimento/ Não utiliza nenhum/ Não pretende continuar investindo"
          ],
          [
           "Caderneta de poupança"
          ],
          [
           "Caderneta de poupança"
          ],
          [
           "Caderneta de poupança"
          ],
          [
           "Caderneta de poupança"
          ],
          [
           "Não conhece nenhum tipo de investimento/ Não utiliza nenhum/ Não pretende continuar investindo"
          ],
          [
           "Outras respostas"
          ],
          [
           "Caderneta de poupança"
          ],
          [
           "Outras respostas"
          ],
          [
           "Caderneta de poupança"
          ],
          [
           "Não conhece nenhum tipo de investimento/ Não utiliza nenhum/ Não pretende continuar investindo"
          ],
          [
           "Caderneta de poupança"
          ],
          [
           "Caderneta de poupança"
          ],
          [
           "Outras respostas"
          ],
          [
           "Não conhece nenhum tipo de investimento/ Não utiliza nenhum/ Não pretende continuar investindo"
          ],
          [
           "Não conhece nenhum tipo de investimento/ Não utiliza nenhum/ Não pretende continuar investindo"
          ],
          [
           "Caderneta de poupança"
          ],
          [
           "Caderneta de poupança"
          ],
          [
           "Não conhece nenhum tipo de investimento/ Não utiliza nenhum/ Não pretende continuar investindo"
          ],
          [
           "Não conhece nenhum tipo de investimento/ Não utiliza nenhum/ Não pretende continuar investindo"
          ],
          [
           "Outras respostas"
          ],
          [
           "Outras respostas"
          ],
          [
           "Caderneta de poupança"
          ],
          [
           "Outras respostas"
          ],
          [
           "Outras respostas"
          ],
          [
           "Caderneta de poupança"
          ],
          [
           "Caderneta de poupança"
          ],
          [
           "Não conhece nenhum tipo de investimento/ Não utiliza nenhum/ Não pretende continuar investindo"
          ],
          [
           "Não conhece nenhum tipo de investimento/ Não utiliza nenhum/ Não pretende continuar investindo"
          ],
          [
           "Não conhece nenhum tipo de investimento/ Não utiliza nenhum/ Não pretende continuar investindo"
          ],
          [
           "Caderneta de poupança"
          ],
          [
           "Outras respostas"
          ],
          [
           "Outras respostas"
          ],
          [
           "Outras respostas"
          ],
          [
           "Outras respostas"
          ],
          [
           "Caderneta de poupança"
          ],
          [
           "Não conhece nenhum tipo de investimento/ Não utiliza nenhum/ Não pretende continuar investindo"
          ],
          [
           "Outras respostas"
          ],
          [
           "Outras respostas"
          ],
          [
           "Caderneta de poupança"
          ],
          [
           "Outras respostas"
          ],
          [
           "Caderneta de poupança"
          ],
          [
           "Outras respostas"
          ],
          [
           "Caderneta de poupança"
          ],
          [
           "Caderneta de poupança"
          ],
          [
           "Caderneta de poupança"
          ],
          [
           "Outras respostas"
          ],
          [
           "Outras respostas"
          ],
          [
           "Caderneta de poupança"
          ],
          [
           "Caderneta de poupança"
          ],
          [
           "Não conhece nenhum tipo de investimento/ Não utiliza nenhum/ Não pretende continuar investindo"
          ],
          [
           "Outras respostas"
          ],
          [
           "Caderneta de poupança"
          ],
          [
           "Caderneta de poupança"
          ],
          [
           "Não conhece nenhum tipo de investimento/ Não utiliza nenhum/ Não pretende continuar investindo"
          ],
          [
           "Outras respostas"
          ],
          [
           "Outras respostas"
          ],
          [
           "Caderneta de poupança"
          ],
          [
           "Caderneta de poupança"
          ],
          [
           "Não conhece nenhum tipo de investimento/ Não utiliza nenhum/ Não pretende continuar investindo"
          ],
          [
           "Caderneta de poupança"
          ],
          [
           "Caderneta de poupança"
          ],
          [
           "Caderneta de poupança"
          ],
          [
           "Não conhece nenhum tipo de investimento/ Não utiliza nenhum/ Não pretende continuar investindo"
          ],
          [
           "Caderneta de poupança"
          ],
          [
           "Caderneta de poupança"
          ],
          [
           "Não conhece nenhum tipo de investimento/ Não utiliza nenhum/ Não pretende continuar investindo"
          ],
          [
           "Caderneta de poupança"
          ],
          [
           "Outras respostas"
          ],
          [
           "Outras respostas"
          ],
          [
           "Caderneta de poupança"
          ],
          [
           "Caderneta de poupança"
          ],
          [
           "Caderneta de poupança"
          ],
          [
           "Caderneta de poupança"
          ],
          [
           "Caderneta de poupança"
          ],
          [
           "Não conhece nenhum tipo de investimento/ Não utiliza nenhum/ Não pretende continuar investindo"
          ],
          [
           "Caderneta de poupança"
          ],
          [
           "Outras respostas"
          ],
          [
           "Caderneta de poupança"
          ],
          [
           "Caderneta de poupança"
          ],
          [
           "Não conhece nenhum tipo de investimento/ Não utiliza nenhum/ Não pretende continuar investindo"
          ],
          [
           "Outras respostas"
          ],
          [
           "Não conhece nenhum tipo de investimento/ Não utiliza nenhum/ Não pretende continuar investindo"
          ],
          [
           "Outras respostas"
          ],
          [
           "Caderneta de poupança"
          ],
          [
           "Caderneta de poupança"
          ],
          [
           "Outras respostas"
          ],
          [
           "Caderneta de poupança"
          ],
          [
           "Outras respostas"
          ],
          [
           "Caderneta de poupança"
          ],
          [
           "Não conhece nenhum tipo de investimento/ Não utiliza nenhum/ Não pretende continuar investindo"
          ],
          [
           "Não conhece nenhum tipo de investimento/ Não utiliza nenhum/ Não pretende continuar investindo"
          ],
          [
           "Caderneta de poupança"
          ],
          [
           "Não conhece nenhum tipo de investimento/ Não utiliza nenhum/ Não pretende continuar investindo"
          ],
          [
           "Caderneta de poupança"
          ],
          [
           "Caderneta de poupança"
          ],
          [
           "Outras respostas"
          ],
          [
           "Não conhece nenhum tipo de investimento/ Não utiliza nenhum/ Não pretende continuar investindo"
          ],
          [
           "Não conhece nenhum tipo de investimento/ Não utiliza nenhum/ Não pretende continuar investindo"
          ],
          [
           "Outras respostas"
          ],
          [
           "Não conhece nenhum tipo de investimento/ Não utiliza nenhum/ Não pretende continuar investindo"
          ],
          [
           "Caderneta de poupança"
          ],
          [
           "Caderneta de poupança"
          ],
          [
           "Outras respostas"
          ],
          [
           "Caderneta de poupança"
          ],
          [
           "Caderneta de poupança"
          ],
          [
           "Outras respostas"
          ],
          [
           "Caderneta de poupança"
          ],
          [
           "Caderneta de poupança"
          ],
          [
           "Não conhece nenhum tipo de investimento/ Não utiliza nenhum/ Não pretende continuar investindo"
          ],
          [
           "Não conhece nenhum tipo de investimento/ Não utiliza nenhum/ Não pretende continuar investindo"
          ],
          [
           "Não conhece nenhum tipo de investimento/ Não utiliza nenhum/ Não pretende continuar investindo"
          ],
          [
           "Outras respostas"
          ],
          [
           "Caderneta de poupança"
          ],
          [
           "Outras respostas"
          ],
          [
           "Não conhece nenhum tipo de investimento/ Não utiliza nenhum/ Não pretende continuar investindo"
          ],
          [
           "Caderneta de poupança"
          ],
          [
           "Caderneta de poupança"
          ],
          [
           "Não conhece nenhum tipo de investimento/ Não utiliza nenhum/ Não pretende continuar investindo"
          ],
          [
           "Caderneta de poupança"
          ],
          [
           "Outras respostas"
          ],
          [
           "Não conhece nenhum tipo de investimento/ Não utiliza nenhum/ Não pretende continuar investindo"
          ],
          [
           "Não conhece nenhum tipo de investimento/ Não utiliza nenhum/ Não pretende continuar investindo"
          ],
          [
           "Caderneta de poupança"
          ],
          [
           "Outras respostas"
          ],
          [
           "Caderneta de poupança"
          ],
          [
           "Outras respostas"
          ],
          [
           "Não conhece nenhum tipo de investimento/ Não utiliza nenhum/ Não pretende continuar investindo"
          ],
          [
           "Caderneta de poupança"
          ],
          [
           "Não conhece nenhum tipo de investimento/ Não utiliza nenhum/ Não pretende continuar investindo"
          ],
          [
           "Não conhece nenhum tipo de investimento/ Não utiliza nenhum/ Não pretende continuar investindo"
          ],
          [
           "Outras respostas"
          ],
          [
           "Caderneta de poupança"
          ],
          [
           "Caderneta de poupança"
          ],
          [
           "Não conhece nenhum tipo de investimento/ Não utiliza nenhum/ Não pretende continuar investindo"
          ],
          [
           "Caderneta de poupança"
          ],
          [
           "Caderneta de poupança"
          ],
          [
           "Não conhece nenhum tipo de investimento/ Não utiliza nenhum/ Não pretende continuar investindo"
          ],
          [
           "Outras respostas"
          ],
          [
           "Caderneta de poupança"
          ],
          [
           "Não conhece nenhum tipo de investimento/ Não utiliza nenhum/ Não pretende continuar investindo"
          ],
          [
           "Não conhece nenhum tipo de investimento/ Não utiliza nenhum/ Não pretende continuar investindo"
          ],
          [
           "Não conhece nenhum tipo de investimento/ Não utiliza nenhum/ Não pretende continuar investindo"
          ],
          [
           "Não conhece nenhum tipo de investimento/ Não utiliza nenhum/ Não pretende continuar investindo"
          ],
          [
           "Caderneta de poupança"
          ],
          [
           "Não conhece nenhum tipo de investimento/ Não utiliza nenhum/ Não pretende continuar investindo"
          ],
          [
           "Caderneta de poupança"
          ],
          [
           "Outras respostas"
          ],
          [
           "Não conhece nenhum tipo de investimento/ Não utiliza nenhum/ Não pretende continuar investindo"
          ],
          [
           "Caderneta de poupança"
          ],
          [
           "Não conhece nenhum tipo de investimento/ Não utiliza nenhum/ Não pretende continuar investindo"
          ],
          [
           "Não conhece nenhum tipo de investimento/ Não utiliza nenhum/ Não pretende continuar investindo"
          ],
          [
           "Caderneta de poupança"
          ],
          [
           "Não conhece nenhum tipo de investimento/ Não utiliza nenhum/ Não pretende continuar investindo"
          ],
          [
           "Não conhece nenhum tipo de investimento/ Não utiliza nenhum/ Não pretende continuar investindo"
          ],
          [
           "Outras respostas"
          ],
          [
           "Outras respostas"
          ],
          [
           "Não conhece nenhum tipo de investimento/ Não utiliza nenhum/ Não pretende continuar investindo"
          ],
          [
           "Outras respostas"
          ],
          [
           "Outras respostas"
          ],
          [
           "Caderneta de poupança"
          ],
          [
           "Caderneta de poupança"
          ],
          [
           "Outras respostas"
          ],
          [
           "Não conhece nenhum tipo de investimento/ Não utiliza nenhum/ Não pretende continuar investindo"
          ],
          [
           "Não conhece nenhum tipo de investimento/ Não utiliza nenhum/ Não pretende continuar investindo"
          ],
          [
           "Outras respostas"
          ],
          [
           "Não conhece nenhum tipo de investimento/ Não utiliza nenhum/ Não pretende continuar investindo"
          ],
          [
           "Outras respostas"
          ],
          [
           "Não conhece nenhum tipo de investimento/ Não utiliza nenhum/ Não pretende continuar investindo"
          ],
          [
           "Caderneta de poupança"
          ],
          [
           "Outras respostas"
          ],
          [
           "Outras respostas"
          ],
          [
           "Outras respostas"
          ],
          [
           "Caderneta de poupança"
          ],
          [
           "Outras respostas"
          ],
          [
           "Não conhece nenhum tipo de investimento/ Não utiliza nenhum/ Não pretende continuar investindo"
          ],
          [
           "Outras respostas"
          ],
          [
           "Caderneta de poupança"
          ],
          [
           "Não conhece nenhum tipo de investimento/ Não utiliza nenhum/ Não pretende continuar investindo"
          ],
          [
           "Não conhece nenhum tipo de investimento/ Não utiliza nenhum/ Não pretende continuar investindo"
          ],
          [
           "Outras respostas"
          ],
          [
           "Caderneta de poupança"
          ],
          [
           "Não conhece nenhum tipo de investimento/ Não utiliza nenhum/ Não pretende continuar investindo"
          ],
          [
           "Caderneta de poupança"
          ],
          [
           "Outras respostas"
          ],
          [
           "Não conhece nenhum tipo de investimento/ Não utiliza nenhum/ Não pretende continuar investindo"
          ],
          [
           "Caderneta de poupança"
          ],
          [
           "Outras respostas"
          ],
          [
           "Não conhece nenhum tipo de investimento/ Não utiliza nenhum/ Não pretende continuar investindo"
          ],
          [
           "Outras respostas"
          ],
          [
           "Não conhece nenhum tipo de investimento/ Não utiliza nenhum/ Não pretende continuar investindo"
          ],
          [
           "Não conhece nenhum tipo de investimento/ Não utiliza nenhum/ Não pretende continuar investindo"
          ],
          [
           "Outras respostas"
          ],
          [
           "Não conhece nenhum tipo de investimento/ Não utiliza nenhum/ Não pretende continuar investindo"
          ],
          [
           "Outras respostas"
          ],
          [
           "Outras respostas"
          ],
          [
           "Não conhece nenhum tipo de investimento/ Não utiliza nenhum/ Não pretende continuar investindo"
          ],
          [
           "Não conhece nenhum tipo de investimento/ Não utiliza nenhum/ Não pretende continuar investindo"
          ],
          [
           "Caderneta de poupança"
          ],
          [
           "Não conhece nenhum tipo de investimento/ Não utiliza nenhum/ Não pretende continuar investindo"
          ],
          [
           "Não conhece nenhum tipo de investimento/ Não utiliza nenhum/ Não pretende continuar investindo"
          ],
          [
           "Outras respostas"
          ],
          [
           "Outras respostas"
          ],
          [
           "Outras respostas"
          ],
          [
           "Não conhece nenhum tipo de investimento/ Não utiliza nenhum/ Não pretende continuar investindo"
          ],
          [
           "Caderneta de poupança"
          ],
          [
           "Caderneta de poupança"
          ],
          [
           "Caderneta de poupança"
          ],
          [
           "Caderneta de poupança"
          ],
          [
           "Caderneta de poupança"
          ],
          [
           "Não conhece nenhum tipo de investimento/ Não utiliza nenhum/ Não pretende continuar investindo"
          ],
          [
           "Caderneta de poupança"
          ],
          [
           "Não conhece nenhum tipo de investimento/ Não utiliza nenhum/ Não pretende continuar investindo"
          ],
          [
           "Não conhece nenhum tipo de investimento/ Não utiliza nenhum/ Não pretende continuar investindo"
          ],
          [
           "Outras respostas"
          ],
          [
           "Outras respostas"
          ],
          [
           "Não conhece nenhum tipo de investimento/ Não utiliza nenhum/ Não pretende continuar investindo"
          ],
          [
           "Não conhece nenhum tipo de investimento/ Não utiliza nenhum/ Não pretende continuar investindo"
          ],
          [
           "Não conhece nenhum tipo de investimento/ Não utiliza nenhum/ Não pretende continuar investindo"
          ],
          [
           "Outras respostas"
          ],
          [
           "Não conhece nenhum tipo de investimento/ Não utiliza nenhum/ Não pretende continuar investindo"
          ],
          [
           "Caderneta de poupança"
          ],
          [
           "Caderneta de poupança"
          ],
          [
           "Outras respostas"
          ],
          [
           "Caderneta de poupança"
          ],
          [
           "Caderneta de poupança"
          ],
          [
           "Outras respostas"
          ],
          [
           "Caderneta de poupança"
          ],
          [
           "Caderneta de poupança"
          ],
          [
           "Não conhece nenhum tipo de investimento/ Não utiliza nenhum/ Não pretende continuar investindo"
          ],
          [
           "Outras respostas"
          ],
          [
           "Não conhece nenhum tipo de investimento/ Não utiliza nenhum/ Não pretende continuar investindo"
          ],
          [
           "Caderneta de poupança"
          ],
          [
           "Outras respostas"
          ],
          [
           "Não conhece nenhum tipo de investimento/ Não utiliza nenhum/ Não pretende continuar investindo"
          ]
         ],
         "domain": {
          "x": [
           0,
           1
          ],
          "y": [
           0,
           1
          ]
         },
         "hovertemplate": "Aplica em quais investimentos=%{customdata[0]}<extra></extra>",
         "labels": [
          "Caderneta de poupança",
          "Não conhece nenhum tipo de investimento/ Não utiliza nenhum/ Não pretende continuar investindo",
          "Outras respostas",
          "Caderneta de poupança",
          "Caderneta de poupança",
          "Caderneta de poupança",
          "Outras respostas",
          "Outras respostas",
          "Outras respostas",
          "Outras respostas",
          "Caderneta de poupança",
          "Caderneta de poupança",
          "Caderneta de poupança",
          "Caderneta de poupança",
          "Caderneta de poupança",
          "Caderneta de poupança",
          "Outras respostas",
          "Outras respostas",
          "Outras respostas",
          "Outras respostas",
          "Não conhece nenhum tipo de investimento/ Não utiliza nenhum/ Não pretende continuar investindo",
          "Não conhece nenhum tipo de investimento/ Não utiliza nenhum/ Não pretende continuar investindo",
          "Não conhece nenhum tipo de investimento/ Não utiliza nenhum/ Não pretende continuar investindo",
          "Outras respostas",
          "Não conhece nenhum tipo de investimento/ Não utiliza nenhum/ Não pretende continuar investindo",
          "Outras respostas",
          "Outras respostas",
          "Caderneta de poupança",
          "Não conhece nenhum tipo de investimento/ Não utiliza nenhum/ Não pretende continuar investindo",
          "Outras respostas",
          "Caderneta de poupança",
          "Outras respostas",
          "Não conhece nenhum tipo de investimento/ Não utiliza nenhum/ Não pretende continuar investindo",
          "Não conhece nenhum tipo de investimento/ Não utiliza nenhum/ Não pretende continuar investindo",
          "Caderneta de poupança",
          "Caderneta de poupança",
          "Outras respostas",
          "Caderneta de poupança",
          "Caderneta de poupança",
          "Caderneta de poupança",
          "Caderneta de poupança",
          "Caderneta de poupança",
          "Não conhece nenhum tipo de investimento/ Não utiliza nenhum/ Não pretende continuar investindo",
          "Não conhece nenhum tipo de investimento/ Não utiliza nenhum/ Não pretende continuar investindo",
          "Não conhece nenhum tipo de investimento/ Não utiliza nenhum/ Não pretende continuar investindo",
          "Caderneta de poupança",
          "Caderneta de poupança",
          "Não conhece nenhum tipo de investimento/ Não utiliza nenhum/ Não pretende continuar investindo",
          "Outras respostas",
          "Não conhece nenhum tipo de investimento/ Não utiliza nenhum/ Não pretende continuar investindo",
          "Caderneta de poupança",
          "Outras respostas",
          "Não conhece nenhum tipo de investimento/ Não utiliza nenhum/ Não pretende continuar investindo",
          "Outras respostas",
          "Não conhece nenhum tipo de investimento/ Não utiliza nenhum/ Não pretende continuar investindo",
          "Não conhece nenhum tipo de investimento/ Não utiliza nenhum/ Não pretende continuar investindo",
          "Outras respostas",
          "Caderneta de poupança",
          "Caderneta de poupança",
          "Não conhece nenhum tipo de investimento/ Não utiliza nenhum/ Não pretende continuar investindo",
          "Outras respostas",
          "Não conhece nenhum tipo de investimento/ Não utiliza nenhum/ Não pretende continuar investindo",
          "Outras respostas",
          "Não conhece nenhum tipo de investimento/ Não utiliza nenhum/ Não pretende continuar investindo",
          "Outras respostas",
          "Não conhece nenhum tipo de investimento/ Não utiliza nenhum/ Não pretende continuar investindo",
          "Caderneta de poupança",
          "Não conhece nenhum tipo de investimento/ Não utiliza nenhum/ Não pretende continuar investindo",
          "Outras respostas",
          "Não conhece nenhum tipo de investimento/ Não utiliza nenhum/ Não pretende continuar investindo",
          "Caderneta de poupança",
          "Não conhece nenhum tipo de investimento/ Não utiliza nenhum/ Não pretende continuar investindo",
          "Não conhece nenhum tipo de investimento/ Não utiliza nenhum/ Não pretende continuar investindo",
          "Não conhece nenhum tipo de investimento/ Não utiliza nenhum/ Não pretende continuar investindo",
          "Não conhece nenhum tipo de investimento/ Não utiliza nenhum/ Não pretende continuar investindo",
          "Caderneta de poupança",
          "Não conhece nenhum tipo de investimento/ Não utiliza nenhum/ Não pretende continuar investindo",
          "Caderneta de poupança",
          "Não conhece nenhum tipo de investimento/ Não utiliza nenhum/ Não pretende continuar investindo",
          "Não conhece nenhum tipo de investimento/ Não utiliza nenhum/ Não pretende continuar investindo",
          "Não conhece nenhum tipo de investimento/ Não utiliza nenhum/ Não pretende continuar investindo",
          "Outras respostas",
          "Outras respostas",
          "Outras respostas",
          "Outras respostas",
          "Caderneta de poupança",
          "Não conhece nenhum tipo de investimento/ Não utiliza nenhum/ Não pretende continuar investindo",
          "Caderneta de poupança",
          "Não conhece nenhum tipo de investimento/ Não utiliza nenhum/ Não pretende continuar investindo",
          "Caderneta de poupança",
          "Caderneta de poupança",
          "Não conhece nenhum tipo de investimento/ Não utiliza nenhum/ Não pretende continuar investindo",
          "Caderneta de poupança",
          "Caderneta de poupança",
          "Caderneta de poupança",
          "Não conhece nenhum tipo de investimento/ Não utiliza nenhum/ Não pretende continuar investindo",
          "Outras respostas",
          "Caderneta de poupança",
          "Não conhece nenhum tipo de investimento/ Não utiliza nenhum/ Não pretende continuar investindo",
          "Caderneta de poupança",
          "Caderneta de poupança",
          "Caderneta de poupança",
          "Outras respostas",
          "Caderneta de poupança",
          "Não conhece nenhum tipo de investimento/ Não utiliza nenhum/ Não pretende continuar investindo",
          "Caderneta de poupança",
          "Caderneta de poupança",
          "Outras respostas",
          "Outras respostas",
          "Caderneta de poupança",
          "Outras respostas",
          "Não conhece nenhum tipo de investimento/ Não utiliza nenhum/ Não pretende continuar investindo",
          "Não conhece nenhum tipo de investimento/ Não utiliza nenhum/ Não pretende continuar investindo",
          "Não conhece nenhum tipo de investimento/ Não utiliza nenhum/ Não pretende continuar investindo",
          "Outras respostas",
          "Caderneta de poupança",
          "Não conhece nenhum tipo de investimento/ Não utiliza nenhum/ Não pretende continuar investindo",
          "Não conhece nenhum tipo de investimento/ Não utiliza nenhum/ Não pretende continuar investindo",
          "Não conhece nenhum tipo de investimento/ Não utiliza nenhum/ Não pretende continuar investindo",
          "Outras respostas",
          "Caderneta de poupança",
          "Não conhece nenhum tipo de investimento/ Não utiliza nenhum/ Não pretende continuar investindo",
          "Não conhece nenhum tipo de investimento/ Não utiliza nenhum/ Não pretende continuar investindo",
          "Não conhece nenhum tipo de investimento/ Não utiliza nenhum/ Não pretende continuar investindo",
          "Não conhece nenhum tipo de investimento/ Não utiliza nenhum/ Não pretende continuar investindo",
          "Não conhece nenhum tipo de investimento/ Não utiliza nenhum/ Não pretende continuar investindo",
          "Caderneta de poupança",
          "Não conhece nenhum tipo de investimento/ Não utiliza nenhum/ Não pretende continuar investindo",
          "Não conhece nenhum tipo de investimento/ Não utiliza nenhum/ Não pretende continuar investindo",
          "Não conhece nenhum tipo de investimento/ Não utiliza nenhum/ Não pretende continuar investindo",
          "Caderneta de poupança",
          "Caderneta de poupança",
          "Outras respostas",
          "Outras respostas",
          "Outras respostas",
          "Não conhece nenhum tipo de investimento/ Não utiliza nenhum/ Não pretende continuar investindo",
          "Não conhece nenhum tipo de investimento/ Não utiliza nenhum/ Não pretende continuar investindo",
          "Outras respostas",
          "Caderneta de poupança",
          "Outras respostas",
          "Não conhece nenhum tipo de investimento/ Não utiliza nenhum/ Não pretende continuar investindo",
          "Outras respostas",
          "Outras respostas",
          "Caderneta de poupança",
          "Outras respostas",
          "Outras respostas",
          "Caderneta de poupança",
          "Caderneta de poupança",
          "Caderneta de poupança",
          "Outras respostas",
          "Outras respostas",
          "Caderneta de poupança",
          "Outras respostas",
          "Não conhece nenhum tipo de investimento/ Não utiliza nenhum/ Não pretende continuar investindo",
          "Outras respostas",
          "Caderneta de poupança",
          "Caderneta de poupança",
          "Caderneta de poupança",
          "Caderneta de poupança",
          "Não conhece nenhum tipo de investimento/ Não utiliza nenhum/ Não pretende continuar investindo",
          "Não conhece nenhum tipo de investimento/ Não utiliza nenhum/ Não pretende continuar investindo",
          "Não conhece nenhum tipo de investimento/ Não utiliza nenhum/ Não pretende continuar investindo",
          "Não conhece nenhum tipo de investimento/ Não utiliza nenhum/ Não pretende continuar investindo",
          "Caderneta de poupança",
          "Não conhece nenhum tipo de investimento/ Não utiliza nenhum/ Não pretende continuar investindo",
          "Outras respostas",
          "Não conhece nenhum tipo de investimento/ Não utiliza nenhum/ Não pretende continuar investindo",
          "Não conhece nenhum tipo de investimento/ Não utiliza nenhum/ Não pretende continuar investindo",
          "Caderneta de poupança",
          "Outras respostas",
          "Outras respostas",
          "Caderneta de poupança",
          "Caderneta de poupança",
          "Caderneta de poupança",
          "Outras respostas",
          "Caderneta de poupança",
          "Caderneta de poupança",
          "Caderneta de poupança",
          "Caderneta de poupança",
          "Caderneta de poupança",
          "Outras respostas",
          "Outras respostas",
          "Não conhece nenhum tipo de investimento/ Não utiliza nenhum/ Não pretende continuar investindo",
          "Outras respostas",
          "Caderneta de poupança",
          "Outras respostas",
          "Não conhece nenhum tipo de investimento/ Não utiliza nenhum/ Não pretende continuar investindo",
          "Não conhece nenhum tipo de investimento/ Não utiliza nenhum/ Não pretende continuar investindo",
          "Caderneta de poupança",
          "Caderneta de poupança",
          "Caderneta de poupança",
          "Não conhece nenhum tipo de investimento/ Não utiliza nenhum/ Não pretende continuar investindo",
          "Caderneta de poupança",
          "Caderneta de poupança",
          "Caderneta de poupança",
          "Caderneta de poupança",
          "Caderneta de poupança",
          "Caderneta de poupança",
          "Caderneta de poupança",
          "Não conhece nenhum tipo de investimento/ Não utiliza nenhum/ Não pretende continuar investindo",
          "Caderneta de poupança",
          "Não conhece nenhum tipo de investimento/ Não utiliza nenhum/ Não pretende continuar investindo",
          "Não conhece nenhum tipo de investimento/ Não utiliza nenhum/ Não pretende continuar investindo",
          "Não conhece nenhum tipo de investimento/ Não utiliza nenhum/ Não pretende continuar investindo",
          "Caderneta de poupança",
          "Caderneta de poupança",
          "Caderneta de poupança",
          "Caderneta de poupança",
          "Não conhece nenhum tipo de investimento/ Não utiliza nenhum/ Não pretende continuar investindo",
          "Outras respostas",
          "Caderneta de poupança",
          "Outras respostas",
          "Caderneta de poupança",
          "Não conhece nenhum tipo de investimento/ Não utiliza nenhum/ Não pretende continuar investindo",
          "Caderneta de poupança",
          "Caderneta de poupança",
          "Outras respostas",
          "Não conhece nenhum tipo de investimento/ Não utiliza nenhum/ Não pretende continuar investindo",
          "Não conhece nenhum tipo de investimento/ Não utiliza nenhum/ Não pretende continuar investindo",
          "Caderneta de poupança",
          "Caderneta de poupança",
          "Não conhece nenhum tipo de investimento/ Não utiliza nenhum/ Não pretende continuar investindo",
          "Não conhece nenhum tipo de investimento/ Não utiliza nenhum/ Não pretende continuar investindo",
          "Outras respostas",
          "Outras respostas",
          "Caderneta de poupança",
          "Outras respostas",
          "Outras respostas",
          "Caderneta de poupança",
          "Caderneta de poupança",
          "Não conhece nenhum tipo de investimento/ Não utiliza nenhum/ Não pretende continuar investindo",
          "Não conhece nenhum tipo de investimento/ Não utiliza nenhum/ Não pretende continuar investindo",
          "Não conhece nenhum tipo de investimento/ Não utiliza nenhum/ Não pretende continuar investindo",
          "Caderneta de poupança",
          "Outras respostas",
          "Outras respostas",
          "Outras respostas",
          "Outras respostas",
          "Caderneta de poupança",
          "Não conhece nenhum tipo de investimento/ Não utiliza nenhum/ Não pretende continuar investindo",
          "Outras respostas",
          "Outras respostas",
          "Caderneta de poupança",
          "Outras respostas",
          "Caderneta de poupança",
          "Outras respostas",
          "Caderneta de poupança",
          "Caderneta de poupança",
          "Caderneta de poupança",
          "Outras respostas",
          "Outras respostas",
          "Caderneta de poupança",
          "Caderneta de poupança",
          "Não conhece nenhum tipo de investimento/ Não utiliza nenhum/ Não pretende continuar investindo",
          "Outras respostas",
          "Caderneta de poupança",
          "Caderneta de poupança",
          "Não conhece nenhum tipo de investimento/ Não utiliza nenhum/ Não pretende continuar investindo",
          "Outras respostas",
          "Outras respostas",
          "Caderneta de poupança",
          "Caderneta de poupança",
          "Não conhece nenhum tipo de investimento/ Não utiliza nenhum/ Não pretende continuar investindo",
          "Caderneta de poupança",
          "Caderneta de poupança",
          "Caderneta de poupança",
          "Não conhece nenhum tipo de investimento/ Não utiliza nenhum/ Não pretende continuar investindo",
          "Caderneta de poupança",
          "Caderneta de poupança",
          "Não conhece nenhum tipo de investimento/ Não utiliza nenhum/ Não pretende continuar investindo",
          "Caderneta de poupança",
          "Outras respostas",
          "Outras respostas",
          "Caderneta de poupança",
          "Caderneta de poupança",
          "Caderneta de poupança",
          "Caderneta de poupança",
          "Caderneta de poupança",
          "Não conhece nenhum tipo de investimento/ Não utiliza nenhum/ Não pretende continuar investindo",
          "Caderneta de poupança",
          "Outras respostas",
          "Caderneta de poupança",
          "Caderneta de poupança",
          "Não conhece nenhum tipo de investimento/ Não utiliza nenhum/ Não pretende continuar investindo",
          "Outras respostas",
          "Não conhece nenhum tipo de investimento/ Não utiliza nenhum/ Não pretende continuar investindo",
          "Outras respostas",
          "Caderneta de poupança",
          "Caderneta de poupança",
          "Outras respostas",
          "Caderneta de poupança",
          "Outras respostas",
          "Caderneta de poupança",
          "Não conhece nenhum tipo de investimento/ Não utiliza nenhum/ Não pretende continuar investindo",
          "Não conhece nenhum tipo de investimento/ Não utiliza nenhum/ Não pretende continuar investindo",
          "Caderneta de poupança",
          "Não conhece nenhum tipo de investimento/ Não utiliza nenhum/ Não pretende continuar investindo",
          "Caderneta de poupança",
          "Caderneta de poupança",
          "Outras respostas",
          "Não conhece nenhum tipo de investimento/ Não utiliza nenhum/ Não pretende continuar investindo",
          "Não conhece nenhum tipo de investimento/ Não utiliza nenhum/ Não pretende continuar investindo",
          "Outras respostas",
          "Não conhece nenhum tipo de investimento/ Não utiliza nenhum/ Não pretende continuar investindo",
          "Caderneta de poupança",
          "Caderneta de poupança",
          "Outras respostas",
          "Caderneta de poupança",
          "Caderneta de poupança",
          "Outras respostas",
          "Caderneta de poupança",
          "Caderneta de poupança",
          "Não conhece nenhum tipo de investimento/ Não utiliza nenhum/ Não pretende continuar investindo",
          "Não conhece nenhum tipo de investimento/ Não utiliza nenhum/ Não pretende continuar investindo",
          "Não conhece nenhum tipo de investimento/ Não utiliza nenhum/ Não pretende continuar investindo",
          "Outras respostas",
          "Caderneta de poupança",
          "Outras respostas",
          "Não conhece nenhum tipo de investimento/ Não utiliza nenhum/ Não pretende continuar investindo",
          "Caderneta de poupança",
          "Caderneta de poupança",
          "Não conhece nenhum tipo de investimento/ Não utiliza nenhum/ Não pretende continuar investindo",
          "Caderneta de poupança",
          "Outras respostas",
          "Não conhece nenhum tipo de investimento/ Não utiliza nenhum/ Não pretende continuar investindo",
          "Não conhece nenhum tipo de investimento/ Não utiliza nenhum/ Não pretende continuar investindo",
          "Caderneta de poupança",
          "Outras respostas",
          "Caderneta de poupança",
          "Outras respostas",
          "Não conhece nenhum tipo de investimento/ Não utiliza nenhum/ Não pretende continuar investindo",
          "Caderneta de poupança",
          "Não conhece nenhum tipo de investimento/ Não utiliza nenhum/ Não pretende continuar investindo",
          "Não conhece nenhum tipo de investimento/ Não utiliza nenhum/ Não pretende continuar investindo",
          "Outras respostas",
          "Caderneta de poupança",
          "Caderneta de poupança",
          "Não conhece nenhum tipo de investimento/ Não utiliza nenhum/ Não pretende continuar investindo",
          "Caderneta de poupança",
          "Caderneta de poupança",
          "Não conhece nenhum tipo de investimento/ Não utiliza nenhum/ Não pretende continuar investindo",
          "Outras respostas",
          "Caderneta de poupança",
          "Não conhece nenhum tipo de investimento/ Não utiliza nenhum/ Não pretende continuar investindo",
          "Não conhece nenhum tipo de investimento/ Não utiliza nenhum/ Não pretende continuar investindo",
          "Não conhece nenhum tipo de investimento/ Não utiliza nenhum/ Não pretende continuar investindo",
          "Não conhece nenhum tipo de investimento/ Não utiliza nenhum/ Não pretende continuar investindo",
          "Caderneta de poupança",
          "Não conhece nenhum tipo de investimento/ Não utiliza nenhum/ Não pretende continuar investindo",
          "Caderneta de poupança",
          "Outras respostas",
          "Não conhece nenhum tipo de investimento/ Não utiliza nenhum/ Não pretende continuar investindo",
          "Caderneta de poupança",
          "Não conhece nenhum tipo de investimento/ Não utiliza nenhum/ Não pretende continuar investindo",
          "Não conhece nenhum tipo de investimento/ Não utiliza nenhum/ Não pretende continuar investindo",
          "Caderneta de poupança",
          "Não conhece nenhum tipo de investimento/ Não utiliza nenhum/ Não pretende continuar investindo",
          "Não conhece nenhum tipo de investimento/ Não utiliza nenhum/ Não pretende continuar investindo",
          "Outras respostas",
          "Outras respostas",
          "Não conhece nenhum tipo de investimento/ Não utiliza nenhum/ Não pretende continuar investindo",
          "Outras respostas",
          "Outras respostas",
          "Caderneta de poupança",
          "Caderneta de poupança",
          "Outras respostas",
          "Não conhece nenhum tipo de investimento/ Não utiliza nenhum/ Não pretende continuar investindo",
          "Não conhece nenhum tipo de investimento/ Não utiliza nenhum/ Não pretende continuar investindo",
          "Outras respostas",
          "Não conhece nenhum tipo de investimento/ Não utiliza nenhum/ Não pretende continuar investindo",
          "Outras respostas",
          "Não conhece nenhum tipo de investimento/ Não utiliza nenhum/ Não pretende continuar investindo",
          "Caderneta de poupança",
          "Outras respostas",
          "Outras respostas",
          "Outras respostas",
          "Caderneta de poupança",
          "Outras respostas",
          "Não conhece nenhum tipo de investimento/ Não utiliza nenhum/ Não pretende continuar investindo",
          "Outras respostas",
          "Caderneta de poupança",
          "Não conhece nenhum tipo de investimento/ Não utiliza nenhum/ Não pretende continuar investindo",
          "Não conhece nenhum tipo de investimento/ Não utiliza nenhum/ Não pretende continuar investindo",
          "Outras respostas",
          "Caderneta de poupança",
          "Não conhece nenhum tipo de investimento/ Não utiliza nenhum/ Não pretende continuar investindo",
          "Caderneta de poupança",
          "Outras respostas",
          "Não conhece nenhum tipo de investimento/ Não utiliza nenhum/ Não pretende continuar investindo",
          "Caderneta de poupança",
          "Outras respostas",
          "Não conhece nenhum tipo de investimento/ Não utiliza nenhum/ Não pretende continuar investindo",
          "Outras respostas",
          "Não conhece nenhum tipo de investimento/ Não utiliza nenhum/ Não pretende continuar investindo",
          "Não conhece nenhum tipo de investimento/ Não utiliza nenhum/ Não pretende continuar investindo",
          "Outras respostas",
          "Não conhece nenhum tipo de investimento/ Não utiliza nenhum/ Não pretende continuar investindo",
          "Outras respostas",
          "Outras respostas",
          "Não conhece nenhum tipo de investimento/ Não utiliza nenhum/ Não pretende continuar investindo",
          "Não conhece nenhum tipo de investimento/ Não utiliza nenhum/ Não pretende continuar investindo",
          "Caderneta de poupança",
          "Não conhece nenhum tipo de investimento/ Não utiliza nenhum/ Não pretende continuar investindo",
          "Não conhece nenhum tipo de investimento/ Não utiliza nenhum/ Não pretende continuar investindo",
          "Outras respostas",
          "Outras respostas",
          "Outras respostas",
          "Não conhece nenhum tipo de investimento/ Não utiliza nenhum/ Não pretende continuar investindo",
          "Caderneta de poupança",
          "Caderneta de poupança",
          "Caderneta de poupança",
          "Caderneta de poupança",
          "Caderneta de poupança",
          "Não conhece nenhum tipo de investimento/ Não utiliza nenhum/ Não pretende continuar investindo",
          "Caderneta de poupança",
          "Não conhece nenhum tipo de investimento/ Não utiliza nenhum/ Não pretende continuar investindo",
          "Não conhece nenhum tipo de investimento/ Não utiliza nenhum/ Não pretende continuar investindo",
          "Outras respostas",
          "Outras respostas",
          "Não conhece nenhum tipo de investimento/ Não utiliza nenhum/ Não pretende continuar investindo",
          "Não conhece nenhum tipo de investimento/ Não utiliza nenhum/ Não pretende continuar investindo",
          "Não conhece nenhum tipo de investimento/ Não utiliza nenhum/ Não pretende continuar investindo",
          "Outras respostas",
          "Não conhece nenhum tipo de investimento/ Não utiliza nenhum/ Não pretende continuar investindo",
          "Caderneta de poupança",
          "Caderneta de poupança",
          "Outras respostas",
          "Caderneta de poupança",
          "Caderneta de poupança",
          "Outras respostas",
          "Caderneta de poupança",
          "Caderneta de poupança",
          "Não conhece nenhum tipo de investimento/ Não utiliza nenhum/ Não pretende continuar investindo",
          "Outras respostas",
          "Não conhece nenhum tipo de investimento/ Não utiliza nenhum/ Não pretende continuar investindo",
          "Caderneta de poupança",
          "Outras respostas",
          "Não conhece nenhum tipo de investimento/ Não utiliza nenhum/ Não pretende continuar investindo"
         ],
         "legendgroup": "",
         "marker": {
          "colors": [
           "#150035",
           "#5E96EC",
           "#FDE443",
           "#150035",
           "#150035",
           "#150035",
           "#FDE443",
           "#FDE443",
           "#FDE443",
           "#FDE443",
           "#150035",
           "#150035",
           "#150035",
           "#150035",
           "#150035",
           "#150035",
           "#FDE443",
           "#FDE443",
           "#FDE443",
           "#FDE443",
           "#5E96EC",
           "#5E96EC",
           "#5E96EC",
           "#FDE443",
           "#5E96EC",
           "#FDE443",
           "#FDE443",
           "#150035",
           "#5E96EC",
           "#FDE443",
           "#150035",
           "#FDE443",
           "#5E96EC",
           "#5E96EC",
           "#150035",
           "#150035",
           "#FDE443",
           "#150035",
           "#150035",
           "#150035",
           "#150035",
           "#150035",
           "#5E96EC",
           "#5E96EC",
           "#5E96EC",
           "#150035",
           "#150035",
           "#5E96EC",
           "#FDE443",
           "#5E96EC",
           "#150035",
           "#FDE443",
           "#5E96EC",
           "#FDE443",
           "#5E96EC",
           "#5E96EC",
           "#FDE443",
           "#150035",
           "#150035",
           "#5E96EC",
           "#FDE443",
           "#5E96EC",
           "#FDE443",
           "#5E96EC",
           "#FDE443",
           "#5E96EC",
           "#150035",
           "#5E96EC",
           "#FDE443",
           "#5E96EC",
           "#150035",
           "#5E96EC",
           "#5E96EC",
           "#5E96EC",
           "#5E96EC",
           "#150035",
           "#5E96EC",
           "#150035",
           "#5E96EC",
           "#5E96EC",
           "#5E96EC",
           "#FDE443",
           "#FDE443",
           "#FDE443",
           "#FDE443",
           "#150035",
           "#5E96EC",
           "#150035",
           "#5E96EC",
           "#150035",
           "#150035",
           "#5E96EC",
           "#150035",
           "#150035",
           "#150035",
           "#5E96EC",
           "#FDE443",
           "#150035",
           "#5E96EC",
           "#150035",
           "#150035",
           "#150035",
           "#FDE443",
           "#150035",
           "#5E96EC",
           "#150035",
           "#150035",
           "#FDE443",
           "#FDE443",
           "#150035",
           "#FDE443",
           "#5E96EC",
           "#5E96EC",
           "#5E96EC",
           "#FDE443",
           "#150035",
           "#5E96EC",
           "#5E96EC",
           "#5E96EC",
           "#FDE443",
           "#150035",
           "#5E96EC",
           "#5E96EC",
           "#5E96EC",
           "#5E96EC",
           "#5E96EC",
           "#150035",
           "#5E96EC",
           "#5E96EC",
           "#5E96EC",
           "#150035",
           "#150035",
           "#FDE443",
           "#FDE443",
           "#FDE443",
           "#5E96EC",
           "#5E96EC",
           "#FDE443",
           "#150035",
           "#FDE443",
           "#5E96EC",
           "#FDE443",
           "#FDE443",
           "#150035",
           "#FDE443",
           "#FDE443",
           "#150035",
           "#150035",
           "#150035",
           "#FDE443",
           "#FDE443",
           "#150035",
           "#FDE443",
           "#5E96EC",
           "#FDE443",
           "#150035",
           "#150035",
           "#150035",
           "#150035",
           "#5E96EC",
           "#5E96EC",
           "#5E96EC",
           "#5E96EC",
           "#150035",
           "#5E96EC",
           "#FDE443",
           "#5E96EC",
           "#5E96EC",
           "#150035",
           "#FDE443",
           "#FDE443",
           "#150035",
           "#150035",
           "#150035",
           "#FDE443",
           "#150035",
           "#150035",
           "#150035",
           "#150035",
           "#150035",
           "#FDE443",
           "#FDE443",
           "#5E96EC",
           "#FDE443",
           "#150035",
           "#FDE443",
           "#5E96EC",
           "#5E96EC",
           "#150035",
           "#150035",
           "#150035",
           "#5E96EC",
           "#150035",
           "#150035",
           "#150035",
           "#150035",
           "#150035",
           "#150035",
           "#150035",
           "#5E96EC",
           "#150035",
           "#5E96EC",
           "#5E96EC",
           "#5E96EC",
           "#150035",
           "#150035",
           "#150035",
           "#150035",
           "#5E96EC",
           "#FDE443",
           "#150035",
           "#FDE443",
           "#150035",
           "#5E96EC",
           "#150035",
           "#150035",
           "#FDE443",
           "#5E96EC",
           "#5E96EC",
           "#150035",
           "#150035",
           "#5E96EC",
           "#5E96EC",
           "#FDE443",
           "#FDE443",
           "#150035",
           "#FDE443",
           "#FDE443",
           "#150035",
           "#150035",
           "#5E96EC",
           "#5E96EC",
           "#5E96EC",
           "#150035",
           "#FDE443",
           "#FDE443",
           "#FDE443",
           "#FDE443",
           "#150035",
           "#5E96EC",
           "#FDE443",
           "#FDE443",
           "#150035",
           "#FDE443",
           "#150035",
           "#FDE443",
           "#150035",
           "#150035",
           "#150035",
           "#FDE443",
           "#FDE443",
           "#150035",
           "#150035",
           "#5E96EC",
           "#FDE443",
           "#150035",
           "#150035",
           "#5E96EC",
           "#FDE443",
           "#FDE443",
           "#150035",
           "#150035",
           "#5E96EC",
           "#150035",
           "#150035",
           "#150035",
           "#5E96EC",
           "#150035",
           "#150035",
           "#5E96EC",
           "#150035",
           "#FDE443",
           "#FDE443",
           "#150035",
           "#150035",
           "#150035",
           "#150035",
           "#150035",
           "#5E96EC",
           "#150035",
           "#FDE443",
           "#150035",
           "#150035",
           "#5E96EC",
           "#FDE443",
           "#5E96EC",
           "#FDE443",
           "#150035",
           "#150035",
           "#FDE443",
           "#150035",
           "#FDE443",
           "#150035",
           "#5E96EC",
           "#5E96EC",
           "#150035",
           "#5E96EC",
           "#150035",
           "#150035",
           "#FDE443",
           "#5E96EC",
           "#5E96EC",
           "#FDE443",
           "#5E96EC",
           "#150035",
           "#150035",
           "#FDE443",
           "#150035",
           "#150035",
           "#FDE443",
           "#150035",
           "#150035",
           "#5E96EC",
           "#5E96EC",
           "#5E96EC",
           "#FDE443",
           "#150035",
           "#FDE443",
           "#5E96EC",
           "#150035",
           "#150035",
           "#5E96EC",
           "#150035",
           "#FDE443",
           "#5E96EC",
           "#5E96EC",
           "#150035",
           "#FDE443",
           "#150035",
           "#FDE443",
           "#5E96EC",
           "#150035",
           "#5E96EC",
           "#5E96EC",
           "#FDE443",
           "#150035",
           "#150035",
           "#5E96EC",
           "#150035",
           "#150035",
           "#5E96EC",
           "#FDE443",
           "#150035",
           "#5E96EC",
           "#5E96EC",
           "#5E96EC",
           "#5E96EC",
           "#150035",
           "#5E96EC",
           "#150035",
           "#FDE443",
           "#5E96EC",
           "#150035",
           "#5E96EC",
           "#5E96EC",
           "#150035",
           "#5E96EC",
           "#5E96EC",
           "#FDE443",
           "#FDE443",
           "#5E96EC",
           "#FDE443",
           "#FDE443",
           "#150035",
           "#150035",
           "#FDE443",
           "#5E96EC",
           "#5E96EC",
           "#FDE443",
           "#5E96EC",
           "#FDE443",
           "#5E96EC",
           "#150035",
           "#FDE443",
           "#FDE443",
           "#FDE443",
           "#150035",
           "#FDE443",
           "#5E96EC",
           "#FDE443",
           "#150035",
           "#5E96EC",
           "#5E96EC",
           "#FDE443",
           "#150035",
           "#5E96EC",
           "#150035",
           "#FDE443",
           "#5E96EC",
           "#150035",
           "#FDE443",
           "#5E96EC",
           "#FDE443",
           "#5E96EC",
           "#5E96EC",
           "#FDE443",
           "#5E96EC",
           "#FDE443",
           "#FDE443",
           "#5E96EC",
           "#5E96EC",
           "#150035",
           "#5E96EC",
           "#5E96EC",
           "#FDE443",
           "#FDE443",
           "#FDE443",
           "#5E96EC",
           "#150035",
           "#150035",
           "#150035",
           "#150035",
           "#150035",
           "#5E96EC",
           "#150035",
           "#5E96EC",
           "#5E96EC",
           "#FDE443",
           "#FDE443",
           "#5E96EC",
           "#5E96EC",
           "#5E96EC",
           "#FDE443",
           "#5E96EC",
           "#150035",
           "#150035",
           "#FDE443",
           "#150035",
           "#150035",
           "#FDE443",
           "#150035",
           "#150035",
           "#5E96EC",
           "#FDE443",
           "#5E96EC",
           "#150035",
           "#FDE443",
           "#5E96EC"
          ]
         },
         "name": "",
         "showlegend": true,
         "type": "pie"
        }
       ],
       "layout": {
        "legend": {
         "tracegroupgap": 0
        },
        "template": {
         "data": {
          "bar": [
           {
            "error_x": {
             "color": "#2a3f5f"
            },
            "error_y": {
             "color": "#2a3f5f"
            },
            "marker": {
             "line": {
              "color": "#E5ECF6",
              "width": 0.5
             },
             "pattern": {
              "fillmode": "overlay",
              "size": 10,
              "solidity": 0.2
             }
            },
            "type": "bar"
           }
          ],
          "barpolar": [
           {
            "marker": {
             "line": {
              "color": "#E5ECF6",
              "width": 0.5
             },
             "pattern": {
              "fillmode": "overlay",
              "size": 10,
              "solidity": 0.2
             }
            },
            "type": "barpolar"
           }
          ],
          "carpet": [
           {
            "aaxis": {
             "endlinecolor": "#2a3f5f",
             "gridcolor": "white",
             "linecolor": "white",
             "minorgridcolor": "white",
             "startlinecolor": "#2a3f5f"
            },
            "baxis": {
             "endlinecolor": "#2a3f5f",
             "gridcolor": "white",
             "linecolor": "white",
             "minorgridcolor": "white",
             "startlinecolor": "#2a3f5f"
            },
            "type": "carpet"
           }
          ],
          "choropleth": [
           {
            "colorbar": {
             "outlinewidth": 0,
             "ticks": ""
            },
            "type": "choropleth"
           }
          ],
          "contour": [
           {
            "colorbar": {
             "outlinewidth": 0,
             "ticks": ""
            },
            "colorscale": [
             [
              0,
              "#0d0887"
             ],
             [
              0.1111111111111111,
              "#46039f"
             ],
             [
              0.2222222222222222,
              "#7201a8"
             ],
             [
              0.3333333333333333,
              "#9c179e"
             ],
             [
              0.4444444444444444,
              "#bd3786"
             ],
             [
              0.5555555555555556,
              "#d8576b"
             ],
             [
              0.6666666666666666,
              "#ed7953"
             ],
             [
              0.7777777777777778,
              "#fb9f3a"
             ],
             [
              0.8888888888888888,
              "#fdca26"
             ],
             [
              1,
              "#f0f921"
             ]
            ],
            "type": "contour"
           }
          ],
          "contourcarpet": [
           {
            "colorbar": {
             "outlinewidth": 0,
             "ticks": ""
            },
            "type": "contourcarpet"
           }
          ],
          "heatmap": [
           {
            "colorbar": {
             "outlinewidth": 0,
             "ticks": ""
            },
            "colorscale": [
             [
              0,
              "#0d0887"
             ],
             [
              0.1111111111111111,
              "#46039f"
             ],
             [
              0.2222222222222222,
              "#7201a8"
             ],
             [
              0.3333333333333333,
              "#9c179e"
             ],
             [
              0.4444444444444444,
              "#bd3786"
             ],
             [
              0.5555555555555556,
              "#d8576b"
             ],
             [
              0.6666666666666666,
              "#ed7953"
             ],
             [
              0.7777777777777778,
              "#fb9f3a"
             ],
             [
              0.8888888888888888,
              "#fdca26"
             ],
             [
              1,
              "#f0f921"
             ]
            ],
            "type": "heatmap"
           }
          ],
          "heatmapgl": [
           {
            "colorbar": {
             "outlinewidth": 0,
             "ticks": ""
            },
            "colorscale": [
             [
              0,
              "#0d0887"
             ],
             [
              0.1111111111111111,
              "#46039f"
             ],
             [
              0.2222222222222222,
              "#7201a8"
             ],
             [
              0.3333333333333333,
              "#9c179e"
             ],
             [
              0.4444444444444444,
              "#bd3786"
             ],
             [
              0.5555555555555556,
              "#d8576b"
             ],
             [
              0.6666666666666666,
              "#ed7953"
             ],
             [
              0.7777777777777778,
              "#fb9f3a"
             ],
             [
              0.8888888888888888,
              "#fdca26"
             ],
             [
              1,
              "#f0f921"
             ]
            ],
            "type": "heatmapgl"
           }
          ],
          "histogram": [
           {
            "marker": {
             "pattern": {
              "fillmode": "overlay",
              "size": 10,
              "solidity": 0.2
             }
            },
            "type": "histogram"
           }
          ],
          "histogram2d": [
           {
            "colorbar": {
             "outlinewidth": 0,
             "ticks": ""
            },
            "colorscale": [
             [
              0,
              "#0d0887"
             ],
             [
              0.1111111111111111,
              "#46039f"
             ],
             [
              0.2222222222222222,
              "#7201a8"
             ],
             [
              0.3333333333333333,
              "#9c179e"
             ],
             [
              0.4444444444444444,
              "#bd3786"
             ],
             [
              0.5555555555555556,
              "#d8576b"
             ],
             [
              0.6666666666666666,
              "#ed7953"
             ],
             [
              0.7777777777777778,
              "#fb9f3a"
             ],
             [
              0.8888888888888888,
              "#fdca26"
             ],
             [
              1,
              "#f0f921"
             ]
            ],
            "type": "histogram2d"
           }
          ],
          "histogram2dcontour": [
           {
            "colorbar": {
             "outlinewidth": 0,
             "ticks": ""
            },
            "colorscale": [
             [
              0,
              "#0d0887"
             ],
             [
              0.1111111111111111,
              "#46039f"
             ],
             [
              0.2222222222222222,
              "#7201a8"
             ],
             [
              0.3333333333333333,
              "#9c179e"
             ],
             [
              0.4444444444444444,
              "#bd3786"
             ],
             [
              0.5555555555555556,
              "#d8576b"
             ],
             [
              0.6666666666666666,
              "#ed7953"
             ],
             [
              0.7777777777777778,
              "#fb9f3a"
             ],
             [
              0.8888888888888888,
              "#fdca26"
             ],
             [
              1,
              "#f0f921"
             ]
            ],
            "type": "histogram2dcontour"
           }
          ],
          "mesh3d": [
           {
            "colorbar": {
             "outlinewidth": 0,
             "ticks": ""
            },
            "type": "mesh3d"
           }
          ],
          "parcoords": [
           {
            "line": {
             "colorbar": {
              "outlinewidth": 0,
              "ticks": ""
             }
            },
            "type": "parcoords"
           }
          ],
          "pie": [
           {
            "automargin": true,
            "type": "pie"
           }
          ],
          "scatter": [
           {
            "marker": {
             "colorbar": {
              "outlinewidth": 0,
              "ticks": ""
             }
            },
            "type": "scatter"
           }
          ],
          "scatter3d": [
           {
            "line": {
             "colorbar": {
              "outlinewidth": 0,
              "ticks": ""
             }
            },
            "marker": {
             "colorbar": {
              "outlinewidth": 0,
              "ticks": ""
             }
            },
            "type": "scatter3d"
           }
          ],
          "scattercarpet": [
           {
            "marker": {
             "colorbar": {
              "outlinewidth": 0,
              "ticks": ""
             }
            },
            "type": "scattercarpet"
           }
          ],
          "scattergeo": [
           {
            "marker": {
             "colorbar": {
              "outlinewidth": 0,
              "ticks": ""
             }
            },
            "type": "scattergeo"
           }
          ],
          "scattergl": [
           {
            "marker": {
             "colorbar": {
              "outlinewidth": 0,
              "ticks": ""
             }
            },
            "type": "scattergl"
           }
          ],
          "scattermapbox": [
           {
            "marker": {
             "colorbar": {
              "outlinewidth": 0,
              "ticks": ""
             }
            },
            "type": "scattermapbox"
           }
          ],
          "scatterpolar": [
           {
            "marker": {
             "colorbar": {
              "outlinewidth": 0,
              "ticks": ""
             }
            },
            "type": "scatterpolar"
           }
          ],
          "scatterpolargl": [
           {
            "marker": {
             "colorbar": {
              "outlinewidth": 0,
              "ticks": ""
             }
            },
            "type": "scatterpolargl"
           }
          ],
          "scatterternary": [
           {
            "marker": {
             "colorbar": {
              "outlinewidth": 0,
              "ticks": ""
             }
            },
            "type": "scatterternary"
           }
          ],
          "surface": [
           {
            "colorbar": {
             "outlinewidth": 0,
             "ticks": ""
            },
            "colorscale": [
             [
              0,
              "#0d0887"
             ],
             [
              0.1111111111111111,
              "#46039f"
             ],
             [
              0.2222222222222222,
              "#7201a8"
             ],
             [
              0.3333333333333333,
              "#9c179e"
             ],
             [
              0.4444444444444444,
              "#bd3786"
             ],
             [
              0.5555555555555556,
              "#d8576b"
             ],
             [
              0.6666666666666666,
              "#ed7953"
             ],
             [
              0.7777777777777778,
              "#fb9f3a"
             ],
             [
              0.8888888888888888,
              "#fdca26"
             ],
             [
              1,
              "#f0f921"
             ]
            ],
            "type": "surface"
           }
          ],
          "table": [
           {
            "cells": {
             "fill": {
              "color": "#EBF0F8"
             },
             "line": {
              "color": "white"
             }
            },
            "header": {
             "fill": {
              "color": "#C8D4E3"
             },
             "line": {
              "color": "white"
             }
            },
            "type": "table"
           }
          ]
         },
         "layout": {
          "annotationdefaults": {
           "arrowcolor": "#2a3f5f",
           "arrowhead": 0,
           "arrowwidth": 1
          },
          "autotypenumbers": "strict",
          "coloraxis": {
           "colorbar": {
            "outlinewidth": 0,
            "ticks": ""
           }
          },
          "colorscale": {
           "diverging": [
            [
             0,
             "#8e0152"
            ],
            [
             0.1,
             "#c51b7d"
            ],
            [
             0.2,
             "#de77ae"
            ],
            [
             0.3,
             "#f1b6da"
            ],
            [
             0.4,
             "#fde0ef"
            ],
            [
             0.5,
             "#f7f7f7"
            ],
            [
             0.6,
             "#e6f5d0"
            ],
            [
             0.7,
             "#b8e186"
            ],
            [
             0.8,
             "#7fbc41"
            ],
            [
             0.9,
             "#4d9221"
            ],
            [
             1,
             "#276419"
            ]
           ],
           "sequential": [
            [
             0,
             "#0d0887"
            ],
            [
             0.1111111111111111,
             "#46039f"
            ],
            [
             0.2222222222222222,
             "#7201a8"
            ],
            [
             0.3333333333333333,
             "#9c179e"
            ],
            [
             0.4444444444444444,
             "#bd3786"
            ],
            [
             0.5555555555555556,
             "#d8576b"
            ],
            [
             0.6666666666666666,
             "#ed7953"
            ],
            [
             0.7777777777777778,
             "#fb9f3a"
            ],
            [
             0.8888888888888888,
             "#fdca26"
            ],
            [
             1,
             "#f0f921"
            ]
           ],
           "sequentialminus": [
            [
             0,
             "#0d0887"
            ],
            [
             0.1111111111111111,
             "#46039f"
            ],
            [
             0.2222222222222222,
             "#7201a8"
            ],
            [
             0.3333333333333333,
             "#9c179e"
            ],
            [
             0.4444444444444444,
             "#bd3786"
            ],
            [
             0.5555555555555556,
             "#d8576b"
            ],
            [
             0.6666666666666666,
             "#ed7953"
            ],
            [
             0.7777777777777778,
             "#fb9f3a"
            ],
            [
             0.8888888888888888,
             "#fdca26"
            ],
            [
             1,
             "#f0f921"
            ]
           ]
          },
          "colorway": [
           "#636efa",
           "#EF553B",
           "#00cc96",
           "#ab63fa",
           "#FFA15A",
           "#19d3f3",
           "#FF6692",
           "#B6E880",
           "#FF97FF",
           "#FECB52"
          ],
          "font": {
           "color": "#2a3f5f"
          },
          "geo": {
           "bgcolor": "white",
           "lakecolor": "white",
           "landcolor": "#E5ECF6",
           "showlakes": true,
           "showland": true,
           "subunitcolor": "white"
          },
          "hoverlabel": {
           "align": "left"
          },
          "hovermode": "closest",
          "mapbox": {
           "style": "light"
          },
          "paper_bgcolor": "white",
          "plot_bgcolor": "#E5ECF6",
          "polar": {
           "angularaxis": {
            "gridcolor": "white",
            "linecolor": "white",
            "ticks": ""
           },
           "bgcolor": "#E5ECF6",
           "radialaxis": {
            "gridcolor": "white",
            "linecolor": "white",
            "ticks": ""
           }
          },
          "scene": {
           "xaxis": {
            "backgroundcolor": "#E5ECF6",
            "gridcolor": "white",
            "gridwidth": 2,
            "linecolor": "white",
            "showbackground": true,
            "ticks": "",
            "zerolinecolor": "white"
           },
           "yaxis": {
            "backgroundcolor": "#E5ECF6",
            "gridcolor": "white",
            "gridwidth": 2,
            "linecolor": "white",
            "showbackground": true,
            "ticks": "",
            "zerolinecolor": "white"
           },
           "zaxis": {
            "backgroundcolor": "#E5ECF6",
            "gridcolor": "white",
            "gridwidth": 2,
            "linecolor": "white",
            "showbackground": true,
            "ticks": "",
            "zerolinecolor": "white"
           }
          },
          "shapedefaults": {
           "line": {
            "color": "#2a3f5f"
           }
          },
          "ternary": {
           "aaxis": {
            "gridcolor": "white",
            "linecolor": "white",
            "ticks": ""
           },
           "baxis": {
            "gridcolor": "white",
            "linecolor": "white",
            "ticks": ""
           },
           "bgcolor": "#E5ECF6",
           "caxis": {
            "gridcolor": "white",
            "linecolor": "white",
            "ticks": ""
           }
          },
          "title": {
           "x": 0.05
          },
          "xaxis": {
           "automargin": true,
           "gridcolor": "white",
           "linecolor": "white",
           "ticks": "",
           "title": {
            "standoff": 15
           },
           "zerolinecolor": "white",
           "zerolinewidth": 2
          },
          "yaxis": {
           "automargin": true,
           "gridcolor": "white",
           "linecolor": "white",
           "ticks": "",
           "title": {
            "standoff": 15
           },
           "zerolinecolor": "white",
           "zerolinewidth": 2
          }
         }
        },
        "title": {
         "text": "Investimentos onde os jovens entre 18 a 35 anos estão aplicando"
        }
       }
      },
      "text/html": [
       "<div>                            <div id=\"ecb698bd-93ad-4921-8413-b634bf4f554b\" class=\"plotly-graph-div\" style=\"height:525px; width:100%;\"></div>            <script type=\"text/javascript\">                require([\"plotly\"], function(Plotly) {                    window.PLOTLYENV=window.PLOTLYENV || {};                                    if (document.getElementById(\"ecb698bd-93ad-4921-8413-b634bf4f554b\")) {                    Plotly.newPlot(                        \"ecb698bd-93ad-4921-8413-b634bf4f554b\",                        [{\"customdata\":[[\"Caderneta de poupan\\u00e7a\"],[\"N\\u00e3o conhece nenhum tipo de investimento/ N\\u00e3o utiliza nenhum/ N\\u00e3o pretende continuar investindo\"],[\"Outras respostas\"],[\"Caderneta de poupan\\u00e7a\"],[\"Caderneta de poupan\\u00e7a\"],[\"Caderneta de poupan\\u00e7a\"],[\"Outras respostas\"],[\"Outras respostas\"],[\"Outras respostas\"],[\"Outras respostas\"],[\"Caderneta de poupan\\u00e7a\"],[\"Caderneta de poupan\\u00e7a\"],[\"Caderneta de poupan\\u00e7a\"],[\"Caderneta de poupan\\u00e7a\"],[\"Caderneta de poupan\\u00e7a\"],[\"Caderneta de poupan\\u00e7a\"],[\"Outras respostas\"],[\"Outras respostas\"],[\"Outras respostas\"],[\"Outras respostas\"],[\"N\\u00e3o conhece nenhum tipo de investimento/ N\\u00e3o utiliza nenhum/ N\\u00e3o pretende continuar investindo\"],[\"N\\u00e3o conhece nenhum tipo de investimento/ N\\u00e3o utiliza nenhum/ N\\u00e3o pretende continuar investindo\"],[\"N\\u00e3o conhece nenhum tipo de investimento/ N\\u00e3o utiliza nenhum/ N\\u00e3o pretende continuar investindo\"],[\"Outras respostas\"],[\"N\\u00e3o conhece nenhum tipo de investimento/ N\\u00e3o utiliza nenhum/ N\\u00e3o pretende continuar investindo\"],[\"Outras respostas\"],[\"Outras respostas\"],[\"Caderneta de poupan\\u00e7a\"],[\"N\\u00e3o conhece nenhum tipo de investimento/ N\\u00e3o utiliza nenhum/ N\\u00e3o pretende continuar investindo\"],[\"Outras respostas\"],[\"Caderneta de poupan\\u00e7a\"],[\"Outras respostas\"],[\"N\\u00e3o conhece nenhum tipo de investimento/ N\\u00e3o utiliza nenhum/ N\\u00e3o pretende continuar investindo\"],[\"N\\u00e3o conhece nenhum tipo de investimento/ N\\u00e3o utiliza nenhum/ N\\u00e3o pretende continuar investindo\"],[\"Caderneta de poupan\\u00e7a\"],[\"Caderneta de poupan\\u00e7a\"],[\"Outras respostas\"],[\"Caderneta de poupan\\u00e7a\"],[\"Caderneta de poupan\\u00e7a\"],[\"Caderneta de poupan\\u00e7a\"],[\"Caderneta de poupan\\u00e7a\"],[\"Caderneta de poupan\\u00e7a\"],[\"N\\u00e3o conhece nenhum tipo de investimento/ N\\u00e3o utiliza nenhum/ N\\u00e3o pretende continuar investindo\"],[\"N\\u00e3o conhece nenhum tipo de investimento/ N\\u00e3o utiliza nenhum/ N\\u00e3o pretende continuar investindo\"],[\"N\\u00e3o conhece nenhum tipo de investimento/ N\\u00e3o utiliza nenhum/ N\\u00e3o pretende continuar investindo\"],[\"Caderneta de poupan\\u00e7a\"],[\"Caderneta de poupan\\u00e7a\"],[\"N\\u00e3o conhece nenhum tipo de investimento/ N\\u00e3o utiliza nenhum/ N\\u00e3o pretende continuar investindo\"],[\"Outras respostas\"],[\"N\\u00e3o conhece nenhum tipo de investimento/ N\\u00e3o utiliza nenhum/ N\\u00e3o pretende continuar investindo\"],[\"Caderneta de poupan\\u00e7a\"],[\"Outras respostas\"],[\"N\\u00e3o conhece nenhum tipo de investimento/ N\\u00e3o utiliza nenhum/ N\\u00e3o pretende continuar investindo\"],[\"Outras respostas\"],[\"N\\u00e3o conhece nenhum tipo de investimento/ N\\u00e3o utiliza nenhum/ N\\u00e3o pretende continuar investindo\"],[\"N\\u00e3o conhece nenhum tipo de investimento/ N\\u00e3o utiliza nenhum/ N\\u00e3o pretende continuar investindo\"],[\"Outras respostas\"],[\"Caderneta de poupan\\u00e7a\"],[\"Caderneta de poupan\\u00e7a\"],[\"N\\u00e3o conhece nenhum tipo de investimento/ N\\u00e3o utiliza nenhum/ N\\u00e3o pretende continuar investindo\"],[\"Outras respostas\"],[\"N\\u00e3o conhece nenhum tipo de investimento/ N\\u00e3o utiliza nenhum/ N\\u00e3o pretende continuar investindo\"],[\"Outras respostas\"],[\"N\\u00e3o conhece nenhum tipo de investimento/ N\\u00e3o utiliza nenhum/ N\\u00e3o pretende continuar investindo\"],[\"Outras respostas\"],[\"N\\u00e3o conhece nenhum tipo de investimento/ N\\u00e3o utiliza nenhum/ N\\u00e3o pretende continuar investindo\"],[\"Caderneta de poupan\\u00e7a\"],[\"N\\u00e3o conhece nenhum tipo de investimento/ N\\u00e3o utiliza nenhum/ N\\u00e3o pretende continuar investindo\"],[\"Outras respostas\"],[\"N\\u00e3o conhece nenhum tipo de investimento/ N\\u00e3o utiliza nenhum/ N\\u00e3o pretende continuar investindo\"],[\"Caderneta de poupan\\u00e7a\"],[\"N\\u00e3o conhece nenhum tipo de investimento/ N\\u00e3o utiliza nenhum/ N\\u00e3o pretende continuar investindo\"],[\"N\\u00e3o conhece nenhum tipo de investimento/ N\\u00e3o utiliza nenhum/ N\\u00e3o pretende continuar investindo\"],[\"N\\u00e3o conhece nenhum tipo de investimento/ N\\u00e3o utiliza nenhum/ N\\u00e3o pretende continuar investindo\"],[\"N\\u00e3o conhece nenhum tipo de investimento/ N\\u00e3o utiliza nenhum/ N\\u00e3o pretende continuar investindo\"],[\"Caderneta de poupan\\u00e7a\"],[\"N\\u00e3o conhece nenhum tipo de investimento/ N\\u00e3o utiliza nenhum/ N\\u00e3o pretende continuar investindo\"],[\"Caderneta de poupan\\u00e7a\"],[\"N\\u00e3o conhece nenhum tipo de investimento/ N\\u00e3o utiliza nenhum/ N\\u00e3o pretende continuar investindo\"],[\"N\\u00e3o conhece nenhum tipo de investimento/ N\\u00e3o utiliza nenhum/ N\\u00e3o pretende continuar investindo\"],[\"N\\u00e3o conhece nenhum tipo de investimento/ N\\u00e3o utiliza nenhum/ N\\u00e3o pretende continuar investindo\"],[\"Outras respostas\"],[\"Outras respostas\"],[\"Outras respostas\"],[\"Outras respostas\"],[\"Caderneta de poupan\\u00e7a\"],[\"N\\u00e3o conhece nenhum tipo de investimento/ N\\u00e3o utiliza nenhum/ N\\u00e3o pretende continuar investindo\"],[\"Caderneta de poupan\\u00e7a\"],[\"N\\u00e3o conhece nenhum tipo de investimento/ N\\u00e3o utiliza nenhum/ N\\u00e3o pretende continuar investindo\"],[\"Caderneta de poupan\\u00e7a\"],[\"Caderneta de poupan\\u00e7a\"],[\"N\\u00e3o conhece nenhum tipo de investimento/ N\\u00e3o utiliza nenhum/ N\\u00e3o pretende continuar investindo\"],[\"Caderneta de poupan\\u00e7a\"],[\"Caderneta de poupan\\u00e7a\"],[\"Caderneta de poupan\\u00e7a\"],[\"N\\u00e3o conhece nenhum tipo de investimento/ N\\u00e3o utiliza nenhum/ N\\u00e3o pretende continuar investindo\"],[\"Outras respostas\"],[\"Caderneta de poupan\\u00e7a\"],[\"N\\u00e3o conhece nenhum tipo de investimento/ N\\u00e3o utiliza nenhum/ N\\u00e3o pretende continuar investindo\"],[\"Caderneta de poupan\\u00e7a\"],[\"Caderneta de poupan\\u00e7a\"],[\"Caderneta de poupan\\u00e7a\"],[\"Outras respostas\"],[\"Caderneta de poupan\\u00e7a\"],[\"N\\u00e3o conhece nenhum tipo de investimento/ N\\u00e3o utiliza nenhum/ N\\u00e3o pretende continuar investindo\"],[\"Caderneta de poupan\\u00e7a\"],[\"Caderneta de poupan\\u00e7a\"],[\"Outras respostas\"],[\"Outras respostas\"],[\"Caderneta de poupan\\u00e7a\"],[\"Outras respostas\"],[\"N\\u00e3o conhece nenhum tipo de investimento/ N\\u00e3o utiliza nenhum/ N\\u00e3o pretende continuar investindo\"],[\"N\\u00e3o conhece nenhum tipo de investimento/ N\\u00e3o utiliza nenhum/ N\\u00e3o pretende continuar investindo\"],[\"N\\u00e3o conhece nenhum tipo de investimento/ N\\u00e3o utiliza nenhum/ N\\u00e3o pretende continuar investindo\"],[\"Outras respostas\"],[\"Caderneta de poupan\\u00e7a\"],[\"N\\u00e3o conhece nenhum tipo de investimento/ N\\u00e3o utiliza nenhum/ N\\u00e3o pretende continuar investindo\"],[\"N\\u00e3o conhece nenhum tipo de investimento/ N\\u00e3o utiliza nenhum/ N\\u00e3o pretende continuar investindo\"],[\"N\\u00e3o conhece nenhum tipo de investimento/ N\\u00e3o utiliza nenhum/ N\\u00e3o pretende continuar investindo\"],[\"Outras respostas\"],[\"Caderneta de poupan\\u00e7a\"],[\"N\\u00e3o conhece nenhum tipo de investimento/ N\\u00e3o utiliza nenhum/ N\\u00e3o pretende continuar investindo\"],[\"N\\u00e3o conhece nenhum tipo de investimento/ N\\u00e3o utiliza nenhum/ N\\u00e3o pretende continuar investindo\"],[\"N\\u00e3o conhece nenhum tipo de investimento/ N\\u00e3o utiliza nenhum/ N\\u00e3o pretende continuar investindo\"],[\"N\\u00e3o conhece nenhum tipo de investimento/ N\\u00e3o utiliza nenhum/ N\\u00e3o pretende continuar investindo\"],[\"N\\u00e3o conhece nenhum tipo de investimento/ N\\u00e3o utiliza nenhum/ N\\u00e3o pretende continuar investindo\"],[\"Caderneta de poupan\\u00e7a\"],[\"N\\u00e3o conhece nenhum tipo de investimento/ N\\u00e3o utiliza nenhum/ N\\u00e3o pretende continuar investindo\"],[\"N\\u00e3o conhece nenhum tipo de investimento/ N\\u00e3o utiliza nenhum/ N\\u00e3o pretende continuar investindo\"],[\"N\\u00e3o conhece nenhum tipo de investimento/ N\\u00e3o utiliza nenhum/ N\\u00e3o pretende continuar investindo\"],[\"Caderneta de poupan\\u00e7a\"],[\"Caderneta de poupan\\u00e7a\"],[\"Outras respostas\"],[\"Outras respostas\"],[\"Outras respostas\"],[\"N\\u00e3o conhece nenhum tipo de investimento/ N\\u00e3o utiliza nenhum/ N\\u00e3o pretende continuar investindo\"],[\"N\\u00e3o conhece nenhum tipo de investimento/ N\\u00e3o utiliza nenhum/ N\\u00e3o pretende continuar investindo\"],[\"Outras respostas\"],[\"Caderneta de poupan\\u00e7a\"],[\"Outras respostas\"],[\"N\\u00e3o conhece nenhum tipo de investimento/ N\\u00e3o utiliza nenhum/ N\\u00e3o pretende continuar investindo\"],[\"Outras respostas\"],[\"Outras respostas\"],[\"Caderneta de poupan\\u00e7a\"],[\"Outras respostas\"],[\"Outras respostas\"],[\"Caderneta de poupan\\u00e7a\"],[\"Caderneta de poupan\\u00e7a\"],[\"Caderneta de poupan\\u00e7a\"],[\"Outras respostas\"],[\"Outras respostas\"],[\"Caderneta de poupan\\u00e7a\"],[\"Outras respostas\"],[\"N\\u00e3o conhece nenhum tipo de investimento/ N\\u00e3o utiliza nenhum/ N\\u00e3o pretende continuar investindo\"],[\"Outras respostas\"],[\"Caderneta de poupan\\u00e7a\"],[\"Caderneta de poupan\\u00e7a\"],[\"Caderneta de poupan\\u00e7a\"],[\"Caderneta de poupan\\u00e7a\"],[\"N\\u00e3o conhece nenhum tipo de investimento/ N\\u00e3o utiliza nenhum/ N\\u00e3o pretende continuar investindo\"],[\"N\\u00e3o conhece nenhum tipo de investimento/ N\\u00e3o utiliza nenhum/ N\\u00e3o pretende continuar investindo\"],[\"N\\u00e3o conhece nenhum tipo de investimento/ N\\u00e3o utiliza nenhum/ N\\u00e3o pretende continuar investindo\"],[\"N\\u00e3o conhece nenhum tipo de investimento/ N\\u00e3o utiliza nenhum/ N\\u00e3o pretende continuar investindo\"],[\"Caderneta de poupan\\u00e7a\"],[\"N\\u00e3o conhece nenhum tipo de investimento/ N\\u00e3o utiliza nenhum/ N\\u00e3o pretende continuar investindo\"],[\"Outras respostas\"],[\"N\\u00e3o conhece nenhum tipo de investimento/ N\\u00e3o utiliza nenhum/ N\\u00e3o pretende continuar investindo\"],[\"N\\u00e3o conhece nenhum tipo de investimento/ N\\u00e3o utiliza nenhum/ N\\u00e3o pretende continuar investindo\"],[\"Caderneta de poupan\\u00e7a\"],[\"Outras respostas\"],[\"Outras respostas\"],[\"Caderneta de poupan\\u00e7a\"],[\"Caderneta de poupan\\u00e7a\"],[\"Caderneta de poupan\\u00e7a\"],[\"Outras respostas\"],[\"Caderneta de poupan\\u00e7a\"],[\"Caderneta de poupan\\u00e7a\"],[\"Caderneta de poupan\\u00e7a\"],[\"Caderneta de poupan\\u00e7a\"],[\"Caderneta de poupan\\u00e7a\"],[\"Outras respostas\"],[\"Outras respostas\"],[\"N\\u00e3o conhece nenhum tipo de investimento/ N\\u00e3o utiliza nenhum/ N\\u00e3o pretende continuar investindo\"],[\"Outras respostas\"],[\"Caderneta de poupan\\u00e7a\"],[\"Outras respostas\"],[\"N\\u00e3o conhece nenhum tipo de investimento/ N\\u00e3o utiliza nenhum/ N\\u00e3o pretende continuar investindo\"],[\"N\\u00e3o conhece nenhum tipo de investimento/ N\\u00e3o utiliza nenhum/ N\\u00e3o pretende continuar investindo\"],[\"Caderneta de poupan\\u00e7a\"],[\"Caderneta de poupan\\u00e7a\"],[\"Caderneta de poupan\\u00e7a\"],[\"N\\u00e3o conhece nenhum tipo de investimento/ N\\u00e3o utiliza nenhum/ N\\u00e3o pretende continuar investindo\"],[\"Caderneta de poupan\\u00e7a\"],[\"Caderneta de poupan\\u00e7a\"],[\"Caderneta de poupan\\u00e7a\"],[\"Caderneta de poupan\\u00e7a\"],[\"Caderneta de poupan\\u00e7a\"],[\"Caderneta de poupan\\u00e7a\"],[\"Caderneta de poupan\\u00e7a\"],[\"N\\u00e3o conhece nenhum tipo de investimento/ N\\u00e3o utiliza nenhum/ N\\u00e3o pretende continuar investindo\"],[\"Caderneta de poupan\\u00e7a\"],[\"N\\u00e3o conhece nenhum tipo de investimento/ N\\u00e3o utiliza nenhum/ N\\u00e3o pretende continuar investindo\"],[\"N\\u00e3o conhece nenhum tipo de investimento/ N\\u00e3o utiliza nenhum/ N\\u00e3o pretende continuar investindo\"],[\"N\\u00e3o conhece nenhum tipo de investimento/ N\\u00e3o utiliza nenhum/ N\\u00e3o pretende continuar investindo\"],[\"Caderneta de poupan\\u00e7a\"],[\"Caderneta de poupan\\u00e7a\"],[\"Caderneta de poupan\\u00e7a\"],[\"Caderneta de poupan\\u00e7a\"],[\"N\\u00e3o conhece nenhum tipo de investimento/ N\\u00e3o utiliza nenhum/ N\\u00e3o pretende continuar investindo\"],[\"Outras respostas\"],[\"Caderneta de poupan\\u00e7a\"],[\"Outras respostas\"],[\"Caderneta de poupan\\u00e7a\"],[\"N\\u00e3o conhece nenhum tipo de investimento/ N\\u00e3o utiliza nenhum/ N\\u00e3o pretende continuar investindo\"],[\"Caderneta de poupan\\u00e7a\"],[\"Caderneta de poupan\\u00e7a\"],[\"Outras respostas\"],[\"N\\u00e3o conhece nenhum tipo de investimento/ N\\u00e3o utiliza nenhum/ N\\u00e3o pretende continuar investindo\"],[\"N\\u00e3o conhece nenhum tipo de investimento/ N\\u00e3o utiliza nenhum/ N\\u00e3o pretende continuar investindo\"],[\"Caderneta de poupan\\u00e7a\"],[\"Caderneta de poupan\\u00e7a\"],[\"N\\u00e3o conhece nenhum tipo de investimento/ N\\u00e3o utiliza nenhum/ N\\u00e3o pretende continuar investindo\"],[\"N\\u00e3o conhece nenhum tipo de investimento/ N\\u00e3o utiliza nenhum/ N\\u00e3o pretende continuar investindo\"],[\"Outras respostas\"],[\"Outras respostas\"],[\"Caderneta de poupan\\u00e7a\"],[\"Outras respostas\"],[\"Outras respostas\"],[\"Caderneta de poupan\\u00e7a\"],[\"Caderneta de poupan\\u00e7a\"],[\"N\\u00e3o conhece nenhum tipo de investimento/ N\\u00e3o utiliza nenhum/ N\\u00e3o pretende continuar investindo\"],[\"N\\u00e3o conhece nenhum tipo de investimento/ N\\u00e3o utiliza nenhum/ N\\u00e3o pretende continuar investindo\"],[\"N\\u00e3o conhece nenhum tipo de investimento/ N\\u00e3o utiliza nenhum/ N\\u00e3o pretende continuar investindo\"],[\"Caderneta de poupan\\u00e7a\"],[\"Outras respostas\"],[\"Outras respostas\"],[\"Outras respostas\"],[\"Outras respostas\"],[\"Caderneta de poupan\\u00e7a\"],[\"N\\u00e3o conhece nenhum tipo de investimento/ N\\u00e3o utiliza nenhum/ N\\u00e3o pretende continuar investindo\"],[\"Outras respostas\"],[\"Outras respostas\"],[\"Caderneta de poupan\\u00e7a\"],[\"Outras respostas\"],[\"Caderneta de poupan\\u00e7a\"],[\"Outras respostas\"],[\"Caderneta de poupan\\u00e7a\"],[\"Caderneta de poupan\\u00e7a\"],[\"Caderneta de poupan\\u00e7a\"],[\"Outras respostas\"],[\"Outras respostas\"],[\"Caderneta de poupan\\u00e7a\"],[\"Caderneta de poupan\\u00e7a\"],[\"N\\u00e3o conhece nenhum tipo de investimento/ N\\u00e3o utiliza nenhum/ N\\u00e3o pretende continuar investindo\"],[\"Outras respostas\"],[\"Caderneta de poupan\\u00e7a\"],[\"Caderneta de poupan\\u00e7a\"],[\"N\\u00e3o conhece nenhum tipo de investimento/ N\\u00e3o utiliza nenhum/ N\\u00e3o pretende continuar investindo\"],[\"Outras respostas\"],[\"Outras respostas\"],[\"Caderneta de poupan\\u00e7a\"],[\"Caderneta de poupan\\u00e7a\"],[\"N\\u00e3o conhece nenhum tipo de investimento/ N\\u00e3o utiliza nenhum/ N\\u00e3o pretende continuar investindo\"],[\"Caderneta de poupan\\u00e7a\"],[\"Caderneta de poupan\\u00e7a\"],[\"Caderneta de poupan\\u00e7a\"],[\"N\\u00e3o conhece nenhum tipo de investimento/ N\\u00e3o utiliza nenhum/ N\\u00e3o pretende continuar investindo\"],[\"Caderneta de poupan\\u00e7a\"],[\"Caderneta de poupan\\u00e7a\"],[\"N\\u00e3o conhece nenhum tipo de investimento/ N\\u00e3o utiliza nenhum/ N\\u00e3o pretende continuar investindo\"],[\"Caderneta de poupan\\u00e7a\"],[\"Outras respostas\"],[\"Outras respostas\"],[\"Caderneta de poupan\\u00e7a\"],[\"Caderneta de poupan\\u00e7a\"],[\"Caderneta de poupan\\u00e7a\"],[\"Caderneta de poupan\\u00e7a\"],[\"Caderneta de poupan\\u00e7a\"],[\"N\\u00e3o conhece nenhum tipo de investimento/ N\\u00e3o utiliza nenhum/ N\\u00e3o pretende continuar investindo\"],[\"Caderneta de poupan\\u00e7a\"],[\"Outras respostas\"],[\"Caderneta de poupan\\u00e7a\"],[\"Caderneta de poupan\\u00e7a\"],[\"N\\u00e3o conhece nenhum tipo de investimento/ N\\u00e3o utiliza nenhum/ N\\u00e3o pretende continuar investindo\"],[\"Outras respostas\"],[\"N\\u00e3o conhece nenhum tipo de investimento/ N\\u00e3o utiliza nenhum/ N\\u00e3o pretende continuar investindo\"],[\"Outras respostas\"],[\"Caderneta de poupan\\u00e7a\"],[\"Caderneta de poupan\\u00e7a\"],[\"Outras respostas\"],[\"Caderneta de poupan\\u00e7a\"],[\"Outras respostas\"],[\"Caderneta de poupan\\u00e7a\"],[\"N\\u00e3o conhece nenhum tipo de investimento/ N\\u00e3o utiliza nenhum/ N\\u00e3o pretende continuar investindo\"],[\"N\\u00e3o conhece nenhum tipo de investimento/ N\\u00e3o utiliza nenhum/ N\\u00e3o pretende continuar investindo\"],[\"Caderneta de poupan\\u00e7a\"],[\"N\\u00e3o conhece nenhum tipo de investimento/ N\\u00e3o utiliza nenhum/ N\\u00e3o pretende continuar investindo\"],[\"Caderneta de poupan\\u00e7a\"],[\"Caderneta de poupan\\u00e7a\"],[\"Outras respostas\"],[\"N\\u00e3o conhece nenhum tipo de investimento/ N\\u00e3o utiliza nenhum/ N\\u00e3o pretende continuar investindo\"],[\"N\\u00e3o conhece nenhum tipo de investimento/ N\\u00e3o utiliza nenhum/ N\\u00e3o pretende continuar investindo\"],[\"Outras respostas\"],[\"N\\u00e3o conhece nenhum tipo de investimento/ N\\u00e3o utiliza nenhum/ N\\u00e3o pretende continuar investindo\"],[\"Caderneta de poupan\\u00e7a\"],[\"Caderneta de poupan\\u00e7a\"],[\"Outras respostas\"],[\"Caderneta de poupan\\u00e7a\"],[\"Caderneta de poupan\\u00e7a\"],[\"Outras respostas\"],[\"Caderneta de poupan\\u00e7a\"],[\"Caderneta de poupan\\u00e7a\"],[\"N\\u00e3o conhece nenhum tipo de investimento/ N\\u00e3o utiliza nenhum/ N\\u00e3o pretende continuar investindo\"],[\"N\\u00e3o conhece nenhum tipo de investimento/ N\\u00e3o utiliza nenhum/ N\\u00e3o pretende continuar investindo\"],[\"N\\u00e3o conhece nenhum tipo de investimento/ N\\u00e3o utiliza nenhum/ N\\u00e3o pretende continuar investindo\"],[\"Outras respostas\"],[\"Caderneta de poupan\\u00e7a\"],[\"Outras respostas\"],[\"N\\u00e3o conhece nenhum tipo de investimento/ N\\u00e3o utiliza nenhum/ N\\u00e3o pretende continuar investindo\"],[\"Caderneta de poupan\\u00e7a\"],[\"Caderneta de poupan\\u00e7a\"],[\"N\\u00e3o conhece nenhum tipo de investimento/ N\\u00e3o utiliza nenhum/ N\\u00e3o pretende continuar investindo\"],[\"Caderneta de poupan\\u00e7a\"],[\"Outras respostas\"],[\"N\\u00e3o conhece nenhum tipo de investimento/ N\\u00e3o utiliza nenhum/ N\\u00e3o pretende continuar investindo\"],[\"N\\u00e3o conhece nenhum tipo de investimento/ N\\u00e3o utiliza nenhum/ N\\u00e3o pretende continuar investindo\"],[\"Caderneta de poupan\\u00e7a\"],[\"Outras respostas\"],[\"Caderneta de poupan\\u00e7a\"],[\"Outras respostas\"],[\"N\\u00e3o conhece nenhum tipo de investimento/ N\\u00e3o utiliza nenhum/ N\\u00e3o pretende continuar investindo\"],[\"Caderneta de poupan\\u00e7a\"],[\"N\\u00e3o conhece nenhum tipo de investimento/ N\\u00e3o utiliza nenhum/ N\\u00e3o pretende continuar investindo\"],[\"N\\u00e3o conhece nenhum tipo de investimento/ N\\u00e3o utiliza nenhum/ N\\u00e3o pretende continuar investindo\"],[\"Outras respostas\"],[\"Caderneta de poupan\\u00e7a\"],[\"Caderneta de poupan\\u00e7a\"],[\"N\\u00e3o conhece nenhum tipo de investimento/ N\\u00e3o utiliza nenhum/ N\\u00e3o pretende continuar investindo\"],[\"Caderneta de poupan\\u00e7a\"],[\"Caderneta de poupan\\u00e7a\"],[\"N\\u00e3o conhece nenhum tipo de investimento/ N\\u00e3o utiliza nenhum/ N\\u00e3o pretende continuar investindo\"],[\"Outras respostas\"],[\"Caderneta de poupan\\u00e7a\"],[\"N\\u00e3o conhece nenhum tipo de investimento/ N\\u00e3o utiliza nenhum/ N\\u00e3o pretende continuar investindo\"],[\"N\\u00e3o conhece nenhum tipo de investimento/ N\\u00e3o utiliza nenhum/ N\\u00e3o pretende continuar investindo\"],[\"N\\u00e3o conhece nenhum tipo de investimento/ N\\u00e3o utiliza nenhum/ N\\u00e3o pretende continuar investindo\"],[\"N\\u00e3o conhece nenhum tipo de investimento/ N\\u00e3o utiliza nenhum/ N\\u00e3o pretende continuar investindo\"],[\"Caderneta de poupan\\u00e7a\"],[\"N\\u00e3o conhece nenhum tipo de investimento/ N\\u00e3o utiliza nenhum/ N\\u00e3o pretende continuar investindo\"],[\"Caderneta de poupan\\u00e7a\"],[\"Outras respostas\"],[\"N\\u00e3o conhece nenhum tipo de investimento/ N\\u00e3o utiliza nenhum/ N\\u00e3o pretende continuar investindo\"],[\"Caderneta de poupan\\u00e7a\"],[\"N\\u00e3o conhece nenhum tipo de investimento/ N\\u00e3o utiliza nenhum/ N\\u00e3o pretende continuar investindo\"],[\"N\\u00e3o conhece nenhum tipo de investimento/ N\\u00e3o utiliza nenhum/ N\\u00e3o pretende continuar investindo\"],[\"Caderneta de poupan\\u00e7a\"],[\"N\\u00e3o conhece nenhum tipo de investimento/ N\\u00e3o utiliza nenhum/ N\\u00e3o pretende continuar investindo\"],[\"N\\u00e3o conhece nenhum tipo de investimento/ N\\u00e3o utiliza nenhum/ N\\u00e3o pretende continuar investindo\"],[\"Outras respostas\"],[\"Outras respostas\"],[\"N\\u00e3o conhece nenhum tipo de investimento/ N\\u00e3o utiliza nenhum/ N\\u00e3o pretende continuar investindo\"],[\"Outras respostas\"],[\"Outras respostas\"],[\"Caderneta de poupan\\u00e7a\"],[\"Caderneta de poupan\\u00e7a\"],[\"Outras respostas\"],[\"N\\u00e3o conhece nenhum tipo de investimento/ N\\u00e3o utiliza nenhum/ N\\u00e3o pretende continuar investindo\"],[\"N\\u00e3o conhece nenhum tipo de investimento/ N\\u00e3o utiliza nenhum/ N\\u00e3o pretende continuar investindo\"],[\"Outras respostas\"],[\"N\\u00e3o conhece nenhum tipo de investimento/ N\\u00e3o utiliza nenhum/ N\\u00e3o pretende continuar investindo\"],[\"Outras respostas\"],[\"N\\u00e3o conhece nenhum tipo de investimento/ N\\u00e3o utiliza nenhum/ N\\u00e3o pretende continuar investindo\"],[\"Caderneta de poupan\\u00e7a\"],[\"Outras respostas\"],[\"Outras respostas\"],[\"Outras respostas\"],[\"Caderneta de poupan\\u00e7a\"],[\"Outras respostas\"],[\"N\\u00e3o conhece nenhum tipo de investimento/ N\\u00e3o utiliza nenhum/ N\\u00e3o pretende continuar investindo\"],[\"Outras respostas\"],[\"Caderneta de poupan\\u00e7a\"],[\"N\\u00e3o conhece nenhum tipo de investimento/ N\\u00e3o utiliza nenhum/ N\\u00e3o pretende continuar investindo\"],[\"N\\u00e3o conhece nenhum tipo de investimento/ N\\u00e3o utiliza nenhum/ N\\u00e3o pretende continuar investindo\"],[\"Outras respostas\"],[\"Caderneta de poupan\\u00e7a\"],[\"N\\u00e3o conhece nenhum tipo de investimento/ N\\u00e3o utiliza nenhum/ N\\u00e3o pretende continuar investindo\"],[\"Caderneta de poupan\\u00e7a\"],[\"Outras respostas\"],[\"N\\u00e3o conhece nenhum tipo de investimento/ N\\u00e3o utiliza nenhum/ N\\u00e3o pretende continuar investindo\"],[\"Caderneta de poupan\\u00e7a\"],[\"Outras respostas\"],[\"N\\u00e3o conhece nenhum tipo de investimento/ N\\u00e3o utiliza nenhum/ N\\u00e3o pretende continuar investindo\"],[\"Outras respostas\"],[\"N\\u00e3o conhece nenhum tipo de investimento/ N\\u00e3o utiliza nenhum/ N\\u00e3o pretende continuar investindo\"],[\"N\\u00e3o conhece nenhum tipo de investimento/ N\\u00e3o utiliza nenhum/ N\\u00e3o pretende continuar investindo\"],[\"Outras respostas\"],[\"N\\u00e3o conhece nenhum tipo de investimento/ N\\u00e3o utiliza nenhum/ N\\u00e3o pretende continuar investindo\"],[\"Outras respostas\"],[\"Outras respostas\"],[\"N\\u00e3o conhece nenhum tipo de investimento/ N\\u00e3o utiliza nenhum/ N\\u00e3o pretende continuar investindo\"],[\"N\\u00e3o conhece nenhum tipo de investimento/ N\\u00e3o utiliza nenhum/ N\\u00e3o pretende continuar investindo\"],[\"Caderneta de poupan\\u00e7a\"],[\"N\\u00e3o conhece nenhum tipo de investimento/ N\\u00e3o utiliza nenhum/ N\\u00e3o pretende continuar investindo\"],[\"N\\u00e3o conhece nenhum tipo de investimento/ N\\u00e3o utiliza nenhum/ N\\u00e3o pretende continuar investindo\"],[\"Outras respostas\"],[\"Outras respostas\"],[\"Outras respostas\"],[\"N\\u00e3o conhece nenhum tipo de investimento/ N\\u00e3o utiliza nenhum/ N\\u00e3o pretende continuar investindo\"],[\"Caderneta de poupan\\u00e7a\"],[\"Caderneta de poupan\\u00e7a\"],[\"Caderneta de poupan\\u00e7a\"],[\"Caderneta de poupan\\u00e7a\"],[\"Caderneta de poupan\\u00e7a\"],[\"N\\u00e3o conhece nenhum tipo de investimento/ N\\u00e3o utiliza nenhum/ N\\u00e3o pretende continuar investindo\"],[\"Caderneta de poupan\\u00e7a\"],[\"N\\u00e3o conhece nenhum tipo de investimento/ N\\u00e3o utiliza nenhum/ N\\u00e3o pretende continuar investindo\"],[\"N\\u00e3o conhece nenhum tipo de investimento/ N\\u00e3o utiliza nenhum/ N\\u00e3o pretende continuar investindo\"],[\"Outras respostas\"],[\"Outras respostas\"],[\"N\\u00e3o conhece nenhum tipo de investimento/ N\\u00e3o utiliza nenhum/ N\\u00e3o pretende continuar investindo\"],[\"N\\u00e3o conhece nenhum tipo de investimento/ N\\u00e3o utiliza nenhum/ N\\u00e3o pretende continuar investindo\"],[\"N\\u00e3o conhece nenhum tipo de investimento/ N\\u00e3o utiliza nenhum/ N\\u00e3o pretende continuar investindo\"],[\"Outras respostas\"],[\"N\\u00e3o conhece nenhum tipo de investimento/ N\\u00e3o utiliza nenhum/ N\\u00e3o pretende continuar investindo\"],[\"Caderneta de poupan\\u00e7a\"],[\"Caderneta de poupan\\u00e7a\"],[\"Outras respostas\"],[\"Caderneta de poupan\\u00e7a\"],[\"Caderneta de poupan\\u00e7a\"],[\"Outras respostas\"],[\"Caderneta de poupan\\u00e7a\"],[\"Caderneta de poupan\\u00e7a\"],[\"N\\u00e3o conhece nenhum tipo de investimento/ N\\u00e3o utiliza nenhum/ N\\u00e3o pretende continuar investindo\"],[\"Outras respostas\"],[\"N\\u00e3o conhece nenhum tipo de investimento/ N\\u00e3o utiliza nenhum/ N\\u00e3o pretende continuar investindo\"],[\"Caderneta de poupan\\u00e7a\"],[\"Outras respostas\"],[\"N\\u00e3o conhece nenhum tipo de investimento/ N\\u00e3o utiliza nenhum/ N\\u00e3o pretende continuar investindo\"]],\"domain\":{\"x\":[0.0,1.0],\"y\":[0.0,1.0]},\"hovertemplate\":\"Aplica em quais investimentos=%{customdata[0]}<extra></extra>\",\"labels\":[\"Caderneta de poupan\\u00e7a\",\"N\\u00e3o conhece nenhum tipo de investimento/ N\\u00e3o utiliza nenhum/ N\\u00e3o pretende continuar investindo\",\"Outras respostas\",\"Caderneta de poupan\\u00e7a\",\"Caderneta de poupan\\u00e7a\",\"Caderneta de poupan\\u00e7a\",\"Outras respostas\",\"Outras respostas\",\"Outras respostas\",\"Outras respostas\",\"Caderneta de poupan\\u00e7a\",\"Caderneta de poupan\\u00e7a\",\"Caderneta de poupan\\u00e7a\",\"Caderneta de poupan\\u00e7a\",\"Caderneta de poupan\\u00e7a\",\"Caderneta de poupan\\u00e7a\",\"Outras respostas\",\"Outras respostas\",\"Outras respostas\",\"Outras respostas\",\"N\\u00e3o conhece nenhum tipo de investimento/ N\\u00e3o utiliza nenhum/ N\\u00e3o pretende continuar investindo\",\"N\\u00e3o conhece nenhum tipo de investimento/ N\\u00e3o utiliza nenhum/ N\\u00e3o pretende continuar investindo\",\"N\\u00e3o conhece nenhum tipo de investimento/ N\\u00e3o utiliza nenhum/ N\\u00e3o pretende continuar investindo\",\"Outras respostas\",\"N\\u00e3o conhece nenhum tipo de investimento/ N\\u00e3o utiliza nenhum/ N\\u00e3o pretende continuar investindo\",\"Outras respostas\",\"Outras respostas\",\"Caderneta de poupan\\u00e7a\",\"N\\u00e3o conhece nenhum tipo de investimento/ N\\u00e3o utiliza nenhum/ N\\u00e3o pretende continuar investindo\",\"Outras respostas\",\"Caderneta de poupan\\u00e7a\",\"Outras respostas\",\"N\\u00e3o conhece nenhum tipo de investimento/ N\\u00e3o utiliza nenhum/ N\\u00e3o pretende continuar investindo\",\"N\\u00e3o conhece nenhum tipo de investimento/ N\\u00e3o utiliza nenhum/ N\\u00e3o pretende continuar investindo\",\"Caderneta de poupan\\u00e7a\",\"Caderneta de poupan\\u00e7a\",\"Outras respostas\",\"Caderneta de poupan\\u00e7a\",\"Caderneta de poupan\\u00e7a\",\"Caderneta de poupan\\u00e7a\",\"Caderneta de poupan\\u00e7a\",\"Caderneta de poupan\\u00e7a\",\"N\\u00e3o conhece nenhum tipo de investimento/ N\\u00e3o utiliza nenhum/ N\\u00e3o pretende continuar investindo\",\"N\\u00e3o conhece nenhum tipo de investimento/ N\\u00e3o utiliza nenhum/ N\\u00e3o pretende continuar investindo\",\"N\\u00e3o conhece nenhum tipo de investimento/ N\\u00e3o utiliza nenhum/ N\\u00e3o pretende continuar investindo\",\"Caderneta de poupan\\u00e7a\",\"Caderneta de poupan\\u00e7a\",\"N\\u00e3o conhece nenhum tipo de investimento/ N\\u00e3o utiliza nenhum/ N\\u00e3o pretende continuar investindo\",\"Outras respostas\",\"N\\u00e3o conhece nenhum tipo de investimento/ N\\u00e3o utiliza nenhum/ N\\u00e3o pretende continuar investindo\",\"Caderneta de poupan\\u00e7a\",\"Outras respostas\",\"N\\u00e3o conhece nenhum tipo de investimento/ N\\u00e3o utiliza nenhum/ N\\u00e3o pretende continuar investindo\",\"Outras respostas\",\"N\\u00e3o conhece nenhum tipo de investimento/ N\\u00e3o utiliza nenhum/ N\\u00e3o pretende continuar investindo\",\"N\\u00e3o conhece nenhum tipo de investimento/ N\\u00e3o utiliza nenhum/ N\\u00e3o pretende continuar investindo\",\"Outras respostas\",\"Caderneta de poupan\\u00e7a\",\"Caderneta de poupan\\u00e7a\",\"N\\u00e3o conhece nenhum tipo de investimento/ N\\u00e3o utiliza nenhum/ N\\u00e3o pretende continuar investindo\",\"Outras respostas\",\"N\\u00e3o conhece nenhum tipo de investimento/ N\\u00e3o utiliza nenhum/ N\\u00e3o pretende continuar investindo\",\"Outras respostas\",\"N\\u00e3o conhece nenhum tipo de investimento/ N\\u00e3o utiliza nenhum/ N\\u00e3o pretende continuar investindo\",\"Outras respostas\",\"N\\u00e3o conhece nenhum tipo de investimento/ N\\u00e3o utiliza nenhum/ N\\u00e3o pretende continuar investindo\",\"Caderneta de poupan\\u00e7a\",\"N\\u00e3o conhece nenhum tipo de investimento/ N\\u00e3o utiliza nenhum/ N\\u00e3o pretende continuar investindo\",\"Outras respostas\",\"N\\u00e3o conhece nenhum tipo de investimento/ N\\u00e3o utiliza nenhum/ N\\u00e3o pretende continuar investindo\",\"Caderneta de poupan\\u00e7a\",\"N\\u00e3o conhece nenhum tipo de investimento/ N\\u00e3o utiliza nenhum/ N\\u00e3o pretende continuar investindo\",\"N\\u00e3o conhece nenhum tipo de investimento/ N\\u00e3o utiliza nenhum/ N\\u00e3o pretende continuar investindo\",\"N\\u00e3o conhece nenhum tipo de investimento/ N\\u00e3o utiliza nenhum/ N\\u00e3o pretende continuar investindo\",\"N\\u00e3o conhece nenhum tipo de investimento/ N\\u00e3o utiliza nenhum/ N\\u00e3o pretende continuar investindo\",\"Caderneta de poupan\\u00e7a\",\"N\\u00e3o conhece nenhum tipo de investimento/ N\\u00e3o utiliza nenhum/ N\\u00e3o pretende continuar investindo\",\"Caderneta de poupan\\u00e7a\",\"N\\u00e3o conhece nenhum tipo de investimento/ N\\u00e3o utiliza nenhum/ N\\u00e3o pretende continuar investindo\",\"N\\u00e3o conhece nenhum tipo de investimento/ N\\u00e3o utiliza nenhum/ N\\u00e3o pretende continuar investindo\",\"N\\u00e3o conhece nenhum tipo de investimento/ N\\u00e3o utiliza nenhum/ N\\u00e3o pretende continuar investindo\",\"Outras respostas\",\"Outras respostas\",\"Outras respostas\",\"Outras respostas\",\"Caderneta de poupan\\u00e7a\",\"N\\u00e3o conhece nenhum tipo de investimento/ N\\u00e3o utiliza nenhum/ N\\u00e3o pretende continuar investindo\",\"Caderneta de poupan\\u00e7a\",\"N\\u00e3o conhece nenhum tipo de investimento/ N\\u00e3o utiliza nenhum/ N\\u00e3o pretende continuar investindo\",\"Caderneta de poupan\\u00e7a\",\"Caderneta de poupan\\u00e7a\",\"N\\u00e3o conhece nenhum tipo de investimento/ N\\u00e3o utiliza nenhum/ N\\u00e3o pretende continuar investindo\",\"Caderneta de poupan\\u00e7a\",\"Caderneta de poupan\\u00e7a\",\"Caderneta de poupan\\u00e7a\",\"N\\u00e3o conhece nenhum tipo de investimento/ N\\u00e3o utiliza nenhum/ N\\u00e3o pretende continuar investindo\",\"Outras respostas\",\"Caderneta de poupan\\u00e7a\",\"N\\u00e3o conhece nenhum tipo de investimento/ N\\u00e3o utiliza nenhum/ N\\u00e3o pretende continuar investindo\",\"Caderneta de poupan\\u00e7a\",\"Caderneta de poupan\\u00e7a\",\"Caderneta de poupan\\u00e7a\",\"Outras respostas\",\"Caderneta de poupan\\u00e7a\",\"N\\u00e3o conhece nenhum tipo de investimento/ N\\u00e3o utiliza nenhum/ N\\u00e3o pretende continuar investindo\",\"Caderneta de poupan\\u00e7a\",\"Caderneta de poupan\\u00e7a\",\"Outras respostas\",\"Outras respostas\",\"Caderneta de poupan\\u00e7a\",\"Outras respostas\",\"N\\u00e3o conhece nenhum tipo de investimento/ N\\u00e3o utiliza nenhum/ N\\u00e3o pretende continuar investindo\",\"N\\u00e3o conhece nenhum tipo de investimento/ N\\u00e3o utiliza nenhum/ N\\u00e3o pretende continuar investindo\",\"N\\u00e3o conhece nenhum tipo de investimento/ N\\u00e3o utiliza nenhum/ N\\u00e3o pretende continuar investindo\",\"Outras respostas\",\"Caderneta de poupan\\u00e7a\",\"N\\u00e3o conhece nenhum tipo de investimento/ N\\u00e3o utiliza nenhum/ N\\u00e3o pretende continuar investindo\",\"N\\u00e3o conhece nenhum tipo de investimento/ N\\u00e3o utiliza nenhum/ N\\u00e3o pretende continuar investindo\",\"N\\u00e3o conhece nenhum tipo de investimento/ N\\u00e3o utiliza nenhum/ N\\u00e3o pretende continuar investindo\",\"Outras respostas\",\"Caderneta de poupan\\u00e7a\",\"N\\u00e3o conhece nenhum tipo de investimento/ N\\u00e3o utiliza nenhum/ N\\u00e3o pretende continuar investindo\",\"N\\u00e3o conhece nenhum tipo de investimento/ N\\u00e3o utiliza nenhum/ N\\u00e3o pretende continuar investindo\",\"N\\u00e3o conhece nenhum tipo de investimento/ N\\u00e3o utiliza nenhum/ N\\u00e3o pretende continuar investindo\",\"N\\u00e3o conhece nenhum tipo de investimento/ N\\u00e3o utiliza nenhum/ N\\u00e3o pretende continuar investindo\",\"N\\u00e3o conhece nenhum tipo de investimento/ N\\u00e3o utiliza nenhum/ N\\u00e3o pretende continuar investindo\",\"Caderneta de poupan\\u00e7a\",\"N\\u00e3o conhece nenhum tipo de investimento/ N\\u00e3o utiliza nenhum/ N\\u00e3o pretende continuar investindo\",\"N\\u00e3o conhece nenhum tipo de investimento/ N\\u00e3o utiliza nenhum/ N\\u00e3o pretende continuar investindo\",\"N\\u00e3o conhece nenhum tipo de investimento/ N\\u00e3o utiliza nenhum/ N\\u00e3o pretende continuar investindo\",\"Caderneta de poupan\\u00e7a\",\"Caderneta de poupan\\u00e7a\",\"Outras respostas\",\"Outras respostas\",\"Outras respostas\",\"N\\u00e3o conhece nenhum tipo de investimento/ N\\u00e3o utiliza nenhum/ N\\u00e3o pretende continuar investindo\",\"N\\u00e3o conhece nenhum tipo de investimento/ N\\u00e3o utiliza nenhum/ N\\u00e3o pretende continuar investindo\",\"Outras respostas\",\"Caderneta de poupan\\u00e7a\",\"Outras respostas\",\"N\\u00e3o conhece nenhum tipo de investimento/ N\\u00e3o utiliza nenhum/ N\\u00e3o pretende continuar investindo\",\"Outras respostas\",\"Outras respostas\",\"Caderneta de poupan\\u00e7a\",\"Outras respostas\",\"Outras respostas\",\"Caderneta de poupan\\u00e7a\",\"Caderneta de poupan\\u00e7a\",\"Caderneta de poupan\\u00e7a\",\"Outras respostas\",\"Outras respostas\",\"Caderneta de poupan\\u00e7a\",\"Outras respostas\",\"N\\u00e3o conhece nenhum tipo de investimento/ N\\u00e3o utiliza nenhum/ N\\u00e3o pretende continuar investindo\",\"Outras respostas\",\"Caderneta de poupan\\u00e7a\",\"Caderneta de poupan\\u00e7a\",\"Caderneta de poupan\\u00e7a\",\"Caderneta de poupan\\u00e7a\",\"N\\u00e3o conhece nenhum tipo de investimento/ N\\u00e3o utiliza nenhum/ N\\u00e3o pretende continuar investindo\",\"N\\u00e3o conhece nenhum tipo de investimento/ N\\u00e3o utiliza nenhum/ N\\u00e3o pretende continuar investindo\",\"N\\u00e3o conhece nenhum tipo de investimento/ N\\u00e3o utiliza nenhum/ N\\u00e3o pretende continuar investindo\",\"N\\u00e3o conhece nenhum tipo de investimento/ N\\u00e3o utiliza nenhum/ N\\u00e3o pretende continuar investindo\",\"Caderneta de poupan\\u00e7a\",\"N\\u00e3o conhece nenhum tipo de investimento/ N\\u00e3o utiliza nenhum/ N\\u00e3o pretende continuar investindo\",\"Outras respostas\",\"N\\u00e3o conhece nenhum tipo de investimento/ N\\u00e3o utiliza nenhum/ N\\u00e3o pretende continuar investindo\",\"N\\u00e3o conhece nenhum tipo de investimento/ N\\u00e3o utiliza nenhum/ N\\u00e3o pretende continuar investindo\",\"Caderneta de poupan\\u00e7a\",\"Outras respostas\",\"Outras respostas\",\"Caderneta de poupan\\u00e7a\",\"Caderneta de poupan\\u00e7a\",\"Caderneta de poupan\\u00e7a\",\"Outras respostas\",\"Caderneta de poupan\\u00e7a\",\"Caderneta de poupan\\u00e7a\",\"Caderneta de poupan\\u00e7a\",\"Caderneta de poupan\\u00e7a\",\"Caderneta de poupan\\u00e7a\",\"Outras respostas\",\"Outras respostas\",\"N\\u00e3o conhece nenhum tipo de investimento/ N\\u00e3o utiliza nenhum/ N\\u00e3o pretende continuar investindo\",\"Outras respostas\",\"Caderneta de poupan\\u00e7a\",\"Outras respostas\",\"N\\u00e3o conhece nenhum tipo de investimento/ N\\u00e3o utiliza nenhum/ N\\u00e3o pretende continuar investindo\",\"N\\u00e3o conhece nenhum tipo de investimento/ N\\u00e3o utiliza nenhum/ N\\u00e3o pretende continuar investindo\",\"Caderneta de poupan\\u00e7a\",\"Caderneta de poupan\\u00e7a\",\"Caderneta de poupan\\u00e7a\",\"N\\u00e3o conhece nenhum tipo de investimento/ N\\u00e3o utiliza nenhum/ N\\u00e3o pretende continuar investindo\",\"Caderneta de poupan\\u00e7a\",\"Caderneta de poupan\\u00e7a\",\"Caderneta de poupan\\u00e7a\",\"Caderneta de poupan\\u00e7a\",\"Caderneta de poupan\\u00e7a\",\"Caderneta de poupan\\u00e7a\",\"Caderneta de poupan\\u00e7a\",\"N\\u00e3o conhece nenhum tipo de investimento/ N\\u00e3o utiliza nenhum/ N\\u00e3o pretende continuar investindo\",\"Caderneta de poupan\\u00e7a\",\"N\\u00e3o conhece nenhum tipo de investimento/ N\\u00e3o utiliza nenhum/ N\\u00e3o pretende continuar investindo\",\"N\\u00e3o conhece nenhum tipo de investimento/ N\\u00e3o utiliza nenhum/ N\\u00e3o pretende continuar investindo\",\"N\\u00e3o conhece nenhum tipo de investimento/ N\\u00e3o utiliza nenhum/ N\\u00e3o pretende continuar investindo\",\"Caderneta de poupan\\u00e7a\",\"Caderneta de poupan\\u00e7a\",\"Caderneta de poupan\\u00e7a\",\"Caderneta de poupan\\u00e7a\",\"N\\u00e3o conhece nenhum tipo de investimento/ N\\u00e3o utiliza nenhum/ N\\u00e3o pretende continuar investindo\",\"Outras respostas\",\"Caderneta de poupan\\u00e7a\",\"Outras respostas\",\"Caderneta de poupan\\u00e7a\",\"N\\u00e3o conhece nenhum tipo de investimento/ N\\u00e3o utiliza nenhum/ N\\u00e3o pretende continuar investindo\",\"Caderneta de poupan\\u00e7a\",\"Caderneta de poupan\\u00e7a\",\"Outras respostas\",\"N\\u00e3o conhece nenhum tipo de investimento/ N\\u00e3o utiliza nenhum/ N\\u00e3o pretende continuar investindo\",\"N\\u00e3o conhece nenhum tipo de investimento/ N\\u00e3o utiliza nenhum/ N\\u00e3o pretende continuar investindo\",\"Caderneta de poupan\\u00e7a\",\"Caderneta de poupan\\u00e7a\",\"N\\u00e3o conhece nenhum tipo de investimento/ N\\u00e3o utiliza nenhum/ N\\u00e3o pretende continuar investindo\",\"N\\u00e3o conhece nenhum tipo de investimento/ N\\u00e3o utiliza nenhum/ N\\u00e3o pretende continuar investindo\",\"Outras respostas\",\"Outras respostas\",\"Caderneta de poupan\\u00e7a\",\"Outras respostas\",\"Outras respostas\",\"Caderneta de poupan\\u00e7a\",\"Caderneta de poupan\\u00e7a\",\"N\\u00e3o conhece nenhum tipo de investimento/ N\\u00e3o utiliza nenhum/ N\\u00e3o pretende continuar investindo\",\"N\\u00e3o conhece nenhum tipo de investimento/ N\\u00e3o utiliza nenhum/ N\\u00e3o pretende continuar investindo\",\"N\\u00e3o conhece nenhum tipo de investimento/ N\\u00e3o utiliza nenhum/ N\\u00e3o pretende continuar investindo\",\"Caderneta de poupan\\u00e7a\",\"Outras respostas\",\"Outras respostas\",\"Outras respostas\",\"Outras respostas\",\"Caderneta de poupan\\u00e7a\",\"N\\u00e3o conhece nenhum tipo de investimento/ N\\u00e3o utiliza nenhum/ N\\u00e3o pretende continuar investindo\",\"Outras respostas\",\"Outras respostas\",\"Caderneta de poupan\\u00e7a\",\"Outras respostas\",\"Caderneta de poupan\\u00e7a\",\"Outras respostas\",\"Caderneta de poupan\\u00e7a\",\"Caderneta de poupan\\u00e7a\",\"Caderneta de poupan\\u00e7a\",\"Outras respostas\",\"Outras respostas\",\"Caderneta de poupan\\u00e7a\",\"Caderneta de poupan\\u00e7a\",\"N\\u00e3o conhece nenhum tipo de investimento/ N\\u00e3o utiliza nenhum/ N\\u00e3o pretende continuar investindo\",\"Outras respostas\",\"Caderneta de poupan\\u00e7a\",\"Caderneta de poupan\\u00e7a\",\"N\\u00e3o conhece nenhum tipo de investimento/ N\\u00e3o utiliza nenhum/ N\\u00e3o pretende continuar investindo\",\"Outras respostas\",\"Outras respostas\",\"Caderneta de poupan\\u00e7a\",\"Caderneta de poupan\\u00e7a\",\"N\\u00e3o conhece nenhum tipo de investimento/ N\\u00e3o utiliza nenhum/ N\\u00e3o pretende continuar investindo\",\"Caderneta de poupan\\u00e7a\",\"Caderneta de poupan\\u00e7a\",\"Caderneta de poupan\\u00e7a\",\"N\\u00e3o conhece nenhum tipo de investimento/ N\\u00e3o utiliza nenhum/ N\\u00e3o pretende continuar investindo\",\"Caderneta de poupan\\u00e7a\",\"Caderneta de poupan\\u00e7a\",\"N\\u00e3o conhece nenhum tipo de investimento/ N\\u00e3o utiliza nenhum/ N\\u00e3o pretende continuar investindo\",\"Caderneta de poupan\\u00e7a\",\"Outras respostas\",\"Outras respostas\",\"Caderneta de poupan\\u00e7a\",\"Caderneta de poupan\\u00e7a\",\"Caderneta de poupan\\u00e7a\",\"Caderneta de poupan\\u00e7a\",\"Caderneta de poupan\\u00e7a\",\"N\\u00e3o conhece nenhum tipo de investimento/ N\\u00e3o utiliza nenhum/ N\\u00e3o pretende continuar investindo\",\"Caderneta de poupan\\u00e7a\",\"Outras respostas\",\"Caderneta de poupan\\u00e7a\",\"Caderneta de poupan\\u00e7a\",\"N\\u00e3o conhece nenhum tipo de investimento/ N\\u00e3o utiliza nenhum/ N\\u00e3o pretende continuar investindo\",\"Outras respostas\",\"N\\u00e3o conhece nenhum tipo de investimento/ N\\u00e3o utiliza nenhum/ N\\u00e3o pretende continuar investindo\",\"Outras respostas\",\"Caderneta de poupan\\u00e7a\",\"Caderneta de poupan\\u00e7a\",\"Outras respostas\",\"Caderneta de poupan\\u00e7a\",\"Outras respostas\",\"Caderneta de poupan\\u00e7a\",\"N\\u00e3o conhece nenhum tipo de investimento/ N\\u00e3o utiliza nenhum/ N\\u00e3o pretende continuar investindo\",\"N\\u00e3o conhece nenhum tipo de investimento/ N\\u00e3o utiliza nenhum/ N\\u00e3o pretende continuar investindo\",\"Caderneta de poupan\\u00e7a\",\"N\\u00e3o conhece nenhum tipo de investimento/ N\\u00e3o utiliza nenhum/ N\\u00e3o pretende continuar investindo\",\"Caderneta de poupan\\u00e7a\",\"Caderneta de poupan\\u00e7a\",\"Outras respostas\",\"N\\u00e3o conhece nenhum tipo de investimento/ N\\u00e3o utiliza nenhum/ N\\u00e3o pretende continuar investindo\",\"N\\u00e3o conhece nenhum tipo de investimento/ N\\u00e3o utiliza nenhum/ N\\u00e3o pretende continuar investindo\",\"Outras respostas\",\"N\\u00e3o conhece nenhum tipo de investimento/ N\\u00e3o utiliza nenhum/ N\\u00e3o pretende continuar investindo\",\"Caderneta de poupan\\u00e7a\",\"Caderneta de poupan\\u00e7a\",\"Outras respostas\",\"Caderneta de poupan\\u00e7a\",\"Caderneta de poupan\\u00e7a\",\"Outras respostas\",\"Caderneta de poupan\\u00e7a\",\"Caderneta de poupan\\u00e7a\",\"N\\u00e3o conhece nenhum tipo de investimento/ N\\u00e3o utiliza nenhum/ N\\u00e3o pretende continuar investindo\",\"N\\u00e3o conhece nenhum tipo de investimento/ N\\u00e3o utiliza nenhum/ N\\u00e3o pretende continuar investindo\",\"N\\u00e3o conhece nenhum tipo de investimento/ N\\u00e3o utiliza nenhum/ N\\u00e3o pretende continuar investindo\",\"Outras respostas\",\"Caderneta de poupan\\u00e7a\",\"Outras respostas\",\"N\\u00e3o conhece nenhum tipo de investimento/ N\\u00e3o utiliza nenhum/ N\\u00e3o pretende continuar investindo\",\"Caderneta de poupan\\u00e7a\",\"Caderneta de poupan\\u00e7a\",\"N\\u00e3o conhece nenhum tipo de investimento/ N\\u00e3o utiliza nenhum/ N\\u00e3o pretende continuar investindo\",\"Caderneta de poupan\\u00e7a\",\"Outras respostas\",\"N\\u00e3o conhece nenhum tipo de investimento/ N\\u00e3o utiliza nenhum/ N\\u00e3o pretende continuar investindo\",\"N\\u00e3o conhece nenhum tipo de investimento/ N\\u00e3o utiliza nenhum/ N\\u00e3o pretende continuar investindo\",\"Caderneta de poupan\\u00e7a\",\"Outras respostas\",\"Caderneta de poupan\\u00e7a\",\"Outras respostas\",\"N\\u00e3o conhece nenhum tipo de investimento/ N\\u00e3o utiliza nenhum/ N\\u00e3o pretende continuar investindo\",\"Caderneta de poupan\\u00e7a\",\"N\\u00e3o conhece nenhum tipo de investimento/ N\\u00e3o utiliza nenhum/ N\\u00e3o pretende continuar investindo\",\"N\\u00e3o conhece nenhum tipo de investimento/ N\\u00e3o utiliza nenhum/ N\\u00e3o pretende continuar investindo\",\"Outras respostas\",\"Caderneta de poupan\\u00e7a\",\"Caderneta de poupan\\u00e7a\",\"N\\u00e3o conhece nenhum tipo de investimento/ N\\u00e3o utiliza nenhum/ N\\u00e3o pretende continuar investindo\",\"Caderneta de poupan\\u00e7a\",\"Caderneta de poupan\\u00e7a\",\"N\\u00e3o conhece nenhum tipo de investimento/ N\\u00e3o utiliza nenhum/ N\\u00e3o pretende continuar investindo\",\"Outras respostas\",\"Caderneta de poupan\\u00e7a\",\"N\\u00e3o conhece nenhum tipo de investimento/ N\\u00e3o utiliza nenhum/ N\\u00e3o pretende continuar investindo\",\"N\\u00e3o conhece nenhum tipo de investimento/ N\\u00e3o utiliza nenhum/ N\\u00e3o pretende continuar investindo\",\"N\\u00e3o conhece nenhum tipo de investimento/ N\\u00e3o utiliza nenhum/ N\\u00e3o pretende continuar investindo\",\"N\\u00e3o conhece nenhum tipo de investimento/ N\\u00e3o utiliza nenhum/ N\\u00e3o pretende continuar investindo\",\"Caderneta de poupan\\u00e7a\",\"N\\u00e3o conhece nenhum tipo de investimento/ N\\u00e3o utiliza nenhum/ N\\u00e3o pretende continuar investindo\",\"Caderneta de poupan\\u00e7a\",\"Outras respostas\",\"N\\u00e3o conhece nenhum tipo de investimento/ N\\u00e3o utiliza nenhum/ N\\u00e3o pretende continuar investindo\",\"Caderneta de poupan\\u00e7a\",\"N\\u00e3o conhece nenhum tipo de investimento/ N\\u00e3o utiliza nenhum/ N\\u00e3o pretende continuar investindo\",\"N\\u00e3o conhece nenhum tipo de investimento/ N\\u00e3o utiliza nenhum/ N\\u00e3o pretende continuar investindo\",\"Caderneta de poupan\\u00e7a\",\"N\\u00e3o conhece nenhum tipo de investimento/ N\\u00e3o utiliza nenhum/ N\\u00e3o pretende continuar investindo\",\"N\\u00e3o conhece nenhum tipo de investimento/ N\\u00e3o utiliza nenhum/ N\\u00e3o pretende continuar investindo\",\"Outras respostas\",\"Outras respostas\",\"N\\u00e3o conhece nenhum tipo de investimento/ N\\u00e3o utiliza nenhum/ N\\u00e3o pretende continuar investindo\",\"Outras respostas\",\"Outras respostas\",\"Caderneta de poupan\\u00e7a\",\"Caderneta de poupan\\u00e7a\",\"Outras respostas\",\"N\\u00e3o conhece nenhum tipo de investimento/ N\\u00e3o utiliza nenhum/ N\\u00e3o pretende continuar investindo\",\"N\\u00e3o conhece nenhum tipo de investimento/ N\\u00e3o utiliza nenhum/ N\\u00e3o pretende continuar investindo\",\"Outras respostas\",\"N\\u00e3o conhece nenhum tipo de investimento/ N\\u00e3o utiliza nenhum/ N\\u00e3o pretende continuar investindo\",\"Outras respostas\",\"N\\u00e3o conhece nenhum tipo de investimento/ N\\u00e3o utiliza nenhum/ N\\u00e3o pretende continuar investindo\",\"Caderneta de poupan\\u00e7a\",\"Outras respostas\",\"Outras respostas\",\"Outras respostas\",\"Caderneta de poupan\\u00e7a\",\"Outras respostas\",\"N\\u00e3o conhece nenhum tipo de investimento/ N\\u00e3o utiliza nenhum/ N\\u00e3o pretende continuar investindo\",\"Outras respostas\",\"Caderneta de poupan\\u00e7a\",\"N\\u00e3o conhece nenhum tipo de investimento/ N\\u00e3o utiliza nenhum/ N\\u00e3o pretende continuar investindo\",\"N\\u00e3o conhece nenhum tipo de investimento/ N\\u00e3o utiliza nenhum/ N\\u00e3o pretende continuar investindo\",\"Outras respostas\",\"Caderneta de poupan\\u00e7a\",\"N\\u00e3o conhece nenhum tipo de investimento/ N\\u00e3o utiliza nenhum/ N\\u00e3o pretende continuar investindo\",\"Caderneta de poupan\\u00e7a\",\"Outras respostas\",\"N\\u00e3o conhece nenhum tipo de investimento/ N\\u00e3o utiliza nenhum/ N\\u00e3o pretende continuar investindo\",\"Caderneta de poupan\\u00e7a\",\"Outras respostas\",\"N\\u00e3o conhece nenhum tipo de investimento/ N\\u00e3o utiliza nenhum/ N\\u00e3o pretende continuar investindo\",\"Outras respostas\",\"N\\u00e3o conhece nenhum tipo de investimento/ N\\u00e3o utiliza nenhum/ N\\u00e3o pretende continuar investindo\",\"N\\u00e3o conhece nenhum tipo de investimento/ N\\u00e3o utiliza nenhum/ N\\u00e3o pretende continuar investindo\",\"Outras respostas\",\"N\\u00e3o conhece nenhum tipo de investimento/ N\\u00e3o utiliza nenhum/ N\\u00e3o pretende continuar investindo\",\"Outras respostas\",\"Outras respostas\",\"N\\u00e3o conhece nenhum tipo de investimento/ N\\u00e3o utiliza nenhum/ N\\u00e3o pretende continuar investindo\",\"N\\u00e3o conhece nenhum tipo de investimento/ N\\u00e3o utiliza nenhum/ N\\u00e3o pretende continuar investindo\",\"Caderneta de poupan\\u00e7a\",\"N\\u00e3o conhece nenhum tipo de investimento/ N\\u00e3o utiliza nenhum/ N\\u00e3o pretende continuar investindo\",\"N\\u00e3o conhece nenhum tipo de investimento/ N\\u00e3o utiliza nenhum/ N\\u00e3o pretende continuar investindo\",\"Outras respostas\",\"Outras respostas\",\"Outras respostas\",\"N\\u00e3o conhece nenhum tipo de investimento/ N\\u00e3o utiliza nenhum/ N\\u00e3o pretende continuar investindo\",\"Caderneta de poupan\\u00e7a\",\"Caderneta de poupan\\u00e7a\",\"Caderneta de poupan\\u00e7a\",\"Caderneta de poupan\\u00e7a\",\"Caderneta de poupan\\u00e7a\",\"N\\u00e3o conhece nenhum tipo de investimento/ N\\u00e3o utiliza nenhum/ N\\u00e3o pretende continuar investindo\",\"Caderneta de poupan\\u00e7a\",\"N\\u00e3o conhece nenhum tipo de investimento/ N\\u00e3o utiliza nenhum/ N\\u00e3o pretende continuar investindo\",\"N\\u00e3o conhece nenhum tipo de investimento/ N\\u00e3o utiliza nenhum/ N\\u00e3o pretende continuar investindo\",\"Outras respostas\",\"Outras respostas\",\"N\\u00e3o conhece nenhum tipo de investimento/ N\\u00e3o utiliza nenhum/ N\\u00e3o pretende continuar investindo\",\"N\\u00e3o conhece nenhum tipo de investimento/ N\\u00e3o utiliza nenhum/ N\\u00e3o pretende continuar investindo\",\"N\\u00e3o conhece nenhum tipo de investimento/ N\\u00e3o utiliza nenhum/ N\\u00e3o pretende continuar investindo\",\"Outras respostas\",\"N\\u00e3o conhece nenhum tipo de investimento/ N\\u00e3o utiliza nenhum/ N\\u00e3o pretende continuar investindo\",\"Caderneta de poupan\\u00e7a\",\"Caderneta de poupan\\u00e7a\",\"Outras respostas\",\"Caderneta de poupan\\u00e7a\",\"Caderneta de poupan\\u00e7a\",\"Outras respostas\",\"Caderneta de poupan\\u00e7a\",\"Caderneta de poupan\\u00e7a\",\"N\\u00e3o conhece nenhum tipo de investimento/ N\\u00e3o utiliza nenhum/ N\\u00e3o pretende continuar investindo\",\"Outras respostas\",\"N\\u00e3o conhece nenhum tipo de investimento/ N\\u00e3o utiliza nenhum/ N\\u00e3o pretende continuar investindo\",\"Caderneta de poupan\\u00e7a\",\"Outras respostas\",\"N\\u00e3o conhece nenhum tipo de investimento/ N\\u00e3o utiliza nenhum/ N\\u00e3o pretende continuar investindo\"],\"legendgroup\":\"\",\"marker\":{\"colors\":[\"#150035\",\"#5E96EC\",\"#FDE443\",\"#150035\",\"#150035\",\"#150035\",\"#FDE443\",\"#FDE443\",\"#FDE443\",\"#FDE443\",\"#150035\",\"#150035\",\"#150035\",\"#150035\",\"#150035\",\"#150035\",\"#FDE443\",\"#FDE443\",\"#FDE443\",\"#FDE443\",\"#5E96EC\",\"#5E96EC\",\"#5E96EC\",\"#FDE443\",\"#5E96EC\",\"#FDE443\",\"#FDE443\",\"#150035\",\"#5E96EC\",\"#FDE443\",\"#150035\",\"#FDE443\",\"#5E96EC\",\"#5E96EC\",\"#150035\",\"#150035\",\"#FDE443\",\"#150035\",\"#150035\",\"#150035\",\"#150035\",\"#150035\",\"#5E96EC\",\"#5E96EC\",\"#5E96EC\",\"#150035\",\"#150035\",\"#5E96EC\",\"#FDE443\",\"#5E96EC\",\"#150035\",\"#FDE443\",\"#5E96EC\",\"#FDE443\",\"#5E96EC\",\"#5E96EC\",\"#FDE443\",\"#150035\",\"#150035\",\"#5E96EC\",\"#FDE443\",\"#5E96EC\",\"#FDE443\",\"#5E96EC\",\"#FDE443\",\"#5E96EC\",\"#150035\",\"#5E96EC\",\"#FDE443\",\"#5E96EC\",\"#150035\",\"#5E96EC\",\"#5E96EC\",\"#5E96EC\",\"#5E96EC\",\"#150035\",\"#5E96EC\",\"#150035\",\"#5E96EC\",\"#5E96EC\",\"#5E96EC\",\"#FDE443\",\"#FDE443\",\"#FDE443\",\"#FDE443\",\"#150035\",\"#5E96EC\",\"#150035\",\"#5E96EC\",\"#150035\",\"#150035\",\"#5E96EC\",\"#150035\",\"#150035\",\"#150035\",\"#5E96EC\",\"#FDE443\",\"#150035\",\"#5E96EC\",\"#150035\",\"#150035\",\"#150035\",\"#FDE443\",\"#150035\",\"#5E96EC\",\"#150035\",\"#150035\",\"#FDE443\",\"#FDE443\",\"#150035\",\"#FDE443\",\"#5E96EC\",\"#5E96EC\",\"#5E96EC\",\"#FDE443\",\"#150035\",\"#5E96EC\",\"#5E96EC\",\"#5E96EC\",\"#FDE443\",\"#150035\",\"#5E96EC\",\"#5E96EC\",\"#5E96EC\",\"#5E96EC\",\"#5E96EC\",\"#150035\",\"#5E96EC\",\"#5E96EC\",\"#5E96EC\",\"#150035\",\"#150035\",\"#FDE443\",\"#FDE443\",\"#FDE443\",\"#5E96EC\",\"#5E96EC\",\"#FDE443\",\"#150035\",\"#FDE443\",\"#5E96EC\",\"#FDE443\",\"#FDE443\",\"#150035\",\"#FDE443\",\"#FDE443\",\"#150035\",\"#150035\",\"#150035\",\"#FDE443\",\"#FDE443\",\"#150035\",\"#FDE443\",\"#5E96EC\",\"#FDE443\",\"#150035\",\"#150035\",\"#150035\",\"#150035\",\"#5E96EC\",\"#5E96EC\",\"#5E96EC\",\"#5E96EC\",\"#150035\",\"#5E96EC\",\"#FDE443\",\"#5E96EC\",\"#5E96EC\",\"#150035\",\"#FDE443\",\"#FDE443\",\"#150035\",\"#150035\",\"#150035\",\"#FDE443\",\"#150035\",\"#150035\",\"#150035\",\"#150035\",\"#150035\",\"#FDE443\",\"#FDE443\",\"#5E96EC\",\"#FDE443\",\"#150035\",\"#FDE443\",\"#5E96EC\",\"#5E96EC\",\"#150035\",\"#150035\",\"#150035\",\"#5E96EC\",\"#150035\",\"#150035\",\"#150035\",\"#150035\",\"#150035\",\"#150035\",\"#150035\",\"#5E96EC\",\"#150035\",\"#5E96EC\",\"#5E96EC\",\"#5E96EC\",\"#150035\",\"#150035\",\"#150035\",\"#150035\",\"#5E96EC\",\"#FDE443\",\"#150035\",\"#FDE443\",\"#150035\",\"#5E96EC\",\"#150035\",\"#150035\",\"#FDE443\",\"#5E96EC\",\"#5E96EC\",\"#150035\",\"#150035\",\"#5E96EC\",\"#5E96EC\",\"#FDE443\",\"#FDE443\",\"#150035\",\"#FDE443\",\"#FDE443\",\"#150035\",\"#150035\",\"#5E96EC\",\"#5E96EC\",\"#5E96EC\",\"#150035\",\"#FDE443\",\"#FDE443\",\"#FDE443\",\"#FDE443\",\"#150035\",\"#5E96EC\",\"#FDE443\",\"#FDE443\",\"#150035\",\"#FDE443\",\"#150035\",\"#FDE443\",\"#150035\",\"#150035\",\"#150035\",\"#FDE443\",\"#FDE443\",\"#150035\",\"#150035\",\"#5E96EC\",\"#FDE443\",\"#150035\",\"#150035\",\"#5E96EC\",\"#FDE443\",\"#FDE443\",\"#150035\",\"#150035\",\"#5E96EC\",\"#150035\",\"#150035\",\"#150035\",\"#5E96EC\",\"#150035\",\"#150035\",\"#5E96EC\",\"#150035\",\"#FDE443\",\"#FDE443\",\"#150035\",\"#150035\",\"#150035\",\"#150035\",\"#150035\",\"#5E96EC\",\"#150035\",\"#FDE443\",\"#150035\",\"#150035\",\"#5E96EC\",\"#FDE443\",\"#5E96EC\",\"#FDE443\",\"#150035\",\"#150035\",\"#FDE443\",\"#150035\",\"#FDE443\",\"#150035\",\"#5E96EC\",\"#5E96EC\",\"#150035\",\"#5E96EC\",\"#150035\",\"#150035\",\"#FDE443\",\"#5E96EC\",\"#5E96EC\",\"#FDE443\",\"#5E96EC\",\"#150035\",\"#150035\",\"#FDE443\",\"#150035\",\"#150035\",\"#FDE443\",\"#150035\",\"#150035\",\"#5E96EC\",\"#5E96EC\",\"#5E96EC\",\"#FDE443\",\"#150035\",\"#FDE443\",\"#5E96EC\",\"#150035\",\"#150035\",\"#5E96EC\",\"#150035\",\"#FDE443\",\"#5E96EC\",\"#5E96EC\",\"#150035\",\"#FDE443\",\"#150035\",\"#FDE443\",\"#5E96EC\",\"#150035\",\"#5E96EC\",\"#5E96EC\",\"#FDE443\",\"#150035\",\"#150035\",\"#5E96EC\",\"#150035\",\"#150035\",\"#5E96EC\",\"#FDE443\",\"#150035\",\"#5E96EC\",\"#5E96EC\",\"#5E96EC\",\"#5E96EC\",\"#150035\",\"#5E96EC\",\"#150035\",\"#FDE443\",\"#5E96EC\",\"#150035\",\"#5E96EC\",\"#5E96EC\",\"#150035\",\"#5E96EC\",\"#5E96EC\",\"#FDE443\",\"#FDE443\",\"#5E96EC\",\"#FDE443\",\"#FDE443\",\"#150035\",\"#150035\",\"#FDE443\",\"#5E96EC\",\"#5E96EC\",\"#FDE443\",\"#5E96EC\",\"#FDE443\",\"#5E96EC\",\"#150035\",\"#FDE443\",\"#FDE443\",\"#FDE443\",\"#150035\",\"#FDE443\",\"#5E96EC\",\"#FDE443\",\"#150035\",\"#5E96EC\",\"#5E96EC\",\"#FDE443\",\"#150035\",\"#5E96EC\",\"#150035\",\"#FDE443\",\"#5E96EC\",\"#150035\",\"#FDE443\",\"#5E96EC\",\"#FDE443\",\"#5E96EC\",\"#5E96EC\",\"#FDE443\",\"#5E96EC\",\"#FDE443\",\"#FDE443\",\"#5E96EC\",\"#5E96EC\",\"#150035\",\"#5E96EC\",\"#5E96EC\",\"#FDE443\",\"#FDE443\",\"#FDE443\",\"#5E96EC\",\"#150035\",\"#150035\",\"#150035\",\"#150035\",\"#150035\",\"#5E96EC\",\"#150035\",\"#5E96EC\",\"#5E96EC\",\"#FDE443\",\"#FDE443\",\"#5E96EC\",\"#5E96EC\",\"#5E96EC\",\"#FDE443\",\"#5E96EC\",\"#150035\",\"#150035\",\"#FDE443\",\"#150035\",\"#150035\",\"#FDE443\",\"#150035\",\"#150035\",\"#5E96EC\",\"#FDE443\",\"#5E96EC\",\"#150035\",\"#FDE443\",\"#5E96EC\"]},\"name\":\"\",\"showlegend\":true,\"type\":\"pie\"}],                        {\"template\":{\"data\":{\"bar\":[{\"error_x\":{\"color\":\"#2a3f5f\"},\"error_y\":{\"color\":\"#2a3f5f\"},\"marker\":{\"line\":{\"color\":\"#E5ECF6\",\"width\":0.5},\"pattern\":{\"fillmode\":\"overlay\",\"size\":10,\"solidity\":0.2}},\"type\":\"bar\"}],\"barpolar\":[{\"marker\":{\"line\":{\"color\":\"#E5ECF6\",\"width\":0.5},\"pattern\":{\"fillmode\":\"overlay\",\"size\":10,\"solidity\":0.2}},\"type\":\"barpolar\"}],\"carpet\":[{\"aaxis\":{\"endlinecolor\":\"#2a3f5f\",\"gridcolor\":\"white\",\"linecolor\":\"white\",\"minorgridcolor\":\"white\",\"startlinecolor\":\"#2a3f5f\"},\"baxis\":{\"endlinecolor\":\"#2a3f5f\",\"gridcolor\":\"white\",\"linecolor\":\"white\",\"minorgridcolor\":\"white\",\"startlinecolor\":\"#2a3f5f\"},\"type\":\"carpet\"}],\"choropleth\":[{\"colorbar\":{\"outlinewidth\":0,\"ticks\":\"\"},\"type\":\"choropleth\"}],\"contour\":[{\"colorbar\":{\"outlinewidth\":0,\"ticks\":\"\"},\"colorscale\":[[0.0,\"#0d0887\"],[0.1111111111111111,\"#46039f\"],[0.2222222222222222,\"#7201a8\"],[0.3333333333333333,\"#9c179e\"],[0.4444444444444444,\"#bd3786\"],[0.5555555555555556,\"#d8576b\"],[0.6666666666666666,\"#ed7953\"],[0.7777777777777778,\"#fb9f3a\"],[0.8888888888888888,\"#fdca26\"],[1.0,\"#f0f921\"]],\"type\":\"contour\"}],\"contourcarpet\":[{\"colorbar\":{\"outlinewidth\":0,\"ticks\":\"\"},\"type\":\"contourcarpet\"}],\"heatmap\":[{\"colorbar\":{\"outlinewidth\":0,\"ticks\":\"\"},\"colorscale\":[[0.0,\"#0d0887\"],[0.1111111111111111,\"#46039f\"],[0.2222222222222222,\"#7201a8\"],[0.3333333333333333,\"#9c179e\"],[0.4444444444444444,\"#bd3786\"],[0.5555555555555556,\"#d8576b\"],[0.6666666666666666,\"#ed7953\"],[0.7777777777777778,\"#fb9f3a\"],[0.8888888888888888,\"#fdca26\"],[1.0,\"#f0f921\"]],\"type\":\"heatmap\"}],\"heatmapgl\":[{\"colorbar\":{\"outlinewidth\":0,\"ticks\":\"\"},\"colorscale\":[[0.0,\"#0d0887\"],[0.1111111111111111,\"#46039f\"],[0.2222222222222222,\"#7201a8\"],[0.3333333333333333,\"#9c179e\"],[0.4444444444444444,\"#bd3786\"],[0.5555555555555556,\"#d8576b\"],[0.6666666666666666,\"#ed7953\"],[0.7777777777777778,\"#fb9f3a\"],[0.8888888888888888,\"#fdca26\"],[1.0,\"#f0f921\"]],\"type\":\"heatmapgl\"}],\"histogram\":[{\"marker\":{\"pattern\":{\"fillmode\":\"overlay\",\"size\":10,\"solidity\":0.2}},\"type\":\"histogram\"}],\"histogram2d\":[{\"colorbar\":{\"outlinewidth\":0,\"ticks\":\"\"},\"colorscale\":[[0.0,\"#0d0887\"],[0.1111111111111111,\"#46039f\"],[0.2222222222222222,\"#7201a8\"],[0.3333333333333333,\"#9c179e\"],[0.4444444444444444,\"#bd3786\"],[0.5555555555555556,\"#d8576b\"],[0.6666666666666666,\"#ed7953\"],[0.7777777777777778,\"#fb9f3a\"],[0.8888888888888888,\"#fdca26\"],[1.0,\"#f0f921\"]],\"type\":\"histogram2d\"}],\"histogram2dcontour\":[{\"colorbar\":{\"outlinewidth\":0,\"ticks\":\"\"},\"colorscale\":[[0.0,\"#0d0887\"],[0.1111111111111111,\"#46039f\"],[0.2222222222222222,\"#7201a8\"],[0.3333333333333333,\"#9c179e\"],[0.4444444444444444,\"#bd3786\"],[0.5555555555555556,\"#d8576b\"],[0.6666666666666666,\"#ed7953\"],[0.7777777777777778,\"#fb9f3a\"],[0.8888888888888888,\"#fdca26\"],[1.0,\"#f0f921\"]],\"type\":\"histogram2dcontour\"}],\"mesh3d\":[{\"colorbar\":{\"outlinewidth\":0,\"ticks\":\"\"},\"type\":\"mesh3d\"}],\"parcoords\":[{\"line\":{\"colorbar\":{\"outlinewidth\":0,\"ticks\":\"\"}},\"type\":\"parcoords\"}],\"pie\":[{\"automargin\":true,\"type\":\"pie\"}],\"scatter\":[{\"marker\":{\"colorbar\":{\"outlinewidth\":0,\"ticks\":\"\"}},\"type\":\"scatter\"}],\"scatter3d\":[{\"line\":{\"colorbar\":{\"outlinewidth\":0,\"ticks\":\"\"}},\"marker\":{\"colorbar\":{\"outlinewidth\":0,\"ticks\":\"\"}},\"type\":\"scatter3d\"}],\"scattercarpet\":[{\"marker\":{\"colorbar\":{\"outlinewidth\":0,\"ticks\":\"\"}},\"type\":\"scattercarpet\"}],\"scattergeo\":[{\"marker\":{\"colorbar\":{\"outlinewidth\":0,\"ticks\":\"\"}},\"type\":\"scattergeo\"}],\"scattergl\":[{\"marker\":{\"colorbar\":{\"outlinewidth\":0,\"ticks\":\"\"}},\"type\":\"scattergl\"}],\"scattermapbox\":[{\"marker\":{\"colorbar\":{\"outlinewidth\":0,\"ticks\":\"\"}},\"type\":\"scattermapbox\"}],\"scatterpolar\":[{\"marker\":{\"colorbar\":{\"outlinewidth\":0,\"ticks\":\"\"}},\"type\":\"scatterpolar\"}],\"scatterpolargl\":[{\"marker\":{\"colorbar\":{\"outlinewidth\":0,\"ticks\":\"\"}},\"type\":\"scatterpolargl\"}],\"scatterternary\":[{\"marker\":{\"colorbar\":{\"outlinewidth\":0,\"ticks\":\"\"}},\"type\":\"scatterternary\"}],\"surface\":[{\"colorbar\":{\"outlinewidth\":0,\"ticks\":\"\"},\"colorscale\":[[0.0,\"#0d0887\"],[0.1111111111111111,\"#46039f\"],[0.2222222222222222,\"#7201a8\"],[0.3333333333333333,\"#9c179e\"],[0.4444444444444444,\"#bd3786\"],[0.5555555555555556,\"#d8576b\"],[0.6666666666666666,\"#ed7953\"],[0.7777777777777778,\"#fb9f3a\"],[0.8888888888888888,\"#fdca26\"],[1.0,\"#f0f921\"]],\"type\":\"surface\"}],\"table\":[{\"cells\":{\"fill\":{\"color\":\"#EBF0F8\"},\"line\":{\"color\":\"white\"}},\"header\":{\"fill\":{\"color\":\"#C8D4E3\"},\"line\":{\"color\":\"white\"}},\"type\":\"table\"}]},\"layout\":{\"annotationdefaults\":{\"arrowcolor\":\"#2a3f5f\",\"arrowhead\":0,\"arrowwidth\":1},\"autotypenumbers\":\"strict\",\"coloraxis\":{\"colorbar\":{\"outlinewidth\":0,\"ticks\":\"\"}},\"colorscale\":{\"diverging\":[[0,\"#8e0152\"],[0.1,\"#c51b7d\"],[0.2,\"#de77ae\"],[0.3,\"#f1b6da\"],[0.4,\"#fde0ef\"],[0.5,\"#f7f7f7\"],[0.6,\"#e6f5d0\"],[0.7,\"#b8e186\"],[0.8,\"#7fbc41\"],[0.9,\"#4d9221\"],[1,\"#276419\"]],\"sequential\":[[0.0,\"#0d0887\"],[0.1111111111111111,\"#46039f\"],[0.2222222222222222,\"#7201a8\"],[0.3333333333333333,\"#9c179e\"],[0.4444444444444444,\"#bd3786\"],[0.5555555555555556,\"#d8576b\"],[0.6666666666666666,\"#ed7953\"],[0.7777777777777778,\"#fb9f3a\"],[0.8888888888888888,\"#fdca26\"],[1.0,\"#f0f921\"]],\"sequentialminus\":[[0.0,\"#0d0887\"],[0.1111111111111111,\"#46039f\"],[0.2222222222222222,\"#7201a8\"],[0.3333333333333333,\"#9c179e\"],[0.4444444444444444,\"#bd3786\"],[0.5555555555555556,\"#d8576b\"],[0.6666666666666666,\"#ed7953\"],[0.7777777777777778,\"#fb9f3a\"],[0.8888888888888888,\"#fdca26\"],[1.0,\"#f0f921\"]]},\"colorway\":[\"#636efa\",\"#EF553B\",\"#00cc96\",\"#ab63fa\",\"#FFA15A\",\"#19d3f3\",\"#FF6692\",\"#B6E880\",\"#FF97FF\",\"#FECB52\"],\"font\":{\"color\":\"#2a3f5f\"},\"geo\":{\"bgcolor\":\"white\",\"lakecolor\":\"white\",\"landcolor\":\"#E5ECF6\",\"showlakes\":true,\"showland\":true,\"subunitcolor\":\"white\"},\"hoverlabel\":{\"align\":\"left\"},\"hovermode\":\"closest\",\"mapbox\":{\"style\":\"light\"},\"paper_bgcolor\":\"white\",\"plot_bgcolor\":\"#E5ECF6\",\"polar\":{\"angularaxis\":{\"gridcolor\":\"white\",\"linecolor\":\"white\",\"ticks\":\"\"},\"bgcolor\":\"#E5ECF6\",\"radialaxis\":{\"gridcolor\":\"white\",\"linecolor\":\"white\",\"ticks\":\"\"}},\"scene\":{\"xaxis\":{\"backgroundcolor\":\"#E5ECF6\",\"gridcolor\":\"white\",\"gridwidth\":2,\"linecolor\":\"white\",\"showbackground\":true,\"ticks\":\"\",\"zerolinecolor\":\"white\"},\"yaxis\":{\"backgroundcolor\":\"#E5ECF6\",\"gridcolor\":\"white\",\"gridwidth\":2,\"linecolor\":\"white\",\"showbackground\":true,\"ticks\":\"\",\"zerolinecolor\":\"white\"},\"zaxis\":{\"backgroundcolor\":\"#E5ECF6\",\"gridcolor\":\"white\",\"gridwidth\":2,\"linecolor\":\"white\",\"showbackground\":true,\"ticks\":\"\",\"zerolinecolor\":\"white\"}},\"shapedefaults\":{\"line\":{\"color\":\"#2a3f5f\"}},\"ternary\":{\"aaxis\":{\"gridcolor\":\"white\",\"linecolor\":\"white\",\"ticks\":\"\"},\"baxis\":{\"gridcolor\":\"white\",\"linecolor\":\"white\",\"ticks\":\"\"},\"bgcolor\":\"#E5ECF6\",\"caxis\":{\"gridcolor\":\"white\",\"linecolor\":\"white\",\"ticks\":\"\"}},\"title\":{\"x\":0.05},\"xaxis\":{\"automargin\":true,\"gridcolor\":\"white\",\"linecolor\":\"white\",\"ticks\":\"\",\"title\":{\"standoff\":15},\"zerolinecolor\":\"white\",\"zerolinewidth\":2},\"yaxis\":{\"automargin\":true,\"gridcolor\":\"white\",\"linecolor\":\"white\",\"ticks\":\"\",\"title\":{\"standoff\":15},\"zerolinecolor\":\"white\",\"zerolinewidth\":2}}},\"legend\":{\"tracegroupgap\":0},\"title\":{\"text\":\"Investimentos onde os jovens entre 18 a 35 anos est\\u00e3o aplicando\"}},                        {\"responsive\": true}                    ).then(function(){\n",
       "                            \n",
       "var gd = document.getElementById('ecb698bd-93ad-4921-8413-b634bf4f554b');\n",
       "var x = new MutationObserver(function (mutations, observer) {{\n",
       "        var display = window.getComputedStyle(gd).display;\n",
       "        if (!display || display === 'none') {{\n",
       "            console.log([gd, 'removed!']);\n",
       "            Plotly.purge(gd);\n",
       "            observer.disconnect();\n",
       "        }}\n",
       "}});\n",
       "\n",
       "// Listen for the removal of the full notebook cells\n",
       "var notebookContainer = gd.closest('#notebook-container');\n",
       "if (notebookContainer) {{\n",
       "    x.observe(notebookContainer, {childList: true});\n",
       "}}\n",
       "\n",
       "// Listen for the clearing of the current output cell\n",
       "var outputEl = gd.closest('.output');\n",
       "if (outputEl) {{\n",
       "    x.observe(outputEl, {childList: true});\n",
       "}}\n",
       "\n",
       "                        })                };                });            </script>        </div>"
      ]
     },
     "metadata": {},
     "output_type": "display_data"
    }
   ],
   "source": [
    "fig = px.pie(tipos_investimento, names='Aplica em quais investimentos', title='Investimentos onde os jovens entre 18 a 35 anos estão aplicando', \n",
    "             color='Aplica em quais investimentos', \n",
    "             color_discrete_map={'Não conhece nenhum tipo de investimento/ Não utiliza nenhum/ Não pretende continuar investindo': '#5E96EC', \n",
    "                                 'Caderneta de poupança':'#150035',\n",
    "                                 'Outras respostas':'#FDE443'})\n",
    "fig.show()"
   ]
  },
  {
   "cell_type": "code",
   "execution_count": 32,
   "metadata": {},
   "outputs": [],
   "source": [
    "# Caso queira deixar o gráfico mais limpo, pode usar este código, apesar de eu achar que não é uma boa prática.\n",
    "\n",
    "\n",
    "# tipos_investimento.at[2, 'Aplica em quais investimentos'] = \"Não pretende continuar investindo\"\n",
    "# tipos_investimento.at[4, 'Aplica em quais investimentos'] = \"Não pretende continuar investindo\"\n",
    "# tipos_investimento.at[5, 'Aplica em quais investimentos'] = \"Não pretende continuar investindo\"\n",
    "# tipos_investimento.at[6, 'Aplica em quais investimentos'] = \"Não pretende continuar investindo\"\n",
    "# tipos_investimento.at[10, 'Aplica em quais investimentos'] = \"Não pretende continuar investindo\"\n",
    "\n",
    "# fig = px.pie(tipos_investimento, names='Aplica em quais investimentos', title='Aplica em quais tipos de investimentos', \n",
    "#              color='Aplica em quais investimentos', \n",
    "#              color_discrete_map={'Não pretende continuar investindo':'#150035', \n",
    "#                                  'Caderneta de poupança':'#5E96EC',\n",
    "#                                   'Compra e venda de imóveis':'#FDE443',\n",
    "#                                 'Outras respostas':'#E1EEE5'})\n",
    "# fig.show()"
   ]
  },
  {
   "cell_type": "markdown",
   "metadata": {},
   "source": [
    "## Anos investindo"
   ]
  },
  {
   "cell_type": "code",
   "execution_count": 33,
   "metadata": {},
   "outputs": [
    {
     "data": {
      "text/plain": [
       "Anos investindo na Poupança                     1983.0\n",
       "Anos investindo na Compra e Venda de imóveis     264.0\n",
       "Outras Respostas                                 601.0\n",
       "dtype: float64"
      ]
     },
     "execution_count": 33,
     "metadata": {},
     "output_type": "execute_result"
    }
   ],
   "source": [
    "anos_investindo = Fez_investimento[['Anos investindo na Poupança', 'Anos investindo na Compra e Venda de imóveis', 'Outras Respostas']]\n",
    "anos_investindo_poupança = anos_investindo['Anos investindo na Poupança']\n",
    "# anos_investindo_compra_venda = anos_investindo['Anos investindo na Compra e Venda de imóveis'].mean()\n",
    "# anos_investindo_poupança = anos_investindo['Anos investindo na Poupança'].mean()\n",
    "anos_investindo.sum()"
   ]
  },
  {
   "cell_type": "code",
   "execution_count": 34,
   "metadata": {},
   "outputs": [
    {
     "data": {
      "text/plain": [
       "Anos investindo na Poupança                     1983.0\n",
       "Anos investindo na Compra e Venda de imóveis     264.0\n",
       "Outras Respostas                                 601.0\n",
       "dtype: float64"
      ]
     },
     "execution_count": 34,
     "metadata": {},
     "output_type": "execute_result"
    }
   ],
   "source": [
    "anos_investindo.sum()"
   ]
  },
  {
   "cell_type": "code",
   "execution_count": 35,
   "metadata": {},
   "outputs": [],
   "source": [
    "# fig = px.bar(anos_investindo, x=anos_investindo, title=\"Anos Investindo\")\n",
    "# fig.show()"
   ]
  },
  {
   "cell_type": "code",
   "execution_count": 36,
   "metadata": {},
   "outputs": [
    {
     "data": {
      "application/vnd.plotly.v1+json": {
       "config": {
        "plotlyServerURL": "https://plot.ly"
       },
       "data": [
        {
         "customdata": [
          [
           "Anos investindo na Poupança"
          ],
          [
           "Anos investindo na Compra e Venda de imóveis"
          ],
          [
           "Outras Respostas"
          ]
         ],
         "domain": {
          "x": [
           0,
           1
          ],
          "y": [
           0,
           1
          ]
         },
         "hovertemplate": "label=%{label}<br>color=%{customdata[0]}<extra></extra>",
         "labels": [
          "Anos investindo na Poupança",
          "Anos investindo na Compra e Venda de imóveis",
          "Outras Respostas"
         ],
         "legendgroup": "",
         "marker": {
          "colors": [
           "#FDE443",
           "#E1EEE5",
           "#5E96EC"
          ]
         },
         "name": "",
         "showlegend": true,
         "type": "pie"
        }
       ],
       "layout": {
        "legend": {
         "tracegroupgap": 0
        },
        "template": {
         "data": {
          "bar": [
           {
            "error_x": {
             "color": "#2a3f5f"
            },
            "error_y": {
             "color": "#2a3f5f"
            },
            "marker": {
             "line": {
              "color": "#E5ECF6",
              "width": 0.5
             },
             "pattern": {
              "fillmode": "overlay",
              "size": 10,
              "solidity": 0.2
             }
            },
            "type": "bar"
           }
          ],
          "barpolar": [
           {
            "marker": {
             "line": {
              "color": "#E5ECF6",
              "width": 0.5
             },
             "pattern": {
              "fillmode": "overlay",
              "size": 10,
              "solidity": 0.2
             }
            },
            "type": "barpolar"
           }
          ],
          "carpet": [
           {
            "aaxis": {
             "endlinecolor": "#2a3f5f",
             "gridcolor": "white",
             "linecolor": "white",
             "minorgridcolor": "white",
             "startlinecolor": "#2a3f5f"
            },
            "baxis": {
             "endlinecolor": "#2a3f5f",
             "gridcolor": "white",
             "linecolor": "white",
             "minorgridcolor": "white",
             "startlinecolor": "#2a3f5f"
            },
            "type": "carpet"
           }
          ],
          "choropleth": [
           {
            "colorbar": {
             "outlinewidth": 0,
             "ticks": ""
            },
            "type": "choropleth"
           }
          ],
          "contour": [
           {
            "colorbar": {
             "outlinewidth": 0,
             "ticks": ""
            },
            "colorscale": [
             [
              0,
              "#0d0887"
             ],
             [
              0.1111111111111111,
              "#46039f"
             ],
             [
              0.2222222222222222,
              "#7201a8"
             ],
             [
              0.3333333333333333,
              "#9c179e"
             ],
             [
              0.4444444444444444,
              "#bd3786"
             ],
             [
              0.5555555555555556,
              "#d8576b"
             ],
             [
              0.6666666666666666,
              "#ed7953"
             ],
             [
              0.7777777777777778,
              "#fb9f3a"
             ],
             [
              0.8888888888888888,
              "#fdca26"
             ],
             [
              1,
              "#f0f921"
             ]
            ],
            "type": "contour"
           }
          ],
          "contourcarpet": [
           {
            "colorbar": {
             "outlinewidth": 0,
             "ticks": ""
            },
            "type": "contourcarpet"
           }
          ],
          "heatmap": [
           {
            "colorbar": {
             "outlinewidth": 0,
             "ticks": ""
            },
            "colorscale": [
             [
              0,
              "#0d0887"
             ],
             [
              0.1111111111111111,
              "#46039f"
             ],
             [
              0.2222222222222222,
              "#7201a8"
             ],
             [
              0.3333333333333333,
              "#9c179e"
             ],
             [
              0.4444444444444444,
              "#bd3786"
             ],
             [
              0.5555555555555556,
              "#d8576b"
             ],
             [
              0.6666666666666666,
              "#ed7953"
             ],
             [
              0.7777777777777778,
              "#fb9f3a"
             ],
             [
              0.8888888888888888,
              "#fdca26"
             ],
             [
              1,
              "#f0f921"
             ]
            ],
            "type": "heatmap"
           }
          ],
          "heatmapgl": [
           {
            "colorbar": {
             "outlinewidth": 0,
             "ticks": ""
            },
            "colorscale": [
             [
              0,
              "#0d0887"
             ],
             [
              0.1111111111111111,
              "#46039f"
             ],
             [
              0.2222222222222222,
              "#7201a8"
             ],
             [
              0.3333333333333333,
              "#9c179e"
             ],
             [
              0.4444444444444444,
              "#bd3786"
             ],
             [
              0.5555555555555556,
              "#d8576b"
             ],
             [
              0.6666666666666666,
              "#ed7953"
             ],
             [
              0.7777777777777778,
              "#fb9f3a"
             ],
             [
              0.8888888888888888,
              "#fdca26"
             ],
             [
              1,
              "#f0f921"
             ]
            ],
            "type": "heatmapgl"
           }
          ],
          "histogram": [
           {
            "marker": {
             "pattern": {
              "fillmode": "overlay",
              "size": 10,
              "solidity": 0.2
             }
            },
            "type": "histogram"
           }
          ],
          "histogram2d": [
           {
            "colorbar": {
             "outlinewidth": 0,
             "ticks": ""
            },
            "colorscale": [
             [
              0,
              "#0d0887"
             ],
             [
              0.1111111111111111,
              "#46039f"
             ],
             [
              0.2222222222222222,
              "#7201a8"
             ],
             [
              0.3333333333333333,
              "#9c179e"
             ],
             [
              0.4444444444444444,
              "#bd3786"
             ],
             [
              0.5555555555555556,
              "#d8576b"
             ],
             [
              0.6666666666666666,
              "#ed7953"
             ],
             [
              0.7777777777777778,
              "#fb9f3a"
             ],
             [
              0.8888888888888888,
              "#fdca26"
             ],
             [
              1,
              "#f0f921"
             ]
            ],
            "type": "histogram2d"
           }
          ],
          "histogram2dcontour": [
           {
            "colorbar": {
             "outlinewidth": 0,
             "ticks": ""
            },
            "colorscale": [
             [
              0,
              "#0d0887"
             ],
             [
              0.1111111111111111,
              "#46039f"
             ],
             [
              0.2222222222222222,
              "#7201a8"
             ],
             [
              0.3333333333333333,
              "#9c179e"
             ],
             [
              0.4444444444444444,
              "#bd3786"
             ],
             [
              0.5555555555555556,
              "#d8576b"
             ],
             [
              0.6666666666666666,
              "#ed7953"
             ],
             [
              0.7777777777777778,
              "#fb9f3a"
             ],
             [
              0.8888888888888888,
              "#fdca26"
             ],
             [
              1,
              "#f0f921"
             ]
            ],
            "type": "histogram2dcontour"
           }
          ],
          "mesh3d": [
           {
            "colorbar": {
             "outlinewidth": 0,
             "ticks": ""
            },
            "type": "mesh3d"
           }
          ],
          "parcoords": [
           {
            "line": {
             "colorbar": {
              "outlinewidth": 0,
              "ticks": ""
             }
            },
            "type": "parcoords"
           }
          ],
          "pie": [
           {
            "automargin": true,
            "type": "pie"
           }
          ],
          "scatter": [
           {
            "marker": {
             "colorbar": {
              "outlinewidth": 0,
              "ticks": ""
             }
            },
            "type": "scatter"
           }
          ],
          "scatter3d": [
           {
            "line": {
             "colorbar": {
              "outlinewidth": 0,
              "ticks": ""
             }
            },
            "marker": {
             "colorbar": {
              "outlinewidth": 0,
              "ticks": ""
             }
            },
            "type": "scatter3d"
           }
          ],
          "scattercarpet": [
           {
            "marker": {
             "colorbar": {
              "outlinewidth": 0,
              "ticks": ""
             }
            },
            "type": "scattercarpet"
           }
          ],
          "scattergeo": [
           {
            "marker": {
             "colorbar": {
              "outlinewidth": 0,
              "ticks": ""
             }
            },
            "type": "scattergeo"
           }
          ],
          "scattergl": [
           {
            "marker": {
             "colorbar": {
              "outlinewidth": 0,
              "ticks": ""
             }
            },
            "type": "scattergl"
           }
          ],
          "scattermapbox": [
           {
            "marker": {
             "colorbar": {
              "outlinewidth": 0,
              "ticks": ""
             }
            },
            "type": "scattermapbox"
           }
          ],
          "scatterpolar": [
           {
            "marker": {
             "colorbar": {
              "outlinewidth": 0,
              "ticks": ""
             }
            },
            "type": "scatterpolar"
           }
          ],
          "scatterpolargl": [
           {
            "marker": {
             "colorbar": {
              "outlinewidth": 0,
              "ticks": ""
             }
            },
            "type": "scatterpolargl"
           }
          ],
          "scatterternary": [
           {
            "marker": {
             "colorbar": {
              "outlinewidth": 0,
              "ticks": ""
             }
            },
            "type": "scatterternary"
           }
          ],
          "surface": [
           {
            "colorbar": {
             "outlinewidth": 0,
             "ticks": ""
            },
            "colorscale": [
             [
              0,
              "#0d0887"
             ],
             [
              0.1111111111111111,
              "#46039f"
             ],
             [
              0.2222222222222222,
              "#7201a8"
             ],
             [
              0.3333333333333333,
              "#9c179e"
             ],
             [
              0.4444444444444444,
              "#bd3786"
             ],
             [
              0.5555555555555556,
              "#d8576b"
             ],
             [
              0.6666666666666666,
              "#ed7953"
             ],
             [
              0.7777777777777778,
              "#fb9f3a"
             ],
             [
              0.8888888888888888,
              "#fdca26"
             ],
             [
              1,
              "#f0f921"
             ]
            ],
            "type": "surface"
           }
          ],
          "table": [
           {
            "cells": {
             "fill": {
              "color": "#EBF0F8"
             },
             "line": {
              "color": "white"
             }
            },
            "header": {
             "fill": {
              "color": "#C8D4E3"
             },
             "line": {
              "color": "white"
             }
            },
            "type": "table"
           }
          ]
         },
         "layout": {
          "annotationdefaults": {
           "arrowcolor": "#2a3f5f",
           "arrowhead": 0,
           "arrowwidth": 1
          },
          "autotypenumbers": "strict",
          "coloraxis": {
           "colorbar": {
            "outlinewidth": 0,
            "ticks": ""
           }
          },
          "colorscale": {
           "diverging": [
            [
             0,
             "#8e0152"
            ],
            [
             0.1,
             "#c51b7d"
            ],
            [
             0.2,
             "#de77ae"
            ],
            [
             0.3,
             "#f1b6da"
            ],
            [
             0.4,
             "#fde0ef"
            ],
            [
             0.5,
             "#f7f7f7"
            ],
            [
             0.6,
             "#e6f5d0"
            ],
            [
             0.7,
             "#b8e186"
            ],
            [
             0.8,
             "#7fbc41"
            ],
            [
             0.9,
             "#4d9221"
            ],
            [
             1,
             "#276419"
            ]
           ],
           "sequential": [
            [
             0,
             "#0d0887"
            ],
            [
             0.1111111111111111,
             "#46039f"
            ],
            [
             0.2222222222222222,
             "#7201a8"
            ],
            [
             0.3333333333333333,
             "#9c179e"
            ],
            [
             0.4444444444444444,
             "#bd3786"
            ],
            [
             0.5555555555555556,
             "#d8576b"
            ],
            [
             0.6666666666666666,
             "#ed7953"
            ],
            [
             0.7777777777777778,
             "#fb9f3a"
            ],
            [
             0.8888888888888888,
             "#fdca26"
            ],
            [
             1,
             "#f0f921"
            ]
           ],
           "sequentialminus": [
            [
             0,
             "#0d0887"
            ],
            [
             0.1111111111111111,
             "#46039f"
            ],
            [
             0.2222222222222222,
             "#7201a8"
            ],
            [
             0.3333333333333333,
             "#9c179e"
            ],
            [
             0.4444444444444444,
             "#bd3786"
            ],
            [
             0.5555555555555556,
             "#d8576b"
            ],
            [
             0.6666666666666666,
             "#ed7953"
            ],
            [
             0.7777777777777778,
             "#fb9f3a"
            ],
            [
             0.8888888888888888,
             "#fdca26"
            ],
            [
             1,
             "#f0f921"
            ]
           ]
          },
          "colorway": [
           "#636efa",
           "#EF553B",
           "#00cc96",
           "#ab63fa",
           "#FFA15A",
           "#19d3f3",
           "#FF6692",
           "#B6E880",
           "#FF97FF",
           "#FECB52"
          ],
          "font": {
           "color": "#2a3f5f"
          },
          "geo": {
           "bgcolor": "white",
           "lakecolor": "white",
           "landcolor": "#E5ECF6",
           "showlakes": true,
           "showland": true,
           "subunitcolor": "white"
          },
          "hoverlabel": {
           "align": "left"
          },
          "hovermode": "closest",
          "mapbox": {
           "style": "light"
          },
          "paper_bgcolor": "white",
          "plot_bgcolor": "#E5ECF6",
          "polar": {
           "angularaxis": {
            "gridcolor": "white",
            "linecolor": "white",
            "ticks": ""
           },
           "bgcolor": "#E5ECF6",
           "radialaxis": {
            "gridcolor": "white",
            "linecolor": "white",
            "ticks": ""
           }
          },
          "scene": {
           "xaxis": {
            "backgroundcolor": "#E5ECF6",
            "gridcolor": "white",
            "gridwidth": 2,
            "linecolor": "white",
            "showbackground": true,
            "ticks": "",
            "zerolinecolor": "white"
           },
           "yaxis": {
            "backgroundcolor": "#E5ECF6",
            "gridcolor": "white",
            "gridwidth": 2,
            "linecolor": "white",
            "showbackground": true,
            "ticks": "",
            "zerolinecolor": "white"
           },
           "zaxis": {
            "backgroundcolor": "#E5ECF6",
            "gridcolor": "white",
            "gridwidth": 2,
            "linecolor": "white",
            "showbackground": true,
            "ticks": "",
            "zerolinecolor": "white"
           }
          },
          "shapedefaults": {
           "line": {
            "color": "#2a3f5f"
           }
          },
          "ternary": {
           "aaxis": {
            "gridcolor": "white",
            "linecolor": "white",
            "ticks": ""
           },
           "baxis": {
            "gridcolor": "white",
            "linecolor": "white",
            "ticks": ""
           },
           "bgcolor": "#E5ECF6",
           "caxis": {
            "gridcolor": "white",
            "linecolor": "white",
            "ticks": ""
           }
          },
          "title": {
           "x": 0.05
          },
          "xaxis": {
           "automargin": true,
           "gridcolor": "white",
           "linecolor": "white",
           "ticks": "",
           "title": {
            "standoff": 15
           },
           "zerolinecolor": "white",
           "zerolinewidth": 2
          },
          "yaxis": {
           "automargin": true,
           "gridcolor": "white",
           "linecolor": "white",
           "ticks": "",
           "title": {
            "standoff": 15
           },
           "zerolinecolor": "white",
           "zerolinewidth": 2
          }
         }
        },
        "title": {
         "text": "Anos Investindo"
        }
       }
      },
      "text/html": [
       "<div>                            <div id=\"f6ed9e64-c127-4450-8e9e-f25eb6fa8ae1\" class=\"plotly-graph-div\" style=\"height:525px; width:100%;\"></div>            <script type=\"text/javascript\">                require([\"plotly\"], function(Plotly) {                    window.PLOTLYENV=window.PLOTLYENV || {};                                    if (document.getElementById(\"f6ed9e64-c127-4450-8e9e-f25eb6fa8ae1\")) {                    Plotly.newPlot(                        \"f6ed9e64-c127-4450-8e9e-f25eb6fa8ae1\",                        [{\"customdata\":[[\"Anos investindo na Poupan\\u00e7a\"],[\"Anos investindo na Compra e Venda de im\\u00f3veis\"],[\"Outras Respostas\"]],\"domain\":{\"x\":[0.0,1.0],\"y\":[0.0,1.0]},\"hovertemplate\":\"label=%{label}<br>color=%{customdata[0]}<extra></extra>\",\"labels\":[\"Anos investindo na Poupan\\u00e7a\",\"Anos investindo na Compra e Venda de im\\u00f3veis\",\"Outras Respostas\"],\"legendgroup\":\"\",\"marker\":{\"colors\":[\"#FDE443\",\"#E1EEE5\",\"#5E96EC\"]},\"name\":\"\",\"showlegend\":true,\"type\":\"pie\"}],                        {\"template\":{\"data\":{\"bar\":[{\"error_x\":{\"color\":\"#2a3f5f\"},\"error_y\":{\"color\":\"#2a3f5f\"},\"marker\":{\"line\":{\"color\":\"#E5ECF6\",\"width\":0.5},\"pattern\":{\"fillmode\":\"overlay\",\"size\":10,\"solidity\":0.2}},\"type\":\"bar\"}],\"barpolar\":[{\"marker\":{\"line\":{\"color\":\"#E5ECF6\",\"width\":0.5},\"pattern\":{\"fillmode\":\"overlay\",\"size\":10,\"solidity\":0.2}},\"type\":\"barpolar\"}],\"carpet\":[{\"aaxis\":{\"endlinecolor\":\"#2a3f5f\",\"gridcolor\":\"white\",\"linecolor\":\"white\",\"minorgridcolor\":\"white\",\"startlinecolor\":\"#2a3f5f\"},\"baxis\":{\"endlinecolor\":\"#2a3f5f\",\"gridcolor\":\"white\",\"linecolor\":\"white\",\"minorgridcolor\":\"white\",\"startlinecolor\":\"#2a3f5f\"},\"type\":\"carpet\"}],\"choropleth\":[{\"colorbar\":{\"outlinewidth\":0,\"ticks\":\"\"},\"type\":\"choropleth\"}],\"contour\":[{\"colorbar\":{\"outlinewidth\":0,\"ticks\":\"\"},\"colorscale\":[[0.0,\"#0d0887\"],[0.1111111111111111,\"#46039f\"],[0.2222222222222222,\"#7201a8\"],[0.3333333333333333,\"#9c179e\"],[0.4444444444444444,\"#bd3786\"],[0.5555555555555556,\"#d8576b\"],[0.6666666666666666,\"#ed7953\"],[0.7777777777777778,\"#fb9f3a\"],[0.8888888888888888,\"#fdca26\"],[1.0,\"#f0f921\"]],\"type\":\"contour\"}],\"contourcarpet\":[{\"colorbar\":{\"outlinewidth\":0,\"ticks\":\"\"},\"type\":\"contourcarpet\"}],\"heatmap\":[{\"colorbar\":{\"outlinewidth\":0,\"ticks\":\"\"},\"colorscale\":[[0.0,\"#0d0887\"],[0.1111111111111111,\"#46039f\"],[0.2222222222222222,\"#7201a8\"],[0.3333333333333333,\"#9c179e\"],[0.4444444444444444,\"#bd3786\"],[0.5555555555555556,\"#d8576b\"],[0.6666666666666666,\"#ed7953\"],[0.7777777777777778,\"#fb9f3a\"],[0.8888888888888888,\"#fdca26\"],[1.0,\"#f0f921\"]],\"type\":\"heatmap\"}],\"heatmapgl\":[{\"colorbar\":{\"outlinewidth\":0,\"ticks\":\"\"},\"colorscale\":[[0.0,\"#0d0887\"],[0.1111111111111111,\"#46039f\"],[0.2222222222222222,\"#7201a8\"],[0.3333333333333333,\"#9c179e\"],[0.4444444444444444,\"#bd3786\"],[0.5555555555555556,\"#d8576b\"],[0.6666666666666666,\"#ed7953\"],[0.7777777777777778,\"#fb9f3a\"],[0.8888888888888888,\"#fdca26\"],[1.0,\"#f0f921\"]],\"type\":\"heatmapgl\"}],\"histogram\":[{\"marker\":{\"pattern\":{\"fillmode\":\"overlay\",\"size\":10,\"solidity\":0.2}},\"type\":\"histogram\"}],\"histogram2d\":[{\"colorbar\":{\"outlinewidth\":0,\"ticks\":\"\"},\"colorscale\":[[0.0,\"#0d0887\"],[0.1111111111111111,\"#46039f\"],[0.2222222222222222,\"#7201a8\"],[0.3333333333333333,\"#9c179e\"],[0.4444444444444444,\"#bd3786\"],[0.5555555555555556,\"#d8576b\"],[0.6666666666666666,\"#ed7953\"],[0.7777777777777778,\"#fb9f3a\"],[0.8888888888888888,\"#fdca26\"],[1.0,\"#f0f921\"]],\"type\":\"histogram2d\"}],\"histogram2dcontour\":[{\"colorbar\":{\"outlinewidth\":0,\"ticks\":\"\"},\"colorscale\":[[0.0,\"#0d0887\"],[0.1111111111111111,\"#46039f\"],[0.2222222222222222,\"#7201a8\"],[0.3333333333333333,\"#9c179e\"],[0.4444444444444444,\"#bd3786\"],[0.5555555555555556,\"#d8576b\"],[0.6666666666666666,\"#ed7953\"],[0.7777777777777778,\"#fb9f3a\"],[0.8888888888888888,\"#fdca26\"],[1.0,\"#f0f921\"]],\"type\":\"histogram2dcontour\"}],\"mesh3d\":[{\"colorbar\":{\"outlinewidth\":0,\"ticks\":\"\"},\"type\":\"mesh3d\"}],\"parcoords\":[{\"line\":{\"colorbar\":{\"outlinewidth\":0,\"ticks\":\"\"}},\"type\":\"parcoords\"}],\"pie\":[{\"automargin\":true,\"type\":\"pie\"}],\"scatter\":[{\"marker\":{\"colorbar\":{\"outlinewidth\":0,\"ticks\":\"\"}},\"type\":\"scatter\"}],\"scatter3d\":[{\"line\":{\"colorbar\":{\"outlinewidth\":0,\"ticks\":\"\"}},\"marker\":{\"colorbar\":{\"outlinewidth\":0,\"ticks\":\"\"}},\"type\":\"scatter3d\"}],\"scattercarpet\":[{\"marker\":{\"colorbar\":{\"outlinewidth\":0,\"ticks\":\"\"}},\"type\":\"scattercarpet\"}],\"scattergeo\":[{\"marker\":{\"colorbar\":{\"outlinewidth\":0,\"ticks\":\"\"}},\"type\":\"scattergeo\"}],\"scattergl\":[{\"marker\":{\"colorbar\":{\"outlinewidth\":0,\"ticks\":\"\"}},\"type\":\"scattergl\"}],\"scattermapbox\":[{\"marker\":{\"colorbar\":{\"outlinewidth\":0,\"ticks\":\"\"}},\"type\":\"scattermapbox\"}],\"scatterpolar\":[{\"marker\":{\"colorbar\":{\"outlinewidth\":0,\"ticks\":\"\"}},\"type\":\"scatterpolar\"}],\"scatterpolargl\":[{\"marker\":{\"colorbar\":{\"outlinewidth\":0,\"ticks\":\"\"}},\"type\":\"scatterpolargl\"}],\"scatterternary\":[{\"marker\":{\"colorbar\":{\"outlinewidth\":0,\"ticks\":\"\"}},\"type\":\"scatterternary\"}],\"surface\":[{\"colorbar\":{\"outlinewidth\":0,\"ticks\":\"\"},\"colorscale\":[[0.0,\"#0d0887\"],[0.1111111111111111,\"#46039f\"],[0.2222222222222222,\"#7201a8\"],[0.3333333333333333,\"#9c179e\"],[0.4444444444444444,\"#bd3786\"],[0.5555555555555556,\"#d8576b\"],[0.6666666666666666,\"#ed7953\"],[0.7777777777777778,\"#fb9f3a\"],[0.8888888888888888,\"#fdca26\"],[1.0,\"#f0f921\"]],\"type\":\"surface\"}],\"table\":[{\"cells\":{\"fill\":{\"color\":\"#EBF0F8\"},\"line\":{\"color\":\"white\"}},\"header\":{\"fill\":{\"color\":\"#C8D4E3\"},\"line\":{\"color\":\"white\"}},\"type\":\"table\"}]},\"layout\":{\"annotationdefaults\":{\"arrowcolor\":\"#2a3f5f\",\"arrowhead\":0,\"arrowwidth\":1},\"autotypenumbers\":\"strict\",\"coloraxis\":{\"colorbar\":{\"outlinewidth\":0,\"ticks\":\"\"}},\"colorscale\":{\"diverging\":[[0,\"#8e0152\"],[0.1,\"#c51b7d\"],[0.2,\"#de77ae\"],[0.3,\"#f1b6da\"],[0.4,\"#fde0ef\"],[0.5,\"#f7f7f7\"],[0.6,\"#e6f5d0\"],[0.7,\"#b8e186\"],[0.8,\"#7fbc41\"],[0.9,\"#4d9221\"],[1,\"#276419\"]],\"sequential\":[[0.0,\"#0d0887\"],[0.1111111111111111,\"#46039f\"],[0.2222222222222222,\"#7201a8\"],[0.3333333333333333,\"#9c179e\"],[0.4444444444444444,\"#bd3786\"],[0.5555555555555556,\"#d8576b\"],[0.6666666666666666,\"#ed7953\"],[0.7777777777777778,\"#fb9f3a\"],[0.8888888888888888,\"#fdca26\"],[1.0,\"#f0f921\"]],\"sequentialminus\":[[0.0,\"#0d0887\"],[0.1111111111111111,\"#46039f\"],[0.2222222222222222,\"#7201a8\"],[0.3333333333333333,\"#9c179e\"],[0.4444444444444444,\"#bd3786\"],[0.5555555555555556,\"#d8576b\"],[0.6666666666666666,\"#ed7953\"],[0.7777777777777778,\"#fb9f3a\"],[0.8888888888888888,\"#fdca26\"],[1.0,\"#f0f921\"]]},\"colorway\":[\"#636efa\",\"#EF553B\",\"#00cc96\",\"#ab63fa\",\"#FFA15A\",\"#19d3f3\",\"#FF6692\",\"#B6E880\",\"#FF97FF\",\"#FECB52\"],\"font\":{\"color\":\"#2a3f5f\"},\"geo\":{\"bgcolor\":\"white\",\"lakecolor\":\"white\",\"landcolor\":\"#E5ECF6\",\"showlakes\":true,\"showland\":true,\"subunitcolor\":\"white\"},\"hoverlabel\":{\"align\":\"left\"},\"hovermode\":\"closest\",\"mapbox\":{\"style\":\"light\"},\"paper_bgcolor\":\"white\",\"plot_bgcolor\":\"#E5ECF6\",\"polar\":{\"angularaxis\":{\"gridcolor\":\"white\",\"linecolor\":\"white\",\"ticks\":\"\"},\"bgcolor\":\"#E5ECF6\",\"radialaxis\":{\"gridcolor\":\"white\",\"linecolor\":\"white\",\"ticks\":\"\"}},\"scene\":{\"xaxis\":{\"backgroundcolor\":\"#E5ECF6\",\"gridcolor\":\"white\",\"gridwidth\":2,\"linecolor\":\"white\",\"showbackground\":true,\"ticks\":\"\",\"zerolinecolor\":\"white\"},\"yaxis\":{\"backgroundcolor\":\"#E5ECF6\",\"gridcolor\":\"white\",\"gridwidth\":2,\"linecolor\":\"white\",\"showbackground\":true,\"ticks\":\"\",\"zerolinecolor\":\"white\"},\"zaxis\":{\"backgroundcolor\":\"#E5ECF6\",\"gridcolor\":\"white\",\"gridwidth\":2,\"linecolor\":\"white\",\"showbackground\":true,\"ticks\":\"\",\"zerolinecolor\":\"white\"}},\"shapedefaults\":{\"line\":{\"color\":\"#2a3f5f\"}},\"ternary\":{\"aaxis\":{\"gridcolor\":\"white\",\"linecolor\":\"white\",\"ticks\":\"\"},\"baxis\":{\"gridcolor\":\"white\",\"linecolor\":\"white\",\"ticks\":\"\"},\"bgcolor\":\"#E5ECF6\",\"caxis\":{\"gridcolor\":\"white\",\"linecolor\":\"white\",\"ticks\":\"\"}},\"title\":{\"x\":0.05},\"xaxis\":{\"automargin\":true,\"gridcolor\":\"white\",\"linecolor\":\"white\",\"ticks\":\"\",\"title\":{\"standoff\":15},\"zerolinecolor\":\"white\",\"zerolinewidth\":2},\"yaxis\":{\"automargin\":true,\"gridcolor\":\"white\",\"linecolor\":\"white\",\"ticks\":\"\",\"title\":{\"standoff\":15},\"zerolinecolor\":\"white\",\"zerolinewidth\":2}}},\"legend\":{\"tracegroupgap\":0},\"title\":{\"text\":\"Anos Investindo\"}},                        {\"responsive\": true}                    ).then(function(){\n",
       "                            \n",
       "var gd = document.getElementById('f6ed9e64-c127-4450-8e9e-f25eb6fa8ae1');\n",
       "var x = new MutationObserver(function (mutations, observer) {{\n",
       "        var display = window.getComputedStyle(gd).display;\n",
       "        if (!display || display === 'none') {{\n",
       "            console.log([gd, 'removed!']);\n",
       "            Plotly.purge(gd);\n",
       "            observer.disconnect();\n",
       "        }}\n",
       "}});\n",
       "\n",
       "// Listen for the removal of the full notebook cells\n",
       "var notebookContainer = gd.closest('#notebook-container');\n",
       "if (notebookContainer) {{\n",
       "    x.observe(notebookContainer, {childList: true});\n",
       "}}\n",
       "\n",
       "// Listen for the clearing of the current output cell\n",
       "var outputEl = gd.closest('.output');\n",
       "if (outputEl) {{\n",
       "    x.observe(outputEl, {childList: true});\n",
       "}}\n",
       "\n",
       "                        })                };                });            </script>        </div>"
      ]
     },
     "metadata": {},
     "output_type": "display_data"
    }
   ],
   "source": [
    "fig = px.pie(anos_investindo, title='Anos Investindo',\n",
    "             names=['Anos investindo na Poupança', 'Anos investindo na Compra e Venda de imóveis','Outras Respostas'],\n",
    "             color=['Anos investindo na Poupança', 'Anos investindo na Compra e Venda de imóveis','Outras Respostas'],\n",
    "             color_discrete_map={'Outras Respostas':'#5E96EC',\n",
    "                                  'Anos investindo na Poupança':'#FDE443',\n",
    "                                'Anos investindo na Compra e Venda de imóveis':'#E1EEE5'})\n",
    "fig.show()"
   ]
  },
  {
   "cell_type": "markdown",
   "metadata": {},
   "source": [
    "## Principais Motivos que levou a investir"
   ]
  },
  {
   "cell_type": "code",
   "execution_count": 37,
   "metadata": {},
   "outputs": [
    {
     "data": {
      "text/html": [
       "<div>\n",
       "<style scoped>\n",
       "    .dataframe tbody tr th:only-of-type {\n",
       "        vertical-align: middle;\n",
       "    }\n",
       "\n",
       "    .dataframe tbody tr th {\n",
       "        vertical-align: top;\n",
       "    }\n",
       "\n",
       "    .dataframe thead th {\n",
       "        text-align: right;\n",
       "    }\n",
       "</style>\n",
       "<table border=\"1\" class=\"dataframe\">\n",
       "  <thead>\n",
       "    <tr style=\"text-align: right;\">\n",
       "      <th></th>\n",
       "      <th>Principal Motivo</th>\n",
       "      <th>Segundo Motivo</th>\n",
       "      <th>Terceiro Motivo</th>\n",
       "    </tr>\n",
       "  </thead>\n",
       "  <tbody>\n",
       "    <tr>\n",
       "      <th>0</th>\n",
       "      <td>A segurança da aplicação</td>\n",
       "      <td>As taxas para a realização da aplicação/ A inc...</td>\n",
       "      <td>O retorno da aplicação</td>\n",
       "    </tr>\n",
       "    <tr>\n",
       "      <th>1</th>\n",
       "      <td>NaN</td>\n",
       "      <td>NaN</td>\n",
       "      <td>NaN</td>\n",
       "    </tr>\n",
       "    <tr>\n",
       "      <th>2</th>\n",
       "      <td>O retorno da aplicação</td>\n",
       "      <td>A liquidez do produto, ou seja, se poderá resg...</td>\n",
       "      <td>As taxas para a realização da aplicação/ A inc...</td>\n",
       "    </tr>\n",
       "    <tr>\n",
       "      <th>3</th>\n",
       "      <td>A liquidez do produto, ou seja, se poderá resg...</td>\n",
       "      <td>A segurança da aplicação</td>\n",
       "      <td>O retorno da aplicação</td>\n",
       "    </tr>\n",
       "    <tr>\n",
       "      <th>4</th>\n",
       "      <td>A segurança da aplicação</td>\n",
       "      <td>O retorno da aplicação</td>\n",
       "      <td>As taxas para a realização da aplicação/ A inc...</td>\n",
       "    </tr>\n",
       "    <tr>\n",
       "      <th>...</th>\n",
       "      <td>...</td>\n",
       "      <td>...</td>\n",
       "      <td>...</td>\n",
       "    </tr>\n",
       "    <tr>\n",
       "      <th>433</th>\n",
       "      <td>NaN</td>\n",
       "      <td>NaN</td>\n",
       "      <td>NaN</td>\n",
       "    </tr>\n",
       "    <tr>\n",
       "      <th>434</th>\n",
       "      <td>NaN</td>\n",
       "      <td>NaN</td>\n",
       "      <td>NaN</td>\n",
       "    </tr>\n",
       "    <tr>\n",
       "      <th>435</th>\n",
       "      <td>A segurança da aplicação</td>\n",
       "      <td>A liquidez do produto, ou seja, se poderá resg...</td>\n",
       "      <td>As taxas para a realização da aplicação/ A inc...</td>\n",
       "    </tr>\n",
       "    <tr>\n",
       "      <th>436</th>\n",
       "      <td>NaN</td>\n",
       "      <td>NaN</td>\n",
       "      <td>NaN</td>\n",
       "    </tr>\n",
       "    <tr>\n",
       "      <th>437</th>\n",
       "      <td>NaN</td>\n",
       "      <td>NaN</td>\n",
       "      <td>NaN</td>\n",
       "    </tr>\n",
       "  </tbody>\n",
       "</table>\n",
       "<p>438 rows × 3 columns</p>\n",
       "</div>"
      ],
      "text/plain": [
       "                                      Principal Motivo  \\\n",
       "0                             A segurança da aplicação   \n",
       "1                                                  NaN   \n",
       "2                               O retorno da aplicação   \n",
       "3    A liquidez do produto, ou seja, se poderá resg...   \n",
       "4                             A segurança da aplicação   \n",
       "..                                                 ...   \n",
       "433                                                NaN   \n",
       "434                                                NaN   \n",
       "435                           A segurança da aplicação   \n",
       "436                                                NaN   \n",
       "437                                                NaN   \n",
       "\n",
       "                                        Segundo Motivo  \\\n",
       "0    As taxas para a realização da aplicação/ A inc...   \n",
       "1                                                  NaN   \n",
       "2    A liquidez do produto, ou seja, se poderá resg...   \n",
       "3                             A segurança da aplicação   \n",
       "4                               O retorno da aplicação   \n",
       "..                                                 ...   \n",
       "433                                                NaN   \n",
       "434                                                NaN   \n",
       "435  A liquidez do produto, ou seja, se poderá resg...   \n",
       "436                                                NaN   \n",
       "437                                                NaN   \n",
       "\n",
       "                                       Terceiro Motivo  \n",
       "0                               O retorno da aplicação  \n",
       "1                                                  NaN  \n",
       "2    As taxas para a realização da aplicação/ A inc...  \n",
       "3                               O retorno da aplicação  \n",
       "4    As taxas para a realização da aplicação/ A inc...  \n",
       "..                                                 ...  \n",
       "433                                                NaN  \n",
       "434                                                NaN  \n",
       "435  As taxas para a realização da aplicação/ A inc...  \n",
       "436                                                NaN  \n",
       "437                                                NaN  \n",
       "\n",
       "[438 rows x 3 columns]"
      ]
     },
     "execution_count": 37,
     "metadata": {},
     "output_type": "execute_result"
    }
   ],
   "source": [
    "motivos_investir = Fez_investimento[['Principal Motivo', 'Segundo Motivo','Terceiro Motivo']]\n",
    "motivos_investir"
   ]
  },
  {
   "cell_type": "code",
   "execution_count": 38,
   "metadata": {
    "scrolled": true
   },
   "outputs": [],
   "source": [
    "# fig = px.bar(motivos_investir, x=motivos_investir['Principal Motivo'], y='Principal Motivo', color='Principal Motivo', title=\"Long-Form Input\")\n",
    "# fig.show()"
   ]
  },
  {
   "cell_type": "code",
   "execution_count": 39,
   "metadata": {},
   "outputs": [
    {
     "data": {
      "application/vnd.plotly.v1+json": {
       "config": {
        "plotlyServerURL": "https://plot.ly"
       },
       "data": [
        {
         "marker": {
          "color": "#150035"
         },
         "name": "Principal Motivo",
         "type": "histogram",
         "x": [
          "A segurança da aplicação",
          null,
          "O retorno da aplicação",
          "A liquidez do produto, ou seja, se poderá resgatar o dinheiro sem prejuízo.",
          "A segurança da aplicação",
          "A segurança da aplicação",
          null,
          "A liquidez do produto, ou seja, se poderá resgatar o dinheiro sem prejuízo.",
          "O retorno da aplicação",
          "A liquidez do produto, ou seja, se poderá resgatar o dinheiro sem prejuízo.",
          "O retorno da aplicação",
          "A segurança da aplicação",
          "A segurança da aplicação",
          "A segurança da aplicação",
          "A segurança da aplicação",
          "A segurança da aplicação",
          "A segurança da aplicação",
          "A segurança da aplicação",
          null,
          "As taxas para a realização da aplicação/ A incidência de impostos na aplicação",
          null,
          null,
          null,
          null,
          null,
          "O retorno da aplicação",
          "O retorno da aplicação",
          "A segurança da aplicação",
          null,
          "A liquidez do produto, ou seja, se poderá resgatar o dinheiro sem prejuízo.",
          "A segurança da aplicação",
          null,
          null,
          null,
          "A segurança da aplicação",
          "A segurança da aplicação",
          null,
          "A segurança da aplicação",
          "A segurança da aplicação",
          "A liquidez do produto, ou seja, se poderá resgatar o dinheiro sem prejuízo.",
          "A segurança da aplicação",
          "A segurança da aplicação",
          null,
          null,
          null,
          "A liquidez do produto, ou seja, se poderá resgatar o dinheiro sem prejuízo.",
          "A segurança da aplicação",
          null,
          null,
          null,
          "A segurança da aplicação",
          null,
          null,
          "O retorno da aplicação",
          null,
          null,
          "O retorno da aplicação",
          "A segurança da aplicação",
          "A segurança da aplicação",
          null,
          "O retorno da aplicação",
          null,
          null,
          null,
          null,
          null,
          "A liquidez do produto, ou seja, se poderá resgatar o dinheiro sem prejuízo.",
          null,
          "A segurança da aplicação",
          null,
          "O retorno da aplicação",
          null,
          null,
          null,
          null,
          "A segurança da aplicação",
          null,
          "A segurança da aplicação",
          null,
          null,
          null,
          null,
          "A segurança da aplicação",
          "A segurança da aplicação",
          null,
          "A segurança da aplicação",
          null,
          "O retorno da aplicação",
          null,
          "A liquidez do produto, ou seja, se poderá resgatar o dinheiro sem prejuízo.",
          "As taxas para a realização da aplicação/ A incidência de impostos na aplicação",
          null,
          "A segurança da aplicação",
          "O retorno da aplicação",
          "O retorno da aplicação",
          null,
          null,
          "O retorno da aplicação",
          null,
          "A segurança da aplicação",
          "O retorno da aplicação",
          "A segurança da aplicação",
          null,
          "A segurança da aplicação",
          null,
          "O retorno da aplicação",
          "A segurança da aplicação",
          "A segurança da aplicação",
          "O retorno da aplicação",
          "A liquidez do produto, ou seja, se poderá resgatar o dinheiro sem prejuízo.",
          "A segurança da aplicação",
          null,
          null,
          null,
          "A liquidez do produto, ou seja, se poderá resgatar o dinheiro sem prejuízo.",
          "As taxas para a realização da aplicação/ A incidência de impostos na aplicação",
          null,
          null,
          null,
          "A liquidez do produto, ou seja, se poderá resgatar o dinheiro sem prejuízo.",
          "As taxas para a realização da aplicação/ A incidência de impostos na aplicação",
          null,
          null,
          null,
          null,
          null,
          "O retorno da aplicação",
          null,
          null,
          null,
          "O retorno da aplicação",
          "A segurança da aplicação",
          null,
          "A liquidez do produto, ou seja, se poderá resgatar o dinheiro sem prejuízo.",
          "O retorno da aplicação",
          null,
          null,
          "O retorno da aplicação",
          "A liquidez do produto, ou seja, se poderá resgatar o dinheiro sem prejuízo.",
          null,
          null,
          "O retorno da aplicação",
          "A segurança da aplicação",
          "A liquidez do produto, ou seja, se poderá resgatar o dinheiro sem prejuízo.",
          null,
          "A segurança da aplicação",
          "A liquidez do produto, ou seja, se poderá resgatar o dinheiro sem prejuízo.",
          "A segurança da aplicação",
          "A liquidez do produto, ou seja, se poderá resgatar o dinheiro sem prejuízo.",
          null,
          "A segurança da aplicação",
          "A segurança da aplicação",
          "As taxas para a realização da aplicação/ A incidência de impostos na aplicação",
          null,
          "A segurança da aplicação",
          "O retorno da aplicação",
          "O retorno da aplicação",
          "A liquidez do produto, ou seja, se poderá resgatar o dinheiro sem prejuízo.",
          "A segurança da aplicação",
          null,
          null,
          null,
          null,
          "A segurança da aplicação",
          null,
          null,
          null,
          null,
          "O retorno da aplicação",
          "A segurança da aplicação",
          "A segurança da aplicação",
          "A segurança da aplicação",
          "A segurança da aplicação",
          "As taxas para a realização da aplicação/ A incidência de impostos na aplicação",
          null,
          "O retorno da aplicação",
          "O retorno da aplicação",
          "A liquidez do produto, ou seja, se poderá resgatar o dinheiro sem prejuízo.",
          "As taxas para a realização da aplicação/ A incidência de impostos na aplicação",
          "A segurança da aplicação",
          "A liquidez do produto, ou seja, se poderá resgatar o dinheiro sem prejuízo.",
          null,
          null,
          "O retorno da aplicação",
          "O retorno da aplicação",
          "A segurança da aplicação",
          null,
          null,
          "A liquidez do produto, ou seja, se poderá resgatar o dinheiro sem prejuízo.",
          "A liquidez do produto, ou seja, se poderá resgatar o dinheiro sem prejuízo.",
          "A segurança da aplicação",
          null,
          "A liquidez do produto, ou seja, se poderá resgatar o dinheiro sem prejuízo.",
          "A segurança da aplicação",
          "A segurança da aplicação",
          "A segurança da aplicação",
          "A segurança da aplicação",
          "A segurança da aplicação",
          "A segurança da aplicação",
          null,
          "O retorno da aplicação",
          null,
          null,
          null,
          "A segurança da aplicação",
          "A segurança da aplicação",
          "O retorno da aplicação",
          "A segurança da aplicação",
          null,
          "O retorno da aplicação",
          "A segurança da aplicação",
          null,
          "A liquidez do produto, ou seja, se poderá resgatar o dinheiro sem prejuízo.",
          null,
          "A liquidez do produto, ou seja, se poderá resgatar o dinheiro sem prejuízo.",
          "A segurança da aplicação",
          "A liquidez do produto, ou seja, se poderá resgatar o dinheiro sem prejuízo.",
          null,
          null,
          "A liquidez do produto, ou seja, se poderá resgatar o dinheiro sem prejuízo.",
          "A liquidez do produto, ou seja, se poderá resgatar o dinheiro sem prejuízo.",
          null,
          null,
          "O retorno da aplicação",
          null,
          "As taxas para a realização da aplicação/ A incidência de impostos na aplicação",
          "A segurança da aplicação",
          "A segurança da aplicação",
          "A segurança da aplicação",
          "A segurança da aplicação",
          null,
          null,
          null,
          "A liquidez do produto, ou seja, se poderá resgatar o dinheiro sem prejuízo.",
          null,
          "A segurança da aplicação",
          "A liquidez do produto, ou seja, se poderá resgatar o dinheiro sem prejuízo.",
          "A segurança da aplicação",
          "A segurança da aplicação",
          null,
          null,
          "As taxas para a realização da aplicação/ A incidência de impostos na aplicação",
          "A liquidez do produto, ou seja, se poderá resgatar o dinheiro sem prejuízo.",
          "O retorno da aplicação",
          "A segurança da aplicação",
          null,
          "O retorno da aplicação",
          "A segurança da aplicação",
          "A liquidez do produto, ou seja, se poderá resgatar o dinheiro sem prejuízo.",
          "As taxas para a realização da aplicação/ A incidência de impostos na aplicação",
          "A segurança da aplicação",
          "A liquidez do produto, ou seja, se poderá resgatar o dinheiro sem prejuízo.",
          "O retorno da aplicação",
          null,
          "A segurança da aplicação",
          "As taxas para a realização da aplicação/ A incidência de impostos na aplicação",
          "O retorno da aplicação",
          null,
          null,
          "O retorno da aplicação",
          "O retorno da aplicação",
          "A segurança da aplicação",
          null,
          "O retorno da aplicação",
          "A segurança da aplicação",
          "A segurança da aplicação",
          null,
          "As taxas para a realização da aplicação/ A incidência de impostos na aplicação",
          "A segurança da aplicação",
          null,
          "A segurança da aplicação",
          null,
          "A segurança da aplicação",
          "A liquidez do produto, ou seja, se poderá resgatar o dinheiro sem prejuízo.",
          "A segurança da aplicação",
          "O retorno da aplicação",
          "O retorno da aplicação",
          "O retorno da aplicação",
          null,
          "A segurança da aplicação",
          "O retorno da aplicação",
          "A segurança da aplicação",
          "A segurança da aplicação",
          null,
          "O retorno da aplicação",
          null,
          "A liquidez do produto, ou seja, se poderá resgatar o dinheiro sem prejuízo.",
          "A segurança da aplicação",
          "O retorno da aplicação",
          "A liquidez do produto, ou seja, se poderá resgatar o dinheiro sem prejuízo.",
          "O retorno da aplicação",
          null,
          "As taxas para a realização da aplicação/ A incidência de impostos na aplicação",
          null,
          null,
          "A liquidez do produto, ou seja, se poderá resgatar o dinheiro sem prejuízo.",
          null,
          "O retorno da aplicação",
          "O retorno da aplicação",
          "A segurança da aplicação",
          null,
          null,
          null,
          null,
          "As taxas para a realização da aplicação/ A incidência de impostos na aplicação",
          "A segurança da aplicação",
          null,
          "A liquidez do produto, ou seja, se poderá resgatar o dinheiro sem prejuízo.",
          "A segurança da aplicação",
          "A segurança da aplicação",
          "A segurança da aplicação",
          "O retorno da aplicação",
          null,
          null,
          null,
          "A segurança da aplicação",
          "O retorno da aplicação",
          "A segurança da aplicação",
          null,
          "A liquidez do produto, ou seja, se poderá resgatar o dinheiro sem prejuízo.",
          "A segurança da aplicação",
          null,
          "O retorno da aplicação",
          "O retorno da aplicação",
          null,
          null,
          "A liquidez do produto, ou seja, se poderá resgatar o dinheiro sem prejuízo.",
          "A liquidez do produto, ou seja, se poderá resgatar o dinheiro sem prejuízo.",
          "As taxas para a realização da aplicação/ A incidência de impostos na aplicação",
          "O retorno da aplicação",
          null,
          "O retorno da aplicação",
          null,
          null,
          "A segurança da aplicação",
          "O retorno da aplicação",
          "O retorno da aplicação",
          null,
          "A segurança da aplicação",
          "A segurança da aplicação",
          null,
          "A segurança da aplicação",
          "A liquidez do produto, ou seja, se poderá resgatar o dinheiro sem prejuízo.",
          null,
          null,
          null,
          null,
          "O retorno da aplicação",
          null,
          "O retorno da aplicação",
          "A segurança da aplicação",
          null,
          "A liquidez do produto, ou seja, se poderá resgatar o dinheiro sem prejuízo.",
          null,
          null,
          "A liquidez do produto, ou seja, se poderá resgatar o dinheiro sem prejuízo.",
          null,
          null,
          "A liquidez do produto, ou seja, se poderá resgatar o dinheiro sem prejuízo.",
          "O retorno da aplicação",
          null,
          "O retorno da aplicação",
          null,
          "A liquidez do produto, ou seja, se poderá resgatar o dinheiro sem prejuízo.",
          "A segurança da aplicação",
          null,
          null,
          null,
          "A segurança da aplicação",
          null,
          "A segurança da aplicação",
          null,
          "A segurança da aplicação",
          "O retorno da aplicação",
          null,
          "A segurança da aplicação",
          "As taxas para a realização da aplicação/ A incidência de impostos na aplicação",
          null,
          null,
          "O retorno da aplicação",
          "A segurança da aplicação",
          null,
          null,
          "As taxas para a realização da aplicação/ A incidência de impostos na aplicação",
          "A segurança da aplicação",
          null,
          "A segurança da aplicação",
          "A segurança da aplicação",
          null,
          "A liquidez do produto, ou seja, se poderá resgatar o dinheiro sem prejuízo.",
          null,
          null,
          "O retorno da aplicação",
          null,
          null,
          null,
          null,
          "O retorno da aplicação",
          null,
          null,
          null,
          "O retorno da aplicação",
          null,
          null,
          "O retorno da aplicação",
          "A segurança da aplicação",
          "As taxas para a realização da aplicação/ A incidência de impostos na aplicação",
          null,
          "A segurança da aplicação",
          "A liquidez do produto, ou seja, se poderá resgatar o dinheiro sem prejuízo.",
          "A segurança da aplicação",
          "A segurança da aplicação",
          "A liquidez do produto, ou seja, se poderá resgatar o dinheiro sem prejuízo.",
          null,
          "A segurança da aplicação",
          null,
          null,
          "A liquidez do produto, ou seja, se poderá resgatar o dinheiro sem prejuízo.",
          "A segurança da aplicação",
          null,
          null,
          null,
          "A liquidez do produto, ou seja, se poderá resgatar o dinheiro sem prejuízo.",
          null,
          "A liquidez do produto, ou seja, se poderá resgatar o dinheiro sem prejuízo.",
          "O retorno da aplicação",
          "O retorno da aplicação",
          "A segurança da aplicação",
          "A segurança da aplicação",
          "A segurança da aplicação",
          "A segurança da aplicação",
          "A segurança da aplicação",
          null,
          null,
          null,
          "A segurança da aplicação",
          null,
          null
         ]
        },
        {
         "marker": {
          "color": "#FDE443"
         },
         "name": "Segundo Motivo",
         "type": "histogram",
         "x": [
          "As taxas para a realização da aplicação/ A incidência de impostos na aplicação",
          null,
          "A liquidez do produto, ou seja, se poderá resgatar o dinheiro sem prejuízo.",
          "A segurança da aplicação",
          "O retorno da aplicação",
          "A liquidez do produto, ou seja, se poderá resgatar o dinheiro sem prejuízo.",
          null,
          "A segurança da aplicação",
          "A liquidez do produto, ou seja, se poderá resgatar o dinheiro sem prejuízo.",
          "As taxas para a realização da aplicação/ A incidência de impostos na aplicação",
          "A liquidez do produto, ou seja, se poderá resgatar o dinheiro sem prejuízo.",
          "A liquidez do produto, ou seja, se poderá resgatar o dinheiro sem prejuízo.",
          "A liquidez do produto, ou seja, se poderá resgatar o dinheiro sem prejuízo.",
          "O retorno da aplicação",
          "As taxas para a realização da aplicação/ A incidência de impostos na aplicação",
          "O retorno da aplicação",
          "O retorno da aplicação",
          "O retorno da aplicação",
          null,
          "O retorno da aplicação",
          null,
          null,
          null,
          null,
          null,
          "A liquidez do produto, ou seja, se poderá resgatar o dinheiro sem prejuízo.",
          "A segurança da aplicação",
          "As taxas para a realização da aplicação/ A incidência de impostos na aplicação",
          null,
          "A segurança da aplicação",
          "As taxas para a realização da aplicação/ A incidência de impostos na aplicação",
          null,
          null,
          null,
          "O retorno da aplicação",
          "O retorno da aplicação",
          null,
          "O retorno da aplicação",
          "O retorno da aplicação",
          "As taxas para a realização da aplicação/ A incidência de impostos na aplicação",
          "O retorno da aplicação",
          "O retorno da aplicação",
          null,
          null,
          null,
          "O retorno da aplicação",
          "As taxas para a realização da aplicação/ A incidência de impostos na aplicação",
          null,
          null,
          null,
          "O retorno da aplicação",
          null,
          null,
          "A segurança da aplicação",
          null,
          null,
          "A segurança da aplicação",
          "O retorno da aplicação",
          "A liquidez do produto, ou seja, se poderá resgatar o dinheiro sem prejuízo.",
          null,
          "A segurança da aplicação",
          null,
          null,
          null,
          null,
          null,
          "A segurança da aplicação",
          null,
          "A liquidez do produto, ou seja, se poderá resgatar o dinheiro sem prejuízo.",
          null,
          "A segurança da aplicação",
          null,
          null,
          null,
          null,
          "O retorno da aplicação",
          null,
          "O retorno da aplicação",
          null,
          null,
          null,
          null,
          "A liquidez do produto, ou seja, se poderá resgatar o dinheiro sem prejuízo.",
          "As taxas para a realização da aplicação/ A incidência de impostos na aplicação",
          null,
          "A liquidez do produto, ou seja, se poderá resgatar o dinheiro sem prejuízo.",
          null,
          "A segurança da aplicação",
          null,
          "O retorno da aplicação",
          "A segurança da aplicação",
          null,
          "O retorno da aplicação",
          "A segurança da aplicação",
          "A segurança da aplicação",
          null,
          null,
          "A segurança da aplicação",
          null,
          "O retorno da aplicação",
          "Nenhum",
          null,
          null,
          "As taxas para a realização da aplicação/ A incidência de impostos na aplicação",
          null,
          "As taxas para a realização da aplicação/ A incidência de impostos na aplicação",
          "O retorno da aplicação",
          "As taxas para a realização da aplicação/ A incidência de impostos na aplicação",
          "A segurança da aplicação",
          "O retorno da aplicação",
          "O retorno da aplicação",
          null,
          null,
          null,
          "O retorno da aplicação",
          "O retorno da aplicação",
          null,
          null,
          null,
          "A segurança da aplicação",
          "O retorno da aplicação",
          null,
          null,
          null,
          null,
          null,
          "A liquidez do produto, ou seja, se poderá resgatar o dinheiro sem prejuízo.",
          null,
          null,
          null,
          "A liquidez do produto, ou seja, se poderá resgatar o dinheiro sem prejuízo.",
          "As taxas para a realização da aplicação/ A incidência de impostos na aplicação",
          null,
          "O retorno da aplicação",
          "A liquidez do produto, ou seja, se poderá resgatar o dinheiro sem prejuízo.",
          null,
          null,
          "As taxas para a realização da aplicação/ A incidência de impostos na aplicação",
          "A segurança da aplicação",
          null,
          null,
          "A liquidez do produto, ou seja, se poderá resgatar o dinheiro sem prejuízo.",
          "A liquidez do produto, ou seja, se poderá resgatar o dinheiro sem prejuízo.",
          "A segurança da aplicação",
          null,
          "A liquidez do produto, ou seja, se poderá resgatar o dinheiro sem prejuízo.",
          "O retorno da aplicação",
          "A liquidez do produto, ou seja, se poderá resgatar o dinheiro sem prejuízo.",
          "O retorno da aplicação",
          null,
          "O retorno da aplicação",
          "O retorno da aplicação",
          "A liquidez do produto, ou seja, se poderá resgatar o dinheiro sem prejuízo.",
          null,
          "O retorno da aplicação",
          "A liquidez do produto, ou seja, se poderá resgatar o dinheiro sem prejuízo.",
          "As taxas para a realização da aplicação/ A incidência de impostos na aplicação",
          "O retorno da aplicação",
          "As taxas para a realização da aplicação/ A incidência de impostos na aplicação",
          null,
          null,
          null,
          null,
          "O retorno da aplicação",
          null,
          null,
          null,
          null,
          "A segurança da aplicação",
          "A liquidez do produto, ou seja, se poderá resgatar o dinheiro sem prejuízo.",
          "O retorno da aplicação",
          "A liquidez do produto, ou seja, se poderá resgatar o dinheiro sem prejuízo.",
          "As taxas para a realização da aplicação/ A incidência de impostos na aplicação",
          "O retorno da aplicação",
          null,
          "A liquidez do produto, ou seja, se poderá resgatar o dinheiro sem prejuízo.",
          "A segurança da aplicação",
          "O retorno da aplicação",
          "O retorno da aplicação",
          "A liquidez do produto, ou seja, se poderá resgatar o dinheiro sem prejuízo.",
          "A segurança da aplicação",
          null,
          null,
          "A liquidez do produto, ou seja, se poderá resgatar o dinheiro sem prejuízo.",
          "A segurança da aplicação",
          "As taxas para a realização da aplicação/ A incidência de impostos na aplicação",
          null,
          null,
          "A segurança da aplicação",
          "As taxas para a realização da aplicação/ A incidência de impostos na aplicação",
          "A liquidez do produto, ou seja, se poderá resgatar o dinheiro sem prejuízo.",
          null,
          "O retorno da aplicação",
          "A liquidez do produto, ou seja, se poderá resgatar o dinheiro sem prejuízo.",
          "O retorno da aplicação",
          "A liquidez do produto, ou seja, se poderá resgatar o dinheiro sem prejuízo.",
          "A liquidez do produto, ou seja, se poderá resgatar o dinheiro sem prejuízo.",
          "A liquidez do produto, ou seja, se poderá resgatar o dinheiro sem prejuízo.",
          "O retorno da aplicação",
          null,
          "A segurança da aplicação",
          null,
          null,
          null,
          "O retorno da aplicação",
          "O retorno da aplicação",
          "A segurança da aplicação",
          "O retorno da aplicação",
          null,
          "As taxas para a realização da aplicação/ A incidência de impostos na aplicação",
          "O retorno da aplicação",
          null,
          "A segurança da aplicação",
          null,
          "O retorno da aplicação",
          "As taxas para a realização da aplicação/ A incidência de impostos na aplicação",
          "A segurança da aplicação",
          null,
          null,
          "O retorno da aplicação",
          "O retorno da aplicação",
          null,
          null,
          "A segurança da aplicação",
          null,
          "O retorno da aplicação",
          "O retorno da aplicação",
          "O retorno da aplicação",
          "O retorno da aplicação",
          "O retorno da aplicação",
          null,
          null,
          null,
          "A segurança da aplicação",
          null,
          "O retorno da aplicação",
          "A segurança da aplicação",
          "As taxas para a realização da aplicação/ A incidência de impostos na aplicação",
          "O retorno da aplicação",
          null,
          null,
          "A segurança da aplicação",
          "O retorno da aplicação",
          "A liquidez do produto, ou seja, se poderá resgatar o dinheiro sem prejuízo.",
          "O retorno da aplicação",
          null,
          "A segurança da aplicação",
          "O retorno da aplicação",
          "O retorno da aplicação",
          "A segurança da aplicação",
          "O retorno da aplicação",
          "A segurança da aplicação",
          "A segurança da aplicação",
          null,
          "O retorno da aplicação",
          "A segurança da aplicação",
          "A segurança da aplicação",
          null,
          null,
          "As taxas para a realização da aplicação/ A incidência de impostos na aplicação",
          "A liquidez do produto, ou seja, se poderá resgatar o dinheiro sem prejuízo.",
          "O retorno da aplicação",
          null,
          "A liquidez do produto, ou seja, se poderá resgatar o dinheiro sem prejuízo.",
          "O retorno da aplicação",
          "O retorno da aplicação",
          null,
          "A liquidez do produto, ou seja, se poderá resgatar o dinheiro sem prejuízo.",
          "A liquidez do produto, ou seja, se poderá resgatar o dinheiro sem prejuízo.",
          null,
          "As taxas para a realização da aplicação/ A incidência de impostos na aplicação",
          null,
          "As taxas para a realização da aplicação/ A incidência de impostos na aplicação",
          "A segurança da aplicação",
          "O retorno da aplicação",
          "A segurança da aplicação",
          "Nenhum",
          "A segurança da aplicação",
          null,
          "O retorno da aplicação",
          "A segurança da aplicação",
          "O retorno da aplicação",
          "O retorno da aplicação",
          null,
          "A segurança da aplicação",
          null,
          "A segurança da aplicação",
          "O retorno da aplicação",
          "A segurança da aplicação",
          "O retorno da aplicação",
          "As taxas para a realização da aplicação/ A incidência de impostos na aplicação",
          null,
          "A liquidez do produto, ou seja, se poderá resgatar o dinheiro sem prejuízo.",
          null,
          null,
          "O retorno da aplicação",
          null,
          "As taxas para a realização da aplicação/ A incidência de impostos na aplicação",
          "A segurança da aplicação",
          "O retorno da aplicação",
          null,
          null,
          null,
          null,
          "A segurança da aplicação",
          "A liquidez do produto, ou seja, se poderá resgatar o dinheiro sem prejuízo.",
          null,
          "A segurança da aplicação",
          "O retorno da aplicação",
          "As taxas para a realização da aplicação/ A incidência de impostos na aplicação",
          "A liquidez do produto, ou seja, se poderá resgatar o dinheiro sem prejuízo.",
          "A segurança da aplicação",
          null,
          null,
          null,
          "O retorno da aplicação",
          "A segurança da aplicação",
          "O retorno da aplicação",
          null,
          "O retorno da aplicação",
          "A liquidez do produto, ou seja, se poderá resgatar o dinheiro sem prejuízo.",
          null,
          "As taxas para a realização da aplicação/ A incidência de impostos na aplicação",
          "As taxas para a realização da aplicação/ A incidência de impostos na aplicação",
          null,
          null,
          "O retorno da aplicação",
          "A segurança da aplicação",
          "A liquidez do produto, ou seja, se poderá resgatar o dinheiro sem prejuízo.",
          "A segurança da aplicação",
          null,
          "A liquidez do produto, ou seja, se poderá resgatar o dinheiro sem prejuízo.",
          null,
          null,
          "O retorno da aplicação",
          "A segurança da aplicação",
          "A segurança da aplicação",
          null,
          "As taxas para a realização da aplicação/ A incidência de impostos na aplicação",
          "A liquidez do produto, ou seja, se poderá resgatar o dinheiro sem prejuízo.",
          null,
          "O retorno da aplicação",
          "O retorno da aplicação",
          null,
          null,
          null,
          null,
          "As taxas para a realização da aplicação/ A incidência de impostos na aplicação",
          null,
          "As taxas para a realização da aplicação/ A incidência de impostos na aplicação",
          "As taxas para a realização da aplicação/ A incidência de impostos na aplicação",
          null,
          "A segurança da aplicação",
          null,
          null,
          "A segurança da aplicação",
          null,
          null,
          "O retorno da aplicação",
          "A liquidez do produto, ou seja, se poderá resgatar o dinheiro sem prejuízo.",
          null,
          "A segurança da aplicação",
          null,
          "Nenhum",
          "A liquidez do produto, ou seja, se poderá resgatar o dinheiro sem prejuízo.",
          null,
          null,
          null,
          "A liquidez do produto, ou seja, se poderá resgatar o dinheiro sem prejuízo.",
          null,
          "A liquidez do produto, ou seja, se poderá resgatar o dinheiro sem prejuízo.",
          null,
          "A liquidez do produto, ou seja, se poderá resgatar o dinheiro sem prejuízo.",
          "A segurança da aplicação",
          null,
          "O retorno da aplicação",
          "A segurança da aplicação",
          null,
          null,
          "A liquidez do produto, ou seja, se poderá resgatar o dinheiro sem prejuízo.",
          "A liquidez do produto, ou seja, se poderá resgatar o dinheiro sem prejuízo.",
          null,
          null,
          "A liquidez do produto, ou seja, se poderá resgatar o dinheiro sem prejuízo.",
          "A liquidez do produto, ou seja, se poderá resgatar o dinheiro sem prejuízo.",
          null,
          "As taxas para a realização da aplicação/ A incidência de impostos na aplicação",
          "O retorno da aplicação",
          null,
          "As taxas para a realização da aplicação/ A incidência de impostos na aplicação",
          null,
          null,
          "A segurança da aplicação",
          null,
          null,
          null,
          null,
          "A segurança da aplicação",
          null,
          null,
          null,
          "As taxas para a realização da aplicação/ A incidência de impostos na aplicação",
          null,
          null,
          "A liquidez do produto, ou seja, se poderá resgatar o dinheiro sem prejuízo.",
          "O retorno da aplicação",
          "O retorno da aplicação",
          null,
          "O retorno da aplicação",
          "A segurança da aplicação",
          "O retorno da aplicação",
          "O retorno da aplicação",
          "A segurança da aplicação",
          null,
          "A liquidez do produto, ou seja, se poderá resgatar o dinheiro sem prejuízo.",
          null,
          null,
          "A segurança da aplicação",
          "O retorno da aplicação",
          null,
          null,
          null,
          "A segurança da aplicação",
          null,
          "O retorno da aplicação",
          "A liquidez do produto, ou seja, se poderá resgatar o dinheiro sem prejuízo.",
          "A segurança da aplicação",
          "As taxas para a realização da aplicação/ A incidência de impostos na aplicação",
          "O retorno da aplicação",
          "O retorno da aplicação",
          "O retorno da aplicação",
          "O retorno da aplicação",
          null,
          null,
          null,
          "A liquidez do produto, ou seja, se poderá resgatar o dinheiro sem prejuízo.",
          null,
          null
         ]
        },
        {
         "marker": {
          "color": "#5E96EC"
         },
         "name": "Terceiro Motivo",
         "type": "histogram",
         "x": [
          "O retorno da aplicação",
          null,
          "As taxas para a realização da aplicação/ A incidência de impostos na aplicação",
          "O retorno da aplicação",
          "As taxas para a realização da aplicação/ A incidência de impostos na aplicação",
          "O retorno da aplicação",
          null,
          "O retorno da aplicação",
          "A segurança da aplicação",
          "A segurança da aplicação",
          "As taxas para a realização da aplicação/ A incidência de impostos na aplicação",
          "O retorno da aplicação",
          "O retorno da aplicação",
          "As taxas para a realização da aplicação/ A incidência de impostos na aplicação",
          "A liquidez do produto, ou seja, se poderá resgatar o dinheiro sem prejuízo.",
          "As taxas para a realização da aplicação/ A incidência de impostos na aplicação",
          "As taxas para a realização da aplicação/ A incidência de impostos na aplicação",
          "A liquidez do produto, ou seja, se poderá resgatar o dinheiro sem prejuízo.",
          null,
          "A segurança da aplicação",
          null,
          null,
          null,
          null,
          null,
          "A segurança da aplicação",
          "As taxas para a realização da aplicação/ A incidência de impostos na aplicação",
          "O retorno da aplicação",
          null,
          "O retorno da aplicação",
          "O retorno da aplicação",
          null,
          null,
          null,
          "A liquidez do produto, ou seja, se poderá resgatar o dinheiro sem prejuízo.",
          "A liquidez do produto, ou seja, se poderá resgatar o dinheiro sem prejuízo.",
          null,
          "A liquidez do produto, ou seja, se poderá resgatar o dinheiro sem prejuízo.",
          "A liquidez do produto, ou seja, se poderá resgatar o dinheiro sem prejuízo.",
          "A segurança da aplicação",
          "As taxas para a realização da aplicação/ A incidência de impostos na aplicação",
          "As taxas para a realização da aplicação/ A incidência de impostos na aplicação",
          null,
          null,
          null,
          "A segurança da aplicação",
          "Nenhum",
          null,
          null,
          null,
          "As taxas para a realização da aplicação/ A incidência de impostos na aplicação",
          null,
          null,
          "A liquidez do produto, ou seja, se poderá resgatar o dinheiro sem prejuízo.",
          null,
          null,
          "As taxas para a realização da aplicação/ A incidência de impostos na aplicação",
          "As taxas para a realização da aplicação/ A incidência de impostos na aplicação",
          "O retorno da aplicação",
          null,
          "As taxas para a realização da aplicação/ A incidência de impostos na aplicação",
          null,
          null,
          null,
          null,
          null,
          "O retorno da aplicação",
          null,
          "As taxas para a realização da aplicação/ A incidência de impostos na aplicação",
          null,
          "A liquidez do produto, ou seja, se poderá resgatar o dinheiro sem prejuízo.",
          null,
          null,
          null,
          null,
          "A liquidez do produto, ou seja, se poderá resgatar o dinheiro sem prejuízo.",
          null,
          "As taxas para a realização da aplicação/ A incidência de impostos na aplicação",
          null,
          null,
          null,
          null,
          "O retorno da aplicação",
          "O retorno da aplicação",
          null,
          "O retorno da aplicação",
          null,
          "A liquidez do produto, ou seja, se poderá resgatar o dinheiro sem prejuízo.",
          null,
          "As taxas para a realização da aplicação/ A incidência de impostos na aplicação",
          "O retorno da aplicação",
          null,
          "As taxas para a realização da aplicação/ A incidência de impostos na aplicação",
          "As taxas para a realização da aplicação/ A incidência de impostos na aplicação",
          "A liquidez do produto, ou seja, se poderá resgatar o dinheiro sem prejuízo.",
          null,
          null,
          "As taxas para a realização da aplicação/ A incidência de impostos na aplicação",
          null,
          "As taxas para a realização da aplicação/ A incidência de impostos na aplicação",
          "Nenhum",
          null,
          null,
          "O retorno da aplicação",
          null,
          "A segurança da aplicação",
          "As taxas para a realização da aplicação/ A incidência de impostos na aplicação",
          "A liquidez do produto, ou seja, se poderá resgatar o dinheiro sem prejuízo.",
          "A liquidez do produto, ou seja, se poderá resgatar o dinheiro sem prejuízo.",
          "A segurança da aplicação",
          "As taxas para a realização da aplicação/ A incidência de impostos na aplicação",
          null,
          null,
          null,
          "As taxas para a realização da aplicação/ A incidência de impostos na aplicação",
          "A segurança da aplicação",
          null,
          null,
          null,
          "O retorno da aplicação",
          "A liquidez do produto, ou seja, se poderá resgatar o dinheiro sem prejuízo.",
          null,
          null,
          null,
          null,
          null,
          "As taxas para a realização da aplicação/ A incidência de impostos na aplicação",
          null,
          null,
          null,
          "A segurança da aplicação",
          "A liquidez do produto, ou seja, se poderá resgatar o dinheiro sem prejuízo.",
          null,
          "As taxas para a realização da aplicação/ A incidência de impostos na aplicação",
          "A segurança da aplicação",
          null,
          null,
          "A liquidez do produto, ou seja, se poderá resgatar o dinheiro sem prejuízo.",
          "As taxas para a realização da aplicação/ A incidência de impostos na aplicação",
          null,
          null,
          "A segurança da aplicação",
          "Nenhum",
          "As taxas para a realização da aplicação/ A incidência de impostos na aplicação",
          null,
          "O retorno da aplicação",
          "A segurança da aplicação",
          "As taxas para a realização da aplicação/ A incidência de impostos na aplicação",
          "As taxas para a realização da aplicação/ A incidência de impostos na aplicação",
          null,
          "As taxas para a realização da aplicação/ A incidência de impostos na aplicação",
          "As taxas para a realização da aplicação/ A incidência de impostos na aplicação",
          "A segurança da aplicação",
          null,
          "Nenhum",
          "A segurança da aplicação",
          "A segurança da aplicação",
          "As taxas para a realização da aplicação/ A incidência de impostos na aplicação",
          "A liquidez do produto, ou seja, se poderá resgatar o dinheiro sem prejuízo.",
          null,
          null,
          null,
          null,
          "A liquidez do produto, ou seja, se poderá resgatar o dinheiro sem prejuízo.",
          null,
          null,
          null,
          null,
          "A liquidez do produto, ou seja, se poderá resgatar o dinheiro sem prejuízo.",
          "O retorno da aplicação",
          "A liquidez do produto, ou seja, se poderá resgatar o dinheiro sem prejuízo.",
          "Nenhum",
          "O retorno da aplicação",
          "A liquidez do produto, ou seja, se poderá resgatar o dinheiro sem prejuízo.",
          null,
          "A segurança da aplicação",
          "A liquidez do produto, ou seja, se poderá resgatar o dinheiro sem prejuízo.",
          "As taxas para a realização da aplicação/ A incidência de impostos na aplicação",
          "A segurança da aplicação",
          "As taxas para a realização da aplicação/ A incidência de impostos na aplicação",
          "O retorno da aplicação",
          null,
          null,
          "As taxas para a realização da aplicação/ A incidência de impostos na aplicação",
          "A liquidez do produto, ou seja, se poderá resgatar o dinheiro sem prejuízo.",
          "O retorno da aplicação",
          null,
          null,
          "O retorno da aplicação",
          "O retorno da aplicação",
          "O retorno da aplicação",
          null,
          "A segurança da aplicação",
          "O retorno da aplicação",
          "As taxas para a realização da aplicação/ A incidência de impostos na aplicação",
          "O retorno da aplicação",
          "O retorno da aplicação",
          "O retorno da aplicação",
          "As taxas para a realização da aplicação/ A incidência de impostos na aplicação",
          null,
          "A liquidez do produto, ou seja, se poderá resgatar o dinheiro sem prejuízo.",
          null,
          null,
          null,
          "A liquidez do produto, ou seja, se poderá resgatar o dinheiro sem prejuízo.",
          "As taxas para a realização da aplicação/ A incidência de impostos na aplicação",
          "As taxas para a realização da aplicação/ A incidência de impostos na aplicação",
          "As taxas para a realização da aplicação/ A incidência de impostos na aplicação",
          null,
          "A liquidez do produto, ou seja, se poderá resgatar o dinheiro sem prejuízo.",
          "As taxas para a realização da aplicação/ A incidência de impostos na aplicação",
          null,
          "As taxas para a realização da aplicação/ A incidência de impostos na aplicação",
          null,
          "As taxas para a realização da aplicação/ A incidência de impostos na aplicação",
          "A liquidez do produto, ou seja, se poderá resgatar o dinheiro sem prejuízo.",
          "As taxas para a realização da aplicação/ A incidência de impostos na aplicação",
          null,
          null,
          "As taxas para a realização da aplicação/ A incidência de impostos na aplicação",
          "As taxas para a realização da aplicação/ A incidência de impostos na aplicação",
          null,
          null,
          "A liquidez do produto, ou seja, se poderá resgatar o dinheiro sem prejuízo.",
          null,
          "A liquidez do produto, ou seja, se poderá resgatar o dinheiro sem prejuízo.",
          "A liquidez do produto, ou seja, se poderá resgatar o dinheiro sem prejuízo.",
          "As taxas para a realização da aplicação/ A incidência de impostos na aplicação",
          "A liquidez do produto, ou seja, se poderá resgatar o dinheiro sem prejuízo.",
          "A liquidez do produto, ou seja, se poderá resgatar o dinheiro sem prejuízo.",
          null,
          null,
          null,
          "O retorno da aplicação",
          null,
          "A liquidez do produto, ou seja, se poderá resgatar o dinheiro sem prejuízo.",
          "O retorno da aplicação",
          "O retorno da aplicação",
          "A liquidez do produto, ou seja, se poderá resgatar o dinheiro sem prejuízo.",
          null,
          null,
          "A liquidez do produto, ou seja, se poderá resgatar o dinheiro sem prejuízo.",
          "A segurança da aplicação",
          "A segurança da aplicação",
          "As taxas para a realização da aplicação/ A incidência de impostos na aplicação",
          null,
          "As taxas para a realização da aplicação/ A incidência de impostos na aplicação",
          "A liquidez do produto, ou seja, se poderá resgatar o dinheiro sem prejuízo.",
          "A segurança da aplicação",
          "O retorno da aplicação",
          "As taxas para a realização da aplicação/ A incidência de impostos na aplicação",
          "O retorno da aplicação",
          "As taxas para a realização da aplicação/ A incidência de impostos na aplicação",
          null,
          "A liquidez do produto, ou seja, se poderá resgatar o dinheiro sem prejuízo.",
          "O retorno da aplicação",
          "As taxas para a realização da aplicação/ A incidência de impostos na aplicação",
          null,
          null,
          "A segurança da aplicação",
          "A segurança da aplicação",
          "A liquidez do produto, ou seja, se poderá resgatar o dinheiro sem prejuízo.",
          null,
          "A segurança da aplicação",
          "As taxas para a realização da aplicação/ A incidência de impostos na aplicação",
          "As taxas para a realização da aplicação/ A incidência de impostos na aplicação",
          null,
          "O retorno da aplicação",
          "As taxas para a realização da aplicação/ A incidência de impostos na aplicação",
          null,
          "O retorno da aplicação",
          null,
          "A liquidez do produto, ou seja, se poderá resgatar o dinheiro sem prejuízo.",
          "O retorno da aplicação",
          "A liquidez do produto, ou seja, se poderá resgatar o dinheiro sem prejuízo.",
          "A liquidez do produto, ou seja, se poderá resgatar o dinheiro sem prejuízo.",
          "Nenhum",
          "A liquidez do produto, ou seja, se poderá resgatar o dinheiro sem prejuízo.",
          null,
          "A liquidez do produto, ou seja, se poderá resgatar o dinheiro sem prejuízo.",
          "A liquidez do produto, ou seja, se poderá resgatar o dinheiro sem prejuízo.",
          "As taxas para a realização da aplicação/ A incidência de impostos na aplicação",
          "A liquidez do produto, ou seja, se poderá resgatar o dinheiro sem prejuízo.",
          null,
          "As taxas para a realização da aplicação/ A incidência de impostos na aplicação",
          null,
          "As taxas para a realização da aplicação/ A incidência de impostos na aplicação",
          "A liquidez do produto, ou seja, se poderá resgatar o dinheiro sem prejuízo.",
          "A liquidez do produto, ou seja, se poderá resgatar o dinheiro sem prejuízo.",
          "A segurança da aplicação",
          "A liquidez do produto, ou seja, se poderá resgatar o dinheiro sem prejuízo.",
          null,
          "A segurança da aplicação",
          null,
          null,
          "A segurança da aplicação",
          null,
          "A segurança da aplicação",
          "A liquidez do produto, ou seja, se poderá resgatar o dinheiro sem prejuízo.",
          "A liquidez do produto, ou seja, se poderá resgatar o dinheiro sem prejuízo.",
          null,
          null,
          null,
          null,
          "O retorno da aplicação",
          "O retorno da aplicação",
          null,
          "O retorno da aplicação",
          "A liquidez do produto, ou seja, se poderá resgatar o dinheiro sem prejuízo.",
          "O retorno da aplicação",
          "O retorno da aplicação",
          "A liquidez do produto, ou seja, se poderá resgatar o dinheiro sem prejuízo.",
          null,
          null,
          null,
          "A liquidez do produto, ou seja, se poderá resgatar o dinheiro sem prejuízo.",
          "As taxas para a realização da aplicação/ A incidência de impostos na aplicação",
          "A liquidez do produto, ou seja, se poderá resgatar o dinheiro sem prejuízo.",
          null,
          "A segurança da aplicação",
          "As taxas para a realização da aplicação/ A incidência de impostos na aplicação",
          null,
          "A liquidez do produto, ou seja, se poderá resgatar o dinheiro sem prejuízo.",
          "A segurança da aplicação",
          null,
          null,
          "A segurança da aplicação",
          "As taxas para a realização da aplicação/ A incidência de impostos na aplicação",
          "A segurança da aplicação",
          "A liquidez do produto, ou seja, se poderá resgatar o dinheiro sem prejuízo.",
          null,
          "A segurança da aplicação",
          null,
          null,
          "A liquidez do produto, ou seja, se poderá resgatar o dinheiro sem prejuízo.",
          "A liquidez do produto, ou seja, se poderá resgatar o dinheiro sem prejuízo.",
          "As taxas para a realização da aplicação/ A incidência de impostos na aplicação",
          null,
          "O retorno da aplicação",
          "O retorno da aplicação",
          null,
          "A liquidez do produto, ou seja, se poderá resgatar o dinheiro sem prejuízo.",
          "A segurança da aplicação",
          null,
          null,
          null,
          null,
          "A segurança da aplicação",
          null,
          "A segurança da aplicação",
          "O retorno da aplicação",
          null,
          "O retorno da aplicação",
          null,
          null,
          "As taxas para a realização da aplicação/ A incidência de impostos na aplicação",
          null,
          null,
          "As taxas para a realização da aplicação/ A incidência de impostos na aplicação",
          "As taxas para a realização da aplicação/ A incidência de impostos na aplicação",
          null,
          "As taxas para a realização da aplicação/ A incidência de impostos na aplicação",
          null,
          "Nenhum",
          "As taxas para a realização da aplicação/ A incidência de impostos na aplicação",
          null,
          null,
          null,
          "O retorno da aplicação",
          null,
          "O retorno da aplicação",
          null,
          "O retorno da aplicação",
          "As taxas para a realização da aplicação/ A incidência de impostos na aplicação",
          null,
          "A liquidez do produto, ou seja, se poderá resgatar o dinheiro sem prejuízo.",
          "O retorno da aplicação",
          null,
          null,
          "As taxas para a realização da aplicação/ A incidência de impostos na aplicação",
          "O retorno da aplicação",
          null,
          null,
          "O retorno da aplicação",
          "O retorno da aplicação",
          null,
          "O retorno da aplicação",
          "As taxas para a realização da aplicação/ A incidência de impostos na aplicação",
          null,
          "O retorno da aplicação",
          null,
          null,
          "A liquidez do produto, ou seja, se poderá resgatar o dinheiro sem prejuízo.",
          null,
          null,
          null,
          null,
          "A liquidez do produto, ou seja, se poderá resgatar o dinheiro sem prejuízo.",
          null,
          null,
          null,
          "A segurança da aplicação",
          null,
          null,
          "A segurança da aplicação",
          "As taxas para a realização da aplicação/ A incidência de impostos na aplicação",
          "A segurança da aplicação",
          null,
          "A liquidez do produto, ou seja, se poderá resgatar o dinheiro sem prejuízo.",
          "O retorno da aplicação",
          "A liquidez do produto, ou seja, se poderá resgatar o dinheiro sem prejuízo.",
          "A liquidez do produto, ou seja, se poderá resgatar o dinheiro sem prejuízo.",
          "As taxas para a realização da aplicação/ A incidência de impostos na aplicação",
          null,
          "O retorno da aplicação",
          null,
          null,
          "O retorno da aplicação",
          "As taxas para a realização da aplicação/ A incidência de impostos na aplicação",
          null,
          null,
          null,
          "O retorno da aplicação",
          null,
          "A segurança da aplicação",
          "A segurança da aplicação",
          "As taxas para a realização da aplicação/ A incidência de impostos na aplicação",
          "A liquidez do produto, ou seja, se poderá resgatar o dinheiro sem prejuízo.",
          "A liquidez do produto, ou seja, se poderá resgatar o dinheiro sem prejuízo.",
          "As taxas para a realização da aplicação/ A incidência de impostos na aplicação",
          "A liquidez do produto, ou seja, se poderá resgatar o dinheiro sem prejuízo.",
          "A liquidez do produto, ou seja, se poderá resgatar o dinheiro sem prejuízo.",
          null,
          null,
          null,
          "As taxas para a realização da aplicação/ A incidência de impostos na aplicação",
          null,
          null
         ]
        }
       ],
       "layout": {
        "template": {
         "data": {
          "bar": [
           {
            "error_x": {
             "color": "#2a3f5f"
            },
            "error_y": {
             "color": "#2a3f5f"
            },
            "marker": {
             "line": {
              "color": "#E5ECF6",
              "width": 0.5
             },
             "pattern": {
              "fillmode": "overlay",
              "size": 10,
              "solidity": 0.2
             }
            },
            "type": "bar"
           }
          ],
          "barpolar": [
           {
            "marker": {
             "line": {
              "color": "#E5ECF6",
              "width": 0.5
             },
             "pattern": {
              "fillmode": "overlay",
              "size": 10,
              "solidity": 0.2
             }
            },
            "type": "barpolar"
           }
          ],
          "carpet": [
           {
            "aaxis": {
             "endlinecolor": "#2a3f5f",
             "gridcolor": "white",
             "linecolor": "white",
             "minorgridcolor": "white",
             "startlinecolor": "#2a3f5f"
            },
            "baxis": {
             "endlinecolor": "#2a3f5f",
             "gridcolor": "white",
             "linecolor": "white",
             "minorgridcolor": "white",
             "startlinecolor": "#2a3f5f"
            },
            "type": "carpet"
           }
          ],
          "choropleth": [
           {
            "colorbar": {
             "outlinewidth": 0,
             "ticks": ""
            },
            "type": "choropleth"
           }
          ],
          "contour": [
           {
            "colorbar": {
             "outlinewidth": 0,
             "ticks": ""
            },
            "colorscale": [
             [
              0,
              "#0d0887"
             ],
             [
              0.1111111111111111,
              "#46039f"
             ],
             [
              0.2222222222222222,
              "#7201a8"
             ],
             [
              0.3333333333333333,
              "#9c179e"
             ],
             [
              0.4444444444444444,
              "#bd3786"
             ],
             [
              0.5555555555555556,
              "#d8576b"
             ],
             [
              0.6666666666666666,
              "#ed7953"
             ],
             [
              0.7777777777777778,
              "#fb9f3a"
             ],
             [
              0.8888888888888888,
              "#fdca26"
             ],
             [
              1,
              "#f0f921"
             ]
            ],
            "type": "contour"
           }
          ],
          "contourcarpet": [
           {
            "colorbar": {
             "outlinewidth": 0,
             "ticks": ""
            },
            "type": "contourcarpet"
           }
          ],
          "heatmap": [
           {
            "colorbar": {
             "outlinewidth": 0,
             "ticks": ""
            },
            "colorscale": [
             [
              0,
              "#0d0887"
             ],
             [
              0.1111111111111111,
              "#46039f"
             ],
             [
              0.2222222222222222,
              "#7201a8"
             ],
             [
              0.3333333333333333,
              "#9c179e"
             ],
             [
              0.4444444444444444,
              "#bd3786"
             ],
             [
              0.5555555555555556,
              "#d8576b"
             ],
             [
              0.6666666666666666,
              "#ed7953"
             ],
             [
              0.7777777777777778,
              "#fb9f3a"
             ],
             [
              0.8888888888888888,
              "#fdca26"
             ],
             [
              1,
              "#f0f921"
             ]
            ],
            "type": "heatmap"
           }
          ],
          "heatmapgl": [
           {
            "colorbar": {
             "outlinewidth": 0,
             "ticks": ""
            },
            "colorscale": [
             [
              0,
              "#0d0887"
             ],
             [
              0.1111111111111111,
              "#46039f"
             ],
             [
              0.2222222222222222,
              "#7201a8"
             ],
             [
              0.3333333333333333,
              "#9c179e"
             ],
             [
              0.4444444444444444,
              "#bd3786"
             ],
             [
              0.5555555555555556,
              "#d8576b"
             ],
             [
              0.6666666666666666,
              "#ed7953"
             ],
             [
              0.7777777777777778,
              "#fb9f3a"
             ],
             [
              0.8888888888888888,
              "#fdca26"
             ],
             [
              1,
              "#f0f921"
             ]
            ],
            "type": "heatmapgl"
           }
          ],
          "histogram": [
           {
            "marker": {
             "pattern": {
              "fillmode": "overlay",
              "size": 10,
              "solidity": 0.2
             }
            },
            "type": "histogram"
           }
          ],
          "histogram2d": [
           {
            "colorbar": {
             "outlinewidth": 0,
             "ticks": ""
            },
            "colorscale": [
             [
              0,
              "#0d0887"
             ],
             [
              0.1111111111111111,
              "#46039f"
             ],
             [
              0.2222222222222222,
              "#7201a8"
             ],
             [
              0.3333333333333333,
              "#9c179e"
             ],
             [
              0.4444444444444444,
              "#bd3786"
             ],
             [
              0.5555555555555556,
              "#d8576b"
             ],
             [
              0.6666666666666666,
              "#ed7953"
             ],
             [
              0.7777777777777778,
              "#fb9f3a"
             ],
             [
              0.8888888888888888,
              "#fdca26"
             ],
             [
              1,
              "#f0f921"
             ]
            ],
            "type": "histogram2d"
           }
          ],
          "histogram2dcontour": [
           {
            "colorbar": {
             "outlinewidth": 0,
             "ticks": ""
            },
            "colorscale": [
             [
              0,
              "#0d0887"
             ],
             [
              0.1111111111111111,
              "#46039f"
             ],
             [
              0.2222222222222222,
              "#7201a8"
             ],
             [
              0.3333333333333333,
              "#9c179e"
             ],
             [
              0.4444444444444444,
              "#bd3786"
             ],
             [
              0.5555555555555556,
              "#d8576b"
             ],
             [
              0.6666666666666666,
              "#ed7953"
             ],
             [
              0.7777777777777778,
              "#fb9f3a"
             ],
             [
              0.8888888888888888,
              "#fdca26"
             ],
             [
              1,
              "#f0f921"
             ]
            ],
            "type": "histogram2dcontour"
           }
          ],
          "mesh3d": [
           {
            "colorbar": {
             "outlinewidth": 0,
             "ticks": ""
            },
            "type": "mesh3d"
           }
          ],
          "parcoords": [
           {
            "line": {
             "colorbar": {
              "outlinewidth": 0,
              "ticks": ""
             }
            },
            "type": "parcoords"
           }
          ],
          "pie": [
           {
            "automargin": true,
            "type": "pie"
           }
          ],
          "scatter": [
           {
            "marker": {
             "colorbar": {
              "outlinewidth": 0,
              "ticks": ""
             }
            },
            "type": "scatter"
           }
          ],
          "scatter3d": [
           {
            "line": {
             "colorbar": {
              "outlinewidth": 0,
              "ticks": ""
             }
            },
            "marker": {
             "colorbar": {
              "outlinewidth": 0,
              "ticks": ""
             }
            },
            "type": "scatter3d"
           }
          ],
          "scattercarpet": [
           {
            "marker": {
             "colorbar": {
              "outlinewidth": 0,
              "ticks": ""
             }
            },
            "type": "scattercarpet"
           }
          ],
          "scattergeo": [
           {
            "marker": {
             "colorbar": {
              "outlinewidth": 0,
              "ticks": ""
             }
            },
            "type": "scattergeo"
           }
          ],
          "scattergl": [
           {
            "marker": {
             "colorbar": {
              "outlinewidth": 0,
              "ticks": ""
             }
            },
            "type": "scattergl"
           }
          ],
          "scattermapbox": [
           {
            "marker": {
             "colorbar": {
              "outlinewidth": 0,
              "ticks": ""
             }
            },
            "type": "scattermapbox"
           }
          ],
          "scatterpolar": [
           {
            "marker": {
             "colorbar": {
              "outlinewidth": 0,
              "ticks": ""
             }
            },
            "type": "scatterpolar"
           }
          ],
          "scatterpolargl": [
           {
            "marker": {
             "colorbar": {
              "outlinewidth": 0,
              "ticks": ""
             }
            },
            "type": "scatterpolargl"
           }
          ],
          "scatterternary": [
           {
            "marker": {
             "colorbar": {
              "outlinewidth": 0,
              "ticks": ""
             }
            },
            "type": "scatterternary"
           }
          ],
          "surface": [
           {
            "colorbar": {
             "outlinewidth": 0,
             "ticks": ""
            },
            "colorscale": [
             [
              0,
              "#0d0887"
             ],
             [
              0.1111111111111111,
              "#46039f"
             ],
             [
              0.2222222222222222,
              "#7201a8"
             ],
             [
              0.3333333333333333,
              "#9c179e"
             ],
             [
              0.4444444444444444,
              "#bd3786"
             ],
             [
              0.5555555555555556,
              "#d8576b"
             ],
             [
              0.6666666666666666,
              "#ed7953"
             ],
             [
              0.7777777777777778,
              "#fb9f3a"
             ],
             [
              0.8888888888888888,
              "#fdca26"
             ],
             [
              1,
              "#f0f921"
             ]
            ],
            "type": "surface"
           }
          ],
          "table": [
           {
            "cells": {
             "fill": {
              "color": "#EBF0F8"
             },
             "line": {
              "color": "white"
             }
            },
            "header": {
             "fill": {
              "color": "#C8D4E3"
             },
             "line": {
              "color": "white"
             }
            },
            "type": "table"
           }
          ]
         },
         "layout": {
          "annotationdefaults": {
           "arrowcolor": "#2a3f5f",
           "arrowhead": 0,
           "arrowwidth": 1
          },
          "autotypenumbers": "strict",
          "coloraxis": {
           "colorbar": {
            "outlinewidth": 0,
            "ticks": ""
           }
          },
          "colorscale": {
           "diverging": [
            [
             0,
             "#8e0152"
            ],
            [
             0.1,
             "#c51b7d"
            ],
            [
             0.2,
             "#de77ae"
            ],
            [
             0.3,
             "#f1b6da"
            ],
            [
             0.4,
             "#fde0ef"
            ],
            [
             0.5,
             "#f7f7f7"
            ],
            [
             0.6,
             "#e6f5d0"
            ],
            [
             0.7,
             "#b8e186"
            ],
            [
             0.8,
             "#7fbc41"
            ],
            [
             0.9,
             "#4d9221"
            ],
            [
             1,
             "#276419"
            ]
           ],
           "sequential": [
            [
             0,
             "#0d0887"
            ],
            [
             0.1111111111111111,
             "#46039f"
            ],
            [
             0.2222222222222222,
             "#7201a8"
            ],
            [
             0.3333333333333333,
             "#9c179e"
            ],
            [
             0.4444444444444444,
             "#bd3786"
            ],
            [
             0.5555555555555556,
             "#d8576b"
            ],
            [
             0.6666666666666666,
             "#ed7953"
            ],
            [
             0.7777777777777778,
             "#fb9f3a"
            ],
            [
             0.8888888888888888,
             "#fdca26"
            ],
            [
             1,
             "#f0f921"
            ]
           ],
           "sequentialminus": [
            [
             0,
             "#0d0887"
            ],
            [
             0.1111111111111111,
             "#46039f"
            ],
            [
             0.2222222222222222,
             "#7201a8"
            ],
            [
             0.3333333333333333,
             "#9c179e"
            ],
            [
             0.4444444444444444,
             "#bd3786"
            ],
            [
             0.5555555555555556,
             "#d8576b"
            ],
            [
             0.6666666666666666,
             "#ed7953"
            ],
            [
             0.7777777777777778,
             "#fb9f3a"
            ],
            [
             0.8888888888888888,
             "#fdca26"
            ],
            [
             1,
             "#f0f921"
            ]
           ]
          },
          "colorway": [
           "#636efa",
           "#EF553B",
           "#00cc96",
           "#ab63fa",
           "#FFA15A",
           "#19d3f3",
           "#FF6692",
           "#B6E880",
           "#FF97FF",
           "#FECB52"
          ],
          "font": {
           "color": "#2a3f5f"
          },
          "geo": {
           "bgcolor": "white",
           "lakecolor": "white",
           "landcolor": "#E5ECF6",
           "showlakes": true,
           "showland": true,
           "subunitcolor": "white"
          },
          "hoverlabel": {
           "align": "left"
          },
          "hovermode": "closest",
          "mapbox": {
           "style": "light"
          },
          "paper_bgcolor": "white",
          "plot_bgcolor": "#E5ECF6",
          "polar": {
           "angularaxis": {
            "gridcolor": "white",
            "linecolor": "white",
            "ticks": ""
           },
           "bgcolor": "#E5ECF6",
           "radialaxis": {
            "gridcolor": "white",
            "linecolor": "white",
            "ticks": ""
           }
          },
          "scene": {
           "xaxis": {
            "backgroundcolor": "#E5ECF6",
            "gridcolor": "white",
            "gridwidth": 2,
            "linecolor": "white",
            "showbackground": true,
            "ticks": "",
            "zerolinecolor": "white"
           },
           "yaxis": {
            "backgroundcolor": "#E5ECF6",
            "gridcolor": "white",
            "gridwidth": 2,
            "linecolor": "white",
            "showbackground": true,
            "ticks": "",
            "zerolinecolor": "white"
           },
           "zaxis": {
            "backgroundcolor": "#E5ECF6",
            "gridcolor": "white",
            "gridwidth": 2,
            "linecolor": "white",
            "showbackground": true,
            "ticks": "",
            "zerolinecolor": "white"
           }
          },
          "shapedefaults": {
           "line": {
            "color": "#2a3f5f"
           }
          },
          "ternary": {
           "aaxis": {
            "gridcolor": "white",
            "linecolor": "white",
            "ticks": ""
           },
           "baxis": {
            "gridcolor": "white",
            "linecolor": "white",
            "ticks": ""
           },
           "bgcolor": "#E5ECF6",
           "caxis": {
            "gridcolor": "white",
            "linecolor": "white",
            "ticks": ""
           }
          },
          "title": {
           "x": 0.05
          },
          "xaxis": {
           "automargin": true,
           "gridcolor": "white",
           "linecolor": "white",
           "ticks": "",
           "title": {
            "standoff": 15
           },
           "zerolinecolor": "white",
           "zerolinewidth": 2
          },
          "yaxis": {
           "automargin": true,
           "gridcolor": "white",
           "linecolor": "white",
           "ticks": "",
           "title": {
            "standoff": 15
           },
           "zerolinecolor": "white",
           "zerolinewidth": 2
          }
         }
        },
        "title": {
         "text": "Motivos para Investir"
        },
        "yaxis": {
         "title": {
          "text": "Investidores"
         }
        }
       }
      },
      "text/html": [
       "<div>                            <div id=\"74b489bf-0766-407e-a513-5c5ec5c3db8e\" class=\"plotly-graph-div\" style=\"height:525px; width:100%;\"></div>            <script type=\"text/javascript\">                require([\"plotly\"], function(Plotly) {                    window.PLOTLYENV=window.PLOTLYENV || {};                                    if (document.getElementById(\"74b489bf-0766-407e-a513-5c5ec5c3db8e\")) {                    Plotly.newPlot(                        \"74b489bf-0766-407e-a513-5c5ec5c3db8e\",                        [{\"marker\":{\"color\":\"#150035\"},\"name\":\"Principal Motivo\",\"x\":[\"A seguran\\u00e7a da aplica\\u00e7\\u00e3o\",null,\"O retorno da aplica\\u00e7\\u00e3o\",\"A liquidez do produto, ou seja, se poder\\u00e1 resgatar o dinheiro sem preju\\u00edzo.\",\"A seguran\\u00e7a da aplica\\u00e7\\u00e3o\",\"A seguran\\u00e7a da aplica\\u00e7\\u00e3o\",null,\"A liquidez do produto, ou seja, se poder\\u00e1 resgatar o dinheiro sem preju\\u00edzo.\",\"O retorno da aplica\\u00e7\\u00e3o\",\"A liquidez do produto, ou seja, se poder\\u00e1 resgatar o dinheiro sem preju\\u00edzo.\",\"O retorno da aplica\\u00e7\\u00e3o\",\"A seguran\\u00e7a da aplica\\u00e7\\u00e3o\",\"A seguran\\u00e7a da aplica\\u00e7\\u00e3o\",\"A seguran\\u00e7a da aplica\\u00e7\\u00e3o\",\"A seguran\\u00e7a da aplica\\u00e7\\u00e3o\",\"A seguran\\u00e7a da aplica\\u00e7\\u00e3o\",\"A seguran\\u00e7a da aplica\\u00e7\\u00e3o\",\"A seguran\\u00e7a da aplica\\u00e7\\u00e3o\",null,\"As taxas para a realiza\\u00e7\\u00e3o da aplica\\u00e7\\u00e3o/ A incid\\u00eancia de impostos na aplica\\u00e7\\u00e3o\",null,null,null,null,null,\"O retorno da aplica\\u00e7\\u00e3o\",\"O retorno da aplica\\u00e7\\u00e3o\",\"A seguran\\u00e7a da aplica\\u00e7\\u00e3o\",null,\"A liquidez do produto, ou seja, se poder\\u00e1 resgatar o dinheiro sem preju\\u00edzo.\",\"A seguran\\u00e7a da aplica\\u00e7\\u00e3o\",null,null,null,\"A seguran\\u00e7a da aplica\\u00e7\\u00e3o\",\"A seguran\\u00e7a da aplica\\u00e7\\u00e3o\",null,\"A seguran\\u00e7a da aplica\\u00e7\\u00e3o\",\"A seguran\\u00e7a da aplica\\u00e7\\u00e3o\",\"A liquidez do produto, ou seja, se poder\\u00e1 resgatar o dinheiro sem preju\\u00edzo.\",\"A seguran\\u00e7a da aplica\\u00e7\\u00e3o\",\"A seguran\\u00e7a da aplica\\u00e7\\u00e3o\",null,null,null,\"A liquidez do produto, ou seja, se poder\\u00e1 resgatar o dinheiro sem preju\\u00edzo.\",\"A seguran\\u00e7a da aplica\\u00e7\\u00e3o\",null,null,null,\"A seguran\\u00e7a da aplica\\u00e7\\u00e3o\",null,null,\"O retorno da aplica\\u00e7\\u00e3o\",null,null,\"O retorno da aplica\\u00e7\\u00e3o\",\"A seguran\\u00e7a da aplica\\u00e7\\u00e3o\",\"A seguran\\u00e7a da aplica\\u00e7\\u00e3o\",null,\"O retorno da aplica\\u00e7\\u00e3o\",null,null,null,null,null,\"A liquidez do produto, ou seja, se poder\\u00e1 resgatar o dinheiro sem preju\\u00edzo.\",null,\"A seguran\\u00e7a da aplica\\u00e7\\u00e3o\",null,\"O retorno da aplica\\u00e7\\u00e3o\",null,null,null,null,\"A seguran\\u00e7a da aplica\\u00e7\\u00e3o\",null,\"A seguran\\u00e7a da aplica\\u00e7\\u00e3o\",null,null,null,null,\"A seguran\\u00e7a da aplica\\u00e7\\u00e3o\",\"A seguran\\u00e7a da aplica\\u00e7\\u00e3o\",null,\"A seguran\\u00e7a da aplica\\u00e7\\u00e3o\",null,\"O retorno da aplica\\u00e7\\u00e3o\",null,\"A liquidez do produto, ou seja, se poder\\u00e1 resgatar o dinheiro sem preju\\u00edzo.\",\"As taxas para a realiza\\u00e7\\u00e3o da aplica\\u00e7\\u00e3o/ A incid\\u00eancia de impostos na aplica\\u00e7\\u00e3o\",null,\"A seguran\\u00e7a da aplica\\u00e7\\u00e3o\",\"O retorno da aplica\\u00e7\\u00e3o\",\"O retorno da aplica\\u00e7\\u00e3o\",null,null,\"O retorno da aplica\\u00e7\\u00e3o\",null,\"A seguran\\u00e7a da aplica\\u00e7\\u00e3o\",\"O retorno da aplica\\u00e7\\u00e3o\",\"A seguran\\u00e7a da aplica\\u00e7\\u00e3o\",null,\"A seguran\\u00e7a da aplica\\u00e7\\u00e3o\",null,\"O retorno da aplica\\u00e7\\u00e3o\",\"A seguran\\u00e7a da aplica\\u00e7\\u00e3o\",\"A seguran\\u00e7a da aplica\\u00e7\\u00e3o\",\"O retorno da aplica\\u00e7\\u00e3o\",\"A liquidez do produto, ou seja, se poder\\u00e1 resgatar o dinheiro sem preju\\u00edzo.\",\"A seguran\\u00e7a da aplica\\u00e7\\u00e3o\",null,null,null,\"A liquidez do produto, ou seja, se poder\\u00e1 resgatar o dinheiro sem preju\\u00edzo.\",\"As taxas para a realiza\\u00e7\\u00e3o da aplica\\u00e7\\u00e3o/ A incid\\u00eancia de impostos na aplica\\u00e7\\u00e3o\",null,null,null,\"A liquidez do produto, ou seja, se poder\\u00e1 resgatar o dinheiro sem preju\\u00edzo.\",\"As taxas para a realiza\\u00e7\\u00e3o da aplica\\u00e7\\u00e3o/ A incid\\u00eancia de impostos na aplica\\u00e7\\u00e3o\",null,null,null,null,null,\"O retorno da aplica\\u00e7\\u00e3o\",null,null,null,\"O retorno da aplica\\u00e7\\u00e3o\",\"A seguran\\u00e7a da aplica\\u00e7\\u00e3o\",null,\"A liquidez do produto, ou seja, se poder\\u00e1 resgatar o dinheiro sem preju\\u00edzo.\",\"O retorno da aplica\\u00e7\\u00e3o\",null,null,\"O retorno da aplica\\u00e7\\u00e3o\",\"A liquidez do produto, ou seja, se poder\\u00e1 resgatar o dinheiro sem preju\\u00edzo.\",null,null,\"O retorno da aplica\\u00e7\\u00e3o\",\"A seguran\\u00e7a da aplica\\u00e7\\u00e3o\",\"A liquidez do produto, ou seja, se poder\\u00e1 resgatar o dinheiro sem preju\\u00edzo.\",null,\"A seguran\\u00e7a da aplica\\u00e7\\u00e3o\",\"A liquidez do produto, ou seja, se poder\\u00e1 resgatar o dinheiro sem preju\\u00edzo.\",\"A seguran\\u00e7a da aplica\\u00e7\\u00e3o\",\"A liquidez do produto, ou seja, se poder\\u00e1 resgatar o dinheiro sem preju\\u00edzo.\",null,\"A seguran\\u00e7a da aplica\\u00e7\\u00e3o\",\"A seguran\\u00e7a da aplica\\u00e7\\u00e3o\",\"As taxas para a realiza\\u00e7\\u00e3o da aplica\\u00e7\\u00e3o/ A incid\\u00eancia de impostos na aplica\\u00e7\\u00e3o\",null,\"A seguran\\u00e7a da aplica\\u00e7\\u00e3o\",\"O retorno da aplica\\u00e7\\u00e3o\",\"O retorno da aplica\\u00e7\\u00e3o\",\"A liquidez do produto, ou seja, se poder\\u00e1 resgatar o dinheiro sem preju\\u00edzo.\",\"A seguran\\u00e7a da aplica\\u00e7\\u00e3o\",null,null,null,null,\"A seguran\\u00e7a da aplica\\u00e7\\u00e3o\",null,null,null,null,\"O retorno da aplica\\u00e7\\u00e3o\",\"A seguran\\u00e7a da aplica\\u00e7\\u00e3o\",\"A seguran\\u00e7a da aplica\\u00e7\\u00e3o\",\"A seguran\\u00e7a da aplica\\u00e7\\u00e3o\",\"A seguran\\u00e7a da aplica\\u00e7\\u00e3o\",\"As taxas para a realiza\\u00e7\\u00e3o da aplica\\u00e7\\u00e3o/ A incid\\u00eancia de impostos na aplica\\u00e7\\u00e3o\",null,\"O retorno da aplica\\u00e7\\u00e3o\",\"O retorno da aplica\\u00e7\\u00e3o\",\"A liquidez do produto, ou seja, se poder\\u00e1 resgatar o dinheiro sem preju\\u00edzo.\",\"As taxas para a realiza\\u00e7\\u00e3o da aplica\\u00e7\\u00e3o/ A incid\\u00eancia de impostos na aplica\\u00e7\\u00e3o\",\"A seguran\\u00e7a da aplica\\u00e7\\u00e3o\",\"A liquidez do produto, ou seja, se poder\\u00e1 resgatar o dinheiro sem preju\\u00edzo.\",null,null,\"O retorno da aplica\\u00e7\\u00e3o\",\"O retorno da aplica\\u00e7\\u00e3o\",\"A seguran\\u00e7a da aplica\\u00e7\\u00e3o\",null,null,\"A liquidez do produto, ou seja, se poder\\u00e1 resgatar o dinheiro sem preju\\u00edzo.\",\"A liquidez do produto, ou seja, se poder\\u00e1 resgatar o dinheiro sem preju\\u00edzo.\",\"A seguran\\u00e7a da aplica\\u00e7\\u00e3o\",null,\"A liquidez do produto, ou seja, se poder\\u00e1 resgatar o dinheiro sem preju\\u00edzo.\",\"A seguran\\u00e7a da aplica\\u00e7\\u00e3o\",\"A seguran\\u00e7a da aplica\\u00e7\\u00e3o\",\"A seguran\\u00e7a da aplica\\u00e7\\u00e3o\",\"A seguran\\u00e7a da aplica\\u00e7\\u00e3o\",\"A seguran\\u00e7a da aplica\\u00e7\\u00e3o\",\"A seguran\\u00e7a da aplica\\u00e7\\u00e3o\",null,\"O retorno da aplica\\u00e7\\u00e3o\",null,null,null,\"A seguran\\u00e7a da aplica\\u00e7\\u00e3o\",\"A seguran\\u00e7a da aplica\\u00e7\\u00e3o\",\"O retorno da aplica\\u00e7\\u00e3o\",\"A seguran\\u00e7a da aplica\\u00e7\\u00e3o\",null,\"O retorno da aplica\\u00e7\\u00e3o\",\"A seguran\\u00e7a da aplica\\u00e7\\u00e3o\",null,\"A liquidez do produto, ou seja, se poder\\u00e1 resgatar o dinheiro sem preju\\u00edzo.\",null,\"A liquidez do produto, ou seja, se poder\\u00e1 resgatar o dinheiro sem preju\\u00edzo.\",\"A seguran\\u00e7a da aplica\\u00e7\\u00e3o\",\"A liquidez do produto, ou seja, se poder\\u00e1 resgatar o dinheiro sem preju\\u00edzo.\",null,null,\"A liquidez do produto, ou seja, se poder\\u00e1 resgatar o dinheiro sem preju\\u00edzo.\",\"A liquidez do produto, ou seja, se poder\\u00e1 resgatar o dinheiro sem preju\\u00edzo.\",null,null,\"O retorno da aplica\\u00e7\\u00e3o\",null,\"As taxas para a realiza\\u00e7\\u00e3o da aplica\\u00e7\\u00e3o/ A incid\\u00eancia de impostos na aplica\\u00e7\\u00e3o\",\"A seguran\\u00e7a da aplica\\u00e7\\u00e3o\",\"A seguran\\u00e7a da aplica\\u00e7\\u00e3o\",\"A seguran\\u00e7a da aplica\\u00e7\\u00e3o\",\"A seguran\\u00e7a da aplica\\u00e7\\u00e3o\",null,null,null,\"A liquidez do produto, ou seja, se poder\\u00e1 resgatar o dinheiro sem preju\\u00edzo.\",null,\"A seguran\\u00e7a da aplica\\u00e7\\u00e3o\",\"A liquidez do produto, ou seja, se poder\\u00e1 resgatar o dinheiro sem preju\\u00edzo.\",\"A seguran\\u00e7a da aplica\\u00e7\\u00e3o\",\"A seguran\\u00e7a da aplica\\u00e7\\u00e3o\",null,null,\"As taxas para a realiza\\u00e7\\u00e3o da aplica\\u00e7\\u00e3o/ A incid\\u00eancia de impostos na aplica\\u00e7\\u00e3o\",\"A liquidez do produto, ou seja, se poder\\u00e1 resgatar o dinheiro sem preju\\u00edzo.\",\"O retorno da aplica\\u00e7\\u00e3o\",\"A seguran\\u00e7a da aplica\\u00e7\\u00e3o\",null,\"O retorno da aplica\\u00e7\\u00e3o\",\"A seguran\\u00e7a da aplica\\u00e7\\u00e3o\",\"A liquidez do produto, ou seja, se poder\\u00e1 resgatar o dinheiro sem preju\\u00edzo.\",\"As taxas para a realiza\\u00e7\\u00e3o da aplica\\u00e7\\u00e3o/ A incid\\u00eancia de impostos na aplica\\u00e7\\u00e3o\",\"A seguran\\u00e7a da aplica\\u00e7\\u00e3o\",\"A liquidez do produto, ou seja, se poder\\u00e1 resgatar o dinheiro sem preju\\u00edzo.\",\"O retorno da aplica\\u00e7\\u00e3o\",null,\"A seguran\\u00e7a da aplica\\u00e7\\u00e3o\",\"As taxas para a realiza\\u00e7\\u00e3o da aplica\\u00e7\\u00e3o/ A incid\\u00eancia de impostos na aplica\\u00e7\\u00e3o\",\"O retorno da aplica\\u00e7\\u00e3o\",null,null,\"O retorno da aplica\\u00e7\\u00e3o\",\"O retorno da aplica\\u00e7\\u00e3o\",\"A seguran\\u00e7a da aplica\\u00e7\\u00e3o\",null,\"O retorno da aplica\\u00e7\\u00e3o\",\"A seguran\\u00e7a da aplica\\u00e7\\u00e3o\",\"A seguran\\u00e7a da aplica\\u00e7\\u00e3o\",null,\"As taxas para a realiza\\u00e7\\u00e3o da aplica\\u00e7\\u00e3o/ A incid\\u00eancia de impostos na aplica\\u00e7\\u00e3o\",\"A seguran\\u00e7a da aplica\\u00e7\\u00e3o\",null,\"A seguran\\u00e7a da aplica\\u00e7\\u00e3o\",null,\"A seguran\\u00e7a da aplica\\u00e7\\u00e3o\",\"A liquidez do produto, ou seja, se poder\\u00e1 resgatar o dinheiro sem preju\\u00edzo.\",\"A seguran\\u00e7a da aplica\\u00e7\\u00e3o\",\"O retorno da aplica\\u00e7\\u00e3o\",\"O retorno da aplica\\u00e7\\u00e3o\",\"O retorno da aplica\\u00e7\\u00e3o\",null,\"A seguran\\u00e7a da aplica\\u00e7\\u00e3o\",\"O retorno da aplica\\u00e7\\u00e3o\",\"A seguran\\u00e7a da aplica\\u00e7\\u00e3o\",\"A seguran\\u00e7a da aplica\\u00e7\\u00e3o\",null,\"O retorno da aplica\\u00e7\\u00e3o\",null,\"A liquidez do produto, ou seja, se poder\\u00e1 resgatar o dinheiro sem preju\\u00edzo.\",\"A seguran\\u00e7a da aplica\\u00e7\\u00e3o\",\"O retorno da aplica\\u00e7\\u00e3o\",\"A liquidez do produto, ou seja, se poder\\u00e1 resgatar o dinheiro sem preju\\u00edzo.\",\"O retorno da aplica\\u00e7\\u00e3o\",null,\"As taxas para a realiza\\u00e7\\u00e3o da aplica\\u00e7\\u00e3o/ A incid\\u00eancia de impostos na aplica\\u00e7\\u00e3o\",null,null,\"A liquidez do produto, ou seja, se poder\\u00e1 resgatar o dinheiro sem preju\\u00edzo.\",null,\"O retorno da aplica\\u00e7\\u00e3o\",\"O retorno da aplica\\u00e7\\u00e3o\",\"A seguran\\u00e7a da aplica\\u00e7\\u00e3o\",null,null,null,null,\"As taxas para a realiza\\u00e7\\u00e3o da aplica\\u00e7\\u00e3o/ A incid\\u00eancia de impostos na aplica\\u00e7\\u00e3o\",\"A seguran\\u00e7a da aplica\\u00e7\\u00e3o\",null,\"A liquidez do produto, ou seja, se poder\\u00e1 resgatar o dinheiro sem preju\\u00edzo.\",\"A seguran\\u00e7a da aplica\\u00e7\\u00e3o\",\"A seguran\\u00e7a da aplica\\u00e7\\u00e3o\",\"A seguran\\u00e7a da aplica\\u00e7\\u00e3o\",\"O retorno da aplica\\u00e7\\u00e3o\",null,null,null,\"A seguran\\u00e7a da aplica\\u00e7\\u00e3o\",\"O retorno da aplica\\u00e7\\u00e3o\",\"A seguran\\u00e7a da aplica\\u00e7\\u00e3o\",null,\"A liquidez do produto, ou seja, se poder\\u00e1 resgatar o dinheiro sem preju\\u00edzo.\",\"A seguran\\u00e7a da aplica\\u00e7\\u00e3o\",null,\"O retorno da aplica\\u00e7\\u00e3o\",\"O retorno da aplica\\u00e7\\u00e3o\",null,null,\"A liquidez do produto, ou seja, se poder\\u00e1 resgatar o dinheiro sem preju\\u00edzo.\",\"A liquidez do produto, ou seja, se poder\\u00e1 resgatar o dinheiro sem preju\\u00edzo.\",\"As taxas para a realiza\\u00e7\\u00e3o da aplica\\u00e7\\u00e3o/ A incid\\u00eancia de impostos na aplica\\u00e7\\u00e3o\",\"O retorno da aplica\\u00e7\\u00e3o\",null,\"O retorno da aplica\\u00e7\\u00e3o\",null,null,\"A seguran\\u00e7a da aplica\\u00e7\\u00e3o\",\"O retorno da aplica\\u00e7\\u00e3o\",\"O retorno da aplica\\u00e7\\u00e3o\",null,\"A seguran\\u00e7a da aplica\\u00e7\\u00e3o\",\"A seguran\\u00e7a da aplica\\u00e7\\u00e3o\",null,\"A seguran\\u00e7a da aplica\\u00e7\\u00e3o\",\"A liquidez do produto, ou seja, se poder\\u00e1 resgatar o dinheiro sem preju\\u00edzo.\",null,null,null,null,\"O retorno da aplica\\u00e7\\u00e3o\",null,\"O retorno da aplica\\u00e7\\u00e3o\",\"A seguran\\u00e7a da aplica\\u00e7\\u00e3o\",null,\"A liquidez do produto, ou seja, se poder\\u00e1 resgatar o dinheiro sem preju\\u00edzo.\",null,null,\"A liquidez do produto, ou seja, se poder\\u00e1 resgatar o dinheiro sem preju\\u00edzo.\",null,null,\"A liquidez do produto, ou seja, se poder\\u00e1 resgatar o dinheiro sem preju\\u00edzo.\",\"O retorno da aplica\\u00e7\\u00e3o\",null,\"O retorno da aplica\\u00e7\\u00e3o\",null,\"A liquidez do produto, ou seja, se poder\\u00e1 resgatar o dinheiro sem preju\\u00edzo.\",\"A seguran\\u00e7a da aplica\\u00e7\\u00e3o\",null,null,null,\"A seguran\\u00e7a da aplica\\u00e7\\u00e3o\",null,\"A seguran\\u00e7a da aplica\\u00e7\\u00e3o\",null,\"A seguran\\u00e7a da aplica\\u00e7\\u00e3o\",\"O retorno da aplica\\u00e7\\u00e3o\",null,\"A seguran\\u00e7a da aplica\\u00e7\\u00e3o\",\"As taxas para a realiza\\u00e7\\u00e3o da aplica\\u00e7\\u00e3o/ A incid\\u00eancia de impostos na aplica\\u00e7\\u00e3o\",null,null,\"O retorno da aplica\\u00e7\\u00e3o\",\"A seguran\\u00e7a da aplica\\u00e7\\u00e3o\",null,null,\"As taxas para a realiza\\u00e7\\u00e3o da aplica\\u00e7\\u00e3o/ A incid\\u00eancia de impostos na aplica\\u00e7\\u00e3o\",\"A seguran\\u00e7a da aplica\\u00e7\\u00e3o\",null,\"A seguran\\u00e7a da aplica\\u00e7\\u00e3o\",\"A seguran\\u00e7a da aplica\\u00e7\\u00e3o\",null,\"A liquidez do produto, ou seja, se poder\\u00e1 resgatar o dinheiro sem preju\\u00edzo.\",null,null,\"O retorno da aplica\\u00e7\\u00e3o\",null,null,null,null,\"O retorno da aplica\\u00e7\\u00e3o\",null,null,null,\"O retorno da aplica\\u00e7\\u00e3o\",null,null,\"O retorno da aplica\\u00e7\\u00e3o\",\"A seguran\\u00e7a da aplica\\u00e7\\u00e3o\",\"As taxas para a realiza\\u00e7\\u00e3o da aplica\\u00e7\\u00e3o/ A incid\\u00eancia de impostos na aplica\\u00e7\\u00e3o\",null,\"A seguran\\u00e7a da aplica\\u00e7\\u00e3o\",\"A liquidez do produto, ou seja, se poder\\u00e1 resgatar o dinheiro sem preju\\u00edzo.\",\"A seguran\\u00e7a da aplica\\u00e7\\u00e3o\",\"A seguran\\u00e7a da aplica\\u00e7\\u00e3o\",\"A liquidez do produto, ou seja, se poder\\u00e1 resgatar o dinheiro sem preju\\u00edzo.\",null,\"A seguran\\u00e7a da aplica\\u00e7\\u00e3o\",null,null,\"A liquidez do produto, ou seja, se poder\\u00e1 resgatar o dinheiro sem preju\\u00edzo.\",\"A seguran\\u00e7a da aplica\\u00e7\\u00e3o\",null,null,null,\"A liquidez do produto, ou seja, se poder\\u00e1 resgatar o dinheiro sem preju\\u00edzo.\",null,\"A liquidez do produto, ou seja, se poder\\u00e1 resgatar o dinheiro sem preju\\u00edzo.\",\"O retorno da aplica\\u00e7\\u00e3o\",\"O retorno da aplica\\u00e7\\u00e3o\",\"A seguran\\u00e7a da aplica\\u00e7\\u00e3o\",\"A seguran\\u00e7a da aplica\\u00e7\\u00e3o\",\"A seguran\\u00e7a da aplica\\u00e7\\u00e3o\",\"A seguran\\u00e7a da aplica\\u00e7\\u00e3o\",\"A seguran\\u00e7a da aplica\\u00e7\\u00e3o\",null,null,null,\"A seguran\\u00e7a da aplica\\u00e7\\u00e3o\",null,null],\"type\":\"histogram\"},{\"marker\":{\"color\":\"#FDE443\"},\"name\":\"Segundo Motivo\",\"x\":[\"As taxas para a realiza\\u00e7\\u00e3o da aplica\\u00e7\\u00e3o/ A incid\\u00eancia de impostos na aplica\\u00e7\\u00e3o\",null,\"A liquidez do produto, ou seja, se poder\\u00e1 resgatar o dinheiro sem preju\\u00edzo.\",\"A seguran\\u00e7a da aplica\\u00e7\\u00e3o\",\"O retorno da aplica\\u00e7\\u00e3o\",\"A liquidez do produto, ou seja, se poder\\u00e1 resgatar o dinheiro sem preju\\u00edzo.\",null,\"A seguran\\u00e7a da aplica\\u00e7\\u00e3o\",\"A liquidez do produto, ou seja, se poder\\u00e1 resgatar o dinheiro sem preju\\u00edzo.\",\"As taxas para a realiza\\u00e7\\u00e3o da aplica\\u00e7\\u00e3o/ A incid\\u00eancia de impostos na aplica\\u00e7\\u00e3o\",\"A liquidez do produto, ou seja, se poder\\u00e1 resgatar o dinheiro sem preju\\u00edzo.\",\"A liquidez do produto, ou seja, se poder\\u00e1 resgatar o dinheiro sem preju\\u00edzo.\",\"A liquidez do produto, ou seja, se poder\\u00e1 resgatar o dinheiro sem preju\\u00edzo.\",\"O retorno da aplica\\u00e7\\u00e3o\",\"As taxas para a realiza\\u00e7\\u00e3o da aplica\\u00e7\\u00e3o/ A incid\\u00eancia de impostos na aplica\\u00e7\\u00e3o\",\"O retorno da aplica\\u00e7\\u00e3o\",\"O retorno da aplica\\u00e7\\u00e3o\",\"O retorno da aplica\\u00e7\\u00e3o\",null,\"O retorno da aplica\\u00e7\\u00e3o\",null,null,null,null,null,\"A liquidez do produto, ou seja, se poder\\u00e1 resgatar o dinheiro sem preju\\u00edzo.\",\"A seguran\\u00e7a da aplica\\u00e7\\u00e3o\",\"As taxas para a realiza\\u00e7\\u00e3o da aplica\\u00e7\\u00e3o/ A incid\\u00eancia de impostos na aplica\\u00e7\\u00e3o\",null,\"A seguran\\u00e7a da aplica\\u00e7\\u00e3o\",\"As taxas para a realiza\\u00e7\\u00e3o da aplica\\u00e7\\u00e3o/ A incid\\u00eancia de impostos na aplica\\u00e7\\u00e3o\",null,null,null,\"O retorno da aplica\\u00e7\\u00e3o\",\"O retorno da aplica\\u00e7\\u00e3o\",null,\"O retorno da aplica\\u00e7\\u00e3o\",\"O retorno da aplica\\u00e7\\u00e3o\",\"As taxas para a realiza\\u00e7\\u00e3o da aplica\\u00e7\\u00e3o/ A incid\\u00eancia de impostos na aplica\\u00e7\\u00e3o\",\"O retorno da aplica\\u00e7\\u00e3o\",\"O retorno da aplica\\u00e7\\u00e3o\",null,null,null,\"O retorno da aplica\\u00e7\\u00e3o\",\"As taxas para a realiza\\u00e7\\u00e3o da aplica\\u00e7\\u00e3o/ A incid\\u00eancia de impostos na aplica\\u00e7\\u00e3o\",null,null,null,\"O retorno da aplica\\u00e7\\u00e3o\",null,null,\"A seguran\\u00e7a da aplica\\u00e7\\u00e3o\",null,null,\"A seguran\\u00e7a da aplica\\u00e7\\u00e3o\",\"O retorno da aplica\\u00e7\\u00e3o\",\"A liquidez do produto, ou seja, se poder\\u00e1 resgatar o dinheiro sem preju\\u00edzo.\",null,\"A seguran\\u00e7a da aplica\\u00e7\\u00e3o\",null,null,null,null,null,\"A seguran\\u00e7a da aplica\\u00e7\\u00e3o\",null,\"A liquidez do produto, ou seja, se poder\\u00e1 resgatar o dinheiro sem preju\\u00edzo.\",null,\"A seguran\\u00e7a da aplica\\u00e7\\u00e3o\",null,null,null,null,\"O retorno da aplica\\u00e7\\u00e3o\",null,\"O retorno da aplica\\u00e7\\u00e3o\",null,null,null,null,\"A liquidez do produto, ou seja, se poder\\u00e1 resgatar o dinheiro sem preju\\u00edzo.\",\"As taxas para a realiza\\u00e7\\u00e3o da aplica\\u00e7\\u00e3o/ A incid\\u00eancia de impostos na aplica\\u00e7\\u00e3o\",null,\"A liquidez do produto, ou seja, se poder\\u00e1 resgatar o dinheiro sem preju\\u00edzo.\",null,\"A seguran\\u00e7a da aplica\\u00e7\\u00e3o\",null,\"O retorno da aplica\\u00e7\\u00e3o\",\"A seguran\\u00e7a da aplica\\u00e7\\u00e3o\",null,\"O retorno da aplica\\u00e7\\u00e3o\",\"A seguran\\u00e7a da aplica\\u00e7\\u00e3o\",\"A seguran\\u00e7a da aplica\\u00e7\\u00e3o\",null,null,\"A seguran\\u00e7a da aplica\\u00e7\\u00e3o\",null,\"O retorno da aplica\\u00e7\\u00e3o\",\"Nenhum\",null,null,\"As taxas para a realiza\\u00e7\\u00e3o da aplica\\u00e7\\u00e3o/ A incid\\u00eancia de impostos na aplica\\u00e7\\u00e3o\",null,\"As taxas para a realiza\\u00e7\\u00e3o da aplica\\u00e7\\u00e3o/ A incid\\u00eancia de impostos na aplica\\u00e7\\u00e3o\",\"O retorno da aplica\\u00e7\\u00e3o\",\"As taxas para a realiza\\u00e7\\u00e3o da aplica\\u00e7\\u00e3o/ A incid\\u00eancia de impostos na aplica\\u00e7\\u00e3o\",\"A seguran\\u00e7a da aplica\\u00e7\\u00e3o\",\"O retorno da aplica\\u00e7\\u00e3o\",\"O retorno da aplica\\u00e7\\u00e3o\",null,null,null,\"O retorno da aplica\\u00e7\\u00e3o\",\"O retorno da aplica\\u00e7\\u00e3o\",null,null,null,\"A seguran\\u00e7a da aplica\\u00e7\\u00e3o\",\"O retorno da aplica\\u00e7\\u00e3o\",null,null,null,null,null,\"A liquidez do produto, ou seja, se poder\\u00e1 resgatar o dinheiro sem preju\\u00edzo.\",null,null,null,\"A liquidez do produto, ou seja, se poder\\u00e1 resgatar o dinheiro sem preju\\u00edzo.\",\"As taxas para a realiza\\u00e7\\u00e3o da aplica\\u00e7\\u00e3o/ A incid\\u00eancia de impostos na aplica\\u00e7\\u00e3o\",null,\"O retorno da aplica\\u00e7\\u00e3o\",\"A liquidez do produto, ou seja, se poder\\u00e1 resgatar o dinheiro sem preju\\u00edzo.\",null,null,\"As taxas para a realiza\\u00e7\\u00e3o da aplica\\u00e7\\u00e3o/ A incid\\u00eancia de impostos na aplica\\u00e7\\u00e3o\",\"A seguran\\u00e7a da aplica\\u00e7\\u00e3o\",null,null,\"A liquidez do produto, ou seja, se poder\\u00e1 resgatar o dinheiro sem preju\\u00edzo.\",\"A liquidez do produto, ou seja, se poder\\u00e1 resgatar o dinheiro sem preju\\u00edzo.\",\"A seguran\\u00e7a da aplica\\u00e7\\u00e3o\",null,\"A liquidez do produto, ou seja, se poder\\u00e1 resgatar o dinheiro sem preju\\u00edzo.\",\"O retorno da aplica\\u00e7\\u00e3o\",\"A liquidez do produto, ou seja, se poder\\u00e1 resgatar o dinheiro sem preju\\u00edzo.\",\"O retorno da aplica\\u00e7\\u00e3o\",null,\"O retorno da aplica\\u00e7\\u00e3o\",\"O retorno da aplica\\u00e7\\u00e3o\",\"A liquidez do produto, ou seja, se poder\\u00e1 resgatar o dinheiro sem preju\\u00edzo.\",null,\"O retorno da aplica\\u00e7\\u00e3o\",\"A liquidez do produto, ou seja, se poder\\u00e1 resgatar o dinheiro sem preju\\u00edzo.\",\"As taxas para a realiza\\u00e7\\u00e3o da aplica\\u00e7\\u00e3o/ A incid\\u00eancia de impostos na aplica\\u00e7\\u00e3o\",\"O retorno da aplica\\u00e7\\u00e3o\",\"As taxas para a realiza\\u00e7\\u00e3o da aplica\\u00e7\\u00e3o/ A incid\\u00eancia de impostos na aplica\\u00e7\\u00e3o\",null,null,null,null,\"O retorno da aplica\\u00e7\\u00e3o\",null,null,null,null,\"A seguran\\u00e7a da aplica\\u00e7\\u00e3o\",\"A liquidez do produto, ou seja, se poder\\u00e1 resgatar o dinheiro sem preju\\u00edzo.\",\"O retorno da aplica\\u00e7\\u00e3o\",\"A liquidez do produto, ou seja, se poder\\u00e1 resgatar o dinheiro sem preju\\u00edzo.\",\"As taxas para a realiza\\u00e7\\u00e3o da aplica\\u00e7\\u00e3o/ A incid\\u00eancia de impostos na aplica\\u00e7\\u00e3o\",\"O retorno da aplica\\u00e7\\u00e3o\",null,\"A liquidez do produto, ou seja, se poder\\u00e1 resgatar o dinheiro sem preju\\u00edzo.\",\"A seguran\\u00e7a da aplica\\u00e7\\u00e3o\",\"O retorno da aplica\\u00e7\\u00e3o\",\"O retorno da aplica\\u00e7\\u00e3o\",\"A liquidez do produto, ou seja, se poder\\u00e1 resgatar o dinheiro sem preju\\u00edzo.\",\"A seguran\\u00e7a da aplica\\u00e7\\u00e3o\",null,null,\"A liquidez do produto, ou seja, se poder\\u00e1 resgatar o dinheiro sem preju\\u00edzo.\",\"A seguran\\u00e7a da aplica\\u00e7\\u00e3o\",\"As taxas para a realiza\\u00e7\\u00e3o da aplica\\u00e7\\u00e3o/ A incid\\u00eancia de impostos na aplica\\u00e7\\u00e3o\",null,null,\"A seguran\\u00e7a da aplica\\u00e7\\u00e3o\",\"As taxas para a realiza\\u00e7\\u00e3o da aplica\\u00e7\\u00e3o/ A incid\\u00eancia de impostos na aplica\\u00e7\\u00e3o\",\"A liquidez do produto, ou seja, se poder\\u00e1 resgatar o dinheiro sem preju\\u00edzo.\",null,\"O retorno da aplica\\u00e7\\u00e3o\",\"A liquidez do produto, ou seja, se poder\\u00e1 resgatar o dinheiro sem preju\\u00edzo.\",\"O retorno da aplica\\u00e7\\u00e3o\",\"A liquidez do produto, ou seja, se poder\\u00e1 resgatar o dinheiro sem preju\\u00edzo.\",\"A liquidez do produto, ou seja, se poder\\u00e1 resgatar o dinheiro sem preju\\u00edzo.\",\"A liquidez do produto, ou seja, se poder\\u00e1 resgatar o dinheiro sem preju\\u00edzo.\",\"O retorno da aplica\\u00e7\\u00e3o\",null,\"A seguran\\u00e7a da aplica\\u00e7\\u00e3o\",null,null,null,\"O retorno da aplica\\u00e7\\u00e3o\",\"O retorno da aplica\\u00e7\\u00e3o\",\"A seguran\\u00e7a da aplica\\u00e7\\u00e3o\",\"O retorno da aplica\\u00e7\\u00e3o\",null,\"As taxas para a realiza\\u00e7\\u00e3o da aplica\\u00e7\\u00e3o/ A incid\\u00eancia de impostos na aplica\\u00e7\\u00e3o\",\"O retorno da aplica\\u00e7\\u00e3o\",null,\"A seguran\\u00e7a da aplica\\u00e7\\u00e3o\",null,\"O retorno da aplica\\u00e7\\u00e3o\",\"As taxas para a realiza\\u00e7\\u00e3o da aplica\\u00e7\\u00e3o/ A incid\\u00eancia de impostos na aplica\\u00e7\\u00e3o\",\"A seguran\\u00e7a da aplica\\u00e7\\u00e3o\",null,null,\"O retorno da aplica\\u00e7\\u00e3o\",\"O retorno da aplica\\u00e7\\u00e3o\",null,null,\"A seguran\\u00e7a da aplica\\u00e7\\u00e3o\",null,\"O retorno da aplica\\u00e7\\u00e3o\",\"O retorno da aplica\\u00e7\\u00e3o\",\"O retorno da aplica\\u00e7\\u00e3o\",\"O retorno da aplica\\u00e7\\u00e3o\",\"O retorno da aplica\\u00e7\\u00e3o\",null,null,null,\"A seguran\\u00e7a da aplica\\u00e7\\u00e3o\",null,\"O retorno da aplica\\u00e7\\u00e3o\",\"A seguran\\u00e7a da aplica\\u00e7\\u00e3o\",\"As taxas para a realiza\\u00e7\\u00e3o da aplica\\u00e7\\u00e3o/ A incid\\u00eancia de impostos na aplica\\u00e7\\u00e3o\",\"O retorno da aplica\\u00e7\\u00e3o\",null,null,\"A seguran\\u00e7a da aplica\\u00e7\\u00e3o\",\"O retorno da aplica\\u00e7\\u00e3o\",\"A liquidez do produto, ou seja, se poder\\u00e1 resgatar o dinheiro sem preju\\u00edzo.\",\"O retorno da aplica\\u00e7\\u00e3o\",null,\"A seguran\\u00e7a da aplica\\u00e7\\u00e3o\",\"O retorno da aplica\\u00e7\\u00e3o\",\"O retorno da aplica\\u00e7\\u00e3o\",\"A seguran\\u00e7a da aplica\\u00e7\\u00e3o\",\"O retorno da aplica\\u00e7\\u00e3o\",\"A seguran\\u00e7a da aplica\\u00e7\\u00e3o\",\"A seguran\\u00e7a da aplica\\u00e7\\u00e3o\",null,\"O retorno da aplica\\u00e7\\u00e3o\",\"A seguran\\u00e7a da aplica\\u00e7\\u00e3o\",\"A seguran\\u00e7a da aplica\\u00e7\\u00e3o\",null,null,\"As taxas para a realiza\\u00e7\\u00e3o da aplica\\u00e7\\u00e3o/ A incid\\u00eancia de impostos na aplica\\u00e7\\u00e3o\",\"A liquidez do produto, ou seja, se poder\\u00e1 resgatar o dinheiro sem preju\\u00edzo.\",\"O retorno da aplica\\u00e7\\u00e3o\",null,\"A liquidez do produto, ou seja, se poder\\u00e1 resgatar o dinheiro sem preju\\u00edzo.\",\"O retorno da aplica\\u00e7\\u00e3o\",\"O retorno da aplica\\u00e7\\u00e3o\",null,\"A liquidez do produto, ou seja, se poder\\u00e1 resgatar o dinheiro sem preju\\u00edzo.\",\"A liquidez do produto, ou seja, se poder\\u00e1 resgatar o dinheiro sem preju\\u00edzo.\",null,\"As taxas para a realiza\\u00e7\\u00e3o da aplica\\u00e7\\u00e3o/ A incid\\u00eancia de impostos na aplica\\u00e7\\u00e3o\",null,\"As taxas para a realiza\\u00e7\\u00e3o da aplica\\u00e7\\u00e3o/ A incid\\u00eancia de impostos na aplica\\u00e7\\u00e3o\",\"A seguran\\u00e7a da aplica\\u00e7\\u00e3o\",\"O retorno da aplica\\u00e7\\u00e3o\",\"A seguran\\u00e7a da aplica\\u00e7\\u00e3o\",\"Nenhum\",\"A seguran\\u00e7a da aplica\\u00e7\\u00e3o\",null,\"O retorno da aplica\\u00e7\\u00e3o\",\"A seguran\\u00e7a da aplica\\u00e7\\u00e3o\",\"O retorno da aplica\\u00e7\\u00e3o\",\"O retorno da aplica\\u00e7\\u00e3o\",null,\"A seguran\\u00e7a da aplica\\u00e7\\u00e3o\",null,\"A seguran\\u00e7a da aplica\\u00e7\\u00e3o\",\"O retorno da aplica\\u00e7\\u00e3o\",\"A seguran\\u00e7a da aplica\\u00e7\\u00e3o\",\"O retorno da aplica\\u00e7\\u00e3o\",\"As taxas para a realiza\\u00e7\\u00e3o da aplica\\u00e7\\u00e3o/ A incid\\u00eancia de impostos na aplica\\u00e7\\u00e3o\",null,\"A liquidez do produto, ou seja, se poder\\u00e1 resgatar o dinheiro sem preju\\u00edzo.\",null,null,\"O retorno da aplica\\u00e7\\u00e3o\",null,\"As taxas para a realiza\\u00e7\\u00e3o da aplica\\u00e7\\u00e3o/ A incid\\u00eancia de impostos na aplica\\u00e7\\u00e3o\",\"A seguran\\u00e7a da aplica\\u00e7\\u00e3o\",\"O retorno da aplica\\u00e7\\u00e3o\",null,null,null,null,\"A seguran\\u00e7a da aplica\\u00e7\\u00e3o\",\"A liquidez do produto, ou seja, se poder\\u00e1 resgatar o dinheiro sem preju\\u00edzo.\",null,\"A seguran\\u00e7a da aplica\\u00e7\\u00e3o\",\"O retorno da aplica\\u00e7\\u00e3o\",\"As taxas para a realiza\\u00e7\\u00e3o da aplica\\u00e7\\u00e3o/ A incid\\u00eancia de impostos na aplica\\u00e7\\u00e3o\",\"A liquidez do produto, ou seja, se poder\\u00e1 resgatar o dinheiro sem preju\\u00edzo.\",\"A seguran\\u00e7a da aplica\\u00e7\\u00e3o\",null,null,null,\"O retorno da aplica\\u00e7\\u00e3o\",\"A seguran\\u00e7a da aplica\\u00e7\\u00e3o\",\"O retorno da aplica\\u00e7\\u00e3o\",null,\"O retorno da aplica\\u00e7\\u00e3o\",\"A liquidez do produto, ou seja, se poder\\u00e1 resgatar o dinheiro sem preju\\u00edzo.\",null,\"As taxas para a realiza\\u00e7\\u00e3o da aplica\\u00e7\\u00e3o/ A incid\\u00eancia de impostos na aplica\\u00e7\\u00e3o\",\"As taxas para a realiza\\u00e7\\u00e3o da aplica\\u00e7\\u00e3o/ A incid\\u00eancia de impostos na aplica\\u00e7\\u00e3o\",null,null,\"O retorno da aplica\\u00e7\\u00e3o\",\"A seguran\\u00e7a da aplica\\u00e7\\u00e3o\",\"A liquidez do produto, ou seja, se poder\\u00e1 resgatar o dinheiro sem preju\\u00edzo.\",\"A seguran\\u00e7a da aplica\\u00e7\\u00e3o\",null,\"A liquidez do produto, ou seja, se poder\\u00e1 resgatar o dinheiro sem preju\\u00edzo.\",null,null,\"O retorno da aplica\\u00e7\\u00e3o\",\"A seguran\\u00e7a da aplica\\u00e7\\u00e3o\",\"A seguran\\u00e7a da aplica\\u00e7\\u00e3o\",null,\"As taxas para a realiza\\u00e7\\u00e3o da aplica\\u00e7\\u00e3o/ A incid\\u00eancia de impostos na aplica\\u00e7\\u00e3o\",\"A liquidez do produto, ou seja, se poder\\u00e1 resgatar o dinheiro sem preju\\u00edzo.\",null,\"O retorno da aplica\\u00e7\\u00e3o\",\"O retorno da aplica\\u00e7\\u00e3o\",null,null,null,null,\"As taxas para a realiza\\u00e7\\u00e3o da aplica\\u00e7\\u00e3o/ A incid\\u00eancia de impostos na aplica\\u00e7\\u00e3o\",null,\"As taxas para a realiza\\u00e7\\u00e3o da aplica\\u00e7\\u00e3o/ A incid\\u00eancia de impostos na aplica\\u00e7\\u00e3o\",\"As taxas para a realiza\\u00e7\\u00e3o da aplica\\u00e7\\u00e3o/ A incid\\u00eancia de impostos na aplica\\u00e7\\u00e3o\",null,\"A seguran\\u00e7a da aplica\\u00e7\\u00e3o\",null,null,\"A seguran\\u00e7a da aplica\\u00e7\\u00e3o\",null,null,\"O retorno da aplica\\u00e7\\u00e3o\",\"A liquidez do produto, ou seja, se poder\\u00e1 resgatar o dinheiro sem preju\\u00edzo.\",null,\"A seguran\\u00e7a da aplica\\u00e7\\u00e3o\",null,\"Nenhum\",\"A liquidez do produto, ou seja, se poder\\u00e1 resgatar o dinheiro sem preju\\u00edzo.\",null,null,null,\"A liquidez do produto, ou seja, se poder\\u00e1 resgatar o dinheiro sem preju\\u00edzo.\",null,\"A liquidez do produto, ou seja, se poder\\u00e1 resgatar o dinheiro sem preju\\u00edzo.\",null,\"A liquidez do produto, ou seja, se poder\\u00e1 resgatar o dinheiro sem preju\\u00edzo.\",\"A seguran\\u00e7a da aplica\\u00e7\\u00e3o\",null,\"O retorno da aplica\\u00e7\\u00e3o\",\"A seguran\\u00e7a da aplica\\u00e7\\u00e3o\",null,null,\"A liquidez do produto, ou seja, se poder\\u00e1 resgatar o dinheiro sem preju\\u00edzo.\",\"A liquidez do produto, ou seja, se poder\\u00e1 resgatar o dinheiro sem preju\\u00edzo.\",null,null,\"A liquidez do produto, ou seja, se poder\\u00e1 resgatar o dinheiro sem preju\\u00edzo.\",\"A liquidez do produto, ou seja, se poder\\u00e1 resgatar o dinheiro sem preju\\u00edzo.\",null,\"As taxas para a realiza\\u00e7\\u00e3o da aplica\\u00e7\\u00e3o/ A incid\\u00eancia de impostos na aplica\\u00e7\\u00e3o\",\"O retorno da aplica\\u00e7\\u00e3o\",null,\"As taxas para a realiza\\u00e7\\u00e3o da aplica\\u00e7\\u00e3o/ A incid\\u00eancia de impostos na aplica\\u00e7\\u00e3o\",null,null,\"A seguran\\u00e7a da aplica\\u00e7\\u00e3o\",null,null,null,null,\"A seguran\\u00e7a da aplica\\u00e7\\u00e3o\",null,null,null,\"As taxas para a realiza\\u00e7\\u00e3o da aplica\\u00e7\\u00e3o/ A incid\\u00eancia de impostos na aplica\\u00e7\\u00e3o\",null,null,\"A liquidez do produto, ou seja, se poder\\u00e1 resgatar o dinheiro sem preju\\u00edzo.\",\"O retorno da aplica\\u00e7\\u00e3o\",\"O retorno da aplica\\u00e7\\u00e3o\",null,\"O retorno da aplica\\u00e7\\u00e3o\",\"A seguran\\u00e7a da aplica\\u00e7\\u00e3o\",\"O retorno da aplica\\u00e7\\u00e3o\",\"O retorno da aplica\\u00e7\\u00e3o\",\"A seguran\\u00e7a da aplica\\u00e7\\u00e3o\",null,\"A liquidez do produto, ou seja, se poder\\u00e1 resgatar o dinheiro sem preju\\u00edzo.\",null,null,\"A seguran\\u00e7a da aplica\\u00e7\\u00e3o\",\"O retorno da aplica\\u00e7\\u00e3o\",null,null,null,\"A seguran\\u00e7a da aplica\\u00e7\\u00e3o\",null,\"O retorno da aplica\\u00e7\\u00e3o\",\"A liquidez do produto, ou seja, se poder\\u00e1 resgatar o dinheiro sem preju\\u00edzo.\",\"A seguran\\u00e7a da aplica\\u00e7\\u00e3o\",\"As taxas para a realiza\\u00e7\\u00e3o da aplica\\u00e7\\u00e3o/ A incid\\u00eancia de impostos na aplica\\u00e7\\u00e3o\",\"O retorno da aplica\\u00e7\\u00e3o\",\"O retorno da aplica\\u00e7\\u00e3o\",\"O retorno da aplica\\u00e7\\u00e3o\",\"O retorno da aplica\\u00e7\\u00e3o\",null,null,null,\"A liquidez do produto, ou seja, se poder\\u00e1 resgatar o dinheiro sem preju\\u00edzo.\",null,null],\"type\":\"histogram\"},{\"marker\":{\"color\":\"#5E96EC\"},\"name\":\"Terceiro Motivo\",\"x\":[\"O retorno da aplica\\u00e7\\u00e3o\",null,\"As taxas para a realiza\\u00e7\\u00e3o da aplica\\u00e7\\u00e3o/ A incid\\u00eancia de impostos na aplica\\u00e7\\u00e3o\",\"O retorno da aplica\\u00e7\\u00e3o\",\"As taxas para a realiza\\u00e7\\u00e3o da aplica\\u00e7\\u00e3o/ A incid\\u00eancia de impostos na aplica\\u00e7\\u00e3o\",\"O retorno da aplica\\u00e7\\u00e3o\",null,\"O retorno da aplica\\u00e7\\u00e3o\",\"A seguran\\u00e7a da aplica\\u00e7\\u00e3o\",\"A seguran\\u00e7a da aplica\\u00e7\\u00e3o\",\"As taxas para a realiza\\u00e7\\u00e3o da aplica\\u00e7\\u00e3o/ A incid\\u00eancia de impostos na aplica\\u00e7\\u00e3o\",\"O retorno da aplica\\u00e7\\u00e3o\",\"O retorno da aplica\\u00e7\\u00e3o\",\"As taxas para a realiza\\u00e7\\u00e3o da aplica\\u00e7\\u00e3o/ A incid\\u00eancia de impostos na aplica\\u00e7\\u00e3o\",\"A liquidez do produto, ou seja, se poder\\u00e1 resgatar o dinheiro sem preju\\u00edzo.\",\"As taxas para a realiza\\u00e7\\u00e3o da aplica\\u00e7\\u00e3o/ A incid\\u00eancia de impostos na aplica\\u00e7\\u00e3o\",\"As taxas para a realiza\\u00e7\\u00e3o da aplica\\u00e7\\u00e3o/ A incid\\u00eancia de impostos na aplica\\u00e7\\u00e3o\",\"A liquidez do produto, ou seja, se poder\\u00e1 resgatar o dinheiro sem preju\\u00edzo.\",null,\"A seguran\\u00e7a da aplica\\u00e7\\u00e3o\",null,null,null,null,null,\"A seguran\\u00e7a da aplica\\u00e7\\u00e3o\",\"As taxas para a realiza\\u00e7\\u00e3o da aplica\\u00e7\\u00e3o/ A incid\\u00eancia de impostos na aplica\\u00e7\\u00e3o\",\"O retorno da aplica\\u00e7\\u00e3o\",null,\"O retorno da aplica\\u00e7\\u00e3o\",\"O retorno da aplica\\u00e7\\u00e3o\",null,null,null,\"A liquidez do produto, ou seja, se poder\\u00e1 resgatar o dinheiro sem preju\\u00edzo.\",\"A liquidez do produto, ou seja, se poder\\u00e1 resgatar o dinheiro sem preju\\u00edzo.\",null,\"A liquidez do produto, ou seja, se poder\\u00e1 resgatar o dinheiro sem preju\\u00edzo.\",\"A liquidez do produto, ou seja, se poder\\u00e1 resgatar o dinheiro sem preju\\u00edzo.\",\"A seguran\\u00e7a da aplica\\u00e7\\u00e3o\",\"As taxas para a realiza\\u00e7\\u00e3o da aplica\\u00e7\\u00e3o/ A incid\\u00eancia de impostos na aplica\\u00e7\\u00e3o\",\"As taxas para a realiza\\u00e7\\u00e3o da aplica\\u00e7\\u00e3o/ A incid\\u00eancia de impostos na aplica\\u00e7\\u00e3o\",null,null,null,\"A seguran\\u00e7a da aplica\\u00e7\\u00e3o\",\"Nenhum\",null,null,null,\"As taxas para a realiza\\u00e7\\u00e3o da aplica\\u00e7\\u00e3o/ A incid\\u00eancia de impostos na aplica\\u00e7\\u00e3o\",null,null,\"A liquidez do produto, ou seja, se poder\\u00e1 resgatar o dinheiro sem preju\\u00edzo.\",null,null,\"As taxas para a realiza\\u00e7\\u00e3o da aplica\\u00e7\\u00e3o/ A incid\\u00eancia de impostos na aplica\\u00e7\\u00e3o\",\"As taxas para a realiza\\u00e7\\u00e3o da aplica\\u00e7\\u00e3o/ A incid\\u00eancia de impostos na aplica\\u00e7\\u00e3o\",\"O retorno da aplica\\u00e7\\u00e3o\",null,\"As taxas para a realiza\\u00e7\\u00e3o da aplica\\u00e7\\u00e3o/ A incid\\u00eancia de impostos na aplica\\u00e7\\u00e3o\",null,null,null,null,null,\"O retorno da aplica\\u00e7\\u00e3o\",null,\"As taxas para a realiza\\u00e7\\u00e3o da aplica\\u00e7\\u00e3o/ A incid\\u00eancia de impostos na aplica\\u00e7\\u00e3o\",null,\"A liquidez do produto, ou seja, se poder\\u00e1 resgatar o dinheiro sem preju\\u00edzo.\",null,null,null,null,\"A liquidez do produto, ou seja, se poder\\u00e1 resgatar o dinheiro sem preju\\u00edzo.\",null,\"As taxas para a realiza\\u00e7\\u00e3o da aplica\\u00e7\\u00e3o/ A incid\\u00eancia de impostos na aplica\\u00e7\\u00e3o\",null,null,null,null,\"O retorno da aplica\\u00e7\\u00e3o\",\"O retorno da aplica\\u00e7\\u00e3o\",null,\"O retorno da aplica\\u00e7\\u00e3o\",null,\"A liquidez do produto, ou seja, se poder\\u00e1 resgatar o dinheiro sem preju\\u00edzo.\",null,\"As taxas para a realiza\\u00e7\\u00e3o da aplica\\u00e7\\u00e3o/ A incid\\u00eancia de impostos na aplica\\u00e7\\u00e3o\",\"O retorno da aplica\\u00e7\\u00e3o\",null,\"As taxas para a realiza\\u00e7\\u00e3o da aplica\\u00e7\\u00e3o/ A incid\\u00eancia de impostos na aplica\\u00e7\\u00e3o\",\"As taxas para a realiza\\u00e7\\u00e3o da aplica\\u00e7\\u00e3o/ A incid\\u00eancia de impostos na aplica\\u00e7\\u00e3o\",\"A liquidez do produto, ou seja, se poder\\u00e1 resgatar o dinheiro sem preju\\u00edzo.\",null,null,\"As taxas para a realiza\\u00e7\\u00e3o da aplica\\u00e7\\u00e3o/ A incid\\u00eancia de impostos na aplica\\u00e7\\u00e3o\",null,\"As taxas para a realiza\\u00e7\\u00e3o da aplica\\u00e7\\u00e3o/ A incid\\u00eancia de impostos na aplica\\u00e7\\u00e3o\",\"Nenhum\",null,null,\"O retorno da aplica\\u00e7\\u00e3o\",null,\"A seguran\\u00e7a da aplica\\u00e7\\u00e3o\",\"As taxas para a realiza\\u00e7\\u00e3o da aplica\\u00e7\\u00e3o/ A incid\\u00eancia de impostos na aplica\\u00e7\\u00e3o\",\"A liquidez do produto, ou seja, se poder\\u00e1 resgatar o dinheiro sem preju\\u00edzo.\",\"A liquidez do produto, ou seja, se poder\\u00e1 resgatar o dinheiro sem preju\\u00edzo.\",\"A seguran\\u00e7a da aplica\\u00e7\\u00e3o\",\"As taxas para a realiza\\u00e7\\u00e3o da aplica\\u00e7\\u00e3o/ A incid\\u00eancia de impostos na aplica\\u00e7\\u00e3o\",null,null,null,\"As taxas para a realiza\\u00e7\\u00e3o da aplica\\u00e7\\u00e3o/ A incid\\u00eancia de impostos na aplica\\u00e7\\u00e3o\",\"A seguran\\u00e7a da aplica\\u00e7\\u00e3o\",null,null,null,\"O retorno da aplica\\u00e7\\u00e3o\",\"A liquidez do produto, ou seja, se poder\\u00e1 resgatar o dinheiro sem preju\\u00edzo.\",null,null,null,null,null,\"As taxas para a realiza\\u00e7\\u00e3o da aplica\\u00e7\\u00e3o/ A incid\\u00eancia de impostos na aplica\\u00e7\\u00e3o\",null,null,null,\"A seguran\\u00e7a da aplica\\u00e7\\u00e3o\",\"A liquidez do produto, ou seja, se poder\\u00e1 resgatar o dinheiro sem preju\\u00edzo.\",null,\"As taxas para a realiza\\u00e7\\u00e3o da aplica\\u00e7\\u00e3o/ A incid\\u00eancia de impostos na aplica\\u00e7\\u00e3o\",\"A seguran\\u00e7a da aplica\\u00e7\\u00e3o\",null,null,\"A liquidez do produto, ou seja, se poder\\u00e1 resgatar o dinheiro sem preju\\u00edzo.\",\"As taxas para a realiza\\u00e7\\u00e3o da aplica\\u00e7\\u00e3o/ A incid\\u00eancia de impostos na aplica\\u00e7\\u00e3o\",null,null,\"A seguran\\u00e7a da aplica\\u00e7\\u00e3o\",\"Nenhum\",\"As taxas para a realiza\\u00e7\\u00e3o da aplica\\u00e7\\u00e3o/ A incid\\u00eancia de impostos na aplica\\u00e7\\u00e3o\",null,\"O retorno da aplica\\u00e7\\u00e3o\",\"A seguran\\u00e7a da aplica\\u00e7\\u00e3o\",\"As taxas para a realiza\\u00e7\\u00e3o da aplica\\u00e7\\u00e3o/ A incid\\u00eancia de impostos na aplica\\u00e7\\u00e3o\",\"As taxas para a realiza\\u00e7\\u00e3o da aplica\\u00e7\\u00e3o/ A incid\\u00eancia de impostos na aplica\\u00e7\\u00e3o\",null,\"As taxas para a realiza\\u00e7\\u00e3o da aplica\\u00e7\\u00e3o/ A incid\\u00eancia de impostos na aplica\\u00e7\\u00e3o\",\"As taxas para a realiza\\u00e7\\u00e3o da aplica\\u00e7\\u00e3o/ A incid\\u00eancia de impostos na aplica\\u00e7\\u00e3o\",\"A seguran\\u00e7a da aplica\\u00e7\\u00e3o\",null,\"Nenhum\",\"A seguran\\u00e7a da aplica\\u00e7\\u00e3o\",\"A seguran\\u00e7a da aplica\\u00e7\\u00e3o\",\"As taxas para a realiza\\u00e7\\u00e3o da aplica\\u00e7\\u00e3o/ A incid\\u00eancia de impostos na aplica\\u00e7\\u00e3o\",\"A liquidez do produto, ou seja, se poder\\u00e1 resgatar o dinheiro sem preju\\u00edzo.\",null,null,null,null,\"A liquidez do produto, ou seja, se poder\\u00e1 resgatar o dinheiro sem preju\\u00edzo.\",null,null,null,null,\"A liquidez do produto, ou seja, se poder\\u00e1 resgatar o dinheiro sem preju\\u00edzo.\",\"O retorno da aplica\\u00e7\\u00e3o\",\"A liquidez do produto, ou seja, se poder\\u00e1 resgatar o dinheiro sem preju\\u00edzo.\",\"Nenhum\",\"O retorno da aplica\\u00e7\\u00e3o\",\"A liquidez do produto, ou seja, se poder\\u00e1 resgatar o dinheiro sem preju\\u00edzo.\",null,\"A seguran\\u00e7a da aplica\\u00e7\\u00e3o\",\"A liquidez do produto, ou seja, se poder\\u00e1 resgatar o dinheiro sem preju\\u00edzo.\",\"As taxas para a realiza\\u00e7\\u00e3o da aplica\\u00e7\\u00e3o/ A incid\\u00eancia de impostos na aplica\\u00e7\\u00e3o\",\"A seguran\\u00e7a da aplica\\u00e7\\u00e3o\",\"As taxas para a realiza\\u00e7\\u00e3o da aplica\\u00e7\\u00e3o/ A incid\\u00eancia de impostos na aplica\\u00e7\\u00e3o\",\"O retorno da aplica\\u00e7\\u00e3o\",null,null,\"As taxas para a realiza\\u00e7\\u00e3o da aplica\\u00e7\\u00e3o/ A incid\\u00eancia de impostos na aplica\\u00e7\\u00e3o\",\"A liquidez do produto, ou seja, se poder\\u00e1 resgatar o dinheiro sem preju\\u00edzo.\",\"O retorno da aplica\\u00e7\\u00e3o\",null,null,\"O retorno da aplica\\u00e7\\u00e3o\",\"O retorno da aplica\\u00e7\\u00e3o\",\"O retorno da aplica\\u00e7\\u00e3o\",null,\"A seguran\\u00e7a da aplica\\u00e7\\u00e3o\",\"O retorno da aplica\\u00e7\\u00e3o\",\"As taxas para a realiza\\u00e7\\u00e3o da aplica\\u00e7\\u00e3o/ A incid\\u00eancia de impostos na aplica\\u00e7\\u00e3o\",\"O retorno da aplica\\u00e7\\u00e3o\",\"O retorno da aplica\\u00e7\\u00e3o\",\"O retorno da aplica\\u00e7\\u00e3o\",\"As taxas para a realiza\\u00e7\\u00e3o da aplica\\u00e7\\u00e3o/ A incid\\u00eancia de impostos na aplica\\u00e7\\u00e3o\",null,\"A liquidez do produto, ou seja, se poder\\u00e1 resgatar o dinheiro sem preju\\u00edzo.\",null,null,null,\"A liquidez do produto, ou seja, se poder\\u00e1 resgatar o dinheiro sem preju\\u00edzo.\",\"As taxas para a realiza\\u00e7\\u00e3o da aplica\\u00e7\\u00e3o/ A incid\\u00eancia de impostos na aplica\\u00e7\\u00e3o\",\"As taxas para a realiza\\u00e7\\u00e3o da aplica\\u00e7\\u00e3o/ A incid\\u00eancia de impostos na aplica\\u00e7\\u00e3o\",\"As taxas para a realiza\\u00e7\\u00e3o da aplica\\u00e7\\u00e3o/ A incid\\u00eancia de impostos na aplica\\u00e7\\u00e3o\",null,\"A liquidez do produto, ou seja, se poder\\u00e1 resgatar o dinheiro sem preju\\u00edzo.\",\"As taxas para a realiza\\u00e7\\u00e3o da aplica\\u00e7\\u00e3o/ A incid\\u00eancia de impostos na aplica\\u00e7\\u00e3o\",null,\"As taxas para a realiza\\u00e7\\u00e3o da aplica\\u00e7\\u00e3o/ A incid\\u00eancia de impostos na aplica\\u00e7\\u00e3o\",null,\"As taxas para a realiza\\u00e7\\u00e3o da aplica\\u00e7\\u00e3o/ A incid\\u00eancia de impostos na aplica\\u00e7\\u00e3o\",\"A liquidez do produto, ou seja, se poder\\u00e1 resgatar o dinheiro sem preju\\u00edzo.\",\"As taxas para a realiza\\u00e7\\u00e3o da aplica\\u00e7\\u00e3o/ A incid\\u00eancia de impostos na aplica\\u00e7\\u00e3o\",null,null,\"As taxas para a realiza\\u00e7\\u00e3o da aplica\\u00e7\\u00e3o/ A incid\\u00eancia de impostos na aplica\\u00e7\\u00e3o\",\"As taxas para a realiza\\u00e7\\u00e3o da aplica\\u00e7\\u00e3o/ A incid\\u00eancia de impostos na aplica\\u00e7\\u00e3o\",null,null,\"A liquidez do produto, ou seja, se poder\\u00e1 resgatar o dinheiro sem preju\\u00edzo.\",null,\"A liquidez do produto, ou seja, se poder\\u00e1 resgatar o dinheiro sem preju\\u00edzo.\",\"A liquidez do produto, ou seja, se poder\\u00e1 resgatar o dinheiro sem preju\\u00edzo.\",\"As taxas para a realiza\\u00e7\\u00e3o da aplica\\u00e7\\u00e3o/ A incid\\u00eancia de impostos na aplica\\u00e7\\u00e3o\",\"A liquidez do produto, ou seja, se poder\\u00e1 resgatar o dinheiro sem preju\\u00edzo.\",\"A liquidez do produto, ou seja, se poder\\u00e1 resgatar o dinheiro sem preju\\u00edzo.\",null,null,null,\"O retorno da aplica\\u00e7\\u00e3o\",null,\"A liquidez do produto, ou seja, se poder\\u00e1 resgatar o dinheiro sem preju\\u00edzo.\",\"O retorno da aplica\\u00e7\\u00e3o\",\"O retorno da aplica\\u00e7\\u00e3o\",\"A liquidez do produto, ou seja, se poder\\u00e1 resgatar o dinheiro sem preju\\u00edzo.\",null,null,\"A liquidez do produto, ou seja, se poder\\u00e1 resgatar o dinheiro sem preju\\u00edzo.\",\"A seguran\\u00e7a da aplica\\u00e7\\u00e3o\",\"A seguran\\u00e7a da aplica\\u00e7\\u00e3o\",\"As taxas para a realiza\\u00e7\\u00e3o da aplica\\u00e7\\u00e3o/ A incid\\u00eancia de impostos na aplica\\u00e7\\u00e3o\",null,\"As taxas para a realiza\\u00e7\\u00e3o da aplica\\u00e7\\u00e3o/ A incid\\u00eancia de impostos na aplica\\u00e7\\u00e3o\",\"A liquidez do produto, ou seja, se poder\\u00e1 resgatar o dinheiro sem preju\\u00edzo.\",\"A seguran\\u00e7a da aplica\\u00e7\\u00e3o\",\"O retorno da aplica\\u00e7\\u00e3o\",\"As taxas para a realiza\\u00e7\\u00e3o da aplica\\u00e7\\u00e3o/ A incid\\u00eancia de impostos na aplica\\u00e7\\u00e3o\",\"O retorno da aplica\\u00e7\\u00e3o\",\"As taxas para a realiza\\u00e7\\u00e3o da aplica\\u00e7\\u00e3o/ A incid\\u00eancia de impostos na aplica\\u00e7\\u00e3o\",null,\"A liquidez do produto, ou seja, se poder\\u00e1 resgatar o dinheiro sem preju\\u00edzo.\",\"O retorno da aplica\\u00e7\\u00e3o\",\"As taxas para a realiza\\u00e7\\u00e3o da aplica\\u00e7\\u00e3o/ A incid\\u00eancia de impostos na aplica\\u00e7\\u00e3o\",null,null,\"A seguran\\u00e7a da aplica\\u00e7\\u00e3o\",\"A seguran\\u00e7a da aplica\\u00e7\\u00e3o\",\"A liquidez do produto, ou seja, se poder\\u00e1 resgatar o dinheiro sem preju\\u00edzo.\",null,\"A seguran\\u00e7a da aplica\\u00e7\\u00e3o\",\"As taxas para a realiza\\u00e7\\u00e3o da aplica\\u00e7\\u00e3o/ A incid\\u00eancia de impostos na aplica\\u00e7\\u00e3o\",\"As taxas para a realiza\\u00e7\\u00e3o da aplica\\u00e7\\u00e3o/ A incid\\u00eancia de impostos na aplica\\u00e7\\u00e3o\",null,\"O retorno da aplica\\u00e7\\u00e3o\",\"As taxas para a realiza\\u00e7\\u00e3o da aplica\\u00e7\\u00e3o/ A incid\\u00eancia de impostos na aplica\\u00e7\\u00e3o\",null,\"O retorno da aplica\\u00e7\\u00e3o\",null,\"A liquidez do produto, ou seja, se poder\\u00e1 resgatar o dinheiro sem preju\\u00edzo.\",\"O retorno da aplica\\u00e7\\u00e3o\",\"A liquidez do produto, ou seja, se poder\\u00e1 resgatar o dinheiro sem preju\\u00edzo.\",\"A liquidez do produto, ou seja, se poder\\u00e1 resgatar o dinheiro sem preju\\u00edzo.\",\"Nenhum\",\"A liquidez do produto, ou seja, se poder\\u00e1 resgatar o dinheiro sem preju\\u00edzo.\",null,\"A liquidez do produto, ou seja, se poder\\u00e1 resgatar o dinheiro sem preju\\u00edzo.\",\"A liquidez do produto, ou seja, se poder\\u00e1 resgatar o dinheiro sem preju\\u00edzo.\",\"As taxas para a realiza\\u00e7\\u00e3o da aplica\\u00e7\\u00e3o/ A incid\\u00eancia de impostos na aplica\\u00e7\\u00e3o\",\"A liquidez do produto, ou seja, se poder\\u00e1 resgatar o dinheiro sem preju\\u00edzo.\",null,\"As taxas para a realiza\\u00e7\\u00e3o da aplica\\u00e7\\u00e3o/ A incid\\u00eancia de impostos na aplica\\u00e7\\u00e3o\",null,\"As taxas para a realiza\\u00e7\\u00e3o da aplica\\u00e7\\u00e3o/ A incid\\u00eancia de impostos na aplica\\u00e7\\u00e3o\",\"A liquidez do produto, ou seja, se poder\\u00e1 resgatar o dinheiro sem preju\\u00edzo.\",\"A liquidez do produto, ou seja, se poder\\u00e1 resgatar o dinheiro sem preju\\u00edzo.\",\"A seguran\\u00e7a da aplica\\u00e7\\u00e3o\",\"A liquidez do produto, ou seja, se poder\\u00e1 resgatar o dinheiro sem preju\\u00edzo.\",null,\"A seguran\\u00e7a da aplica\\u00e7\\u00e3o\",null,null,\"A seguran\\u00e7a da aplica\\u00e7\\u00e3o\",null,\"A seguran\\u00e7a da aplica\\u00e7\\u00e3o\",\"A liquidez do produto, ou seja, se poder\\u00e1 resgatar o dinheiro sem preju\\u00edzo.\",\"A liquidez do produto, ou seja, se poder\\u00e1 resgatar o dinheiro sem preju\\u00edzo.\",null,null,null,null,\"O retorno da aplica\\u00e7\\u00e3o\",\"O retorno da aplica\\u00e7\\u00e3o\",null,\"O retorno da aplica\\u00e7\\u00e3o\",\"A liquidez do produto, ou seja, se poder\\u00e1 resgatar o dinheiro sem preju\\u00edzo.\",\"O retorno da aplica\\u00e7\\u00e3o\",\"O retorno da aplica\\u00e7\\u00e3o\",\"A liquidez do produto, ou seja, se poder\\u00e1 resgatar o dinheiro sem preju\\u00edzo.\",null,null,null,\"A liquidez do produto, ou seja, se poder\\u00e1 resgatar o dinheiro sem preju\\u00edzo.\",\"As taxas para a realiza\\u00e7\\u00e3o da aplica\\u00e7\\u00e3o/ A incid\\u00eancia de impostos na aplica\\u00e7\\u00e3o\",\"A liquidez do produto, ou seja, se poder\\u00e1 resgatar o dinheiro sem preju\\u00edzo.\",null,\"A seguran\\u00e7a da aplica\\u00e7\\u00e3o\",\"As taxas para a realiza\\u00e7\\u00e3o da aplica\\u00e7\\u00e3o/ A incid\\u00eancia de impostos na aplica\\u00e7\\u00e3o\",null,\"A liquidez do produto, ou seja, se poder\\u00e1 resgatar o dinheiro sem preju\\u00edzo.\",\"A seguran\\u00e7a da aplica\\u00e7\\u00e3o\",null,null,\"A seguran\\u00e7a da aplica\\u00e7\\u00e3o\",\"As taxas para a realiza\\u00e7\\u00e3o da aplica\\u00e7\\u00e3o/ A incid\\u00eancia de impostos na aplica\\u00e7\\u00e3o\",\"A seguran\\u00e7a da aplica\\u00e7\\u00e3o\",\"A liquidez do produto, ou seja, se poder\\u00e1 resgatar o dinheiro sem preju\\u00edzo.\",null,\"A seguran\\u00e7a da aplica\\u00e7\\u00e3o\",null,null,\"A liquidez do produto, ou seja, se poder\\u00e1 resgatar o dinheiro sem preju\\u00edzo.\",\"A liquidez do produto, ou seja, se poder\\u00e1 resgatar o dinheiro sem preju\\u00edzo.\",\"As taxas para a realiza\\u00e7\\u00e3o da aplica\\u00e7\\u00e3o/ A incid\\u00eancia de impostos na aplica\\u00e7\\u00e3o\",null,\"O retorno da aplica\\u00e7\\u00e3o\",\"O retorno da aplica\\u00e7\\u00e3o\",null,\"A liquidez do produto, ou seja, se poder\\u00e1 resgatar o dinheiro sem preju\\u00edzo.\",\"A seguran\\u00e7a da aplica\\u00e7\\u00e3o\",null,null,null,null,\"A seguran\\u00e7a da aplica\\u00e7\\u00e3o\",null,\"A seguran\\u00e7a da aplica\\u00e7\\u00e3o\",\"O retorno da aplica\\u00e7\\u00e3o\",null,\"O retorno da aplica\\u00e7\\u00e3o\",null,null,\"As taxas para a realiza\\u00e7\\u00e3o da aplica\\u00e7\\u00e3o/ A incid\\u00eancia de impostos na aplica\\u00e7\\u00e3o\",null,null,\"As taxas para a realiza\\u00e7\\u00e3o da aplica\\u00e7\\u00e3o/ A incid\\u00eancia de impostos na aplica\\u00e7\\u00e3o\",\"As taxas para a realiza\\u00e7\\u00e3o da aplica\\u00e7\\u00e3o/ A incid\\u00eancia de impostos na aplica\\u00e7\\u00e3o\",null,\"As taxas para a realiza\\u00e7\\u00e3o da aplica\\u00e7\\u00e3o/ A incid\\u00eancia de impostos na aplica\\u00e7\\u00e3o\",null,\"Nenhum\",\"As taxas para a realiza\\u00e7\\u00e3o da aplica\\u00e7\\u00e3o/ A incid\\u00eancia de impostos na aplica\\u00e7\\u00e3o\",null,null,null,\"O retorno da aplica\\u00e7\\u00e3o\",null,\"O retorno da aplica\\u00e7\\u00e3o\",null,\"O retorno da aplica\\u00e7\\u00e3o\",\"As taxas para a realiza\\u00e7\\u00e3o da aplica\\u00e7\\u00e3o/ A incid\\u00eancia de impostos na aplica\\u00e7\\u00e3o\",null,\"A liquidez do produto, ou seja, se poder\\u00e1 resgatar o dinheiro sem preju\\u00edzo.\",\"O retorno da aplica\\u00e7\\u00e3o\",null,null,\"As taxas para a realiza\\u00e7\\u00e3o da aplica\\u00e7\\u00e3o/ A incid\\u00eancia de impostos na aplica\\u00e7\\u00e3o\",\"O retorno da aplica\\u00e7\\u00e3o\",null,null,\"O retorno da aplica\\u00e7\\u00e3o\",\"O retorno da aplica\\u00e7\\u00e3o\",null,\"O retorno da aplica\\u00e7\\u00e3o\",\"As taxas para a realiza\\u00e7\\u00e3o da aplica\\u00e7\\u00e3o/ A incid\\u00eancia de impostos na aplica\\u00e7\\u00e3o\",null,\"O retorno da aplica\\u00e7\\u00e3o\",null,null,\"A liquidez do produto, ou seja, se poder\\u00e1 resgatar o dinheiro sem preju\\u00edzo.\",null,null,null,null,\"A liquidez do produto, ou seja, se poder\\u00e1 resgatar o dinheiro sem preju\\u00edzo.\",null,null,null,\"A seguran\\u00e7a da aplica\\u00e7\\u00e3o\",null,null,\"A seguran\\u00e7a da aplica\\u00e7\\u00e3o\",\"As taxas para a realiza\\u00e7\\u00e3o da aplica\\u00e7\\u00e3o/ A incid\\u00eancia de impostos na aplica\\u00e7\\u00e3o\",\"A seguran\\u00e7a da aplica\\u00e7\\u00e3o\",null,\"A liquidez do produto, ou seja, se poder\\u00e1 resgatar o dinheiro sem preju\\u00edzo.\",\"O retorno da aplica\\u00e7\\u00e3o\",\"A liquidez do produto, ou seja, se poder\\u00e1 resgatar o dinheiro sem preju\\u00edzo.\",\"A liquidez do produto, ou seja, se poder\\u00e1 resgatar o dinheiro sem preju\\u00edzo.\",\"As taxas para a realiza\\u00e7\\u00e3o da aplica\\u00e7\\u00e3o/ A incid\\u00eancia de impostos na aplica\\u00e7\\u00e3o\",null,\"O retorno da aplica\\u00e7\\u00e3o\",null,null,\"O retorno da aplica\\u00e7\\u00e3o\",\"As taxas para a realiza\\u00e7\\u00e3o da aplica\\u00e7\\u00e3o/ A incid\\u00eancia de impostos na aplica\\u00e7\\u00e3o\",null,null,null,\"O retorno da aplica\\u00e7\\u00e3o\",null,\"A seguran\\u00e7a da aplica\\u00e7\\u00e3o\",\"A seguran\\u00e7a da aplica\\u00e7\\u00e3o\",\"As taxas para a realiza\\u00e7\\u00e3o da aplica\\u00e7\\u00e3o/ A incid\\u00eancia de impostos na aplica\\u00e7\\u00e3o\",\"A liquidez do produto, ou seja, se poder\\u00e1 resgatar o dinheiro sem preju\\u00edzo.\",\"A liquidez do produto, ou seja, se poder\\u00e1 resgatar o dinheiro sem preju\\u00edzo.\",\"As taxas para a realiza\\u00e7\\u00e3o da aplica\\u00e7\\u00e3o/ A incid\\u00eancia de impostos na aplica\\u00e7\\u00e3o\",\"A liquidez do produto, ou seja, se poder\\u00e1 resgatar o dinheiro sem preju\\u00edzo.\",\"A liquidez do produto, ou seja, se poder\\u00e1 resgatar o dinheiro sem preju\\u00edzo.\",null,null,null,\"As taxas para a realiza\\u00e7\\u00e3o da aplica\\u00e7\\u00e3o/ A incid\\u00eancia de impostos na aplica\\u00e7\\u00e3o\",null,null],\"type\":\"histogram\"}],                        {\"template\":{\"data\":{\"bar\":[{\"error_x\":{\"color\":\"#2a3f5f\"},\"error_y\":{\"color\":\"#2a3f5f\"},\"marker\":{\"line\":{\"color\":\"#E5ECF6\",\"width\":0.5},\"pattern\":{\"fillmode\":\"overlay\",\"size\":10,\"solidity\":0.2}},\"type\":\"bar\"}],\"barpolar\":[{\"marker\":{\"line\":{\"color\":\"#E5ECF6\",\"width\":0.5},\"pattern\":{\"fillmode\":\"overlay\",\"size\":10,\"solidity\":0.2}},\"type\":\"barpolar\"}],\"carpet\":[{\"aaxis\":{\"endlinecolor\":\"#2a3f5f\",\"gridcolor\":\"white\",\"linecolor\":\"white\",\"minorgridcolor\":\"white\",\"startlinecolor\":\"#2a3f5f\"},\"baxis\":{\"endlinecolor\":\"#2a3f5f\",\"gridcolor\":\"white\",\"linecolor\":\"white\",\"minorgridcolor\":\"white\",\"startlinecolor\":\"#2a3f5f\"},\"type\":\"carpet\"}],\"choropleth\":[{\"colorbar\":{\"outlinewidth\":0,\"ticks\":\"\"},\"type\":\"choropleth\"}],\"contour\":[{\"colorbar\":{\"outlinewidth\":0,\"ticks\":\"\"},\"colorscale\":[[0.0,\"#0d0887\"],[0.1111111111111111,\"#46039f\"],[0.2222222222222222,\"#7201a8\"],[0.3333333333333333,\"#9c179e\"],[0.4444444444444444,\"#bd3786\"],[0.5555555555555556,\"#d8576b\"],[0.6666666666666666,\"#ed7953\"],[0.7777777777777778,\"#fb9f3a\"],[0.8888888888888888,\"#fdca26\"],[1.0,\"#f0f921\"]],\"type\":\"contour\"}],\"contourcarpet\":[{\"colorbar\":{\"outlinewidth\":0,\"ticks\":\"\"},\"type\":\"contourcarpet\"}],\"heatmap\":[{\"colorbar\":{\"outlinewidth\":0,\"ticks\":\"\"},\"colorscale\":[[0.0,\"#0d0887\"],[0.1111111111111111,\"#46039f\"],[0.2222222222222222,\"#7201a8\"],[0.3333333333333333,\"#9c179e\"],[0.4444444444444444,\"#bd3786\"],[0.5555555555555556,\"#d8576b\"],[0.6666666666666666,\"#ed7953\"],[0.7777777777777778,\"#fb9f3a\"],[0.8888888888888888,\"#fdca26\"],[1.0,\"#f0f921\"]],\"type\":\"heatmap\"}],\"heatmapgl\":[{\"colorbar\":{\"outlinewidth\":0,\"ticks\":\"\"},\"colorscale\":[[0.0,\"#0d0887\"],[0.1111111111111111,\"#46039f\"],[0.2222222222222222,\"#7201a8\"],[0.3333333333333333,\"#9c179e\"],[0.4444444444444444,\"#bd3786\"],[0.5555555555555556,\"#d8576b\"],[0.6666666666666666,\"#ed7953\"],[0.7777777777777778,\"#fb9f3a\"],[0.8888888888888888,\"#fdca26\"],[1.0,\"#f0f921\"]],\"type\":\"heatmapgl\"}],\"histogram\":[{\"marker\":{\"pattern\":{\"fillmode\":\"overlay\",\"size\":10,\"solidity\":0.2}},\"type\":\"histogram\"}],\"histogram2d\":[{\"colorbar\":{\"outlinewidth\":0,\"ticks\":\"\"},\"colorscale\":[[0.0,\"#0d0887\"],[0.1111111111111111,\"#46039f\"],[0.2222222222222222,\"#7201a8\"],[0.3333333333333333,\"#9c179e\"],[0.4444444444444444,\"#bd3786\"],[0.5555555555555556,\"#d8576b\"],[0.6666666666666666,\"#ed7953\"],[0.7777777777777778,\"#fb9f3a\"],[0.8888888888888888,\"#fdca26\"],[1.0,\"#f0f921\"]],\"type\":\"histogram2d\"}],\"histogram2dcontour\":[{\"colorbar\":{\"outlinewidth\":0,\"ticks\":\"\"},\"colorscale\":[[0.0,\"#0d0887\"],[0.1111111111111111,\"#46039f\"],[0.2222222222222222,\"#7201a8\"],[0.3333333333333333,\"#9c179e\"],[0.4444444444444444,\"#bd3786\"],[0.5555555555555556,\"#d8576b\"],[0.6666666666666666,\"#ed7953\"],[0.7777777777777778,\"#fb9f3a\"],[0.8888888888888888,\"#fdca26\"],[1.0,\"#f0f921\"]],\"type\":\"histogram2dcontour\"}],\"mesh3d\":[{\"colorbar\":{\"outlinewidth\":0,\"ticks\":\"\"},\"type\":\"mesh3d\"}],\"parcoords\":[{\"line\":{\"colorbar\":{\"outlinewidth\":0,\"ticks\":\"\"}},\"type\":\"parcoords\"}],\"pie\":[{\"automargin\":true,\"type\":\"pie\"}],\"scatter\":[{\"marker\":{\"colorbar\":{\"outlinewidth\":0,\"ticks\":\"\"}},\"type\":\"scatter\"}],\"scatter3d\":[{\"line\":{\"colorbar\":{\"outlinewidth\":0,\"ticks\":\"\"}},\"marker\":{\"colorbar\":{\"outlinewidth\":0,\"ticks\":\"\"}},\"type\":\"scatter3d\"}],\"scattercarpet\":[{\"marker\":{\"colorbar\":{\"outlinewidth\":0,\"ticks\":\"\"}},\"type\":\"scattercarpet\"}],\"scattergeo\":[{\"marker\":{\"colorbar\":{\"outlinewidth\":0,\"ticks\":\"\"}},\"type\":\"scattergeo\"}],\"scattergl\":[{\"marker\":{\"colorbar\":{\"outlinewidth\":0,\"ticks\":\"\"}},\"type\":\"scattergl\"}],\"scattermapbox\":[{\"marker\":{\"colorbar\":{\"outlinewidth\":0,\"ticks\":\"\"}},\"type\":\"scattermapbox\"}],\"scatterpolar\":[{\"marker\":{\"colorbar\":{\"outlinewidth\":0,\"ticks\":\"\"}},\"type\":\"scatterpolar\"}],\"scatterpolargl\":[{\"marker\":{\"colorbar\":{\"outlinewidth\":0,\"ticks\":\"\"}},\"type\":\"scatterpolargl\"}],\"scatterternary\":[{\"marker\":{\"colorbar\":{\"outlinewidth\":0,\"ticks\":\"\"}},\"type\":\"scatterternary\"}],\"surface\":[{\"colorbar\":{\"outlinewidth\":0,\"ticks\":\"\"},\"colorscale\":[[0.0,\"#0d0887\"],[0.1111111111111111,\"#46039f\"],[0.2222222222222222,\"#7201a8\"],[0.3333333333333333,\"#9c179e\"],[0.4444444444444444,\"#bd3786\"],[0.5555555555555556,\"#d8576b\"],[0.6666666666666666,\"#ed7953\"],[0.7777777777777778,\"#fb9f3a\"],[0.8888888888888888,\"#fdca26\"],[1.0,\"#f0f921\"]],\"type\":\"surface\"}],\"table\":[{\"cells\":{\"fill\":{\"color\":\"#EBF0F8\"},\"line\":{\"color\":\"white\"}},\"header\":{\"fill\":{\"color\":\"#C8D4E3\"},\"line\":{\"color\":\"white\"}},\"type\":\"table\"}]},\"layout\":{\"annotationdefaults\":{\"arrowcolor\":\"#2a3f5f\",\"arrowhead\":0,\"arrowwidth\":1},\"autotypenumbers\":\"strict\",\"coloraxis\":{\"colorbar\":{\"outlinewidth\":0,\"ticks\":\"\"}},\"colorscale\":{\"diverging\":[[0,\"#8e0152\"],[0.1,\"#c51b7d\"],[0.2,\"#de77ae\"],[0.3,\"#f1b6da\"],[0.4,\"#fde0ef\"],[0.5,\"#f7f7f7\"],[0.6,\"#e6f5d0\"],[0.7,\"#b8e186\"],[0.8,\"#7fbc41\"],[0.9,\"#4d9221\"],[1,\"#276419\"]],\"sequential\":[[0.0,\"#0d0887\"],[0.1111111111111111,\"#46039f\"],[0.2222222222222222,\"#7201a8\"],[0.3333333333333333,\"#9c179e\"],[0.4444444444444444,\"#bd3786\"],[0.5555555555555556,\"#d8576b\"],[0.6666666666666666,\"#ed7953\"],[0.7777777777777778,\"#fb9f3a\"],[0.8888888888888888,\"#fdca26\"],[1.0,\"#f0f921\"]],\"sequentialminus\":[[0.0,\"#0d0887\"],[0.1111111111111111,\"#46039f\"],[0.2222222222222222,\"#7201a8\"],[0.3333333333333333,\"#9c179e\"],[0.4444444444444444,\"#bd3786\"],[0.5555555555555556,\"#d8576b\"],[0.6666666666666666,\"#ed7953\"],[0.7777777777777778,\"#fb9f3a\"],[0.8888888888888888,\"#fdca26\"],[1.0,\"#f0f921\"]]},\"colorway\":[\"#636efa\",\"#EF553B\",\"#00cc96\",\"#ab63fa\",\"#FFA15A\",\"#19d3f3\",\"#FF6692\",\"#B6E880\",\"#FF97FF\",\"#FECB52\"],\"font\":{\"color\":\"#2a3f5f\"},\"geo\":{\"bgcolor\":\"white\",\"lakecolor\":\"white\",\"landcolor\":\"#E5ECF6\",\"showlakes\":true,\"showland\":true,\"subunitcolor\":\"white\"},\"hoverlabel\":{\"align\":\"left\"},\"hovermode\":\"closest\",\"mapbox\":{\"style\":\"light\"},\"paper_bgcolor\":\"white\",\"plot_bgcolor\":\"#E5ECF6\",\"polar\":{\"angularaxis\":{\"gridcolor\":\"white\",\"linecolor\":\"white\",\"ticks\":\"\"},\"bgcolor\":\"#E5ECF6\",\"radialaxis\":{\"gridcolor\":\"white\",\"linecolor\":\"white\",\"ticks\":\"\"}},\"scene\":{\"xaxis\":{\"backgroundcolor\":\"#E5ECF6\",\"gridcolor\":\"white\",\"gridwidth\":2,\"linecolor\":\"white\",\"showbackground\":true,\"ticks\":\"\",\"zerolinecolor\":\"white\"},\"yaxis\":{\"backgroundcolor\":\"#E5ECF6\",\"gridcolor\":\"white\",\"gridwidth\":2,\"linecolor\":\"white\",\"showbackground\":true,\"ticks\":\"\",\"zerolinecolor\":\"white\"},\"zaxis\":{\"backgroundcolor\":\"#E5ECF6\",\"gridcolor\":\"white\",\"gridwidth\":2,\"linecolor\":\"white\",\"showbackground\":true,\"ticks\":\"\",\"zerolinecolor\":\"white\"}},\"shapedefaults\":{\"line\":{\"color\":\"#2a3f5f\"}},\"ternary\":{\"aaxis\":{\"gridcolor\":\"white\",\"linecolor\":\"white\",\"ticks\":\"\"},\"baxis\":{\"gridcolor\":\"white\",\"linecolor\":\"white\",\"ticks\":\"\"},\"bgcolor\":\"#E5ECF6\",\"caxis\":{\"gridcolor\":\"white\",\"linecolor\":\"white\",\"ticks\":\"\"}},\"title\":{\"x\":0.05},\"xaxis\":{\"automargin\":true,\"gridcolor\":\"white\",\"linecolor\":\"white\",\"ticks\":\"\",\"title\":{\"standoff\":15},\"zerolinecolor\":\"white\",\"zerolinewidth\":2},\"yaxis\":{\"automargin\":true,\"gridcolor\":\"white\",\"linecolor\":\"white\",\"ticks\":\"\",\"title\":{\"standoff\":15},\"zerolinecolor\":\"white\",\"zerolinewidth\":2}}},\"title\":{\"text\":\"Motivos para Investir\"},\"yaxis\":{\"title\":{\"text\":\"Investidores\"}}},                        {\"responsive\": true}                    ).then(function(){\n",
       "                            \n",
       "var gd = document.getElementById('74b489bf-0766-407e-a513-5c5ec5c3db8e');\n",
       "var x = new MutationObserver(function (mutations, observer) {{\n",
       "        var display = window.getComputedStyle(gd).display;\n",
       "        if (!display || display === 'none') {{\n",
       "            console.log([gd, 'removed!']);\n",
       "            Plotly.purge(gd);\n",
       "            observer.disconnect();\n",
       "        }}\n",
       "}});\n",
       "\n",
       "// Listen for the removal of the full notebook cells\n",
       "var notebookContainer = gd.closest('#notebook-container');\n",
       "if (notebookContainer) {{\n",
       "    x.observe(notebookContainer, {childList: true});\n",
       "}}\n",
       "\n",
       "// Listen for the clearing of the current output cell\n",
       "var outputEl = gd.closest('.output');\n",
       "if (outputEl) {{\n",
       "    x.observe(outputEl, {childList: true});\n",
       "}}\n",
       "\n",
       "                        })                };                });            </script>        </div>"
      ]
     },
     "metadata": {},
     "output_type": "display_data"
    }
   ],
   "source": [
    "fig = go.Figure()\n",
    "fig.add_trace(go.Histogram(x=motivos_investir['Principal Motivo'], name='Principal Motivo', marker_color='#150035'))\n",
    "fig.add_trace(go.Histogram(x=motivos_investir['Segundo Motivo'], name='Segundo Motivo', marker_color='#FDE443'))\n",
    "fig.add_trace(go.Histogram(x=motivos_investir['Terceiro Motivo'], name='Terceiro Motivo', marker_color='#5E96EC'))\n",
    "\n",
    "fig.update_layout(\n",
    "    title_text='Motivos para Investir',\n",
    "    yaxis_title_text='Investidores')\n",
    "\n",
    "# fig.show()"
   ]
  },
  {
   "cell_type": "markdown",
   "metadata": {},
   "source": [
    "## Não Fez investimento"
   ]
  },
  {
   "cell_type": "code",
   "execution_count": 40,
   "metadata": {},
   "outputs": [],
   "source": [
    "# Filtered p1 in Rótulo\n",
    "N_Fez_investimento = Rótulo[Rótulo['Fez Investimento'].str.contains('Não', na=False)]\n",
    "linhas = N_Fez_investimento.shape[0]\n",
    "N_Fez_investimento.index = range(linhas)"
   ]
  },
  {
   "cell_type": "markdown",
   "metadata": {},
   "source": [
    "## GRÁFICO 3: Aplicação Financeira"
   ]
  },
  {
   "cell_type": "code",
   "execution_count": 41,
   "metadata": {},
   "outputs": [
    {
     "data": {
      "text/plain": [
       "1335                         Pessoalmente no banco\n",
       "1336                         Pessoalmente no banco\n",
       "1337                              No site do banco\n",
       "1338                                           NaN\n",
       "1339                                           NaN\n",
       "1340                                           NaN\n",
       "1341    No aplicativo da corretora de investimento\n",
       "1342                                           NaN\n",
       "1343                                           NaN\n",
       "1344                                           NaN\n",
       "Name: Meio para realização de aplicação financeira, dtype: object"
      ]
     },
     "execution_count": 41,
     "metadata": {},
     "output_type": "execute_result"
    }
   ],
   "source": [
    "Rótulo['Meio para realização de aplicação financeira'].tail(10)"
   ]
  },
  {
   "cell_type": "code",
   "execution_count": 42,
   "metadata": {},
   "outputs": [],
   "source": [
    "meios_aplicacao = Rótulo['Meio para realização de aplicação financeira']\n",
    "meios_aplicacao.dropna(inplace = True)\n",
    "outras_respostas_aplicacao = ['No aplicativo da corretora de investimento', 'Não lembra/ Não sabe', 'Pelo telefone do banco', 'Clubes de investimento']\n",
    "selecao_2 = meios_aplicacao.isin(outras_respostas_aplicacao)\n",
    "meios_aplicacao[selecao_2] = 'Outras respostas'"
   ]
  },
  {
   "cell_type": "code",
   "execution_count": 43,
   "metadata": {},
   "outputs": [
    {
     "data": {
      "application/vnd.plotly.v1+json": {
       "config": {
        "plotlyServerURL": "https://plot.ly"
       },
       "data": [
        {
         "customdata": [
          [
           "Pessoalmente no banco"
          ],
          [
           "Outras respostas"
          ],
          [
           "Outras respostas"
          ],
          [
           "No aplicativo do banco"
          ],
          [
           "No aplicativo do banco"
          ],
          [
           "Pessoalmente no banco"
          ],
          [
           "No aplicativo do banco"
          ],
          [
           "Pessoalmente no banco"
          ],
          [
           "Pessoalmente no banco"
          ],
          [
           "Pessoalmente no banco"
          ],
          [
           "Pessoalmente no banco"
          ],
          [
           "Pessoalmente no banco"
          ],
          [
           "No aplicativo do banco"
          ],
          [
           "No site do banco"
          ],
          [
           "No aplicativo do banco"
          ],
          [
           "Pessoalmente no banco"
          ],
          [
           "Pessoalmente no banco"
          ],
          [
           "No site do banco"
          ],
          [
           "Pessoalmente no banco"
          ],
          [
           "Pessoalmente no banco"
          ],
          [
           "Pessoalmente no banco"
          ],
          [
           "No aplicativo do banco"
          ],
          [
           "Pessoalmente no banco"
          ],
          [
           "Pessoalmente no banco"
          ],
          [
           "Pessoalmente no banco"
          ],
          [
           "No site do banco"
          ],
          [
           "Pessoalmente no banco"
          ],
          [
           "Pessoalmente no banco"
          ],
          [
           "No site da corretora de investimento"
          ],
          [
           "No aplicativo do banco"
          ],
          [
           "No site do banco"
          ],
          [
           "Pessoalmente no banco"
          ],
          [
           "Pessoalmente no banco"
          ],
          [
           "No site da corretora de investimento"
          ],
          [
           "No aplicativo do banco"
          ],
          [
           "Pessoalmente no banco"
          ],
          [
           "Pessoalmente no banco"
          ],
          [
           "No site do banco"
          ],
          [
           "Pessoalmente no banco"
          ],
          [
           "No site do banco"
          ],
          [
           "No aplicativo do banco"
          ],
          [
           "Pessoalmente no banco"
          ],
          [
           "No site do banco"
          ],
          [
           "Pessoalmente no banco"
          ],
          [
           "Pessoalmente no banco"
          ],
          [
           "Pessoalmente no banco"
          ],
          [
           "Pessoalmente no banco"
          ],
          [
           "No site da corretora de investimento"
          ],
          [
           "No aplicativo do banco"
          ],
          [
           "Pessoalmente no banco"
          ],
          [
           "Pessoalmente no banco"
          ],
          [
           "No site da corretora de investimento"
          ],
          [
           "Pessoalmente no banco"
          ],
          [
           "Pessoalmente no banco"
          ],
          [
           "Pessoalmente no banco"
          ],
          [
           "Pessoalmente no banco"
          ],
          [
           "Pessoalmente no banco"
          ],
          [
           "No site da corretora de investimento"
          ],
          [
           "Pessoalmente no banco"
          ],
          [
           "No aplicativo do banco"
          ],
          [
           "Pessoalmente no banco"
          ],
          [
           "No aplicativo do banco"
          ],
          [
           "Pessoalmente no banco"
          ],
          [
           "No aplicativo do banco"
          ],
          [
           "No site do banco"
          ],
          [
           "Pessoalmente no banco"
          ],
          [
           "Pessoalmente no banco"
          ],
          [
           "Pessoalmente no banco"
          ],
          [
           "Pessoalmente no banco"
          ],
          [
           "No aplicativo do banco"
          ],
          [
           "No aplicativo do banco"
          ],
          [
           "Outras respostas"
          ],
          [
           "No aplicativo do banco"
          ],
          [
           "No aplicativo do banco"
          ],
          [
           "No aplicativo do banco"
          ],
          [
           "No aplicativo do banco"
          ],
          [
           "Pessoalmente no banco"
          ],
          [
           "Pessoalmente no banco"
          ],
          [
           "Pessoalmente no banco"
          ],
          [
           "Pessoalmente no banco"
          ],
          [
           "Pessoalmente no banco"
          ],
          [
           "Pessoalmente no banco"
          ],
          [
           "No aplicativo do banco"
          ],
          [
           "Pessoalmente no banco"
          ],
          [
           "Pessoalmente no banco"
          ],
          [
           "Pessoalmente no banco"
          ],
          [
           "Pessoalmente no banco"
          ],
          [
           "No aplicativo do banco"
          ],
          [
           "No aplicativo do banco"
          ],
          [
           "Pessoalmente no banco"
          ],
          [
           "No site da corretora de investimento"
          ],
          [
           "No site da corretora de investimento"
          ],
          [
           "No site do banco"
          ],
          [
           "No site da corretora de investimento"
          ],
          [
           "No aplicativo do banco"
          ],
          [
           "Pessoalmente no banco"
          ],
          [
           "Pessoalmente no banco"
          ],
          [
           "No aplicativo do banco"
          ],
          [
           "No site do banco"
          ],
          [
           "Pessoalmente no banco"
          ],
          [
           "Pessoalmente no banco"
          ],
          [
           "Pessoalmente no banco"
          ],
          [
           "Pessoalmente no banco"
          ],
          [
           "No aplicativo do banco"
          ],
          [
           "No site da corretora de investimento"
          ],
          [
           "Outras respostas"
          ],
          [
           "Pessoalmente no banco"
          ],
          [
           "No aplicativo do banco"
          ],
          [
           "No aplicativo do banco"
          ],
          [
           "Pessoalmente no banco"
          ],
          [
           "Pessoalmente no banco"
          ],
          [
           "Pessoalmente no banco"
          ],
          [
           "No aplicativo do banco"
          ],
          [
           "Pessoalmente no banco"
          ],
          [
           "No site do banco"
          ],
          [
           "Outras respostas"
          ],
          [
           "Pessoalmente no banco"
          ],
          [
           "No site do banco"
          ],
          [
           "No aplicativo do banco"
          ],
          [
           "Pessoalmente no banco"
          ],
          [
           "Pessoalmente no banco"
          ],
          [
           "Pessoalmente no banco"
          ],
          [
           "Pessoalmente no banco"
          ],
          [
           "Pessoalmente no banco"
          ],
          [
           "Pessoalmente no banco"
          ],
          [
           "No site do banco"
          ],
          [
           "Pessoalmente no banco"
          ],
          [
           "Pessoalmente no banco"
          ],
          [
           "No site do banco"
          ],
          [
           "No aplicativo do banco"
          ],
          [
           "Pessoalmente no banco"
          ],
          [
           "Outras respostas"
          ],
          [
           "No site da corretora de investimento"
          ],
          [
           "No aplicativo do banco"
          ],
          [
           "No site da corretora de investimento"
          ],
          [
           "No aplicativo do banco"
          ],
          [
           "Pessoalmente no banco"
          ],
          [
           "Pessoalmente no banco"
          ],
          [
           "No site do banco"
          ],
          [
           "Pessoalmente no banco"
          ],
          [
           "No aplicativo do banco"
          ],
          [
           "No aplicativo do banco"
          ],
          [
           "Outras respostas"
          ],
          [
           "Pessoalmente no banco"
          ],
          [
           "Pessoalmente no banco"
          ],
          [
           "Pessoalmente no banco"
          ],
          [
           "No site do banco"
          ],
          [
           "No aplicativo do banco"
          ],
          [
           "Pessoalmente no banco"
          ],
          [
           "Pessoalmente no banco"
          ],
          [
           "Pessoalmente no banco"
          ],
          [
           "Pessoalmente no banco"
          ],
          [
           "Pessoalmente no banco"
          ],
          [
           "Pessoalmente no banco"
          ],
          [
           "Outras respostas"
          ],
          [
           "Pessoalmente no banco"
          ],
          [
           "Pessoalmente no banco"
          ],
          [
           "Pessoalmente no banco"
          ],
          [
           "Pessoalmente no banco"
          ],
          [
           "No site da corretora de investimento"
          ],
          [
           "Pessoalmente no banco"
          ],
          [
           "Pessoalmente no banco"
          ],
          [
           "Pessoalmente no banco"
          ],
          [
           "No site da corretora de investimento"
          ],
          [
           "Pessoalmente no banco"
          ],
          [
           "Pessoalmente no banco"
          ],
          [
           "Pessoalmente no banco"
          ],
          [
           "No aplicativo do banco"
          ],
          [
           "Pessoalmente no banco"
          ],
          [
           "No site do banco"
          ],
          [
           "Pessoalmente no banco"
          ],
          [
           "No aplicativo do banco"
          ],
          [
           "Pessoalmente no banco"
          ],
          [
           "No aplicativo do banco"
          ],
          [
           "Pessoalmente no banco"
          ],
          [
           "Pessoalmente no banco"
          ],
          [
           "No aplicativo do banco"
          ],
          [
           "No site da corretora de investimento"
          ],
          [
           "Pessoalmente no banco"
          ],
          [
           "Pessoalmente no banco"
          ],
          [
           "No aplicativo do banco"
          ],
          [
           "Pessoalmente no banco"
          ],
          [
           "Pessoalmente no banco"
          ],
          [
           "No site do banco"
          ],
          [
           "No aplicativo do banco"
          ],
          [
           "No aplicativo do banco"
          ],
          [
           "Pessoalmente no banco"
          ],
          [
           "No aplicativo do banco"
          ],
          [
           "No aplicativo do banco"
          ],
          [
           "Pessoalmente no banco"
          ],
          [
           "No aplicativo do banco"
          ],
          [
           "Pessoalmente no banco"
          ],
          [
           "No aplicativo do banco"
          ],
          [
           "Pessoalmente no banco"
          ],
          [
           "No site do banco"
          ],
          [
           "No aplicativo do banco"
          ],
          [
           "Pessoalmente no banco"
          ],
          [
           "No site da corretora de investimento"
          ],
          [
           "Outras respostas"
          ],
          [
           "Pessoalmente no banco"
          ],
          [
           "Pessoalmente no banco"
          ],
          [
           "Pessoalmente no banco"
          ],
          [
           "No site do banco"
          ],
          [
           "No aplicativo do banco"
          ],
          [
           "Pessoalmente no banco"
          ],
          [
           "Pessoalmente no banco"
          ],
          [
           "Pessoalmente no banco"
          ],
          [
           "No site do banco"
          ],
          [
           "No aplicativo do banco"
          ],
          [
           "Pessoalmente no banco"
          ],
          [
           "Pessoalmente no banco"
          ],
          [
           "Pessoalmente no banco"
          ],
          [
           "Pessoalmente no banco"
          ],
          [
           "No aplicativo do banco"
          ],
          [
           "Pessoalmente no banco"
          ],
          [
           "No site da corretora de investimento"
          ],
          [
           "Pessoalmente no banco"
          ],
          [
           "Pessoalmente no banco"
          ],
          [
           "Pessoalmente no banco"
          ],
          [
           "Pessoalmente no banco"
          ],
          [
           "Pessoalmente no banco"
          ],
          [
           "Pessoalmente no banco"
          ],
          [
           "Pessoalmente no banco"
          ],
          [
           "Pessoalmente no banco"
          ],
          [
           "Pessoalmente no banco"
          ],
          [
           "Pessoalmente no banco"
          ],
          [
           "No aplicativo do banco"
          ],
          [
           "No site do banco"
          ],
          [
           "No site do banco"
          ],
          [
           "Pessoalmente no banco"
          ],
          [
           "Pessoalmente no banco"
          ],
          [
           "Pessoalmente no banco"
          ],
          [
           "Pessoalmente no banco"
          ],
          [
           "Pessoalmente no banco"
          ],
          [
           "Pessoalmente no banco"
          ],
          [
           "Pessoalmente no banco"
          ],
          [
           "Pessoalmente no banco"
          ],
          [
           "Pessoalmente no banco"
          ],
          [
           "Pessoalmente no banco"
          ],
          [
           "No aplicativo do banco"
          ],
          [
           "No site da corretora de investimento"
          ],
          [
           "Pessoalmente no banco"
          ],
          [
           "No site do banco"
          ],
          [
           "Pessoalmente no banco"
          ],
          [
           "Pessoalmente no banco"
          ],
          [
           "Outras respostas"
          ],
          [
           "Pessoalmente no banco"
          ],
          [
           "Pessoalmente no banco"
          ],
          [
           "Pessoalmente no banco"
          ],
          [
           "No site do banco"
          ],
          [
           "No site do banco"
          ],
          [
           "No aplicativo do banco"
          ],
          [
           "Pessoalmente no banco"
          ],
          [
           "Pessoalmente no banco"
          ],
          [
           "Pessoalmente no banco"
          ],
          [
           "Pessoalmente no banco"
          ],
          [
           "Pessoalmente no banco"
          ],
          [
           "Pessoalmente no banco"
          ],
          [
           "Pessoalmente no banco"
          ],
          [
           "Pessoalmente no banco"
          ],
          [
           "No aplicativo do banco"
          ],
          [
           "Pessoalmente no banco"
          ],
          [
           "Pessoalmente no banco"
          ],
          [
           "Pessoalmente no banco"
          ],
          [
           "Pessoalmente no banco"
          ],
          [
           "Pessoalmente no banco"
          ],
          [
           "Pessoalmente no banco"
          ],
          [
           "No site da corretora de investimento"
          ],
          [
           "Pessoalmente no banco"
          ],
          [
           "Pessoalmente no banco"
          ],
          [
           "No site do banco"
          ],
          [
           "Pessoalmente no banco"
          ],
          [
           "Pessoalmente no banco"
          ],
          [
           "Pessoalmente no banco"
          ],
          [
           "No site da corretora de investimento"
          ],
          [
           "No aplicativo do banco"
          ],
          [
           "Pessoalmente no banco"
          ],
          [
           "Pessoalmente no banco"
          ],
          [
           "Pessoalmente no banco"
          ],
          [
           "No aplicativo do banco"
          ],
          [
           "Pessoalmente no banco"
          ],
          [
           "Pessoalmente no banco"
          ],
          [
           "Pessoalmente no banco"
          ],
          [
           "No site do banco"
          ],
          [
           "Pessoalmente no banco"
          ],
          [
           "Pessoalmente no banco"
          ],
          [
           "Outras respostas"
          ],
          [
           "Pessoalmente no banco"
          ],
          [
           "Pessoalmente no banco"
          ],
          [
           "Outras respostas"
          ],
          [
           "No aplicativo do banco"
          ],
          [
           "Pessoalmente no banco"
          ],
          [
           "Pessoalmente no banco"
          ],
          [
           "No site do banco"
          ],
          [
           "Outras respostas"
          ],
          [
           "Pessoalmente no banco"
          ],
          [
           "Pessoalmente no banco"
          ],
          [
           "Pessoalmente no banco"
          ],
          [
           "Pessoalmente no banco"
          ],
          [
           "Pessoalmente no banco"
          ],
          [
           "Pessoalmente no banco"
          ],
          [
           "Pessoalmente no banco"
          ],
          [
           "Pessoalmente no banco"
          ],
          [
           "No site do banco"
          ],
          [
           "Pessoalmente no banco"
          ],
          [
           "Pessoalmente no banco"
          ],
          [
           "Pessoalmente no banco"
          ],
          [
           "No site do banco"
          ],
          [
           "Pessoalmente no banco"
          ],
          [
           "Pessoalmente no banco"
          ],
          [
           "Pessoalmente no banco"
          ],
          [
           "Pessoalmente no banco"
          ],
          [
           "Pessoalmente no banco"
          ],
          [
           "Pessoalmente no banco"
          ],
          [
           "Pessoalmente no banco"
          ],
          [
           "Pessoalmente no banco"
          ],
          [
           "No aplicativo do banco"
          ],
          [
           "Pessoalmente no banco"
          ],
          [
           "No aplicativo do banco"
          ],
          [
           "Pessoalmente no banco"
          ],
          [
           "No site da corretora de investimento"
          ],
          [
           "Pessoalmente no banco"
          ],
          [
           "Pessoalmente no banco"
          ],
          [
           "Pessoalmente no banco"
          ],
          [
           "Pessoalmente no banco"
          ],
          [
           "Pessoalmente no banco"
          ],
          [
           "Pessoalmente no banco"
          ],
          [
           "Outras respostas"
          ],
          [
           "No site da corretora de investimento"
          ],
          [
           "Pessoalmente no banco"
          ],
          [
           "No aplicativo do banco"
          ],
          [
           "Pessoalmente no banco"
          ],
          [
           "Pessoalmente no banco"
          ],
          [
           "Pessoalmente no banco"
          ],
          [
           "No aplicativo do banco"
          ],
          [
           "No aplicativo do banco"
          ],
          [
           "No aplicativo do banco"
          ],
          [
           "No aplicativo do banco"
          ],
          [
           "No aplicativo do banco"
          ],
          [
           "Pessoalmente no banco"
          ],
          [
           "No site da corretora de investimento"
          ],
          [
           "Pessoalmente no banco"
          ],
          [
           "No aplicativo do banco"
          ],
          [
           "Pessoalmente no banco"
          ],
          [
           "Pessoalmente no banco"
          ],
          [
           "No aplicativo do banco"
          ],
          [
           "No aplicativo do banco"
          ],
          [
           "No aplicativo do banco"
          ],
          [
           "No site da corretora de investimento"
          ],
          [
           "No aplicativo do banco"
          ],
          [
           "No aplicativo do banco"
          ],
          [
           "Pessoalmente no banco"
          ],
          [
           "Pessoalmente no banco"
          ],
          [
           "Pessoalmente no banco"
          ],
          [
           "Pessoalmente no banco"
          ],
          [
           "Pessoalmente no banco"
          ],
          [
           "Pessoalmente no banco"
          ],
          [
           "Pessoalmente no banco"
          ],
          [
           "Pessoalmente no banco"
          ],
          [
           "Pessoalmente no banco"
          ],
          [
           "Pessoalmente no banco"
          ],
          [
           "Pessoalmente no banco"
          ],
          [
           "Pessoalmente no banco"
          ],
          [
           "No aplicativo do banco"
          ],
          [
           "Pessoalmente no banco"
          ],
          [
           "No aplicativo do banco"
          ],
          [
           "Pessoalmente no banco"
          ],
          [
           "Outras respostas"
          ],
          [
           "Pessoalmente no banco"
          ],
          [
           "Pessoalmente no banco"
          ],
          [
           "Pessoalmente no banco"
          ],
          [
           "No site do banco"
          ],
          [
           "No aplicativo do banco"
          ],
          [
           "Pessoalmente no banco"
          ],
          [
           "Pessoalmente no banco"
          ],
          [
           "Outras respostas"
          ],
          [
           "No aplicativo do banco"
          ],
          [
           "Pessoalmente no banco"
          ],
          [
           "Pessoalmente no banco"
          ],
          [
           "No site da corretora de investimento"
          ],
          [
           "Pessoalmente no banco"
          ],
          [
           "No site da corretora de investimento"
          ],
          [
           "Pessoalmente no banco"
          ],
          [
           "No aplicativo do banco"
          ],
          [
           "Pessoalmente no banco"
          ],
          [
           "No site do banco"
          ],
          [
           "Pessoalmente no banco"
          ],
          [
           "No site da corretora de investimento"
          ],
          [
           "Outras respostas"
          ],
          [
           "Pessoalmente no banco"
          ],
          [
           "Pessoalmente no banco"
          ],
          [
           "Pessoalmente no banco"
          ],
          [
           "Pessoalmente no banco"
          ],
          [
           "Pessoalmente no banco"
          ],
          [
           "No aplicativo do banco"
          ],
          [
           "No aplicativo do banco"
          ],
          [
           "Pessoalmente no banco"
          ],
          [
           "No site do banco"
          ],
          [
           "No aplicativo do banco"
          ],
          [
           "No aplicativo do banco"
          ],
          [
           "No site da corretora de investimento"
          ],
          [
           "Pessoalmente no banco"
          ],
          [
           "Pessoalmente no banco"
          ],
          [
           "Pessoalmente no banco"
          ],
          [
           "Pessoalmente no banco"
          ],
          [
           "Pessoalmente no banco"
          ],
          [
           "No site da corretora de investimento"
          ],
          [
           "Pessoalmente no banco"
          ],
          [
           "No aplicativo do banco"
          ],
          [
           "Pessoalmente no banco"
          ],
          [
           "Pessoalmente no banco"
          ],
          [
           "Pessoalmente no banco"
          ],
          [
           "Pessoalmente no banco"
          ],
          [
           "No aplicativo do banco"
          ],
          [
           "No site do banco"
          ],
          [
           "Pessoalmente no banco"
          ],
          [
           "Pessoalmente no banco"
          ],
          [
           "Pessoalmente no banco"
          ],
          [
           "No aplicativo do banco"
          ],
          [
           "No aplicativo do banco"
          ],
          [
           "Pessoalmente no banco"
          ],
          [
           "Pessoalmente no banco"
          ],
          [
           "Pessoalmente no banco"
          ],
          [
           "Pessoalmente no banco"
          ],
          [
           "Pessoalmente no banco"
          ],
          [
           "Pessoalmente no banco"
          ],
          [
           "No aplicativo do banco"
          ],
          [
           "Pessoalmente no banco"
          ],
          [
           "No aplicativo do banco"
          ],
          [
           "No aplicativo do banco"
          ],
          [
           "Pessoalmente no banco"
          ],
          [
           "No aplicativo do banco"
          ],
          [
           "Pessoalmente no banco"
          ],
          [
           "Pessoalmente no banco"
          ],
          [
           "Outras respostas"
          ],
          [
           "Pessoalmente no banco"
          ],
          [
           "Pessoalmente no banco"
          ],
          [
           "No site da corretora de investimento"
          ],
          [
           "No site do banco"
          ],
          [
           "Pessoalmente no banco"
          ],
          [
           "Pessoalmente no banco"
          ],
          [
           "Pessoalmente no banco"
          ],
          [
           "Pessoalmente no banco"
          ],
          [
           "No aplicativo do banco"
          ],
          [
           "Pessoalmente no banco"
          ],
          [
           "Outras respostas"
          ],
          [
           "No site do banco"
          ],
          [
           "Pessoalmente no banco"
          ],
          [
           "Pessoalmente no banco"
          ],
          [
           "Pessoalmente no banco"
          ],
          [
           "Pessoalmente no banco"
          ],
          [
           "Pessoalmente no banco"
          ],
          [
           "Pessoalmente no banco"
          ],
          [
           "Outras respostas"
          ],
          [
           "Pessoalmente no banco"
          ],
          [
           "No site do banco"
          ],
          [
           "No aplicativo do banco"
          ],
          [
           "Pessoalmente no banco"
          ],
          [
           "No site do banco"
          ],
          [
           "Pessoalmente no banco"
          ],
          [
           "No aplicativo do banco"
          ],
          [
           "Pessoalmente no banco"
          ],
          [
           "Pessoalmente no banco"
          ],
          [
           "No site do banco"
          ],
          [
           "Pessoalmente no banco"
          ],
          [
           "No site do banco"
          ],
          [
           "Pessoalmente no banco"
          ],
          [
           "Pessoalmente no banco"
          ],
          [
           "Pessoalmente no banco"
          ],
          [
           "No aplicativo do banco"
          ],
          [
           "Pessoalmente no banco"
          ],
          [
           "Pessoalmente no banco"
          ],
          [
           "Pessoalmente no banco"
          ],
          [
           "No site da corretora de investimento"
          ],
          [
           "Pessoalmente no banco"
          ],
          [
           "No site do banco"
          ],
          [
           "Pessoalmente no banco"
          ],
          [
           "No site do banco"
          ],
          [
           "Pessoalmente no banco"
          ],
          [
           "Outras respostas"
          ],
          [
           "No aplicativo do banco"
          ],
          [
           "No aplicativo do banco"
          ],
          [
           "Pessoalmente no banco"
          ],
          [
           "No aplicativo do banco"
          ],
          [
           "No aplicativo do banco"
          ],
          [
           "Outras respostas"
          ],
          [
           "Pessoalmente no banco"
          ],
          [
           "Pessoalmente no banco"
          ],
          [
           "No aplicativo do banco"
          ],
          [
           "No aplicativo do banco"
          ],
          [
           "Pessoalmente no banco"
          ],
          [
           "Pessoalmente no banco"
          ],
          [
           "Pessoalmente no banco"
          ],
          [
           "No site do banco"
          ],
          [
           "Pessoalmente no banco"
          ],
          [
           "Pessoalmente no banco"
          ],
          [
           "Pessoalmente no banco"
          ],
          [
           "No aplicativo do banco"
          ],
          [
           "Pessoalmente no banco"
          ],
          [
           "No site do banco"
          ],
          [
           "Pessoalmente no banco"
          ],
          [
           "Pessoalmente no banco"
          ],
          [
           "Pessoalmente no banco"
          ],
          [
           "No aplicativo do banco"
          ],
          [
           "Pessoalmente no banco"
          ],
          [
           "Pessoalmente no banco"
          ],
          [
           "No site da corretora de investimento"
          ],
          [
           "No site da corretora de investimento"
          ],
          [
           "No site do banco"
          ],
          [
           "Pessoalmente no banco"
          ],
          [
           "No aplicativo do banco"
          ],
          [
           "Pessoalmente no banco"
          ],
          [
           "Pessoalmente no banco"
          ],
          [
           "No aplicativo do banco"
          ],
          [
           "Pessoalmente no banco"
          ],
          [
           "No aplicativo do banco"
          ],
          [
           "Pessoalmente no banco"
          ],
          [
           "Pessoalmente no banco"
          ],
          [
           "Pessoalmente no banco"
          ],
          [
           "Outras respostas"
          ],
          [
           "Pessoalmente no banco"
          ],
          [
           "Pessoalmente no banco"
          ],
          [
           "Pessoalmente no banco"
          ],
          [
           "No aplicativo do banco"
          ],
          [
           "No aplicativo do banco"
          ],
          [
           "Pessoalmente no banco"
          ],
          [
           "No aplicativo do banco"
          ],
          [
           "No site do banco"
          ],
          [
           "Pessoalmente no banco"
          ],
          [
           "Pessoalmente no banco"
          ],
          [
           "Pessoalmente no banco"
          ],
          [
           "No aplicativo do banco"
          ],
          [
           "No aplicativo do banco"
          ],
          [
           "No aplicativo do banco"
          ],
          [
           "Pessoalmente no banco"
          ],
          [
           "Pessoalmente no banco"
          ],
          [
           "No aplicativo do banco"
          ],
          [
           "No site da corretora de investimento"
          ],
          [
           "Pessoalmente no banco"
          ],
          [
           "Pessoalmente no banco"
          ],
          [
           "Pessoalmente no banco"
          ],
          [
           "No aplicativo do banco"
          ],
          [
           "Pessoalmente no banco"
          ],
          [
           "Pessoalmente no banco"
          ],
          [
           "No aplicativo do banco"
          ],
          [
           "Pessoalmente no banco"
          ],
          [
           "Pessoalmente no banco"
          ],
          [
           "Pessoalmente no banco"
          ],
          [
           "Pessoalmente no banco"
          ],
          [
           "No site do banco"
          ],
          [
           "No site do banco"
          ],
          [
           "No aplicativo do banco"
          ],
          [
           "No aplicativo do banco"
          ],
          [
           "No aplicativo do banco"
          ],
          [
           "Outras respostas"
          ],
          [
           "Outras respostas"
          ],
          [
           "No site do banco"
          ],
          [
           "Pessoalmente no banco"
          ],
          [
           "Pessoalmente no banco"
          ],
          [
           "No aplicativo do banco"
          ],
          [
           "Pessoalmente no banco"
          ],
          [
           "Pessoalmente no banco"
          ],
          [
           "Pessoalmente no banco"
          ],
          [
           "No aplicativo do banco"
          ],
          [
           "Pessoalmente no banco"
          ],
          [
           "No aplicativo do banco"
          ],
          [
           "Pessoalmente no banco"
          ],
          [
           "Pessoalmente no banco"
          ],
          [
           "No site do banco"
          ],
          [
           "Pessoalmente no banco"
          ],
          [
           "Pessoalmente no banco"
          ],
          [
           "Pessoalmente no banco"
          ],
          [
           "Pessoalmente no banco"
          ],
          [
           "No site do banco"
          ],
          [
           "Outras respostas"
          ]
         ],
         "domain": {
          "x": [
           0,
           1
          ],
          "y": [
           0,
           1
          ]
         },
         "hovertemplate": "Meio para realização de aplicação financeira=%{customdata[0]}<extra></extra>",
         "labels": [
          "Pessoalmente no banco",
          "Outras respostas",
          "Outras respostas",
          "No aplicativo do banco",
          "No aplicativo do banco",
          "Pessoalmente no banco",
          "No aplicativo do banco",
          "Pessoalmente no banco",
          "Pessoalmente no banco",
          "Pessoalmente no banco",
          "Pessoalmente no banco",
          "Pessoalmente no banco",
          "No aplicativo do banco",
          "No site do banco",
          "No aplicativo do banco",
          "Pessoalmente no banco",
          "Pessoalmente no banco",
          "No site do banco",
          "Pessoalmente no banco",
          "Pessoalmente no banco",
          "Pessoalmente no banco",
          "No aplicativo do banco",
          "Pessoalmente no banco",
          "Pessoalmente no banco",
          "Pessoalmente no banco",
          "No site do banco",
          "Pessoalmente no banco",
          "Pessoalmente no banco",
          "No site da corretora de investimento",
          "No aplicativo do banco",
          "No site do banco",
          "Pessoalmente no banco",
          "Pessoalmente no banco",
          "No site da corretora de investimento",
          "No aplicativo do banco",
          "Pessoalmente no banco",
          "Pessoalmente no banco",
          "No site do banco",
          "Pessoalmente no banco",
          "No site do banco",
          "No aplicativo do banco",
          "Pessoalmente no banco",
          "No site do banco",
          "Pessoalmente no banco",
          "Pessoalmente no banco",
          "Pessoalmente no banco",
          "Pessoalmente no banco",
          "No site da corretora de investimento",
          "No aplicativo do banco",
          "Pessoalmente no banco",
          "Pessoalmente no banco",
          "No site da corretora de investimento",
          "Pessoalmente no banco",
          "Pessoalmente no banco",
          "Pessoalmente no banco",
          "Pessoalmente no banco",
          "Pessoalmente no banco",
          "No site da corretora de investimento",
          "Pessoalmente no banco",
          "No aplicativo do banco",
          "Pessoalmente no banco",
          "No aplicativo do banco",
          "Pessoalmente no banco",
          "No aplicativo do banco",
          "No site do banco",
          "Pessoalmente no banco",
          "Pessoalmente no banco",
          "Pessoalmente no banco",
          "Pessoalmente no banco",
          "No aplicativo do banco",
          "No aplicativo do banco",
          "Outras respostas",
          "No aplicativo do banco",
          "No aplicativo do banco",
          "No aplicativo do banco",
          "No aplicativo do banco",
          "Pessoalmente no banco",
          "Pessoalmente no banco",
          "Pessoalmente no banco",
          "Pessoalmente no banco",
          "Pessoalmente no banco",
          "Pessoalmente no banco",
          "No aplicativo do banco",
          "Pessoalmente no banco",
          "Pessoalmente no banco",
          "Pessoalmente no banco",
          "Pessoalmente no banco",
          "No aplicativo do banco",
          "No aplicativo do banco",
          "Pessoalmente no banco",
          "No site da corretora de investimento",
          "No site da corretora de investimento",
          "No site do banco",
          "No site da corretora de investimento",
          "No aplicativo do banco",
          "Pessoalmente no banco",
          "Pessoalmente no banco",
          "No aplicativo do banco",
          "No site do banco",
          "Pessoalmente no banco",
          "Pessoalmente no banco",
          "Pessoalmente no banco",
          "Pessoalmente no banco",
          "No aplicativo do banco",
          "No site da corretora de investimento",
          "Outras respostas",
          "Pessoalmente no banco",
          "No aplicativo do banco",
          "No aplicativo do banco",
          "Pessoalmente no banco",
          "Pessoalmente no banco",
          "Pessoalmente no banco",
          "No aplicativo do banco",
          "Pessoalmente no banco",
          "No site do banco",
          "Outras respostas",
          "Pessoalmente no banco",
          "No site do banco",
          "No aplicativo do banco",
          "Pessoalmente no banco",
          "Pessoalmente no banco",
          "Pessoalmente no banco",
          "Pessoalmente no banco",
          "Pessoalmente no banco",
          "Pessoalmente no banco",
          "No site do banco",
          "Pessoalmente no banco",
          "Pessoalmente no banco",
          "No site do banco",
          "No aplicativo do banco",
          "Pessoalmente no banco",
          "Outras respostas",
          "No site da corretora de investimento",
          "No aplicativo do banco",
          "No site da corretora de investimento",
          "No aplicativo do banco",
          "Pessoalmente no banco",
          "Pessoalmente no banco",
          "No site do banco",
          "Pessoalmente no banco",
          "No aplicativo do banco",
          "No aplicativo do banco",
          "Outras respostas",
          "Pessoalmente no banco",
          "Pessoalmente no banco",
          "Pessoalmente no banco",
          "No site do banco",
          "No aplicativo do banco",
          "Pessoalmente no banco",
          "Pessoalmente no banco",
          "Pessoalmente no banco",
          "Pessoalmente no banco",
          "Pessoalmente no banco",
          "Pessoalmente no banco",
          "Outras respostas",
          "Pessoalmente no banco",
          "Pessoalmente no banco",
          "Pessoalmente no banco",
          "Pessoalmente no banco",
          "No site da corretora de investimento",
          "Pessoalmente no banco",
          "Pessoalmente no banco",
          "Pessoalmente no banco",
          "No site da corretora de investimento",
          "Pessoalmente no banco",
          "Pessoalmente no banco",
          "Pessoalmente no banco",
          "No aplicativo do banco",
          "Pessoalmente no banco",
          "No site do banco",
          "Pessoalmente no banco",
          "No aplicativo do banco",
          "Pessoalmente no banco",
          "No aplicativo do banco",
          "Pessoalmente no banco",
          "Pessoalmente no banco",
          "No aplicativo do banco",
          "No site da corretora de investimento",
          "Pessoalmente no banco",
          "Pessoalmente no banco",
          "No aplicativo do banco",
          "Pessoalmente no banco",
          "Pessoalmente no banco",
          "No site do banco",
          "No aplicativo do banco",
          "No aplicativo do banco",
          "Pessoalmente no banco",
          "No aplicativo do banco",
          "No aplicativo do banco",
          "Pessoalmente no banco",
          "No aplicativo do banco",
          "Pessoalmente no banco",
          "No aplicativo do banco",
          "Pessoalmente no banco",
          "No site do banco",
          "No aplicativo do banco",
          "Pessoalmente no banco",
          "No site da corretora de investimento",
          "Outras respostas",
          "Pessoalmente no banco",
          "Pessoalmente no banco",
          "Pessoalmente no banco",
          "No site do banco",
          "No aplicativo do banco",
          "Pessoalmente no banco",
          "Pessoalmente no banco",
          "Pessoalmente no banco",
          "No site do banco",
          "No aplicativo do banco",
          "Pessoalmente no banco",
          "Pessoalmente no banco",
          "Pessoalmente no banco",
          "Pessoalmente no banco",
          "No aplicativo do banco",
          "Pessoalmente no banco",
          "No site da corretora de investimento",
          "Pessoalmente no banco",
          "Pessoalmente no banco",
          "Pessoalmente no banco",
          "Pessoalmente no banco",
          "Pessoalmente no banco",
          "Pessoalmente no banco",
          "Pessoalmente no banco",
          "Pessoalmente no banco",
          "Pessoalmente no banco",
          "Pessoalmente no banco",
          "No aplicativo do banco",
          "No site do banco",
          "No site do banco",
          "Pessoalmente no banco",
          "Pessoalmente no banco",
          "Pessoalmente no banco",
          "Pessoalmente no banco",
          "Pessoalmente no banco",
          "Pessoalmente no banco",
          "Pessoalmente no banco",
          "Pessoalmente no banco",
          "Pessoalmente no banco",
          "Pessoalmente no banco",
          "No aplicativo do banco",
          "No site da corretora de investimento",
          "Pessoalmente no banco",
          "No site do banco",
          "Pessoalmente no banco",
          "Pessoalmente no banco",
          "Outras respostas",
          "Pessoalmente no banco",
          "Pessoalmente no banco",
          "Pessoalmente no banco",
          "No site do banco",
          "No site do banco",
          "No aplicativo do banco",
          "Pessoalmente no banco",
          "Pessoalmente no banco",
          "Pessoalmente no banco",
          "Pessoalmente no banco",
          "Pessoalmente no banco",
          "Pessoalmente no banco",
          "Pessoalmente no banco",
          "Pessoalmente no banco",
          "No aplicativo do banco",
          "Pessoalmente no banco",
          "Pessoalmente no banco",
          "Pessoalmente no banco",
          "Pessoalmente no banco",
          "Pessoalmente no banco",
          "Pessoalmente no banco",
          "No site da corretora de investimento",
          "Pessoalmente no banco",
          "Pessoalmente no banco",
          "No site do banco",
          "Pessoalmente no banco",
          "Pessoalmente no banco",
          "Pessoalmente no banco",
          "No site da corretora de investimento",
          "No aplicativo do banco",
          "Pessoalmente no banco",
          "Pessoalmente no banco",
          "Pessoalmente no banco",
          "No aplicativo do banco",
          "Pessoalmente no banco",
          "Pessoalmente no banco",
          "Pessoalmente no banco",
          "No site do banco",
          "Pessoalmente no banco",
          "Pessoalmente no banco",
          "Outras respostas",
          "Pessoalmente no banco",
          "Pessoalmente no banco",
          "Outras respostas",
          "No aplicativo do banco",
          "Pessoalmente no banco",
          "Pessoalmente no banco",
          "No site do banco",
          "Outras respostas",
          "Pessoalmente no banco",
          "Pessoalmente no banco",
          "Pessoalmente no banco",
          "Pessoalmente no banco",
          "Pessoalmente no banco",
          "Pessoalmente no banco",
          "Pessoalmente no banco",
          "Pessoalmente no banco",
          "No site do banco",
          "Pessoalmente no banco",
          "Pessoalmente no banco",
          "Pessoalmente no banco",
          "No site do banco",
          "Pessoalmente no banco",
          "Pessoalmente no banco",
          "Pessoalmente no banco",
          "Pessoalmente no banco",
          "Pessoalmente no banco",
          "Pessoalmente no banco",
          "Pessoalmente no banco",
          "Pessoalmente no banco",
          "No aplicativo do banco",
          "Pessoalmente no banco",
          "No aplicativo do banco",
          "Pessoalmente no banco",
          "No site da corretora de investimento",
          "Pessoalmente no banco",
          "Pessoalmente no banco",
          "Pessoalmente no banco",
          "Pessoalmente no banco",
          "Pessoalmente no banco",
          "Pessoalmente no banco",
          "Outras respostas",
          "No site da corretora de investimento",
          "Pessoalmente no banco",
          "No aplicativo do banco",
          "Pessoalmente no banco",
          "Pessoalmente no banco",
          "Pessoalmente no banco",
          "No aplicativo do banco",
          "No aplicativo do banco",
          "No aplicativo do banco",
          "No aplicativo do banco",
          "No aplicativo do banco",
          "Pessoalmente no banco",
          "No site da corretora de investimento",
          "Pessoalmente no banco",
          "No aplicativo do banco",
          "Pessoalmente no banco",
          "Pessoalmente no banco",
          "No aplicativo do banco",
          "No aplicativo do banco",
          "No aplicativo do banco",
          "No site da corretora de investimento",
          "No aplicativo do banco",
          "No aplicativo do banco",
          "Pessoalmente no banco",
          "Pessoalmente no banco",
          "Pessoalmente no banco",
          "Pessoalmente no banco",
          "Pessoalmente no banco",
          "Pessoalmente no banco",
          "Pessoalmente no banco",
          "Pessoalmente no banco",
          "Pessoalmente no banco",
          "Pessoalmente no banco",
          "Pessoalmente no banco",
          "Pessoalmente no banco",
          "No aplicativo do banco",
          "Pessoalmente no banco",
          "No aplicativo do banco",
          "Pessoalmente no banco",
          "Outras respostas",
          "Pessoalmente no banco",
          "Pessoalmente no banco",
          "Pessoalmente no banco",
          "No site do banco",
          "No aplicativo do banco",
          "Pessoalmente no banco",
          "Pessoalmente no banco",
          "Outras respostas",
          "No aplicativo do banco",
          "Pessoalmente no banco",
          "Pessoalmente no banco",
          "No site da corretora de investimento",
          "Pessoalmente no banco",
          "No site da corretora de investimento",
          "Pessoalmente no banco",
          "No aplicativo do banco",
          "Pessoalmente no banco",
          "No site do banco",
          "Pessoalmente no banco",
          "No site da corretora de investimento",
          "Outras respostas",
          "Pessoalmente no banco",
          "Pessoalmente no banco",
          "Pessoalmente no banco",
          "Pessoalmente no banco",
          "Pessoalmente no banco",
          "No aplicativo do banco",
          "No aplicativo do banco",
          "Pessoalmente no banco",
          "No site do banco",
          "No aplicativo do banco",
          "No aplicativo do banco",
          "No site da corretora de investimento",
          "Pessoalmente no banco",
          "Pessoalmente no banco",
          "Pessoalmente no banco",
          "Pessoalmente no banco",
          "Pessoalmente no banco",
          "No site da corretora de investimento",
          "Pessoalmente no banco",
          "No aplicativo do banco",
          "Pessoalmente no banco",
          "Pessoalmente no banco",
          "Pessoalmente no banco",
          "Pessoalmente no banco",
          "No aplicativo do banco",
          "No site do banco",
          "Pessoalmente no banco",
          "Pessoalmente no banco",
          "Pessoalmente no banco",
          "No aplicativo do banco",
          "No aplicativo do banco",
          "Pessoalmente no banco",
          "Pessoalmente no banco",
          "Pessoalmente no banco",
          "Pessoalmente no banco",
          "Pessoalmente no banco",
          "Pessoalmente no banco",
          "No aplicativo do banco",
          "Pessoalmente no banco",
          "No aplicativo do banco",
          "No aplicativo do banco",
          "Pessoalmente no banco",
          "No aplicativo do banco",
          "Pessoalmente no banco",
          "Pessoalmente no banco",
          "Outras respostas",
          "Pessoalmente no banco",
          "Pessoalmente no banco",
          "No site da corretora de investimento",
          "No site do banco",
          "Pessoalmente no banco",
          "Pessoalmente no banco",
          "Pessoalmente no banco",
          "Pessoalmente no banco",
          "No aplicativo do banco",
          "Pessoalmente no banco",
          "Outras respostas",
          "No site do banco",
          "Pessoalmente no banco",
          "Pessoalmente no banco",
          "Pessoalmente no banco",
          "Pessoalmente no banco",
          "Pessoalmente no banco",
          "Pessoalmente no banco",
          "Outras respostas",
          "Pessoalmente no banco",
          "No site do banco",
          "No aplicativo do banco",
          "Pessoalmente no banco",
          "No site do banco",
          "Pessoalmente no banco",
          "No aplicativo do banco",
          "Pessoalmente no banco",
          "Pessoalmente no banco",
          "No site do banco",
          "Pessoalmente no banco",
          "No site do banco",
          "Pessoalmente no banco",
          "Pessoalmente no banco",
          "Pessoalmente no banco",
          "No aplicativo do banco",
          "Pessoalmente no banco",
          "Pessoalmente no banco",
          "Pessoalmente no banco",
          "No site da corretora de investimento",
          "Pessoalmente no banco",
          "No site do banco",
          "Pessoalmente no banco",
          "No site do banco",
          "Pessoalmente no banco",
          "Outras respostas",
          "No aplicativo do banco",
          "No aplicativo do banco",
          "Pessoalmente no banco",
          "No aplicativo do banco",
          "No aplicativo do banco",
          "Outras respostas",
          "Pessoalmente no banco",
          "Pessoalmente no banco",
          "No aplicativo do banco",
          "No aplicativo do banco",
          "Pessoalmente no banco",
          "Pessoalmente no banco",
          "Pessoalmente no banco",
          "No site do banco",
          "Pessoalmente no banco",
          "Pessoalmente no banco",
          "Pessoalmente no banco",
          "No aplicativo do banco",
          "Pessoalmente no banco",
          "No site do banco",
          "Pessoalmente no banco",
          "Pessoalmente no banco",
          "Pessoalmente no banco",
          "No aplicativo do banco",
          "Pessoalmente no banco",
          "Pessoalmente no banco",
          "No site da corretora de investimento",
          "No site da corretora de investimento",
          "No site do banco",
          "Pessoalmente no banco",
          "No aplicativo do banco",
          "Pessoalmente no banco",
          "Pessoalmente no banco",
          "No aplicativo do banco",
          "Pessoalmente no banco",
          "No aplicativo do banco",
          "Pessoalmente no banco",
          "Pessoalmente no banco",
          "Pessoalmente no banco",
          "Outras respostas",
          "Pessoalmente no banco",
          "Pessoalmente no banco",
          "Pessoalmente no banco",
          "No aplicativo do banco",
          "No aplicativo do banco",
          "Pessoalmente no banco",
          "No aplicativo do banco",
          "No site do banco",
          "Pessoalmente no banco",
          "Pessoalmente no banco",
          "Pessoalmente no banco",
          "No aplicativo do banco",
          "No aplicativo do banco",
          "No aplicativo do banco",
          "Pessoalmente no banco",
          "Pessoalmente no banco",
          "No aplicativo do banco",
          "No site da corretora de investimento",
          "Pessoalmente no banco",
          "Pessoalmente no banco",
          "Pessoalmente no banco",
          "No aplicativo do banco",
          "Pessoalmente no banco",
          "Pessoalmente no banco",
          "No aplicativo do banco",
          "Pessoalmente no banco",
          "Pessoalmente no banco",
          "Pessoalmente no banco",
          "Pessoalmente no banco",
          "No site do banco",
          "No site do banco",
          "No aplicativo do banco",
          "No aplicativo do banco",
          "No aplicativo do banco",
          "Outras respostas",
          "Outras respostas",
          "No site do banco",
          "Pessoalmente no banco",
          "Pessoalmente no banco",
          "No aplicativo do banco",
          "Pessoalmente no banco",
          "Pessoalmente no banco",
          "Pessoalmente no banco",
          "No aplicativo do banco",
          "Pessoalmente no banco",
          "No aplicativo do banco",
          "Pessoalmente no banco",
          "Pessoalmente no banco",
          "No site do banco",
          "Pessoalmente no banco",
          "Pessoalmente no banco",
          "Pessoalmente no banco",
          "Pessoalmente no banco",
          "No site do banco",
          "Outras respostas"
         ],
         "legendgroup": "",
         "marker": {
          "colors": [
           "#150035",
           "#FFA15A",
           "#FFA15A",
           "#5E96EC",
           "#5E96EC",
           "#150035",
           "#5E96EC",
           "#150035",
           "#150035",
           "#150035",
           "#150035",
           "#150035",
           "#5E96EC",
           "#FDE443",
           "#5E96EC",
           "#150035",
           "#150035",
           "#FDE443",
           "#150035",
           "#150035",
           "#150035",
           "#5E96EC",
           "#150035",
           "#150035",
           "#150035",
           "#FDE443",
           "#150035",
           "#150035",
           "#E1EEE5",
           "#5E96EC",
           "#FDE443",
           "#150035",
           "#150035",
           "#E1EEE5",
           "#5E96EC",
           "#150035",
           "#150035",
           "#FDE443",
           "#150035",
           "#FDE443",
           "#5E96EC",
           "#150035",
           "#FDE443",
           "#150035",
           "#150035",
           "#150035",
           "#150035",
           "#E1EEE5",
           "#5E96EC",
           "#150035",
           "#150035",
           "#E1EEE5",
           "#150035",
           "#150035",
           "#150035",
           "#150035",
           "#150035",
           "#E1EEE5",
           "#150035",
           "#5E96EC",
           "#150035",
           "#5E96EC",
           "#150035",
           "#5E96EC",
           "#FDE443",
           "#150035",
           "#150035",
           "#150035",
           "#150035",
           "#5E96EC",
           "#5E96EC",
           "#FFA15A",
           "#5E96EC",
           "#5E96EC",
           "#5E96EC",
           "#5E96EC",
           "#150035",
           "#150035",
           "#150035",
           "#150035",
           "#150035",
           "#150035",
           "#5E96EC",
           "#150035",
           "#150035",
           "#150035",
           "#150035",
           "#5E96EC",
           "#5E96EC",
           "#150035",
           "#E1EEE5",
           "#E1EEE5",
           "#FDE443",
           "#E1EEE5",
           "#5E96EC",
           "#150035",
           "#150035",
           "#5E96EC",
           "#FDE443",
           "#150035",
           "#150035",
           "#150035",
           "#150035",
           "#5E96EC",
           "#E1EEE5",
           "#FFA15A",
           "#150035",
           "#5E96EC",
           "#5E96EC",
           "#150035",
           "#150035",
           "#150035",
           "#5E96EC",
           "#150035",
           "#FDE443",
           "#FFA15A",
           "#150035",
           "#FDE443",
           "#5E96EC",
           "#150035",
           "#150035",
           "#150035",
           "#150035",
           "#150035",
           "#150035",
           "#FDE443",
           "#150035",
           "#150035",
           "#FDE443",
           "#5E96EC",
           "#150035",
           "#FFA15A",
           "#E1EEE5",
           "#5E96EC",
           "#E1EEE5",
           "#5E96EC",
           "#150035",
           "#150035",
           "#FDE443",
           "#150035",
           "#5E96EC",
           "#5E96EC",
           "#FFA15A",
           "#150035",
           "#150035",
           "#150035",
           "#FDE443",
           "#5E96EC",
           "#150035",
           "#150035",
           "#150035",
           "#150035",
           "#150035",
           "#150035",
           "#FFA15A",
           "#150035",
           "#150035",
           "#150035",
           "#150035",
           "#E1EEE5",
           "#150035",
           "#150035",
           "#150035",
           "#E1EEE5",
           "#150035",
           "#150035",
           "#150035",
           "#5E96EC",
           "#150035",
           "#FDE443",
           "#150035",
           "#5E96EC",
           "#150035",
           "#5E96EC",
           "#150035",
           "#150035",
           "#5E96EC",
           "#E1EEE5",
           "#150035",
           "#150035",
           "#5E96EC",
           "#150035",
           "#150035",
           "#FDE443",
           "#5E96EC",
           "#5E96EC",
           "#150035",
           "#5E96EC",
           "#5E96EC",
           "#150035",
           "#5E96EC",
           "#150035",
           "#5E96EC",
           "#150035",
           "#FDE443",
           "#5E96EC",
           "#150035",
           "#E1EEE5",
           "#FFA15A",
           "#150035",
           "#150035",
           "#150035",
           "#FDE443",
           "#5E96EC",
           "#150035",
           "#150035",
           "#150035",
           "#FDE443",
           "#5E96EC",
           "#150035",
           "#150035",
           "#150035",
           "#150035",
           "#5E96EC",
           "#150035",
           "#E1EEE5",
           "#150035",
           "#150035",
           "#150035",
           "#150035",
           "#150035",
           "#150035",
           "#150035",
           "#150035",
           "#150035",
           "#150035",
           "#5E96EC",
           "#FDE443",
           "#FDE443",
           "#150035",
           "#150035",
           "#150035",
           "#150035",
           "#150035",
           "#150035",
           "#150035",
           "#150035",
           "#150035",
           "#150035",
           "#5E96EC",
           "#E1EEE5",
           "#150035",
           "#FDE443",
           "#150035",
           "#150035",
           "#FFA15A",
           "#150035",
           "#150035",
           "#150035",
           "#FDE443",
           "#FDE443",
           "#5E96EC",
           "#150035",
           "#150035",
           "#150035",
           "#150035",
           "#150035",
           "#150035",
           "#150035",
           "#150035",
           "#5E96EC",
           "#150035",
           "#150035",
           "#150035",
           "#150035",
           "#150035",
           "#150035",
           "#E1EEE5",
           "#150035",
           "#150035",
           "#FDE443",
           "#150035",
           "#150035",
           "#150035",
           "#E1EEE5",
           "#5E96EC",
           "#150035",
           "#150035",
           "#150035",
           "#5E96EC",
           "#150035",
           "#150035",
           "#150035",
           "#FDE443",
           "#150035",
           "#150035",
           "#FFA15A",
           "#150035",
           "#150035",
           "#FFA15A",
           "#5E96EC",
           "#150035",
           "#150035",
           "#FDE443",
           "#FFA15A",
           "#150035",
           "#150035",
           "#150035",
           "#150035",
           "#150035",
           "#150035",
           "#150035",
           "#150035",
           "#FDE443",
           "#150035",
           "#150035",
           "#150035",
           "#FDE443",
           "#150035",
           "#150035",
           "#150035",
           "#150035",
           "#150035",
           "#150035",
           "#150035",
           "#150035",
           "#5E96EC",
           "#150035",
           "#5E96EC",
           "#150035",
           "#E1EEE5",
           "#150035",
           "#150035",
           "#150035",
           "#150035",
           "#150035",
           "#150035",
           "#FFA15A",
           "#E1EEE5",
           "#150035",
           "#5E96EC",
           "#150035",
           "#150035",
           "#150035",
           "#5E96EC",
           "#5E96EC",
           "#5E96EC",
           "#5E96EC",
           "#5E96EC",
           "#150035",
           "#E1EEE5",
           "#150035",
           "#5E96EC",
           "#150035",
           "#150035",
           "#5E96EC",
           "#5E96EC",
           "#5E96EC",
           "#E1EEE5",
           "#5E96EC",
           "#5E96EC",
           "#150035",
           "#150035",
           "#150035",
           "#150035",
           "#150035",
           "#150035",
           "#150035",
           "#150035",
           "#150035",
           "#150035",
           "#150035",
           "#150035",
           "#5E96EC",
           "#150035",
           "#5E96EC",
           "#150035",
           "#FFA15A",
           "#150035",
           "#150035",
           "#150035",
           "#FDE443",
           "#5E96EC",
           "#150035",
           "#150035",
           "#FFA15A",
           "#5E96EC",
           "#150035",
           "#150035",
           "#E1EEE5",
           "#150035",
           "#E1EEE5",
           "#150035",
           "#5E96EC",
           "#150035",
           "#FDE443",
           "#150035",
           "#E1EEE5",
           "#FFA15A",
           "#150035",
           "#150035",
           "#150035",
           "#150035",
           "#150035",
           "#5E96EC",
           "#5E96EC",
           "#150035",
           "#FDE443",
           "#5E96EC",
           "#5E96EC",
           "#E1EEE5",
           "#150035",
           "#150035",
           "#150035",
           "#150035",
           "#150035",
           "#E1EEE5",
           "#150035",
           "#5E96EC",
           "#150035",
           "#150035",
           "#150035",
           "#150035",
           "#5E96EC",
           "#FDE443",
           "#150035",
           "#150035",
           "#150035",
           "#5E96EC",
           "#5E96EC",
           "#150035",
           "#150035",
           "#150035",
           "#150035",
           "#150035",
           "#150035",
           "#5E96EC",
           "#150035",
           "#5E96EC",
           "#5E96EC",
           "#150035",
           "#5E96EC",
           "#150035",
           "#150035",
           "#FFA15A",
           "#150035",
           "#150035",
           "#E1EEE5",
           "#FDE443",
           "#150035",
           "#150035",
           "#150035",
           "#150035",
           "#5E96EC",
           "#150035",
           "#FFA15A",
           "#FDE443",
           "#150035",
           "#150035",
           "#150035",
           "#150035",
           "#150035",
           "#150035",
           "#FFA15A",
           "#150035",
           "#FDE443",
           "#5E96EC",
           "#150035",
           "#FDE443",
           "#150035",
           "#5E96EC",
           "#150035",
           "#150035",
           "#FDE443",
           "#150035",
           "#FDE443",
           "#150035",
           "#150035",
           "#150035",
           "#5E96EC",
           "#150035",
           "#150035",
           "#150035",
           "#E1EEE5",
           "#150035",
           "#FDE443",
           "#150035",
           "#FDE443",
           "#150035",
           "#FFA15A",
           "#5E96EC",
           "#5E96EC",
           "#150035",
           "#5E96EC",
           "#5E96EC",
           "#FFA15A",
           "#150035",
           "#150035",
           "#5E96EC",
           "#5E96EC",
           "#150035",
           "#150035",
           "#150035",
           "#FDE443",
           "#150035",
           "#150035",
           "#150035",
           "#5E96EC",
           "#150035",
           "#FDE443",
           "#150035",
           "#150035",
           "#150035",
           "#5E96EC",
           "#150035",
           "#150035",
           "#E1EEE5",
           "#E1EEE5",
           "#FDE443",
           "#150035",
           "#5E96EC",
           "#150035",
           "#150035",
           "#5E96EC",
           "#150035",
           "#5E96EC",
           "#150035",
           "#150035",
           "#150035",
           "#FFA15A",
           "#150035",
           "#150035",
           "#150035",
           "#5E96EC",
           "#5E96EC",
           "#150035",
           "#5E96EC",
           "#FDE443",
           "#150035",
           "#150035",
           "#150035",
           "#5E96EC",
           "#5E96EC",
           "#5E96EC",
           "#150035",
           "#150035",
           "#5E96EC",
           "#E1EEE5",
           "#150035",
           "#150035",
           "#150035",
           "#5E96EC",
           "#150035",
           "#150035",
           "#5E96EC",
           "#150035",
           "#150035",
           "#150035",
           "#150035",
           "#FDE443",
           "#FDE443",
           "#5E96EC",
           "#5E96EC",
           "#5E96EC",
           "#FFA15A",
           "#FFA15A",
           "#FDE443",
           "#150035",
           "#150035",
           "#5E96EC",
           "#150035",
           "#150035",
           "#150035",
           "#5E96EC",
           "#150035",
           "#5E96EC",
           "#150035",
           "#150035",
           "#FDE443",
           "#150035",
           "#150035",
           "#150035",
           "#150035",
           "#FDE443",
           "#FFA15A"
          ]
         },
         "name": "",
         "showlegend": true,
         "type": "pie"
        }
       ],
       "layout": {
        "legend": {
         "tracegroupgap": 0
        },
        "template": {
         "data": {
          "bar": [
           {
            "error_x": {
             "color": "#2a3f5f"
            },
            "error_y": {
             "color": "#2a3f5f"
            },
            "marker": {
             "line": {
              "color": "#E5ECF6",
              "width": 0.5
             },
             "pattern": {
              "fillmode": "overlay",
              "size": 10,
              "solidity": 0.2
             }
            },
            "type": "bar"
           }
          ],
          "barpolar": [
           {
            "marker": {
             "line": {
              "color": "#E5ECF6",
              "width": 0.5
             },
             "pattern": {
              "fillmode": "overlay",
              "size": 10,
              "solidity": 0.2
             }
            },
            "type": "barpolar"
           }
          ],
          "carpet": [
           {
            "aaxis": {
             "endlinecolor": "#2a3f5f",
             "gridcolor": "white",
             "linecolor": "white",
             "minorgridcolor": "white",
             "startlinecolor": "#2a3f5f"
            },
            "baxis": {
             "endlinecolor": "#2a3f5f",
             "gridcolor": "white",
             "linecolor": "white",
             "minorgridcolor": "white",
             "startlinecolor": "#2a3f5f"
            },
            "type": "carpet"
           }
          ],
          "choropleth": [
           {
            "colorbar": {
             "outlinewidth": 0,
             "ticks": ""
            },
            "type": "choropleth"
           }
          ],
          "contour": [
           {
            "colorbar": {
             "outlinewidth": 0,
             "ticks": ""
            },
            "colorscale": [
             [
              0,
              "#0d0887"
             ],
             [
              0.1111111111111111,
              "#46039f"
             ],
             [
              0.2222222222222222,
              "#7201a8"
             ],
             [
              0.3333333333333333,
              "#9c179e"
             ],
             [
              0.4444444444444444,
              "#bd3786"
             ],
             [
              0.5555555555555556,
              "#d8576b"
             ],
             [
              0.6666666666666666,
              "#ed7953"
             ],
             [
              0.7777777777777778,
              "#fb9f3a"
             ],
             [
              0.8888888888888888,
              "#fdca26"
             ],
             [
              1,
              "#f0f921"
             ]
            ],
            "type": "contour"
           }
          ],
          "contourcarpet": [
           {
            "colorbar": {
             "outlinewidth": 0,
             "ticks": ""
            },
            "type": "contourcarpet"
           }
          ],
          "heatmap": [
           {
            "colorbar": {
             "outlinewidth": 0,
             "ticks": ""
            },
            "colorscale": [
             [
              0,
              "#0d0887"
             ],
             [
              0.1111111111111111,
              "#46039f"
             ],
             [
              0.2222222222222222,
              "#7201a8"
             ],
             [
              0.3333333333333333,
              "#9c179e"
             ],
             [
              0.4444444444444444,
              "#bd3786"
             ],
             [
              0.5555555555555556,
              "#d8576b"
             ],
             [
              0.6666666666666666,
              "#ed7953"
             ],
             [
              0.7777777777777778,
              "#fb9f3a"
             ],
             [
              0.8888888888888888,
              "#fdca26"
             ],
             [
              1,
              "#f0f921"
             ]
            ],
            "type": "heatmap"
           }
          ],
          "heatmapgl": [
           {
            "colorbar": {
             "outlinewidth": 0,
             "ticks": ""
            },
            "colorscale": [
             [
              0,
              "#0d0887"
             ],
             [
              0.1111111111111111,
              "#46039f"
             ],
             [
              0.2222222222222222,
              "#7201a8"
             ],
             [
              0.3333333333333333,
              "#9c179e"
             ],
             [
              0.4444444444444444,
              "#bd3786"
             ],
             [
              0.5555555555555556,
              "#d8576b"
             ],
             [
              0.6666666666666666,
              "#ed7953"
             ],
             [
              0.7777777777777778,
              "#fb9f3a"
             ],
             [
              0.8888888888888888,
              "#fdca26"
             ],
             [
              1,
              "#f0f921"
             ]
            ],
            "type": "heatmapgl"
           }
          ],
          "histogram": [
           {
            "marker": {
             "pattern": {
              "fillmode": "overlay",
              "size": 10,
              "solidity": 0.2
             }
            },
            "type": "histogram"
           }
          ],
          "histogram2d": [
           {
            "colorbar": {
             "outlinewidth": 0,
             "ticks": ""
            },
            "colorscale": [
             [
              0,
              "#0d0887"
             ],
             [
              0.1111111111111111,
              "#46039f"
             ],
             [
              0.2222222222222222,
              "#7201a8"
             ],
             [
              0.3333333333333333,
              "#9c179e"
             ],
             [
              0.4444444444444444,
              "#bd3786"
             ],
             [
              0.5555555555555556,
              "#d8576b"
             ],
             [
              0.6666666666666666,
              "#ed7953"
             ],
             [
              0.7777777777777778,
              "#fb9f3a"
             ],
             [
              0.8888888888888888,
              "#fdca26"
             ],
             [
              1,
              "#f0f921"
             ]
            ],
            "type": "histogram2d"
           }
          ],
          "histogram2dcontour": [
           {
            "colorbar": {
             "outlinewidth": 0,
             "ticks": ""
            },
            "colorscale": [
             [
              0,
              "#0d0887"
             ],
             [
              0.1111111111111111,
              "#46039f"
             ],
             [
              0.2222222222222222,
              "#7201a8"
             ],
             [
              0.3333333333333333,
              "#9c179e"
             ],
             [
              0.4444444444444444,
              "#bd3786"
             ],
             [
              0.5555555555555556,
              "#d8576b"
             ],
             [
              0.6666666666666666,
              "#ed7953"
             ],
             [
              0.7777777777777778,
              "#fb9f3a"
             ],
             [
              0.8888888888888888,
              "#fdca26"
             ],
             [
              1,
              "#f0f921"
             ]
            ],
            "type": "histogram2dcontour"
           }
          ],
          "mesh3d": [
           {
            "colorbar": {
             "outlinewidth": 0,
             "ticks": ""
            },
            "type": "mesh3d"
           }
          ],
          "parcoords": [
           {
            "line": {
             "colorbar": {
              "outlinewidth": 0,
              "ticks": ""
             }
            },
            "type": "parcoords"
           }
          ],
          "pie": [
           {
            "automargin": true,
            "type": "pie"
           }
          ],
          "scatter": [
           {
            "marker": {
             "colorbar": {
              "outlinewidth": 0,
              "ticks": ""
             }
            },
            "type": "scatter"
           }
          ],
          "scatter3d": [
           {
            "line": {
             "colorbar": {
              "outlinewidth": 0,
              "ticks": ""
             }
            },
            "marker": {
             "colorbar": {
              "outlinewidth": 0,
              "ticks": ""
             }
            },
            "type": "scatter3d"
           }
          ],
          "scattercarpet": [
           {
            "marker": {
             "colorbar": {
              "outlinewidth": 0,
              "ticks": ""
             }
            },
            "type": "scattercarpet"
           }
          ],
          "scattergeo": [
           {
            "marker": {
             "colorbar": {
              "outlinewidth": 0,
              "ticks": ""
             }
            },
            "type": "scattergeo"
           }
          ],
          "scattergl": [
           {
            "marker": {
             "colorbar": {
              "outlinewidth": 0,
              "ticks": ""
             }
            },
            "type": "scattergl"
           }
          ],
          "scattermapbox": [
           {
            "marker": {
             "colorbar": {
              "outlinewidth": 0,
              "ticks": ""
             }
            },
            "type": "scattermapbox"
           }
          ],
          "scatterpolar": [
           {
            "marker": {
             "colorbar": {
              "outlinewidth": 0,
              "ticks": ""
             }
            },
            "type": "scatterpolar"
           }
          ],
          "scatterpolargl": [
           {
            "marker": {
             "colorbar": {
              "outlinewidth": 0,
              "ticks": ""
             }
            },
            "type": "scatterpolargl"
           }
          ],
          "scatterternary": [
           {
            "marker": {
             "colorbar": {
              "outlinewidth": 0,
              "ticks": ""
             }
            },
            "type": "scatterternary"
           }
          ],
          "surface": [
           {
            "colorbar": {
             "outlinewidth": 0,
             "ticks": ""
            },
            "colorscale": [
             [
              0,
              "#0d0887"
             ],
             [
              0.1111111111111111,
              "#46039f"
             ],
             [
              0.2222222222222222,
              "#7201a8"
             ],
             [
              0.3333333333333333,
              "#9c179e"
             ],
             [
              0.4444444444444444,
              "#bd3786"
             ],
             [
              0.5555555555555556,
              "#d8576b"
             ],
             [
              0.6666666666666666,
              "#ed7953"
             ],
             [
              0.7777777777777778,
              "#fb9f3a"
             ],
             [
              0.8888888888888888,
              "#fdca26"
             ],
             [
              1,
              "#f0f921"
             ]
            ],
            "type": "surface"
           }
          ],
          "table": [
           {
            "cells": {
             "fill": {
              "color": "#EBF0F8"
             },
             "line": {
              "color": "white"
             }
            },
            "header": {
             "fill": {
              "color": "#C8D4E3"
             },
             "line": {
              "color": "white"
             }
            },
            "type": "table"
           }
          ]
         },
         "layout": {
          "annotationdefaults": {
           "arrowcolor": "#2a3f5f",
           "arrowhead": 0,
           "arrowwidth": 1
          },
          "autotypenumbers": "strict",
          "coloraxis": {
           "colorbar": {
            "outlinewidth": 0,
            "ticks": ""
           }
          },
          "colorscale": {
           "diverging": [
            [
             0,
             "#8e0152"
            ],
            [
             0.1,
             "#c51b7d"
            ],
            [
             0.2,
             "#de77ae"
            ],
            [
             0.3,
             "#f1b6da"
            ],
            [
             0.4,
             "#fde0ef"
            ],
            [
             0.5,
             "#f7f7f7"
            ],
            [
             0.6,
             "#e6f5d0"
            ],
            [
             0.7,
             "#b8e186"
            ],
            [
             0.8,
             "#7fbc41"
            ],
            [
             0.9,
             "#4d9221"
            ],
            [
             1,
             "#276419"
            ]
           ],
           "sequential": [
            [
             0,
             "#0d0887"
            ],
            [
             0.1111111111111111,
             "#46039f"
            ],
            [
             0.2222222222222222,
             "#7201a8"
            ],
            [
             0.3333333333333333,
             "#9c179e"
            ],
            [
             0.4444444444444444,
             "#bd3786"
            ],
            [
             0.5555555555555556,
             "#d8576b"
            ],
            [
             0.6666666666666666,
             "#ed7953"
            ],
            [
             0.7777777777777778,
             "#fb9f3a"
            ],
            [
             0.8888888888888888,
             "#fdca26"
            ],
            [
             1,
             "#f0f921"
            ]
           ],
           "sequentialminus": [
            [
             0,
             "#0d0887"
            ],
            [
             0.1111111111111111,
             "#46039f"
            ],
            [
             0.2222222222222222,
             "#7201a8"
            ],
            [
             0.3333333333333333,
             "#9c179e"
            ],
            [
             0.4444444444444444,
             "#bd3786"
            ],
            [
             0.5555555555555556,
             "#d8576b"
            ],
            [
             0.6666666666666666,
             "#ed7953"
            ],
            [
             0.7777777777777778,
             "#fb9f3a"
            ],
            [
             0.8888888888888888,
             "#fdca26"
            ],
            [
             1,
             "#f0f921"
            ]
           ]
          },
          "colorway": [
           "#636efa",
           "#EF553B",
           "#00cc96",
           "#ab63fa",
           "#FFA15A",
           "#19d3f3",
           "#FF6692",
           "#B6E880",
           "#FF97FF",
           "#FECB52"
          ],
          "font": {
           "color": "#2a3f5f"
          },
          "geo": {
           "bgcolor": "white",
           "lakecolor": "white",
           "landcolor": "#E5ECF6",
           "showlakes": true,
           "showland": true,
           "subunitcolor": "white"
          },
          "hoverlabel": {
           "align": "left"
          },
          "hovermode": "closest",
          "mapbox": {
           "style": "light"
          },
          "paper_bgcolor": "white",
          "plot_bgcolor": "#E5ECF6",
          "polar": {
           "angularaxis": {
            "gridcolor": "white",
            "linecolor": "white",
            "ticks": ""
           },
           "bgcolor": "#E5ECF6",
           "radialaxis": {
            "gridcolor": "white",
            "linecolor": "white",
            "ticks": ""
           }
          },
          "scene": {
           "xaxis": {
            "backgroundcolor": "#E5ECF6",
            "gridcolor": "white",
            "gridwidth": 2,
            "linecolor": "white",
            "showbackground": true,
            "ticks": "",
            "zerolinecolor": "white"
           },
           "yaxis": {
            "backgroundcolor": "#E5ECF6",
            "gridcolor": "white",
            "gridwidth": 2,
            "linecolor": "white",
            "showbackground": true,
            "ticks": "",
            "zerolinecolor": "white"
           },
           "zaxis": {
            "backgroundcolor": "#E5ECF6",
            "gridcolor": "white",
            "gridwidth": 2,
            "linecolor": "white",
            "showbackground": true,
            "ticks": "",
            "zerolinecolor": "white"
           }
          },
          "shapedefaults": {
           "line": {
            "color": "#2a3f5f"
           }
          },
          "ternary": {
           "aaxis": {
            "gridcolor": "white",
            "linecolor": "white",
            "ticks": ""
           },
           "baxis": {
            "gridcolor": "white",
            "linecolor": "white",
            "ticks": ""
           },
           "bgcolor": "#E5ECF6",
           "caxis": {
            "gridcolor": "white",
            "linecolor": "white",
            "ticks": ""
           }
          },
          "title": {
           "x": 0.05
          },
          "xaxis": {
           "automargin": true,
           "gridcolor": "white",
           "linecolor": "white",
           "ticks": "",
           "title": {
            "standoff": 15
           },
           "zerolinecolor": "white",
           "zerolinewidth": 2
          },
          "yaxis": {
           "automargin": true,
           "gridcolor": "white",
           "linecolor": "white",
           "ticks": "",
           "title": {
            "standoff": 15
           },
           "zerolinecolor": "white",
           "zerolinewidth": 2
          }
         }
        },
        "title": {
         "text": "Meio utilizado por Jovens de 18 a 35 anos para realizar uma aplicação financeira"
        }
       }
      },
      "text/html": [
       "<div>                            <div id=\"3fda6e73-1d33-4859-b0a2-5bf4af1225a5\" class=\"plotly-graph-div\" style=\"height:525px; width:100%;\"></div>            <script type=\"text/javascript\">                require([\"plotly\"], function(Plotly) {                    window.PLOTLYENV=window.PLOTLYENV || {};                                    if (document.getElementById(\"3fda6e73-1d33-4859-b0a2-5bf4af1225a5\")) {                    Plotly.newPlot(                        \"3fda6e73-1d33-4859-b0a2-5bf4af1225a5\",                        [{\"customdata\":[[\"Pessoalmente no banco\"],[\"Outras respostas\"],[\"Outras respostas\"],[\"No aplicativo do banco\"],[\"No aplicativo do banco\"],[\"Pessoalmente no banco\"],[\"No aplicativo do banco\"],[\"Pessoalmente no banco\"],[\"Pessoalmente no banco\"],[\"Pessoalmente no banco\"],[\"Pessoalmente no banco\"],[\"Pessoalmente no banco\"],[\"No aplicativo do banco\"],[\"No site do banco\"],[\"No aplicativo do banco\"],[\"Pessoalmente no banco\"],[\"Pessoalmente no banco\"],[\"No site do banco\"],[\"Pessoalmente no banco\"],[\"Pessoalmente no banco\"],[\"Pessoalmente no banco\"],[\"No aplicativo do banco\"],[\"Pessoalmente no banco\"],[\"Pessoalmente no banco\"],[\"Pessoalmente no banco\"],[\"No site do banco\"],[\"Pessoalmente no banco\"],[\"Pessoalmente no banco\"],[\"No site da corretora de investimento\"],[\"No aplicativo do banco\"],[\"No site do banco\"],[\"Pessoalmente no banco\"],[\"Pessoalmente no banco\"],[\"No site da corretora de investimento\"],[\"No aplicativo do banco\"],[\"Pessoalmente no banco\"],[\"Pessoalmente no banco\"],[\"No site do banco\"],[\"Pessoalmente no banco\"],[\"No site do banco\"],[\"No aplicativo do banco\"],[\"Pessoalmente no banco\"],[\"No site do banco\"],[\"Pessoalmente no banco\"],[\"Pessoalmente no banco\"],[\"Pessoalmente no banco\"],[\"Pessoalmente no banco\"],[\"No site da corretora de investimento\"],[\"No aplicativo do banco\"],[\"Pessoalmente no banco\"],[\"Pessoalmente no banco\"],[\"No site da corretora de investimento\"],[\"Pessoalmente no banco\"],[\"Pessoalmente no banco\"],[\"Pessoalmente no banco\"],[\"Pessoalmente no banco\"],[\"Pessoalmente no banco\"],[\"No site da corretora de investimento\"],[\"Pessoalmente no banco\"],[\"No aplicativo do banco\"],[\"Pessoalmente no banco\"],[\"No aplicativo do banco\"],[\"Pessoalmente no banco\"],[\"No aplicativo do banco\"],[\"No site do banco\"],[\"Pessoalmente no banco\"],[\"Pessoalmente no banco\"],[\"Pessoalmente no banco\"],[\"Pessoalmente no banco\"],[\"No aplicativo do banco\"],[\"No aplicativo do banco\"],[\"Outras respostas\"],[\"No aplicativo do banco\"],[\"No aplicativo do banco\"],[\"No aplicativo do banco\"],[\"No aplicativo do banco\"],[\"Pessoalmente no banco\"],[\"Pessoalmente no banco\"],[\"Pessoalmente no banco\"],[\"Pessoalmente no banco\"],[\"Pessoalmente no banco\"],[\"Pessoalmente no banco\"],[\"No aplicativo do banco\"],[\"Pessoalmente no banco\"],[\"Pessoalmente no banco\"],[\"Pessoalmente no banco\"],[\"Pessoalmente no banco\"],[\"No aplicativo do banco\"],[\"No aplicativo do banco\"],[\"Pessoalmente no banco\"],[\"No site da corretora de investimento\"],[\"No site da corretora de investimento\"],[\"No site do banco\"],[\"No site da corretora de investimento\"],[\"No aplicativo do banco\"],[\"Pessoalmente no banco\"],[\"Pessoalmente no banco\"],[\"No aplicativo do banco\"],[\"No site do banco\"],[\"Pessoalmente no banco\"],[\"Pessoalmente no banco\"],[\"Pessoalmente no banco\"],[\"Pessoalmente no banco\"],[\"No aplicativo do banco\"],[\"No site da corretora de investimento\"],[\"Outras respostas\"],[\"Pessoalmente no banco\"],[\"No aplicativo do banco\"],[\"No aplicativo do banco\"],[\"Pessoalmente no banco\"],[\"Pessoalmente no banco\"],[\"Pessoalmente no banco\"],[\"No aplicativo do banco\"],[\"Pessoalmente no banco\"],[\"No site do banco\"],[\"Outras respostas\"],[\"Pessoalmente no banco\"],[\"No site do banco\"],[\"No aplicativo do banco\"],[\"Pessoalmente no banco\"],[\"Pessoalmente no banco\"],[\"Pessoalmente no banco\"],[\"Pessoalmente no banco\"],[\"Pessoalmente no banco\"],[\"Pessoalmente no banco\"],[\"No site do banco\"],[\"Pessoalmente no banco\"],[\"Pessoalmente no banco\"],[\"No site do banco\"],[\"No aplicativo do banco\"],[\"Pessoalmente no banco\"],[\"Outras respostas\"],[\"No site da corretora de investimento\"],[\"No aplicativo do banco\"],[\"No site da corretora de investimento\"],[\"No aplicativo do banco\"],[\"Pessoalmente no banco\"],[\"Pessoalmente no banco\"],[\"No site do banco\"],[\"Pessoalmente no banco\"],[\"No aplicativo do banco\"],[\"No aplicativo do banco\"],[\"Outras respostas\"],[\"Pessoalmente no banco\"],[\"Pessoalmente no banco\"],[\"Pessoalmente no banco\"],[\"No site do banco\"],[\"No aplicativo do banco\"],[\"Pessoalmente no banco\"],[\"Pessoalmente no banco\"],[\"Pessoalmente no banco\"],[\"Pessoalmente no banco\"],[\"Pessoalmente no banco\"],[\"Pessoalmente no banco\"],[\"Outras respostas\"],[\"Pessoalmente no banco\"],[\"Pessoalmente no banco\"],[\"Pessoalmente no banco\"],[\"Pessoalmente no banco\"],[\"No site da corretora de investimento\"],[\"Pessoalmente no banco\"],[\"Pessoalmente no banco\"],[\"Pessoalmente no banco\"],[\"No site da corretora de investimento\"],[\"Pessoalmente no banco\"],[\"Pessoalmente no banco\"],[\"Pessoalmente no banco\"],[\"No aplicativo do banco\"],[\"Pessoalmente no banco\"],[\"No site do banco\"],[\"Pessoalmente no banco\"],[\"No aplicativo do banco\"],[\"Pessoalmente no banco\"],[\"No aplicativo do banco\"],[\"Pessoalmente no banco\"],[\"Pessoalmente no banco\"],[\"No aplicativo do banco\"],[\"No site da corretora de investimento\"],[\"Pessoalmente no banco\"],[\"Pessoalmente no banco\"],[\"No aplicativo do banco\"],[\"Pessoalmente no banco\"],[\"Pessoalmente no banco\"],[\"No site do banco\"],[\"No aplicativo do banco\"],[\"No aplicativo do banco\"],[\"Pessoalmente no banco\"],[\"No aplicativo do banco\"],[\"No aplicativo do banco\"],[\"Pessoalmente no banco\"],[\"No aplicativo do banco\"],[\"Pessoalmente no banco\"],[\"No aplicativo do banco\"],[\"Pessoalmente no banco\"],[\"No site do banco\"],[\"No aplicativo do banco\"],[\"Pessoalmente no banco\"],[\"No site da corretora de investimento\"],[\"Outras respostas\"],[\"Pessoalmente no banco\"],[\"Pessoalmente no banco\"],[\"Pessoalmente no banco\"],[\"No site do banco\"],[\"No aplicativo do banco\"],[\"Pessoalmente no banco\"],[\"Pessoalmente no banco\"],[\"Pessoalmente no banco\"],[\"No site do banco\"],[\"No aplicativo do banco\"],[\"Pessoalmente no banco\"],[\"Pessoalmente no banco\"],[\"Pessoalmente no banco\"],[\"Pessoalmente no banco\"],[\"No aplicativo do banco\"],[\"Pessoalmente no banco\"],[\"No site da corretora de investimento\"],[\"Pessoalmente no banco\"],[\"Pessoalmente no banco\"],[\"Pessoalmente no banco\"],[\"Pessoalmente no banco\"],[\"Pessoalmente no banco\"],[\"Pessoalmente no banco\"],[\"Pessoalmente no banco\"],[\"Pessoalmente no banco\"],[\"Pessoalmente no banco\"],[\"Pessoalmente no banco\"],[\"No aplicativo do banco\"],[\"No site do banco\"],[\"No site do banco\"],[\"Pessoalmente no banco\"],[\"Pessoalmente no banco\"],[\"Pessoalmente no banco\"],[\"Pessoalmente no banco\"],[\"Pessoalmente no banco\"],[\"Pessoalmente no banco\"],[\"Pessoalmente no banco\"],[\"Pessoalmente no banco\"],[\"Pessoalmente no banco\"],[\"Pessoalmente no banco\"],[\"No aplicativo do banco\"],[\"No site da corretora de investimento\"],[\"Pessoalmente no banco\"],[\"No site do banco\"],[\"Pessoalmente no banco\"],[\"Pessoalmente no banco\"],[\"Outras respostas\"],[\"Pessoalmente no banco\"],[\"Pessoalmente no banco\"],[\"Pessoalmente no banco\"],[\"No site do banco\"],[\"No site do banco\"],[\"No aplicativo do banco\"],[\"Pessoalmente no banco\"],[\"Pessoalmente no banco\"],[\"Pessoalmente no banco\"],[\"Pessoalmente no banco\"],[\"Pessoalmente no banco\"],[\"Pessoalmente no banco\"],[\"Pessoalmente no banco\"],[\"Pessoalmente no banco\"],[\"No aplicativo do banco\"],[\"Pessoalmente no banco\"],[\"Pessoalmente no banco\"],[\"Pessoalmente no banco\"],[\"Pessoalmente no banco\"],[\"Pessoalmente no banco\"],[\"Pessoalmente no banco\"],[\"No site da corretora de investimento\"],[\"Pessoalmente no banco\"],[\"Pessoalmente no banco\"],[\"No site do banco\"],[\"Pessoalmente no banco\"],[\"Pessoalmente no banco\"],[\"Pessoalmente no banco\"],[\"No site da corretora de investimento\"],[\"No aplicativo do banco\"],[\"Pessoalmente no banco\"],[\"Pessoalmente no banco\"],[\"Pessoalmente no banco\"],[\"No aplicativo do banco\"],[\"Pessoalmente no banco\"],[\"Pessoalmente no banco\"],[\"Pessoalmente no banco\"],[\"No site do banco\"],[\"Pessoalmente no banco\"],[\"Pessoalmente no banco\"],[\"Outras respostas\"],[\"Pessoalmente no banco\"],[\"Pessoalmente no banco\"],[\"Outras respostas\"],[\"No aplicativo do banco\"],[\"Pessoalmente no banco\"],[\"Pessoalmente no banco\"],[\"No site do banco\"],[\"Outras respostas\"],[\"Pessoalmente no banco\"],[\"Pessoalmente no banco\"],[\"Pessoalmente no banco\"],[\"Pessoalmente no banco\"],[\"Pessoalmente no banco\"],[\"Pessoalmente no banco\"],[\"Pessoalmente no banco\"],[\"Pessoalmente no banco\"],[\"No site do banco\"],[\"Pessoalmente no banco\"],[\"Pessoalmente no banco\"],[\"Pessoalmente no banco\"],[\"No site do banco\"],[\"Pessoalmente no banco\"],[\"Pessoalmente no banco\"],[\"Pessoalmente no banco\"],[\"Pessoalmente no banco\"],[\"Pessoalmente no banco\"],[\"Pessoalmente no banco\"],[\"Pessoalmente no banco\"],[\"Pessoalmente no banco\"],[\"No aplicativo do banco\"],[\"Pessoalmente no banco\"],[\"No aplicativo do banco\"],[\"Pessoalmente no banco\"],[\"No site da corretora de investimento\"],[\"Pessoalmente no banco\"],[\"Pessoalmente no banco\"],[\"Pessoalmente no banco\"],[\"Pessoalmente no banco\"],[\"Pessoalmente no banco\"],[\"Pessoalmente no banco\"],[\"Outras respostas\"],[\"No site da corretora de investimento\"],[\"Pessoalmente no banco\"],[\"No aplicativo do banco\"],[\"Pessoalmente no banco\"],[\"Pessoalmente no banco\"],[\"Pessoalmente no banco\"],[\"No aplicativo do banco\"],[\"No aplicativo do banco\"],[\"No aplicativo do banco\"],[\"No aplicativo do banco\"],[\"No aplicativo do banco\"],[\"Pessoalmente no banco\"],[\"No site da corretora de investimento\"],[\"Pessoalmente no banco\"],[\"No aplicativo do banco\"],[\"Pessoalmente no banco\"],[\"Pessoalmente no banco\"],[\"No aplicativo do banco\"],[\"No aplicativo do banco\"],[\"No aplicativo do banco\"],[\"No site da corretora de investimento\"],[\"No aplicativo do banco\"],[\"No aplicativo do banco\"],[\"Pessoalmente no banco\"],[\"Pessoalmente no banco\"],[\"Pessoalmente no banco\"],[\"Pessoalmente no banco\"],[\"Pessoalmente no banco\"],[\"Pessoalmente no banco\"],[\"Pessoalmente no banco\"],[\"Pessoalmente no banco\"],[\"Pessoalmente no banco\"],[\"Pessoalmente no banco\"],[\"Pessoalmente no banco\"],[\"Pessoalmente no banco\"],[\"No aplicativo do banco\"],[\"Pessoalmente no banco\"],[\"No aplicativo do banco\"],[\"Pessoalmente no banco\"],[\"Outras respostas\"],[\"Pessoalmente no banco\"],[\"Pessoalmente no banco\"],[\"Pessoalmente no banco\"],[\"No site do banco\"],[\"No aplicativo do banco\"],[\"Pessoalmente no banco\"],[\"Pessoalmente no banco\"],[\"Outras respostas\"],[\"No aplicativo do banco\"],[\"Pessoalmente no banco\"],[\"Pessoalmente no banco\"],[\"No site da corretora de investimento\"],[\"Pessoalmente no banco\"],[\"No site da corretora de investimento\"],[\"Pessoalmente no banco\"],[\"No aplicativo do banco\"],[\"Pessoalmente no banco\"],[\"No site do banco\"],[\"Pessoalmente no banco\"],[\"No site da corretora de investimento\"],[\"Outras respostas\"],[\"Pessoalmente no banco\"],[\"Pessoalmente no banco\"],[\"Pessoalmente no banco\"],[\"Pessoalmente no banco\"],[\"Pessoalmente no banco\"],[\"No aplicativo do banco\"],[\"No aplicativo do banco\"],[\"Pessoalmente no banco\"],[\"No site do banco\"],[\"No aplicativo do banco\"],[\"No aplicativo do banco\"],[\"No site da corretora de investimento\"],[\"Pessoalmente no banco\"],[\"Pessoalmente no banco\"],[\"Pessoalmente no banco\"],[\"Pessoalmente no banco\"],[\"Pessoalmente no banco\"],[\"No site da corretora de investimento\"],[\"Pessoalmente no banco\"],[\"No aplicativo do banco\"],[\"Pessoalmente no banco\"],[\"Pessoalmente no banco\"],[\"Pessoalmente no banco\"],[\"Pessoalmente no banco\"],[\"No aplicativo do banco\"],[\"No site do banco\"],[\"Pessoalmente no banco\"],[\"Pessoalmente no banco\"],[\"Pessoalmente no banco\"],[\"No aplicativo do banco\"],[\"No aplicativo do banco\"],[\"Pessoalmente no banco\"],[\"Pessoalmente no banco\"],[\"Pessoalmente no banco\"],[\"Pessoalmente no banco\"],[\"Pessoalmente no banco\"],[\"Pessoalmente no banco\"],[\"No aplicativo do banco\"],[\"Pessoalmente no banco\"],[\"No aplicativo do banco\"],[\"No aplicativo do banco\"],[\"Pessoalmente no banco\"],[\"No aplicativo do banco\"],[\"Pessoalmente no banco\"],[\"Pessoalmente no banco\"],[\"Outras respostas\"],[\"Pessoalmente no banco\"],[\"Pessoalmente no banco\"],[\"No site da corretora de investimento\"],[\"No site do banco\"],[\"Pessoalmente no banco\"],[\"Pessoalmente no banco\"],[\"Pessoalmente no banco\"],[\"Pessoalmente no banco\"],[\"No aplicativo do banco\"],[\"Pessoalmente no banco\"],[\"Outras respostas\"],[\"No site do banco\"],[\"Pessoalmente no banco\"],[\"Pessoalmente no banco\"],[\"Pessoalmente no banco\"],[\"Pessoalmente no banco\"],[\"Pessoalmente no banco\"],[\"Pessoalmente no banco\"],[\"Outras respostas\"],[\"Pessoalmente no banco\"],[\"No site do banco\"],[\"No aplicativo do banco\"],[\"Pessoalmente no banco\"],[\"No site do banco\"],[\"Pessoalmente no banco\"],[\"No aplicativo do banco\"],[\"Pessoalmente no banco\"],[\"Pessoalmente no banco\"],[\"No site do banco\"],[\"Pessoalmente no banco\"],[\"No site do banco\"],[\"Pessoalmente no banco\"],[\"Pessoalmente no banco\"],[\"Pessoalmente no banco\"],[\"No aplicativo do banco\"],[\"Pessoalmente no banco\"],[\"Pessoalmente no banco\"],[\"Pessoalmente no banco\"],[\"No site da corretora de investimento\"],[\"Pessoalmente no banco\"],[\"No site do banco\"],[\"Pessoalmente no banco\"],[\"No site do banco\"],[\"Pessoalmente no banco\"],[\"Outras respostas\"],[\"No aplicativo do banco\"],[\"No aplicativo do banco\"],[\"Pessoalmente no banco\"],[\"No aplicativo do banco\"],[\"No aplicativo do banco\"],[\"Outras respostas\"],[\"Pessoalmente no banco\"],[\"Pessoalmente no banco\"],[\"No aplicativo do banco\"],[\"No aplicativo do banco\"],[\"Pessoalmente no banco\"],[\"Pessoalmente no banco\"],[\"Pessoalmente no banco\"],[\"No site do banco\"],[\"Pessoalmente no banco\"],[\"Pessoalmente no banco\"],[\"Pessoalmente no banco\"],[\"No aplicativo do banco\"],[\"Pessoalmente no banco\"],[\"No site do banco\"],[\"Pessoalmente no banco\"],[\"Pessoalmente no banco\"],[\"Pessoalmente no banco\"],[\"No aplicativo do banco\"],[\"Pessoalmente no banco\"],[\"Pessoalmente no banco\"],[\"No site da corretora de investimento\"],[\"No site da corretora de investimento\"],[\"No site do banco\"],[\"Pessoalmente no banco\"],[\"No aplicativo do banco\"],[\"Pessoalmente no banco\"],[\"Pessoalmente no banco\"],[\"No aplicativo do banco\"],[\"Pessoalmente no banco\"],[\"No aplicativo do banco\"],[\"Pessoalmente no banco\"],[\"Pessoalmente no banco\"],[\"Pessoalmente no banco\"],[\"Outras respostas\"],[\"Pessoalmente no banco\"],[\"Pessoalmente no banco\"],[\"Pessoalmente no banco\"],[\"No aplicativo do banco\"],[\"No aplicativo do banco\"],[\"Pessoalmente no banco\"],[\"No aplicativo do banco\"],[\"No site do banco\"],[\"Pessoalmente no banco\"],[\"Pessoalmente no banco\"],[\"Pessoalmente no banco\"],[\"No aplicativo do banco\"],[\"No aplicativo do banco\"],[\"No aplicativo do banco\"],[\"Pessoalmente no banco\"],[\"Pessoalmente no banco\"],[\"No aplicativo do banco\"],[\"No site da corretora de investimento\"],[\"Pessoalmente no banco\"],[\"Pessoalmente no banco\"],[\"Pessoalmente no banco\"],[\"No aplicativo do banco\"],[\"Pessoalmente no banco\"],[\"Pessoalmente no banco\"],[\"No aplicativo do banco\"],[\"Pessoalmente no banco\"],[\"Pessoalmente no banco\"],[\"Pessoalmente no banco\"],[\"Pessoalmente no banco\"],[\"No site do banco\"],[\"No site do banco\"],[\"No aplicativo do banco\"],[\"No aplicativo do banco\"],[\"No aplicativo do banco\"],[\"Outras respostas\"],[\"Outras respostas\"],[\"No site do banco\"],[\"Pessoalmente no banco\"],[\"Pessoalmente no banco\"],[\"No aplicativo do banco\"],[\"Pessoalmente no banco\"],[\"Pessoalmente no banco\"],[\"Pessoalmente no banco\"],[\"No aplicativo do banco\"],[\"Pessoalmente no banco\"],[\"No aplicativo do banco\"],[\"Pessoalmente no banco\"],[\"Pessoalmente no banco\"],[\"No site do banco\"],[\"Pessoalmente no banco\"],[\"Pessoalmente no banco\"],[\"Pessoalmente no banco\"],[\"Pessoalmente no banco\"],[\"No site do banco\"],[\"Outras respostas\"]],\"domain\":{\"x\":[0.0,1.0],\"y\":[0.0,1.0]},\"hovertemplate\":\"Meio para realiza\\u00e7\\u00e3o de aplica\\u00e7\\u00e3o financeira=%{customdata[0]}<extra></extra>\",\"labels\":[\"Pessoalmente no banco\",\"Outras respostas\",\"Outras respostas\",\"No aplicativo do banco\",\"No aplicativo do banco\",\"Pessoalmente no banco\",\"No aplicativo do banco\",\"Pessoalmente no banco\",\"Pessoalmente no banco\",\"Pessoalmente no banco\",\"Pessoalmente no banco\",\"Pessoalmente no banco\",\"No aplicativo do banco\",\"No site do banco\",\"No aplicativo do banco\",\"Pessoalmente no banco\",\"Pessoalmente no banco\",\"No site do banco\",\"Pessoalmente no banco\",\"Pessoalmente no banco\",\"Pessoalmente no banco\",\"No aplicativo do banco\",\"Pessoalmente no banco\",\"Pessoalmente no banco\",\"Pessoalmente no banco\",\"No site do banco\",\"Pessoalmente no banco\",\"Pessoalmente no banco\",\"No site da corretora de investimento\",\"No aplicativo do banco\",\"No site do banco\",\"Pessoalmente no banco\",\"Pessoalmente no banco\",\"No site da corretora de investimento\",\"No aplicativo do banco\",\"Pessoalmente no banco\",\"Pessoalmente no banco\",\"No site do banco\",\"Pessoalmente no banco\",\"No site do banco\",\"No aplicativo do banco\",\"Pessoalmente no banco\",\"No site do banco\",\"Pessoalmente no banco\",\"Pessoalmente no banco\",\"Pessoalmente no banco\",\"Pessoalmente no banco\",\"No site da corretora de investimento\",\"No aplicativo do banco\",\"Pessoalmente no banco\",\"Pessoalmente no banco\",\"No site da corretora de investimento\",\"Pessoalmente no banco\",\"Pessoalmente no banco\",\"Pessoalmente no banco\",\"Pessoalmente no banco\",\"Pessoalmente no banco\",\"No site da corretora de investimento\",\"Pessoalmente no banco\",\"No aplicativo do banco\",\"Pessoalmente no banco\",\"No aplicativo do banco\",\"Pessoalmente no banco\",\"No aplicativo do banco\",\"No site do banco\",\"Pessoalmente no banco\",\"Pessoalmente no banco\",\"Pessoalmente no banco\",\"Pessoalmente no banco\",\"No aplicativo do banco\",\"No aplicativo do banco\",\"Outras respostas\",\"No aplicativo do banco\",\"No aplicativo do banco\",\"No aplicativo do banco\",\"No aplicativo do banco\",\"Pessoalmente no banco\",\"Pessoalmente no banco\",\"Pessoalmente no banco\",\"Pessoalmente no banco\",\"Pessoalmente no banco\",\"Pessoalmente no banco\",\"No aplicativo do banco\",\"Pessoalmente no banco\",\"Pessoalmente no banco\",\"Pessoalmente no banco\",\"Pessoalmente no banco\",\"No aplicativo do banco\",\"No aplicativo do banco\",\"Pessoalmente no banco\",\"No site da corretora de investimento\",\"No site da corretora de investimento\",\"No site do banco\",\"No site da corretora de investimento\",\"No aplicativo do banco\",\"Pessoalmente no banco\",\"Pessoalmente no banco\",\"No aplicativo do banco\",\"No site do banco\",\"Pessoalmente no banco\",\"Pessoalmente no banco\",\"Pessoalmente no banco\",\"Pessoalmente no banco\",\"No aplicativo do banco\",\"No site da corretora de investimento\",\"Outras respostas\",\"Pessoalmente no banco\",\"No aplicativo do banco\",\"No aplicativo do banco\",\"Pessoalmente no banco\",\"Pessoalmente no banco\",\"Pessoalmente no banco\",\"No aplicativo do banco\",\"Pessoalmente no banco\",\"No site do banco\",\"Outras respostas\",\"Pessoalmente no banco\",\"No site do banco\",\"No aplicativo do banco\",\"Pessoalmente no banco\",\"Pessoalmente no banco\",\"Pessoalmente no banco\",\"Pessoalmente no banco\",\"Pessoalmente no banco\",\"Pessoalmente no banco\",\"No site do banco\",\"Pessoalmente no banco\",\"Pessoalmente no banco\",\"No site do banco\",\"No aplicativo do banco\",\"Pessoalmente no banco\",\"Outras respostas\",\"No site da corretora de investimento\",\"No aplicativo do banco\",\"No site da corretora de investimento\",\"No aplicativo do banco\",\"Pessoalmente no banco\",\"Pessoalmente no banco\",\"No site do banco\",\"Pessoalmente no banco\",\"No aplicativo do banco\",\"No aplicativo do banco\",\"Outras respostas\",\"Pessoalmente no banco\",\"Pessoalmente no banco\",\"Pessoalmente no banco\",\"No site do banco\",\"No aplicativo do banco\",\"Pessoalmente no banco\",\"Pessoalmente no banco\",\"Pessoalmente no banco\",\"Pessoalmente no banco\",\"Pessoalmente no banco\",\"Pessoalmente no banco\",\"Outras respostas\",\"Pessoalmente no banco\",\"Pessoalmente no banco\",\"Pessoalmente no banco\",\"Pessoalmente no banco\",\"No site da corretora de investimento\",\"Pessoalmente no banco\",\"Pessoalmente no banco\",\"Pessoalmente no banco\",\"No site da corretora de investimento\",\"Pessoalmente no banco\",\"Pessoalmente no banco\",\"Pessoalmente no banco\",\"No aplicativo do banco\",\"Pessoalmente no banco\",\"No site do banco\",\"Pessoalmente no banco\",\"No aplicativo do banco\",\"Pessoalmente no banco\",\"No aplicativo do banco\",\"Pessoalmente no banco\",\"Pessoalmente no banco\",\"No aplicativo do banco\",\"No site da corretora de investimento\",\"Pessoalmente no banco\",\"Pessoalmente no banco\",\"No aplicativo do banco\",\"Pessoalmente no banco\",\"Pessoalmente no banco\",\"No site do banco\",\"No aplicativo do banco\",\"No aplicativo do banco\",\"Pessoalmente no banco\",\"No aplicativo do banco\",\"No aplicativo do banco\",\"Pessoalmente no banco\",\"No aplicativo do banco\",\"Pessoalmente no banco\",\"No aplicativo do banco\",\"Pessoalmente no banco\",\"No site do banco\",\"No aplicativo do banco\",\"Pessoalmente no banco\",\"No site da corretora de investimento\",\"Outras respostas\",\"Pessoalmente no banco\",\"Pessoalmente no banco\",\"Pessoalmente no banco\",\"No site do banco\",\"No aplicativo do banco\",\"Pessoalmente no banco\",\"Pessoalmente no banco\",\"Pessoalmente no banco\",\"No site do banco\",\"No aplicativo do banco\",\"Pessoalmente no banco\",\"Pessoalmente no banco\",\"Pessoalmente no banco\",\"Pessoalmente no banco\",\"No aplicativo do banco\",\"Pessoalmente no banco\",\"No site da corretora de investimento\",\"Pessoalmente no banco\",\"Pessoalmente no banco\",\"Pessoalmente no banco\",\"Pessoalmente no banco\",\"Pessoalmente no banco\",\"Pessoalmente no banco\",\"Pessoalmente no banco\",\"Pessoalmente no banco\",\"Pessoalmente no banco\",\"Pessoalmente no banco\",\"No aplicativo do banco\",\"No site do banco\",\"No site do banco\",\"Pessoalmente no banco\",\"Pessoalmente no banco\",\"Pessoalmente no banco\",\"Pessoalmente no banco\",\"Pessoalmente no banco\",\"Pessoalmente no banco\",\"Pessoalmente no banco\",\"Pessoalmente no banco\",\"Pessoalmente no banco\",\"Pessoalmente no banco\",\"No aplicativo do banco\",\"No site da corretora de investimento\",\"Pessoalmente no banco\",\"No site do banco\",\"Pessoalmente no banco\",\"Pessoalmente no banco\",\"Outras respostas\",\"Pessoalmente no banco\",\"Pessoalmente no banco\",\"Pessoalmente no banco\",\"No site do banco\",\"No site do banco\",\"No aplicativo do banco\",\"Pessoalmente no banco\",\"Pessoalmente no banco\",\"Pessoalmente no banco\",\"Pessoalmente no banco\",\"Pessoalmente no banco\",\"Pessoalmente no banco\",\"Pessoalmente no banco\",\"Pessoalmente no banco\",\"No aplicativo do banco\",\"Pessoalmente no banco\",\"Pessoalmente no banco\",\"Pessoalmente no banco\",\"Pessoalmente no banco\",\"Pessoalmente no banco\",\"Pessoalmente no banco\",\"No site da corretora de investimento\",\"Pessoalmente no banco\",\"Pessoalmente no banco\",\"No site do banco\",\"Pessoalmente no banco\",\"Pessoalmente no banco\",\"Pessoalmente no banco\",\"No site da corretora de investimento\",\"No aplicativo do banco\",\"Pessoalmente no banco\",\"Pessoalmente no banco\",\"Pessoalmente no banco\",\"No aplicativo do banco\",\"Pessoalmente no banco\",\"Pessoalmente no banco\",\"Pessoalmente no banco\",\"No site do banco\",\"Pessoalmente no banco\",\"Pessoalmente no banco\",\"Outras respostas\",\"Pessoalmente no banco\",\"Pessoalmente no banco\",\"Outras respostas\",\"No aplicativo do banco\",\"Pessoalmente no banco\",\"Pessoalmente no banco\",\"No site do banco\",\"Outras respostas\",\"Pessoalmente no banco\",\"Pessoalmente no banco\",\"Pessoalmente no banco\",\"Pessoalmente no banco\",\"Pessoalmente no banco\",\"Pessoalmente no banco\",\"Pessoalmente no banco\",\"Pessoalmente no banco\",\"No site do banco\",\"Pessoalmente no banco\",\"Pessoalmente no banco\",\"Pessoalmente no banco\",\"No site do banco\",\"Pessoalmente no banco\",\"Pessoalmente no banco\",\"Pessoalmente no banco\",\"Pessoalmente no banco\",\"Pessoalmente no banco\",\"Pessoalmente no banco\",\"Pessoalmente no banco\",\"Pessoalmente no banco\",\"No aplicativo do banco\",\"Pessoalmente no banco\",\"No aplicativo do banco\",\"Pessoalmente no banco\",\"No site da corretora de investimento\",\"Pessoalmente no banco\",\"Pessoalmente no banco\",\"Pessoalmente no banco\",\"Pessoalmente no banco\",\"Pessoalmente no banco\",\"Pessoalmente no banco\",\"Outras respostas\",\"No site da corretora de investimento\",\"Pessoalmente no banco\",\"No aplicativo do banco\",\"Pessoalmente no banco\",\"Pessoalmente no banco\",\"Pessoalmente no banco\",\"No aplicativo do banco\",\"No aplicativo do banco\",\"No aplicativo do banco\",\"No aplicativo do banco\",\"No aplicativo do banco\",\"Pessoalmente no banco\",\"No site da corretora de investimento\",\"Pessoalmente no banco\",\"No aplicativo do banco\",\"Pessoalmente no banco\",\"Pessoalmente no banco\",\"No aplicativo do banco\",\"No aplicativo do banco\",\"No aplicativo do banco\",\"No site da corretora de investimento\",\"No aplicativo do banco\",\"No aplicativo do banco\",\"Pessoalmente no banco\",\"Pessoalmente no banco\",\"Pessoalmente no banco\",\"Pessoalmente no banco\",\"Pessoalmente no banco\",\"Pessoalmente no banco\",\"Pessoalmente no banco\",\"Pessoalmente no banco\",\"Pessoalmente no banco\",\"Pessoalmente no banco\",\"Pessoalmente no banco\",\"Pessoalmente no banco\",\"No aplicativo do banco\",\"Pessoalmente no banco\",\"No aplicativo do banco\",\"Pessoalmente no banco\",\"Outras respostas\",\"Pessoalmente no banco\",\"Pessoalmente no banco\",\"Pessoalmente no banco\",\"No site do banco\",\"No aplicativo do banco\",\"Pessoalmente no banco\",\"Pessoalmente no banco\",\"Outras respostas\",\"No aplicativo do banco\",\"Pessoalmente no banco\",\"Pessoalmente no banco\",\"No site da corretora de investimento\",\"Pessoalmente no banco\",\"No site da corretora de investimento\",\"Pessoalmente no banco\",\"No aplicativo do banco\",\"Pessoalmente no banco\",\"No site do banco\",\"Pessoalmente no banco\",\"No site da corretora de investimento\",\"Outras respostas\",\"Pessoalmente no banco\",\"Pessoalmente no banco\",\"Pessoalmente no banco\",\"Pessoalmente no banco\",\"Pessoalmente no banco\",\"No aplicativo do banco\",\"No aplicativo do banco\",\"Pessoalmente no banco\",\"No site do banco\",\"No aplicativo do banco\",\"No aplicativo do banco\",\"No site da corretora de investimento\",\"Pessoalmente no banco\",\"Pessoalmente no banco\",\"Pessoalmente no banco\",\"Pessoalmente no banco\",\"Pessoalmente no banco\",\"No site da corretora de investimento\",\"Pessoalmente no banco\",\"No aplicativo do banco\",\"Pessoalmente no banco\",\"Pessoalmente no banco\",\"Pessoalmente no banco\",\"Pessoalmente no banco\",\"No aplicativo do banco\",\"No site do banco\",\"Pessoalmente no banco\",\"Pessoalmente no banco\",\"Pessoalmente no banco\",\"No aplicativo do banco\",\"No aplicativo do banco\",\"Pessoalmente no banco\",\"Pessoalmente no banco\",\"Pessoalmente no banco\",\"Pessoalmente no banco\",\"Pessoalmente no banco\",\"Pessoalmente no banco\",\"No aplicativo do banco\",\"Pessoalmente no banco\",\"No aplicativo do banco\",\"No aplicativo do banco\",\"Pessoalmente no banco\",\"No aplicativo do banco\",\"Pessoalmente no banco\",\"Pessoalmente no banco\",\"Outras respostas\",\"Pessoalmente no banco\",\"Pessoalmente no banco\",\"No site da corretora de investimento\",\"No site do banco\",\"Pessoalmente no banco\",\"Pessoalmente no banco\",\"Pessoalmente no banco\",\"Pessoalmente no banco\",\"No aplicativo do banco\",\"Pessoalmente no banco\",\"Outras respostas\",\"No site do banco\",\"Pessoalmente no banco\",\"Pessoalmente no banco\",\"Pessoalmente no banco\",\"Pessoalmente no banco\",\"Pessoalmente no banco\",\"Pessoalmente no banco\",\"Outras respostas\",\"Pessoalmente no banco\",\"No site do banco\",\"No aplicativo do banco\",\"Pessoalmente no banco\",\"No site do banco\",\"Pessoalmente no banco\",\"No aplicativo do banco\",\"Pessoalmente no banco\",\"Pessoalmente no banco\",\"No site do banco\",\"Pessoalmente no banco\",\"No site do banco\",\"Pessoalmente no banco\",\"Pessoalmente no banco\",\"Pessoalmente no banco\",\"No aplicativo do banco\",\"Pessoalmente no banco\",\"Pessoalmente no banco\",\"Pessoalmente no banco\",\"No site da corretora de investimento\",\"Pessoalmente no banco\",\"No site do banco\",\"Pessoalmente no banco\",\"No site do banco\",\"Pessoalmente no banco\",\"Outras respostas\",\"No aplicativo do banco\",\"No aplicativo do banco\",\"Pessoalmente no banco\",\"No aplicativo do banco\",\"No aplicativo do banco\",\"Outras respostas\",\"Pessoalmente no banco\",\"Pessoalmente no banco\",\"No aplicativo do banco\",\"No aplicativo do banco\",\"Pessoalmente no banco\",\"Pessoalmente no banco\",\"Pessoalmente no banco\",\"No site do banco\",\"Pessoalmente no banco\",\"Pessoalmente no banco\",\"Pessoalmente no banco\",\"No aplicativo do banco\",\"Pessoalmente no banco\",\"No site do banco\",\"Pessoalmente no banco\",\"Pessoalmente no banco\",\"Pessoalmente no banco\",\"No aplicativo do banco\",\"Pessoalmente no banco\",\"Pessoalmente no banco\",\"No site da corretora de investimento\",\"No site da corretora de investimento\",\"No site do banco\",\"Pessoalmente no banco\",\"No aplicativo do banco\",\"Pessoalmente no banco\",\"Pessoalmente no banco\",\"No aplicativo do banco\",\"Pessoalmente no banco\",\"No aplicativo do banco\",\"Pessoalmente no banco\",\"Pessoalmente no banco\",\"Pessoalmente no banco\",\"Outras respostas\",\"Pessoalmente no banco\",\"Pessoalmente no banco\",\"Pessoalmente no banco\",\"No aplicativo do banco\",\"No aplicativo do banco\",\"Pessoalmente no banco\",\"No aplicativo do banco\",\"No site do banco\",\"Pessoalmente no banco\",\"Pessoalmente no banco\",\"Pessoalmente no banco\",\"No aplicativo do banco\",\"No aplicativo do banco\",\"No aplicativo do banco\",\"Pessoalmente no banco\",\"Pessoalmente no banco\",\"No aplicativo do banco\",\"No site da corretora de investimento\",\"Pessoalmente no banco\",\"Pessoalmente no banco\",\"Pessoalmente no banco\",\"No aplicativo do banco\",\"Pessoalmente no banco\",\"Pessoalmente no banco\",\"No aplicativo do banco\",\"Pessoalmente no banco\",\"Pessoalmente no banco\",\"Pessoalmente no banco\",\"Pessoalmente no banco\",\"No site do banco\",\"No site do banco\",\"No aplicativo do banco\",\"No aplicativo do banco\",\"No aplicativo do banco\",\"Outras respostas\",\"Outras respostas\",\"No site do banco\",\"Pessoalmente no banco\",\"Pessoalmente no banco\",\"No aplicativo do banco\",\"Pessoalmente no banco\",\"Pessoalmente no banco\",\"Pessoalmente no banco\",\"No aplicativo do banco\",\"Pessoalmente no banco\",\"No aplicativo do banco\",\"Pessoalmente no banco\",\"Pessoalmente no banco\",\"No site do banco\",\"Pessoalmente no banco\",\"Pessoalmente no banco\",\"Pessoalmente no banco\",\"Pessoalmente no banco\",\"No site do banco\",\"Outras respostas\"],\"legendgroup\":\"\",\"marker\":{\"colors\":[\"#150035\",\"#FFA15A\",\"#FFA15A\",\"#5E96EC\",\"#5E96EC\",\"#150035\",\"#5E96EC\",\"#150035\",\"#150035\",\"#150035\",\"#150035\",\"#150035\",\"#5E96EC\",\"#FDE443\",\"#5E96EC\",\"#150035\",\"#150035\",\"#FDE443\",\"#150035\",\"#150035\",\"#150035\",\"#5E96EC\",\"#150035\",\"#150035\",\"#150035\",\"#FDE443\",\"#150035\",\"#150035\",\"#E1EEE5\",\"#5E96EC\",\"#FDE443\",\"#150035\",\"#150035\",\"#E1EEE5\",\"#5E96EC\",\"#150035\",\"#150035\",\"#FDE443\",\"#150035\",\"#FDE443\",\"#5E96EC\",\"#150035\",\"#FDE443\",\"#150035\",\"#150035\",\"#150035\",\"#150035\",\"#E1EEE5\",\"#5E96EC\",\"#150035\",\"#150035\",\"#E1EEE5\",\"#150035\",\"#150035\",\"#150035\",\"#150035\",\"#150035\",\"#E1EEE5\",\"#150035\",\"#5E96EC\",\"#150035\",\"#5E96EC\",\"#150035\",\"#5E96EC\",\"#FDE443\",\"#150035\",\"#150035\",\"#150035\",\"#150035\",\"#5E96EC\",\"#5E96EC\",\"#FFA15A\",\"#5E96EC\",\"#5E96EC\",\"#5E96EC\",\"#5E96EC\",\"#150035\",\"#150035\",\"#150035\",\"#150035\",\"#150035\",\"#150035\",\"#5E96EC\",\"#150035\",\"#150035\",\"#150035\",\"#150035\",\"#5E96EC\",\"#5E96EC\",\"#150035\",\"#E1EEE5\",\"#E1EEE5\",\"#FDE443\",\"#E1EEE5\",\"#5E96EC\",\"#150035\",\"#150035\",\"#5E96EC\",\"#FDE443\",\"#150035\",\"#150035\",\"#150035\",\"#150035\",\"#5E96EC\",\"#E1EEE5\",\"#FFA15A\",\"#150035\",\"#5E96EC\",\"#5E96EC\",\"#150035\",\"#150035\",\"#150035\",\"#5E96EC\",\"#150035\",\"#FDE443\",\"#FFA15A\",\"#150035\",\"#FDE443\",\"#5E96EC\",\"#150035\",\"#150035\",\"#150035\",\"#150035\",\"#150035\",\"#150035\",\"#FDE443\",\"#150035\",\"#150035\",\"#FDE443\",\"#5E96EC\",\"#150035\",\"#FFA15A\",\"#E1EEE5\",\"#5E96EC\",\"#E1EEE5\",\"#5E96EC\",\"#150035\",\"#150035\",\"#FDE443\",\"#150035\",\"#5E96EC\",\"#5E96EC\",\"#FFA15A\",\"#150035\",\"#150035\",\"#150035\",\"#FDE443\",\"#5E96EC\",\"#150035\",\"#150035\",\"#150035\",\"#150035\",\"#150035\",\"#150035\",\"#FFA15A\",\"#150035\",\"#150035\",\"#150035\",\"#150035\",\"#E1EEE5\",\"#150035\",\"#150035\",\"#150035\",\"#E1EEE5\",\"#150035\",\"#150035\",\"#150035\",\"#5E96EC\",\"#150035\",\"#FDE443\",\"#150035\",\"#5E96EC\",\"#150035\",\"#5E96EC\",\"#150035\",\"#150035\",\"#5E96EC\",\"#E1EEE5\",\"#150035\",\"#150035\",\"#5E96EC\",\"#150035\",\"#150035\",\"#FDE443\",\"#5E96EC\",\"#5E96EC\",\"#150035\",\"#5E96EC\",\"#5E96EC\",\"#150035\",\"#5E96EC\",\"#150035\",\"#5E96EC\",\"#150035\",\"#FDE443\",\"#5E96EC\",\"#150035\",\"#E1EEE5\",\"#FFA15A\",\"#150035\",\"#150035\",\"#150035\",\"#FDE443\",\"#5E96EC\",\"#150035\",\"#150035\",\"#150035\",\"#FDE443\",\"#5E96EC\",\"#150035\",\"#150035\",\"#150035\",\"#150035\",\"#5E96EC\",\"#150035\",\"#E1EEE5\",\"#150035\",\"#150035\",\"#150035\",\"#150035\",\"#150035\",\"#150035\",\"#150035\",\"#150035\",\"#150035\",\"#150035\",\"#5E96EC\",\"#FDE443\",\"#FDE443\",\"#150035\",\"#150035\",\"#150035\",\"#150035\",\"#150035\",\"#150035\",\"#150035\",\"#150035\",\"#150035\",\"#150035\",\"#5E96EC\",\"#E1EEE5\",\"#150035\",\"#FDE443\",\"#150035\",\"#150035\",\"#FFA15A\",\"#150035\",\"#150035\",\"#150035\",\"#FDE443\",\"#FDE443\",\"#5E96EC\",\"#150035\",\"#150035\",\"#150035\",\"#150035\",\"#150035\",\"#150035\",\"#150035\",\"#150035\",\"#5E96EC\",\"#150035\",\"#150035\",\"#150035\",\"#150035\",\"#150035\",\"#150035\",\"#E1EEE5\",\"#150035\",\"#150035\",\"#FDE443\",\"#150035\",\"#150035\",\"#150035\",\"#E1EEE5\",\"#5E96EC\",\"#150035\",\"#150035\",\"#150035\",\"#5E96EC\",\"#150035\",\"#150035\",\"#150035\",\"#FDE443\",\"#150035\",\"#150035\",\"#FFA15A\",\"#150035\",\"#150035\",\"#FFA15A\",\"#5E96EC\",\"#150035\",\"#150035\",\"#FDE443\",\"#FFA15A\",\"#150035\",\"#150035\",\"#150035\",\"#150035\",\"#150035\",\"#150035\",\"#150035\",\"#150035\",\"#FDE443\",\"#150035\",\"#150035\",\"#150035\",\"#FDE443\",\"#150035\",\"#150035\",\"#150035\",\"#150035\",\"#150035\",\"#150035\",\"#150035\",\"#150035\",\"#5E96EC\",\"#150035\",\"#5E96EC\",\"#150035\",\"#E1EEE5\",\"#150035\",\"#150035\",\"#150035\",\"#150035\",\"#150035\",\"#150035\",\"#FFA15A\",\"#E1EEE5\",\"#150035\",\"#5E96EC\",\"#150035\",\"#150035\",\"#150035\",\"#5E96EC\",\"#5E96EC\",\"#5E96EC\",\"#5E96EC\",\"#5E96EC\",\"#150035\",\"#E1EEE5\",\"#150035\",\"#5E96EC\",\"#150035\",\"#150035\",\"#5E96EC\",\"#5E96EC\",\"#5E96EC\",\"#E1EEE5\",\"#5E96EC\",\"#5E96EC\",\"#150035\",\"#150035\",\"#150035\",\"#150035\",\"#150035\",\"#150035\",\"#150035\",\"#150035\",\"#150035\",\"#150035\",\"#150035\",\"#150035\",\"#5E96EC\",\"#150035\",\"#5E96EC\",\"#150035\",\"#FFA15A\",\"#150035\",\"#150035\",\"#150035\",\"#FDE443\",\"#5E96EC\",\"#150035\",\"#150035\",\"#FFA15A\",\"#5E96EC\",\"#150035\",\"#150035\",\"#E1EEE5\",\"#150035\",\"#E1EEE5\",\"#150035\",\"#5E96EC\",\"#150035\",\"#FDE443\",\"#150035\",\"#E1EEE5\",\"#FFA15A\",\"#150035\",\"#150035\",\"#150035\",\"#150035\",\"#150035\",\"#5E96EC\",\"#5E96EC\",\"#150035\",\"#FDE443\",\"#5E96EC\",\"#5E96EC\",\"#E1EEE5\",\"#150035\",\"#150035\",\"#150035\",\"#150035\",\"#150035\",\"#E1EEE5\",\"#150035\",\"#5E96EC\",\"#150035\",\"#150035\",\"#150035\",\"#150035\",\"#5E96EC\",\"#FDE443\",\"#150035\",\"#150035\",\"#150035\",\"#5E96EC\",\"#5E96EC\",\"#150035\",\"#150035\",\"#150035\",\"#150035\",\"#150035\",\"#150035\",\"#5E96EC\",\"#150035\",\"#5E96EC\",\"#5E96EC\",\"#150035\",\"#5E96EC\",\"#150035\",\"#150035\",\"#FFA15A\",\"#150035\",\"#150035\",\"#E1EEE5\",\"#FDE443\",\"#150035\",\"#150035\",\"#150035\",\"#150035\",\"#5E96EC\",\"#150035\",\"#FFA15A\",\"#FDE443\",\"#150035\",\"#150035\",\"#150035\",\"#150035\",\"#150035\",\"#150035\",\"#FFA15A\",\"#150035\",\"#FDE443\",\"#5E96EC\",\"#150035\",\"#FDE443\",\"#150035\",\"#5E96EC\",\"#150035\",\"#150035\",\"#FDE443\",\"#150035\",\"#FDE443\",\"#150035\",\"#150035\",\"#150035\",\"#5E96EC\",\"#150035\",\"#150035\",\"#150035\",\"#E1EEE5\",\"#150035\",\"#FDE443\",\"#150035\",\"#FDE443\",\"#150035\",\"#FFA15A\",\"#5E96EC\",\"#5E96EC\",\"#150035\",\"#5E96EC\",\"#5E96EC\",\"#FFA15A\",\"#150035\",\"#150035\",\"#5E96EC\",\"#5E96EC\",\"#150035\",\"#150035\",\"#150035\",\"#FDE443\",\"#150035\",\"#150035\",\"#150035\",\"#5E96EC\",\"#150035\",\"#FDE443\",\"#150035\",\"#150035\",\"#150035\",\"#5E96EC\",\"#150035\",\"#150035\",\"#E1EEE5\",\"#E1EEE5\",\"#FDE443\",\"#150035\",\"#5E96EC\",\"#150035\",\"#150035\",\"#5E96EC\",\"#150035\",\"#5E96EC\",\"#150035\",\"#150035\",\"#150035\",\"#FFA15A\",\"#150035\",\"#150035\",\"#150035\",\"#5E96EC\",\"#5E96EC\",\"#150035\",\"#5E96EC\",\"#FDE443\",\"#150035\",\"#150035\",\"#150035\",\"#5E96EC\",\"#5E96EC\",\"#5E96EC\",\"#150035\",\"#150035\",\"#5E96EC\",\"#E1EEE5\",\"#150035\",\"#150035\",\"#150035\",\"#5E96EC\",\"#150035\",\"#150035\",\"#5E96EC\",\"#150035\",\"#150035\",\"#150035\",\"#150035\",\"#FDE443\",\"#FDE443\",\"#5E96EC\",\"#5E96EC\",\"#5E96EC\",\"#FFA15A\",\"#FFA15A\",\"#FDE443\",\"#150035\",\"#150035\",\"#5E96EC\",\"#150035\",\"#150035\",\"#150035\",\"#5E96EC\",\"#150035\",\"#5E96EC\",\"#150035\",\"#150035\",\"#FDE443\",\"#150035\",\"#150035\",\"#150035\",\"#150035\",\"#FDE443\",\"#FFA15A\"]},\"name\":\"\",\"showlegend\":true,\"type\":\"pie\"}],                        {\"template\":{\"data\":{\"bar\":[{\"error_x\":{\"color\":\"#2a3f5f\"},\"error_y\":{\"color\":\"#2a3f5f\"},\"marker\":{\"line\":{\"color\":\"#E5ECF6\",\"width\":0.5},\"pattern\":{\"fillmode\":\"overlay\",\"size\":10,\"solidity\":0.2}},\"type\":\"bar\"}],\"barpolar\":[{\"marker\":{\"line\":{\"color\":\"#E5ECF6\",\"width\":0.5},\"pattern\":{\"fillmode\":\"overlay\",\"size\":10,\"solidity\":0.2}},\"type\":\"barpolar\"}],\"carpet\":[{\"aaxis\":{\"endlinecolor\":\"#2a3f5f\",\"gridcolor\":\"white\",\"linecolor\":\"white\",\"minorgridcolor\":\"white\",\"startlinecolor\":\"#2a3f5f\"},\"baxis\":{\"endlinecolor\":\"#2a3f5f\",\"gridcolor\":\"white\",\"linecolor\":\"white\",\"minorgridcolor\":\"white\",\"startlinecolor\":\"#2a3f5f\"},\"type\":\"carpet\"}],\"choropleth\":[{\"colorbar\":{\"outlinewidth\":0,\"ticks\":\"\"},\"type\":\"choropleth\"}],\"contour\":[{\"colorbar\":{\"outlinewidth\":0,\"ticks\":\"\"},\"colorscale\":[[0.0,\"#0d0887\"],[0.1111111111111111,\"#46039f\"],[0.2222222222222222,\"#7201a8\"],[0.3333333333333333,\"#9c179e\"],[0.4444444444444444,\"#bd3786\"],[0.5555555555555556,\"#d8576b\"],[0.6666666666666666,\"#ed7953\"],[0.7777777777777778,\"#fb9f3a\"],[0.8888888888888888,\"#fdca26\"],[1.0,\"#f0f921\"]],\"type\":\"contour\"}],\"contourcarpet\":[{\"colorbar\":{\"outlinewidth\":0,\"ticks\":\"\"},\"type\":\"contourcarpet\"}],\"heatmap\":[{\"colorbar\":{\"outlinewidth\":0,\"ticks\":\"\"},\"colorscale\":[[0.0,\"#0d0887\"],[0.1111111111111111,\"#46039f\"],[0.2222222222222222,\"#7201a8\"],[0.3333333333333333,\"#9c179e\"],[0.4444444444444444,\"#bd3786\"],[0.5555555555555556,\"#d8576b\"],[0.6666666666666666,\"#ed7953\"],[0.7777777777777778,\"#fb9f3a\"],[0.8888888888888888,\"#fdca26\"],[1.0,\"#f0f921\"]],\"type\":\"heatmap\"}],\"heatmapgl\":[{\"colorbar\":{\"outlinewidth\":0,\"ticks\":\"\"},\"colorscale\":[[0.0,\"#0d0887\"],[0.1111111111111111,\"#46039f\"],[0.2222222222222222,\"#7201a8\"],[0.3333333333333333,\"#9c179e\"],[0.4444444444444444,\"#bd3786\"],[0.5555555555555556,\"#d8576b\"],[0.6666666666666666,\"#ed7953\"],[0.7777777777777778,\"#fb9f3a\"],[0.8888888888888888,\"#fdca26\"],[1.0,\"#f0f921\"]],\"type\":\"heatmapgl\"}],\"histogram\":[{\"marker\":{\"pattern\":{\"fillmode\":\"overlay\",\"size\":10,\"solidity\":0.2}},\"type\":\"histogram\"}],\"histogram2d\":[{\"colorbar\":{\"outlinewidth\":0,\"ticks\":\"\"},\"colorscale\":[[0.0,\"#0d0887\"],[0.1111111111111111,\"#46039f\"],[0.2222222222222222,\"#7201a8\"],[0.3333333333333333,\"#9c179e\"],[0.4444444444444444,\"#bd3786\"],[0.5555555555555556,\"#d8576b\"],[0.6666666666666666,\"#ed7953\"],[0.7777777777777778,\"#fb9f3a\"],[0.8888888888888888,\"#fdca26\"],[1.0,\"#f0f921\"]],\"type\":\"histogram2d\"}],\"histogram2dcontour\":[{\"colorbar\":{\"outlinewidth\":0,\"ticks\":\"\"},\"colorscale\":[[0.0,\"#0d0887\"],[0.1111111111111111,\"#46039f\"],[0.2222222222222222,\"#7201a8\"],[0.3333333333333333,\"#9c179e\"],[0.4444444444444444,\"#bd3786\"],[0.5555555555555556,\"#d8576b\"],[0.6666666666666666,\"#ed7953\"],[0.7777777777777778,\"#fb9f3a\"],[0.8888888888888888,\"#fdca26\"],[1.0,\"#f0f921\"]],\"type\":\"histogram2dcontour\"}],\"mesh3d\":[{\"colorbar\":{\"outlinewidth\":0,\"ticks\":\"\"},\"type\":\"mesh3d\"}],\"parcoords\":[{\"line\":{\"colorbar\":{\"outlinewidth\":0,\"ticks\":\"\"}},\"type\":\"parcoords\"}],\"pie\":[{\"automargin\":true,\"type\":\"pie\"}],\"scatter\":[{\"marker\":{\"colorbar\":{\"outlinewidth\":0,\"ticks\":\"\"}},\"type\":\"scatter\"}],\"scatter3d\":[{\"line\":{\"colorbar\":{\"outlinewidth\":0,\"ticks\":\"\"}},\"marker\":{\"colorbar\":{\"outlinewidth\":0,\"ticks\":\"\"}},\"type\":\"scatter3d\"}],\"scattercarpet\":[{\"marker\":{\"colorbar\":{\"outlinewidth\":0,\"ticks\":\"\"}},\"type\":\"scattercarpet\"}],\"scattergeo\":[{\"marker\":{\"colorbar\":{\"outlinewidth\":0,\"ticks\":\"\"}},\"type\":\"scattergeo\"}],\"scattergl\":[{\"marker\":{\"colorbar\":{\"outlinewidth\":0,\"ticks\":\"\"}},\"type\":\"scattergl\"}],\"scattermapbox\":[{\"marker\":{\"colorbar\":{\"outlinewidth\":0,\"ticks\":\"\"}},\"type\":\"scattermapbox\"}],\"scatterpolar\":[{\"marker\":{\"colorbar\":{\"outlinewidth\":0,\"ticks\":\"\"}},\"type\":\"scatterpolar\"}],\"scatterpolargl\":[{\"marker\":{\"colorbar\":{\"outlinewidth\":0,\"ticks\":\"\"}},\"type\":\"scatterpolargl\"}],\"scatterternary\":[{\"marker\":{\"colorbar\":{\"outlinewidth\":0,\"ticks\":\"\"}},\"type\":\"scatterternary\"}],\"surface\":[{\"colorbar\":{\"outlinewidth\":0,\"ticks\":\"\"},\"colorscale\":[[0.0,\"#0d0887\"],[0.1111111111111111,\"#46039f\"],[0.2222222222222222,\"#7201a8\"],[0.3333333333333333,\"#9c179e\"],[0.4444444444444444,\"#bd3786\"],[0.5555555555555556,\"#d8576b\"],[0.6666666666666666,\"#ed7953\"],[0.7777777777777778,\"#fb9f3a\"],[0.8888888888888888,\"#fdca26\"],[1.0,\"#f0f921\"]],\"type\":\"surface\"}],\"table\":[{\"cells\":{\"fill\":{\"color\":\"#EBF0F8\"},\"line\":{\"color\":\"white\"}},\"header\":{\"fill\":{\"color\":\"#C8D4E3\"},\"line\":{\"color\":\"white\"}},\"type\":\"table\"}]},\"layout\":{\"annotationdefaults\":{\"arrowcolor\":\"#2a3f5f\",\"arrowhead\":0,\"arrowwidth\":1},\"autotypenumbers\":\"strict\",\"coloraxis\":{\"colorbar\":{\"outlinewidth\":0,\"ticks\":\"\"}},\"colorscale\":{\"diverging\":[[0,\"#8e0152\"],[0.1,\"#c51b7d\"],[0.2,\"#de77ae\"],[0.3,\"#f1b6da\"],[0.4,\"#fde0ef\"],[0.5,\"#f7f7f7\"],[0.6,\"#e6f5d0\"],[0.7,\"#b8e186\"],[0.8,\"#7fbc41\"],[0.9,\"#4d9221\"],[1,\"#276419\"]],\"sequential\":[[0.0,\"#0d0887\"],[0.1111111111111111,\"#46039f\"],[0.2222222222222222,\"#7201a8\"],[0.3333333333333333,\"#9c179e\"],[0.4444444444444444,\"#bd3786\"],[0.5555555555555556,\"#d8576b\"],[0.6666666666666666,\"#ed7953\"],[0.7777777777777778,\"#fb9f3a\"],[0.8888888888888888,\"#fdca26\"],[1.0,\"#f0f921\"]],\"sequentialminus\":[[0.0,\"#0d0887\"],[0.1111111111111111,\"#46039f\"],[0.2222222222222222,\"#7201a8\"],[0.3333333333333333,\"#9c179e\"],[0.4444444444444444,\"#bd3786\"],[0.5555555555555556,\"#d8576b\"],[0.6666666666666666,\"#ed7953\"],[0.7777777777777778,\"#fb9f3a\"],[0.8888888888888888,\"#fdca26\"],[1.0,\"#f0f921\"]]},\"colorway\":[\"#636efa\",\"#EF553B\",\"#00cc96\",\"#ab63fa\",\"#FFA15A\",\"#19d3f3\",\"#FF6692\",\"#B6E880\",\"#FF97FF\",\"#FECB52\"],\"font\":{\"color\":\"#2a3f5f\"},\"geo\":{\"bgcolor\":\"white\",\"lakecolor\":\"white\",\"landcolor\":\"#E5ECF6\",\"showlakes\":true,\"showland\":true,\"subunitcolor\":\"white\"},\"hoverlabel\":{\"align\":\"left\"},\"hovermode\":\"closest\",\"mapbox\":{\"style\":\"light\"},\"paper_bgcolor\":\"white\",\"plot_bgcolor\":\"#E5ECF6\",\"polar\":{\"angularaxis\":{\"gridcolor\":\"white\",\"linecolor\":\"white\",\"ticks\":\"\"},\"bgcolor\":\"#E5ECF6\",\"radialaxis\":{\"gridcolor\":\"white\",\"linecolor\":\"white\",\"ticks\":\"\"}},\"scene\":{\"xaxis\":{\"backgroundcolor\":\"#E5ECF6\",\"gridcolor\":\"white\",\"gridwidth\":2,\"linecolor\":\"white\",\"showbackground\":true,\"ticks\":\"\",\"zerolinecolor\":\"white\"},\"yaxis\":{\"backgroundcolor\":\"#E5ECF6\",\"gridcolor\":\"white\",\"gridwidth\":2,\"linecolor\":\"white\",\"showbackground\":true,\"ticks\":\"\",\"zerolinecolor\":\"white\"},\"zaxis\":{\"backgroundcolor\":\"#E5ECF6\",\"gridcolor\":\"white\",\"gridwidth\":2,\"linecolor\":\"white\",\"showbackground\":true,\"ticks\":\"\",\"zerolinecolor\":\"white\"}},\"shapedefaults\":{\"line\":{\"color\":\"#2a3f5f\"}},\"ternary\":{\"aaxis\":{\"gridcolor\":\"white\",\"linecolor\":\"white\",\"ticks\":\"\"},\"baxis\":{\"gridcolor\":\"white\",\"linecolor\":\"white\",\"ticks\":\"\"},\"bgcolor\":\"#E5ECF6\",\"caxis\":{\"gridcolor\":\"white\",\"linecolor\":\"white\",\"ticks\":\"\"}},\"title\":{\"x\":0.05},\"xaxis\":{\"automargin\":true,\"gridcolor\":\"white\",\"linecolor\":\"white\",\"ticks\":\"\",\"title\":{\"standoff\":15},\"zerolinecolor\":\"white\",\"zerolinewidth\":2},\"yaxis\":{\"automargin\":true,\"gridcolor\":\"white\",\"linecolor\":\"white\",\"ticks\":\"\",\"title\":{\"standoff\":15},\"zerolinecolor\":\"white\",\"zerolinewidth\":2}}},\"legend\":{\"tracegroupgap\":0},\"title\":{\"text\":\"Meio utilizado por Jovens de 18 a 35 anos para realizar uma aplica\\u00e7\\u00e3o financeira\"}},                        {\"responsive\": true}                    ).then(function(){\n",
       "                            \n",
       "var gd = document.getElementById('3fda6e73-1d33-4859-b0a2-5bf4af1225a5');\n",
       "var x = new MutationObserver(function (mutations, observer) {{\n",
       "        var display = window.getComputedStyle(gd).display;\n",
       "        if (!display || display === 'none') {{\n",
       "            console.log([gd, 'removed!']);\n",
       "            Plotly.purge(gd);\n",
       "            observer.disconnect();\n",
       "        }}\n",
       "}});\n",
       "\n",
       "// Listen for the removal of the full notebook cells\n",
       "var notebookContainer = gd.closest('#notebook-container');\n",
       "if (notebookContainer) {{\n",
       "    x.observe(notebookContainer, {childList: true});\n",
       "}}\n",
       "\n",
       "// Listen for the clearing of the current output cell\n",
       "var outputEl = gd.closest('.output');\n",
       "if (outputEl) {{\n",
       "    x.observe(outputEl, {childList: true});\n",
       "}}\n",
       "\n",
       "                        })                };                });            </script>        </div>"
      ]
     },
     "metadata": {},
     "output_type": "display_data"
    }
   ],
   "source": [
    "# Gráfico 3\n",
    "fig = px.pie(Rótulo, names='Meio para realização de aplicação financeira', title='Meio utilizado por Jovens de 18 a 35 anos para realizar uma aplicação financeira', \n",
    "             color='Meio para realização de aplicação financeira', \n",
    "             color_discrete_map={'Pessoalmente no banco':'#150035', \n",
    "                                 'No aplicativo do banco':'#5E96EC',\n",
    "                                 'No site do banco':'#FDE443',\n",
    "                                 'No site da corretora de investimento':'#E1EEE5'})\n",
    "fig.show()"
   ]
  },
  {
   "cell_type": "markdown",
   "metadata": {},
   "source": [
    "## GRÁFICO 4: Motivo dos jovens não investirem"
   ]
  },
  {
   "cell_type": "code",
   "execution_count": 44,
   "metadata": {},
   "outputs": [
    {
     "data": {
      "application/vnd.plotly.v1+json": {
       "config": {
        "plotlyServerURL": "https://plot.ly"
       },
       "data": [
        {
         "customdata": [
          [
           "Falta de dinheiro/ salário baixo/ sem condições/ falta de capital"
          ],
          [
           "OUTRAS RESPOSTAS"
          ],
          [
           "Falta de dinheiro/ salário baixo/ sem condições/ falta de capital"
          ],
          [
           "Falta de dinheiro/ salário baixo/ sem condições/ falta de capital"
          ],
          [
           "OUTRAS RESPOSTAS"
          ],
          [
           "OUTRAS RESPOSTAS"
          ],
          [
           "Falta de dinheiro/ salário baixo/ sem condições/ falta de capital"
          ],
          [
           "Falta de dinheiro/ salário baixo/ sem condições/ falta de capital"
          ],
          [
           "Falta de dinheiro/ salário baixo/ sem condições/ falta de capital"
          ],
          [
           "OUTRAS RESPOSTAS"
          ],
          [
           "Falta de dinheiro/ salário baixo/ sem condições/ falta de capital"
          ],
          [
           "OUTRAS RESPOSTAS"
          ],
          [
           "Falta de dinheiro/ salário baixo/ sem condições/ falta de capital"
          ],
          [
           "Falta de dinheiro/ salário baixo/ sem condições/ falta de capital"
          ],
          [
           "Falta de dinheiro/ salário baixo/ sem condições/ falta de capital"
          ],
          [
           "Falta de dinheiro/ salário baixo/ sem condições/ falta de capital"
          ],
          [
           "Falta de dinheiro/ salário baixo/ sem condições/ falta de capital"
          ],
          [
           "Falta de dinheiro/ salário baixo/ sem condições/ falta de capital"
          ],
          [
           "Teve outros gastos (doença/ ajudou parentes/ contas para pagar/ dívidas/ viagem/ festas/ compras/ estudos/ saúde)"
          ],
          [
           "OUTRAS RESPOSTAS"
          ],
          [
           "Falta de dinheiro/ salário baixo/ sem condições/ falta de capital"
          ],
          [
           "OUTRAS RESPOSTAS"
          ],
          [
           "OUTRAS RESPOSTAS"
          ],
          [
           "Falta de dinheiro/ salário baixo/ sem condições/ falta de capital"
          ],
          [
           "OUTRAS RESPOSTAS"
          ],
          [
           "Falta de dinheiro/ salário baixo/ sem condições/ falta de capital"
          ],
          [
           "OUTRAS RESPOSTAS"
          ],
          [
           "Desemprego/ não tem emprego fixo/ sem renda"
          ],
          [
           "Falta de dinheiro/ salário baixo/ sem condições/ falta de capital"
          ],
          [
           "OUTRAS RESPOSTAS"
          ],
          [
           "OUTRAS RESPOSTAS"
          ],
          [
           "Falta de dinheiro/ salário baixo/ sem condições/ falta de capital"
          ],
          [
           "OUTRAS RESPOSTAS"
          ],
          [
           "OUTRAS RESPOSTAS"
          ],
          [
           "Falta de dinheiro/ salário baixo/ sem condições/ falta de capital"
          ],
          [
           "OUTRAS RESPOSTAS"
          ],
          [
           "OUTRAS RESPOSTAS"
          ],
          [
           "Falta de dinheiro/ salário baixo/ sem condições/ falta de capital"
          ],
          [
           "OUTRAS RESPOSTAS"
          ],
          [
           "Falta de dinheiro/ salário baixo/ sem condições/ falta de capital"
          ],
          [
           "Falta de dinheiro/ salário baixo/ sem condições/ falta de capital"
          ],
          [
           "Teve outros gastos (doença/ ajudou parentes/ contas para pagar/ dívidas/ viagem/ festas/ compras/ estudos/ saúde)"
          ],
          [
           "OUTRAS RESPOSTAS"
          ],
          [
           "Falta de dinheiro/ salário baixo/ sem condições/ falta de capital"
          ],
          [
           "Falta de dinheiro/ salário baixo/ sem condições/ falta de capital"
          ],
          [
           "Falta de dinheiro/ salário baixo/ sem condições/ falta de capital"
          ],
          [
           "OUTRAS RESPOSTAS"
          ],
          [
           "OUTRAS RESPOSTAS"
          ],
          [
           "OUTRAS RESPOSTAS"
          ],
          [
           "Falta de dinheiro/ salário baixo/ sem condições/ falta de capital"
          ],
          [
           "OUTRAS RESPOSTAS"
          ],
          [
           "Falta de dinheiro/ salário baixo/ sem condições/ falta de capital"
          ],
          [
           "OUTRAS RESPOSTAS"
          ],
          [
           "OUTRAS RESPOSTAS"
          ],
          [
           "OUTRAS RESPOSTAS"
          ],
          [
           "Falta de dinheiro/ salário baixo/ sem condições/ falta de capital"
          ],
          [
           "Falta de dinheiro/ salário baixo/ sem condições/ falta de capital"
          ],
          [
           "Teve outros gastos (doença/ ajudou parentes/ contas para pagar/ dívidas/ viagem/ festas/ compras/ estudos/ saúde)"
          ],
          [
           "Falta de dinheiro/ salário baixo/ sem condições/ falta de capital"
          ],
          [
           "Falta de dinheiro/ salário baixo/ sem condições/ falta de capital"
          ],
          [
           "OUTRAS RESPOSTAS"
          ],
          [
           "Desemprego/ não tem emprego fixo/ sem renda"
          ],
          [
           "Falta de dinheiro/ salário baixo/ sem condições/ falta de capital"
          ],
          [
           "OUTRAS RESPOSTAS"
          ],
          [
           "Falta de dinheiro/ salário baixo/ sem condições/ falta de capital"
          ],
          [
           "Falta de dinheiro/ salário baixo/ sem condições/ falta de capital"
          ],
          [
           "OUTRAS RESPOSTAS"
          ],
          [
           "Falta de dinheiro/ salário baixo/ sem condições/ falta de capital"
          ],
          [
           "OUTRAS RESPOSTAS"
          ],
          [
           "Falta de dinheiro/ salário baixo/ sem condições/ falta de capital"
          ],
          [
           "Falta de dinheiro/ salário baixo/ sem condições/ falta de capital"
          ],
          [
           "Desemprego/ não tem emprego fixo/ sem renda"
          ],
          [
           "OUTRAS RESPOSTAS"
          ],
          [
           "OUTRAS RESPOSTAS"
          ],
          [
           "Falta de dinheiro/ salário baixo/ sem condições/ falta de capital"
          ],
          [
           "Falta de dinheiro/ salário baixo/ sem condições/ falta de capital"
          ],
          [
           "OUTRAS RESPOSTAS"
          ],
          [
           "Falta de dinheiro/ salário baixo/ sem condições/ falta de capital"
          ],
          [
           "Falta de dinheiro/ salário baixo/ sem condições/ falta de capital"
          ],
          [
           "OUTRAS RESPOSTAS"
          ],
          [
           "Falta de dinheiro/ salário baixo/ sem condições/ falta de capital"
          ],
          [
           "Falta de dinheiro/ salário baixo/ sem condições/ falta de capital"
          ],
          [
           "Falta de dinheiro/ salário baixo/ sem condições/ falta de capital"
          ],
          [
           "Desemprego/ não tem emprego fixo/ sem renda"
          ],
          [
           "OUTRAS RESPOSTAS"
          ],
          [
           "OUTRAS RESPOSTAS"
          ],
          [
           "OUTRAS RESPOSTAS"
          ],
          [
           "Falta de dinheiro/ salário baixo/ sem condições/ falta de capital"
          ],
          [
           "Falta de dinheiro/ salário baixo/ sem condições/ falta de capital"
          ],
          [
           "Teve outros gastos (doença/ ajudou parentes/ contas para pagar/ dívidas/ viagem/ festas/ compras/ estudos/ saúde)"
          ],
          [
           "OUTRAS RESPOSTAS"
          ],
          [
           "OUTRAS RESPOSTAS"
          ],
          [
           "OUTRAS RESPOSTAS"
          ],
          [
           "OUTRAS RESPOSTAS"
          ],
          [
           "Desemprego/ não tem emprego fixo/ sem renda"
          ],
          [
           "OUTRAS RESPOSTAS"
          ],
          [
           "OUTRAS RESPOSTAS"
          ],
          [
           "Falta de dinheiro/ salário baixo/ sem condições/ falta de capital"
          ],
          [
           "Falta de dinheiro/ salário baixo/ sem condições/ falta de capital"
          ],
          [
           "Desemprego/ não tem emprego fixo/ sem renda"
          ],
          [
           "Desemprego/ não tem emprego fixo/ sem renda"
          ],
          [
           "Falta de dinheiro/ salário baixo/ sem condições/ falta de capital"
          ],
          [
           "Falta de dinheiro/ salário baixo/ sem condições/ falta de capital"
          ],
          [
           "OUTRAS RESPOSTAS"
          ],
          [
           "Falta de dinheiro/ salário baixo/ sem condições/ falta de capital"
          ],
          [
           "Falta de dinheiro/ salário baixo/ sem condições/ falta de capital"
          ],
          [
           "Falta de dinheiro/ salário baixo/ sem condições/ falta de capital"
          ],
          [
           "OUTRAS RESPOSTAS"
          ],
          [
           "Falta de dinheiro/ salário baixo/ sem condições/ falta de capital"
          ],
          [
           "Teve outros gastos (doença/ ajudou parentes/ contas para pagar/ dívidas/ viagem/ festas/ compras/ estudos/ saúde)"
          ],
          [
           "OUTRAS RESPOSTAS"
          ],
          [
           "Teve outros gastos (doença/ ajudou parentes/ contas para pagar/ dívidas/ viagem/ festas/ compras/ estudos/ saúde)"
          ],
          [
           "Desemprego/ não tem emprego fixo/ sem renda"
          ],
          [
           "OUTRAS RESPOSTAS"
          ],
          [
           "OUTRAS RESPOSTAS"
          ],
          [
           "Falta de dinheiro/ salário baixo/ sem condições/ falta de capital"
          ],
          [
           "Falta de dinheiro/ salário baixo/ sem condições/ falta de capital"
          ],
          [
           "OUTRAS RESPOSTAS"
          ],
          [
           "OUTRAS RESPOSTAS"
          ],
          [
           "Falta de dinheiro/ salário baixo/ sem condições/ falta de capital"
          ],
          [
           "Falta de dinheiro/ salário baixo/ sem condições/ falta de capital"
          ],
          [
           "Desemprego/ não tem emprego fixo/ sem renda"
          ],
          [
           "Falta de dinheiro/ salário baixo/ sem condições/ falta de capital"
          ],
          [
           "Desemprego/ não tem emprego fixo/ sem renda"
          ],
          [
           "Teve outros gastos (doença/ ajudou parentes/ contas para pagar/ dívidas/ viagem/ festas/ compras/ estudos/ saúde)"
          ],
          [
           "Falta de dinheiro/ salário baixo/ sem condições/ falta de capital"
          ],
          [
           "Falta de dinheiro/ salário baixo/ sem condições/ falta de capital"
          ],
          [
           "Desemprego/ não tem emprego fixo/ sem renda"
          ],
          [
           "Falta de dinheiro/ salário baixo/ sem condições/ falta de capital"
          ],
          [
           "Falta de dinheiro/ salário baixo/ sem condições/ falta de capital"
          ],
          [
           "OUTRAS RESPOSTAS"
          ],
          [
           "Falta de dinheiro/ salário baixo/ sem condições/ falta de capital"
          ],
          [
           "Teve outros gastos (doença/ ajudou parentes/ contas para pagar/ dívidas/ viagem/ festas/ compras/ estudos/ saúde)"
          ],
          [
           "OUTRAS RESPOSTAS"
          ],
          [
           "Falta de dinheiro/ salário baixo/ sem condições/ falta de capital"
          ],
          [
           "Falta de dinheiro/ salário baixo/ sem condições/ falta de capital"
          ],
          [
           "Falta de dinheiro/ salário baixo/ sem condições/ falta de capital"
          ],
          [
           "Falta de dinheiro/ salário baixo/ sem condições/ falta de capital"
          ],
          [
           "OUTRAS RESPOSTAS"
          ],
          [
           "OUTRAS RESPOSTAS"
          ],
          [
           "OUTRAS RESPOSTAS"
          ],
          [
           "Falta de dinheiro/ salário baixo/ sem condições/ falta de capital"
          ],
          [
           "Falta de dinheiro/ salário baixo/ sem condições/ falta de capital"
          ],
          [
           "OUTRAS RESPOSTAS"
          ],
          [
           "OUTRAS RESPOSTAS"
          ],
          [
           "Desemprego/ não tem emprego fixo/ sem renda"
          ],
          [
           "Falta de dinheiro/ salário baixo/ sem condições/ falta de capital"
          ],
          [
           "OUTRAS RESPOSTAS"
          ],
          [
           "Falta de dinheiro/ salário baixo/ sem condições/ falta de capital"
          ],
          [
           "Falta de dinheiro/ salário baixo/ sem condições/ falta de capital"
          ],
          [
           "Desemprego/ não tem emprego fixo/ sem renda"
          ],
          [
           "Falta de dinheiro/ salário baixo/ sem condições/ falta de capital"
          ],
          [
           "OUTRAS RESPOSTAS"
          ],
          [
           "OUTRAS RESPOSTAS"
          ],
          [
           "Falta de dinheiro/ salário baixo/ sem condições/ falta de capital"
          ],
          [
           "OUTRAS RESPOSTAS"
          ],
          [
           "Teve outros gastos (doença/ ajudou parentes/ contas para pagar/ dívidas/ viagem/ festas/ compras/ estudos/ saúde)"
          ],
          [
           "OUTRAS RESPOSTAS"
          ],
          [
           "OUTRAS RESPOSTAS"
          ],
          [
           "Falta de dinheiro/ salário baixo/ sem condições/ falta de capital"
          ],
          [
           "Desemprego/ não tem emprego fixo/ sem renda"
          ],
          [
           "Teve outros gastos (doença/ ajudou parentes/ contas para pagar/ dívidas/ viagem/ festas/ compras/ estudos/ saúde)"
          ],
          [
           "Falta de dinheiro/ salário baixo/ sem condições/ falta de capital"
          ],
          [
           "Desemprego/ não tem emprego fixo/ sem renda"
          ],
          [
           "OUTRAS RESPOSTAS"
          ],
          [
           "Falta de dinheiro/ salário baixo/ sem condições/ falta de capital"
          ],
          [
           "Falta de dinheiro/ salário baixo/ sem condições/ falta de capital"
          ],
          [
           "Falta de dinheiro/ salário baixo/ sem condições/ falta de capital"
          ],
          [
           "OUTRAS RESPOSTAS"
          ],
          [
           "Falta de dinheiro/ salário baixo/ sem condições/ falta de capital"
          ],
          [
           "Falta de dinheiro/ salário baixo/ sem condições/ falta de capital"
          ],
          [
           "Falta de dinheiro/ salário baixo/ sem condições/ falta de capital"
          ],
          [
           "OUTRAS RESPOSTAS"
          ],
          [
           "Falta de dinheiro/ salário baixo/ sem condições/ falta de capital"
          ],
          [
           "Falta de dinheiro/ salário baixo/ sem condições/ falta de capital"
          ],
          [
           "Falta de dinheiro/ salário baixo/ sem condições/ falta de capital"
          ],
          [
           "OUTRAS RESPOSTAS"
          ],
          [
           "OUTRAS RESPOSTAS"
          ],
          [
           "OUTRAS RESPOSTAS"
          ],
          [
           "Falta de dinheiro/ salário baixo/ sem condições/ falta de capital"
          ],
          [
           "OUTRAS RESPOSTAS"
          ],
          [
           "Falta de dinheiro/ salário baixo/ sem condições/ falta de capital"
          ],
          [
           "OUTRAS RESPOSTAS"
          ],
          [
           "OUTRAS RESPOSTAS"
          ],
          [
           "Falta de dinheiro/ salário baixo/ sem condições/ falta de capital"
          ],
          [
           "OUTRAS RESPOSTAS"
          ],
          [
           "OUTRAS RESPOSTAS"
          ],
          [
           "OUTRAS RESPOSTAS"
          ],
          [
           "Desemprego/ não tem emprego fixo/ sem renda"
          ],
          [
           "OUTRAS RESPOSTAS"
          ],
          [
           "Falta de dinheiro/ salário baixo/ sem condições/ falta de capital"
          ],
          [
           "Desemprego/ não tem emprego fixo/ sem renda"
          ],
          [
           "Falta de dinheiro/ salário baixo/ sem condições/ falta de capital"
          ],
          [
           "OUTRAS RESPOSTAS"
          ],
          [
           "OUTRAS RESPOSTAS"
          ],
          [
           "Falta de dinheiro/ salário baixo/ sem condições/ falta de capital"
          ],
          [
           "Falta de dinheiro/ salário baixo/ sem condições/ falta de capital"
          ],
          [
           "Falta de dinheiro/ salário baixo/ sem condições/ falta de capital"
          ],
          [
           "OUTRAS RESPOSTAS"
          ],
          [
           "Falta de dinheiro/ salário baixo/ sem condições/ falta de capital"
          ],
          [
           "Falta de dinheiro/ salário baixo/ sem condições/ falta de capital"
          ],
          [
           "OUTRAS RESPOSTAS"
          ],
          [
           "Falta de dinheiro/ salário baixo/ sem condições/ falta de capital"
          ],
          [
           "OUTRAS RESPOSTAS"
          ],
          [
           "Falta de dinheiro/ salário baixo/ sem condições/ falta de capital"
          ],
          [
           "OUTRAS RESPOSTAS"
          ],
          [
           "Falta de dinheiro/ salário baixo/ sem condições/ falta de capital"
          ],
          [
           "Falta de dinheiro/ salário baixo/ sem condições/ falta de capital"
          ],
          [
           "Falta de dinheiro/ salário baixo/ sem condições/ falta de capital"
          ],
          [
           "Falta de dinheiro/ salário baixo/ sem condições/ falta de capital"
          ],
          [
           "Desemprego/ não tem emprego fixo/ sem renda"
          ],
          [
           "OUTRAS RESPOSTAS"
          ],
          [
           "Desemprego/ não tem emprego fixo/ sem renda"
          ],
          [
           "Falta de dinheiro/ salário baixo/ sem condições/ falta de capital"
          ],
          [
           "Desemprego/ não tem emprego fixo/ sem renda"
          ],
          [
           "OUTRAS RESPOSTAS"
          ],
          [
           "Falta de dinheiro/ salário baixo/ sem condições/ falta de capital"
          ],
          [
           "OUTRAS RESPOSTAS"
          ],
          [
           "Falta de dinheiro/ salário baixo/ sem condições/ falta de capital"
          ],
          [
           "Falta de dinheiro/ salário baixo/ sem condições/ falta de capital"
          ],
          [
           "Falta de dinheiro/ salário baixo/ sem condições/ falta de capital"
          ],
          [
           "Falta de dinheiro/ salário baixo/ sem condições/ falta de capital"
          ],
          [
           "Falta de dinheiro/ salário baixo/ sem condições/ falta de capital"
          ],
          [
           "Falta de dinheiro/ salário baixo/ sem condições/ falta de capital"
          ],
          [
           "Falta de dinheiro/ salário baixo/ sem condições/ falta de capital"
          ],
          [
           "OUTRAS RESPOSTAS"
          ],
          [
           "Falta de dinheiro/ salário baixo/ sem condições/ falta de capital"
          ],
          [
           "OUTRAS RESPOSTAS"
          ],
          [
           "Falta de dinheiro/ salário baixo/ sem condições/ falta de capital"
          ],
          [
           "Desemprego/ não tem emprego fixo/ sem renda"
          ],
          [
           "Falta de dinheiro/ salário baixo/ sem condições/ falta de capital"
          ],
          [
           "OUTRAS RESPOSTAS"
          ],
          [
           "Desemprego/ não tem emprego fixo/ sem renda"
          ],
          [
           "Falta de dinheiro/ salário baixo/ sem condições/ falta de capital"
          ],
          [
           "Falta de dinheiro/ salário baixo/ sem condições/ falta de capital"
          ],
          [
           "OUTRAS RESPOSTAS"
          ],
          [
           "Falta de dinheiro/ salário baixo/ sem condições/ falta de capital"
          ],
          [
           "Desemprego/ não tem emprego fixo/ sem renda"
          ],
          [
           "OUTRAS RESPOSTAS"
          ],
          [
           "OUTRAS RESPOSTAS"
          ],
          [
           "Desemprego/ não tem emprego fixo/ sem renda"
          ],
          [
           "Teve outros gastos (doença/ ajudou parentes/ contas para pagar/ dívidas/ viagem/ festas/ compras/ estudos/ saúde)"
          ],
          [
           "Falta de dinheiro/ salário baixo/ sem condições/ falta de capital"
          ],
          [
           "OUTRAS RESPOSTAS"
          ],
          [
           "Falta de dinheiro/ salário baixo/ sem condições/ falta de capital"
          ],
          [
           "Falta de dinheiro/ salário baixo/ sem condições/ falta de capital"
          ],
          [
           "OUTRAS RESPOSTAS"
          ],
          [
           "OUTRAS RESPOSTAS"
          ],
          [
           "Falta de dinheiro/ salário baixo/ sem condições/ falta de capital"
          ],
          [
           "Desemprego/ não tem emprego fixo/ sem renda"
          ],
          [
           "OUTRAS RESPOSTAS"
          ],
          [
           "OUTRAS RESPOSTAS"
          ],
          [
           "OUTRAS RESPOSTAS"
          ],
          [
           "Falta de dinheiro/ salário baixo/ sem condições/ falta de capital"
          ],
          [
           "OUTRAS RESPOSTAS"
          ],
          [
           "OUTRAS RESPOSTAS"
          ],
          [
           "Falta de dinheiro/ salário baixo/ sem condições/ falta de capital"
          ],
          [
           "OUTRAS RESPOSTAS"
          ],
          [
           "OUTRAS RESPOSTAS"
          ],
          [
           "OUTRAS RESPOSTAS"
          ],
          [
           "Falta de dinheiro/ salário baixo/ sem condições/ falta de capital"
          ],
          [
           "OUTRAS RESPOSTAS"
          ],
          [
           "Falta de dinheiro/ salário baixo/ sem condições/ falta de capital"
          ],
          [
           "Falta de dinheiro/ salário baixo/ sem condições/ falta de capital"
          ],
          [
           "OUTRAS RESPOSTAS"
          ],
          [
           "Falta de dinheiro/ salário baixo/ sem condições/ falta de capital"
          ],
          [
           "OUTRAS RESPOSTAS"
          ],
          [
           "Falta de dinheiro/ salário baixo/ sem condições/ falta de capital"
          ],
          [
           "Desemprego/ não tem emprego fixo/ sem renda"
          ],
          [
           "Desemprego/ não tem emprego fixo/ sem renda"
          ],
          [
           "Falta de dinheiro/ salário baixo/ sem condições/ falta de capital"
          ],
          [
           "Falta de dinheiro/ salário baixo/ sem condições/ falta de capital"
          ],
          [
           "OUTRAS RESPOSTAS"
          ],
          [
           "Falta de dinheiro/ salário baixo/ sem condições/ falta de capital"
          ],
          [
           "Falta de dinheiro/ salário baixo/ sem condições/ falta de capital"
          ],
          [
           "Teve outros gastos (doença/ ajudou parentes/ contas para pagar/ dívidas/ viagem/ festas/ compras/ estudos/ saúde)"
          ],
          [
           "OUTRAS RESPOSTAS"
          ],
          [
           "OUTRAS RESPOSTAS"
          ],
          [
           "Teve outros gastos (doença/ ajudou parentes/ contas para pagar/ dívidas/ viagem/ festas/ compras/ estudos/ saúde)"
          ],
          [
           "OUTRAS RESPOSTAS"
          ],
          [
           "OUTRAS RESPOSTAS"
          ],
          [
           "Falta de dinheiro/ salário baixo/ sem condições/ falta de capital"
          ],
          [
           "Falta de dinheiro/ salário baixo/ sem condições/ falta de capital"
          ],
          [
           "OUTRAS RESPOSTAS"
          ],
          [
           "OUTRAS RESPOSTAS"
          ],
          [
           "Falta de dinheiro/ salário baixo/ sem condições/ falta de capital"
          ],
          [
           "OUTRAS RESPOSTAS"
          ],
          [
           "Desemprego/ não tem emprego fixo/ sem renda"
          ],
          [
           "Falta de dinheiro/ salário baixo/ sem condições/ falta de capital"
          ],
          [
           "Falta de dinheiro/ salário baixo/ sem condições/ falta de capital"
          ],
          [
           "Falta de dinheiro/ salário baixo/ sem condições/ falta de capital"
          ],
          [
           "Falta de dinheiro/ salário baixo/ sem condições/ falta de capital"
          ],
          [
           "Falta de dinheiro/ salário baixo/ sem condições/ falta de capital"
          ],
          [
           "Falta de dinheiro/ salário baixo/ sem condições/ falta de capital"
          ],
          [
           "OUTRAS RESPOSTAS"
          ],
          [
           "OUTRAS RESPOSTAS"
          ],
          [
           "Falta de dinheiro/ salário baixo/ sem condições/ falta de capital"
          ],
          [
           "Desemprego/ não tem emprego fixo/ sem renda"
          ],
          [
           "Falta de dinheiro/ salário baixo/ sem condições/ falta de capital"
          ],
          [
           "OUTRAS RESPOSTAS"
          ],
          [
           "Falta de dinheiro/ salário baixo/ sem condições/ falta de capital"
          ],
          [
           "OUTRAS RESPOSTAS"
          ],
          [
           "OUTRAS RESPOSTAS"
          ],
          [
           "Falta de dinheiro/ salário baixo/ sem condições/ falta de capital"
          ],
          [
           "OUTRAS RESPOSTAS"
          ],
          [
           "Falta de dinheiro/ salário baixo/ sem condições/ falta de capital"
          ],
          [
           "OUTRAS RESPOSTAS"
          ],
          [
           "OUTRAS RESPOSTAS"
          ],
          [
           "OUTRAS RESPOSTAS"
          ],
          [
           "OUTRAS RESPOSTAS"
          ],
          [
           "OUTRAS RESPOSTAS"
          ],
          [
           "OUTRAS RESPOSTAS"
          ],
          [
           "Falta de dinheiro/ salário baixo/ sem condições/ falta de capital"
          ],
          [
           "Falta de dinheiro/ salário baixo/ sem condições/ falta de capital"
          ],
          [
           "Falta de dinheiro/ salário baixo/ sem condições/ falta de capital"
          ],
          [
           "Falta de dinheiro/ salário baixo/ sem condições/ falta de capital"
          ],
          [
           "Falta de dinheiro/ salário baixo/ sem condições/ falta de capital"
          ],
          [
           "Falta de dinheiro/ salário baixo/ sem condições/ falta de capital"
          ],
          [
           "Falta de dinheiro/ salário baixo/ sem condições/ falta de capital"
          ],
          [
           "OUTRAS RESPOSTAS"
          ],
          [
           "Teve outros gastos (doença/ ajudou parentes/ contas para pagar/ dívidas/ viagem/ festas/ compras/ estudos/ saúde)"
          ],
          [
           "Teve outros gastos (doença/ ajudou parentes/ contas para pagar/ dívidas/ viagem/ festas/ compras/ estudos/ saúde)"
          ],
          [
           "OUTRAS RESPOSTAS"
          ],
          [
           "Falta de dinheiro/ salário baixo/ sem condições/ falta de capital"
          ],
          [
           "OUTRAS RESPOSTAS"
          ],
          [
           "OUTRAS RESPOSTAS"
          ],
          [
           "OUTRAS RESPOSTAS"
          ],
          [
           "Falta de dinheiro/ salário baixo/ sem condições/ falta de capital"
          ],
          [
           "OUTRAS RESPOSTAS"
          ],
          [
           "Falta de dinheiro/ salário baixo/ sem condições/ falta de capital"
          ],
          [
           "OUTRAS RESPOSTAS"
          ],
          [
           "OUTRAS RESPOSTAS"
          ],
          [
           "Desemprego/ não tem emprego fixo/ sem renda"
          ],
          [
           "Teve outros gastos (doença/ ajudou parentes/ contas para pagar/ dívidas/ viagem/ festas/ compras/ estudos/ saúde)"
          ],
          [
           "Falta de dinheiro/ salário baixo/ sem condições/ falta de capital"
          ],
          [
           "Falta de dinheiro/ salário baixo/ sem condições/ falta de capital"
          ],
          [
           "Falta de dinheiro/ salário baixo/ sem condições/ falta de capital"
          ],
          [
           "OUTRAS RESPOSTAS"
          ],
          [
           "OUTRAS RESPOSTAS"
          ],
          [
           "Desemprego/ não tem emprego fixo/ sem renda"
          ],
          [
           "Falta de dinheiro/ salário baixo/ sem condições/ falta de capital"
          ],
          [
           "OUTRAS RESPOSTAS"
          ],
          [
           "Teve outros gastos (doença/ ajudou parentes/ contas para pagar/ dívidas/ viagem/ festas/ compras/ estudos/ saúde)"
          ],
          [
           "Desemprego/ não tem emprego fixo/ sem renda"
          ],
          [
           "Desemprego/ não tem emprego fixo/ sem renda"
          ],
          [
           "Desemprego/ não tem emprego fixo/ sem renda"
          ],
          [
           "OUTRAS RESPOSTAS"
          ],
          [
           "OUTRAS RESPOSTAS"
          ],
          [
           "OUTRAS RESPOSTAS"
          ],
          [
           "OUTRAS RESPOSTAS"
          ],
          [
           "OUTRAS RESPOSTAS"
          ],
          [
           "OUTRAS RESPOSTAS"
          ],
          [
           "OUTRAS RESPOSTAS"
          ],
          [
           "Falta de dinheiro/ salário baixo/ sem condições/ falta de capital"
          ],
          [
           "Falta de dinheiro/ salário baixo/ sem condições/ falta de capital"
          ],
          [
           "Falta de dinheiro/ salário baixo/ sem condições/ falta de capital"
          ],
          [
           "OUTRAS RESPOSTAS"
          ],
          [
           "Falta de dinheiro/ salário baixo/ sem condições/ falta de capital"
          ],
          [
           "Falta de dinheiro/ salário baixo/ sem condições/ falta de capital"
          ],
          [
           "OUTRAS RESPOSTAS"
          ],
          [
           "OUTRAS RESPOSTAS"
          ],
          [
           "Desemprego/ não tem emprego fixo/ sem renda"
          ],
          [
           "Desemprego/ não tem emprego fixo/ sem renda"
          ],
          [
           "OUTRAS RESPOSTAS"
          ],
          [
           "OUTRAS RESPOSTAS"
          ],
          [
           "Desemprego/ não tem emprego fixo/ sem renda"
          ],
          [
           "Falta de dinheiro/ salário baixo/ sem condições/ falta de capital"
          ],
          [
           "OUTRAS RESPOSTAS"
          ],
          [
           "Desemprego/ não tem emprego fixo/ sem renda"
          ],
          [
           "Falta de dinheiro/ salário baixo/ sem condições/ falta de capital"
          ],
          [
           "Falta de dinheiro/ salário baixo/ sem condições/ falta de capital"
          ],
          [
           "Teve outros gastos (doença/ ajudou parentes/ contas para pagar/ dívidas/ viagem/ festas/ compras/ estudos/ saúde)"
          ],
          [
           "Falta de dinheiro/ salário baixo/ sem condições/ falta de capital"
          ],
          [
           "Falta de dinheiro/ salário baixo/ sem condições/ falta de capital"
          ],
          [
           "OUTRAS RESPOSTAS"
          ],
          [
           "Desemprego/ não tem emprego fixo/ sem renda"
          ],
          [
           "Falta de dinheiro/ salário baixo/ sem condições/ falta de capital"
          ],
          [
           "OUTRAS RESPOSTAS"
          ],
          [
           "OUTRAS RESPOSTAS"
          ],
          [
           "Teve outros gastos (doença/ ajudou parentes/ contas para pagar/ dívidas/ viagem/ festas/ compras/ estudos/ saúde)"
          ],
          [
           "Falta de dinheiro/ salário baixo/ sem condições/ falta de capital"
          ],
          [
           "Falta de dinheiro/ salário baixo/ sem condições/ falta de capital"
          ],
          [
           "Falta de dinheiro/ salário baixo/ sem condições/ falta de capital"
          ],
          [
           "Falta de dinheiro/ salário baixo/ sem condições/ falta de capital"
          ],
          [
           "OUTRAS RESPOSTAS"
          ],
          [
           "Falta de dinheiro/ salário baixo/ sem condições/ falta de capital"
          ],
          [
           "Desemprego/ não tem emprego fixo/ sem renda"
          ],
          [
           "Falta de dinheiro/ salário baixo/ sem condições/ falta de capital"
          ],
          [
           "Falta de dinheiro/ salário baixo/ sem condições/ falta de capital"
          ],
          [
           "OUTRAS RESPOSTAS"
          ],
          [
           "OUTRAS RESPOSTAS"
          ],
          [
           "Falta de dinheiro/ salário baixo/ sem condições/ falta de capital"
          ],
          [
           "Falta de dinheiro/ salário baixo/ sem condições/ falta de capital"
          ],
          [
           "Desemprego/ não tem emprego fixo/ sem renda"
          ],
          [
           "OUTRAS RESPOSTAS"
          ],
          [
           "OUTRAS RESPOSTAS"
          ],
          [
           "Desemprego/ não tem emprego fixo/ sem renda"
          ],
          [
           "Falta de dinheiro/ salário baixo/ sem condições/ falta de capital"
          ],
          [
           "OUTRAS RESPOSTAS"
          ],
          [
           "OUTRAS RESPOSTAS"
          ],
          [
           "Desemprego/ não tem emprego fixo/ sem renda"
          ],
          [
           "OUTRAS RESPOSTAS"
          ],
          [
           "OUTRAS RESPOSTAS"
          ],
          [
           "Falta de dinheiro/ salário baixo/ sem condições/ falta de capital"
          ],
          [
           "Falta de dinheiro/ salário baixo/ sem condições/ falta de capital"
          ],
          [
           "Falta de dinheiro/ salário baixo/ sem condições/ falta de capital"
          ],
          [
           "Falta de dinheiro/ salário baixo/ sem condições/ falta de capital"
          ],
          [
           "OUTRAS RESPOSTAS"
          ],
          [
           "Desemprego/ não tem emprego fixo/ sem renda"
          ],
          [
           "OUTRAS RESPOSTAS"
          ],
          [
           "Desemprego/ não tem emprego fixo/ sem renda"
          ],
          [
           "OUTRAS RESPOSTAS"
          ],
          [
           "Falta de dinheiro/ salário baixo/ sem condições/ falta de capital"
          ],
          [
           "OUTRAS RESPOSTAS"
          ],
          [
           "OUTRAS RESPOSTAS"
          ],
          [
           "Falta de dinheiro/ salário baixo/ sem condições/ falta de capital"
          ],
          [
           "OUTRAS RESPOSTAS"
          ],
          [
           "OUTRAS RESPOSTAS"
          ],
          [
           "OUTRAS RESPOSTAS"
          ],
          [
           "Desemprego/ não tem emprego fixo/ sem renda"
          ],
          [
           "OUTRAS RESPOSTAS"
          ],
          [
           "Falta de dinheiro/ salário baixo/ sem condições/ falta de capital"
          ],
          [
           "OUTRAS RESPOSTAS"
          ],
          [
           "Falta de dinheiro/ salário baixo/ sem condições/ falta de capital"
          ],
          [
           "OUTRAS RESPOSTAS"
          ],
          [
           "Falta de dinheiro/ salário baixo/ sem condições/ falta de capital"
          ],
          [
           "OUTRAS RESPOSTAS"
          ],
          [
           "Desemprego/ não tem emprego fixo/ sem renda"
          ],
          [
           "Desemprego/ não tem emprego fixo/ sem renda"
          ],
          [
           "Falta de dinheiro/ salário baixo/ sem condições/ falta de capital"
          ],
          [
           "Desemprego/ não tem emprego fixo/ sem renda"
          ],
          [
           "Teve outros gastos (doença/ ajudou parentes/ contas para pagar/ dívidas/ viagem/ festas/ compras/ estudos/ saúde)"
          ],
          [
           "Falta de dinheiro/ salário baixo/ sem condições/ falta de capital"
          ],
          [
           "OUTRAS RESPOSTAS"
          ],
          [
           "Falta de dinheiro/ salário baixo/ sem condições/ falta de capital"
          ],
          [
           "Falta de dinheiro/ salário baixo/ sem condições/ falta de capital"
          ],
          [
           "OUTRAS RESPOSTAS"
          ],
          [
           "Falta de dinheiro/ salário baixo/ sem condições/ falta de capital"
          ],
          [
           "Falta de dinheiro/ salário baixo/ sem condições/ falta de capital"
          ],
          [
           "Desemprego/ não tem emprego fixo/ sem renda"
          ],
          [
           "Desemprego/ não tem emprego fixo/ sem renda"
          ],
          [
           "OUTRAS RESPOSTAS"
          ],
          [
           "Desemprego/ não tem emprego fixo/ sem renda"
          ],
          [
           "Desemprego/ não tem emprego fixo/ sem renda"
          ],
          [
           "Falta de dinheiro/ salário baixo/ sem condições/ falta de capital"
          ],
          [
           "OUTRAS RESPOSTAS"
          ],
          [
           "OUTRAS RESPOSTAS"
          ],
          [
           "OUTRAS RESPOSTAS"
          ],
          [
           "OUTRAS RESPOSTAS"
          ],
          [
           "OUTRAS RESPOSTAS"
          ],
          [
           "Desemprego/ não tem emprego fixo/ sem renda"
          ],
          [
           "Desemprego/ não tem emprego fixo/ sem renda"
          ],
          [
           "OUTRAS RESPOSTAS"
          ],
          [
           "OUTRAS RESPOSTAS"
          ],
          [
           "Falta de dinheiro/ salário baixo/ sem condições/ falta de capital"
          ],
          [
           "Falta de dinheiro/ salário baixo/ sem condições/ falta de capital"
          ],
          [
           "OUTRAS RESPOSTAS"
          ],
          [
           "Falta de dinheiro/ salário baixo/ sem condições/ falta de capital"
          ],
          [
           "Desemprego/ não tem emprego fixo/ sem renda"
          ],
          [
           "OUTRAS RESPOSTAS"
          ],
          [
           "Teve outros gastos (doença/ ajudou parentes/ contas para pagar/ dívidas/ viagem/ festas/ compras/ estudos/ saúde)"
          ],
          [
           "OUTRAS RESPOSTAS"
          ],
          [
           "Falta de dinheiro/ salário baixo/ sem condições/ falta de capital"
          ],
          [
           "OUTRAS RESPOSTAS"
          ],
          [
           "Falta de dinheiro/ salário baixo/ sem condições/ falta de capital"
          ],
          [
           "Desemprego/ não tem emprego fixo/ sem renda"
          ],
          [
           "OUTRAS RESPOSTAS"
          ],
          [
           "Desemprego/ não tem emprego fixo/ sem renda"
          ],
          [
           "OUTRAS RESPOSTAS"
          ],
          [
           "Falta de dinheiro/ salário baixo/ sem condições/ falta de capital"
          ],
          [
           "Falta de dinheiro/ salário baixo/ sem condições/ falta de capital"
          ],
          [
           "Falta de dinheiro/ salário baixo/ sem condições/ falta de capital"
          ],
          [
           "OUTRAS RESPOSTAS"
          ],
          [
           "Falta de dinheiro/ salário baixo/ sem condições/ falta de capital"
          ],
          [
           "Falta de dinheiro/ salário baixo/ sem condições/ falta de capital"
          ],
          [
           "Teve outros gastos (doença/ ajudou parentes/ contas para pagar/ dívidas/ viagem/ festas/ compras/ estudos/ saúde)"
          ],
          [
           "Falta de dinheiro/ salário baixo/ sem condições/ falta de capital"
          ],
          [
           "Falta de dinheiro/ salário baixo/ sem condições/ falta de capital"
          ],
          [
           "Falta de dinheiro/ salário baixo/ sem condições/ falta de capital"
          ],
          [
           "Falta de dinheiro/ salário baixo/ sem condições/ falta de capital"
          ],
          [
           "Teve outros gastos (doença/ ajudou parentes/ contas para pagar/ dívidas/ viagem/ festas/ compras/ estudos/ saúde)"
          ],
          [
           "Falta de dinheiro/ salário baixo/ sem condições/ falta de capital"
          ],
          [
           "Falta de dinheiro/ salário baixo/ sem condições/ falta de capital"
          ],
          [
           "OUTRAS RESPOSTAS"
          ],
          [
           "Falta de dinheiro/ salário baixo/ sem condições/ falta de capital"
          ],
          [
           "Falta de dinheiro/ salário baixo/ sem condições/ falta de capital"
          ],
          [
           "Falta de dinheiro/ salário baixo/ sem condições/ falta de capital"
          ],
          [
           "OUTRAS RESPOSTAS"
          ],
          [
           "Falta de dinheiro/ salário baixo/ sem condições/ falta de capital"
          ],
          [
           "Falta de dinheiro/ salário baixo/ sem condições/ falta de capital"
          ],
          [
           "OUTRAS RESPOSTAS"
          ],
          [
           "Teve outros gastos (doença/ ajudou parentes/ contas para pagar/ dívidas/ viagem/ festas/ compras/ estudos/ saúde)"
          ],
          [
           "Falta de dinheiro/ salário baixo/ sem condições/ falta de capital"
          ],
          [
           "Falta de dinheiro/ salário baixo/ sem condições/ falta de capital"
          ],
          [
           "Falta de dinheiro/ salário baixo/ sem condições/ falta de capital"
          ],
          [
           "OUTRAS RESPOSTAS"
          ],
          [
           "Falta de dinheiro/ salário baixo/ sem condições/ falta de capital"
          ],
          [
           "Falta de dinheiro/ salário baixo/ sem condições/ falta de capital"
          ],
          [
           "Falta de dinheiro/ salário baixo/ sem condições/ falta de capital"
          ],
          [
           "Falta de dinheiro/ salário baixo/ sem condições/ falta de capital"
          ],
          [
           "OUTRAS RESPOSTAS"
          ],
          [
           "Falta de dinheiro/ salário baixo/ sem condições/ falta de capital"
          ],
          [
           "Falta de dinheiro/ salário baixo/ sem condições/ falta de capital"
          ],
          [
           "OUTRAS RESPOSTAS"
          ],
          [
           "Falta de dinheiro/ salário baixo/ sem condições/ falta de capital"
          ],
          [
           "Teve outros gastos (doença/ ajudou parentes/ contas para pagar/ dívidas/ viagem/ festas/ compras/ estudos/ saúde)"
          ],
          [
           "Falta de dinheiro/ salário baixo/ sem condições/ falta de capital"
          ],
          [
           "Desemprego/ não tem emprego fixo/ sem renda"
          ],
          [
           "OUTRAS RESPOSTAS"
          ],
          [
           "Falta de dinheiro/ salário baixo/ sem condições/ falta de capital"
          ],
          [
           "Teve outros gastos (doença/ ajudou parentes/ contas para pagar/ dívidas/ viagem/ festas/ compras/ estudos/ saúde)"
          ],
          [
           "OUTRAS RESPOSTAS"
          ],
          [
           "OUTRAS RESPOSTAS"
          ],
          [
           "Falta de dinheiro/ salário baixo/ sem condições/ falta de capital"
          ],
          [
           "Desemprego/ não tem emprego fixo/ sem renda"
          ],
          [
           "OUTRAS RESPOSTAS"
          ],
          [
           "OUTRAS RESPOSTAS"
          ],
          [
           "Falta de dinheiro/ salário baixo/ sem condições/ falta de capital"
          ],
          [
           "OUTRAS RESPOSTAS"
          ],
          [
           "Falta de dinheiro/ salário baixo/ sem condições/ falta de capital"
          ],
          [
           "OUTRAS RESPOSTAS"
          ],
          [
           "OUTRAS RESPOSTAS"
          ],
          [
           "Falta de dinheiro/ salário baixo/ sem condições/ falta de capital"
          ],
          [
           "Desemprego/ não tem emprego fixo/ sem renda"
          ],
          [
           "Teve outros gastos (doença/ ajudou parentes/ contas para pagar/ dívidas/ viagem/ festas/ compras/ estudos/ saúde)"
          ],
          [
           "OUTRAS RESPOSTAS"
          ],
          [
           "OUTRAS RESPOSTAS"
          ],
          [
           "OUTRAS RESPOSTAS"
          ],
          [
           "OUTRAS RESPOSTAS"
          ],
          [
           "Desemprego/ não tem emprego fixo/ sem renda"
          ],
          [
           "OUTRAS RESPOSTAS"
          ],
          [
           "OUTRAS RESPOSTAS"
          ],
          [
           "OUTRAS RESPOSTAS"
          ],
          [
           "OUTRAS RESPOSTAS"
          ],
          [
           "Falta de dinheiro/ salário baixo/ sem condições/ falta de capital"
          ],
          [
           "OUTRAS RESPOSTAS"
          ],
          [
           "Falta de dinheiro/ salário baixo/ sem condições/ falta de capital"
          ],
          [
           "Falta de dinheiro/ salário baixo/ sem condições/ falta de capital"
          ],
          [
           "OUTRAS RESPOSTAS"
          ],
          [
           "Falta de dinheiro/ salário baixo/ sem condições/ falta de capital"
          ],
          [
           "OUTRAS RESPOSTAS"
          ],
          [
           "OUTRAS RESPOSTAS"
          ],
          [
           "Falta de dinheiro/ salário baixo/ sem condições/ falta de capital"
          ],
          [
           "Falta de dinheiro/ salário baixo/ sem condições/ falta de capital"
          ],
          [
           "Desemprego/ não tem emprego fixo/ sem renda"
          ],
          [
           "OUTRAS RESPOSTAS"
          ],
          [
           "OUTRAS RESPOSTAS"
          ],
          [
           "Desemprego/ não tem emprego fixo/ sem renda"
          ],
          [
           "Falta de dinheiro/ salário baixo/ sem condições/ falta de capital"
          ],
          [
           "Teve outros gastos (doença/ ajudou parentes/ contas para pagar/ dívidas/ viagem/ festas/ compras/ estudos/ saúde)"
          ],
          [
           "Desemprego/ não tem emprego fixo/ sem renda"
          ],
          [
           "Falta de dinheiro/ salário baixo/ sem condições/ falta de capital"
          ],
          [
           "Desemprego/ não tem emprego fixo/ sem renda"
          ],
          [
           "OUTRAS RESPOSTAS"
          ],
          [
           "Falta de dinheiro/ salário baixo/ sem condições/ falta de capital"
          ],
          [
           "OUTRAS RESPOSTAS"
          ],
          [
           "OUTRAS RESPOSTAS"
          ],
          [
           "OUTRAS RESPOSTAS"
          ],
          [
           "Desemprego/ não tem emprego fixo/ sem renda"
          ],
          [
           "Falta de dinheiro/ salário baixo/ sem condições/ falta de capital"
          ],
          [
           "OUTRAS RESPOSTAS"
          ],
          [
           "OUTRAS RESPOSTAS"
          ],
          [
           "Desemprego/ não tem emprego fixo/ sem renda"
          ],
          [
           "OUTRAS RESPOSTAS"
          ],
          [
           "OUTRAS RESPOSTAS"
          ],
          [
           "Desemprego/ não tem emprego fixo/ sem renda"
          ],
          [
           "OUTRAS RESPOSTAS"
          ],
          [
           "Falta de dinheiro/ salário baixo/ sem condições/ falta de capital"
          ],
          [
           "Desemprego/ não tem emprego fixo/ sem renda"
          ],
          [
           "Desemprego/ não tem emprego fixo/ sem renda"
          ],
          [
           "Falta de dinheiro/ salário baixo/ sem condições/ falta de capital"
          ],
          [
           "Falta de dinheiro/ salário baixo/ sem condições/ falta de capital"
          ],
          [
           "OUTRAS RESPOSTAS"
          ],
          [
           "Falta de dinheiro/ salário baixo/ sem condições/ falta de capital"
          ],
          [
           "Falta de dinheiro/ salário baixo/ sem condições/ falta de capital"
          ],
          [
           "Falta de dinheiro/ salário baixo/ sem condições/ falta de capital"
          ],
          [
           "Falta de dinheiro/ salário baixo/ sem condições/ falta de capital"
          ],
          [
           "Desemprego/ não tem emprego fixo/ sem renda"
          ],
          [
           "Falta de dinheiro/ salário baixo/ sem condições/ falta de capital"
          ],
          [
           "OUTRAS RESPOSTAS"
          ],
          [
           "OUTRAS RESPOSTAS"
          ],
          [
           "OUTRAS RESPOSTAS"
          ],
          [
           "OUTRAS RESPOSTAS"
          ],
          [
           "Falta de dinheiro/ salário baixo/ sem condições/ falta de capital"
          ],
          [
           "Falta de dinheiro/ salário baixo/ sem condições/ falta de capital"
          ],
          [
           "Falta de dinheiro/ salário baixo/ sem condições/ falta de capital"
          ],
          [
           "Falta de dinheiro/ salário baixo/ sem condições/ falta de capital"
          ],
          [
           "OUTRAS RESPOSTAS"
          ],
          [
           "Falta de dinheiro/ salário baixo/ sem condições/ falta de capital"
          ],
          [
           "Falta de dinheiro/ salário baixo/ sem condições/ falta de capital"
          ],
          [
           "OUTRAS RESPOSTAS"
          ],
          [
           "Falta de dinheiro/ salário baixo/ sem condições/ falta de capital"
          ],
          [
           "Desemprego/ não tem emprego fixo/ sem renda"
          ],
          [
           "OUTRAS RESPOSTAS"
          ],
          [
           "Desemprego/ não tem emprego fixo/ sem renda"
          ],
          [
           "Falta de dinheiro/ salário baixo/ sem condições/ falta de capital"
          ],
          [
           "Desemprego/ não tem emprego fixo/ sem renda"
          ],
          [
           "Desemprego/ não tem emprego fixo/ sem renda"
          ],
          [
           "Falta de dinheiro/ salário baixo/ sem condições/ falta de capital"
          ],
          [
           "Falta de dinheiro/ salário baixo/ sem condições/ falta de capital"
          ],
          [
           "Teve outros gastos (doença/ ajudou parentes/ contas para pagar/ dívidas/ viagem/ festas/ compras/ estudos/ saúde)"
          ],
          [
           "Falta de dinheiro/ salário baixo/ sem condições/ falta de capital"
          ],
          [
           "Falta de dinheiro/ salário baixo/ sem condições/ falta de capital"
          ],
          [
           "Desemprego/ não tem emprego fixo/ sem renda"
          ],
          [
           "OUTRAS RESPOSTAS"
          ],
          [
           "OUTRAS RESPOSTAS"
          ],
          [
           "OUTRAS RESPOSTAS"
          ],
          [
           "OUTRAS RESPOSTAS"
          ],
          [
           "OUTRAS RESPOSTAS"
          ],
          [
           "OUTRAS RESPOSTAS"
          ],
          [
           "Falta de dinheiro/ salário baixo/ sem condições/ falta de capital"
          ],
          [
           "OUTRAS RESPOSTAS"
          ],
          [
           "Falta de dinheiro/ salário baixo/ sem condições/ falta de capital"
          ],
          [
           "Falta de dinheiro/ salário baixo/ sem condições/ falta de capital"
          ],
          [
           "OUTRAS RESPOSTAS"
          ],
          [
           "Teve outros gastos (doença/ ajudou parentes/ contas para pagar/ dívidas/ viagem/ festas/ compras/ estudos/ saúde)"
          ],
          [
           "OUTRAS RESPOSTAS"
          ],
          [
           "Desemprego/ não tem emprego fixo/ sem renda"
          ],
          [
           "Falta de dinheiro/ salário baixo/ sem condições/ falta de capital"
          ],
          [
           "Falta de dinheiro/ salário baixo/ sem condições/ falta de capital"
          ],
          [
           "Falta de dinheiro/ salário baixo/ sem condições/ falta de capital"
          ],
          [
           "Desemprego/ não tem emprego fixo/ sem renda"
          ],
          [
           "OUTRAS RESPOSTAS"
          ],
          [
           "OUTRAS RESPOSTAS"
          ],
          [
           "OUTRAS RESPOSTAS"
          ],
          [
           "Falta de dinheiro/ salário baixo/ sem condições/ falta de capital"
          ],
          [
           "Falta de dinheiro/ salário baixo/ sem condições/ falta de capital"
          ],
          [
           "Desemprego/ não tem emprego fixo/ sem renda"
          ],
          [
           "OUTRAS RESPOSTAS"
          ],
          [
           "OUTRAS RESPOSTAS"
          ],
          [
           "OUTRAS RESPOSTAS"
          ],
          [
           "Falta de dinheiro/ salário baixo/ sem condições/ falta de capital"
          ],
          [
           "Falta de dinheiro/ salário baixo/ sem condições/ falta de capital"
          ],
          [
           "Falta de dinheiro/ salário baixo/ sem condições/ falta de capital"
          ],
          [
           "OUTRAS RESPOSTAS"
          ],
          [
           "Teve outros gastos (doença/ ajudou parentes/ contas para pagar/ dívidas/ viagem/ festas/ compras/ estudos/ saúde)"
          ],
          [
           "OUTRAS RESPOSTAS"
          ],
          [
           "Teve outros gastos (doença/ ajudou parentes/ contas para pagar/ dívidas/ viagem/ festas/ compras/ estudos/ saúde)"
          ],
          [
           "Teve outros gastos (doença/ ajudou parentes/ contas para pagar/ dívidas/ viagem/ festas/ compras/ estudos/ saúde)"
          ],
          [
           "Desemprego/ não tem emprego fixo/ sem renda"
          ],
          [
           "OUTRAS RESPOSTAS"
          ],
          [
           "Falta de dinheiro/ salário baixo/ sem condições/ falta de capital"
          ],
          [
           "Desemprego/ não tem emprego fixo/ sem renda"
          ],
          [
           "Falta de dinheiro/ salário baixo/ sem condições/ falta de capital"
          ],
          [
           "OUTRAS RESPOSTAS"
          ],
          [
           "Falta de dinheiro/ salário baixo/ sem condições/ falta de capital"
          ],
          [
           "Falta de dinheiro/ salário baixo/ sem condições/ falta de capital"
          ],
          [
           "Falta de dinheiro/ salário baixo/ sem condições/ falta de capital"
          ],
          [
           "Teve outros gastos (doença/ ajudou parentes/ contas para pagar/ dívidas/ viagem/ festas/ compras/ estudos/ saúde)"
          ],
          [
           "OUTRAS RESPOSTAS"
          ],
          [
           "Desemprego/ não tem emprego fixo/ sem renda"
          ],
          [
           "Falta de dinheiro/ salário baixo/ sem condições/ falta de capital"
          ],
          [
           "Falta de dinheiro/ salário baixo/ sem condições/ falta de capital"
          ],
          [
           "Falta de dinheiro/ salário baixo/ sem condições/ falta de capital"
          ],
          [
           "OUTRAS RESPOSTAS"
          ],
          [
           "Teve outros gastos (doença/ ajudou parentes/ contas para pagar/ dívidas/ viagem/ festas/ compras/ estudos/ saúde)"
          ],
          [
           "Falta de dinheiro/ salário baixo/ sem condições/ falta de capital"
          ],
          [
           "OUTRAS RESPOSTAS"
          ],
          [
           "Falta de dinheiro/ salário baixo/ sem condições/ falta de capital"
          ],
          [
           "Falta de dinheiro/ salário baixo/ sem condições/ falta de capital"
          ],
          [
           "OUTRAS RESPOSTAS"
          ]
         ],
         "domain": {
          "x": [
           0,
           1
          ],
          "y": [
           0,
           1
          ]
         },
         "hovertemplate": "Motivo principal para não investimento=%{customdata[0]}<extra></extra>",
         "labels": [
          "Falta de dinheiro/ salário baixo/ sem condições/ falta de capital",
          "OUTRAS RESPOSTAS",
          "Falta de dinheiro/ salário baixo/ sem condições/ falta de capital",
          "Falta de dinheiro/ salário baixo/ sem condições/ falta de capital",
          "OUTRAS RESPOSTAS",
          "OUTRAS RESPOSTAS",
          "Falta de dinheiro/ salário baixo/ sem condições/ falta de capital",
          "Falta de dinheiro/ salário baixo/ sem condições/ falta de capital",
          "Falta de dinheiro/ salário baixo/ sem condições/ falta de capital",
          "OUTRAS RESPOSTAS",
          "Falta de dinheiro/ salário baixo/ sem condições/ falta de capital",
          "OUTRAS RESPOSTAS",
          "Falta de dinheiro/ salário baixo/ sem condições/ falta de capital",
          "Falta de dinheiro/ salário baixo/ sem condições/ falta de capital",
          "Falta de dinheiro/ salário baixo/ sem condições/ falta de capital",
          "Falta de dinheiro/ salário baixo/ sem condições/ falta de capital",
          "Falta de dinheiro/ salário baixo/ sem condições/ falta de capital",
          "Falta de dinheiro/ salário baixo/ sem condições/ falta de capital",
          "Teve outros gastos (doença/ ajudou parentes/ contas para pagar/ dívidas/ viagem/ festas/ compras/ estudos/ saúde)",
          "OUTRAS RESPOSTAS",
          "Falta de dinheiro/ salário baixo/ sem condições/ falta de capital",
          "OUTRAS RESPOSTAS",
          "OUTRAS RESPOSTAS",
          "Falta de dinheiro/ salário baixo/ sem condições/ falta de capital",
          "OUTRAS RESPOSTAS",
          "Falta de dinheiro/ salário baixo/ sem condições/ falta de capital",
          "OUTRAS RESPOSTAS",
          "Desemprego/ não tem emprego fixo/ sem renda",
          "Falta de dinheiro/ salário baixo/ sem condições/ falta de capital",
          "OUTRAS RESPOSTAS",
          "OUTRAS RESPOSTAS",
          "Falta de dinheiro/ salário baixo/ sem condições/ falta de capital",
          "OUTRAS RESPOSTAS",
          "OUTRAS RESPOSTAS",
          "Falta de dinheiro/ salário baixo/ sem condições/ falta de capital",
          "OUTRAS RESPOSTAS",
          "OUTRAS RESPOSTAS",
          "Falta de dinheiro/ salário baixo/ sem condições/ falta de capital",
          "OUTRAS RESPOSTAS",
          "Falta de dinheiro/ salário baixo/ sem condições/ falta de capital",
          "Falta de dinheiro/ salário baixo/ sem condições/ falta de capital",
          "Teve outros gastos (doença/ ajudou parentes/ contas para pagar/ dívidas/ viagem/ festas/ compras/ estudos/ saúde)",
          "OUTRAS RESPOSTAS",
          "Falta de dinheiro/ salário baixo/ sem condições/ falta de capital",
          "Falta de dinheiro/ salário baixo/ sem condições/ falta de capital",
          "Falta de dinheiro/ salário baixo/ sem condições/ falta de capital",
          "OUTRAS RESPOSTAS",
          "OUTRAS RESPOSTAS",
          "OUTRAS RESPOSTAS",
          "Falta de dinheiro/ salário baixo/ sem condições/ falta de capital",
          "OUTRAS RESPOSTAS",
          "Falta de dinheiro/ salário baixo/ sem condições/ falta de capital",
          "OUTRAS RESPOSTAS",
          "OUTRAS RESPOSTAS",
          "OUTRAS RESPOSTAS",
          "Falta de dinheiro/ salário baixo/ sem condições/ falta de capital",
          "Falta de dinheiro/ salário baixo/ sem condições/ falta de capital",
          "Teve outros gastos (doença/ ajudou parentes/ contas para pagar/ dívidas/ viagem/ festas/ compras/ estudos/ saúde)",
          "Falta de dinheiro/ salário baixo/ sem condições/ falta de capital",
          "Falta de dinheiro/ salário baixo/ sem condições/ falta de capital",
          "OUTRAS RESPOSTAS",
          "Desemprego/ não tem emprego fixo/ sem renda",
          "Falta de dinheiro/ salário baixo/ sem condições/ falta de capital",
          "OUTRAS RESPOSTAS",
          "Falta de dinheiro/ salário baixo/ sem condições/ falta de capital",
          "Falta de dinheiro/ salário baixo/ sem condições/ falta de capital",
          "OUTRAS RESPOSTAS",
          "Falta de dinheiro/ salário baixo/ sem condições/ falta de capital",
          "OUTRAS RESPOSTAS",
          "Falta de dinheiro/ salário baixo/ sem condições/ falta de capital",
          "Falta de dinheiro/ salário baixo/ sem condições/ falta de capital",
          "Desemprego/ não tem emprego fixo/ sem renda",
          "OUTRAS RESPOSTAS",
          "OUTRAS RESPOSTAS",
          "Falta de dinheiro/ salário baixo/ sem condições/ falta de capital",
          "Falta de dinheiro/ salário baixo/ sem condições/ falta de capital",
          "OUTRAS RESPOSTAS",
          "Falta de dinheiro/ salário baixo/ sem condições/ falta de capital",
          "Falta de dinheiro/ salário baixo/ sem condições/ falta de capital",
          "OUTRAS RESPOSTAS",
          "Falta de dinheiro/ salário baixo/ sem condições/ falta de capital",
          "Falta de dinheiro/ salário baixo/ sem condições/ falta de capital",
          "Falta de dinheiro/ salário baixo/ sem condições/ falta de capital",
          "Desemprego/ não tem emprego fixo/ sem renda",
          "OUTRAS RESPOSTAS",
          "OUTRAS RESPOSTAS",
          "OUTRAS RESPOSTAS",
          "Falta de dinheiro/ salário baixo/ sem condições/ falta de capital",
          "Falta de dinheiro/ salário baixo/ sem condições/ falta de capital",
          "Teve outros gastos (doença/ ajudou parentes/ contas para pagar/ dívidas/ viagem/ festas/ compras/ estudos/ saúde)",
          "OUTRAS RESPOSTAS",
          "OUTRAS RESPOSTAS",
          "OUTRAS RESPOSTAS",
          "OUTRAS RESPOSTAS",
          "Desemprego/ não tem emprego fixo/ sem renda",
          "OUTRAS RESPOSTAS",
          "OUTRAS RESPOSTAS",
          "Falta de dinheiro/ salário baixo/ sem condições/ falta de capital",
          "Falta de dinheiro/ salário baixo/ sem condições/ falta de capital",
          "Desemprego/ não tem emprego fixo/ sem renda",
          "Desemprego/ não tem emprego fixo/ sem renda",
          "Falta de dinheiro/ salário baixo/ sem condições/ falta de capital",
          "Falta de dinheiro/ salário baixo/ sem condições/ falta de capital",
          "OUTRAS RESPOSTAS",
          "Falta de dinheiro/ salário baixo/ sem condições/ falta de capital",
          "Falta de dinheiro/ salário baixo/ sem condições/ falta de capital",
          "Falta de dinheiro/ salário baixo/ sem condições/ falta de capital",
          "OUTRAS RESPOSTAS",
          "Falta de dinheiro/ salário baixo/ sem condições/ falta de capital",
          "Teve outros gastos (doença/ ajudou parentes/ contas para pagar/ dívidas/ viagem/ festas/ compras/ estudos/ saúde)",
          "OUTRAS RESPOSTAS",
          "Teve outros gastos (doença/ ajudou parentes/ contas para pagar/ dívidas/ viagem/ festas/ compras/ estudos/ saúde)",
          "Desemprego/ não tem emprego fixo/ sem renda",
          "OUTRAS RESPOSTAS",
          "OUTRAS RESPOSTAS",
          "Falta de dinheiro/ salário baixo/ sem condições/ falta de capital",
          "Falta de dinheiro/ salário baixo/ sem condições/ falta de capital",
          "OUTRAS RESPOSTAS",
          "OUTRAS RESPOSTAS",
          "Falta de dinheiro/ salário baixo/ sem condições/ falta de capital",
          "Falta de dinheiro/ salário baixo/ sem condições/ falta de capital",
          "Desemprego/ não tem emprego fixo/ sem renda",
          "Falta de dinheiro/ salário baixo/ sem condições/ falta de capital",
          "Desemprego/ não tem emprego fixo/ sem renda",
          "Teve outros gastos (doença/ ajudou parentes/ contas para pagar/ dívidas/ viagem/ festas/ compras/ estudos/ saúde)",
          "Falta de dinheiro/ salário baixo/ sem condições/ falta de capital",
          "Falta de dinheiro/ salário baixo/ sem condições/ falta de capital",
          "Desemprego/ não tem emprego fixo/ sem renda",
          "Falta de dinheiro/ salário baixo/ sem condições/ falta de capital",
          "Falta de dinheiro/ salário baixo/ sem condições/ falta de capital",
          "OUTRAS RESPOSTAS",
          "Falta de dinheiro/ salário baixo/ sem condições/ falta de capital",
          "Teve outros gastos (doença/ ajudou parentes/ contas para pagar/ dívidas/ viagem/ festas/ compras/ estudos/ saúde)",
          "OUTRAS RESPOSTAS",
          "Falta de dinheiro/ salário baixo/ sem condições/ falta de capital",
          "Falta de dinheiro/ salário baixo/ sem condições/ falta de capital",
          "Falta de dinheiro/ salário baixo/ sem condições/ falta de capital",
          "Falta de dinheiro/ salário baixo/ sem condições/ falta de capital",
          "OUTRAS RESPOSTAS",
          "OUTRAS RESPOSTAS",
          "OUTRAS RESPOSTAS",
          "Falta de dinheiro/ salário baixo/ sem condições/ falta de capital",
          "Falta de dinheiro/ salário baixo/ sem condições/ falta de capital",
          "OUTRAS RESPOSTAS",
          "OUTRAS RESPOSTAS",
          "Desemprego/ não tem emprego fixo/ sem renda",
          "Falta de dinheiro/ salário baixo/ sem condições/ falta de capital",
          "OUTRAS RESPOSTAS",
          "Falta de dinheiro/ salário baixo/ sem condições/ falta de capital",
          "Falta de dinheiro/ salário baixo/ sem condições/ falta de capital",
          "Desemprego/ não tem emprego fixo/ sem renda",
          "Falta de dinheiro/ salário baixo/ sem condições/ falta de capital",
          "OUTRAS RESPOSTAS",
          "OUTRAS RESPOSTAS",
          "Falta de dinheiro/ salário baixo/ sem condições/ falta de capital",
          "OUTRAS RESPOSTAS",
          "Teve outros gastos (doença/ ajudou parentes/ contas para pagar/ dívidas/ viagem/ festas/ compras/ estudos/ saúde)",
          "OUTRAS RESPOSTAS",
          "OUTRAS RESPOSTAS",
          "Falta de dinheiro/ salário baixo/ sem condições/ falta de capital",
          "Desemprego/ não tem emprego fixo/ sem renda",
          "Teve outros gastos (doença/ ajudou parentes/ contas para pagar/ dívidas/ viagem/ festas/ compras/ estudos/ saúde)",
          "Falta de dinheiro/ salário baixo/ sem condições/ falta de capital",
          "Desemprego/ não tem emprego fixo/ sem renda",
          "OUTRAS RESPOSTAS",
          "Falta de dinheiro/ salário baixo/ sem condições/ falta de capital",
          "Falta de dinheiro/ salário baixo/ sem condições/ falta de capital",
          "Falta de dinheiro/ salário baixo/ sem condições/ falta de capital",
          "OUTRAS RESPOSTAS",
          "Falta de dinheiro/ salário baixo/ sem condições/ falta de capital",
          "Falta de dinheiro/ salário baixo/ sem condições/ falta de capital",
          "Falta de dinheiro/ salário baixo/ sem condições/ falta de capital",
          "OUTRAS RESPOSTAS",
          "Falta de dinheiro/ salário baixo/ sem condições/ falta de capital",
          "Falta de dinheiro/ salário baixo/ sem condições/ falta de capital",
          "Falta de dinheiro/ salário baixo/ sem condições/ falta de capital",
          "OUTRAS RESPOSTAS",
          "OUTRAS RESPOSTAS",
          "OUTRAS RESPOSTAS",
          "Falta de dinheiro/ salário baixo/ sem condições/ falta de capital",
          "OUTRAS RESPOSTAS",
          "Falta de dinheiro/ salário baixo/ sem condições/ falta de capital",
          "OUTRAS RESPOSTAS",
          "OUTRAS RESPOSTAS",
          "Falta de dinheiro/ salário baixo/ sem condições/ falta de capital",
          "OUTRAS RESPOSTAS",
          "OUTRAS RESPOSTAS",
          "OUTRAS RESPOSTAS",
          "Desemprego/ não tem emprego fixo/ sem renda",
          "OUTRAS RESPOSTAS",
          "Falta de dinheiro/ salário baixo/ sem condições/ falta de capital",
          "Desemprego/ não tem emprego fixo/ sem renda",
          "Falta de dinheiro/ salário baixo/ sem condições/ falta de capital",
          "OUTRAS RESPOSTAS",
          "OUTRAS RESPOSTAS",
          "Falta de dinheiro/ salário baixo/ sem condições/ falta de capital",
          "Falta de dinheiro/ salário baixo/ sem condições/ falta de capital",
          "Falta de dinheiro/ salário baixo/ sem condições/ falta de capital",
          "OUTRAS RESPOSTAS",
          "Falta de dinheiro/ salário baixo/ sem condições/ falta de capital",
          "Falta de dinheiro/ salário baixo/ sem condições/ falta de capital",
          "OUTRAS RESPOSTAS",
          "Falta de dinheiro/ salário baixo/ sem condições/ falta de capital",
          "OUTRAS RESPOSTAS",
          "Falta de dinheiro/ salário baixo/ sem condições/ falta de capital",
          "OUTRAS RESPOSTAS",
          "Falta de dinheiro/ salário baixo/ sem condições/ falta de capital",
          "Falta de dinheiro/ salário baixo/ sem condições/ falta de capital",
          "Falta de dinheiro/ salário baixo/ sem condições/ falta de capital",
          "Falta de dinheiro/ salário baixo/ sem condições/ falta de capital",
          "Desemprego/ não tem emprego fixo/ sem renda",
          "OUTRAS RESPOSTAS",
          "Desemprego/ não tem emprego fixo/ sem renda",
          "Falta de dinheiro/ salário baixo/ sem condições/ falta de capital",
          "Desemprego/ não tem emprego fixo/ sem renda",
          "OUTRAS RESPOSTAS",
          "Falta de dinheiro/ salário baixo/ sem condições/ falta de capital",
          "OUTRAS RESPOSTAS",
          "Falta de dinheiro/ salário baixo/ sem condições/ falta de capital",
          "Falta de dinheiro/ salário baixo/ sem condições/ falta de capital",
          "Falta de dinheiro/ salário baixo/ sem condições/ falta de capital",
          "Falta de dinheiro/ salário baixo/ sem condições/ falta de capital",
          "Falta de dinheiro/ salário baixo/ sem condições/ falta de capital",
          "Falta de dinheiro/ salário baixo/ sem condições/ falta de capital",
          "Falta de dinheiro/ salário baixo/ sem condições/ falta de capital",
          "OUTRAS RESPOSTAS",
          "Falta de dinheiro/ salário baixo/ sem condições/ falta de capital",
          "OUTRAS RESPOSTAS",
          "Falta de dinheiro/ salário baixo/ sem condições/ falta de capital",
          "Desemprego/ não tem emprego fixo/ sem renda",
          "Falta de dinheiro/ salário baixo/ sem condições/ falta de capital",
          "OUTRAS RESPOSTAS",
          "Desemprego/ não tem emprego fixo/ sem renda",
          "Falta de dinheiro/ salário baixo/ sem condições/ falta de capital",
          "Falta de dinheiro/ salário baixo/ sem condições/ falta de capital",
          "OUTRAS RESPOSTAS",
          "Falta de dinheiro/ salário baixo/ sem condições/ falta de capital",
          "Desemprego/ não tem emprego fixo/ sem renda",
          "OUTRAS RESPOSTAS",
          "OUTRAS RESPOSTAS",
          "Desemprego/ não tem emprego fixo/ sem renda",
          "Teve outros gastos (doença/ ajudou parentes/ contas para pagar/ dívidas/ viagem/ festas/ compras/ estudos/ saúde)",
          "Falta de dinheiro/ salário baixo/ sem condições/ falta de capital",
          "OUTRAS RESPOSTAS",
          "Falta de dinheiro/ salário baixo/ sem condições/ falta de capital",
          "Falta de dinheiro/ salário baixo/ sem condições/ falta de capital",
          "OUTRAS RESPOSTAS",
          "OUTRAS RESPOSTAS",
          "Falta de dinheiro/ salário baixo/ sem condições/ falta de capital",
          "Desemprego/ não tem emprego fixo/ sem renda",
          "OUTRAS RESPOSTAS",
          "OUTRAS RESPOSTAS",
          "OUTRAS RESPOSTAS",
          "Falta de dinheiro/ salário baixo/ sem condições/ falta de capital",
          "OUTRAS RESPOSTAS",
          "OUTRAS RESPOSTAS",
          "Falta de dinheiro/ salário baixo/ sem condições/ falta de capital",
          "OUTRAS RESPOSTAS",
          "OUTRAS RESPOSTAS",
          "OUTRAS RESPOSTAS",
          "Falta de dinheiro/ salário baixo/ sem condições/ falta de capital",
          "OUTRAS RESPOSTAS",
          "Falta de dinheiro/ salário baixo/ sem condições/ falta de capital",
          "Falta de dinheiro/ salário baixo/ sem condições/ falta de capital",
          "OUTRAS RESPOSTAS",
          "Falta de dinheiro/ salário baixo/ sem condições/ falta de capital",
          "OUTRAS RESPOSTAS",
          "Falta de dinheiro/ salário baixo/ sem condições/ falta de capital",
          "Desemprego/ não tem emprego fixo/ sem renda",
          "Desemprego/ não tem emprego fixo/ sem renda",
          "Falta de dinheiro/ salário baixo/ sem condições/ falta de capital",
          "Falta de dinheiro/ salário baixo/ sem condições/ falta de capital",
          "OUTRAS RESPOSTAS",
          "Falta de dinheiro/ salário baixo/ sem condições/ falta de capital",
          "Falta de dinheiro/ salário baixo/ sem condições/ falta de capital",
          "Teve outros gastos (doença/ ajudou parentes/ contas para pagar/ dívidas/ viagem/ festas/ compras/ estudos/ saúde)",
          "OUTRAS RESPOSTAS",
          "OUTRAS RESPOSTAS",
          "Teve outros gastos (doença/ ajudou parentes/ contas para pagar/ dívidas/ viagem/ festas/ compras/ estudos/ saúde)",
          "OUTRAS RESPOSTAS",
          "OUTRAS RESPOSTAS",
          "Falta de dinheiro/ salário baixo/ sem condições/ falta de capital",
          "Falta de dinheiro/ salário baixo/ sem condições/ falta de capital",
          "OUTRAS RESPOSTAS",
          "OUTRAS RESPOSTAS",
          "Falta de dinheiro/ salário baixo/ sem condições/ falta de capital",
          "OUTRAS RESPOSTAS",
          "Desemprego/ não tem emprego fixo/ sem renda",
          "Falta de dinheiro/ salário baixo/ sem condições/ falta de capital",
          "Falta de dinheiro/ salário baixo/ sem condições/ falta de capital",
          "Falta de dinheiro/ salário baixo/ sem condições/ falta de capital",
          "Falta de dinheiro/ salário baixo/ sem condições/ falta de capital",
          "Falta de dinheiro/ salário baixo/ sem condições/ falta de capital",
          "Falta de dinheiro/ salário baixo/ sem condições/ falta de capital",
          "OUTRAS RESPOSTAS",
          "OUTRAS RESPOSTAS",
          "Falta de dinheiro/ salário baixo/ sem condições/ falta de capital",
          "Desemprego/ não tem emprego fixo/ sem renda",
          "Falta de dinheiro/ salário baixo/ sem condições/ falta de capital",
          "OUTRAS RESPOSTAS",
          "Falta de dinheiro/ salário baixo/ sem condições/ falta de capital",
          "OUTRAS RESPOSTAS",
          "OUTRAS RESPOSTAS",
          "Falta de dinheiro/ salário baixo/ sem condições/ falta de capital",
          "OUTRAS RESPOSTAS",
          "Falta de dinheiro/ salário baixo/ sem condições/ falta de capital",
          "OUTRAS RESPOSTAS",
          "OUTRAS RESPOSTAS",
          "OUTRAS RESPOSTAS",
          "OUTRAS RESPOSTAS",
          "OUTRAS RESPOSTAS",
          "OUTRAS RESPOSTAS",
          "Falta de dinheiro/ salário baixo/ sem condições/ falta de capital",
          "Falta de dinheiro/ salário baixo/ sem condições/ falta de capital",
          "Falta de dinheiro/ salário baixo/ sem condições/ falta de capital",
          "Falta de dinheiro/ salário baixo/ sem condições/ falta de capital",
          "Falta de dinheiro/ salário baixo/ sem condições/ falta de capital",
          "Falta de dinheiro/ salário baixo/ sem condições/ falta de capital",
          "Falta de dinheiro/ salário baixo/ sem condições/ falta de capital",
          "OUTRAS RESPOSTAS",
          "Teve outros gastos (doença/ ajudou parentes/ contas para pagar/ dívidas/ viagem/ festas/ compras/ estudos/ saúde)",
          "Teve outros gastos (doença/ ajudou parentes/ contas para pagar/ dívidas/ viagem/ festas/ compras/ estudos/ saúde)",
          "OUTRAS RESPOSTAS",
          "Falta de dinheiro/ salário baixo/ sem condições/ falta de capital",
          "OUTRAS RESPOSTAS",
          "OUTRAS RESPOSTAS",
          "OUTRAS RESPOSTAS",
          "Falta de dinheiro/ salário baixo/ sem condições/ falta de capital",
          "OUTRAS RESPOSTAS",
          "Falta de dinheiro/ salário baixo/ sem condições/ falta de capital",
          "OUTRAS RESPOSTAS",
          "OUTRAS RESPOSTAS",
          "Desemprego/ não tem emprego fixo/ sem renda",
          "Teve outros gastos (doença/ ajudou parentes/ contas para pagar/ dívidas/ viagem/ festas/ compras/ estudos/ saúde)",
          "Falta de dinheiro/ salário baixo/ sem condições/ falta de capital",
          "Falta de dinheiro/ salário baixo/ sem condições/ falta de capital",
          "Falta de dinheiro/ salário baixo/ sem condições/ falta de capital",
          "OUTRAS RESPOSTAS",
          "OUTRAS RESPOSTAS",
          "Desemprego/ não tem emprego fixo/ sem renda",
          "Falta de dinheiro/ salário baixo/ sem condições/ falta de capital",
          "OUTRAS RESPOSTAS",
          "Teve outros gastos (doença/ ajudou parentes/ contas para pagar/ dívidas/ viagem/ festas/ compras/ estudos/ saúde)",
          "Desemprego/ não tem emprego fixo/ sem renda",
          "Desemprego/ não tem emprego fixo/ sem renda",
          "Desemprego/ não tem emprego fixo/ sem renda",
          "OUTRAS RESPOSTAS",
          "OUTRAS RESPOSTAS",
          "OUTRAS RESPOSTAS",
          "OUTRAS RESPOSTAS",
          "OUTRAS RESPOSTAS",
          "OUTRAS RESPOSTAS",
          "OUTRAS RESPOSTAS",
          "Falta de dinheiro/ salário baixo/ sem condições/ falta de capital",
          "Falta de dinheiro/ salário baixo/ sem condições/ falta de capital",
          "Falta de dinheiro/ salário baixo/ sem condições/ falta de capital",
          "OUTRAS RESPOSTAS",
          "Falta de dinheiro/ salário baixo/ sem condições/ falta de capital",
          "Falta de dinheiro/ salário baixo/ sem condições/ falta de capital",
          "OUTRAS RESPOSTAS",
          "OUTRAS RESPOSTAS",
          "Desemprego/ não tem emprego fixo/ sem renda",
          "Desemprego/ não tem emprego fixo/ sem renda",
          "OUTRAS RESPOSTAS",
          "OUTRAS RESPOSTAS",
          "Desemprego/ não tem emprego fixo/ sem renda",
          "Falta de dinheiro/ salário baixo/ sem condições/ falta de capital",
          "OUTRAS RESPOSTAS",
          "Desemprego/ não tem emprego fixo/ sem renda",
          "Falta de dinheiro/ salário baixo/ sem condições/ falta de capital",
          "Falta de dinheiro/ salário baixo/ sem condições/ falta de capital",
          "Teve outros gastos (doença/ ajudou parentes/ contas para pagar/ dívidas/ viagem/ festas/ compras/ estudos/ saúde)",
          "Falta de dinheiro/ salário baixo/ sem condições/ falta de capital",
          "Falta de dinheiro/ salário baixo/ sem condições/ falta de capital",
          "OUTRAS RESPOSTAS",
          "Desemprego/ não tem emprego fixo/ sem renda",
          "Falta de dinheiro/ salário baixo/ sem condições/ falta de capital",
          "OUTRAS RESPOSTAS",
          "OUTRAS RESPOSTAS",
          "Teve outros gastos (doença/ ajudou parentes/ contas para pagar/ dívidas/ viagem/ festas/ compras/ estudos/ saúde)",
          "Falta de dinheiro/ salário baixo/ sem condições/ falta de capital",
          "Falta de dinheiro/ salário baixo/ sem condições/ falta de capital",
          "Falta de dinheiro/ salário baixo/ sem condições/ falta de capital",
          "Falta de dinheiro/ salário baixo/ sem condições/ falta de capital",
          "OUTRAS RESPOSTAS",
          "Falta de dinheiro/ salário baixo/ sem condições/ falta de capital",
          "Desemprego/ não tem emprego fixo/ sem renda",
          "Falta de dinheiro/ salário baixo/ sem condições/ falta de capital",
          "Falta de dinheiro/ salário baixo/ sem condições/ falta de capital",
          "OUTRAS RESPOSTAS",
          "OUTRAS RESPOSTAS",
          "Falta de dinheiro/ salário baixo/ sem condições/ falta de capital",
          "Falta de dinheiro/ salário baixo/ sem condições/ falta de capital",
          "Desemprego/ não tem emprego fixo/ sem renda",
          "OUTRAS RESPOSTAS",
          "OUTRAS RESPOSTAS",
          "Desemprego/ não tem emprego fixo/ sem renda",
          "Falta de dinheiro/ salário baixo/ sem condições/ falta de capital",
          "OUTRAS RESPOSTAS",
          "OUTRAS RESPOSTAS",
          "Desemprego/ não tem emprego fixo/ sem renda",
          "OUTRAS RESPOSTAS",
          "OUTRAS RESPOSTAS",
          "Falta de dinheiro/ salário baixo/ sem condições/ falta de capital",
          "Falta de dinheiro/ salário baixo/ sem condições/ falta de capital",
          "Falta de dinheiro/ salário baixo/ sem condições/ falta de capital",
          "Falta de dinheiro/ salário baixo/ sem condições/ falta de capital",
          "OUTRAS RESPOSTAS",
          "Desemprego/ não tem emprego fixo/ sem renda",
          "OUTRAS RESPOSTAS",
          "Desemprego/ não tem emprego fixo/ sem renda",
          "OUTRAS RESPOSTAS",
          "Falta de dinheiro/ salário baixo/ sem condições/ falta de capital",
          "OUTRAS RESPOSTAS",
          "OUTRAS RESPOSTAS",
          "Falta de dinheiro/ salário baixo/ sem condições/ falta de capital",
          "OUTRAS RESPOSTAS",
          "OUTRAS RESPOSTAS",
          "OUTRAS RESPOSTAS",
          "Desemprego/ não tem emprego fixo/ sem renda",
          "OUTRAS RESPOSTAS",
          "Falta de dinheiro/ salário baixo/ sem condições/ falta de capital",
          "OUTRAS RESPOSTAS",
          "Falta de dinheiro/ salário baixo/ sem condições/ falta de capital",
          "OUTRAS RESPOSTAS",
          "Falta de dinheiro/ salário baixo/ sem condições/ falta de capital",
          "OUTRAS RESPOSTAS",
          "Desemprego/ não tem emprego fixo/ sem renda",
          "Desemprego/ não tem emprego fixo/ sem renda",
          "Falta de dinheiro/ salário baixo/ sem condições/ falta de capital",
          "Desemprego/ não tem emprego fixo/ sem renda",
          "Teve outros gastos (doença/ ajudou parentes/ contas para pagar/ dívidas/ viagem/ festas/ compras/ estudos/ saúde)",
          "Falta de dinheiro/ salário baixo/ sem condições/ falta de capital",
          "OUTRAS RESPOSTAS",
          "Falta de dinheiro/ salário baixo/ sem condições/ falta de capital",
          "Falta de dinheiro/ salário baixo/ sem condições/ falta de capital",
          "OUTRAS RESPOSTAS",
          "Falta de dinheiro/ salário baixo/ sem condições/ falta de capital",
          "Falta de dinheiro/ salário baixo/ sem condições/ falta de capital",
          "Desemprego/ não tem emprego fixo/ sem renda",
          "Desemprego/ não tem emprego fixo/ sem renda",
          "OUTRAS RESPOSTAS",
          "Desemprego/ não tem emprego fixo/ sem renda",
          "Desemprego/ não tem emprego fixo/ sem renda",
          "Falta de dinheiro/ salário baixo/ sem condições/ falta de capital",
          "OUTRAS RESPOSTAS",
          "OUTRAS RESPOSTAS",
          "OUTRAS RESPOSTAS",
          "OUTRAS RESPOSTAS",
          "OUTRAS RESPOSTAS",
          "Desemprego/ não tem emprego fixo/ sem renda",
          "Desemprego/ não tem emprego fixo/ sem renda",
          "OUTRAS RESPOSTAS",
          "OUTRAS RESPOSTAS",
          "Falta de dinheiro/ salário baixo/ sem condições/ falta de capital",
          "Falta de dinheiro/ salário baixo/ sem condições/ falta de capital",
          "OUTRAS RESPOSTAS",
          "Falta de dinheiro/ salário baixo/ sem condições/ falta de capital",
          "Desemprego/ não tem emprego fixo/ sem renda",
          "OUTRAS RESPOSTAS",
          "Teve outros gastos (doença/ ajudou parentes/ contas para pagar/ dívidas/ viagem/ festas/ compras/ estudos/ saúde)",
          "OUTRAS RESPOSTAS",
          "Falta de dinheiro/ salário baixo/ sem condições/ falta de capital",
          "OUTRAS RESPOSTAS",
          "Falta de dinheiro/ salário baixo/ sem condições/ falta de capital",
          "Desemprego/ não tem emprego fixo/ sem renda",
          "OUTRAS RESPOSTAS",
          "Desemprego/ não tem emprego fixo/ sem renda",
          "OUTRAS RESPOSTAS",
          "Falta de dinheiro/ salário baixo/ sem condições/ falta de capital",
          "Falta de dinheiro/ salário baixo/ sem condições/ falta de capital",
          "Falta de dinheiro/ salário baixo/ sem condições/ falta de capital",
          "OUTRAS RESPOSTAS",
          "Falta de dinheiro/ salário baixo/ sem condições/ falta de capital",
          "Falta de dinheiro/ salário baixo/ sem condições/ falta de capital",
          "Teve outros gastos (doença/ ajudou parentes/ contas para pagar/ dívidas/ viagem/ festas/ compras/ estudos/ saúde)",
          "Falta de dinheiro/ salário baixo/ sem condições/ falta de capital",
          "Falta de dinheiro/ salário baixo/ sem condições/ falta de capital",
          "Falta de dinheiro/ salário baixo/ sem condições/ falta de capital",
          "Falta de dinheiro/ salário baixo/ sem condições/ falta de capital",
          "Teve outros gastos (doença/ ajudou parentes/ contas para pagar/ dívidas/ viagem/ festas/ compras/ estudos/ saúde)",
          "Falta de dinheiro/ salário baixo/ sem condições/ falta de capital",
          "Falta de dinheiro/ salário baixo/ sem condições/ falta de capital",
          "OUTRAS RESPOSTAS",
          "Falta de dinheiro/ salário baixo/ sem condições/ falta de capital",
          "Falta de dinheiro/ salário baixo/ sem condições/ falta de capital",
          "Falta de dinheiro/ salário baixo/ sem condições/ falta de capital",
          "OUTRAS RESPOSTAS",
          "Falta de dinheiro/ salário baixo/ sem condições/ falta de capital",
          "Falta de dinheiro/ salário baixo/ sem condições/ falta de capital",
          "OUTRAS RESPOSTAS",
          "Teve outros gastos (doença/ ajudou parentes/ contas para pagar/ dívidas/ viagem/ festas/ compras/ estudos/ saúde)",
          "Falta de dinheiro/ salário baixo/ sem condições/ falta de capital",
          "Falta de dinheiro/ salário baixo/ sem condições/ falta de capital",
          "Falta de dinheiro/ salário baixo/ sem condições/ falta de capital",
          "OUTRAS RESPOSTAS",
          "Falta de dinheiro/ salário baixo/ sem condições/ falta de capital",
          "Falta de dinheiro/ salário baixo/ sem condições/ falta de capital",
          "Falta de dinheiro/ salário baixo/ sem condições/ falta de capital",
          "Falta de dinheiro/ salário baixo/ sem condições/ falta de capital",
          "OUTRAS RESPOSTAS",
          "Falta de dinheiro/ salário baixo/ sem condições/ falta de capital",
          "Falta de dinheiro/ salário baixo/ sem condições/ falta de capital",
          "OUTRAS RESPOSTAS",
          "Falta de dinheiro/ salário baixo/ sem condições/ falta de capital",
          "Teve outros gastos (doença/ ajudou parentes/ contas para pagar/ dívidas/ viagem/ festas/ compras/ estudos/ saúde)",
          "Falta de dinheiro/ salário baixo/ sem condições/ falta de capital",
          "Desemprego/ não tem emprego fixo/ sem renda",
          "OUTRAS RESPOSTAS",
          "Falta de dinheiro/ salário baixo/ sem condições/ falta de capital",
          "Teve outros gastos (doença/ ajudou parentes/ contas para pagar/ dívidas/ viagem/ festas/ compras/ estudos/ saúde)",
          "OUTRAS RESPOSTAS",
          "OUTRAS RESPOSTAS",
          "Falta de dinheiro/ salário baixo/ sem condições/ falta de capital",
          "Desemprego/ não tem emprego fixo/ sem renda",
          "OUTRAS RESPOSTAS",
          "OUTRAS RESPOSTAS",
          "Falta de dinheiro/ salário baixo/ sem condições/ falta de capital",
          "OUTRAS RESPOSTAS",
          "Falta de dinheiro/ salário baixo/ sem condições/ falta de capital",
          "OUTRAS RESPOSTAS",
          "OUTRAS RESPOSTAS",
          "Falta de dinheiro/ salário baixo/ sem condições/ falta de capital",
          "Desemprego/ não tem emprego fixo/ sem renda",
          "Teve outros gastos (doença/ ajudou parentes/ contas para pagar/ dívidas/ viagem/ festas/ compras/ estudos/ saúde)",
          "OUTRAS RESPOSTAS",
          "OUTRAS RESPOSTAS",
          "OUTRAS RESPOSTAS",
          "OUTRAS RESPOSTAS",
          "Desemprego/ não tem emprego fixo/ sem renda",
          "OUTRAS RESPOSTAS",
          "OUTRAS RESPOSTAS",
          "OUTRAS RESPOSTAS",
          "OUTRAS RESPOSTAS",
          "Falta de dinheiro/ salário baixo/ sem condições/ falta de capital",
          "OUTRAS RESPOSTAS",
          "Falta de dinheiro/ salário baixo/ sem condições/ falta de capital",
          "Falta de dinheiro/ salário baixo/ sem condições/ falta de capital",
          "OUTRAS RESPOSTAS",
          "Falta de dinheiro/ salário baixo/ sem condições/ falta de capital",
          "OUTRAS RESPOSTAS",
          "OUTRAS RESPOSTAS",
          "Falta de dinheiro/ salário baixo/ sem condições/ falta de capital",
          "Falta de dinheiro/ salário baixo/ sem condições/ falta de capital",
          "Desemprego/ não tem emprego fixo/ sem renda",
          "OUTRAS RESPOSTAS",
          "OUTRAS RESPOSTAS",
          "Desemprego/ não tem emprego fixo/ sem renda",
          "Falta de dinheiro/ salário baixo/ sem condições/ falta de capital",
          "Teve outros gastos (doença/ ajudou parentes/ contas para pagar/ dívidas/ viagem/ festas/ compras/ estudos/ saúde)",
          "Desemprego/ não tem emprego fixo/ sem renda",
          "Falta de dinheiro/ salário baixo/ sem condições/ falta de capital",
          "Desemprego/ não tem emprego fixo/ sem renda",
          "OUTRAS RESPOSTAS",
          "Falta de dinheiro/ salário baixo/ sem condições/ falta de capital",
          "OUTRAS RESPOSTAS",
          "OUTRAS RESPOSTAS",
          "OUTRAS RESPOSTAS",
          "Desemprego/ não tem emprego fixo/ sem renda",
          "Falta de dinheiro/ salário baixo/ sem condições/ falta de capital",
          "OUTRAS RESPOSTAS",
          "OUTRAS RESPOSTAS",
          "Desemprego/ não tem emprego fixo/ sem renda",
          "OUTRAS RESPOSTAS",
          "OUTRAS RESPOSTAS",
          "Desemprego/ não tem emprego fixo/ sem renda",
          "OUTRAS RESPOSTAS",
          "Falta de dinheiro/ salário baixo/ sem condições/ falta de capital",
          "Desemprego/ não tem emprego fixo/ sem renda",
          "Desemprego/ não tem emprego fixo/ sem renda",
          "Falta de dinheiro/ salário baixo/ sem condições/ falta de capital",
          "Falta de dinheiro/ salário baixo/ sem condições/ falta de capital",
          "OUTRAS RESPOSTAS",
          "Falta de dinheiro/ salário baixo/ sem condições/ falta de capital",
          "Falta de dinheiro/ salário baixo/ sem condições/ falta de capital",
          "Falta de dinheiro/ salário baixo/ sem condições/ falta de capital",
          "Falta de dinheiro/ salário baixo/ sem condições/ falta de capital",
          "Desemprego/ não tem emprego fixo/ sem renda",
          "Falta de dinheiro/ salário baixo/ sem condições/ falta de capital",
          "OUTRAS RESPOSTAS",
          "OUTRAS RESPOSTAS",
          "OUTRAS RESPOSTAS",
          "OUTRAS RESPOSTAS",
          "Falta de dinheiro/ salário baixo/ sem condições/ falta de capital",
          "Falta de dinheiro/ salário baixo/ sem condições/ falta de capital",
          "Falta de dinheiro/ salário baixo/ sem condições/ falta de capital",
          "Falta de dinheiro/ salário baixo/ sem condições/ falta de capital",
          "OUTRAS RESPOSTAS",
          "Falta de dinheiro/ salário baixo/ sem condições/ falta de capital",
          "Falta de dinheiro/ salário baixo/ sem condições/ falta de capital",
          "OUTRAS RESPOSTAS",
          "Falta de dinheiro/ salário baixo/ sem condições/ falta de capital",
          "Desemprego/ não tem emprego fixo/ sem renda",
          "OUTRAS RESPOSTAS",
          "Desemprego/ não tem emprego fixo/ sem renda",
          "Falta de dinheiro/ salário baixo/ sem condições/ falta de capital",
          "Desemprego/ não tem emprego fixo/ sem renda",
          "Desemprego/ não tem emprego fixo/ sem renda",
          "Falta de dinheiro/ salário baixo/ sem condições/ falta de capital",
          "Falta de dinheiro/ salário baixo/ sem condições/ falta de capital",
          "Teve outros gastos (doença/ ajudou parentes/ contas para pagar/ dívidas/ viagem/ festas/ compras/ estudos/ saúde)",
          "Falta de dinheiro/ salário baixo/ sem condições/ falta de capital",
          "Falta de dinheiro/ salário baixo/ sem condições/ falta de capital",
          "Desemprego/ não tem emprego fixo/ sem renda",
          "OUTRAS RESPOSTAS",
          "OUTRAS RESPOSTAS",
          "OUTRAS RESPOSTAS",
          "OUTRAS RESPOSTAS",
          "OUTRAS RESPOSTAS",
          "OUTRAS RESPOSTAS",
          "Falta de dinheiro/ salário baixo/ sem condições/ falta de capital",
          "OUTRAS RESPOSTAS",
          "Falta de dinheiro/ salário baixo/ sem condições/ falta de capital",
          "Falta de dinheiro/ salário baixo/ sem condições/ falta de capital",
          "OUTRAS RESPOSTAS",
          "Teve outros gastos (doença/ ajudou parentes/ contas para pagar/ dívidas/ viagem/ festas/ compras/ estudos/ saúde)",
          "OUTRAS RESPOSTAS",
          "Desemprego/ não tem emprego fixo/ sem renda",
          "Falta de dinheiro/ salário baixo/ sem condições/ falta de capital",
          "Falta de dinheiro/ salário baixo/ sem condições/ falta de capital",
          "Falta de dinheiro/ salário baixo/ sem condições/ falta de capital",
          "Desemprego/ não tem emprego fixo/ sem renda",
          "OUTRAS RESPOSTAS",
          "OUTRAS RESPOSTAS",
          "OUTRAS RESPOSTAS",
          "Falta de dinheiro/ salário baixo/ sem condições/ falta de capital",
          "Falta de dinheiro/ salário baixo/ sem condições/ falta de capital",
          "Desemprego/ não tem emprego fixo/ sem renda",
          "OUTRAS RESPOSTAS",
          "OUTRAS RESPOSTAS",
          "OUTRAS RESPOSTAS",
          "Falta de dinheiro/ salário baixo/ sem condições/ falta de capital",
          "Falta de dinheiro/ salário baixo/ sem condições/ falta de capital",
          "Falta de dinheiro/ salário baixo/ sem condições/ falta de capital",
          "OUTRAS RESPOSTAS",
          "Teve outros gastos (doença/ ajudou parentes/ contas para pagar/ dívidas/ viagem/ festas/ compras/ estudos/ saúde)",
          "OUTRAS RESPOSTAS",
          "Teve outros gastos (doença/ ajudou parentes/ contas para pagar/ dívidas/ viagem/ festas/ compras/ estudos/ saúde)",
          "Teve outros gastos (doença/ ajudou parentes/ contas para pagar/ dívidas/ viagem/ festas/ compras/ estudos/ saúde)",
          "Desemprego/ não tem emprego fixo/ sem renda",
          "OUTRAS RESPOSTAS",
          "Falta de dinheiro/ salário baixo/ sem condições/ falta de capital",
          "Desemprego/ não tem emprego fixo/ sem renda",
          "Falta de dinheiro/ salário baixo/ sem condições/ falta de capital",
          "OUTRAS RESPOSTAS",
          "Falta de dinheiro/ salário baixo/ sem condições/ falta de capital",
          "Falta de dinheiro/ salário baixo/ sem condições/ falta de capital",
          "Falta de dinheiro/ salário baixo/ sem condições/ falta de capital",
          "Teve outros gastos (doença/ ajudou parentes/ contas para pagar/ dívidas/ viagem/ festas/ compras/ estudos/ saúde)",
          "OUTRAS RESPOSTAS",
          "Desemprego/ não tem emprego fixo/ sem renda",
          "Falta de dinheiro/ salário baixo/ sem condições/ falta de capital",
          "Falta de dinheiro/ salário baixo/ sem condições/ falta de capital",
          "Falta de dinheiro/ salário baixo/ sem condições/ falta de capital",
          "OUTRAS RESPOSTAS",
          "Teve outros gastos (doença/ ajudou parentes/ contas para pagar/ dívidas/ viagem/ festas/ compras/ estudos/ saúde)",
          "Falta de dinheiro/ salário baixo/ sem condições/ falta de capital",
          "OUTRAS RESPOSTAS",
          "Falta de dinheiro/ salário baixo/ sem condições/ falta de capital",
          "Falta de dinheiro/ salário baixo/ sem condições/ falta de capital",
          "OUTRAS RESPOSTAS"
         ],
         "legendgroup": "",
         "marker": {
          "colors": [
           "#150035",
           "#5E96EC",
           "#150035",
           "#150035",
           "#5E96EC",
           "#5E96EC",
           "#150035",
           "#150035",
           "#150035",
           "#5E96EC",
           "#150035",
           "#5E96EC",
           "#150035",
           "#150035",
           "#150035",
           "#150035",
           "#150035",
           "#150035",
           "E1EEE5",
           "#5E96EC",
           "#150035",
           "#5E96EC",
           "#5E96EC",
           "#150035",
           "#5E96EC",
           "#150035",
           "#5E96EC",
           "#FDE443",
           "#150035",
           "#5E96EC",
           "#5E96EC",
           "#150035",
           "#5E96EC",
           "#5E96EC",
           "#150035",
           "#5E96EC",
           "#5E96EC",
           "#150035",
           "#5E96EC",
           "#150035",
           "#150035",
           "E1EEE5",
           "#5E96EC",
           "#150035",
           "#150035",
           "#150035",
           "#5E96EC",
           "#5E96EC",
           "#5E96EC",
           "#150035",
           "#5E96EC",
           "#150035",
           "#5E96EC",
           "#5E96EC",
           "#5E96EC",
           "#150035",
           "#150035",
           "E1EEE5",
           "#150035",
           "#150035",
           "#5E96EC",
           "#FDE443",
           "#150035",
           "#5E96EC",
           "#150035",
           "#150035",
           "#5E96EC",
           "#150035",
           "#5E96EC",
           "#150035",
           "#150035",
           "#FDE443",
           "#5E96EC",
           "#5E96EC",
           "#150035",
           "#150035",
           "#5E96EC",
           "#150035",
           "#150035",
           "#5E96EC",
           "#150035",
           "#150035",
           "#150035",
           "#FDE443",
           "#5E96EC",
           "#5E96EC",
           "#5E96EC",
           "#150035",
           "#150035",
           "E1EEE5",
           "#5E96EC",
           "#5E96EC",
           "#5E96EC",
           "#5E96EC",
           "#FDE443",
           "#5E96EC",
           "#5E96EC",
           "#150035",
           "#150035",
           "#FDE443",
           "#FDE443",
           "#150035",
           "#150035",
           "#5E96EC",
           "#150035",
           "#150035",
           "#150035",
           "#5E96EC",
           "#150035",
           "E1EEE5",
           "#5E96EC",
           "E1EEE5",
           "#FDE443",
           "#5E96EC",
           "#5E96EC",
           "#150035",
           "#150035",
           "#5E96EC",
           "#5E96EC",
           "#150035",
           "#150035",
           "#FDE443",
           "#150035",
           "#FDE443",
           "E1EEE5",
           "#150035",
           "#150035",
           "#FDE443",
           "#150035",
           "#150035",
           "#5E96EC",
           "#150035",
           "E1EEE5",
           "#5E96EC",
           "#150035",
           "#150035",
           "#150035",
           "#150035",
           "#5E96EC",
           "#5E96EC",
           "#5E96EC",
           "#150035",
           "#150035",
           "#5E96EC",
           "#5E96EC",
           "#FDE443",
           "#150035",
           "#5E96EC",
           "#150035",
           "#150035",
           "#FDE443",
           "#150035",
           "#5E96EC",
           "#5E96EC",
           "#150035",
           "#5E96EC",
           "E1EEE5",
           "#5E96EC",
           "#5E96EC",
           "#150035",
           "#FDE443",
           "E1EEE5",
           "#150035",
           "#FDE443",
           "#5E96EC",
           "#150035",
           "#150035",
           "#150035",
           "#5E96EC",
           "#150035",
           "#150035",
           "#150035",
           "#5E96EC",
           "#150035",
           "#150035",
           "#150035",
           "#5E96EC",
           "#5E96EC",
           "#5E96EC",
           "#150035",
           "#5E96EC",
           "#150035",
           "#5E96EC",
           "#5E96EC",
           "#150035",
           "#5E96EC",
           "#5E96EC",
           "#5E96EC",
           "#FDE443",
           "#5E96EC",
           "#150035",
           "#FDE443",
           "#150035",
           "#5E96EC",
           "#5E96EC",
           "#150035",
           "#150035",
           "#150035",
           "#5E96EC",
           "#150035",
           "#150035",
           "#5E96EC",
           "#150035",
           "#5E96EC",
           "#150035",
           "#5E96EC",
           "#150035",
           "#150035",
           "#150035",
           "#150035",
           "#FDE443",
           "#5E96EC",
           "#FDE443",
           "#150035",
           "#FDE443",
           "#5E96EC",
           "#150035",
           "#5E96EC",
           "#150035",
           "#150035",
           "#150035",
           "#150035",
           "#150035",
           "#150035",
           "#150035",
           "#5E96EC",
           "#150035",
           "#5E96EC",
           "#150035",
           "#FDE443",
           "#150035",
           "#5E96EC",
           "#FDE443",
           "#150035",
           "#150035",
           "#5E96EC",
           "#150035",
           "#FDE443",
           "#5E96EC",
           "#5E96EC",
           "#FDE443",
           "E1EEE5",
           "#150035",
           "#5E96EC",
           "#150035",
           "#150035",
           "#5E96EC",
           "#5E96EC",
           "#150035",
           "#FDE443",
           "#5E96EC",
           "#5E96EC",
           "#5E96EC",
           "#150035",
           "#5E96EC",
           "#5E96EC",
           "#150035",
           "#5E96EC",
           "#5E96EC",
           "#5E96EC",
           "#150035",
           "#5E96EC",
           "#150035",
           "#150035",
           "#5E96EC",
           "#150035",
           "#5E96EC",
           "#150035",
           "#FDE443",
           "#FDE443",
           "#150035",
           "#150035",
           "#5E96EC",
           "#150035",
           "#150035",
           "E1EEE5",
           "#5E96EC",
           "#5E96EC",
           "E1EEE5",
           "#5E96EC",
           "#5E96EC",
           "#150035",
           "#150035",
           "#5E96EC",
           "#5E96EC",
           "#150035",
           "#5E96EC",
           "#FDE443",
           "#150035",
           "#150035",
           "#150035",
           "#150035",
           "#150035",
           "#150035",
           "#5E96EC",
           "#5E96EC",
           "#150035",
           "#FDE443",
           "#150035",
           "#5E96EC",
           "#150035",
           "#5E96EC",
           "#5E96EC",
           "#150035",
           "#5E96EC",
           "#150035",
           "#5E96EC",
           "#5E96EC",
           "#5E96EC",
           "#5E96EC",
           "#5E96EC",
           "#5E96EC",
           "#150035",
           "#150035",
           "#150035",
           "#150035",
           "#150035",
           "#150035",
           "#150035",
           "#5E96EC",
           "E1EEE5",
           "E1EEE5",
           "#5E96EC",
           "#150035",
           "#5E96EC",
           "#5E96EC",
           "#5E96EC",
           "#150035",
           "#5E96EC",
           "#150035",
           "#5E96EC",
           "#5E96EC",
           "#FDE443",
           "E1EEE5",
           "#150035",
           "#150035",
           "#150035",
           "#5E96EC",
           "#5E96EC",
           "#FDE443",
           "#150035",
           "#5E96EC",
           "E1EEE5",
           "#FDE443",
           "#FDE443",
           "#FDE443",
           "#5E96EC",
           "#5E96EC",
           "#5E96EC",
           "#5E96EC",
           "#5E96EC",
           "#5E96EC",
           "#5E96EC",
           "#150035",
           "#150035",
           "#150035",
           "#5E96EC",
           "#150035",
           "#150035",
           "#5E96EC",
           "#5E96EC",
           "#FDE443",
           "#FDE443",
           "#5E96EC",
           "#5E96EC",
           "#FDE443",
           "#150035",
           "#5E96EC",
           "#FDE443",
           "#150035",
           "#150035",
           "E1EEE5",
           "#150035",
           "#150035",
           "#5E96EC",
           "#FDE443",
           "#150035",
           "#5E96EC",
           "#5E96EC",
           "E1EEE5",
           "#150035",
           "#150035",
           "#150035",
           "#150035",
           "#5E96EC",
           "#150035",
           "#FDE443",
           "#150035",
           "#150035",
           "#5E96EC",
           "#5E96EC",
           "#150035",
           "#150035",
           "#FDE443",
           "#5E96EC",
           "#5E96EC",
           "#FDE443",
           "#150035",
           "#5E96EC",
           "#5E96EC",
           "#FDE443",
           "#5E96EC",
           "#5E96EC",
           "#150035",
           "#150035",
           "#150035",
           "#150035",
           "#5E96EC",
           "#FDE443",
           "#5E96EC",
           "#FDE443",
           "#5E96EC",
           "#150035",
           "#5E96EC",
           "#5E96EC",
           "#150035",
           "#5E96EC",
           "#5E96EC",
           "#5E96EC",
           "#FDE443",
           "#5E96EC",
           "#150035",
           "#5E96EC",
           "#150035",
           "#5E96EC",
           "#150035",
           "#5E96EC",
           "#FDE443",
           "#FDE443",
           "#150035",
           "#FDE443",
           "E1EEE5",
           "#150035",
           "#5E96EC",
           "#150035",
           "#150035",
           "#5E96EC",
           "#150035",
           "#150035",
           "#FDE443",
           "#FDE443",
           "#5E96EC",
           "#FDE443",
           "#FDE443",
           "#150035",
           "#5E96EC",
           "#5E96EC",
           "#5E96EC",
           "#5E96EC",
           "#5E96EC",
           "#FDE443",
           "#FDE443",
           "#5E96EC",
           "#5E96EC",
           "#150035",
           "#150035",
           "#5E96EC",
           "#150035",
           "#FDE443",
           "#5E96EC",
           "E1EEE5",
           "#5E96EC",
           "#150035",
           "#5E96EC",
           "#150035",
           "#FDE443",
           "#5E96EC",
           "#FDE443",
           "#5E96EC",
           "#150035",
           "#150035",
           "#150035",
           "#5E96EC",
           "#150035",
           "#150035",
           "E1EEE5",
           "#150035",
           "#150035",
           "#150035",
           "#150035",
           "E1EEE5",
           "#150035",
           "#150035",
           "#5E96EC",
           "#150035",
           "#150035",
           "#150035",
           "#5E96EC",
           "#150035",
           "#150035",
           "#5E96EC",
           "E1EEE5",
           "#150035",
           "#150035",
           "#150035",
           "#5E96EC",
           "#150035",
           "#150035",
           "#150035",
           "#150035",
           "#5E96EC",
           "#150035",
           "#150035",
           "#5E96EC",
           "#150035",
           "E1EEE5",
           "#150035",
           "#FDE443",
           "#5E96EC",
           "#150035",
           "E1EEE5",
           "#5E96EC",
           "#5E96EC",
           "#150035",
           "#FDE443",
           "#5E96EC",
           "#5E96EC",
           "#150035",
           "#5E96EC",
           "#150035",
           "#5E96EC",
           "#5E96EC",
           "#150035",
           "#FDE443",
           "E1EEE5",
           "#5E96EC",
           "#5E96EC",
           "#5E96EC",
           "#5E96EC",
           "#FDE443",
           "#5E96EC",
           "#5E96EC",
           "#5E96EC",
           "#5E96EC",
           "#150035",
           "#5E96EC",
           "#150035",
           "#150035",
           "#5E96EC",
           "#150035",
           "#5E96EC",
           "#5E96EC",
           "#150035",
           "#150035",
           "#FDE443",
           "#5E96EC",
           "#5E96EC",
           "#FDE443",
           "#150035",
           "E1EEE5",
           "#FDE443",
           "#150035",
           "#FDE443",
           "#5E96EC",
           "#150035",
           "#5E96EC",
           "#5E96EC",
           "#5E96EC",
           "#FDE443",
           "#150035",
           "#5E96EC",
           "#5E96EC",
           "#FDE443",
           "#5E96EC",
           "#5E96EC",
           "#FDE443",
           "#5E96EC",
           "#150035",
           "#FDE443",
           "#FDE443",
           "#150035",
           "#150035",
           "#5E96EC",
           "#150035",
           "#150035",
           "#150035",
           "#150035",
           "#FDE443",
           "#150035",
           "#5E96EC",
           "#5E96EC",
           "#5E96EC",
           "#5E96EC",
           "#150035",
           "#150035",
           "#150035",
           "#150035",
           "#5E96EC",
           "#150035",
           "#150035",
           "#5E96EC",
           "#150035",
           "#FDE443",
           "#5E96EC",
           "#FDE443",
           "#150035",
           "#FDE443",
           "#FDE443",
           "#150035",
           "#150035",
           "E1EEE5",
           "#150035",
           "#150035",
           "#FDE443",
           "#5E96EC",
           "#5E96EC",
           "#5E96EC",
           "#5E96EC",
           "#5E96EC",
           "#5E96EC",
           "#150035",
           "#5E96EC",
           "#150035",
           "#150035",
           "#5E96EC",
           "E1EEE5",
           "#5E96EC",
           "#FDE443",
           "#150035",
           "#150035",
           "#150035",
           "#FDE443",
           "#5E96EC",
           "#5E96EC",
           "#5E96EC",
           "#150035",
           "#150035",
           "#FDE443",
           "#5E96EC",
           "#5E96EC",
           "#5E96EC",
           "#150035",
           "#150035",
           "#150035",
           "#5E96EC",
           "E1EEE5",
           "#5E96EC",
           "E1EEE5",
           "E1EEE5",
           "#FDE443",
           "#5E96EC",
           "#150035",
           "#FDE443",
           "#150035",
           "#5E96EC",
           "#150035",
           "#150035",
           "#150035",
           "E1EEE5",
           "#5E96EC",
           "#FDE443",
           "#150035",
           "#150035",
           "#150035",
           "#5E96EC",
           "E1EEE5",
           "#150035",
           "#5E96EC",
           "#150035",
           "#150035",
           "#5E96EC"
          ]
         },
         "name": "",
         "showlegend": true,
         "type": "pie"
        }
       ],
       "layout": {
        "legend": {
         "tracegroupgap": 0
        },
        "template": {
         "data": {
          "bar": [
           {
            "error_x": {
             "color": "#2a3f5f"
            },
            "error_y": {
             "color": "#2a3f5f"
            },
            "marker": {
             "line": {
              "color": "#E5ECF6",
              "width": 0.5
             },
             "pattern": {
              "fillmode": "overlay",
              "size": 10,
              "solidity": 0.2
             }
            },
            "type": "bar"
           }
          ],
          "barpolar": [
           {
            "marker": {
             "line": {
              "color": "#E5ECF6",
              "width": 0.5
             },
             "pattern": {
              "fillmode": "overlay",
              "size": 10,
              "solidity": 0.2
             }
            },
            "type": "barpolar"
           }
          ],
          "carpet": [
           {
            "aaxis": {
             "endlinecolor": "#2a3f5f",
             "gridcolor": "white",
             "linecolor": "white",
             "minorgridcolor": "white",
             "startlinecolor": "#2a3f5f"
            },
            "baxis": {
             "endlinecolor": "#2a3f5f",
             "gridcolor": "white",
             "linecolor": "white",
             "minorgridcolor": "white",
             "startlinecolor": "#2a3f5f"
            },
            "type": "carpet"
           }
          ],
          "choropleth": [
           {
            "colorbar": {
             "outlinewidth": 0,
             "ticks": ""
            },
            "type": "choropleth"
           }
          ],
          "contour": [
           {
            "colorbar": {
             "outlinewidth": 0,
             "ticks": ""
            },
            "colorscale": [
             [
              0,
              "#0d0887"
             ],
             [
              0.1111111111111111,
              "#46039f"
             ],
             [
              0.2222222222222222,
              "#7201a8"
             ],
             [
              0.3333333333333333,
              "#9c179e"
             ],
             [
              0.4444444444444444,
              "#bd3786"
             ],
             [
              0.5555555555555556,
              "#d8576b"
             ],
             [
              0.6666666666666666,
              "#ed7953"
             ],
             [
              0.7777777777777778,
              "#fb9f3a"
             ],
             [
              0.8888888888888888,
              "#fdca26"
             ],
             [
              1,
              "#f0f921"
             ]
            ],
            "type": "contour"
           }
          ],
          "contourcarpet": [
           {
            "colorbar": {
             "outlinewidth": 0,
             "ticks": ""
            },
            "type": "contourcarpet"
           }
          ],
          "heatmap": [
           {
            "colorbar": {
             "outlinewidth": 0,
             "ticks": ""
            },
            "colorscale": [
             [
              0,
              "#0d0887"
             ],
             [
              0.1111111111111111,
              "#46039f"
             ],
             [
              0.2222222222222222,
              "#7201a8"
             ],
             [
              0.3333333333333333,
              "#9c179e"
             ],
             [
              0.4444444444444444,
              "#bd3786"
             ],
             [
              0.5555555555555556,
              "#d8576b"
             ],
             [
              0.6666666666666666,
              "#ed7953"
             ],
             [
              0.7777777777777778,
              "#fb9f3a"
             ],
             [
              0.8888888888888888,
              "#fdca26"
             ],
             [
              1,
              "#f0f921"
             ]
            ],
            "type": "heatmap"
           }
          ],
          "heatmapgl": [
           {
            "colorbar": {
             "outlinewidth": 0,
             "ticks": ""
            },
            "colorscale": [
             [
              0,
              "#0d0887"
             ],
             [
              0.1111111111111111,
              "#46039f"
             ],
             [
              0.2222222222222222,
              "#7201a8"
             ],
             [
              0.3333333333333333,
              "#9c179e"
             ],
             [
              0.4444444444444444,
              "#bd3786"
             ],
             [
              0.5555555555555556,
              "#d8576b"
             ],
             [
              0.6666666666666666,
              "#ed7953"
             ],
             [
              0.7777777777777778,
              "#fb9f3a"
             ],
             [
              0.8888888888888888,
              "#fdca26"
             ],
             [
              1,
              "#f0f921"
             ]
            ],
            "type": "heatmapgl"
           }
          ],
          "histogram": [
           {
            "marker": {
             "pattern": {
              "fillmode": "overlay",
              "size": 10,
              "solidity": 0.2
             }
            },
            "type": "histogram"
           }
          ],
          "histogram2d": [
           {
            "colorbar": {
             "outlinewidth": 0,
             "ticks": ""
            },
            "colorscale": [
             [
              0,
              "#0d0887"
             ],
             [
              0.1111111111111111,
              "#46039f"
             ],
             [
              0.2222222222222222,
              "#7201a8"
             ],
             [
              0.3333333333333333,
              "#9c179e"
             ],
             [
              0.4444444444444444,
              "#bd3786"
             ],
             [
              0.5555555555555556,
              "#d8576b"
             ],
             [
              0.6666666666666666,
              "#ed7953"
             ],
             [
              0.7777777777777778,
              "#fb9f3a"
             ],
             [
              0.8888888888888888,
              "#fdca26"
             ],
             [
              1,
              "#f0f921"
             ]
            ],
            "type": "histogram2d"
           }
          ],
          "histogram2dcontour": [
           {
            "colorbar": {
             "outlinewidth": 0,
             "ticks": ""
            },
            "colorscale": [
             [
              0,
              "#0d0887"
             ],
             [
              0.1111111111111111,
              "#46039f"
             ],
             [
              0.2222222222222222,
              "#7201a8"
             ],
             [
              0.3333333333333333,
              "#9c179e"
             ],
             [
              0.4444444444444444,
              "#bd3786"
             ],
             [
              0.5555555555555556,
              "#d8576b"
             ],
             [
              0.6666666666666666,
              "#ed7953"
             ],
             [
              0.7777777777777778,
              "#fb9f3a"
             ],
             [
              0.8888888888888888,
              "#fdca26"
             ],
             [
              1,
              "#f0f921"
             ]
            ],
            "type": "histogram2dcontour"
           }
          ],
          "mesh3d": [
           {
            "colorbar": {
             "outlinewidth": 0,
             "ticks": ""
            },
            "type": "mesh3d"
           }
          ],
          "parcoords": [
           {
            "line": {
             "colorbar": {
              "outlinewidth": 0,
              "ticks": ""
             }
            },
            "type": "parcoords"
           }
          ],
          "pie": [
           {
            "automargin": true,
            "type": "pie"
           }
          ],
          "scatter": [
           {
            "marker": {
             "colorbar": {
              "outlinewidth": 0,
              "ticks": ""
             }
            },
            "type": "scatter"
           }
          ],
          "scatter3d": [
           {
            "line": {
             "colorbar": {
              "outlinewidth": 0,
              "ticks": ""
             }
            },
            "marker": {
             "colorbar": {
              "outlinewidth": 0,
              "ticks": ""
             }
            },
            "type": "scatter3d"
           }
          ],
          "scattercarpet": [
           {
            "marker": {
             "colorbar": {
              "outlinewidth": 0,
              "ticks": ""
             }
            },
            "type": "scattercarpet"
           }
          ],
          "scattergeo": [
           {
            "marker": {
             "colorbar": {
              "outlinewidth": 0,
              "ticks": ""
             }
            },
            "type": "scattergeo"
           }
          ],
          "scattergl": [
           {
            "marker": {
             "colorbar": {
              "outlinewidth": 0,
              "ticks": ""
             }
            },
            "type": "scattergl"
           }
          ],
          "scattermapbox": [
           {
            "marker": {
             "colorbar": {
              "outlinewidth": 0,
              "ticks": ""
             }
            },
            "type": "scattermapbox"
           }
          ],
          "scatterpolar": [
           {
            "marker": {
             "colorbar": {
              "outlinewidth": 0,
              "ticks": ""
             }
            },
            "type": "scatterpolar"
           }
          ],
          "scatterpolargl": [
           {
            "marker": {
             "colorbar": {
              "outlinewidth": 0,
              "ticks": ""
             }
            },
            "type": "scatterpolargl"
           }
          ],
          "scatterternary": [
           {
            "marker": {
             "colorbar": {
              "outlinewidth": 0,
              "ticks": ""
             }
            },
            "type": "scatterternary"
           }
          ],
          "surface": [
           {
            "colorbar": {
             "outlinewidth": 0,
             "ticks": ""
            },
            "colorscale": [
             [
              0,
              "#0d0887"
             ],
             [
              0.1111111111111111,
              "#46039f"
             ],
             [
              0.2222222222222222,
              "#7201a8"
             ],
             [
              0.3333333333333333,
              "#9c179e"
             ],
             [
              0.4444444444444444,
              "#bd3786"
             ],
             [
              0.5555555555555556,
              "#d8576b"
             ],
             [
              0.6666666666666666,
              "#ed7953"
             ],
             [
              0.7777777777777778,
              "#fb9f3a"
             ],
             [
              0.8888888888888888,
              "#fdca26"
             ],
             [
              1,
              "#f0f921"
             ]
            ],
            "type": "surface"
           }
          ],
          "table": [
           {
            "cells": {
             "fill": {
              "color": "#EBF0F8"
             },
             "line": {
              "color": "white"
             }
            },
            "header": {
             "fill": {
              "color": "#C8D4E3"
             },
             "line": {
              "color": "white"
             }
            },
            "type": "table"
           }
          ]
         },
         "layout": {
          "annotationdefaults": {
           "arrowcolor": "#2a3f5f",
           "arrowhead": 0,
           "arrowwidth": 1
          },
          "autotypenumbers": "strict",
          "coloraxis": {
           "colorbar": {
            "outlinewidth": 0,
            "ticks": ""
           }
          },
          "colorscale": {
           "diverging": [
            [
             0,
             "#8e0152"
            ],
            [
             0.1,
             "#c51b7d"
            ],
            [
             0.2,
             "#de77ae"
            ],
            [
             0.3,
             "#f1b6da"
            ],
            [
             0.4,
             "#fde0ef"
            ],
            [
             0.5,
             "#f7f7f7"
            ],
            [
             0.6,
             "#e6f5d0"
            ],
            [
             0.7,
             "#b8e186"
            ],
            [
             0.8,
             "#7fbc41"
            ],
            [
             0.9,
             "#4d9221"
            ],
            [
             1,
             "#276419"
            ]
           ],
           "sequential": [
            [
             0,
             "#0d0887"
            ],
            [
             0.1111111111111111,
             "#46039f"
            ],
            [
             0.2222222222222222,
             "#7201a8"
            ],
            [
             0.3333333333333333,
             "#9c179e"
            ],
            [
             0.4444444444444444,
             "#bd3786"
            ],
            [
             0.5555555555555556,
             "#d8576b"
            ],
            [
             0.6666666666666666,
             "#ed7953"
            ],
            [
             0.7777777777777778,
             "#fb9f3a"
            ],
            [
             0.8888888888888888,
             "#fdca26"
            ],
            [
             1,
             "#f0f921"
            ]
           ],
           "sequentialminus": [
            [
             0,
             "#0d0887"
            ],
            [
             0.1111111111111111,
             "#46039f"
            ],
            [
             0.2222222222222222,
             "#7201a8"
            ],
            [
             0.3333333333333333,
             "#9c179e"
            ],
            [
             0.4444444444444444,
             "#bd3786"
            ],
            [
             0.5555555555555556,
             "#d8576b"
            ],
            [
             0.6666666666666666,
             "#ed7953"
            ],
            [
             0.7777777777777778,
             "#fb9f3a"
            ],
            [
             0.8888888888888888,
             "#fdca26"
            ],
            [
             1,
             "#f0f921"
            ]
           ]
          },
          "colorway": [
           "#636efa",
           "#EF553B",
           "#00cc96",
           "#ab63fa",
           "#FFA15A",
           "#19d3f3",
           "#FF6692",
           "#B6E880",
           "#FF97FF",
           "#FECB52"
          ],
          "font": {
           "color": "#2a3f5f"
          },
          "geo": {
           "bgcolor": "white",
           "lakecolor": "white",
           "landcolor": "#E5ECF6",
           "showlakes": true,
           "showland": true,
           "subunitcolor": "white"
          },
          "hoverlabel": {
           "align": "left"
          },
          "hovermode": "closest",
          "mapbox": {
           "style": "light"
          },
          "paper_bgcolor": "white",
          "plot_bgcolor": "#E5ECF6",
          "polar": {
           "angularaxis": {
            "gridcolor": "white",
            "linecolor": "white",
            "ticks": ""
           },
           "bgcolor": "#E5ECF6",
           "radialaxis": {
            "gridcolor": "white",
            "linecolor": "white",
            "ticks": ""
           }
          },
          "scene": {
           "xaxis": {
            "backgroundcolor": "#E5ECF6",
            "gridcolor": "white",
            "gridwidth": 2,
            "linecolor": "white",
            "showbackground": true,
            "ticks": "",
            "zerolinecolor": "white"
           },
           "yaxis": {
            "backgroundcolor": "#E5ECF6",
            "gridcolor": "white",
            "gridwidth": 2,
            "linecolor": "white",
            "showbackground": true,
            "ticks": "",
            "zerolinecolor": "white"
           },
           "zaxis": {
            "backgroundcolor": "#E5ECF6",
            "gridcolor": "white",
            "gridwidth": 2,
            "linecolor": "white",
            "showbackground": true,
            "ticks": "",
            "zerolinecolor": "white"
           }
          },
          "shapedefaults": {
           "line": {
            "color": "#2a3f5f"
           }
          },
          "ternary": {
           "aaxis": {
            "gridcolor": "white",
            "linecolor": "white",
            "ticks": ""
           },
           "baxis": {
            "gridcolor": "white",
            "linecolor": "white",
            "ticks": ""
           },
           "bgcolor": "#E5ECF6",
           "caxis": {
            "gridcolor": "white",
            "linecolor": "white",
            "ticks": ""
           }
          },
          "title": {
           "x": 0.05
          },
          "xaxis": {
           "automargin": true,
           "gridcolor": "white",
           "linecolor": "white",
           "ticks": "",
           "title": {
            "standoff": 15
           },
           "zerolinecolor": "white",
           "zerolinewidth": 2
          },
          "yaxis": {
           "automargin": true,
           "gridcolor": "white",
           "linecolor": "white",
           "ticks": "",
           "title": {
            "standoff": 15
           },
           "zerolinecolor": "white",
           "zerolinewidth": 2
          }
         }
        },
        "title": {
         "text": "Motivo principal para não investimento entre Jovens de 18 a 35 anos"
        }
       }
      },
      "text/html": [
       "<div>                            <div id=\"cf2e6adb-65fa-43fe-abb3-96fc65f03061\" class=\"plotly-graph-div\" style=\"height:525px; width:100%;\"></div>            <script type=\"text/javascript\">                require([\"plotly\"], function(Plotly) {                    window.PLOTLYENV=window.PLOTLYENV || {};                                    if (document.getElementById(\"cf2e6adb-65fa-43fe-abb3-96fc65f03061\")) {                    Plotly.newPlot(                        \"cf2e6adb-65fa-43fe-abb3-96fc65f03061\",                        [{\"customdata\":[[\"Falta de dinheiro/ sal\\u00e1rio baixo/ sem condi\\u00e7\\u00f5es/ falta de capital\"],[\"OUTRAS RESPOSTAS\"],[\"Falta de dinheiro/ sal\\u00e1rio baixo/ sem condi\\u00e7\\u00f5es/ falta de capital\"],[\"Falta de dinheiro/ sal\\u00e1rio baixo/ sem condi\\u00e7\\u00f5es/ falta de capital\"],[\"OUTRAS RESPOSTAS\"],[\"OUTRAS RESPOSTAS\"],[\"Falta de dinheiro/ sal\\u00e1rio baixo/ sem condi\\u00e7\\u00f5es/ falta de capital\"],[\"Falta de dinheiro/ sal\\u00e1rio baixo/ sem condi\\u00e7\\u00f5es/ falta de capital\"],[\"Falta de dinheiro/ sal\\u00e1rio baixo/ sem condi\\u00e7\\u00f5es/ falta de capital\"],[\"OUTRAS RESPOSTAS\"],[\"Falta de dinheiro/ sal\\u00e1rio baixo/ sem condi\\u00e7\\u00f5es/ falta de capital\"],[\"OUTRAS RESPOSTAS\"],[\"Falta de dinheiro/ sal\\u00e1rio baixo/ sem condi\\u00e7\\u00f5es/ falta de capital\"],[\"Falta de dinheiro/ sal\\u00e1rio baixo/ sem condi\\u00e7\\u00f5es/ falta de capital\"],[\"Falta de dinheiro/ sal\\u00e1rio baixo/ sem condi\\u00e7\\u00f5es/ falta de capital\"],[\"Falta de dinheiro/ sal\\u00e1rio baixo/ sem condi\\u00e7\\u00f5es/ falta de capital\"],[\"Falta de dinheiro/ sal\\u00e1rio baixo/ sem condi\\u00e7\\u00f5es/ falta de capital\"],[\"Falta de dinheiro/ sal\\u00e1rio baixo/ sem condi\\u00e7\\u00f5es/ falta de capital\"],[\"Teve outros gastos (doen\\u00e7a/ ajudou parentes/ contas para pagar/ d\\u00edvidas/ viagem/ festas/ compras/ estudos/ sa\\u00fade)\"],[\"OUTRAS RESPOSTAS\"],[\"Falta de dinheiro/ sal\\u00e1rio baixo/ sem condi\\u00e7\\u00f5es/ falta de capital\"],[\"OUTRAS RESPOSTAS\"],[\"OUTRAS RESPOSTAS\"],[\"Falta de dinheiro/ sal\\u00e1rio baixo/ sem condi\\u00e7\\u00f5es/ falta de capital\"],[\"OUTRAS RESPOSTAS\"],[\"Falta de dinheiro/ sal\\u00e1rio baixo/ sem condi\\u00e7\\u00f5es/ falta de capital\"],[\"OUTRAS RESPOSTAS\"],[\"Desemprego/ n\\u00e3o tem emprego fixo/ sem renda\"],[\"Falta de dinheiro/ sal\\u00e1rio baixo/ sem condi\\u00e7\\u00f5es/ falta de capital\"],[\"OUTRAS RESPOSTAS\"],[\"OUTRAS RESPOSTAS\"],[\"Falta de dinheiro/ sal\\u00e1rio baixo/ sem condi\\u00e7\\u00f5es/ falta de capital\"],[\"OUTRAS RESPOSTAS\"],[\"OUTRAS RESPOSTAS\"],[\"Falta de dinheiro/ sal\\u00e1rio baixo/ sem condi\\u00e7\\u00f5es/ falta de capital\"],[\"OUTRAS RESPOSTAS\"],[\"OUTRAS RESPOSTAS\"],[\"Falta de dinheiro/ sal\\u00e1rio baixo/ sem condi\\u00e7\\u00f5es/ falta de capital\"],[\"OUTRAS RESPOSTAS\"],[\"Falta de dinheiro/ sal\\u00e1rio baixo/ sem condi\\u00e7\\u00f5es/ falta de capital\"],[\"Falta de dinheiro/ sal\\u00e1rio baixo/ sem condi\\u00e7\\u00f5es/ falta de capital\"],[\"Teve outros gastos (doen\\u00e7a/ ajudou parentes/ contas para pagar/ d\\u00edvidas/ viagem/ festas/ compras/ estudos/ sa\\u00fade)\"],[\"OUTRAS RESPOSTAS\"],[\"Falta de dinheiro/ sal\\u00e1rio baixo/ sem condi\\u00e7\\u00f5es/ falta de capital\"],[\"Falta de dinheiro/ sal\\u00e1rio baixo/ sem condi\\u00e7\\u00f5es/ falta de capital\"],[\"Falta de dinheiro/ sal\\u00e1rio baixo/ sem condi\\u00e7\\u00f5es/ falta de capital\"],[\"OUTRAS RESPOSTAS\"],[\"OUTRAS RESPOSTAS\"],[\"OUTRAS RESPOSTAS\"],[\"Falta de dinheiro/ sal\\u00e1rio baixo/ sem condi\\u00e7\\u00f5es/ falta de capital\"],[\"OUTRAS RESPOSTAS\"],[\"Falta de dinheiro/ sal\\u00e1rio baixo/ sem condi\\u00e7\\u00f5es/ falta de capital\"],[\"OUTRAS RESPOSTAS\"],[\"OUTRAS RESPOSTAS\"],[\"OUTRAS RESPOSTAS\"],[\"Falta de dinheiro/ sal\\u00e1rio baixo/ sem condi\\u00e7\\u00f5es/ falta de capital\"],[\"Falta de dinheiro/ sal\\u00e1rio baixo/ sem condi\\u00e7\\u00f5es/ falta de capital\"],[\"Teve outros gastos (doen\\u00e7a/ ajudou parentes/ contas para pagar/ d\\u00edvidas/ viagem/ festas/ compras/ estudos/ sa\\u00fade)\"],[\"Falta de dinheiro/ sal\\u00e1rio baixo/ sem condi\\u00e7\\u00f5es/ falta de capital\"],[\"Falta de dinheiro/ sal\\u00e1rio baixo/ sem condi\\u00e7\\u00f5es/ falta de capital\"],[\"OUTRAS RESPOSTAS\"],[\"Desemprego/ n\\u00e3o tem emprego fixo/ sem renda\"],[\"Falta de dinheiro/ sal\\u00e1rio baixo/ sem condi\\u00e7\\u00f5es/ falta de capital\"],[\"OUTRAS RESPOSTAS\"],[\"Falta de dinheiro/ sal\\u00e1rio baixo/ sem condi\\u00e7\\u00f5es/ falta de capital\"],[\"Falta de dinheiro/ sal\\u00e1rio baixo/ sem condi\\u00e7\\u00f5es/ falta de capital\"],[\"OUTRAS RESPOSTAS\"],[\"Falta de dinheiro/ sal\\u00e1rio baixo/ sem condi\\u00e7\\u00f5es/ falta de capital\"],[\"OUTRAS RESPOSTAS\"],[\"Falta de dinheiro/ sal\\u00e1rio baixo/ sem condi\\u00e7\\u00f5es/ falta de capital\"],[\"Falta de dinheiro/ sal\\u00e1rio baixo/ sem condi\\u00e7\\u00f5es/ falta de capital\"],[\"Desemprego/ n\\u00e3o tem emprego fixo/ sem renda\"],[\"OUTRAS RESPOSTAS\"],[\"OUTRAS RESPOSTAS\"],[\"Falta de dinheiro/ sal\\u00e1rio baixo/ sem condi\\u00e7\\u00f5es/ falta de capital\"],[\"Falta de dinheiro/ sal\\u00e1rio baixo/ sem condi\\u00e7\\u00f5es/ falta de capital\"],[\"OUTRAS RESPOSTAS\"],[\"Falta de dinheiro/ sal\\u00e1rio baixo/ sem condi\\u00e7\\u00f5es/ falta de capital\"],[\"Falta de dinheiro/ sal\\u00e1rio baixo/ sem condi\\u00e7\\u00f5es/ falta de capital\"],[\"OUTRAS RESPOSTAS\"],[\"Falta de dinheiro/ sal\\u00e1rio baixo/ sem condi\\u00e7\\u00f5es/ falta de capital\"],[\"Falta de dinheiro/ sal\\u00e1rio baixo/ sem condi\\u00e7\\u00f5es/ falta de capital\"],[\"Falta de dinheiro/ sal\\u00e1rio baixo/ sem condi\\u00e7\\u00f5es/ falta de capital\"],[\"Desemprego/ n\\u00e3o tem emprego fixo/ sem renda\"],[\"OUTRAS RESPOSTAS\"],[\"OUTRAS RESPOSTAS\"],[\"OUTRAS RESPOSTAS\"],[\"Falta de dinheiro/ sal\\u00e1rio baixo/ sem condi\\u00e7\\u00f5es/ falta de capital\"],[\"Falta de dinheiro/ sal\\u00e1rio baixo/ sem condi\\u00e7\\u00f5es/ falta de capital\"],[\"Teve outros gastos (doen\\u00e7a/ ajudou parentes/ contas para pagar/ d\\u00edvidas/ viagem/ festas/ compras/ estudos/ sa\\u00fade)\"],[\"OUTRAS RESPOSTAS\"],[\"OUTRAS RESPOSTAS\"],[\"OUTRAS RESPOSTAS\"],[\"OUTRAS RESPOSTAS\"],[\"Desemprego/ n\\u00e3o tem emprego fixo/ sem renda\"],[\"OUTRAS RESPOSTAS\"],[\"OUTRAS RESPOSTAS\"],[\"Falta de dinheiro/ sal\\u00e1rio baixo/ sem condi\\u00e7\\u00f5es/ falta de capital\"],[\"Falta de dinheiro/ sal\\u00e1rio baixo/ sem condi\\u00e7\\u00f5es/ falta de capital\"],[\"Desemprego/ n\\u00e3o tem emprego fixo/ sem renda\"],[\"Desemprego/ n\\u00e3o tem emprego fixo/ sem renda\"],[\"Falta de dinheiro/ sal\\u00e1rio baixo/ sem condi\\u00e7\\u00f5es/ falta de capital\"],[\"Falta de dinheiro/ sal\\u00e1rio baixo/ sem condi\\u00e7\\u00f5es/ falta de capital\"],[\"OUTRAS RESPOSTAS\"],[\"Falta de dinheiro/ sal\\u00e1rio baixo/ sem condi\\u00e7\\u00f5es/ falta de capital\"],[\"Falta de dinheiro/ sal\\u00e1rio baixo/ sem condi\\u00e7\\u00f5es/ falta de capital\"],[\"Falta de dinheiro/ sal\\u00e1rio baixo/ sem condi\\u00e7\\u00f5es/ falta de capital\"],[\"OUTRAS RESPOSTAS\"],[\"Falta de dinheiro/ sal\\u00e1rio baixo/ sem condi\\u00e7\\u00f5es/ falta de capital\"],[\"Teve outros gastos (doen\\u00e7a/ ajudou parentes/ contas para pagar/ d\\u00edvidas/ viagem/ festas/ compras/ estudos/ sa\\u00fade)\"],[\"OUTRAS RESPOSTAS\"],[\"Teve outros gastos (doen\\u00e7a/ ajudou parentes/ contas para pagar/ d\\u00edvidas/ viagem/ festas/ compras/ estudos/ sa\\u00fade)\"],[\"Desemprego/ n\\u00e3o tem emprego fixo/ sem renda\"],[\"OUTRAS RESPOSTAS\"],[\"OUTRAS RESPOSTAS\"],[\"Falta de dinheiro/ sal\\u00e1rio baixo/ sem condi\\u00e7\\u00f5es/ falta de capital\"],[\"Falta de dinheiro/ sal\\u00e1rio baixo/ sem condi\\u00e7\\u00f5es/ falta de capital\"],[\"OUTRAS RESPOSTAS\"],[\"OUTRAS RESPOSTAS\"],[\"Falta de dinheiro/ sal\\u00e1rio baixo/ sem condi\\u00e7\\u00f5es/ falta de capital\"],[\"Falta de dinheiro/ sal\\u00e1rio baixo/ sem condi\\u00e7\\u00f5es/ falta de capital\"],[\"Desemprego/ n\\u00e3o tem emprego fixo/ sem renda\"],[\"Falta de dinheiro/ sal\\u00e1rio baixo/ sem condi\\u00e7\\u00f5es/ falta de capital\"],[\"Desemprego/ n\\u00e3o tem emprego fixo/ sem renda\"],[\"Teve outros gastos (doen\\u00e7a/ ajudou parentes/ contas para pagar/ d\\u00edvidas/ viagem/ festas/ compras/ estudos/ sa\\u00fade)\"],[\"Falta de dinheiro/ sal\\u00e1rio baixo/ sem condi\\u00e7\\u00f5es/ falta de capital\"],[\"Falta de dinheiro/ sal\\u00e1rio baixo/ sem condi\\u00e7\\u00f5es/ falta de capital\"],[\"Desemprego/ n\\u00e3o tem emprego fixo/ sem renda\"],[\"Falta de dinheiro/ sal\\u00e1rio baixo/ sem condi\\u00e7\\u00f5es/ falta de capital\"],[\"Falta de dinheiro/ sal\\u00e1rio baixo/ sem condi\\u00e7\\u00f5es/ falta de capital\"],[\"OUTRAS RESPOSTAS\"],[\"Falta de dinheiro/ sal\\u00e1rio baixo/ sem condi\\u00e7\\u00f5es/ falta de capital\"],[\"Teve outros gastos (doen\\u00e7a/ ajudou parentes/ contas para pagar/ d\\u00edvidas/ viagem/ festas/ compras/ estudos/ sa\\u00fade)\"],[\"OUTRAS RESPOSTAS\"],[\"Falta de dinheiro/ sal\\u00e1rio baixo/ sem condi\\u00e7\\u00f5es/ falta de capital\"],[\"Falta de dinheiro/ sal\\u00e1rio baixo/ sem condi\\u00e7\\u00f5es/ falta de capital\"],[\"Falta de dinheiro/ sal\\u00e1rio baixo/ sem condi\\u00e7\\u00f5es/ falta de capital\"],[\"Falta de dinheiro/ sal\\u00e1rio baixo/ sem condi\\u00e7\\u00f5es/ falta de capital\"],[\"OUTRAS RESPOSTAS\"],[\"OUTRAS RESPOSTAS\"],[\"OUTRAS RESPOSTAS\"],[\"Falta de dinheiro/ sal\\u00e1rio baixo/ sem condi\\u00e7\\u00f5es/ falta de capital\"],[\"Falta de dinheiro/ sal\\u00e1rio baixo/ sem condi\\u00e7\\u00f5es/ falta de capital\"],[\"OUTRAS RESPOSTAS\"],[\"OUTRAS RESPOSTAS\"],[\"Desemprego/ n\\u00e3o tem emprego fixo/ sem renda\"],[\"Falta de dinheiro/ sal\\u00e1rio baixo/ sem condi\\u00e7\\u00f5es/ falta de capital\"],[\"OUTRAS RESPOSTAS\"],[\"Falta de dinheiro/ sal\\u00e1rio baixo/ sem condi\\u00e7\\u00f5es/ falta de capital\"],[\"Falta de dinheiro/ sal\\u00e1rio baixo/ sem condi\\u00e7\\u00f5es/ falta de capital\"],[\"Desemprego/ n\\u00e3o tem emprego fixo/ sem renda\"],[\"Falta de dinheiro/ sal\\u00e1rio baixo/ sem condi\\u00e7\\u00f5es/ falta de capital\"],[\"OUTRAS RESPOSTAS\"],[\"OUTRAS RESPOSTAS\"],[\"Falta de dinheiro/ sal\\u00e1rio baixo/ sem condi\\u00e7\\u00f5es/ falta de capital\"],[\"OUTRAS RESPOSTAS\"],[\"Teve outros gastos (doen\\u00e7a/ ajudou parentes/ contas para pagar/ d\\u00edvidas/ viagem/ festas/ compras/ estudos/ sa\\u00fade)\"],[\"OUTRAS RESPOSTAS\"],[\"OUTRAS RESPOSTAS\"],[\"Falta de dinheiro/ sal\\u00e1rio baixo/ sem condi\\u00e7\\u00f5es/ falta de capital\"],[\"Desemprego/ n\\u00e3o tem emprego fixo/ sem renda\"],[\"Teve outros gastos (doen\\u00e7a/ ajudou parentes/ contas para pagar/ d\\u00edvidas/ viagem/ festas/ compras/ estudos/ sa\\u00fade)\"],[\"Falta de dinheiro/ sal\\u00e1rio baixo/ sem condi\\u00e7\\u00f5es/ falta de capital\"],[\"Desemprego/ n\\u00e3o tem emprego fixo/ sem renda\"],[\"OUTRAS RESPOSTAS\"],[\"Falta de dinheiro/ sal\\u00e1rio baixo/ sem condi\\u00e7\\u00f5es/ falta de capital\"],[\"Falta de dinheiro/ sal\\u00e1rio baixo/ sem condi\\u00e7\\u00f5es/ falta de capital\"],[\"Falta de dinheiro/ sal\\u00e1rio baixo/ sem condi\\u00e7\\u00f5es/ falta de capital\"],[\"OUTRAS RESPOSTAS\"],[\"Falta de dinheiro/ sal\\u00e1rio baixo/ sem condi\\u00e7\\u00f5es/ falta de capital\"],[\"Falta de dinheiro/ sal\\u00e1rio baixo/ sem condi\\u00e7\\u00f5es/ falta de capital\"],[\"Falta de dinheiro/ sal\\u00e1rio baixo/ sem condi\\u00e7\\u00f5es/ falta de capital\"],[\"OUTRAS RESPOSTAS\"],[\"Falta de dinheiro/ sal\\u00e1rio baixo/ sem condi\\u00e7\\u00f5es/ falta de capital\"],[\"Falta de dinheiro/ sal\\u00e1rio baixo/ sem condi\\u00e7\\u00f5es/ falta de capital\"],[\"Falta de dinheiro/ sal\\u00e1rio baixo/ sem condi\\u00e7\\u00f5es/ falta de capital\"],[\"OUTRAS RESPOSTAS\"],[\"OUTRAS RESPOSTAS\"],[\"OUTRAS RESPOSTAS\"],[\"Falta de dinheiro/ sal\\u00e1rio baixo/ sem condi\\u00e7\\u00f5es/ falta de capital\"],[\"OUTRAS RESPOSTAS\"],[\"Falta de dinheiro/ sal\\u00e1rio baixo/ sem condi\\u00e7\\u00f5es/ falta de capital\"],[\"OUTRAS RESPOSTAS\"],[\"OUTRAS RESPOSTAS\"],[\"Falta de dinheiro/ sal\\u00e1rio baixo/ sem condi\\u00e7\\u00f5es/ falta de capital\"],[\"OUTRAS RESPOSTAS\"],[\"OUTRAS RESPOSTAS\"],[\"OUTRAS RESPOSTAS\"],[\"Desemprego/ n\\u00e3o tem emprego fixo/ sem renda\"],[\"OUTRAS RESPOSTAS\"],[\"Falta de dinheiro/ sal\\u00e1rio baixo/ sem condi\\u00e7\\u00f5es/ falta de capital\"],[\"Desemprego/ n\\u00e3o tem emprego fixo/ sem renda\"],[\"Falta de dinheiro/ sal\\u00e1rio baixo/ sem condi\\u00e7\\u00f5es/ falta de capital\"],[\"OUTRAS RESPOSTAS\"],[\"OUTRAS RESPOSTAS\"],[\"Falta de dinheiro/ sal\\u00e1rio baixo/ sem condi\\u00e7\\u00f5es/ falta de capital\"],[\"Falta de dinheiro/ sal\\u00e1rio baixo/ sem condi\\u00e7\\u00f5es/ falta de capital\"],[\"Falta de dinheiro/ sal\\u00e1rio baixo/ sem condi\\u00e7\\u00f5es/ falta de capital\"],[\"OUTRAS RESPOSTAS\"],[\"Falta de dinheiro/ sal\\u00e1rio baixo/ sem condi\\u00e7\\u00f5es/ falta de capital\"],[\"Falta de dinheiro/ sal\\u00e1rio baixo/ sem condi\\u00e7\\u00f5es/ falta de capital\"],[\"OUTRAS RESPOSTAS\"],[\"Falta de dinheiro/ sal\\u00e1rio baixo/ sem condi\\u00e7\\u00f5es/ falta de capital\"],[\"OUTRAS RESPOSTAS\"],[\"Falta de dinheiro/ sal\\u00e1rio baixo/ sem condi\\u00e7\\u00f5es/ falta de capital\"],[\"OUTRAS RESPOSTAS\"],[\"Falta de dinheiro/ sal\\u00e1rio baixo/ sem condi\\u00e7\\u00f5es/ falta de capital\"],[\"Falta de dinheiro/ sal\\u00e1rio baixo/ sem condi\\u00e7\\u00f5es/ falta de capital\"],[\"Falta de dinheiro/ sal\\u00e1rio baixo/ sem condi\\u00e7\\u00f5es/ falta de capital\"],[\"Falta de dinheiro/ sal\\u00e1rio baixo/ sem condi\\u00e7\\u00f5es/ falta de capital\"],[\"Desemprego/ n\\u00e3o tem emprego fixo/ sem renda\"],[\"OUTRAS RESPOSTAS\"],[\"Desemprego/ n\\u00e3o tem emprego fixo/ sem renda\"],[\"Falta de dinheiro/ sal\\u00e1rio baixo/ sem condi\\u00e7\\u00f5es/ falta de capital\"],[\"Desemprego/ n\\u00e3o tem emprego fixo/ sem renda\"],[\"OUTRAS RESPOSTAS\"],[\"Falta de dinheiro/ sal\\u00e1rio baixo/ sem condi\\u00e7\\u00f5es/ falta de capital\"],[\"OUTRAS RESPOSTAS\"],[\"Falta de dinheiro/ sal\\u00e1rio baixo/ sem condi\\u00e7\\u00f5es/ falta de capital\"],[\"Falta de dinheiro/ sal\\u00e1rio baixo/ sem condi\\u00e7\\u00f5es/ falta de capital\"],[\"Falta de dinheiro/ sal\\u00e1rio baixo/ sem condi\\u00e7\\u00f5es/ falta de capital\"],[\"Falta de dinheiro/ sal\\u00e1rio baixo/ sem condi\\u00e7\\u00f5es/ falta de capital\"],[\"Falta de dinheiro/ sal\\u00e1rio baixo/ sem condi\\u00e7\\u00f5es/ falta de capital\"],[\"Falta de dinheiro/ sal\\u00e1rio baixo/ sem condi\\u00e7\\u00f5es/ falta de capital\"],[\"Falta de dinheiro/ sal\\u00e1rio baixo/ sem condi\\u00e7\\u00f5es/ falta de capital\"],[\"OUTRAS RESPOSTAS\"],[\"Falta de dinheiro/ sal\\u00e1rio baixo/ sem condi\\u00e7\\u00f5es/ falta de capital\"],[\"OUTRAS RESPOSTAS\"],[\"Falta de dinheiro/ sal\\u00e1rio baixo/ sem condi\\u00e7\\u00f5es/ falta de capital\"],[\"Desemprego/ n\\u00e3o tem emprego fixo/ sem renda\"],[\"Falta de dinheiro/ sal\\u00e1rio baixo/ sem condi\\u00e7\\u00f5es/ falta de capital\"],[\"OUTRAS RESPOSTAS\"],[\"Desemprego/ n\\u00e3o tem emprego fixo/ sem renda\"],[\"Falta de dinheiro/ sal\\u00e1rio baixo/ sem condi\\u00e7\\u00f5es/ falta de capital\"],[\"Falta de dinheiro/ sal\\u00e1rio baixo/ sem condi\\u00e7\\u00f5es/ falta de capital\"],[\"OUTRAS RESPOSTAS\"],[\"Falta de dinheiro/ sal\\u00e1rio baixo/ sem condi\\u00e7\\u00f5es/ falta de capital\"],[\"Desemprego/ n\\u00e3o tem emprego fixo/ sem renda\"],[\"OUTRAS RESPOSTAS\"],[\"OUTRAS RESPOSTAS\"],[\"Desemprego/ n\\u00e3o tem emprego fixo/ sem renda\"],[\"Teve outros gastos (doen\\u00e7a/ ajudou parentes/ contas para pagar/ d\\u00edvidas/ viagem/ festas/ compras/ estudos/ sa\\u00fade)\"],[\"Falta de dinheiro/ sal\\u00e1rio baixo/ sem condi\\u00e7\\u00f5es/ falta de capital\"],[\"OUTRAS RESPOSTAS\"],[\"Falta de dinheiro/ sal\\u00e1rio baixo/ sem condi\\u00e7\\u00f5es/ falta de capital\"],[\"Falta de dinheiro/ sal\\u00e1rio baixo/ sem condi\\u00e7\\u00f5es/ falta de capital\"],[\"OUTRAS RESPOSTAS\"],[\"OUTRAS RESPOSTAS\"],[\"Falta de dinheiro/ sal\\u00e1rio baixo/ sem condi\\u00e7\\u00f5es/ falta de capital\"],[\"Desemprego/ n\\u00e3o tem emprego fixo/ sem renda\"],[\"OUTRAS RESPOSTAS\"],[\"OUTRAS RESPOSTAS\"],[\"OUTRAS RESPOSTAS\"],[\"Falta de dinheiro/ sal\\u00e1rio baixo/ sem condi\\u00e7\\u00f5es/ falta de capital\"],[\"OUTRAS RESPOSTAS\"],[\"OUTRAS RESPOSTAS\"],[\"Falta de dinheiro/ sal\\u00e1rio baixo/ sem condi\\u00e7\\u00f5es/ falta de capital\"],[\"OUTRAS RESPOSTAS\"],[\"OUTRAS RESPOSTAS\"],[\"OUTRAS RESPOSTAS\"],[\"Falta de dinheiro/ sal\\u00e1rio baixo/ sem condi\\u00e7\\u00f5es/ falta de capital\"],[\"OUTRAS RESPOSTAS\"],[\"Falta de dinheiro/ sal\\u00e1rio baixo/ sem condi\\u00e7\\u00f5es/ falta de capital\"],[\"Falta de dinheiro/ sal\\u00e1rio baixo/ sem condi\\u00e7\\u00f5es/ falta de capital\"],[\"OUTRAS RESPOSTAS\"],[\"Falta de dinheiro/ sal\\u00e1rio baixo/ sem condi\\u00e7\\u00f5es/ falta de capital\"],[\"OUTRAS RESPOSTAS\"],[\"Falta de dinheiro/ sal\\u00e1rio baixo/ sem condi\\u00e7\\u00f5es/ falta de capital\"],[\"Desemprego/ n\\u00e3o tem emprego fixo/ sem renda\"],[\"Desemprego/ n\\u00e3o tem emprego fixo/ sem renda\"],[\"Falta de dinheiro/ sal\\u00e1rio baixo/ sem condi\\u00e7\\u00f5es/ falta de capital\"],[\"Falta de dinheiro/ sal\\u00e1rio baixo/ sem condi\\u00e7\\u00f5es/ falta de capital\"],[\"OUTRAS RESPOSTAS\"],[\"Falta de dinheiro/ sal\\u00e1rio baixo/ sem condi\\u00e7\\u00f5es/ falta de capital\"],[\"Falta de dinheiro/ sal\\u00e1rio baixo/ sem condi\\u00e7\\u00f5es/ falta de capital\"],[\"Teve outros gastos (doen\\u00e7a/ ajudou parentes/ contas para pagar/ d\\u00edvidas/ viagem/ festas/ compras/ estudos/ sa\\u00fade)\"],[\"OUTRAS RESPOSTAS\"],[\"OUTRAS RESPOSTAS\"],[\"Teve outros gastos (doen\\u00e7a/ ajudou parentes/ contas para pagar/ d\\u00edvidas/ viagem/ festas/ compras/ estudos/ sa\\u00fade)\"],[\"OUTRAS RESPOSTAS\"],[\"OUTRAS RESPOSTAS\"],[\"Falta de dinheiro/ sal\\u00e1rio baixo/ sem condi\\u00e7\\u00f5es/ falta de capital\"],[\"Falta de dinheiro/ sal\\u00e1rio baixo/ sem condi\\u00e7\\u00f5es/ falta de capital\"],[\"OUTRAS RESPOSTAS\"],[\"OUTRAS RESPOSTAS\"],[\"Falta de dinheiro/ sal\\u00e1rio baixo/ sem condi\\u00e7\\u00f5es/ falta de capital\"],[\"OUTRAS RESPOSTAS\"],[\"Desemprego/ n\\u00e3o tem emprego fixo/ sem renda\"],[\"Falta de dinheiro/ sal\\u00e1rio baixo/ sem condi\\u00e7\\u00f5es/ falta de capital\"],[\"Falta de dinheiro/ sal\\u00e1rio baixo/ sem condi\\u00e7\\u00f5es/ falta de capital\"],[\"Falta de dinheiro/ sal\\u00e1rio baixo/ sem condi\\u00e7\\u00f5es/ falta de capital\"],[\"Falta de dinheiro/ sal\\u00e1rio baixo/ sem condi\\u00e7\\u00f5es/ falta de capital\"],[\"Falta de dinheiro/ sal\\u00e1rio baixo/ sem condi\\u00e7\\u00f5es/ falta de capital\"],[\"Falta de dinheiro/ sal\\u00e1rio baixo/ sem condi\\u00e7\\u00f5es/ falta de capital\"],[\"OUTRAS RESPOSTAS\"],[\"OUTRAS RESPOSTAS\"],[\"Falta de dinheiro/ sal\\u00e1rio baixo/ sem condi\\u00e7\\u00f5es/ falta de capital\"],[\"Desemprego/ n\\u00e3o tem emprego fixo/ sem renda\"],[\"Falta de dinheiro/ sal\\u00e1rio baixo/ sem condi\\u00e7\\u00f5es/ falta de capital\"],[\"OUTRAS RESPOSTAS\"],[\"Falta de dinheiro/ sal\\u00e1rio baixo/ sem condi\\u00e7\\u00f5es/ falta de capital\"],[\"OUTRAS RESPOSTAS\"],[\"OUTRAS RESPOSTAS\"],[\"Falta de dinheiro/ sal\\u00e1rio baixo/ sem condi\\u00e7\\u00f5es/ falta de capital\"],[\"OUTRAS RESPOSTAS\"],[\"Falta de dinheiro/ sal\\u00e1rio baixo/ sem condi\\u00e7\\u00f5es/ falta de capital\"],[\"OUTRAS RESPOSTAS\"],[\"OUTRAS RESPOSTAS\"],[\"OUTRAS RESPOSTAS\"],[\"OUTRAS RESPOSTAS\"],[\"OUTRAS RESPOSTAS\"],[\"OUTRAS RESPOSTAS\"],[\"Falta de dinheiro/ sal\\u00e1rio baixo/ sem condi\\u00e7\\u00f5es/ falta de capital\"],[\"Falta de dinheiro/ sal\\u00e1rio baixo/ sem condi\\u00e7\\u00f5es/ falta de capital\"],[\"Falta de dinheiro/ sal\\u00e1rio baixo/ sem condi\\u00e7\\u00f5es/ falta de capital\"],[\"Falta de dinheiro/ sal\\u00e1rio baixo/ sem condi\\u00e7\\u00f5es/ falta de capital\"],[\"Falta de dinheiro/ sal\\u00e1rio baixo/ sem condi\\u00e7\\u00f5es/ falta de capital\"],[\"Falta de dinheiro/ sal\\u00e1rio baixo/ sem condi\\u00e7\\u00f5es/ falta de capital\"],[\"Falta de dinheiro/ sal\\u00e1rio baixo/ sem condi\\u00e7\\u00f5es/ falta de capital\"],[\"OUTRAS RESPOSTAS\"],[\"Teve outros gastos (doen\\u00e7a/ ajudou parentes/ contas para pagar/ d\\u00edvidas/ viagem/ festas/ compras/ estudos/ sa\\u00fade)\"],[\"Teve outros gastos (doen\\u00e7a/ ajudou parentes/ contas para pagar/ d\\u00edvidas/ viagem/ festas/ compras/ estudos/ sa\\u00fade)\"],[\"OUTRAS RESPOSTAS\"],[\"Falta de dinheiro/ sal\\u00e1rio baixo/ sem condi\\u00e7\\u00f5es/ falta de capital\"],[\"OUTRAS RESPOSTAS\"],[\"OUTRAS RESPOSTAS\"],[\"OUTRAS RESPOSTAS\"],[\"Falta de dinheiro/ sal\\u00e1rio baixo/ sem condi\\u00e7\\u00f5es/ falta de capital\"],[\"OUTRAS RESPOSTAS\"],[\"Falta de dinheiro/ sal\\u00e1rio baixo/ sem condi\\u00e7\\u00f5es/ falta de capital\"],[\"OUTRAS RESPOSTAS\"],[\"OUTRAS RESPOSTAS\"],[\"Desemprego/ n\\u00e3o tem emprego fixo/ sem renda\"],[\"Teve outros gastos (doen\\u00e7a/ ajudou parentes/ contas para pagar/ d\\u00edvidas/ viagem/ festas/ compras/ estudos/ sa\\u00fade)\"],[\"Falta de dinheiro/ sal\\u00e1rio baixo/ sem condi\\u00e7\\u00f5es/ falta de capital\"],[\"Falta de dinheiro/ sal\\u00e1rio baixo/ sem condi\\u00e7\\u00f5es/ falta de capital\"],[\"Falta de dinheiro/ sal\\u00e1rio baixo/ sem condi\\u00e7\\u00f5es/ falta de capital\"],[\"OUTRAS RESPOSTAS\"],[\"OUTRAS RESPOSTAS\"],[\"Desemprego/ n\\u00e3o tem emprego fixo/ sem renda\"],[\"Falta de dinheiro/ sal\\u00e1rio baixo/ sem condi\\u00e7\\u00f5es/ falta de capital\"],[\"OUTRAS RESPOSTAS\"],[\"Teve outros gastos (doen\\u00e7a/ ajudou parentes/ contas para pagar/ d\\u00edvidas/ viagem/ festas/ compras/ estudos/ sa\\u00fade)\"],[\"Desemprego/ n\\u00e3o tem emprego fixo/ sem renda\"],[\"Desemprego/ n\\u00e3o tem emprego fixo/ sem renda\"],[\"Desemprego/ n\\u00e3o tem emprego fixo/ sem renda\"],[\"OUTRAS RESPOSTAS\"],[\"OUTRAS RESPOSTAS\"],[\"OUTRAS RESPOSTAS\"],[\"OUTRAS RESPOSTAS\"],[\"OUTRAS RESPOSTAS\"],[\"OUTRAS RESPOSTAS\"],[\"OUTRAS RESPOSTAS\"],[\"Falta de dinheiro/ sal\\u00e1rio baixo/ sem condi\\u00e7\\u00f5es/ falta de capital\"],[\"Falta de dinheiro/ sal\\u00e1rio baixo/ sem condi\\u00e7\\u00f5es/ falta de capital\"],[\"Falta de dinheiro/ sal\\u00e1rio baixo/ sem condi\\u00e7\\u00f5es/ falta de capital\"],[\"OUTRAS RESPOSTAS\"],[\"Falta de dinheiro/ sal\\u00e1rio baixo/ sem condi\\u00e7\\u00f5es/ falta de capital\"],[\"Falta de dinheiro/ sal\\u00e1rio baixo/ sem condi\\u00e7\\u00f5es/ falta de capital\"],[\"OUTRAS RESPOSTAS\"],[\"OUTRAS RESPOSTAS\"],[\"Desemprego/ n\\u00e3o tem emprego fixo/ sem renda\"],[\"Desemprego/ n\\u00e3o tem emprego fixo/ sem renda\"],[\"OUTRAS RESPOSTAS\"],[\"OUTRAS RESPOSTAS\"],[\"Desemprego/ n\\u00e3o tem emprego fixo/ sem renda\"],[\"Falta de dinheiro/ sal\\u00e1rio baixo/ sem condi\\u00e7\\u00f5es/ falta de capital\"],[\"OUTRAS RESPOSTAS\"],[\"Desemprego/ n\\u00e3o tem emprego fixo/ sem renda\"],[\"Falta de dinheiro/ sal\\u00e1rio baixo/ sem condi\\u00e7\\u00f5es/ falta de capital\"],[\"Falta de dinheiro/ sal\\u00e1rio baixo/ sem condi\\u00e7\\u00f5es/ falta de capital\"],[\"Teve outros gastos (doen\\u00e7a/ ajudou parentes/ contas para pagar/ d\\u00edvidas/ viagem/ festas/ compras/ estudos/ sa\\u00fade)\"],[\"Falta de dinheiro/ sal\\u00e1rio baixo/ sem condi\\u00e7\\u00f5es/ falta de capital\"],[\"Falta de dinheiro/ sal\\u00e1rio baixo/ sem condi\\u00e7\\u00f5es/ falta de capital\"],[\"OUTRAS RESPOSTAS\"],[\"Desemprego/ n\\u00e3o tem emprego fixo/ sem renda\"],[\"Falta de dinheiro/ sal\\u00e1rio baixo/ sem condi\\u00e7\\u00f5es/ falta de capital\"],[\"OUTRAS RESPOSTAS\"],[\"OUTRAS RESPOSTAS\"],[\"Teve outros gastos (doen\\u00e7a/ ajudou parentes/ contas para pagar/ d\\u00edvidas/ viagem/ festas/ compras/ estudos/ sa\\u00fade)\"],[\"Falta de dinheiro/ sal\\u00e1rio baixo/ sem condi\\u00e7\\u00f5es/ falta de capital\"],[\"Falta de dinheiro/ sal\\u00e1rio baixo/ sem condi\\u00e7\\u00f5es/ falta de capital\"],[\"Falta de dinheiro/ sal\\u00e1rio baixo/ sem condi\\u00e7\\u00f5es/ falta de capital\"],[\"Falta de dinheiro/ sal\\u00e1rio baixo/ sem condi\\u00e7\\u00f5es/ falta de capital\"],[\"OUTRAS RESPOSTAS\"],[\"Falta de dinheiro/ sal\\u00e1rio baixo/ sem condi\\u00e7\\u00f5es/ falta de capital\"],[\"Desemprego/ n\\u00e3o tem emprego fixo/ sem renda\"],[\"Falta de dinheiro/ sal\\u00e1rio baixo/ sem condi\\u00e7\\u00f5es/ falta de capital\"],[\"Falta de dinheiro/ sal\\u00e1rio baixo/ sem condi\\u00e7\\u00f5es/ falta de capital\"],[\"OUTRAS RESPOSTAS\"],[\"OUTRAS RESPOSTAS\"],[\"Falta de dinheiro/ sal\\u00e1rio baixo/ sem condi\\u00e7\\u00f5es/ falta de capital\"],[\"Falta de dinheiro/ sal\\u00e1rio baixo/ sem condi\\u00e7\\u00f5es/ falta de capital\"],[\"Desemprego/ n\\u00e3o tem emprego fixo/ sem renda\"],[\"OUTRAS RESPOSTAS\"],[\"OUTRAS RESPOSTAS\"],[\"Desemprego/ n\\u00e3o tem emprego fixo/ sem renda\"],[\"Falta de dinheiro/ sal\\u00e1rio baixo/ sem condi\\u00e7\\u00f5es/ falta de capital\"],[\"OUTRAS RESPOSTAS\"],[\"OUTRAS RESPOSTAS\"],[\"Desemprego/ n\\u00e3o tem emprego fixo/ sem renda\"],[\"OUTRAS RESPOSTAS\"],[\"OUTRAS RESPOSTAS\"],[\"Falta de dinheiro/ sal\\u00e1rio baixo/ sem condi\\u00e7\\u00f5es/ falta de capital\"],[\"Falta de dinheiro/ sal\\u00e1rio baixo/ sem condi\\u00e7\\u00f5es/ falta de capital\"],[\"Falta de dinheiro/ sal\\u00e1rio baixo/ sem condi\\u00e7\\u00f5es/ falta de capital\"],[\"Falta de dinheiro/ sal\\u00e1rio baixo/ sem condi\\u00e7\\u00f5es/ falta de capital\"],[\"OUTRAS RESPOSTAS\"],[\"Desemprego/ n\\u00e3o tem emprego fixo/ sem renda\"],[\"OUTRAS RESPOSTAS\"],[\"Desemprego/ n\\u00e3o tem emprego fixo/ sem renda\"],[\"OUTRAS RESPOSTAS\"],[\"Falta de dinheiro/ sal\\u00e1rio baixo/ sem condi\\u00e7\\u00f5es/ falta de capital\"],[\"OUTRAS RESPOSTAS\"],[\"OUTRAS RESPOSTAS\"],[\"Falta de dinheiro/ sal\\u00e1rio baixo/ sem condi\\u00e7\\u00f5es/ falta de capital\"],[\"OUTRAS RESPOSTAS\"],[\"OUTRAS RESPOSTAS\"],[\"OUTRAS RESPOSTAS\"],[\"Desemprego/ n\\u00e3o tem emprego fixo/ sem renda\"],[\"OUTRAS RESPOSTAS\"],[\"Falta de dinheiro/ sal\\u00e1rio baixo/ sem condi\\u00e7\\u00f5es/ falta de capital\"],[\"OUTRAS RESPOSTAS\"],[\"Falta de dinheiro/ sal\\u00e1rio baixo/ sem condi\\u00e7\\u00f5es/ falta de capital\"],[\"OUTRAS RESPOSTAS\"],[\"Falta de dinheiro/ sal\\u00e1rio baixo/ sem condi\\u00e7\\u00f5es/ falta de capital\"],[\"OUTRAS RESPOSTAS\"],[\"Desemprego/ n\\u00e3o tem emprego fixo/ sem renda\"],[\"Desemprego/ n\\u00e3o tem emprego fixo/ sem renda\"],[\"Falta de dinheiro/ sal\\u00e1rio baixo/ sem condi\\u00e7\\u00f5es/ falta de capital\"],[\"Desemprego/ n\\u00e3o tem emprego fixo/ sem renda\"],[\"Teve outros gastos (doen\\u00e7a/ ajudou parentes/ contas para pagar/ d\\u00edvidas/ viagem/ festas/ compras/ estudos/ sa\\u00fade)\"],[\"Falta de dinheiro/ sal\\u00e1rio baixo/ sem condi\\u00e7\\u00f5es/ falta de capital\"],[\"OUTRAS RESPOSTAS\"],[\"Falta de dinheiro/ sal\\u00e1rio baixo/ sem condi\\u00e7\\u00f5es/ falta de capital\"],[\"Falta de dinheiro/ sal\\u00e1rio baixo/ sem condi\\u00e7\\u00f5es/ falta de capital\"],[\"OUTRAS RESPOSTAS\"],[\"Falta de dinheiro/ sal\\u00e1rio baixo/ sem condi\\u00e7\\u00f5es/ falta de capital\"],[\"Falta de dinheiro/ sal\\u00e1rio baixo/ sem condi\\u00e7\\u00f5es/ falta de capital\"],[\"Desemprego/ n\\u00e3o tem emprego fixo/ sem renda\"],[\"Desemprego/ n\\u00e3o tem emprego fixo/ sem renda\"],[\"OUTRAS RESPOSTAS\"],[\"Desemprego/ n\\u00e3o tem emprego fixo/ sem renda\"],[\"Desemprego/ n\\u00e3o tem emprego fixo/ sem renda\"],[\"Falta de dinheiro/ sal\\u00e1rio baixo/ sem condi\\u00e7\\u00f5es/ falta de capital\"],[\"OUTRAS RESPOSTAS\"],[\"OUTRAS RESPOSTAS\"],[\"OUTRAS RESPOSTAS\"],[\"OUTRAS RESPOSTAS\"],[\"OUTRAS RESPOSTAS\"],[\"Desemprego/ n\\u00e3o tem emprego fixo/ sem renda\"],[\"Desemprego/ n\\u00e3o tem emprego fixo/ sem renda\"],[\"OUTRAS RESPOSTAS\"],[\"OUTRAS RESPOSTAS\"],[\"Falta de dinheiro/ sal\\u00e1rio baixo/ sem condi\\u00e7\\u00f5es/ falta de capital\"],[\"Falta de dinheiro/ sal\\u00e1rio baixo/ sem condi\\u00e7\\u00f5es/ falta de capital\"],[\"OUTRAS RESPOSTAS\"],[\"Falta de dinheiro/ sal\\u00e1rio baixo/ sem condi\\u00e7\\u00f5es/ falta de capital\"],[\"Desemprego/ n\\u00e3o tem emprego fixo/ sem renda\"],[\"OUTRAS RESPOSTAS\"],[\"Teve outros gastos (doen\\u00e7a/ ajudou parentes/ contas para pagar/ d\\u00edvidas/ viagem/ festas/ compras/ estudos/ sa\\u00fade)\"],[\"OUTRAS RESPOSTAS\"],[\"Falta de dinheiro/ sal\\u00e1rio baixo/ sem condi\\u00e7\\u00f5es/ falta de capital\"],[\"OUTRAS RESPOSTAS\"],[\"Falta de dinheiro/ sal\\u00e1rio baixo/ sem condi\\u00e7\\u00f5es/ falta de capital\"],[\"Desemprego/ n\\u00e3o tem emprego fixo/ sem renda\"],[\"OUTRAS RESPOSTAS\"],[\"Desemprego/ n\\u00e3o tem emprego fixo/ sem renda\"],[\"OUTRAS RESPOSTAS\"],[\"Falta de dinheiro/ sal\\u00e1rio baixo/ sem condi\\u00e7\\u00f5es/ falta de capital\"],[\"Falta de dinheiro/ sal\\u00e1rio baixo/ sem condi\\u00e7\\u00f5es/ falta de capital\"],[\"Falta de dinheiro/ sal\\u00e1rio baixo/ sem condi\\u00e7\\u00f5es/ falta de capital\"],[\"OUTRAS RESPOSTAS\"],[\"Falta de dinheiro/ sal\\u00e1rio baixo/ sem condi\\u00e7\\u00f5es/ falta de capital\"],[\"Falta de dinheiro/ sal\\u00e1rio baixo/ sem condi\\u00e7\\u00f5es/ falta de capital\"],[\"Teve outros gastos (doen\\u00e7a/ ajudou parentes/ contas para pagar/ d\\u00edvidas/ viagem/ festas/ compras/ estudos/ sa\\u00fade)\"],[\"Falta de dinheiro/ sal\\u00e1rio baixo/ sem condi\\u00e7\\u00f5es/ falta de capital\"],[\"Falta de dinheiro/ sal\\u00e1rio baixo/ sem condi\\u00e7\\u00f5es/ falta de capital\"],[\"Falta de dinheiro/ sal\\u00e1rio baixo/ sem condi\\u00e7\\u00f5es/ falta de capital\"],[\"Falta de dinheiro/ sal\\u00e1rio baixo/ sem condi\\u00e7\\u00f5es/ falta de capital\"],[\"Teve outros gastos (doen\\u00e7a/ ajudou parentes/ contas para pagar/ d\\u00edvidas/ viagem/ festas/ compras/ estudos/ sa\\u00fade)\"],[\"Falta de dinheiro/ sal\\u00e1rio baixo/ sem condi\\u00e7\\u00f5es/ falta de capital\"],[\"Falta de dinheiro/ sal\\u00e1rio baixo/ sem condi\\u00e7\\u00f5es/ falta de capital\"],[\"OUTRAS RESPOSTAS\"],[\"Falta de dinheiro/ sal\\u00e1rio baixo/ sem condi\\u00e7\\u00f5es/ falta de capital\"],[\"Falta de dinheiro/ sal\\u00e1rio baixo/ sem condi\\u00e7\\u00f5es/ falta de capital\"],[\"Falta de dinheiro/ sal\\u00e1rio baixo/ sem condi\\u00e7\\u00f5es/ falta de capital\"],[\"OUTRAS RESPOSTAS\"],[\"Falta de dinheiro/ sal\\u00e1rio baixo/ sem condi\\u00e7\\u00f5es/ falta de capital\"],[\"Falta de dinheiro/ sal\\u00e1rio baixo/ sem condi\\u00e7\\u00f5es/ falta de capital\"],[\"OUTRAS RESPOSTAS\"],[\"Teve outros gastos (doen\\u00e7a/ ajudou parentes/ contas para pagar/ d\\u00edvidas/ viagem/ festas/ compras/ estudos/ sa\\u00fade)\"],[\"Falta de dinheiro/ sal\\u00e1rio baixo/ sem condi\\u00e7\\u00f5es/ falta de capital\"],[\"Falta de dinheiro/ sal\\u00e1rio baixo/ sem condi\\u00e7\\u00f5es/ falta de capital\"],[\"Falta de dinheiro/ sal\\u00e1rio baixo/ sem condi\\u00e7\\u00f5es/ falta de capital\"],[\"OUTRAS RESPOSTAS\"],[\"Falta de dinheiro/ sal\\u00e1rio baixo/ sem condi\\u00e7\\u00f5es/ falta de capital\"],[\"Falta de dinheiro/ sal\\u00e1rio baixo/ sem condi\\u00e7\\u00f5es/ falta de capital\"],[\"Falta de dinheiro/ sal\\u00e1rio baixo/ sem condi\\u00e7\\u00f5es/ falta de capital\"],[\"Falta de dinheiro/ sal\\u00e1rio baixo/ sem condi\\u00e7\\u00f5es/ falta de capital\"],[\"OUTRAS RESPOSTAS\"],[\"Falta de dinheiro/ sal\\u00e1rio baixo/ sem condi\\u00e7\\u00f5es/ falta de capital\"],[\"Falta de dinheiro/ sal\\u00e1rio baixo/ sem condi\\u00e7\\u00f5es/ falta de capital\"],[\"OUTRAS RESPOSTAS\"],[\"Falta de dinheiro/ sal\\u00e1rio baixo/ sem condi\\u00e7\\u00f5es/ falta de capital\"],[\"Teve outros gastos (doen\\u00e7a/ ajudou parentes/ contas para pagar/ d\\u00edvidas/ viagem/ festas/ compras/ estudos/ sa\\u00fade)\"],[\"Falta de dinheiro/ sal\\u00e1rio baixo/ sem condi\\u00e7\\u00f5es/ falta de capital\"],[\"Desemprego/ n\\u00e3o tem emprego fixo/ sem renda\"],[\"OUTRAS RESPOSTAS\"],[\"Falta de dinheiro/ sal\\u00e1rio baixo/ sem condi\\u00e7\\u00f5es/ falta de capital\"],[\"Teve outros gastos (doen\\u00e7a/ ajudou parentes/ contas para pagar/ d\\u00edvidas/ viagem/ festas/ compras/ estudos/ sa\\u00fade)\"],[\"OUTRAS RESPOSTAS\"],[\"OUTRAS RESPOSTAS\"],[\"Falta de dinheiro/ sal\\u00e1rio baixo/ sem condi\\u00e7\\u00f5es/ falta de capital\"],[\"Desemprego/ n\\u00e3o tem emprego fixo/ sem renda\"],[\"OUTRAS RESPOSTAS\"],[\"OUTRAS RESPOSTAS\"],[\"Falta de dinheiro/ sal\\u00e1rio baixo/ sem condi\\u00e7\\u00f5es/ falta de capital\"],[\"OUTRAS RESPOSTAS\"],[\"Falta de dinheiro/ sal\\u00e1rio baixo/ sem condi\\u00e7\\u00f5es/ falta de capital\"],[\"OUTRAS RESPOSTAS\"],[\"OUTRAS RESPOSTAS\"],[\"Falta de dinheiro/ sal\\u00e1rio baixo/ sem condi\\u00e7\\u00f5es/ falta de capital\"],[\"Desemprego/ n\\u00e3o tem emprego fixo/ sem renda\"],[\"Teve outros gastos (doen\\u00e7a/ ajudou parentes/ contas para pagar/ d\\u00edvidas/ viagem/ festas/ compras/ estudos/ sa\\u00fade)\"],[\"OUTRAS RESPOSTAS\"],[\"OUTRAS RESPOSTAS\"],[\"OUTRAS RESPOSTAS\"],[\"OUTRAS RESPOSTAS\"],[\"Desemprego/ n\\u00e3o tem emprego fixo/ sem renda\"],[\"OUTRAS RESPOSTAS\"],[\"OUTRAS RESPOSTAS\"],[\"OUTRAS RESPOSTAS\"],[\"OUTRAS RESPOSTAS\"],[\"Falta de dinheiro/ sal\\u00e1rio baixo/ sem condi\\u00e7\\u00f5es/ falta de capital\"],[\"OUTRAS RESPOSTAS\"],[\"Falta de dinheiro/ sal\\u00e1rio baixo/ sem condi\\u00e7\\u00f5es/ falta de capital\"],[\"Falta de dinheiro/ sal\\u00e1rio baixo/ sem condi\\u00e7\\u00f5es/ falta de capital\"],[\"OUTRAS RESPOSTAS\"],[\"Falta de dinheiro/ sal\\u00e1rio baixo/ sem condi\\u00e7\\u00f5es/ falta de capital\"],[\"OUTRAS RESPOSTAS\"],[\"OUTRAS RESPOSTAS\"],[\"Falta de dinheiro/ sal\\u00e1rio baixo/ sem condi\\u00e7\\u00f5es/ falta de capital\"],[\"Falta de dinheiro/ sal\\u00e1rio baixo/ sem condi\\u00e7\\u00f5es/ falta de capital\"],[\"Desemprego/ n\\u00e3o tem emprego fixo/ sem renda\"],[\"OUTRAS RESPOSTAS\"],[\"OUTRAS RESPOSTAS\"],[\"Desemprego/ n\\u00e3o tem emprego fixo/ sem renda\"],[\"Falta de dinheiro/ sal\\u00e1rio baixo/ sem condi\\u00e7\\u00f5es/ falta de capital\"],[\"Teve outros gastos (doen\\u00e7a/ ajudou parentes/ contas para pagar/ d\\u00edvidas/ viagem/ festas/ compras/ estudos/ sa\\u00fade)\"],[\"Desemprego/ n\\u00e3o tem emprego fixo/ sem renda\"],[\"Falta de dinheiro/ sal\\u00e1rio baixo/ sem condi\\u00e7\\u00f5es/ falta de capital\"],[\"Desemprego/ n\\u00e3o tem emprego fixo/ sem renda\"],[\"OUTRAS RESPOSTAS\"],[\"Falta de dinheiro/ sal\\u00e1rio baixo/ sem condi\\u00e7\\u00f5es/ falta de capital\"],[\"OUTRAS RESPOSTAS\"],[\"OUTRAS RESPOSTAS\"],[\"OUTRAS RESPOSTAS\"],[\"Desemprego/ n\\u00e3o tem emprego fixo/ sem renda\"],[\"Falta de dinheiro/ sal\\u00e1rio baixo/ sem condi\\u00e7\\u00f5es/ falta de capital\"],[\"OUTRAS RESPOSTAS\"],[\"OUTRAS RESPOSTAS\"],[\"Desemprego/ n\\u00e3o tem emprego fixo/ sem renda\"],[\"OUTRAS RESPOSTAS\"],[\"OUTRAS RESPOSTAS\"],[\"Desemprego/ n\\u00e3o tem emprego fixo/ sem renda\"],[\"OUTRAS RESPOSTAS\"],[\"Falta de dinheiro/ sal\\u00e1rio baixo/ sem condi\\u00e7\\u00f5es/ falta de capital\"],[\"Desemprego/ n\\u00e3o tem emprego fixo/ sem renda\"],[\"Desemprego/ n\\u00e3o tem emprego fixo/ sem renda\"],[\"Falta de dinheiro/ sal\\u00e1rio baixo/ sem condi\\u00e7\\u00f5es/ falta de capital\"],[\"Falta de dinheiro/ sal\\u00e1rio baixo/ sem condi\\u00e7\\u00f5es/ falta de capital\"],[\"OUTRAS RESPOSTAS\"],[\"Falta de dinheiro/ sal\\u00e1rio baixo/ sem condi\\u00e7\\u00f5es/ falta de capital\"],[\"Falta de dinheiro/ sal\\u00e1rio baixo/ sem condi\\u00e7\\u00f5es/ falta de capital\"],[\"Falta de dinheiro/ sal\\u00e1rio baixo/ sem condi\\u00e7\\u00f5es/ falta de capital\"],[\"Falta de dinheiro/ sal\\u00e1rio baixo/ sem condi\\u00e7\\u00f5es/ falta de capital\"],[\"Desemprego/ n\\u00e3o tem emprego fixo/ sem renda\"],[\"Falta de dinheiro/ sal\\u00e1rio baixo/ sem condi\\u00e7\\u00f5es/ falta de capital\"],[\"OUTRAS RESPOSTAS\"],[\"OUTRAS RESPOSTAS\"],[\"OUTRAS RESPOSTAS\"],[\"OUTRAS RESPOSTAS\"],[\"Falta de dinheiro/ sal\\u00e1rio baixo/ sem condi\\u00e7\\u00f5es/ falta de capital\"],[\"Falta de dinheiro/ sal\\u00e1rio baixo/ sem condi\\u00e7\\u00f5es/ falta de capital\"],[\"Falta de dinheiro/ sal\\u00e1rio baixo/ sem condi\\u00e7\\u00f5es/ falta de capital\"],[\"Falta de dinheiro/ sal\\u00e1rio baixo/ sem condi\\u00e7\\u00f5es/ falta de capital\"],[\"OUTRAS RESPOSTAS\"],[\"Falta de dinheiro/ sal\\u00e1rio baixo/ sem condi\\u00e7\\u00f5es/ falta de capital\"],[\"Falta de dinheiro/ sal\\u00e1rio baixo/ sem condi\\u00e7\\u00f5es/ falta de capital\"],[\"OUTRAS RESPOSTAS\"],[\"Falta de dinheiro/ sal\\u00e1rio baixo/ sem condi\\u00e7\\u00f5es/ falta de capital\"],[\"Desemprego/ n\\u00e3o tem emprego fixo/ sem renda\"],[\"OUTRAS RESPOSTAS\"],[\"Desemprego/ n\\u00e3o tem emprego fixo/ sem renda\"],[\"Falta de dinheiro/ sal\\u00e1rio baixo/ sem condi\\u00e7\\u00f5es/ falta de capital\"],[\"Desemprego/ n\\u00e3o tem emprego fixo/ sem renda\"],[\"Desemprego/ n\\u00e3o tem emprego fixo/ sem renda\"],[\"Falta de dinheiro/ sal\\u00e1rio baixo/ sem condi\\u00e7\\u00f5es/ falta de capital\"],[\"Falta de dinheiro/ sal\\u00e1rio baixo/ sem condi\\u00e7\\u00f5es/ falta de capital\"],[\"Teve outros gastos (doen\\u00e7a/ ajudou parentes/ contas para pagar/ d\\u00edvidas/ viagem/ festas/ compras/ estudos/ sa\\u00fade)\"],[\"Falta de dinheiro/ sal\\u00e1rio baixo/ sem condi\\u00e7\\u00f5es/ falta de capital\"],[\"Falta de dinheiro/ sal\\u00e1rio baixo/ sem condi\\u00e7\\u00f5es/ falta de capital\"],[\"Desemprego/ n\\u00e3o tem emprego fixo/ sem renda\"],[\"OUTRAS RESPOSTAS\"],[\"OUTRAS RESPOSTAS\"],[\"OUTRAS RESPOSTAS\"],[\"OUTRAS RESPOSTAS\"],[\"OUTRAS RESPOSTAS\"],[\"OUTRAS RESPOSTAS\"],[\"Falta de dinheiro/ sal\\u00e1rio baixo/ sem condi\\u00e7\\u00f5es/ falta de capital\"],[\"OUTRAS RESPOSTAS\"],[\"Falta de dinheiro/ sal\\u00e1rio baixo/ sem condi\\u00e7\\u00f5es/ falta de capital\"],[\"Falta de dinheiro/ sal\\u00e1rio baixo/ sem condi\\u00e7\\u00f5es/ falta de capital\"],[\"OUTRAS RESPOSTAS\"],[\"Teve outros gastos (doen\\u00e7a/ ajudou parentes/ contas para pagar/ d\\u00edvidas/ viagem/ festas/ compras/ estudos/ sa\\u00fade)\"],[\"OUTRAS RESPOSTAS\"],[\"Desemprego/ n\\u00e3o tem emprego fixo/ sem renda\"],[\"Falta de dinheiro/ sal\\u00e1rio baixo/ sem condi\\u00e7\\u00f5es/ falta de capital\"],[\"Falta de dinheiro/ sal\\u00e1rio baixo/ sem condi\\u00e7\\u00f5es/ falta de capital\"],[\"Falta de dinheiro/ sal\\u00e1rio baixo/ sem condi\\u00e7\\u00f5es/ falta de capital\"],[\"Desemprego/ n\\u00e3o tem emprego fixo/ sem renda\"],[\"OUTRAS RESPOSTAS\"],[\"OUTRAS RESPOSTAS\"],[\"OUTRAS RESPOSTAS\"],[\"Falta de dinheiro/ sal\\u00e1rio baixo/ sem condi\\u00e7\\u00f5es/ falta de capital\"],[\"Falta de dinheiro/ sal\\u00e1rio baixo/ sem condi\\u00e7\\u00f5es/ falta de capital\"],[\"Desemprego/ n\\u00e3o tem emprego fixo/ sem renda\"],[\"OUTRAS RESPOSTAS\"],[\"OUTRAS RESPOSTAS\"],[\"OUTRAS RESPOSTAS\"],[\"Falta de dinheiro/ sal\\u00e1rio baixo/ sem condi\\u00e7\\u00f5es/ falta de capital\"],[\"Falta de dinheiro/ sal\\u00e1rio baixo/ sem condi\\u00e7\\u00f5es/ falta de capital\"],[\"Falta de dinheiro/ sal\\u00e1rio baixo/ sem condi\\u00e7\\u00f5es/ falta de capital\"],[\"OUTRAS RESPOSTAS\"],[\"Teve outros gastos (doen\\u00e7a/ ajudou parentes/ contas para pagar/ d\\u00edvidas/ viagem/ festas/ compras/ estudos/ sa\\u00fade)\"],[\"OUTRAS RESPOSTAS\"],[\"Teve outros gastos (doen\\u00e7a/ ajudou parentes/ contas para pagar/ d\\u00edvidas/ viagem/ festas/ compras/ estudos/ sa\\u00fade)\"],[\"Teve outros gastos (doen\\u00e7a/ ajudou parentes/ contas para pagar/ d\\u00edvidas/ viagem/ festas/ compras/ estudos/ sa\\u00fade)\"],[\"Desemprego/ n\\u00e3o tem emprego fixo/ sem renda\"],[\"OUTRAS RESPOSTAS\"],[\"Falta de dinheiro/ sal\\u00e1rio baixo/ sem condi\\u00e7\\u00f5es/ falta de capital\"],[\"Desemprego/ n\\u00e3o tem emprego fixo/ sem renda\"],[\"Falta de dinheiro/ sal\\u00e1rio baixo/ sem condi\\u00e7\\u00f5es/ falta de capital\"],[\"OUTRAS RESPOSTAS\"],[\"Falta de dinheiro/ sal\\u00e1rio baixo/ sem condi\\u00e7\\u00f5es/ falta de capital\"],[\"Falta de dinheiro/ sal\\u00e1rio baixo/ sem condi\\u00e7\\u00f5es/ falta de capital\"],[\"Falta de dinheiro/ sal\\u00e1rio baixo/ sem condi\\u00e7\\u00f5es/ falta de capital\"],[\"Teve outros gastos (doen\\u00e7a/ ajudou parentes/ contas para pagar/ d\\u00edvidas/ viagem/ festas/ compras/ estudos/ sa\\u00fade)\"],[\"OUTRAS RESPOSTAS\"],[\"Desemprego/ n\\u00e3o tem emprego fixo/ sem renda\"],[\"Falta de dinheiro/ sal\\u00e1rio baixo/ sem condi\\u00e7\\u00f5es/ falta de capital\"],[\"Falta de dinheiro/ sal\\u00e1rio baixo/ sem condi\\u00e7\\u00f5es/ falta de capital\"],[\"Falta de dinheiro/ sal\\u00e1rio baixo/ sem condi\\u00e7\\u00f5es/ falta de capital\"],[\"OUTRAS RESPOSTAS\"],[\"Teve outros gastos (doen\\u00e7a/ ajudou parentes/ contas para pagar/ d\\u00edvidas/ viagem/ festas/ compras/ estudos/ sa\\u00fade)\"],[\"Falta de dinheiro/ sal\\u00e1rio baixo/ sem condi\\u00e7\\u00f5es/ falta de capital\"],[\"OUTRAS RESPOSTAS\"],[\"Falta de dinheiro/ sal\\u00e1rio baixo/ sem condi\\u00e7\\u00f5es/ falta de capital\"],[\"Falta de dinheiro/ sal\\u00e1rio baixo/ sem condi\\u00e7\\u00f5es/ falta de capital\"],[\"OUTRAS RESPOSTAS\"]],\"domain\":{\"x\":[0.0,1.0],\"y\":[0.0,1.0]},\"hovertemplate\":\"Motivo principal para n\\u00e3o investimento=%{customdata[0]}<extra></extra>\",\"labels\":[\"Falta de dinheiro/ sal\\u00e1rio baixo/ sem condi\\u00e7\\u00f5es/ falta de capital\",\"OUTRAS RESPOSTAS\",\"Falta de dinheiro/ sal\\u00e1rio baixo/ sem condi\\u00e7\\u00f5es/ falta de capital\",\"Falta de dinheiro/ sal\\u00e1rio baixo/ sem condi\\u00e7\\u00f5es/ falta de capital\",\"OUTRAS RESPOSTAS\",\"OUTRAS RESPOSTAS\",\"Falta de dinheiro/ sal\\u00e1rio baixo/ sem condi\\u00e7\\u00f5es/ falta de capital\",\"Falta de dinheiro/ sal\\u00e1rio baixo/ sem condi\\u00e7\\u00f5es/ falta de capital\",\"Falta de dinheiro/ sal\\u00e1rio baixo/ sem condi\\u00e7\\u00f5es/ falta de capital\",\"OUTRAS RESPOSTAS\",\"Falta de dinheiro/ sal\\u00e1rio baixo/ sem condi\\u00e7\\u00f5es/ falta de capital\",\"OUTRAS RESPOSTAS\",\"Falta de dinheiro/ sal\\u00e1rio baixo/ sem condi\\u00e7\\u00f5es/ falta de capital\",\"Falta de dinheiro/ sal\\u00e1rio baixo/ sem condi\\u00e7\\u00f5es/ falta de capital\",\"Falta de dinheiro/ sal\\u00e1rio baixo/ sem condi\\u00e7\\u00f5es/ falta de capital\",\"Falta de dinheiro/ sal\\u00e1rio baixo/ sem condi\\u00e7\\u00f5es/ falta de capital\",\"Falta de dinheiro/ sal\\u00e1rio baixo/ sem condi\\u00e7\\u00f5es/ falta de capital\",\"Falta de dinheiro/ sal\\u00e1rio baixo/ sem condi\\u00e7\\u00f5es/ falta de capital\",\"Teve outros gastos (doen\\u00e7a/ ajudou parentes/ contas para pagar/ d\\u00edvidas/ viagem/ festas/ compras/ estudos/ sa\\u00fade)\",\"OUTRAS RESPOSTAS\",\"Falta de dinheiro/ sal\\u00e1rio baixo/ sem condi\\u00e7\\u00f5es/ falta de capital\",\"OUTRAS RESPOSTAS\",\"OUTRAS RESPOSTAS\",\"Falta de dinheiro/ sal\\u00e1rio baixo/ sem condi\\u00e7\\u00f5es/ falta de capital\",\"OUTRAS RESPOSTAS\",\"Falta de dinheiro/ sal\\u00e1rio baixo/ sem condi\\u00e7\\u00f5es/ falta de capital\",\"OUTRAS RESPOSTAS\",\"Desemprego/ n\\u00e3o tem emprego fixo/ sem renda\",\"Falta de dinheiro/ sal\\u00e1rio baixo/ sem condi\\u00e7\\u00f5es/ falta de capital\",\"OUTRAS RESPOSTAS\",\"OUTRAS RESPOSTAS\",\"Falta de dinheiro/ sal\\u00e1rio baixo/ sem condi\\u00e7\\u00f5es/ falta de capital\",\"OUTRAS RESPOSTAS\",\"OUTRAS RESPOSTAS\",\"Falta de dinheiro/ sal\\u00e1rio baixo/ sem condi\\u00e7\\u00f5es/ falta de capital\",\"OUTRAS RESPOSTAS\",\"OUTRAS RESPOSTAS\",\"Falta de dinheiro/ sal\\u00e1rio baixo/ sem condi\\u00e7\\u00f5es/ falta de capital\",\"OUTRAS RESPOSTAS\",\"Falta de dinheiro/ sal\\u00e1rio baixo/ sem condi\\u00e7\\u00f5es/ falta de capital\",\"Falta de dinheiro/ sal\\u00e1rio baixo/ sem condi\\u00e7\\u00f5es/ falta de capital\",\"Teve outros gastos (doen\\u00e7a/ ajudou parentes/ contas para pagar/ d\\u00edvidas/ viagem/ festas/ compras/ estudos/ sa\\u00fade)\",\"OUTRAS RESPOSTAS\",\"Falta de dinheiro/ sal\\u00e1rio baixo/ sem condi\\u00e7\\u00f5es/ falta de capital\",\"Falta de dinheiro/ sal\\u00e1rio baixo/ sem condi\\u00e7\\u00f5es/ falta de capital\",\"Falta de dinheiro/ sal\\u00e1rio baixo/ sem condi\\u00e7\\u00f5es/ falta de capital\",\"OUTRAS RESPOSTAS\",\"OUTRAS RESPOSTAS\",\"OUTRAS RESPOSTAS\",\"Falta de dinheiro/ sal\\u00e1rio baixo/ sem condi\\u00e7\\u00f5es/ falta de capital\",\"OUTRAS RESPOSTAS\",\"Falta de dinheiro/ sal\\u00e1rio baixo/ sem condi\\u00e7\\u00f5es/ falta de capital\",\"OUTRAS RESPOSTAS\",\"OUTRAS RESPOSTAS\",\"OUTRAS RESPOSTAS\",\"Falta de dinheiro/ sal\\u00e1rio baixo/ sem condi\\u00e7\\u00f5es/ falta de capital\",\"Falta de dinheiro/ sal\\u00e1rio baixo/ sem condi\\u00e7\\u00f5es/ falta de capital\",\"Teve outros gastos (doen\\u00e7a/ ajudou parentes/ contas para pagar/ d\\u00edvidas/ viagem/ festas/ compras/ estudos/ sa\\u00fade)\",\"Falta de dinheiro/ sal\\u00e1rio baixo/ sem condi\\u00e7\\u00f5es/ falta de capital\",\"Falta de dinheiro/ sal\\u00e1rio baixo/ sem condi\\u00e7\\u00f5es/ falta de capital\",\"OUTRAS RESPOSTAS\",\"Desemprego/ n\\u00e3o tem emprego fixo/ sem renda\",\"Falta de dinheiro/ sal\\u00e1rio baixo/ sem condi\\u00e7\\u00f5es/ falta de capital\",\"OUTRAS RESPOSTAS\",\"Falta de dinheiro/ sal\\u00e1rio baixo/ sem condi\\u00e7\\u00f5es/ falta de capital\",\"Falta de dinheiro/ sal\\u00e1rio baixo/ sem condi\\u00e7\\u00f5es/ falta de capital\",\"OUTRAS RESPOSTAS\",\"Falta de dinheiro/ sal\\u00e1rio baixo/ sem condi\\u00e7\\u00f5es/ falta de capital\",\"OUTRAS RESPOSTAS\",\"Falta de dinheiro/ sal\\u00e1rio baixo/ sem condi\\u00e7\\u00f5es/ falta de capital\",\"Falta de dinheiro/ sal\\u00e1rio baixo/ sem condi\\u00e7\\u00f5es/ falta de capital\",\"Desemprego/ n\\u00e3o tem emprego fixo/ sem renda\",\"OUTRAS RESPOSTAS\",\"OUTRAS RESPOSTAS\",\"Falta de dinheiro/ sal\\u00e1rio baixo/ sem condi\\u00e7\\u00f5es/ falta de capital\",\"Falta de dinheiro/ sal\\u00e1rio baixo/ sem condi\\u00e7\\u00f5es/ falta de capital\",\"OUTRAS RESPOSTAS\",\"Falta de dinheiro/ sal\\u00e1rio baixo/ sem condi\\u00e7\\u00f5es/ falta de capital\",\"Falta de dinheiro/ sal\\u00e1rio baixo/ sem condi\\u00e7\\u00f5es/ falta de capital\",\"OUTRAS RESPOSTAS\",\"Falta de dinheiro/ sal\\u00e1rio baixo/ sem condi\\u00e7\\u00f5es/ falta de capital\",\"Falta de dinheiro/ sal\\u00e1rio baixo/ sem condi\\u00e7\\u00f5es/ falta de capital\",\"Falta de dinheiro/ sal\\u00e1rio baixo/ sem condi\\u00e7\\u00f5es/ falta de capital\",\"Desemprego/ n\\u00e3o tem emprego fixo/ sem renda\",\"OUTRAS RESPOSTAS\",\"OUTRAS RESPOSTAS\",\"OUTRAS RESPOSTAS\",\"Falta de dinheiro/ sal\\u00e1rio baixo/ sem condi\\u00e7\\u00f5es/ falta de capital\",\"Falta de dinheiro/ sal\\u00e1rio baixo/ sem condi\\u00e7\\u00f5es/ falta de capital\",\"Teve outros gastos (doen\\u00e7a/ ajudou parentes/ contas para pagar/ d\\u00edvidas/ viagem/ festas/ compras/ estudos/ sa\\u00fade)\",\"OUTRAS RESPOSTAS\",\"OUTRAS RESPOSTAS\",\"OUTRAS RESPOSTAS\",\"OUTRAS RESPOSTAS\",\"Desemprego/ n\\u00e3o tem emprego fixo/ sem renda\",\"OUTRAS RESPOSTAS\",\"OUTRAS RESPOSTAS\",\"Falta de dinheiro/ sal\\u00e1rio baixo/ sem condi\\u00e7\\u00f5es/ falta de capital\",\"Falta de dinheiro/ sal\\u00e1rio baixo/ sem condi\\u00e7\\u00f5es/ falta de capital\",\"Desemprego/ n\\u00e3o tem emprego fixo/ sem renda\",\"Desemprego/ n\\u00e3o tem emprego fixo/ sem renda\",\"Falta de dinheiro/ sal\\u00e1rio baixo/ sem condi\\u00e7\\u00f5es/ falta de capital\",\"Falta de dinheiro/ sal\\u00e1rio baixo/ sem condi\\u00e7\\u00f5es/ falta de capital\",\"OUTRAS RESPOSTAS\",\"Falta de dinheiro/ sal\\u00e1rio baixo/ sem condi\\u00e7\\u00f5es/ falta de capital\",\"Falta de dinheiro/ sal\\u00e1rio baixo/ sem condi\\u00e7\\u00f5es/ falta de capital\",\"Falta de dinheiro/ sal\\u00e1rio baixo/ sem condi\\u00e7\\u00f5es/ falta de capital\",\"OUTRAS RESPOSTAS\",\"Falta de dinheiro/ sal\\u00e1rio baixo/ sem condi\\u00e7\\u00f5es/ falta de capital\",\"Teve outros gastos (doen\\u00e7a/ ajudou parentes/ contas para pagar/ d\\u00edvidas/ viagem/ festas/ compras/ estudos/ sa\\u00fade)\",\"OUTRAS RESPOSTAS\",\"Teve outros gastos (doen\\u00e7a/ ajudou parentes/ contas para pagar/ d\\u00edvidas/ viagem/ festas/ compras/ estudos/ sa\\u00fade)\",\"Desemprego/ n\\u00e3o tem emprego fixo/ sem renda\",\"OUTRAS RESPOSTAS\",\"OUTRAS RESPOSTAS\",\"Falta de dinheiro/ sal\\u00e1rio baixo/ sem condi\\u00e7\\u00f5es/ falta de capital\",\"Falta de dinheiro/ sal\\u00e1rio baixo/ sem condi\\u00e7\\u00f5es/ falta de capital\",\"OUTRAS RESPOSTAS\",\"OUTRAS RESPOSTAS\",\"Falta de dinheiro/ sal\\u00e1rio baixo/ sem condi\\u00e7\\u00f5es/ falta de capital\",\"Falta de dinheiro/ sal\\u00e1rio baixo/ sem condi\\u00e7\\u00f5es/ falta de capital\",\"Desemprego/ n\\u00e3o tem emprego fixo/ sem renda\",\"Falta de dinheiro/ sal\\u00e1rio baixo/ sem condi\\u00e7\\u00f5es/ falta de capital\",\"Desemprego/ n\\u00e3o tem emprego fixo/ sem renda\",\"Teve outros gastos (doen\\u00e7a/ ajudou parentes/ contas para pagar/ d\\u00edvidas/ viagem/ festas/ compras/ estudos/ sa\\u00fade)\",\"Falta de dinheiro/ sal\\u00e1rio baixo/ sem condi\\u00e7\\u00f5es/ falta de capital\",\"Falta de dinheiro/ sal\\u00e1rio baixo/ sem condi\\u00e7\\u00f5es/ falta de capital\",\"Desemprego/ n\\u00e3o tem emprego fixo/ sem renda\",\"Falta de dinheiro/ sal\\u00e1rio baixo/ sem condi\\u00e7\\u00f5es/ falta de capital\",\"Falta de dinheiro/ sal\\u00e1rio baixo/ sem condi\\u00e7\\u00f5es/ falta de capital\",\"OUTRAS RESPOSTAS\",\"Falta de dinheiro/ sal\\u00e1rio baixo/ sem condi\\u00e7\\u00f5es/ falta de capital\",\"Teve outros gastos (doen\\u00e7a/ ajudou parentes/ contas para pagar/ d\\u00edvidas/ viagem/ festas/ compras/ estudos/ sa\\u00fade)\",\"OUTRAS RESPOSTAS\",\"Falta de dinheiro/ sal\\u00e1rio baixo/ sem condi\\u00e7\\u00f5es/ falta de capital\",\"Falta de dinheiro/ sal\\u00e1rio baixo/ sem condi\\u00e7\\u00f5es/ falta de capital\",\"Falta de dinheiro/ sal\\u00e1rio baixo/ sem condi\\u00e7\\u00f5es/ falta de capital\",\"Falta de dinheiro/ sal\\u00e1rio baixo/ sem condi\\u00e7\\u00f5es/ falta de capital\",\"OUTRAS RESPOSTAS\",\"OUTRAS RESPOSTAS\",\"OUTRAS RESPOSTAS\",\"Falta de dinheiro/ sal\\u00e1rio baixo/ sem condi\\u00e7\\u00f5es/ falta de capital\",\"Falta de dinheiro/ sal\\u00e1rio baixo/ sem condi\\u00e7\\u00f5es/ falta de capital\",\"OUTRAS RESPOSTAS\",\"OUTRAS RESPOSTAS\",\"Desemprego/ n\\u00e3o tem emprego fixo/ sem renda\",\"Falta de dinheiro/ sal\\u00e1rio baixo/ sem condi\\u00e7\\u00f5es/ falta de capital\",\"OUTRAS RESPOSTAS\",\"Falta de dinheiro/ sal\\u00e1rio baixo/ sem condi\\u00e7\\u00f5es/ falta de capital\",\"Falta de dinheiro/ sal\\u00e1rio baixo/ sem condi\\u00e7\\u00f5es/ falta de capital\",\"Desemprego/ n\\u00e3o tem emprego fixo/ sem renda\",\"Falta de dinheiro/ sal\\u00e1rio baixo/ sem condi\\u00e7\\u00f5es/ falta de capital\",\"OUTRAS RESPOSTAS\",\"OUTRAS RESPOSTAS\",\"Falta de dinheiro/ sal\\u00e1rio baixo/ sem condi\\u00e7\\u00f5es/ falta de capital\",\"OUTRAS RESPOSTAS\",\"Teve outros gastos (doen\\u00e7a/ ajudou parentes/ contas para pagar/ d\\u00edvidas/ viagem/ festas/ compras/ estudos/ sa\\u00fade)\",\"OUTRAS RESPOSTAS\",\"OUTRAS RESPOSTAS\",\"Falta de dinheiro/ sal\\u00e1rio baixo/ sem condi\\u00e7\\u00f5es/ falta de capital\",\"Desemprego/ n\\u00e3o tem emprego fixo/ sem renda\",\"Teve outros gastos (doen\\u00e7a/ ajudou parentes/ contas para pagar/ d\\u00edvidas/ viagem/ festas/ compras/ estudos/ sa\\u00fade)\",\"Falta de dinheiro/ sal\\u00e1rio baixo/ sem condi\\u00e7\\u00f5es/ falta de capital\",\"Desemprego/ n\\u00e3o tem emprego fixo/ sem renda\",\"OUTRAS RESPOSTAS\",\"Falta de dinheiro/ sal\\u00e1rio baixo/ sem condi\\u00e7\\u00f5es/ falta de capital\",\"Falta de dinheiro/ sal\\u00e1rio baixo/ sem condi\\u00e7\\u00f5es/ falta de capital\",\"Falta de dinheiro/ sal\\u00e1rio baixo/ sem condi\\u00e7\\u00f5es/ falta de capital\",\"OUTRAS RESPOSTAS\",\"Falta de dinheiro/ sal\\u00e1rio baixo/ sem condi\\u00e7\\u00f5es/ falta de capital\",\"Falta de dinheiro/ sal\\u00e1rio baixo/ sem condi\\u00e7\\u00f5es/ falta de capital\",\"Falta de dinheiro/ sal\\u00e1rio baixo/ sem condi\\u00e7\\u00f5es/ falta de capital\",\"OUTRAS RESPOSTAS\",\"Falta de dinheiro/ sal\\u00e1rio baixo/ sem condi\\u00e7\\u00f5es/ falta de capital\",\"Falta de dinheiro/ sal\\u00e1rio baixo/ sem condi\\u00e7\\u00f5es/ falta de capital\",\"Falta de dinheiro/ sal\\u00e1rio baixo/ sem condi\\u00e7\\u00f5es/ falta de capital\",\"OUTRAS RESPOSTAS\",\"OUTRAS RESPOSTAS\",\"OUTRAS RESPOSTAS\",\"Falta de dinheiro/ sal\\u00e1rio baixo/ sem condi\\u00e7\\u00f5es/ falta de capital\",\"OUTRAS RESPOSTAS\",\"Falta de dinheiro/ sal\\u00e1rio baixo/ sem condi\\u00e7\\u00f5es/ falta de capital\",\"OUTRAS RESPOSTAS\",\"OUTRAS RESPOSTAS\",\"Falta de dinheiro/ sal\\u00e1rio baixo/ sem condi\\u00e7\\u00f5es/ falta de capital\",\"OUTRAS RESPOSTAS\",\"OUTRAS RESPOSTAS\",\"OUTRAS RESPOSTAS\",\"Desemprego/ n\\u00e3o tem emprego fixo/ sem renda\",\"OUTRAS RESPOSTAS\",\"Falta de dinheiro/ sal\\u00e1rio baixo/ sem condi\\u00e7\\u00f5es/ falta de capital\",\"Desemprego/ n\\u00e3o tem emprego fixo/ sem renda\",\"Falta de dinheiro/ sal\\u00e1rio baixo/ sem condi\\u00e7\\u00f5es/ falta de capital\",\"OUTRAS RESPOSTAS\",\"OUTRAS RESPOSTAS\",\"Falta de dinheiro/ sal\\u00e1rio baixo/ sem condi\\u00e7\\u00f5es/ falta de capital\",\"Falta de dinheiro/ sal\\u00e1rio baixo/ sem condi\\u00e7\\u00f5es/ falta de capital\",\"Falta de dinheiro/ sal\\u00e1rio baixo/ sem condi\\u00e7\\u00f5es/ falta de capital\",\"OUTRAS RESPOSTAS\",\"Falta de dinheiro/ sal\\u00e1rio baixo/ sem condi\\u00e7\\u00f5es/ falta de capital\",\"Falta de dinheiro/ sal\\u00e1rio baixo/ sem condi\\u00e7\\u00f5es/ falta de capital\",\"OUTRAS RESPOSTAS\",\"Falta de dinheiro/ sal\\u00e1rio baixo/ sem condi\\u00e7\\u00f5es/ falta de capital\",\"OUTRAS RESPOSTAS\",\"Falta de dinheiro/ sal\\u00e1rio baixo/ sem condi\\u00e7\\u00f5es/ falta de capital\",\"OUTRAS RESPOSTAS\",\"Falta de dinheiro/ sal\\u00e1rio baixo/ sem condi\\u00e7\\u00f5es/ falta de capital\",\"Falta de dinheiro/ sal\\u00e1rio baixo/ sem condi\\u00e7\\u00f5es/ falta de capital\",\"Falta de dinheiro/ sal\\u00e1rio baixo/ sem condi\\u00e7\\u00f5es/ falta de capital\",\"Falta de dinheiro/ sal\\u00e1rio baixo/ sem condi\\u00e7\\u00f5es/ falta de capital\",\"Desemprego/ n\\u00e3o tem emprego fixo/ sem renda\",\"OUTRAS RESPOSTAS\",\"Desemprego/ n\\u00e3o tem emprego fixo/ sem renda\",\"Falta de dinheiro/ sal\\u00e1rio baixo/ sem condi\\u00e7\\u00f5es/ falta de capital\",\"Desemprego/ n\\u00e3o tem emprego fixo/ sem renda\",\"OUTRAS RESPOSTAS\",\"Falta de dinheiro/ sal\\u00e1rio baixo/ sem condi\\u00e7\\u00f5es/ falta de capital\",\"OUTRAS RESPOSTAS\",\"Falta de dinheiro/ sal\\u00e1rio baixo/ sem condi\\u00e7\\u00f5es/ falta de capital\",\"Falta de dinheiro/ sal\\u00e1rio baixo/ sem condi\\u00e7\\u00f5es/ falta de capital\",\"Falta de dinheiro/ sal\\u00e1rio baixo/ sem condi\\u00e7\\u00f5es/ falta de capital\",\"Falta de dinheiro/ sal\\u00e1rio baixo/ sem condi\\u00e7\\u00f5es/ falta de capital\",\"Falta de dinheiro/ sal\\u00e1rio baixo/ sem condi\\u00e7\\u00f5es/ falta de capital\",\"Falta de dinheiro/ sal\\u00e1rio baixo/ sem condi\\u00e7\\u00f5es/ falta de capital\",\"Falta de dinheiro/ sal\\u00e1rio baixo/ sem condi\\u00e7\\u00f5es/ falta de capital\",\"OUTRAS RESPOSTAS\",\"Falta de dinheiro/ sal\\u00e1rio baixo/ sem condi\\u00e7\\u00f5es/ falta de capital\",\"OUTRAS RESPOSTAS\",\"Falta de dinheiro/ sal\\u00e1rio baixo/ sem condi\\u00e7\\u00f5es/ falta de capital\",\"Desemprego/ n\\u00e3o tem emprego fixo/ sem renda\",\"Falta de dinheiro/ sal\\u00e1rio baixo/ sem condi\\u00e7\\u00f5es/ falta de capital\",\"OUTRAS RESPOSTAS\",\"Desemprego/ n\\u00e3o tem emprego fixo/ sem renda\",\"Falta de dinheiro/ sal\\u00e1rio baixo/ sem condi\\u00e7\\u00f5es/ falta de capital\",\"Falta de dinheiro/ sal\\u00e1rio baixo/ sem condi\\u00e7\\u00f5es/ falta de capital\",\"OUTRAS RESPOSTAS\",\"Falta de dinheiro/ sal\\u00e1rio baixo/ sem condi\\u00e7\\u00f5es/ falta de capital\",\"Desemprego/ n\\u00e3o tem emprego fixo/ sem renda\",\"OUTRAS RESPOSTAS\",\"OUTRAS RESPOSTAS\",\"Desemprego/ n\\u00e3o tem emprego fixo/ sem renda\",\"Teve outros gastos (doen\\u00e7a/ ajudou parentes/ contas para pagar/ d\\u00edvidas/ viagem/ festas/ compras/ estudos/ sa\\u00fade)\",\"Falta de dinheiro/ sal\\u00e1rio baixo/ sem condi\\u00e7\\u00f5es/ falta de capital\",\"OUTRAS RESPOSTAS\",\"Falta de dinheiro/ sal\\u00e1rio baixo/ sem condi\\u00e7\\u00f5es/ falta de capital\",\"Falta de dinheiro/ sal\\u00e1rio baixo/ sem condi\\u00e7\\u00f5es/ falta de capital\",\"OUTRAS RESPOSTAS\",\"OUTRAS RESPOSTAS\",\"Falta de dinheiro/ sal\\u00e1rio baixo/ sem condi\\u00e7\\u00f5es/ falta de capital\",\"Desemprego/ n\\u00e3o tem emprego fixo/ sem renda\",\"OUTRAS RESPOSTAS\",\"OUTRAS RESPOSTAS\",\"OUTRAS RESPOSTAS\",\"Falta de dinheiro/ sal\\u00e1rio baixo/ sem condi\\u00e7\\u00f5es/ falta de capital\",\"OUTRAS RESPOSTAS\",\"OUTRAS RESPOSTAS\",\"Falta de dinheiro/ sal\\u00e1rio baixo/ sem condi\\u00e7\\u00f5es/ falta de capital\",\"OUTRAS RESPOSTAS\",\"OUTRAS RESPOSTAS\",\"OUTRAS RESPOSTAS\",\"Falta de dinheiro/ sal\\u00e1rio baixo/ sem condi\\u00e7\\u00f5es/ falta de capital\",\"OUTRAS RESPOSTAS\",\"Falta de dinheiro/ sal\\u00e1rio baixo/ sem condi\\u00e7\\u00f5es/ falta de capital\",\"Falta de dinheiro/ sal\\u00e1rio baixo/ sem condi\\u00e7\\u00f5es/ falta de capital\",\"OUTRAS RESPOSTAS\",\"Falta de dinheiro/ sal\\u00e1rio baixo/ sem condi\\u00e7\\u00f5es/ falta de capital\",\"OUTRAS RESPOSTAS\",\"Falta de dinheiro/ sal\\u00e1rio baixo/ sem condi\\u00e7\\u00f5es/ falta de capital\",\"Desemprego/ n\\u00e3o tem emprego fixo/ sem renda\",\"Desemprego/ n\\u00e3o tem emprego fixo/ sem renda\",\"Falta de dinheiro/ sal\\u00e1rio baixo/ sem condi\\u00e7\\u00f5es/ falta de capital\",\"Falta de dinheiro/ sal\\u00e1rio baixo/ sem condi\\u00e7\\u00f5es/ falta de capital\",\"OUTRAS RESPOSTAS\",\"Falta de dinheiro/ sal\\u00e1rio baixo/ sem condi\\u00e7\\u00f5es/ falta de capital\",\"Falta de dinheiro/ sal\\u00e1rio baixo/ sem condi\\u00e7\\u00f5es/ falta de capital\",\"Teve outros gastos (doen\\u00e7a/ ajudou parentes/ contas para pagar/ d\\u00edvidas/ viagem/ festas/ compras/ estudos/ sa\\u00fade)\",\"OUTRAS RESPOSTAS\",\"OUTRAS RESPOSTAS\",\"Teve outros gastos (doen\\u00e7a/ ajudou parentes/ contas para pagar/ d\\u00edvidas/ viagem/ festas/ compras/ estudos/ sa\\u00fade)\",\"OUTRAS RESPOSTAS\",\"OUTRAS RESPOSTAS\",\"Falta de dinheiro/ sal\\u00e1rio baixo/ sem condi\\u00e7\\u00f5es/ falta de capital\",\"Falta de dinheiro/ sal\\u00e1rio baixo/ sem condi\\u00e7\\u00f5es/ falta de capital\",\"OUTRAS RESPOSTAS\",\"OUTRAS RESPOSTAS\",\"Falta de dinheiro/ sal\\u00e1rio baixo/ sem condi\\u00e7\\u00f5es/ falta de capital\",\"OUTRAS RESPOSTAS\",\"Desemprego/ n\\u00e3o tem emprego fixo/ sem renda\",\"Falta de dinheiro/ sal\\u00e1rio baixo/ sem condi\\u00e7\\u00f5es/ falta de capital\",\"Falta de dinheiro/ sal\\u00e1rio baixo/ sem condi\\u00e7\\u00f5es/ falta de capital\",\"Falta de dinheiro/ sal\\u00e1rio baixo/ sem condi\\u00e7\\u00f5es/ falta de capital\",\"Falta de dinheiro/ sal\\u00e1rio baixo/ sem condi\\u00e7\\u00f5es/ falta de capital\",\"Falta de dinheiro/ sal\\u00e1rio baixo/ sem condi\\u00e7\\u00f5es/ falta de capital\",\"Falta de dinheiro/ sal\\u00e1rio baixo/ sem condi\\u00e7\\u00f5es/ falta de capital\",\"OUTRAS RESPOSTAS\",\"OUTRAS RESPOSTAS\",\"Falta de dinheiro/ sal\\u00e1rio baixo/ sem condi\\u00e7\\u00f5es/ falta de capital\",\"Desemprego/ n\\u00e3o tem emprego fixo/ sem renda\",\"Falta de dinheiro/ sal\\u00e1rio baixo/ sem condi\\u00e7\\u00f5es/ falta de capital\",\"OUTRAS RESPOSTAS\",\"Falta de dinheiro/ sal\\u00e1rio baixo/ sem condi\\u00e7\\u00f5es/ falta de capital\",\"OUTRAS RESPOSTAS\",\"OUTRAS RESPOSTAS\",\"Falta de dinheiro/ sal\\u00e1rio baixo/ sem condi\\u00e7\\u00f5es/ falta de capital\",\"OUTRAS RESPOSTAS\",\"Falta de dinheiro/ sal\\u00e1rio baixo/ sem condi\\u00e7\\u00f5es/ falta de capital\",\"OUTRAS RESPOSTAS\",\"OUTRAS RESPOSTAS\",\"OUTRAS RESPOSTAS\",\"OUTRAS RESPOSTAS\",\"OUTRAS RESPOSTAS\",\"OUTRAS RESPOSTAS\",\"Falta de dinheiro/ sal\\u00e1rio baixo/ sem condi\\u00e7\\u00f5es/ falta de capital\",\"Falta de dinheiro/ sal\\u00e1rio baixo/ sem condi\\u00e7\\u00f5es/ falta de capital\",\"Falta de dinheiro/ sal\\u00e1rio baixo/ sem condi\\u00e7\\u00f5es/ falta de capital\",\"Falta de dinheiro/ sal\\u00e1rio baixo/ sem condi\\u00e7\\u00f5es/ falta de capital\",\"Falta de dinheiro/ sal\\u00e1rio baixo/ sem condi\\u00e7\\u00f5es/ falta de capital\",\"Falta de dinheiro/ sal\\u00e1rio baixo/ sem condi\\u00e7\\u00f5es/ falta de capital\",\"Falta de dinheiro/ sal\\u00e1rio baixo/ sem condi\\u00e7\\u00f5es/ falta de capital\",\"OUTRAS RESPOSTAS\",\"Teve outros gastos (doen\\u00e7a/ ajudou parentes/ contas para pagar/ d\\u00edvidas/ viagem/ festas/ compras/ estudos/ sa\\u00fade)\",\"Teve outros gastos (doen\\u00e7a/ ajudou parentes/ contas para pagar/ d\\u00edvidas/ viagem/ festas/ compras/ estudos/ sa\\u00fade)\",\"OUTRAS RESPOSTAS\",\"Falta de dinheiro/ sal\\u00e1rio baixo/ sem condi\\u00e7\\u00f5es/ falta de capital\",\"OUTRAS RESPOSTAS\",\"OUTRAS RESPOSTAS\",\"OUTRAS RESPOSTAS\",\"Falta de dinheiro/ sal\\u00e1rio baixo/ sem condi\\u00e7\\u00f5es/ falta de capital\",\"OUTRAS RESPOSTAS\",\"Falta de dinheiro/ sal\\u00e1rio baixo/ sem condi\\u00e7\\u00f5es/ falta de capital\",\"OUTRAS RESPOSTAS\",\"OUTRAS RESPOSTAS\",\"Desemprego/ n\\u00e3o tem emprego fixo/ sem renda\",\"Teve outros gastos (doen\\u00e7a/ ajudou parentes/ contas para pagar/ d\\u00edvidas/ viagem/ festas/ compras/ estudos/ sa\\u00fade)\",\"Falta de dinheiro/ sal\\u00e1rio baixo/ sem condi\\u00e7\\u00f5es/ falta de capital\",\"Falta de dinheiro/ sal\\u00e1rio baixo/ sem condi\\u00e7\\u00f5es/ falta de capital\",\"Falta de dinheiro/ sal\\u00e1rio baixo/ sem condi\\u00e7\\u00f5es/ falta de capital\",\"OUTRAS RESPOSTAS\",\"OUTRAS RESPOSTAS\",\"Desemprego/ n\\u00e3o tem emprego fixo/ sem renda\",\"Falta de dinheiro/ sal\\u00e1rio baixo/ sem condi\\u00e7\\u00f5es/ falta de capital\",\"OUTRAS RESPOSTAS\",\"Teve outros gastos (doen\\u00e7a/ ajudou parentes/ contas para pagar/ d\\u00edvidas/ viagem/ festas/ compras/ estudos/ sa\\u00fade)\",\"Desemprego/ n\\u00e3o tem emprego fixo/ sem renda\",\"Desemprego/ n\\u00e3o tem emprego fixo/ sem renda\",\"Desemprego/ n\\u00e3o tem emprego fixo/ sem renda\",\"OUTRAS RESPOSTAS\",\"OUTRAS RESPOSTAS\",\"OUTRAS RESPOSTAS\",\"OUTRAS RESPOSTAS\",\"OUTRAS RESPOSTAS\",\"OUTRAS RESPOSTAS\",\"OUTRAS RESPOSTAS\",\"Falta de dinheiro/ sal\\u00e1rio baixo/ sem condi\\u00e7\\u00f5es/ falta de capital\",\"Falta de dinheiro/ sal\\u00e1rio baixo/ sem condi\\u00e7\\u00f5es/ falta de capital\",\"Falta de dinheiro/ sal\\u00e1rio baixo/ sem condi\\u00e7\\u00f5es/ falta de capital\",\"OUTRAS RESPOSTAS\",\"Falta de dinheiro/ sal\\u00e1rio baixo/ sem condi\\u00e7\\u00f5es/ falta de capital\",\"Falta de dinheiro/ sal\\u00e1rio baixo/ sem condi\\u00e7\\u00f5es/ falta de capital\",\"OUTRAS RESPOSTAS\",\"OUTRAS RESPOSTAS\",\"Desemprego/ n\\u00e3o tem emprego fixo/ sem renda\",\"Desemprego/ n\\u00e3o tem emprego fixo/ sem renda\",\"OUTRAS RESPOSTAS\",\"OUTRAS RESPOSTAS\",\"Desemprego/ n\\u00e3o tem emprego fixo/ sem renda\",\"Falta de dinheiro/ sal\\u00e1rio baixo/ sem condi\\u00e7\\u00f5es/ falta de capital\",\"OUTRAS RESPOSTAS\",\"Desemprego/ n\\u00e3o tem emprego fixo/ sem renda\",\"Falta de dinheiro/ sal\\u00e1rio baixo/ sem condi\\u00e7\\u00f5es/ falta de capital\",\"Falta de dinheiro/ sal\\u00e1rio baixo/ sem condi\\u00e7\\u00f5es/ falta de capital\",\"Teve outros gastos (doen\\u00e7a/ ajudou parentes/ contas para pagar/ d\\u00edvidas/ viagem/ festas/ compras/ estudos/ sa\\u00fade)\",\"Falta de dinheiro/ sal\\u00e1rio baixo/ sem condi\\u00e7\\u00f5es/ falta de capital\",\"Falta de dinheiro/ sal\\u00e1rio baixo/ sem condi\\u00e7\\u00f5es/ falta de capital\",\"OUTRAS RESPOSTAS\",\"Desemprego/ n\\u00e3o tem emprego fixo/ sem renda\",\"Falta de dinheiro/ sal\\u00e1rio baixo/ sem condi\\u00e7\\u00f5es/ falta de capital\",\"OUTRAS RESPOSTAS\",\"OUTRAS RESPOSTAS\",\"Teve outros gastos (doen\\u00e7a/ ajudou parentes/ contas para pagar/ d\\u00edvidas/ viagem/ festas/ compras/ estudos/ sa\\u00fade)\",\"Falta de dinheiro/ sal\\u00e1rio baixo/ sem condi\\u00e7\\u00f5es/ falta de capital\",\"Falta de dinheiro/ sal\\u00e1rio baixo/ sem condi\\u00e7\\u00f5es/ falta de capital\",\"Falta de dinheiro/ sal\\u00e1rio baixo/ sem condi\\u00e7\\u00f5es/ falta de capital\",\"Falta de dinheiro/ sal\\u00e1rio baixo/ sem condi\\u00e7\\u00f5es/ falta de capital\",\"OUTRAS RESPOSTAS\",\"Falta de dinheiro/ sal\\u00e1rio baixo/ sem condi\\u00e7\\u00f5es/ falta de capital\",\"Desemprego/ n\\u00e3o tem emprego fixo/ sem renda\",\"Falta de dinheiro/ sal\\u00e1rio baixo/ sem condi\\u00e7\\u00f5es/ falta de capital\",\"Falta de dinheiro/ sal\\u00e1rio baixo/ sem condi\\u00e7\\u00f5es/ falta de capital\",\"OUTRAS RESPOSTAS\",\"OUTRAS RESPOSTAS\",\"Falta de dinheiro/ sal\\u00e1rio baixo/ sem condi\\u00e7\\u00f5es/ falta de capital\",\"Falta de dinheiro/ sal\\u00e1rio baixo/ sem condi\\u00e7\\u00f5es/ falta de capital\",\"Desemprego/ n\\u00e3o tem emprego fixo/ sem renda\",\"OUTRAS RESPOSTAS\",\"OUTRAS RESPOSTAS\",\"Desemprego/ n\\u00e3o tem emprego fixo/ sem renda\",\"Falta de dinheiro/ sal\\u00e1rio baixo/ sem condi\\u00e7\\u00f5es/ falta de capital\",\"OUTRAS RESPOSTAS\",\"OUTRAS RESPOSTAS\",\"Desemprego/ n\\u00e3o tem emprego fixo/ sem renda\",\"OUTRAS RESPOSTAS\",\"OUTRAS RESPOSTAS\",\"Falta de dinheiro/ sal\\u00e1rio baixo/ sem condi\\u00e7\\u00f5es/ falta de capital\",\"Falta de dinheiro/ sal\\u00e1rio baixo/ sem condi\\u00e7\\u00f5es/ falta de capital\",\"Falta de dinheiro/ sal\\u00e1rio baixo/ sem condi\\u00e7\\u00f5es/ falta de capital\",\"Falta de dinheiro/ sal\\u00e1rio baixo/ sem condi\\u00e7\\u00f5es/ falta de capital\",\"OUTRAS RESPOSTAS\",\"Desemprego/ n\\u00e3o tem emprego fixo/ sem renda\",\"OUTRAS RESPOSTAS\",\"Desemprego/ n\\u00e3o tem emprego fixo/ sem renda\",\"OUTRAS RESPOSTAS\",\"Falta de dinheiro/ sal\\u00e1rio baixo/ sem condi\\u00e7\\u00f5es/ falta de capital\",\"OUTRAS RESPOSTAS\",\"OUTRAS RESPOSTAS\",\"Falta de dinheiro/ sal\\u00e1rio baixo/ sem condi\\u00e7\\u00f5es/ falta de capital\",\"OUTRAS RESPOSTAS\",\"OUTRAS RESPOSTAS\",\"OUTRAS RESPOSTAS\",\"Desemprego/ n\\u00e3o tem emprego fixo/ sem renda\",\"OUTRAS RESPOSTAS\",\"Falta de dinheiro/ sal\\u00e1rio baixo/ sem condi\\u00e7\\u00f5es/ falta de capital\",\"OUTRAS RESPOSTAS\",\"Falta de dinheiro/ sal\\u00e1rio baixo/ sem condi\\u00e7\\u00f5es/ falta de capital\",\"OUTRAS RESPOSTAS\",\"Falta de dinheiro/ sal\\u00e1rio baixo/ sem condi\\u00e7\\u00f5es/ falta de capital\",\"OUTRAS RESPOSTAS\",\"Desemprego/ n\\u00e3o tem emprego fixo/ sem renda\",\"Desemprego/ n\\u00e3o tem emprego fixo/ sem renda\",\"Falta de dinheiro/ sal\\u00e1rio baixo/ sem condi\\u00e7\\u00f5es/ falta de capital\",\"Desemprego/ n\\u00e3o tem emprego fixo/ sem renda\",\"Teve outros gastos (doen\\u00e7a/ ajudou parentes/ contas para pagar/ d\\u00edvidas/ viagem/ festas/ compras/ estudos/ sa\\u00fade)\",\"Falta de dinheiro/ sal\\u00e1rio baixo/ sem condi\\u00e7\\u00f5es/ falta de capital\",\"OUTRAS RESPOSTAS\",\"Falta de dinheiro/ sal\\u00e1rio baixo/ sem condi\\u00e7\\u00f5es/ falta de capital\",\"Falta de dinheiro/ sal\\u00e1rio baixo/ sem condi\\u00e7\\u00f5es/ falta de capital\",\"OUTRAS RESPOSTAS\",\"Falta de dinheiro/ sal\\u00e1rio baixo/ sem condi\\u00e7\\u00f5es/ falta de capital\",\"Falta de dinheiro/ sal\\u00e1rio baixo/ sem condi\\u00e7\\u00f5es/ falta de capital\",\"Desemprego/ n\\u00e3o tem emprego fixo/ sem renda\",\"Desemprego/ n\\u00e3o tem emprego fixo/ sem renda\",\"OUTRAS RESPOSTAS\",\"Desemprego/ n\\u00e3o tem emprego fixo/ sem renda\",\"Desemprego/ n\\u00e3o tem emprego fixo/ sem renda\",\"Falta de dinheiro/ sal\\u00e1rio baixo/ sem condi\\u00e7\\u00f5es/ falta de capital\",\"OUTRAS RESPOSTAS\",\"OUTRAS RESPOSTAS\",\"OUTRAS RESPOSTAS\",\"OUTRAS RESPOSTAS\",\"OUTRAS RESPOSTAS\",\"Desemprego/ n\\u00e3o tem emprego fixo/ sem renda\",\"Desemprego/ n\\u00e3o tem emprego fixo/ sem renda\",\"OUTRAS RESPOSTAS\",\"OUTRAS RESPOSTAS\",\"Falta de dinheiro/ sal\\u00e1rio baixo/ sem condi\\u00e7\\u00f5es/ falta de capital\",\"Falta de dinheiro/ sal\\u00e1rio baixo/ sem condi\\u00e7\\u00f5es/ falta de capital\",\"OUTRAS RESPOSTAS\",\"Falta de dinheiro/ sal\\u00e1rio baixo/ sem condi\\u00e7\\u00f5es/ falta de capital\",\"Desemprego/ n\\u00e3o tem emprego fixo/ sem renda\",\"OUTRAS RESPOSTAS\",\"Teve outros gastos (doen\\u00e7a/ ajudou parentes/ contas para pagar/ d\\u00edvidas/ viagem/ festas/ compras/ estudos/ sa\\u00fade)\",\"OUTRAS RESPOSTAS\",\"Falta de dinheiro/ sal\\u00e1rio baixo/ sem condi\\u00e7\\u00f5es/ falta de capital\",\"OUTRAS RESPOSTAS\",\"Falta de dinheiro/ sal\\u00e1rio baixo/ sem condi\\u00e7\\u00f5es/ falta de capital\",\"Desemprego/ n\\u00e3o tem emprego fixo/ sem renda\",\"OUTRAS RESPOSTAS\",\"Desemprego/ n\\u00e3o tem emprego fixo/ sem renda\",\"OUTRAS RESPOSTAS\",\"Falta de dinheiro/ sal\\u00e1rio baixo/ sem condi\\u00e7\\u00f5es/ falta de capital\",\"Falta de dinheiro/ sal\\u00e1rio baixo/ sem condi\\u00e7\\u00f5es/ falta de capital\",\"Falta de dinheiro/ sal\\u00e1rio baixo/ sem condi\\u00e7\\u00f5es/ falta de capital\",\"OUTRAS RESPOSTAS\",\"Falta de dinheiro/ sal\\u00e1rio baixo/ sem condi\\u00e7\\u00f5es/ falta de capital\",\"Falta de dinheiro/ sal\\u00e1rio baixo/ sem condi\\u00e7\\u00f5es/ falta de capital\",\"Teve outros gastos (doen\\u00e7a/ ajudou parentes/ contas para pagar/ d\\u00edvidas/ viagem/ festas/ compras/ estudos/ sa\\u00fade)\",\"Falta de dinheiro/ sal\\u00e1rio baixo/ sem condi\\u00e7\\u00f5es/ falta de capital\",\"Falta de dinheiro/ sal\\u00e1rio baixo/ sem condi\\u00e7\\u00f5es/ falta de capital\",\"Falta de dinheiro/ sal\\u00e1rio baixo/ sem condi\\u00e7\\u00f5es/ falta de capital\",\"Falta de dinheiro/ sal\\u00e1rio baixo/ sem condi\\u00e7\\u00f5es/ falta de capital\",\"Teve outros gastos (doen\\u00e7a/ ajudou parentes/ contas para pagar/ d\\u00edvidas/ viagem/ festas/ compras/ estudos/ sa\\u00fade)\",\"Falta de dinheiro/ sal\\u00e1rio baixo/ sem condi\\u00e7\\u00f5es/ falta de capital\",\"Falta de dinheiro/ sal\\u00e1rio baixo/ sem condi\\u00e7\\u00f5es/ falta de capital\",\"OUTRAS RESPOSTAS\",\"Falta de dinheiro/ sal\\u00e1rio baixo/ sem condi\\u00e7\\u00f5es/ falta de capital\",\"Falta de dinheiro/ sal\\u00e1rio baixo/ sem condi\\u00e7\\u00f5es/ falta de capital\",\"Falta de dinheiro/ sal\\u00e1rio baixo/ sem condi\\u00e7\\u00f5es/ falta de capital\",\"OUTRAS RESPOSTAS\",\"Falta de dinheiro/ sal\\u00e1rio baixo/ sem condi\\u00e7\\u00f5es/ falta de capital\",\"Falta de dinheiro/ sal\\u00e1rio baixo/ sem condi\\u00e7\\u00f5es/ falta de capital\",\"OUTRAS RESPOSTAS\",\"Teve outros gastos (doen\\u00e7a/ ajudou parentes/ contas para pagar/ d\\u00edvidas/ viagem/ festas/ compras/ estudos/ sa\\u00fade)\",\"Falta de dinheiro/ sal\\u00e1rio baixo/ sem condi\\u00e7\\u00f5es/ falta de capital\",\"Falta de dinheiro/ sal\\u00e1rio baixo/ sem condi\\u00e7\\u00f5es/ falta de capital\",\"Falta de dinheiro/ sal\\u00e1rio baixo/ sem condi\\u00e7\\u00f5es/ falta de capital\",\"OUTRAS RESPOSTAS\",\"Falta de dinheiro/ sal\\u00e1rio baixo/ sem condi\\u00e7\\u00f5es/ falta de capital\",\"Falta de dinheiro/ sal\\u00e1rio baixo/ sem condi\\u00e7\\u00f5es/ falta de capital\",\"Falta de dinheiro/ sal\\u00e1rio baixo/ sem condi\\u00e7\\u00f5es/ falta de capital\",\"Falta de dinheiro/ sal\\u00e1rio baixo/ sem condi\\u00e7\\u00f5es/ falta de capital\",\"OUTRAS RESPOSTAS\",\"Falta de dinheiro/ sal\\u00e1rio baixo/ sem condi\\u00e7\\u00f5es/ falta de capital\",\"Falta de dinheiro/ sal\\u00e1rio baixo/ sem condi\\u00e7\\u00f5es/ falta de capital\",\"OUTRAS RESPOSTAS\",\"Falta de dinheiro/ sal\\u00e1rio baixo/ sem condi\\u00e7\\u00f5es/ falta de capital\",\"Teve outros gastos (doen\\u00e7a/ ajudou parentes/ contas para pagar/ d\\u00edvidas/ viagem/ festas/ compras/ estudos/ sa\\u00fade)\",\"Falta de dinheiro/ sal\\u00e1rio baixo/ sem condi\\u00e7\\u00f5es/ falta de capital\",\"Desemprego/ n\\u00e3o tem emprego fixo/ sem renda\",\"OUTRAS RESPOSTAS\",\"Falta de dinheiro/ sal\\u00e1rio baixo/ sem condi\\u00e7\\u00f5es/ falta de capital\",\"Teve outros gastos (doen\\u00e7a/ ajudou parentes/ contas para pagar/ d\\u00edvidas/ viagem/ festas/ compras/ estudos/ sa\\u00fade)\",\"OUTRAS RESPOSTAS\",\"OUTRAS RESPOSTAS\",\"Falta de dinheiro/ sal\\u00e1rio baixo/ sem condi\\u00e7\\u00f5es/ falta de capital\",\"Desemprego/ n\\u00e3o tem emprego fixo/ sem renda\",\"OUTRAS RESPOSTAS\",\"OUTRAS RESPOSTAS\",\"Falta de dinheiro/ sal\\u00e1rio baixo/ sem condi\\u00e7\\u00f5es/ falta de capital\",\"OUTRAS RESPOSTAS\",\"Falta de dinheiro/ sal\\u00e1rio baixo/ sem condi\\u00e7\\u00f5es/ falta de capital\",\"OUTRAS RESPOSTAS\",\"OUTRAS RESPOSTAS\",\"Falta de dinheiro/ sal\\u00e1rio baixo/ sem condi\\u00e7\\u00f5es/ falta de capital\",\"Desemprego/ n\\u00e3o tem emprego fixo/ sem renda\",\"Teve outros gastos (doen\\u00e7a/ ajudou parentes/ contas para pagar/ d\\u00edvidas/ viagem/ festas/ compras/ estudos/ sa\\u00fade)\",\"OUTRAS RESPOSTAS\",\"OUTRAS RESPOSTAS\",\"OUTRAS RESPOSTAS\",\"OUTRAS RESPOSTAS\",\"Desemprego/ n\\u00e3o tem emprego fixo/ sem renda\",\"OUTRAS RESPOSTAS\",\"OUTRAS RESPOSTAS\",\"OUTRAS RESPOSTAS\",\"OUTRAS RESPOSTAS\",\"Falta de dinheiro/ sal\\u00e1rio baixo/ sem condi\\u00e7\\u00f5es/ falta de capital\",\"OUTRAS RESPOSTAS\",\"Falta de dinheiro/ sal\\u00e1rio baixo/ sem condi\\u00e7\\u00f5es/ falta de capital\",\"Falta de dinheiro/ sal\\u00e1rio baixo/ sem condi\\u00e7\\u00f5es/ falta de capital\",\"OUTRAS RESPOSTAS\",\"Falta de dinheiro/ sal\\u00e1rio baixo/ sem condi\\u00e7\\u00f5es/ falta de capital\",\"OUTRAS RESPOSTAS\",\"OUTRAS RESPOSTAS\",\"Falta de dinheiro/ sal\\u00e1rio baixo/ sem condi\\u00e7\\u00f5es/ falta de capital\",\"Falta de dinheiro/ sal\\u00e1rio baixo/ sem condi\\u00e7\\u00f5es/ falta de capital\",\"Desemprego/ n\\u00e3o tem emprego fixo/ sem renda\",\"OUTRAS RESPOSTAS\",\"OUTRAS RESPOSTAS\",\"Desemprego/ n\\u00e3o tem emprego fixo/ sem renda\",\"Falta de dinheiro/ sal\\u00e1rio baixo/ sem condi\\u00e7\\u00f5es/ falta de capital\",\"Teve outros gastos (doen\\u00e7a/ ajudou parentes/ contas para pagar/ d\\u00edvidas/ viagem/ festas/ compras/ estudos/ sa\\u00fade)\",\"Desemprego/ n\\u00e3o tem emprego fixo/ sem renda\",\"Falta de dinheiro/ sal\\u00e1rio baixo/ sem condi\\u00e7\\u00f5es/ falta de capital\",\"Desemprego/ n\\u00e3o tem emprego fixo/ sem renda\",\"OUTRAS RESPOSTAS\",\"Falta de dinheiro/ sal\\u00e1rio baixo/ sem condi\\u00e7\\u00f5es/ falta de capital\",\"OUTRAS RESPOSTAS\",\"OUTRAS RESPOSTAS\",\"OUTRAS RESPOSTAS\",\"Desemprego/ n\\u00e3o tem emprego fixo/ sem renda\",\"Falta de dinheiro/ sal\\u00e1rio baixo/ sem condi\\u00e7\\u00f5es/ falta de capital\",\"OUTRAS RESPOSTAS\",\"OUTRAS RESPOSTAS\",\"Desemprego/ n\\u00e3o tem emprego fixo/ sem renda\",\"OUTRAS RESPOSTAS\",\"OUTRAS RESPOSTAS\",\"Desemprego/ n\\u00e3o tem emprego fixo/ sem renda\",\"OUTRAS RESPOSTAS\",\"Falta de dinheiro/ sal\\u00e1rio baixo/ sem condi\\u00e7\\u00f5es/ falta de capital\",\"Desemprego/ n\\u00e3o tem emprego fixo/ sem renda\",\"Desemprego/ n\\u00e3o tem emprego fixo/ sem renda\",\"Falta de dinheiro/ sal\\u00e1rio baixo/ sem condi\\u00e7\\u00f5es/ falta de capital\",\"Falta de dinheiro/ sal\\u00e1rio baixo/ sem condi\\u00e7\\u00f5es/ falta de capital\",\"OUTRAS RESPOSTAS\",\"Falta de dinheiro/ sal\\u00e1rio baixo/ sem condi\\u00e7\\u00f5es/ falta de capital\",\"Falta de dinheiro/ sal\\u00e1rio baixo/ sem condi\\u00e7\\u00f5es/ falta de capital\",\"Falta de dinheiro/ sal\\u00e1rio baixo/ sem condi\\u00e7\\u00f5es/ falta de capital\",\"Falta de dinheiro/ sal\\u00e1rio baixo/ sem condi\\u00e7\\u00f5es/ falta de capital\",\"Desemprego/ n\\u00e3o tem emprego fixo/ sem renda\",\"Falta de dinheiro/ sal\\u00e1rio baixo/ sem condi\\u00e7\\u00f5es/ falta de capital\",\"OUTRAS RESPOSTAS\",\"OUTRAS RESPOSTAS\",\"OUTRAS RESPOSTAS\",\"OUTRAS RESPOSTAS\",\"Falta de dinheiro/ sal\\u00e1rio baixo/ sem condi\\u00e7\\u00f5es/ falta de capital\",\"Falta de dinheiro/ sal\\u00e1rio baixo/ sem condi\\u00e7\\u00f5es/ falta de capital\",\"Falta de dinheiro/ sal\\u00e1rio baixo/ sem condi\\u00e7\\u00f5es/ falta de capital\",\"Falta de dinheiro/ sal\\u00e1rio baixo/ sem condi\\u00e7\\u00f5es/ falta de capital\",\"OUTRAS RESPOSTAS\",\"Falta de dinheiro/ sal\\u00e1rio baixo/ sem condi\\u00e7\\u00f5es/ falta de capital\",\"Falta de dinheiro/ sal\\u00e1rio baixo/ sem condi\\u00e7\\u00f5es/ falta de capital\",\"OUTRAS RESPOSTAS\",\"Falta de dinheiro/ sal\\u00e1rio baixo/ sem condi\\u00e7\\u00f5es/ falta de capital\",\"Desemprego/ n\\u00e3o tem emprego fixo/ sem renda\",\"OUTRAS RESPOSTAS\",\"Desemprego/ n\\u00e3o tem emprego fixo/ sem renda\",\"Falta de dinheiro/ sal\\u00e1rio baixo/ sem condi\\u00e7\\u00f5es/ falta de capital\",\"Desemprego/ n\\u00e3o tem emprego fixo/ sem renda\",\"Desemprego/ n\\u00e3o tem emprego fixo/ sem renda\",\"Falta de dinheiro/ sal\\u00e1rio baixo/ sem condi\\u00e7\\u00f5es/ falta de capital\",\"Falta de dinheiro/ sal\\u00e1rio baixo/ sem condi\\u00e7\\u00f5es/ falta de capital\",\"Teve outros gastos (doen\\u00e7a/ ajudou parentes/ contas para pagar/ d\\u00edvidas/ viagem/ festas/ compras/ estudos/ sa\\u00fade)\",\"Falta de dinheiro/ sal\\u00e1rio baixo/ sem condi\\u00e7\\u00f5es/ falta de capital\",\"Falta de dinheiro/ sal\\u00e1rio baixo/ sem condi\\u00e7\\u00f5es/ falta de capital\",\"Desemprego/ n\\u00e3o tem emprego fixo/ sem renda\",\"OUTRAS RESPOSTAS\",\"OUTRAS RESPOSTAS\",\"OUTRAS RESPOSTAS\",\"OUTRAS RESPOSTAS\",\"OUTRAS RESPOSTAS\",\"OUTRAS RESPOSTAS\",\"Falta de dinheiro/ sal\\u00e1rio baixo/ sem condi\\u00e7\\u00f5es/ falta de capital\",\"OUTRAS RESPOSTAS\",\"Falta de dinheiro/ sal\\u00e1rio baixo/ sem condi\\u00e7\\u00f5es/ falta de capital\",\"Falta de dinheiro/ sal\\u00e1rio baixo/ sem condi\\u00e7\\u00f5es/ falta de capital\",\"OUTRAS RESPOSTAS\",\"Teve outros gastos (doen\\u00e7a/ ajudou parentes/ contas para pagar/ d\\u00edvidas/ viagem/ festas/ compras/ estudos/ sa\\u00fade)\",\"OUTRAS RESPOSTAS\",\"Desemprego/ n\\u00e3o tem emprego fixo/ sem renda\",\"Falta de dinheiro/ sal\\u00e1rio baixo/ sem condi\\u00e7\\u00f5es/ falta de capital\",\"Falta de dinheiro/ sal\\u00e1rio baixo/ sem condi\\u00e7\\u00f5es/ falta de capital\",\"Falta de dinheiro/ sal\\u00e1rio baixo/ sem condi\\u00e7\\u00f5es/ falta de capital\",\"Desemprego/ n\\u00e3o tem emprego fixo/ sem renda\",\"OUTRAS RESPOSTAS\",\"OUTRAS RESPOSTAS\",\"OUTRAS RESPOSTAS\",\"Falta de dinheiro/ sal\\u00e1rio baixo/ sem condi\\u00e7\\u00f5es/ falta de capital\",\"Falta de dinheiro/ sal\\u00e1rio baixo/ sem condi\\u00e7\\u00f5es/ falta de capital\",\"Desemprego/ n\\u00e3o tem emprego fixo/ sem renda\",\"OUTRAS RESPOSTAS\",\"OUTRAS RESPOSTAS\",\"OUTRAS RESPOSTAS\",\"Falta de dinheiro/ sal\\u00e1rio baixo/ sem condi\\u00e7\\u00f5es/ falta de capital\",\"Falta de dinheiro/ sal\\u00e1rio baixo/ sem condi\\u00e7\\u00f5es/ falta de capital\",\"Falta de dinheiro/ sal\\u00e1rio baixo/ sem condi\\u00e7\\u00f5es/ falta de capital\",\"OUTRAS RESPOSTAS\",\"Teve outros gastos (doen\\u00e7a/ ajudou parentes/ contas para pagar/ d\\u00edvidas/ viagem/ festas/ compras/ estudos/ sa\\u00fade)\",\"OUTRAS RESPOSTAS\",\"Teve outros gastos (doen\\u00e7a/ ajudou parentes/ contas para pagar/ d\\u00edvidas/ viagem/ festas/ compras/ estudos/ sa\\u00fade)\",\"Teve outros gastos (doen\\u00e7a/ ajudou parentes/ contas para pagar/ d\\u00edvidas/ viagem/ festas/ compras/ estudos/ sa\\u00fade)\",\"Desemprego/ n\\u00e3o tem emprego fixo/ sem renda\",\"OUTRAS RESPOSTAS\",\"Falta de dinheiro/ sal\\u00e1rio baixo/ sem condi\\u00e7\\u00f5es/ falta de capital\",\"Desemprego/ n\\u00e3o tem emprego fixo/ sem renda\",\"Falta de dinheiro/ sal\\u00e1rio baixo/ sem condi\\u00e7\\u00f5es/ falta de capital\",\"OUTRAS RESPOSTAS\",\"Falta de dinheiro/ sal\\u00e1rio baixo/ sem condi\\u00e7\\u00f5es/ falta de capital\",\"Falta de dinheiro/ sal\\u00e1rio baixo/ sem condi\\u00e7\\u00f5es/ falta de capital\",\"Falta de dinheiro/ sal\\u00e1rio baixo/ sem condi\\u00e7\\u00f5es/ falta de capital\",\"Teve outros gastos (doen\\u00e7a/ ajudou parentes/ contas para pagar/ d\\u00edvidas/ viagem/ festas/ compras/ estudos/ sa\\u00fade)\",\"OUTRAS RESPOSTAS\",\"Desemprego/ n\\u00e3o tem emprego fixo/ sem renda\",\"Falta de dinheiro/ sal\\u00e1rio baixo/ sem condi\\u00e7\\u00f5es/ falta de capital\",\"Falta de dinheiro/ sal\\u00e1rio baixo/ sem condi\\u00e7\\u00f5es/ falta de capital\",\"Falta de dinheiro/ sal\\u00e1rio baixo/ sem condi\\u00e7\\u00f5es/ falta de capital\",\"OUTRAS RESPOSTAS\",\"Teve outros gastos (doen\\u00e7a/ ajudou parentes/ contas para pagar/ d\\u00edvidas/ viagem/ festas/ compras/ estudos/ sa\\u00fade)\",\"Falta de dinheiro/ sal\\u00e1rio baixo/ sem condi\\u00e7\\u00f5es/ falta de capital\",\"OUTRAS RESPOSTAS\",\"Falta de dinheiro/ sal\\u00e1rio baixo/ sem condi\\u00e7\\u00f5es/ falta de capital\",\"Falta de dinheiro/ sal\\u00e1rio baixo/ sem condi\\u00e7\\u00f5es/ falta de capital\",\"OUTRAS RESPOSTAS\"],\"legendgroup\":\"\",\"marker\":{\"colors\":[\"#150035\",\"#5E96EC\",\"#150035\",\"#150035\",\"#5E96EC\",\"#5E96EC\",\"#150035\",\"#150035\",\"#150035\",\"#5E96EC\",\"#150035\",\"#5E96EC\",\"#150035\",\"#150035\",\"#150035\",\"#150035\",\"#150035\",\"#150035\",\"E1EEE5\",\"#5E96EC\",\"#150035\",\"#5E96EC\",\"#5E96EC\",\"#150035\",\"#5E96EC\",\"#150035\",\"#5E96EC\",\"#FDE443\",\"#150035\",\"#5E96EC\",\"#5E96EC\",\"#150035\",\"#5E96EC\",\"#5E96EC\",\"#150035\",\"#5E96EC\",\"#5E96EC\",\"#150035\",\"#5E96EC\",\"#150035\",\"#150035\",\"E1EEE5\",\"#5E96EC\",\"#150035\",\"#150035\",\"#150035\",\"#5E96EC\",\"#5E96EC\",\"#5E96EC\",\"#150035\",\"#5E96EC\",\"#150035\",\"#5E96EC\",\"#5E96EC\",\"#5E96EC\",\"#150035\",\"#150035\",\"E1EEE5\",\"#150035\",\"#150035\",\"#5E96EC\",\"#FDE443\",\"#150035\",\"#5E96EC\",\"#150035\",\"#150035\",\"#5E96EC\",\"#150035\",\"#5E96EC\",\"#150035\",\"#150035\",\"#FDE443\",\"#5E96EC\",\"#5E96EC\",\"#150035\",\"#150035\",\"#5E96EC\",\"#150035\",\"#150035\",\"#5E96EC\",\"#150035\",\"#150035\",\"#150035\",\"#FDE443\",\"#5E96EC\",\"#5E96EC\",\"#5E96EC\",\"#150035\",\"#150035\",\"E1EEE5\",\"#5E96EC\",\"#5E96EC\",\"#5E96EC\",\"#5E96EC\",\"#FDE443\",\"#5E96EC\",\"#5E96EC\",\"#150035\",\"#150035\",\"#FDE443\",\"#FDE443\",\"#150035\",\"#150035\",\"#5E96EC\",\"#150035\",\"#150035\",\"#150035\",\"#5E96EC\",\"#150035\",\"E1EEE5\",\"#5E96EC\",\"E1EEE5\",\"#FDE443\",\"#5E96EC\",\"#5E96EC\",\"#150035\",\"#150035\",\"#5E96EC\",\"#5E96EC\",\"#150035\",\"#150035\",\"#FDE443\",\"#150035\",\"#FDE443\",\"E1EEE5\",\"#150035\",\"#150035\",\"#FDE443\",\"#150035\",\"#150035\",\"#5E96EC\",\"#150035\",\"E1EEE5\",\"#5E96EC\",\"#150035\",\"#150035\",\"#150035\",\"#150035\",\"#5E96EC\",\"#5E96EC\",\"#5E96EC\",\"#150035\",\"#150035\",\"#5E96EC\",\"#5E96EC\",\"#FDE443\",\"#150035\",\"#5E96EC\",\"#150035\",\"#150035\",\"#FDE443\",\"#150035\",\"#5E96EC\",\"#5E96EC\",\"#150035\",\"#5E96EC\",\"E1EEE5\",\"#5E96EC\",\"#5E96EC\",\"#150035\",\"#FDE443\",\"E1EEE5\",\"#150035\",\"#FDE443\",\"#5E96EC\",\"#150035\",\"#150035\",\"#150035\",\"#5E96EC\",\"#150035\",\"#150035\",\"#150035\",\"#5E96EC\",\"#150035\",\"#150035\",\"#150035\",\"#5E96EC\",\"#5E96EC\",\"#5E96EC\",\"#150035\",\"#5E96EC\",\"#150035\",\"#5E96EC\",\"#5E96EC\",\"#150035\",\"#5E96EC\",\"#5E96EC\",\"#5E96EC\",\"#FDE443\",\"#5E96EC\",\"#150035\",\"#FDE443\",\"#150035\",\"#5E96EC\",\"#5E96EC\",\"#150035\",\"#150035\",\"#150035\",\"#5E96EC\",\"#150035\",\"#150035\",\"#5E96EC\",\"#150035\",\"#5E96EC\",\"#150035\",\"#5E96EC\",\"#150035\",\"#150035\",\"#150035\",\"#150035\",\"#FDE443\",\"#5E96EC\",\"#FDE443\",\"#150035\",\"#FDE443\",\"#5E96EC\",\"#150035\",\"#5E96EC\",\"#150035\",\"#150035\",\"#150035\",\"#150035\",\"#150035\",\"#150035\",\"#150035\",\"#5E96EC\",\"#150035\",\"#5E96EC\",\"#150035\",\"#FDE443\",\"#150035\",\"#5E96EC\",\"#FDE443\",\"#150035\",\"#150035\",\"#5E96EC\",\"#150035\",\"#FDE443\",\"#5E96EC\",\"#5E96EC\",\"#FDE443\",\"E1EEE5\",\"#150035\",\"#5E96EC\",\"#150035\",\"#150035\",\"#5E96EC\",\"#5E96EC\",\"#150035\",\"#FDE443\",\"#5E96EC\",\"#5E96EC\",\"#5E96EC\",\"#150035\",\"#5E96EC\",\"#5E96EC\",\"#150035\",\"#5E96EC\",\"#5E96EC\",\"#5E96EC\",\"#150035\",\"#5E96EC\",\"#150035\",\"#150035\",\"#5E96EC\",\"#150035\",\"#5E96EC\",\"#150035\",\"#FDE443\",\"#FDE443\",\"#150035\",\"#150035\",\"#5E96EC\",\"#150035\",\"#150035\",\"E1EEE5\",\"#5E96EC\",\"#5E96EC\",\"E1EEE5\",\"#5E96EC\",\"#5E96EC\",\"#150035\",\"#150035\",\"#5E96EC\",\"#5E96EC\",\"#150035\",\"#5E96EC\",\"#FDE443\",\"#150035\",\"#150035\",\"#150035\",\"#150035\",\"#150035\",\"#150035\",\"#5E96EC\",\"#5E96EC\",\"#150035\",\"#FDE443\",\"#150035\",\"#5E96EC\",\"#150035\",\"#5E96EC\",\"#5E96EC\",\"#150035\",\"#5E96EC\",\"#150035\",\"#5E96EC\",\"#5E96EC\",\"#5E96EC\",\"#5E96EC\",\"#5E96EC\",\"#5E96EC\",\"#150035\",\"#150035\",\"#150035\",\"#150035\",\"#150035\",\"#150035\",\"#150035\",\"#5E96EC\",\"E1EEE5\",\"E1EEE5\",\"#5E96EC\",\"#150035\",\"#5E96EC\",\"#5E96EC\",\"#5E96EC\",\"#150035\",\"#5E96EC\",\"#150035\",\"#5E96EC\",\"#5E96EC\",\"#FDE443\",\"E1EEE5\",\"#150035\",\"#150035\",\"#150035\",\"#5E96EC\",\"#5E96EC\",\"#FDE443\",\"#150035\",\"#5E96EC\",\"E1EEE5\",\"#FDE443\",\"#FDE443\",\"#FDE443\",\"#5E96EC\",\"#5E96EC\",\"#5E96EC\",\"#5E96EC\",\"#5E96EC\",\"#5E96EC\",\"#5E96EC\",\"#150035\",\"#150035\",\"#150035\",\"#5E96EC\",\"#150035\",\"#150035\",\"#5E96EC\",\"#5E96EC\",\"#FDE443\",\"#FDE443\",\"#5E96EC\",\"#5E96EC\",\"#FDE443\",\"#150035\",\"#5E96EC\",\"#FDE443\",\"#150035\",\"#150035\",\"E1EEE5\",\"#150035\",\"#150035\",\"#5E96EC\",\"#FDE443\",\"#150035\",\"#5E96EC\",\"#5E96EC\",\"E1EEE5\",\"#150035\",\"#150035\",\"#150035\",\"#150035\",\"#5E96EC\",\"#150035\",\"#FDE443\",\"#150035\",\"#150035\",\"#5E96EC\",\"#5E96EC\",\"#150035\",\"#150035\",\"#FDE443\",\"#5E96EC\",\"#5E96EC\",\"#FDE443\",\"#150035\",\"#5E96EC\",\"#5E96EC\",\"#FDE443\",\"#5E96EC\",\"#5E96EC\",\"#150035\",\"#150035\",\"#150035\",\"#150035\",\"#5E96EC\",\"#FDE443\",\"#5E96EC\",\"#FDE443\",\"#5E96EC\",\"#150035\",\"#5E96EC\",\"#5E96EC\",\"#150035\",\"#5E96EC\",\"#5E96EC\",\"#5E96EC\",\"#FDE443\",\"#5E96EC\",\"#150035\",\"#5E96EC\",\"#150035\",\"#5E96EC\",\"#150035\",\"#5E96EC\",\"#FDE443\",\"#FDE443\",\"#150035\",\"#FDE443\",\"E1EEE5\",\"#150035\",\"#5E96EC\",\"#150035\",\"#150035\",\"#5E96EC\",\"#150035\",\"#150035\",\"#FDE443\",\"#FDE443\",\"#5E96EC\",\"#FDE443\",\"#FDE443\",\"#150035\",\"#5E96EC\",\"#5E96EC\",\"#5E96EC\",\"#5E96EC\",\"#5E96EC\",\"#FDE443\",\"#FDE443\",\"#5E96EC\",\"#5E96EC\",\"#150035\",\"#150035\",\"#5E96EC\",\"#150035\",\"#FDE443\",\"#5E96EC\",\"E1EEE5\",\"#5E96EC\",\"#150035\",\"#5E96EC\",\"#150035\",\"#FDE443\",\"#5E96EC\",\"#FDE443\",\"#5E96EC\",\"#150035\",\"#150035\",\"#150035\",\"#5E96EC\",\"#150035\",\"#150035\",\"E1EEE5\",\"#150035\",\"#150035\",\"#150035\",\"#150035\",\"E1EEE5\",\"#150035\",\"#150035\",\"#5E96EC\",\"#150035\",\"#150035\",\"#150035\",\"#5E96EC\",\"#150035\",\"#150035\",\"#5E96EC\",\"E1EEE5\",\"#150035\",\"#150035\",\"#150035\",\"#5E96EC\",\"#150035\",\"#150035\",\"#150035\",\"#150035\",\"#5E96EC\",\"#150035\",\"#150035\",\"#5E96EC\",\"#150035\",\"E1EEE5\",\"#150035\",\"#FDE443\",\"#5E96EC\",\"#150035\",\"E1EEE5\",\"#5E96EC\",\"#5E96EC\",\"#150035\",\"#FDE443\",\"#5E96EC\",\"#5E96EC\",\"#150035\",\"#5E96EC\",\"#150035\",\"#5E96EC\",\"#5E96EC\",\"#150035\",\"#FDE443\",\"E1EEE5\",\"#5E96EC\",\"#5E96EC\",\"#5E96EC\",\"#5E96EC\",\"#FDE443\",\"#5E96EC\",\"#5E96EC\",\"#5E96EC\",\"#5E96EC\",\"#150035\",\"#5E96EC\",\"#150035\",\"#150035\",\"#5E96EC\",\"#150035\",\"#5E96EC\",\"#5E96EC\",\"#150035\",\"#150035\",\"#FDE443\",\"#5E96EC\",\"#5E96EC\",\"#FDE443\",\"#150035\",\"E1EEE5\",\"#FDE443\",\"#150035\",\"#FDE443\",\"#5E96EC\",\"#150035\",\"#5E96EC\",\"#5E96EC\",\"#5E96EC\",\"#FDE443\",\"#150035\",\"#5E96EC\",\"#5E96EC\",\"#FDE443\",\"#5E96EC\",\"#5E96EC\",\"#FDE443\",\"#5E96EC\",\"#150035\",\"#FDE443\",\"#FDE443\",\"#150035\",\"#150035\",\"#5E96EC\",\"#150035\",\"#150035\",\"#150035\",\"#150035\",\"#FDE443\",\"#150035\",\"#5E96EC\",\"#5E96EC\",\"#5E96EC\",\"#5E96EC\",\"#150035\",\"#150035\",\"#150035\",\"#150035\",\"#5E96EC\",\"#150035\",\"#150035\",\"#5E96EC\",\"#150035\",\"#FDE443\",\"#5E96EC\",\"#FDE443\",\"#150035\",\"#FDE443\",\"#FDE443\",\"#150035\",\"#150035\",\"E1EEE5\",\"#150035\",\"#150035\",\"#FDE443\",\"#5E96EC\",\"#5E96EC\",\"#5E96EC\",\"#5E96EC\",\"#5E96EC\",\"#5E96EC\",\"#150035\",\"#5E96EC\",\"#150035\",\"#150035\",\"#5E96EC\",\"E1EEE5\",\"#5E96EC\",\"#FDE443\",\"#150035\",\"#150035\",\"#150035\",\"#FDE443\",\"#5E96EC\",\"#5E96EC\",\"#5E96EC\",\"#150035\",\"#150035\",\"#FDE443\",\"#5E96EC\",\"#5E96EC\",\"#5E96EC\",\"#150035\",\"#150035\",\"#150035\",\"#5E96EC\",\"E1EEE5\",\"#5E96EC\",\"E1EEE5\",\"E1EEE5\",\"#FDE443\",\"#5E96EC\",\"#150035\",\"#FDE443\",\"#150035\",\"#5E96EC\",\"#150035\",\"#150035\",\"#150035\",\"E1EEE5\",\"#5E96EC\",\"#FDE443\",\"#150035\",\"#150035\",\"#150035\",\"#5E96EC\",\"E1EEE5\",\"#150035\",\"#5E96EC\",\"#150035\",\"#150035\",\"#5E96EC\"]},\"name\":\"\",\"showlegend\":true,\"type\":\"pie\"}],                        {\"template\":{\"data\":{\"bar\":[{\"error_x\":{\"color\":\"#2a3f5f\"},\"error_y\":{\"color\":\"#2a3f5f\"},\"marker\":{\"line\":{\"color\":\"#E5ECF6\",\"width\":0.5},\"pattern\":{\"fillmode\":\"overlay\",\"size\":10,\"solidity\":0.2}},\"type\":\"bar\"}],\"barpolar\":[{\"marker\":{\"line\":{\"color\":\"#E5ECF6\",\"width\":0.5},\"pattern\":{\"fillmode\":\"overlay\",\"size\":10,\"solidity\":0.2}},\"type\":\"barpolar\"}],\"carpet\":[{\"aaxis\":{\"endlinecolor\":\"#2a3f5f\",\"gridcolor\":\"white\",\"linecolor\":\"white\",\"minorgridcolor\":\"white\",\"startlinecolor\":\"#2a3f5f\"},\"baxis\":{\"endlinecolor\":\"#2a3f5f\",\"gridcolor\":\"white\",\"linecolor\":\"white\",\"minorgridcolor\":\"white\",\"startlinecolor\":\"#2a3f5f\"},\"type\":\"carpet\"}],\"choropleth\":[{\"colorbar\":{\"outlinewidth\":0,\"ticks\":\"\"},\"type\":\"choropleth\"}],\"contour\":[{\"colorbar\":{\"outlinewidth\":0,\"ticks\":\"\"},\"colorscale\":[[0.0,\"#0d0887\"],[0.1111111111111111,\"#46039f\"],[0.2222222222222222,\"#7201a8\"],[0.3333333333333333,\"#9c179e\"],[0.4444444444444444,\"#bd3786\"],[0.5555555555555556,\"#d8576b\"],[0.6666666666666666,\"#ed7953\"],[0.7777777777777778,\"#fb9f3a\"],[0.8888888888888888,\"#fdca26\"],[1.0,\"#f0f921\"]],\"type\":\"contour\"}],\"contourcarpet\":[{\"colorbar\":{\"outlinewidth\":0,\"ticks\":\"\"},\"type\":\"contourcarpet\"}],\"heatmap\":[{\"colorbar\":{\"outlinewidth\":0,\"ticks\":\"\"},\"colorscale\":[[0.0,\"#0d0887\"],[0.1111111111111111,\"#46039f\"],[0.2222222222222222,\"#7201a8\"],[0.3333333333333333,\"#9c179e\"],[0.4444444444444444,\"#bd3786\"],[0.5555555555555556,\"#d8576b\"],[0.6666666666666666,\"#ed7953\"],[0.7777777777777778,\"#fb9f3a\"],[0.8888888888888888,\"#fdca26\"],[1.0,\"#f0f921\"]],\"type\":\"heatmap\"}],\"heatmapgl\":[{\"colorbar\":{\"outlinewidth\":0,\"ticks\":\"\"},\"colorscale\":[[0.0,\"#0d0887\"],[0.1111111111111111,\"#46039f\"],[0.2222222222222222,\"#7201a8\"],[0.3333333333333333,\"#9c179e\"],[0.4444444444444444,\"#bd3786\"],[0.5555555555555556,\"#d8576b\"],[0.6666666666666666,\"#ed7953\"],[0.7777777777777778,\"#fb9f3a\"],[0.8888888888888888,\"#fdca26\"],[1.0,\"#f0f921\"]],\"type\":\"heatmapgl\"}],\"histogram\":[{\"marker\":{\"pattern\":{\"fillmode\":\"overlay\",\"size\":10,\"solidity\":0.2}},\"type\":\"histogram\"}],\"histogram2d\":[{\"colorbar\":{\"outlinewidth\":0,\"ticks\":\"\"},\"colorscale\":[[0.0,\"#0d0887\"],[0.1111111111111111,\"#46039f\"],[0.2222222222222222,\"#7201a8\"],[0.3333333333333333,\"#9c179e\"],[0.4444444444444444,\"#bd3786\"],[0.5555555555555556,\"#d8576b\"],[0.6666666666666666,\"#ed7953\"],[0.7777777777777778,\"#fb9f3a\"],[0.8888888888888888,\"#fdca26\"],[1.0,\"#f0f921\"]],\"type\":\"histogram2d\"}],\"histogram2dcontour\":[{\"colorbar\":{\"outlinewidth\":0,\"ticks\":\"\"},\"colorscale\":[[0.0,\"#0d0887\"],[0.1111111111111111,\"#46039f\"],[0.2222222222222222,\"#7201a8\"],[0.3333333333333333,\"#9c179e\"],[0.4444444444444444,\"#bd3786\"],[0.5555555555555556,\"#d8576b\"],[0.6666666666666666,\"#ed7953\"],[0.7777777777777778,\"#fb9f3a\"],[0.8888888888888888,\"#fdca26\"],[1.0,\"#f0f921\"]],\"type\":\"histogram2dcontour\"}],\"mesh3d\":[{\"colorbar\":{\"outlinewidth\":0,\"ticks\":\"\"},\"type\":\"mesh3d\"}],\"parcoords\":[{\"line\":{\"colorbar\":{\"outlinewidth\":0,\"ticks\":\"\"}},\"type\":\"parcoords\"}],\"pie\":[{\"automargin\":true,\"type\":\"pie\"}],\"scatter\":[{\"marker\":{\"colorbar\":{\"outlinewidth\":0,\"ticks\":\"\"}},\"type\":\"scatter\"}],\"scatter3d\":[{\"line\":{\"colorbar\":{\"outlinewidth\":0,\"ticks\":\"\"}},\"marker\":{\"colorbar\":{\"outlinewidth\":0,\"ticks\":\"\"}},\"type\":\"scatter3d\"}],\"scattercarpet\":[{\"marker\":{\"colorbar\":{\"outlinewidth\":0,\"ticks\":\"\"}},\"type\":\"scattercarpet\"}],\"scattergeo\":[{\"marker\":{\"colorbar\":{\"outlinewidth\":0,\"ticks\":\"\"}},\"type\":\"scattergeo\"}],\"scattergl\":[{\"marker\":{\"colorbar\":{\"outlinewidth\":0,\"ticks\":\"\"}},\"type\":\"scattergl\"}],\"scattermapbox\":[{\"marker\":{\"colorbar\":{\"outlinewidth\":0,\"ticks\":\"\"}},\"type\":\"scattermapbox\"}],\"scatterpolar\":[{\"marker\":{\"colorbar\":{\"outlinewidth\":0,\"ticks\":\"\"}},\"type\":\"scatterpolar\"}],\"scatterpolargl\":[{\"marker\":{\"colorbar\":{\"outlinewidth\":0,\"ticks\":\"\"}},\"type\":\"scatterpolargl\"}],\"scatterternary\":[{\"marker\":{\"colorbar\":{\"outlinewidth\":0,\"ticks\":\"\"}},\"type\":\"scatterternary\"}],\"surface\":[{\"colorbar\":{\"outlinewidth\":0,\"ticks\":\"\"},\"colorscale\":[[0.0,\"#0d0887\"],[0.1111111111111111,\"#46039f\"],[0.2222222222222222,\"#7201a8\"],[0.3333333333333333,\"#9c179e\"],[0.4444444444444444,\"#bd3786\"],[0.5555555555555556,\"#d8576b\"],[0.6666666666666666,\"#ed7953\"],[0.7777777777777778,\"#fb9f3a\"],[0.8888888888888888,\"#fdca26\"],[1.0,\"#f0f921\"]],\"type\":\"surface\"}],\"table\":[{\"cells\":{\"fill\":{\"color\":\"#EBF0F8\"},\"line\":{\"color\":\"white\"}},\"header\":{\"fill\":{\"color\":\"#C8D4E3\"},\"line\":{\"color\":\"white\"}},\"type\":\"table\"}]},\"layout\":{\"annotationdefaults\":{\"arrowcolor\":\"#2a3f5f\",\"arrowhead\":0,\"arrowwidth\":1},\"autotypenumbers\":\"strict\",\"coloraxis\":{\"colorbar\":{\"outlinewidth\":0,\"ticks\":\"\"}},\"colorscale\":{\"diverging\":[[0,\"#8e0152\"],[0.1,\"#c51b7d\"],[0.2,\"#de77ae\"],[0.3,\"#f1b6da\"],[0.4,\"#fde0ef\"],[0.5,\"#f7f7f7\"],[0.6,\"#e6f5d0\"],[0.7,\"#b8e186\"],[0.8,\"#7fbc41\"],[0.9,\"#4d9221\"],[1,\"#276419\"]],\"sequential\":[[0.0,\"#0d0887\"],[0.1111111111111111,\"#46039f\"],[0.2222222222222222,\"#7201a8\"],[0.3333333333333333,\"#9c179e\"],[0.4444444444444444,\"#bd3786\"],[0.5555555555555556,\"#d8576b\"],[0.6666666666666666,\"#ed7953\"],[0.7777777777777778,\"#fb9f3a\"],[0.8888888888888888,\"#fdca26\"],[1.0,\"#f0f921\"]],\"sequentialminus\":[[0.0,\"#0d0887\"],[0.1111111111111111,\"#46039f\"],[0.2222222222222222,\"#7201a8\"],[0.3333333333333333,\"#9c179e\"],[0.4444444444444444,\"#bd3786\"],[0.5555555555555556,\"#d8576b\"],[0.6666666666666666,\"#ed7953\"],[0.7777777777777778,\"#fb9f3a\"],[0.8888888888888888,\"#fdca26\"],[1.0,\"#f0f921\"]]},\"colorway\":[\"#636efa\",\"#EF553B\",\"#00cc96\",\"#ab63fa\",\"#FFA15A\",\"#19d3f3\",\"#FF6692\",\"#B6E880\",\"#FF97FF\",\"#FECB52\"],\"font\":{\"color\":\"#2a3f5f\"},\"geo\":{\"bgcolor\":\"white\",\"lakecolor\":\"white\",\"landcolor\":\"#E5ECF6\",\"showlakes\":true,\"showland\":true,\"subunitcolor\":\"white\"},\"hoverlabel\":{\"align\":\"left\"},\"hovermode\":\"closest\",\"mapbox\":{\"style\":\"light\"},\"paper_bgcolor\":\"white\",\"plot_bgcolor\":\"#E5ECF6\",\"polar\":{\"angularaxis\":{\"gridcolor\":\"white\",\"linecolor\":\"white\",\"ticks\":\"\"},\"bgcolor\":\"#E5ECF6\",\"radialaxis\":{\"gridcolor\":\"white\",\"linecolor\":\"white\",\"ticks\":\"\"}},\"scene\":{\"xaxis\":{\"backgroundcolor\":\"#E5ECF6\",\"gridcolor\":\"white\",\"gridwidth\":2,\"linecolor\":\"white\",\"showbackground\":true,\"ticks\":\"\",\"zerolinecolor\":\"white\"},\"yaxis\":{\"backgroundcolor\":\"#E5ECF6\",\"gridcolor\":\"white\",\"gridwidth\":2,\"linecolor\":\"white\",\"showbackground\":true,\"ticks\":\"\",\"zerolinecolor\":\"white\"},\"zaxis\":{\"backgroundcolor\":\"#E5ECF6\",\"gridcolor\":\"white\",\"gridwidth\":2,\"linecolor\":\"white\",\"showbackground\":true,\"ticks\":\"\",\"zerolinecolor\":\"white\"}},\"shapedefaults\":{\"line\":{\"color\":\"#2a3f5f\"}},\"ternary\":{\"aaxis\":{\"gridcolor\":\"white\",\"linecolor\":\"white\",\"ticks\":\"\"},\"baxis\":{\"gridcolor\":\"white\",\"linecolor\":\"white\",\"ticks\":\"\"},\"bgcolor\":\"#E5ECF6\",\"caxis\":{\"gridcolor\":\"white\",\"linecolor\":\"white\",\"ticks\":\"\"}},\"title\":{\"x\":0.05},\"xaxis\":{\"automargin\":true,\"gridcolor\":\"white\",\"linecolor\":\"white\",\"ticks\":\"\",\"title\":{\"standoff\":15},\"zerolinecolor\":\"white\",\"zerolinewidth\":2},\"yaxis\":{\"automargin\":true,\"gridcolor\":\"white\",\"linecolor\":\"white\",\"ticks\":\"\",\"title\":{\"standoff\":15},\"zerolinecolor\":\"white\",\"zerolinewidth\":2}}},\"legend\":{\"tracegroupgap\":0},\"title\":{\"text\":\"Motivo principal para n\\u00e3o investimento entre Jovens de 18 a 35 anos\"}},                        {\"responsive\": true}                    ).then(function(){\n",
       "                            \n",
       "var gd = document.getElementById('cf2e6adb-65fa-43fe-abb3-96fc65f03061');\n",
       "var x = new MutationObserver(function (mutations, observer) {{\n",
       "        var display = window.getComputedStyle(gd).display;\n",
       "        if (!display || display === 'none') {{\n",
       "            console.log([gd, 'removed!']);\n",
       "            Plotly.purge(gd);\n",
       "            observer.disconnect();\n",
       "        }}\n",
       "}});\n",
       "\n",
       "// Listen for the removal of the full notebook cells\n",
       "var notebookContainer = gd.closest('#notebook-container');\n",
       "if (notebookContainer) {{\n",
       "    x.observe(notebookContainer, {childList: true});\n",
       "}}\n",
       "\n",
       "// Listen for the clearing of the current output cell\n",
       "var outputEl = gd.closest('.output');\n",
       "if (outputEl) {{\n",
       "    x.observe(outputEl, {childList: true});\n",
       "}}\n",
       "\n",
       "                        })                };                });            </script>        </div>"
      ]
     },
     "metadata": {},
     "output_type": "display_data"
    }
   ],
   "source": [
    "motivo_nao_investe = Rótulo['Motivo principal para não investimento']\n",
    "motivo_nao_investe.dropna(inplace = True)\n",
    "outras_respostas_motivo = ['POR NÃO TER IDADE/ TER MENOS QUE 18 ANOS', 'Outras ref. condições financeiras', 'Não achou nenhum investimento que interessasse', 'Crise política/ incerteza no novo governo/  falta de confiança', 'Não achou necessário', 'Falta de organização/ não conseguiu economizar', 'Falta de tempo/ oportunidade', 'RECUSA/ NÃO RESPONDEU', 'NÃO SABE', 'MOTIVO PARTICULAR/ PESSOAL', 'BAIXO RENDIMENTO/ NÃO VALE A PENA INVESTIR', 'Insegurança/ medo de não dar certo', 'FALTA DE PLANEJAMENTO', 'Inflação/ alta dos preços/ custo de vida (água/ luz)', 'Crise/ instabilidade econômica', 'TER OUTRAS PRIORIDADES (investiu na casa/ na empresa/ agrícola)', 'Não teve interesse em fazer/ não quis fazer', 'FALTA DE CONHECIMENTO/ INFORMAÇÕES']\n",
    "selecao_3 = motivo_nao_investe.isin(outras_respostas_motivo)\n",
    "motivo_nao_investe[selecao_3] = 'OUTRAS RESPOSTAS'\n",
    "\n",
    "# Gráfico 4\n",
    "fig = px.pie(Rótulo, names='Motivo principal para não investimento', title='Motivo principal para não investimento entre Jovens de 18 a 35 anos', \n",
    "             color='Motivo principal para não investimento', \n",
    "             color_discrete_map={'Falta de dinheiro/ salário baixo/ sem condições/ falta de capital':'#150035', \n",
    "                                 'OUTRAS RESPOSTAS': '#5E96EC',\n",
    "                                 'Desemprego/ não tem emprego fixo/ sem renda': '#FDE443',\n",
    "                                 'Teve outros gastos (doença/ ajudou parentes/ contas para pagar/ dívidas/ viagem/ festas/ compras/ estudos/ saúde)':'E1EEE5'})\n",
    "fig.show()"
   ]
  },
  {
   "cell_type": "code",
   "execution_count": null,
   "metadata": {},
   "outputs": [],
   "source": []
  },
  {
   "cell_type": "code",
   "execution_count": null,
   "metadata": {},
   "outputs": [],
   "source": []
  }
 ],
 "metadata": {
  "kernelspec": {
   "display_name": "Python 3",
   "language": "python",
   "name": "python3"
  },
  "language_info": {
   "codemirror_mode": {
    "name": "ipython",
    "version": 3
   },
   "file_extension": ".py",
   "mimetype": "text/x-python",
   "name": "python",
   "nbconvert_exporter": "python",
   "pygments_lexer": "ipython3",
   "version": "3.8.3"
  }
 },
 "nbformat": 4,
 "nbformat_minor": 5
}
